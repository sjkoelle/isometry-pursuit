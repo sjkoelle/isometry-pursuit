{
 "cells": [
  {
   "cell_type": "code",
   "execution_count": 1,
   "id": "401aecb1",
   "metadata": {},
   "outputs": [
    {
     "ename": "ModuleNotFoundError",
     "evalue": "No module named 'convexlocalisometry'",
     "output_type": "error",
     "traceback": [
      "\u001b[0;31m---------------------------------------------------------------------------\u001b[0m",
      "\u001b[0;31mModuleNotFoundError\u001b[0m                       Traceback (most recent call last)",
      "Cell \u001b[0;32mIn[1], line 2\u001b[0m\n\u001b[1;32m      1\u001b[0m \u001b[38;5;66;03m# now i want to check (high dimensional) versions of g() and isometry_loss from the package\u001b[39;00m\n\u001b[0;32m----> 2\u001b[0m \u001b[38;5;28;01mfrom\u001b[39;00m \u001b[38;5;21;01mconvexlocalisometry\u001b[39;00m\u001b[38;5;21;01m.\u001b[39;00m\u001b[38;5;21;01mtransformation\u001b[39;00m \u001b[38;5;28;01mimport\u001b[39;00m exponential_transformation\n\u001b[1;32m      3\u001b[0m \u001b[38;5;28;01mfrom\u001b[39;00m \u001b[38;5;21;01mconvexlocalisometry\u001b[39;00m\u001b[38;5;21;01m.\u001b[39;00m\u001b[38;5;21;01mloss\u001b[39;00m \u001b[38;5;28;01mimport\u001b[39;00m isometry_loss\n\u001b[1;32m      4\u001b[0m \u001b[38;5;28;01mfrom\u001b[39;00m \u001b[38;5;21;01meinops\u001b[39;00m \u001b[38;5;28;01mimport\u001b[39;00m rearrange\n",
      "\u001b[0;31mModuleNotFoundError\u001b[0m: No module named 'convexlocalisometry'"
     ]
    }
   ],
   "source": [
    "# now i want to check (high dimensional) versions of g() and isometry_loss from the package\n",
    "from convexlocalisometry.transformation import exponential_transformation\n",
    "from convexlocalisometry.loss import isometry_loss\n",
    "from einops import rearrange\n",
    "\n",
    "power = .5\n",
    "rearranged_matrix_values = rearrange(matrix_values, 'n -> n 1 1')\n",
    "length_values = [exponential_transformation(rmv, power)[0][0] for rmv in rearranged_matrix_values]\n",
    "loss_values_isometry = [isometry_loss(rmv, power) for rmv in rearranged_matrix_values]\n",
    "basis_pursuit_losses = np.asarray(length_values)**(-1)\n",
    "# Plot the function\n",
    "fig, ax = plt.subplots(1,1,figsize=(8, 6))\n",
    "ax.plot(matrix_values, length_values, color='blue')\n",
    "ax.axhline(0, color='black', linewidth=0.5)\n",
    "ax.axvline(0, color='black', linewidth=0.5)\n",
    "ax.grid(color='gray', linestyle='--', linewidth=0.5)\n",
    "ax.set_title('Length transformation')\n",
    "ax.set_ylabel(r'$\\frac{1}{e^t + e^{1/t}}$', fontsize = 40) # log concave\n",
    "ax.set_xlabel('t')\n",
    "fig.show()\n",
    "\n",
    "fig, ax = plt.subplots(1,1,figsize=(8, 6))\n",
    "ax.plot(matrix_values, basis_pursuit_losses, color = 'blue')\n",
    "# ax.plot(t_values, loss_values_isometry, color='blue')\n",
    "ax.axhline(0, color='black', linewidth=0.5)\n",
    "ax.axvline(0, color='black', linewidth=0.5)\n",
    "ax.grid(color='gray', linestyle='--', linewidth=0.5)\n",
    "ax.set_title('Basis pursuit loss')\n",
    "ax.set_ylim(0,10)\n",
    "ax.set_xlabel('t')\n",
    "fig.show()\n",
    "\n",
    "fig, ax = plt.subplots(1,1,figsize=(8, 6))\n",
    "ax.plot(matrix_values, loss_values_isometry, color = 'blue')\n",
    "# ax.plot(t_values, loss_values_isometry, color='blue')\n",
    "ax.axhline(0, color='black', linewidth=0.5)\n",
    "ax.axvline(0, color='black', linewidth=0.5)\n",
    "ax.grid(color='gray', linestyle='--', linewidth=0.5)\n",
    "ax.set_title('isometry loss')\n",
    "ax.set_ylim(0,10)\n",
    "ax.set_xlabel('t')\n",
    "fig.show()\n"
   ]
  },
  {
   "cell_type": "code",
   "execution_count": null,
   "id": "2276665d",
   "metadata": {},
   "outputs": [],
   "source": []
  }
 ],
 "metadata": {
  "kernelspec": {
   "display_name": "isometry",
   "language": "python",
   "name": "isometry"
  },
  "language_info": {
   "codemirror_mode": {
    "name": "ipython",
    "version": 3
   },
   "file_extension": ".py",
   "mimetype": "text/x-python",
   "name": "python",
   "nbconvert_exporter": "python",
   "pygments_lexer": "ipython3",
   "version": "3.10.14"
  }
 },
 "nbformat": 4,
 "nbformat_minor": 5
}

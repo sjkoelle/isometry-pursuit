{
 "cells": [
  {
   "cell_type": "code",
   "execution_count": 4,
   "id": "ccb12791",
   "metadata": {},
   "outputs": [
    {
     "name": "stdout",
     "output_type": "stream",
     "text": [
      "The autoreload extension is already loaded. To reload it, use:\n",
      "  %reload_ext autoreload\n"
     ]
    }
   ],
   "source": [
    "%load_ext autoreload\n",
    "%autoreload 2\n",
    "import sklearn\n",
    "from sklearn.datasets import load_wine, load_iris\n",
    "import seaborn as sns\n",
    "import pandas as pd\n",
    "from sklearn.preprocessing import StandardScaler\n",
    "\n",
    "from einops import rearrange\n",
    "import numpy as np\n",
    "import matplotlib.pyplot as plt\n",
    "\n",
    "from isometry_pursuit.experiment import run_resampling_experiment\n",
    "from isometry_pursuit.plot import box_plot\n",
    "\n",
    "\n",
    "import random\n",
    "\n",
    "np.random.seed(1234)\n",
    "random.seed(1234)"
   ]
  },
  {
   "cell_type": "code",
   "execution_count": 5,
   "id": "84f25dbd",
   "metadata": {},
   "outputs": [
    {
     "name": "stdout",
     "output_type": "stream",
     "text": [
      "D_wine = 13\n",
      "features = ['alcohol', 'malic_acid', 'ash', 'alcalinity_of_ash', 'magnesium', 'total_phenols', 'flavanoids', 'nonflavanoid_phenols', 'proanthocyanins', 'color_intensity', 'hue', 'od280/od315_of_diluted_wines', 'proline']\n",
      "P_wine = 178\n",
      "D_iris 4\n",
      "features = ['sepal length (cm)', 'sepal width (cm)', 'petal length (cm)', 'petal width (cm)']\n",
      "P_iris 150\n"
     ]
    }
   ],
   "source": [
    "# vary C show results\n",
    "wine = load_wine()\n",
    "P_wine, _ = wine['data'].shape\n",
    "D_wine = 13\n",
    "print(f\"D_wine = {D_wine}\")\n",
    "print(f\"features = {wine['feature_names']}\")\n",
    "print(f\"P_wine = {P_wine}\")\n",
    "\n",
    "wine_df = pd.DataFrame(data= wine['data'][:,:D_wine], columns = wine['feature_names'][:D_wine]) # label with class names?\n",
    "scaler = StandardScaler()\n",
    "wine_standardized = pd.DataFrame(data = scaler.fit_transform(wine['data']), columns = wine['feature_names'])\n",
    "\n",
    "iris = load_iris()\n",
    "P_iris, D_iris = iris['data'].shape\n",
    "\n",
    "print(\"D_iris\", D_iris)\n",
    "print(f\"features = {iris['feature_names']}\")\n",
    "print(\"P_iris\", P_iris)\n",
    "iris_df = pd.DataFrame(data= iris['data'], columns = iris['feature_names'])\n",
    "\n",
    "scaler = StandardScaler()\n",
    "iris_standardized = pd.DataFrame(data = scaler.fit_transform(iris['data']), columns = iris['feature_names'])"
   ]
  },
  {
   "cell_type": "code",
   "execution_count": 6,
   "id": "315f28ad",
   "metadata": {},
   "outputs": [
    {
     "name": "stdout",
     "output_type": "stream",
     "text": [
      "these are standarized to square root P\n",
      "[12.24744871 12.24744871 12.24744871 12.24744871]\n",
      "[13.34166406 13.34166406 13.34166406 13.34166406 13.34166406 13.34166406\n",
      " 13.34166406 13.34166406 13.34166406 13.34166406 13.34166406 13.34166406\n",
      " 13.34166406]\n"
     ]
    }
   ],
   "source": [
    "print(\"these are standarized to square root P\")\n",
    "print(np.linalg.norm(iris_standardized, axis = 0))\n",
    "print(np.linalg.norm(wine_standardized, axis = 0))"
   ]
  },
  {
   "cell_type": "code",
   "execution_count": 7,
   "id": "447457e7",
   "metadata": {},
   "outputs": [],
   "source": [
    "# fig, axs = plt.subplots(2, 2, figsize=(12, 10))\n",
    "\n",
    "# # Plot for Iris dataset\n",
    "# axs[0, 0].hist(np.linalg.norm(iris_df, axis=1), bins=20, alpha=0.7, color='blue')\n",
    "# axs[0, 0].set_title(\"Norms of Iris Dataset\")\n",
    "\n",
    "# # Plot for Wine dataset\n",
    "# axs[0, 1].hist(np.linalg.norm(wine_df, axis=1), bins=20, alpha=0.7, color='green')\n",
    "# axs[0, 1].set_title(\"Norms of Wine Dataset\")\n",
    "\n",
    "# # Plot for Standardized Iris dataset\n",
    "# axs[1, 0].hist(np.linalg.norm(iris_standardized, axis=1), bins=20, alpha=0.7, color='red')\n",
    "# axs[1, 0].set_title(\"Norms of Standardized Iris Dataset\")\n",
    "\n",
    "# # Plot for Standardized Wine dataset\n",
    "# axs[1, 1].hist(np.linalg.norm(wine_standardized, axis=1), bins=20, alpha=0.7, color='purple')\n",
    "# axs[1, 1].set_title(\"Norms of Standardized Wine Dataset\")\n",
    "\n",
    "# # Adding overall labels and adjusting layout\n",
    "# for ax in axs.flat:\n",
    "#     ax.set_xlabel('Norm Values')\n",
    "#     ax.set_ylabel('Frequency')\n",
    "\n",
    "# plt.tight_layout()\n",
    "# plt.show()"
   ]
  },
  {
   "cell_type": "code",
   "execution_count": 12,
   "id": "d4f78379",
   "metadata": {},
   "outputs": [
    {
     "name": "stdout",
     "output_type": "stream",
     "text": [
      "Analyzing two stage effectiveness against brute\n",
      "here\n",
      "greedy []\n",
      "greedy [60]\n",
      "greedy [60, 13]\n",
      "greedy [60, 13, 31]\n",
      "greedy [60, 13, 31, 0]\n",
      "Brute force complexity 35 from D=4 and nbp=7\n",
      "Computing brute force solution for dictionary dimension 7 and target_dimension 4\n"
     ]
    },
    {
     "name": "stderr",
     "output_type": "stream",
     "text": [
      "35it [00:00, 24949.12it/s]\n"
     ]
    },
    {
     "name": "stdout",
     "output_type": "stream",
     "text": [
      "Computing brute force solution for dictionary dimension 7 and target_dimension 4\n"
     ]
    },
    {
     "name": "stderr",
     "output_type": "stream",
     "text": [
      "35it [00:00, 16084.22it/s]"
     ]
    },
    {
     "name": "stdout",
     "output_type": "stream",
     "text": [
      "stage two time 0.003919839859008789\n",
      "greedy time 0.012161016464233398\n",
      "basis pursuit time 1.2700450420379639\n",
      "here\n",
      "greedy []\n",
      "greedy [72]\n",
      "greedy [72, 16]\n",
      "greedy [72, 16, 69]\n",
      "greedy [72, 16, 69, 28]\n"
     ]
    },
    {
     "name": "stderr",
     "output_type": "stream",
     "text": [
      "\n"
     ]
    },
    {
     "name": "stdout",
     "output_type": "stream",
     "text": [
      "Brute force complexity 15 from D=4 and nbp=6\n",
      "Computing brute force solution for dictionary dimension 6 and target_dimension 4\n"
     ]
    },
    {
     "name": "stderr",
     "output_type": "stream",
     "text": [
      "15it [00:00, 12876.50it/s]\n"
     ]
    },
    {
     "name": "stdout",
     "output_type": "stream",
     "text": [
      "Computing brute force solution for dictionary dimension 6 and target_dimension 4\n"
     ]
    },
    {
     "name": "stderr",
     "output_type": "stream",
     "text": [
      "15it [00:00, 11618.57it/s]"
     ]
    },
    {
     "name": "stdout",
     "output_type": "stream",
     "text": [
      "stage two time 0.0030829906463623047\n",
      "greedy time 0.016339778900146484\n",
      "basis pursuit time 1.2469351291656494\n",
      "here\n",
      "greedy []\n",
      "greedy [14]\n",
      "greedy [14, 15]\n",
      "greedy [14, 15, 34]\n",
      "greedy [14, 15, 34, 70]\n"
     ]
    },
    {
     "name": "stderr",
     "output_type": "stream",
     "text": [
      "\n"
     ]
    },
    {
     "name": "stdout",
     "output_type": "stream",
     "text": [
      "Brute force complexity 70 from D=4 and nbp=8\n",
      "Computing brute force solution for dictionary dimension 8 and target_dimension 4\n"
     ]
    },
    {
     "name": "stderr",
     "output_type": "stream",
     "text": [
      "70it [00:00, 25557.21it/s]\n"
     ]
    },
    {
     "name": "stdout",
     "output_type": "stream",
     "text": [
      "Computing brute force solution for dictionary dimension 8 and target_dimension 4\n"
     ]
    },
    {
     "name": "stderr",
     "output_type": "stream",
     "text": [
      "70it [00:00, 16028.90it/s]"
     ]
    },
    {
     "name": "stdout",
     "output_type": "stream",
     "text": [
      "stage two time 0.004395961761474609\n",
      "greedy time 0.018052101135253906\n",
      "basis pursuit time 1.216994047164917\n",
      "here\n",
      "greedy []\n",
      "greedy [63]\n",
      "greedy [63, 12]\n",
      "greedy [63, 12, 9]\n",
      "greedy [63, 12, 9, 26]\n"
     ]
    },
    {
     "name": "stderr",
     "output_type": "stream",
     "text": [
      "\n"
     ]
    },
    {
     "name": "stdout",
     "output_type": "stream",
     "text": [
      "Brute force complexity 5 from D=4 and nbp=5\n",
      "Computing brute force solution for dictionary dimension 5 and target_dimension 4\n"
     ]
    },
    {
     "name": "stderr",
     "output_type": "stream",
     "text": [
      "5it [00:00, 9786.06it/s]\n"
     ]
    },
    {
     "name": "stdout",
     "output_type": "stream",
     "text": [
      "Computing brute force solution for dictionary dimension 5 and target_dimension 4\n"
     ]
    },
    {
     "name": "stderr",
     "output_type": "stream",
     "text": [
      "5it [00:00, 5974.79it/s]"
     ]
    },
    {
     "name": "stdout",
     "output_type": "stream",
     "text": [
      "stage two time 0.0023169517517089844\n",
      "greedy time 0.013769149780273438\n",
      "basis pursuit time 1.2004280090332031\n",
      "here\n",
      "greedy []\n",
      "greedy [67]\n",
      "greedy [67, 63]\n",
      "greedy [67, 63, 30]\n",
      "greedy [67, 63, 30, 35]\n"
     ]
    },
    {
     "name": "stderr",
     "output_type": "stream",
     "text": [
      "\n"
     ]
    },
    {
     "name": "stdout",
     "output_type": "stream",
     "text": [
      "Brute force complexity 70 from D=4 and nbp=8\n",
      "Computing brute force solution for dictionary dimension 8 and target_dimension 4\n"
     ]
    },
    {
     "name": "stderr",
     "output_type": "stream",
     "text": [
      "70it [00:00, 20576.16it/s]\n"
     ]
    },
    {
     "name": "stdout",
     "output_type": "stream",
     "text": [
      "Computing brute force solution for dictionary dimension 8 and target_dimension 4\n"
     ]
    },
    {
     "name": "stderr",
     "output_type": "stream",
     "text": [
      "70it [00:00, 21504.53it/s]"
     ]
    },
    {
     "name": "stdout",
     "output_type": "stream",
     "text": [
      "stage two time 0.006093025207519531\n",
      "greedy time 0.01902008056640625\n",
      "basis pursuit time 1.1923551559448242\n",
      "here\n",
      "greedy []\n",
      "greedy [65]\n",
      "greedy [65, 71]\n",
      "greedy [65, 71, 7]\n",
      "greedy [65, 71, 7, 2]\n"
     ]
    },
    {
     "name": "stderr",
     "output_type": "stream",
     "text": [
      "\n"
     ]
    },
    {
     "name": "stdout",
     "output_type": "stream",
     "text": [
      "Brute force complexity 70 from D=4 and nbp=8\n",
      "Computing brute force solution for dictionary dimension 8 and target_dimension 4\n"
     ]
    },
    {
     "name": "stderr",
     "output_type": "stream",
     "text": [
      "70it [00:00, 24983.09it/s]\n"
     ]
    },
    {
     "name": "stdout",
     "output_type": "stream",
     "text": [
      "Computing brute force solution for dictionary dimension 8 and target_dimension 4\n"
     ]
    },
    {
     "name": "stderr",
     "output_type": "stream",
     "text": [
      "70it [00:00, 17282.86it/s]"
     ]
    },
    {
     "name": "stdout",
     "output_type": "stream",
     "text": [
      "stage two time 0.004425048828125\n",
      "greedy time 0.015231847763061523\n",
      "basis pursuit time 1.359929084777832\n",
      "here\n",
      "greedy []\n",
      "greedy [17]\n",
      "greedy [17, 71]\n",
      "greedy [17, 71, 18]\n",
      "greedy [17, 71, 18, 6]\n"
     ]
    },
    {
     "name": "stderr",
     "output_type": "stream",
     "text": [
      "\n"
     ]
    },
    {
     "name": "stdout",
     "output_type": "stream",
     "text": [
      "Brute force complexity 70 from D=4 and nbp=8\n",
      "Computing brute force solution for dictionary dimension 8 and target_dimension 4\n"
     ]
    },
    {
     "name": "stderr",
     "output_type": "stream",
     "text": [
      "70it [00:00, 24620.65it/s]\n"
     ]
    },
    {
     "name": "stdout",
     "output_type": "stream",
     "text": [
      "Computing brute force solution for dictionary dimension 8 and target_dimension 4\n"
     ]
    },
    {
     "name": "stderr",
     "output_type": "stream",
     "text": [
      "70it [00:00, 21842.08it/s]"
     ]
    },
    {
     "name": "stdout",
     "output_type": "stream",
     "text": [
      "stage two time 0.004281282424926758\n",
      "greedy time 0.012563943862915039\n",
      "basis pursuit time 1.240036964416504\n",
      "here\n",
      "greedy []\n",
      "greedy [25]\n",
      "greedy [25, 31]\n",
      "greedy [25, 31, 46]\n",
      "greedy [25, 31, 46, 69]\n"
     ]
    },
    {
     "name": "stderr",
     "output_type": "stream",
     "text": [
      "\n"
     ]
    },
    {
     "name": "stdout",
     "output_type": "stream",
     "text": [
      "Brute force complexity 5 from D=4 and nbp=5\n",
      "Computing brute force solution for dictionary dimension 5 and target_dimension 4\n"
     ]
    },
    {
     "name": "stderr",
     "output_type": "stream",
     "text": [
      "5it [00:00, 13400.33it/s]\n"
     ]
    },
    {
     "name": "stdout",
     "output_type": "stream",
     "text": [
      "Computing brute force solution for dictionary dimension 5 and target_dimension 4\n"
     ]
    },
    {
     "name": "stderr",
     "output_type": "stream",
     "text": [
      "5it [00:00, 6551.55it/s]"
     ]
    },
    {
     "name": "stdout",
     "output_type": "stream",
     "text": [
      "stage two time 0.0023279190063476562\n",
      "greedy time 0.013891935348510742\n",
      "basis pursuit time 1.3130488395690918\n",
      "here\n",
      "greedy []\n",
      "greedy [63]\n",
      "greedy [63, 22]\n",
      "greedy [63, 22, 4]\n",
      "greedy [63, 22, 4, 41]\n"
     ]
    },
    {
     "name": "stderr",
     "output_type": "stream",
     "text": [
      "\n"
     ]
    },
    {
     "name": "stdout",
     "output_type": "stream",
     "text": [
      "Brute force complexity 15 from D=4 and nbp=6\n",
      "Computing brute force solution for dictionary dimension 6 and target_dimension 4\n"
     ]
    },
    {
     "name": "stderr",
     "output_type": "stream",
     "text": [
      "15it [00:00, 13674.11it/s]\n"
     ]
    },
    {
     "name": "stdout",
     "output_type": "stream",
     "text": [
      "Computing brute force solution for dictionary dimension 6 and target_dimension 4\n"
     ]
    },
    {
     "name": "stderr",
     "output_type": "stream",
     "text": [
      "15it [00:00, 10468.31it/s]"
     ]
    },
    {
     "name": "stdout",
     "output_type": "stream",
     "text": [
      "stage two time 0.003484964370727539\n",
      "greedy time 0.01904606819152832\n",
      "basis pursuit time 1.3960399627685547\n",
      "here\n",
      "greedy []\n",
      "greedy [31]\n",
      "greedy [31, 33]\n",
      "greedy [31, 33, 8]\n",
      "greedy [31, 33, 8, 12]\n"
     ]
    },
    {
     "name": "stderr",
     "output_type": "stream",
     "text": [
      "\n"
     ]
    },
    {
     "name": "stdout",
     "output_type": "stream",
     "text": [
      "Brute force complexity 15 from D=4 and nbp=6\n",
      "Computing brute force solution for dictionary dimension 6 and target_dimension 4\n"
     ]
    },
    {
     "name": "stderr",
     "output_type": "stream",
     "text": [
      "15it [00:00, 8631.44it/s]\n"
     ]
    },
    {
     "name": "stdout",
     "output_type": "stream",
     "text": [
      "Computing brute force solution for dictionary dimension 6 and target_dimension 4\n"
     ]
    },
    {
     "name": "stderr",
     "output_type": "stream",
     "text": [
      "15it [00:00, 13454.78it/s]"
     ]
    },
    {
     "name": "stdout",
     "output_type": "stream",
     "text": [
      "stage two time 0.004424095153808594\n",
      "greedy time 0.015026330947875977\n",
      "basis pursuit time 1.4461770057678223\n",
      "here\n",
      "greedy []\n",
      "greedy [47]\n",
      "greedy [47, 42]\n",
      "greedy [47, 42, 30]\n",
      "greedy [47, 42, 30, 39]\n"
     ]
    },
    {
     "name": "stderr",
     "output_type": "stream",
     "text": [
      "\n"
     ]
    },
    {
     "name": "stdout",
     "output_type": "stream",
     "text": [
      "Brute force complexity 35 from D=4 and nbp=7\n",
      "Computing brute force solution for dictionary dimension 7 and target_dimension 4\n"
     ]
    },
    {
     "name": "stderr",
     "output_type": "stream",
     "text": [
      "35it [00:00, 23272.14it/s]\n"
     ]
    },
    {
     "name": "stdout",
     "output_type": "stream",
     "text": [
      "Computing brute force solution for dictionary dimension 7 and target_dimension 4\n"
     ]
    },
    {
     "name": "stderr",
     "output_type": "stream",
     "text": [
      "35it [00:00, 24006.65it/s]"
     ]
    },
    {
     "name": "stdout",
     "output_type": "stream",
     "text": [
      "stage two time 0.0033617019653320312\n",
      "greedy time 0.017168760299682617\n",
      "basis pursuit time 1.4796578884124756\n",
      "here\n",
      "greedy []\n",
      "greedy [27]\n",
      "greedy [27, 71]\n",
      "greedy [27, 71, 26]\n",
      "greedy [27, 71, 26, 45]\n"
     ]
    },
    {
     "name": "stderr",
     "output_type": "stream",
     "text": [
      "\n"
     ]
    },
    {
     "name": "stdout",
     "output_type": "stream",
     "text": [
      "Brute force complexity 5 from D=4 and nbp=5\n",
      "Computing brute force solution for dictionary dimension 5 and target_dimension 4\n"
     ]
    },
    {
     "name": "stderr",
     "output_type": "stream",
     "text": [
      "5it [00:00, 11625.01it/s]\n"
     ]
    },
    {
     "name": "stdout",
     "output_type": "stream",
     "text": [
      "Computing brute force solution for dictionary dimension 5 and target_dimension 4\n"
     ]
    },
    {
     "name": "stderr",
     "output_type": "stream",
     "text": [
      "5it [00:00, 16723.70it/s]"
     ]
    },
    {
     "name": "stdout",
     "output_type": "stream",
     "text": [
      "stage two time 0.002315044403076172\n",
      "greedy time 0.01455998420715332\n",
      "basis pursuit time 1.4960730075836182\n",
      "here\n",
      "greedy []\n",
      "greedy [65]\n",
      "greedy [65, 56]\n",
      "greedy [65, 56, 14]\n",
      "greedy [65, 56, 14, 25]\n"
     ]
    },
    {
     "name": "stderr",
     "output_type": "stream",
     "text": [
      "\n"
     ]
    },
    {
     "name": "stdout",
     "output_type": "stream",
     "text": [
      "Brute force complexity 70 from D=4 and nbp=8\n",
      "Computing brute force solution for dictionary dimension 8 and target_dimension 4\n"
     ]
    },
    {
     "name": "stderr",
     "output_type": "stream",
     "text": [
      "70it [00:00, 22060.36it/s]\n"
     ]
    },
    {
     "name": "stdout",
     "output_type": "stream",
     "text": [
      "Computing brute force solution for dictionary dimension 8 and target_dimension 4\n"
     ]
    },
    {
     "name": "stderr",
     "output_type": "stream",
     "text": [
      "70it [00:00, 28513.28it/s]"
     ]
    },
    {
     "name": "stdout",
     "output_type": "stream",
     "text": [
      "stage two time 0.005712270736694336\n",
      "greedy time 0.014014959335327148\n",
      "basis pursuit time 1.5407469272613525\n",
      "here\n",
      "greedy []\n",
      "greedy [10]\n",
      "greedy [10, 9]\n",
      "greedy [10, 9, 49]\n",
      "greedy [10, 9, 49, 43]\n"
     ]
    },
    {
     "name": "stderr",
     "output_type": "stream",
     "text": [
      "\n"
     ]
    },
    {
     "name": "stdout",
     "output_type": "stream",
     "text": [
      "Brute force complexity 70 from D=4 and nbp=8\n",
      "Computing brute force solution for dictionary dimension 8 and target_dimension 4\n"
     ]
    },
    {
     "name": "stderr",
     "output_type": "stream",
     "text": [
      "70it [00:00, 25867.95it/s]\n"
     ]
    },
    {
     "name": "stdout",
     "output_type": "stream",
     "text": [
      "Computing brute force solution for dictionary dimension 8 and target_dimension 4\n"
     ]
    },
    {
     "name": "stderr",
     "output_type": "stream",
     "text": [
      "70it [00:00, 28722.49it/s]"
     ]
    },
    {
     "name": "stdout",
     "output_type": "stream",
     "text": [
      "stage two time 0.004431247711181641\n",
      "greedy time 0.01838994026184082\n",
      "basis pursuit time 1.5051119327545166\n",
      "here\n",
      "greedy []\n",
      "greedy [66]\n",
      "greedy [66, 69]\n",
      "greedy [66, 69, 5]\n",
      "greedy [66, 69, 5, 13]\n"
     ]
    },
    {
     "name": "stderr",
     "output_type": "stream",
     "text": [
      "\n"
     ]
    },
    {
     "name": "stdout",
     "output_type": "stream",
     "text": [
      "Brute force complexity 15 from D=4 and nbp=6\n",
      "Computing brute force solution for dictionary dimension 6 and target_dimension 4\n"
     ]
    },
    {
     "name": "stderr",
     "output_type": "stream",
     "text": [
      "15it [00:00, 14679.09it/s]\n"
     ]
    },
    {
     "name": "stdout",
     "output_type": "stream",
     "text": [
      "Computing brute force solution for dictionary dimension 6 and target_dimension 4\n"
     ]
    },
    {
     "name": "stderr",
     "output_type": "stream",
     "text": [
      "15it [00:00, 19204.69it/s]"
     ]
    },
    {
     "name": "stdout",
     "output_type": "stream",
     "text": [
      "stage two time 0.003134012222290039\n",
      "greedy time 0.012508869171142578\n",
      "basis pursuit time 1.366452932357788\n",
      "here\n",
      "greedy []\n",
      "greedy [45]\n",
      "greedy [45, 13]\n",
      "greedy [45, 13, 39]\n",
      "greedy [45, 13, 39, 64]\n"
     ]
    },
    {
     "name": "stderr",
     "output_type": "stream",
     "text": [
      "\n"
     ]
    },
    {
     "name": "stdout",
     "output_type": "stream",
     "text": [
      "Brute force complexity 15 from D=4 and nbp=6\n",
      "Computing brute force solution for dictionary dimension 6 and target_dimension 4\n"
     ]
    },
    {
     "name": "stderr",
     "output_type": "stream",
     "text": [
      "15it [00:00, 15277.94it/s]\n"
     ]
    },
    {
     "name": "stdout",
     "output_type": "stream",
     "text": [
      "Computing brute force solution for dictionary dimension 6 and target_dimension 4\n"
     ]
    },
    {
     "name": "stderr",
     "output_type": "stream",
     "text": [
      "15it [00:00, 8580.82it/s]"
     ]
    },
    {
     "name": "stdout",
     "output_type": "stream",
     "text": [
      "stage two time 0.0025730133056640625\n",
      "greedy time 0.01478886604309082\n",
      "basis pursuit time 1.24294114112854\n",
      "here\n",
      "greedy []\n",
      "greedy [6]\n",
      "greedy [6, 9]\n",
      "greedy [6, 9, 45]\n",
      "greedy [6, 9, 45, 30]\n"
     ]
    },
    {
     "name": "stderr",
     "output_type": "stream",
     "text": [
      "\n"
     ]
    },
    {
     "name": "stdout",
     "output_type": "stream",
     "text": [
      "Brute force complexity 15 from D=4 and nbp=6\n",
      "Computing brute force solution for dictionary dimension 6 and target_dimension 4\n"
     ]
    },
    {
     "name": "stderr",
     "output_type": "stream",
     "text": [
      "15it [00:00, 13635.58it/s]\n"
     ]
    },
    {
     "name": "stdout",
     "output_type": "stream",
     "text": [
      "Computing brute force solution for dictionary dimension 6 and target_dimension 4\n"
     ]
    },
    {
     "name": "stderr",
     "output_type": "stream",
     "text": [
      "15it [00:00, 11424.47it/s]"
     ]
    },
    {
     "name": "stdout",
     "output_type": "stream",
     "text": [
      "stage two time 0.0028231143951416016\n",
      "greedy time 0.013950824737548828\n",
      "basis pursuit time 1.2423179149627686\n",
      "here\n",
      "greedy []\n",
      "greedy [41]\n",
      "greedy [41, 54]\n",
      "greedy [41, 54, 46]\n",
      "greedy [41, 54, 46, 2]\n"
     ]
    },
    {
     "name": "stderr",
     "output_type": "stream",
     "text": [
      "\n"
     ]
    },
    {
     "name": "stdout",
     "output_type": "stream",
     "text": [
      "Brute force complexity 15 from D=4 and nbp=6\n",
      "Computing brute force solution for dictionary dimension 6 and target_dimension 4\n"
     ]
    },
    {
     "name": "stderr",
     "output_type": "stream",
     "text": [
      "15it [00:00, 11346.18it/s]\n"
     ]
    },
    {
     "name": "stdout",
     "output_type": "stream",
     "text": [
      "Computing brute force solution for dictionary dimension 6 and target_dimension 4\n"
     ]
    },
    {
     "name": "stderr",
     "output_type": "stream",
     "text": [
      "15it [00:00, 10400.82it/s]"
     ]
    },
    {
     "name": "stdout",
     "output_type": "stream",
     "text": [
      "stage two time 0.0029151439666748047\n",
      "greedy time 0.013593196868896484\n",
      "basis pursuit time 1.2726969718933105\n",
      "here\n",
      "greedy []\n",
      "greedy [1]\n",
      "greedy [1, 23]\n",
      "greedy [1, 23, 21]\n",
      "greedy [1, 23, 21, 24]\n"
     ]
    },
    {
     "name": "stderr",
     "output_type": "stream",
     "text": [
      "\n"
     ]
    },
    {
     "name": "stdout",
     "output_type": "stream",
     "text": [
      "Brute force complexity 35 from D=4 and nbp=7\n",
      "Computing brute force solution for dictionary dimension 7 and target_dimension 4\n"
     ]
    },
    {
     "name": "stderr",
     "output_type": "stream",
     "text": [
      "35it [00:00, 25799.76it/s]\n"
     ]
    },
    {
     "name": "stdout",
     "output_type": "stream",
     "text": [
      "Computing brute force solution for dictionary dimension 7 and target_dimension 4\n"
     ]
    },
    {
     "name": "stderr",
     "output_type": "stream",
     "text": [
      "35it [00:00, 15391.13it/s]"
     ]
    },
    {
     "name": "stdout",
     "output_type": "stream",
     "text": [
      "stage two time 0.0029718875885009766\n",
      "greedy time 0.013654708862304688\n",
      "basis pursuit time 1.233241081237793\n",
      "here\n",
      "greedy []\n",
      "greedy [57]\n",
      "greedy [57, 42]\n",
      "greedy [57, 42, 22]\n",
      "greedy [57, 42, 22, 27]\n"
     ]
    },
    {
     "name": "stderr",
     "output_type": "stream",
     "text": [
      "\n"
     ]
    },
    {
     "name": "stdout",
     "output_type": "stream",
     "text": [
      "Brute force complexity 35 from D=4 and nbp=7\n",
      "Computing brute force solution for dictionary dimension 7 and target_dimension 4\n"
     ]
    },
    {
     "name": "stderr",
     "output_type": "stream",
     "text": [
      "35it [00:00, 20187.11it/s]\n"
     ]
    },
    {
     "name": "stdout",
     "output_type": "stream",
     "text": [
      "Computing brute force solution for dictionary dimension 7 and target_dimension 4\n"
     ]
    },
    {
     "name": "stderr",
     "output_type": "stream",
     "text": [
      "35it [00:00, 17362.58it/s]"
     ]
    },
    {
     "name": "stdout",
     "output_type": "stream",
     "text": [
      "stage two time 0.003612995147705078\n",
      "greedy time 0.013043880462646484\n",
      "basis pursuit time 1.2125780582427979\n",
      "here\n",
      "greedy []\n",
      "greedy [36]\n",
      "greedy [36, 17]\n",
      "greedy [36, 17, 71]\n",
      "greedy [36, 17, 71, 18]\n"
     ]
    },
    {
     "name": "stderr",
     "output_type": "stream",
     "text": [
      "\n"
     ]
    },
    {
     "name": "stdout",
     "output_type": "stream",
     "text": [
      "Brute force complexity 70 from D=4 and nbp=8\n",
      "Computing brute force solution for dictionary dimension 8 and target_dimension 4\n"
     ]
    },
    {
     "name": "stderr",
     "output_type": "stream",
     "text": [
      "70it [00:00, 17114.62it/s]\n"
     ]
    },
    {
     "name": "stdout",
     "output_type": "stream",
     "text": [
      "Computing brute force solution for dictionary dimension 8 and target_dimension 4\n"
     ]
    },
    {
     "name": "stderr",
     "output_type": "stream",
     "text": [
      "70it [00:00, 24900.46it/s]"
     ]
    },
    {
     "name": "stdout",
     "output_type": "stream",
     "text": [
      "stage two time 0.006412029266357422\n",
      "greedy time 0.013336181640625\n",
      "basis pursuit time 1.421595811843872\n",
      "here\n",
      "greedy []\n",
      "greedy [16]\n",
      "greedy [16, 55]\n",
      "greedy [16, 55, 52]\n",
      "greedy [16, 55, 52, 30]\n"
     ]
    },
    {
     "name": "stderr",
     "output_type": "stream",
     "text": [
      "\n"
     ]
    },
    {
     "name": "stdout",
     "output_type": "stream",
     "text": [
      "Brute force complexity 15 from D=4 and nbp=6\n",
      "Computing brute force solution for dictionary dimension 6 and target_dimension 4\n"
     ]
    },
    {
     "name": "stderr",
     "output_type": "stream",
     "text": [
      "15it [00:00, 15976.27it/s]\n"
     ]
    },
    {
     "name": "stdout",
     "output_type": "stream",
     "text": [
      "Computing brute force solution for dictionary dimension 6 and target_dimension 4\n"
     ]
    },
    {
     "name": "stderr",
     "output_type": "stream",
     "text": [
      "15it [00:00, 10373.38it/s]"
     ]
    },
    {
     "name": "stdout",
     "output_type": "stream",
     "text": [
      "stage two time 0.0032989978790283203\n",
      "greedy time 0.02227616310119629\n",
      "basis pursuit time 1.3941497802734375\n",
      "here\n",
      "greedy []\n",
      "greedy [7]\n",
      "greedy [7, 23]\n",
      "greedy [7, 23, 40]\n",
      "greedy [7, 23, 40, 21]\n"
     ]
    },
    {
     "name": "stderr",
     "output_type": "stream",
     "text": [
      "\n"
     ]
    },
    {
     "name": "stdout",
     "output_type": "stream",
     "text": [
      "Brute force complexity 35 from D=4 and nbp=7\n",
      "Computing brute force solution for dictionary dimension 7 and target_dimension 4\n"
     ]
    },
    {
     "name": "stderr",
     "output_type": "stream",
     "text": [
      "35it [00:00, 24684.82it/s]\n"
     ]
    },
    {
     "name": "stdout",
     "output_type": "stream",
     "text": [
      "Computing brute force solution for dictionary dimension 7 and target_dimension 4\n"
     ]
    },
    {
     "name": "stderr",
     "output_type": "stream",
     "text": [
      "35it [00:00, 15975.69it/s]"
     ]
    },
    {
     "name": "stdout",
     "output_type": "stream",
     "text": [
      "stage two time 0.0030298233032226562\n",
      "greedy time 0.016267061233520508\n",
      "basis pursuit time 1.4534859657287598\n",
      "here\n",
      "greedy []\n",
      "greedy [28]\n",
      "greedy [28, 62]\n",
      "greedy [28, 62, 54]\n",
      "greedy [28, 62, 54, 68]\n"
     ]
    },
    {
     "name": "stderr",
     "output_type": "stream",
     "text": [
      "\n"
     ]
    },
    {
     "name": "stdout",
     "output_type": "stream",
     "text": [
      "Brute force complexity 35 from D=4 and nbp=7\n",
      "Computing brute force solution for dictionary dimension 7 and target_dimension 4\n"
     ]
    },
    {
     "name": "stderr",
     "output_type": "stream",
     "text": [
      "35it [00:00, 25490.65it/s]\n"
     ]
    },
    {
     "name": "stdout",
     "output_type": "stream",
     "text": [
      "Computing brute force solution for dictionary dimension 7 and target_dimension 4\n"
     ]
    },
    {
     "name": "stderr",
     "output_type": "stream",
     "text": [
      "35it [00:00, 11909.84it/s]"
     ]
    },
    {
     "name": "stdout",
     "output_type": "stream",
     "text": [
      "stage two time 0.0029990673065185547\n",
      "greedy time 0.013789892196655273\n",
      "basis pursuit time 1.4131991863250732\n",
      "here\n",
      "greedy []\n",
      "greedy [23]\n",
      "greedy [23, 37]\n",
      "greedy [23, 37, 33]\n",
      "greedy [23, 37, 33, 1]\n"
     ]
    },
    {
     "name": "stderr",
     "output_type": "stream",
     "text": [
      "\n"
     ]
    },
    {
     "name": "stdout",
     "output_type": "stream",
     "text": [
      "Brute force complexity 35 from D=4 and nbp=7\n",
      "Computing brute force solution for dictionary dimension 7 and target_dimension 4\n"
     ]
    },
    {
     "name": "stderr",
     "output_type": "stream",
     "text": [
      "35it [00:00, 24085.42it/s]\n"
     ]
    },
    {
     "name": "stdout",
     "output_type": "stream",
     "text": [
      "Computing brute force solution for dictionary dimension 7 and target_dimension 4\n"
     ]
    },
    {
     "name": "stderr",
     "output_type": "stream",
     "text": [
      "35it [00:00, 15317.26it/s]"
     ]
    },
    {
     "name": "stdout",
     "output_type": "stream",
     "text": [
      "stage two time 0.003039121627807617\n",
      "greedy time 0.015422821044921875\n",
      "basis pursuit time 1.2415239810943604\n",
      "here\n",
      "greedy []\n",
      "greedy [21]\n",
      "greedy [21, 61]\n",
      "greedy [21, 61, 25]\n",
      "greedy [21, 61, 25, 46]\n",
      "greedy [21, 61, 25, 46, 72]\n",
      "greedy [21, 61, 25, 46, 72, 10]\n"
     ]
    },
    {
     "name": "stderr",
     "output_type": "stream",
     "text": [
      "\n"
     ]
    },
    {
     "name": "stdout",
     "output_type": "stream",
     "text": [
      "Brute force complexity 5005 from D=6 and nbp=15\n",
      "Computing brute force solution for dictionary dimension 15 and target_dimension 6\n"
     ]
    },
    {
     "name": "stderr",
     "output_type": "stream",
     "text": [
      "5005it [00:00, 31411.97it/s]\n"
     ]
    },
    {
     "name": "stdout",
     "output_type": "stream",
     "text": [
      "Computing brute force solution for dictionary dimension 15 and target_dimension 6\n"
     ]
    },
    {
     "name": "stderr",
     "output_type": "stream",
     "text": [
      "5005it [00:00, 31004.95it/s]\n"
     ]
    },
    {
     "name": "stdout",
     "output_type": "stream",
     "text": [
      "stage two time 0.1692671775817871\n",
      "greedy time 0.018996000289916992\n",
      "basis pursuit time 2.3528621196746826\n",
      "here\n",
      "greedy []\n",
      "greedy [17]\n",
      "greedy [17, 37]\n",
      "greedy [17, 37, 52]\n",
      "greedy [17, 37, 52, 1]\n",
      "greedy [17, 37, 52, 1, 86]\n",
      "greedy [17, 37, 52, 1, 86, 88]\n",
      "Brute force complexity 924 from D=6 and nbp=12\n",
      "Computing brute force solution for dictionary dimension 12 and target_dimension 6\n"
     ]
    },
    {
     "name": "stderr",
     "output_type": "stream",
     "text": [
      "924it [00:00, 29850.86it/s]\n"
     ]
    },
    {
     "name": "stdout",
     "output_type": "stream",
     "text": [
      "Computing brute force solution for dictionary dimension 12 and target_dimension 6\n"
     ]
    },
    {
     "name": "stderr",
     "output_type": "stream",
     "text": [
      "924it [00:00, 30481.00it/s]"
     ]
    },
    {
     "name": "stdout",
     "output_type": "stream",
     "text": [
      "stage two time 0.03245997428894043\n",
      "greedy time 0.022002220153808594\n",
      "basis pursuit time 2.369441032409668\n",
      "here\n",
      "greedy []\n",
      "greedy [4]\n",
      "greedy [4, 1]\n",
      "greedy [4, 1, 72]\n",
      "greedy [4, 1, 72, 70]\n",
      "greedy [4, 1, 72, 70, 61]\n",
      "greedy [4, 1, 72, 70, 61, 53]\n"
     ]
    },
    {
     "name": "stderr",
     "output_type": "stream",
     "text": [
      "\n"
     ]
    },
    {
     "name": "stdout",
     "output_type": "stream",
     "text": [
      "Brute force complexity 3003 from D=6 and nbp=14\n",
      "Computing brute force solution for dictionary dimension 14 and target_dimension 6\n"
     ]
    },
    {
     "name": "stderr",
     "output_type": "stream",
     "text": [
      "3003it [00:00, 25963.78it/s]\n"
     ]
    },
    {
     "name": "stdout",
     "output_type": "stream",
     "text": [
      "Computing brute force solution for dictionary dimension 14 and target_dimension 6\n"
     ]
    },
    {
     "name": "stderr",
     "output_type": "stream",
     "text": [
      "3003it [00:00, 33331.56it/s]\n"
     ]
    },
    {
     "name": "stdout",
     "output_type": "stream",
     "text": [
      "stage two time 0.11803889274597168\n",
      "greedy time 0.03259706497192383\n",
      "basis pursuit time 2.578031301498413\n",
      "here\n",
      "greedy []\n",
      "greedy [72]\n",
      "greedy [72, 43]\n",
      "greedy [72, 43, 5]\n",
      "greedy [72, 43, 5, 34]\n",
      "greedy [72, 43, 5, 34, 60]\n",
      "greedy [72, 43, 5, 34, 60, 39]\n",
      "Brute force complexity 1716 from D=6 and nbp=13\n",
      "Computing brute force solution for dictionary dimension 13 and target_dimension 6\n"
     ]
    },
    {
     "name": "stderr",
     "output_type": "stream",
     "text": [
      "1716it [00:00, 29680.84it/s]\n"
     ]
    },
    {
     "name": "stdout",
     "output_type": "stream",
     "text": [
      "Computing brute force solution for dictionary dimension 13 and target_dimension 6\n"
     ]
    },
    {
     "name": "stderr",
     "output_type": "stream",
     "text": [
      "1716it [00:00, 31280.78it/s]"
     ]
    },
    {
     "name": "stdout",
     "output_type": "stream",
     "text": [
      "stage two time 0.05976986885070801\n",
      "greedy time 0.0248260498046875\n",
      "basis pursuit time 2.3096230030059814\n",
      "here\n",
      "greedy []\n",
      "greedy [73]\n",
      "greedy [73, 17]\n",
      "greedy [73, 17, 4]\n",
      "greedy [73, 17, 4, 49]\n",
      "greedy [73, 17, 4, 49, 38]\n",
      "greedy [73, 17, 4, 49, 38, 78]\n"
     ]
    },
    {
     "name": "stderr",
     "output_type": "stream",
     "text": [
      "\n"
     ]
    },
    {
     "name": "stdout",
     "output_type": "stream",
     "text": [
      "Brute force complexity 924 from D=6 and nbp=12\n",
      "Computing brute force solution for dictionary dimension 12 and target_dimension 6\n"
     ]
    },
    {
     "name": "stderr",
     "output_type": "stream",
     "text": [
      "924it [00:00, 27677.86it/s]\n"
     ]
    },
    {
     "name": "stdout",
     "output_type": "stream",
     "text": [
      "Computing brute force solution for dictionary dimension 12 and target_dimension 6\n"
     ]
    },
    {
     "name": "stderr",
     "output_type": "stream",
     "text": [
      "924it [00:00, 30795.87it/s]"
     ]
    },
    {
     "name": "stdout",
     "output_type": "stream",
     "text": [
      "stage two time 0.03565621376037598\n",
      "greedy time 0.024388790130615234\n",
      "basis pursuit time 2.2714288234710693\n",
      "here\n",
      "greedy []\n",
      "greedy [79]\n",
      "greedy [79, 55]\n",
      "greedy [79, 55, 32]\n",
      "greedy [79, 55, 32, 39]\n",
      "greedy [79, 55, 32, 39, 38]\n",
      "greedy [79, 55, 32, 39, 38, 17]\n"
     ]
    },
    {
     "name": "stderr",
     "output_type": "stream",
     "text": [
      "\n"
     ]
    },
    {
     "name": "stdout",
     "output_type": "stream",
     "text": [
      "Brute force complexity 1716 from D=6 and nbp=13\n",
      "Computing brute force solution for dictionary dimension 13 and target_dimension 6\n"
     ]
    },
    {
     "name": "stderr",
     "output_type": "stream",
     "text": [
      "1716it [00:00, 27294.82it/s]\n"
     ]
    },
    {
     "name": "stdout",
     "output_type": "stream",
     "text": [
      "Computing brute force solution for dictionary dimension 13 and target_dimension 6\n"
     ]
    },
    {
     "name": "stderr",
     "output_type": "stream",
     "text": [
      "1716it [00:00, 27119.26it/s]"
     ]
    },
    {
     "name": "stdout",
     "output_type": "stream",
     "text": [
      "stage two time 0.06602716445922852\n",
      "greedy time 0.024990081787109375\n",
      "basis pursuit time 2.377192974090576\n",
      "here\n",
      "greedy []\n",
      "greedy [45]\n",
      "greedy [45, 65]\n",
      "greedy [45, 65, 29]\n",
      "greedy [45, 65, 29, 30]\n",
      "greedy [45, 65, 29, 30, 70]\n",
      "greedy [45, 65, 29, 30, 70, 47]\n"
     ]
    },
    {
     "name": "stderr",
     "output_type": "stream",
     "text": [
      "\n"
     ]
    },
    {
     "name": "stdout",
     "output_type": "stream",
     "text": [
      "Brute force complexity 3003 from D=6 and nbp=14\n",
      "Computing brute force solution for dictionary dimension 14 and target_dimension 6\n"
     ]
    },
    {
     "name": "stderr",
     "output_type": "stream",
     "text": [
      "3003it [00:00, 19396.48it/s]\n"
     ]
    },
    {
     "name": "stdout",
     "output_type": "stream",
     "text": [
      "Computing brute force solution for dictionary dimension 14 and target_dimension 6\n"
     ]
    },
    {
     "name": "stderr",
     "output_type": "stream",
     "text": [
      "3003it [00:00, 15792.12it/s]\n"
     ]
    },
    {
     "name": "stdout",
     "output_type": "stream",
     "text": [
      "stage two time 0.15757083892822266\n",
      "greedy time 0.02597188949584961\n",
      "basis pursuit time 3.158017873764038\n",
      "here\n",
      "greedy []\n",
      "greedy [45]\n",
      "greedy [45, 6]\n",
      "greedy [45, 6, 14]\n",
      "greedy [45, 6, 14, 3]\n",
      "greedy [45, 6, 14, 3, 27]\n",
      "greedy [45, 6, 14, 3, 27, 17]\n",
      "Brute force complexity 1716 from D=6 and nbp=13\n",
      "Computing brute force solution for dictionary dimension 13 and target_dimension 6\n"
     ]
    },
    {
     "name": "stderr",
     "output_type": "stream",
     "text": [
      "1716it [00:00, 25062.77it/s]\n"
     ]
    },
    {
     "name": "stdout",
     "output_type": "stream",
     "text": [
      "Computing brute force solution for dictionary dimension 13 and target_dimension 6\n"
     ]
    },
    {
     "name": "stderr",
     "output_type": "stream",
     "text": [
      "1716it [00:00, 19254.13it/s]"
     ]
    },
    {
     "name": "stdout",
     "output_type": "stream",
     "text": [
      "stage two time 0.07124185562133789\n",
      "greedy time 0.03206801414489746\n",
      "basis pursuit time 3.510258197784424\n",
      "here\n",
      "greedy []\n",
      "greedy [57]\n",
      "greedy [57, 13]\n",
      "greedy [57, 13, 82]\n",
      "greedy [57, 13, 82, 18]\n",
      "greedy [57, 13, 82, 18, 10]\n",
      "greedy [57, 13, 82, 18, 10, 79]\n"
     ]
    },
    {
     "name": "stderr",
     "output_type": "stream",
     "text": [
      "\n"
     ]
    },
    {
     "name": "stdout",
     "output_type": "stream",
     "text": [
      "Brute force complexity 462 from D=6 and nbp=11\n",
      "Computing brute force solution for dictionary dimension 11 and target_dimension 6\n"
     ]
    },
    {
     "name": "stderr",
     "output_type": "stream",
     "text": [
      "462it [00:00, 14805.35it/s]\n"
     ]
    },
    {
     "name": "stdout",
     "output_type": "stream",
     "text": [
      "Computing brute force solution for dictionary dimension 11 and target_dimension 6\n"
     ]
    },
    {
     "name": "stderr",
     "output_type": "stream",
     "text": [
      "462it [00:00, 11569.04it/s]"
     ]
    },
    {
     "name": "stdout",
     "output_type": "stream",
     "text": [
      "stage two time 0.03560590744018555\n",
      "greedy time 0.03264284133911133\n",
      "basis pursuit time 4.659832954406738\n",
      "here\n",
      "greedy []\n",
      "greedy [33]\n",
      "greedy [33, 13]\n",
      "greedy [33, 13, 66]\n",
      "greedy [33, 13, 66, 50]\n",
      "greedy [33, 13, 66, 50, 38]\n",
      "greedy [33, 13, 66, 50, 38, 60]\n"
     ]
    },
    {
     "name": "stderr",
     "output_type": "stream",
     "text": [
      "\n"
     ]
    },
    {
     "name": "stdout",
     "output_type": "stream",
     "text": [
      "Brute force complexity 1716 from D=6 and nbp=13\n",
      "Computing brute force solution for dictionary dimension 13 and target_dimension 6\n"
     ]
    },
    {
     "name": "stderr",
     "output_type": "stream",
     "text": [
      "1716it [00:00, 26410.25it/s]\n"
     ]
    },
    {
     "name": "stdout",
     "output_type": "stream",
     "text": [
      "Computing brute force solution for dictionary dimension 13 and target_dimension 6\n"
     ]
    },
    {
     "name": "stderr",
     "output_type": "stream",
     "text": [
      "1716it [00:00, 31525.21it/s]"
     ]
    },
    {
     "name": "stdout",
     "output_type": "stream",
     "text": [
      "stage two time 0.06772804260253906\n",
      "greedy time 0.04496502876281738\n",
      "basis pursuit time 4.2595109939575195\n",
      "here\n",
      "greedy []\n",
      "greedy [86]\n",
      "greedy [86, 14]\n",
      "greedy [86, 14, 47]\n",
      "greedy [86, 14, 47, 53]\n",
      "greedy [86, 14, 47, 53, 64]\n",
      "greedy [86, 14, 47, 53, 64, 49]\n"
     ]
    },
    {
     "name": "stderr",
     "output_type": "stream",
     "text": [
      "\n"
     ]
    },
    {
     "name": "stdout",
     "output_type": "stream",
     "text": [
      "Brute force complexity 462 from D=6 and nbp=11\n",
      "Computing brute force solution for dictionary dimension 11 and target_dimension 6\n"
     ]
    },
    {
     "name": "stderr",
     "output_type": "stream",
     "text": [
      "462it [00:00, 17115.37it/s]\n"
     ]
    },
    {
     "name": "stdout",
     "output_type": "stream",
     "text": [
      "Computing brute force solution for dictionary dimension 11 and target_dimension 6\n"
     ]
    },
    {
     "name": "stderr",
     "output_type": "stream",
     "text": [
      "462it [00:00, 14568.15it/s]"
     ]
    },
    {
     "name": "stdout",
     "output_type": "stream",
     "text": [
      "stage two time 0.0296480655670166\n",
      "greedy time 0.022995948791503906\n",
      "basis pursuit time 3.519437074661255\n",
      "here\n",
      "greedy []\n",
      "greedy [79]\n",
      "greedy [79, 7]\n",
      "greedy [79, 7, 87]\n",
      "greedy [79, 7, 87, 30]\n",
      "greedy [79, 7, 87, 30, 20]\n",
      "greedy [79, 7, 87, 30, 20, 49]\n"
     ]
    },
    {
     "name": "stderr",
     "output_type": "stream",
     "text": [
      "\n"
     ]
    },
    {
     "name": "stdout",
     "output_type": "stream",
     "text": [
      "Brute force complexity 12376 from D=6 and nbp=17\n",
      "Computing brute force solution for dictionary dimension 17 and target_dimension 6\n"
     ]
    },
    {
     "name": "stderr",
     "output_type": "stream",
     "text": [
      "12376it [00:00, 19613.75it/s]\n"
     ]
    },
    {
     "name": "stdout",
     "output_type": "stream",
     "text": [
      "Computing brute force solution for dictionary dimension 17 and target_dimension 6\n"
     ]
    },
    {
     "name": "stderr",
     "output_type": "stream",
     "text": [
      "12376it [00:00, 13890.66it/s]\n"
     ]
    },
    {
     "name": "stdout",
     "output_type": "stream",
     "text": [
      "stage two time 0.6371829509735107\n",
      "greedy time 0.04705095291137695\n",
      "basis pursuit time 4.342113971710205\n",
      "here\n",
      "greedy []\n",
      "greedy [15]\n",
      "greedy [15, 36]\n",
      "greedy [15, 36, 55]\n",
      "greedy [15, 36, 55, 7]\n",
      "greedy [15, 36, 55, 7, 22]\n",
      "greedy [15, 36, 55, 7, 22, 51]\n",
      "Brute force complexity 5005 from D=6 and nbp=15\n",
      "Computing brute force solution for dictionary dimension 15 and target_dimension 6\n"
     ]
    },
    {
     "name": "stderr",
     "output_type": "stream",
     "text": [
      "5005it [00:00, 24677.31it/s]\n"
     ]
    },
    {
     "name": "stdout",
     "output_type": "stream",
     "text": [
      "Computing brute force solution for dictionary dimension 15 and target_dimension 6\n"
     ]
    },
    {
     "name": "stderr",
     "output_type": "stream",
     "text": [
      "5005it [00:00, 25062.61it/s]\n"
     ]
    },
    {
     "name": "stdout",
     "output_type": "stream",
     "text": [
      "stage two time 0.2062993049621582\n",
      "greedy time 0.031545162200927734\n",
      "basis pursuit time 4.038178205490112\n",
      "here\n",
      "greedy []\n",
      "greedy [68]\n",
      "greedy [68, 18]\n",
      "greedy [68, 18, 62]\n",
      "greedy [68, 18, 62, 67]\n",
      "greedy [68, 18, 62, 67, 44]\n",
      "greedy [68, 18, 62, 67, 44, 6]\n",
      "Brute force complexity 8008 from D=6 and nbp=16\n",
      "Computing brute force solution for dictionary dimension 16 and target_dimension 6\n"
     ]
    },
    {
     "name": "stderr",
     "output_type": "stream",
     "text": [
      "8008it [00:00, 21483.24it/s]\n"
     ]
    },
    {
     "name": "stdout",
     "output_type": "stream",
     "text": [
      "Computing brute force solution for dictionary dimension 16 and target_dimension 6\n"
     ]
    },
    {
     "name": "stderr",
     "output_type": "stream",
     "text": [
      "8008it [00:00, 11951.60it/s]\n"
     ]
    },
    {
     "name": "stdout",
     "output_type": "stream",
     "text": [
      "stage two time 0.3766939640045166\n",
      "greedy time 0.034986019134521484\n",
      "basis pursuit time 4.3126280307769775\n",
      "here\n",
      "greedy []\n",
      "greedy [30]\n",
      "greedy [30, 24]\n",
      "greedy [30, 24, 28]\n",
      "greedy [30, 24, 28, 84]\n",
      "greedy [30, 24, 28, 84, 69]\n",
      "greedy [30, 24, 28, 84, 69, 26]\n",
      "Brute force complexity 5005 from D=6 and nbp=15\n",
      "Computing brute force solution for dictionary dimension 15 and target_dimension 6\n"
     ]
    },
    {
     "name": "stderr",
     "output_type": "stream",
     "text": [
      "5005it [00:00, 27559.98it/s]\n"
     ]
    },
    {
     "name": "stdout",
     "output_type": "stream",
     "text": [
      "Computing brute force solution for dictionary dimension 15 and target_dimension 6\n"
     ]
    },
    {
     "name": "stderr",
     "output_type": "stream",
     "text": [
      "5005it [00:00, 29668.89it/s]\n"
     ]
    },
    {
     "name": "stdout",
     "output_type": "stream",
     "text": [
      "stage two time 0.18529582023620605\n",
      "greedy time 0.0387110710144043\n",
      "basis pursuit time 3.0412468910217285\n",
      "here\n",
      "greedy []\n",
      "greedy [18]\n",
      "greedy [18, 4]\n",
      "greedy [18, 4, 64]\n",
      "greedy [18, 4, 64, 36]\n",
      "greedy [18, 4, 64, 36, 70]\n",
      "greedy [18, 4, 64, 36, 70, 10]\n",
      "Brute force complexity 3003 from D=6 and nbp=14\n",
      "Computing brute force solution for dictionary dimension 14 and target_dimension 6\n"
     ]
    },
    {
     "name": "stderr",
     "output_type": "stream",
     "text": [
      "3003it [00:00, 28930.29it/s]\n"
     ]
    },
    {
     "name": "stdout",
     "output_type": "stream",
     "text": [
      "Computing brute force solution for dictionary dimension 14 and target_dimension 6\n"
     ]
    },
    {
     "name": "stderr",
     "output_type": "stream",
     "text": [
      "3003it [00:00, 30759.88it/s]\n"
     ]
    },
    {
     "name": "stdout",
     "output_type": "stream",
     "text": [
      "stage two time 0.10602998733520508\n",
      "greedy time 0.0257112979888916\n",
      "basis pursuit time 2.3078887462615967\n",
      "here\n",
      "greedy []\n",
      "greedy [65]\n",
      "greedy [65, 85]\n",
      "greedy [65, 85, 14]\n",
      "greedy [65, 85, 14, 53]\n",
      "greedy [65, 85, 14, 53, 16]\n",
      "greedy [65, 85, 14, 53, 16, 61]\n",
      "Brute force complexity 1716 from D=6 and nbp=13\n",
      "Computing brute force solution for dictionary dimension 13 and target_dimension 6\n"
     ]
    },
    {
     "name": "stderr",
     "output_type": "stream",
     "text": [
      "1716it [00:00, 28959.75it/s]\n"
     ]
    },
    {
     "name": "stdout",
     "output_type": "stream",
     "text": [
      "Computing brute force solution for dictionary dimension 13 and target_dimension 6\n"
     ]
    },
    {
     "name": "stderr",
     "output_type": "stream",
     "text": [
      "1716it [00:00, 31602.72it/s]"
     ]
    },
    {
     "name": "stdout",
     "output_type": "stream",
     "text": [
      "stage two time 0.06205582618713379\n",
      "greedy time 0.023267030715942383\n",
      "basis pursuit time 2.2801990509033203\n",
      "here\n",
      "greedy []\n",
      "greedy [22]\n",
      "greedy [22, 80]\n",
      "greedy [22, 80, 27]\n",
      "greedy [22, 80, 27, 1]\n",
      "greedy [22, 80, 27, 1, 42]\n",
      "greedy [22, 80, 27, 1, 42, 29]\n"
     ]
    },
    {
     "name": "stderr",
     "output_type": "stream",
     "text": [
      "\n"
     ]
    },
    {
     "name": "stdout",
     "output_type": "stream",
     "text": [
      "Brute force complexity 5005 from D=6 and nbp=15\n",
      "Computing brute force solution for dictionary dimension 15 and target_dimension 6\n"
     ]
    },
    {
     "name": "stderr",
     "output_type": "stream",
     "text": [
      "5005it [00:00, 26930.20it/s]\n"
     ]
    },
    {
     "name": "stdout",
     "output_type": "stream",
     "text": [
      "Computing brute force solution for dictionary dimension 15 and target_dimension 6\n"
     ]
    },
    {
     "name": "stderr",
     "output_type": "stream",
     "text": [
      "5005it [00:00, 34005.80it/s]\n"
     ]
    },
    {
     "name": "stdout",
     "output_type": "stream",
     "text": [
      "stage two time 0.18868231773376465\n",
      "greedy time 0.021867036819458008\n",
      "basis pursuit time 2.2737550735473633\n",
      "here\n",
      "greedy []\n",
      "greedy [68]\n",
      "greedy [68, 80]\n",
      "greedy [68, 80, 40]\n",
      "greedy [68, 80, 40, 44]\n",
      "greedy [68, 80, 40, 44, 66]\n",
      "greedy [68, 80, 40, 44, 66, 56]\n",
      "Brute force complexity 924 from D=6 and nbp=12\n",
      "Computing brute force solution for dictionary dimension 12 and target_dimension 6\n"
     ]
    },
    {
     "name": "stderr",
     "output_type": "stream",
     "text": [
      "924it [00:00, 26913.82it/s]\n"
     ]
    },
    {
     "name": "stdout",
     "output_type": "stream",
     "text": [
      "Computing brute force solution for dictionary dimension 12 and target_dimension 6\n"
     ]
    },
    {
     "name": "stderr",
     "output_type": "stream",
     "text": [
      "924it [00:00, 26623.73it/s]"
     ]
    },
    {
     "name": "stdout",
     "output_type": "stream",
     "text": [
      "stage two time 0.03634905815124512\n",
      "greedy time 0.022593021392822266\n",
      "basis pursuit time 2.3233489990234375\n",
      "here\n",
      "greedy []\n",
      "greedy [63]\n",
      "greedy [63, 37]\n",
      "greedy [63, 37, 16]\n",
      "greedy [63, 37, 16, 18]\n",
      "greedy [63, 37, 16, 18, 39]\n",
      "greedy [63, 37, 16, 18, 39, 28]\n"
     ]
    },
    {
     "name": "stderr",
     "output_type": "stream",
     "text": [
      "\n"
     ]
    },
    {
     "name": "stdout",
     "output_type": "stream",
     "text": [
      "Brute force complexity 924 from D=6 and nbp=12\n",
      "Computing brute force solution for dictionary dimension 12 and target_dimension 6\n"
     ]
    },
    {
     "name": "stderr",
     "output_type": "stream",
     "text": [
      "924it [00:00, 29933.86it/s]\n"
     ]
    },
    {
     "name": "stdout",
     "output_type": "stream",
     "text": [
      "Computing brute force solution for dictionary dimension 12 and target_dimension 6\n"
     ]
    },
    {
     "name": "stderr",
     "output_type": "stream",
     "text": [
      "924it [00:00, 29217.36it/s]"
     ]
    },
    {
     "name": "stdout",
     "output_type": "stream",
     "text": [
      "stage two time 0.03283977508544922\n",
      "greedy time 0.026391029357910156\n",
      "basis pursuit time 2.249086856842041\n",
      "here\n",
      "greedy []\n",
      "greedy [58]\n",
      "greedy [58, 73]\n",
      "greedy [58, 73, 50]\n",
      "greedy [58, 73, 50, 20]\n",
      "greedy [58, 73, 50, 20, 45]\n",
      "greedy [58, 73, 50, 20, 45, 5]\n"
     ]
    },
    {
     "name": "stderr",
     "output_type": "stream",
     "text": [
      "\n"
     ]
    },
    {
     "name": "stdout",
     "output_type": "stream",
     "text": [
      "Brute force complexity 924 from D=6 and nbp=12\n",
      "Computing brute force solution for dictionary dimension 12 and target_dimension 6\n"
     ]
    },
    {
     "name": "stderr",
     "output_type": "stream",
     "text": [
      "924it [00:00, 29326.58it/s]\n"
     ]
    },
    {
     "name": "stdout",
     "output_type": "stream",
     "text": [
      "Computing brute force solution for dictionary dimension 12 and target_dimension 6\n"
     ]
    },
    {
     "name": "stderr",
     "output_type": "stream",
     "text": [
      "924it [00:00, 28290.66it/s]"
     ]
    },
    {
     "name": "stdout",
     "output_type": "stream",
     "text": [
      "stage two time 0.033705949783325195\n",
      "greedy time 0.022655963897705078\n",
      "basis pursuit time 2.3106250762939453\n",
      "here\n",
      "greedy []\n",
      "greedy [39]\n",
      "greedy [39, 41]\n",
      "greedy [39, 41, 11]\n",
      "greedy [39, 41, 11, 27]\n",
      "greedy [39, 41, 11, 27, 52]\n",
      "greedy [39, 41, 11, 27, 52, 40]\n"
     ]
    },
    {
     "name": "stderr",
     "output_type": "stream",
     "text": [
      "\n"
     ]
    },
    {
     "name": "stdout",
     "output_type": "stream",
     "text": [
      "Brute force complexity 3003 from D=6 and nbp=14\n",
      "Computing brute force solution for dictionary dimension 14 and target_dimension 6\n"
     ]
    },
    {
     "name": "stderr",
     "output_type": "stream",
     "text": [
      "3003it [00:00, 25845.40it/s]\n"
     ]
    },
    {
     "name": "stdout",
     "output_type": "stream",
     "text": [
      "Computing brute force solution for dictionary dimension 14 and target_dimension 6\n"
     ]
    },
    {
     "name": "stderr",
     "output_type": "stream",
     "text": [
      "3003it [00:00, 30134.20it/s]\n"
     ]
    },
    {
     "name": "stdout",
     "output_type": "stream",
     "text": [
      "stage two time 0.11853790283203125\n",
      "greedy time 0.02373480796813965\n",
      "basis pursuit time 2.209116220474243\n",
      "here\n",
      "greedy []\n",
      "greedy [67]\n",
      "greedy [67, 54]\n",
      "greedy [67, 54, 44]\n",
      "greedy [67, 54, 44, 46]\n",
      "greedy [67, 54, 44, 46, 10]\n",
      "greedy [67, 54, 44, 46, 10, 79]\n",
      "Brute force complexity 5005 from D=6 and nbp=15\n",
      "Computing brute force solution for dictionary dimension 15 and target_dimension 6\n"
     ]
    },
    {
     "name": "stderr",
     "output_type": "stream",
     "text": [
      "5005it [00:00, 28364.97it/s]\n"
     ]
    },
    {
     "name": "stdout",
     "output_type": "stream",
     "text": [
      "Computing brute force solution for dictionary dimension 15 and target_dimension 6\n"
     ]
    },
    {
     "name": "stderr",
     "output_type": "stream",
     "text": [
      "5005it [00:00, 30680.91it/s]\n"
     ]
    },
    {
     "name": "stdout",
     "output_type": "stream",
     "text": [
      "stage two time 0.17955780029296875\n",
      "greedy time 0.024250268936157227\n",
      "basis pursuit time 2.28764009475708\n",
      "here\n",
      "greedy []\n",
      "greedy [36]\n",
      "greedy [36, 42]\n",
      "greedy [36, 42, 61]\n",
      "greedy [36, 42, 61, 6]\n",
      "greedy [36, 42, 61, 6, 72]\n",
      "greedy [36, 42, 61, 6, 72, 69]\n",
      "Brute force complexity 1716 from D=6 and nbp=13\n",
      "Computing brute force solution for dictionary dimension 13 and target_dimension 6\n"
     ]
    },
    {
     "name": "stderr",
     "output_type": "stream",
     "text": [
      "1716it [00:00, 28652.06it/s]\n"
     ]
    },
    {
     "name": "stdout",
     "output_type": "stream",
     "text": [
      "Computing brute force solution for dictionary dimension 13 and target_dimension 6\n"
     ]
    },
    {
     "name": "stderr",
     "output_type": "stream",
     "text": [
      "1716it [00:00, 30374.40it/s]"
     ]
    },
    {
     "name": "stdout",
     "output_type": "stream",
     "text": [
      "stage two time 0.062288761138916016\n",
      "greedy time 0.02238011360168457\n",
      "basis pursuit time 2.3020708560943604\n",
      "here\n",
      "greedy []\n",
      "greedy [74]\n",
      "greedy [74, 81]\n",
      "greedy [74, 81, 38]\n",
      "greedy [74, 81, 38, 1]\n",
      "greedy [74, 81, 38, 1, 45]\n",
      "greedy [74, 81, 38, 1, 45, 84]\n"
     ]
    },
    {
     "name": "stderr",
     "output_type": "stream",
     "text": [
      "\n"
     ]
    },
    {
     "name": "stdout",
     "output_type": "stream",
     "text": [
      "Brute force complexity 1716 from D=6 and nbp=13\n",
      "Computing brute force solution for dictionary dimension 13 and target_dimension 6\n"
     ]
    },
    {
     "name": "stderr",
     "output_type": "stream",
     "text": [
      "1716it [00:00, 30557.26it/s]\n"
     ]
    },
    {
     "name": "stdout",
     "output_type": "stream",
     "text": [
      "Computing brute force solution for dictionary dimension 13 and target_dimension 6\n"
     ]
    },
    {
     "name": "stderr",
     "output_type": "stream",
     "text": [
      "1716it [00:00, 28498.79it/s]"
     ]
    },
    {
     "name": "stdout",
     "output_type": "stream",
     "text": [
      "stage two time 0.05811595916748047\n",
      "greedy time 0.022882938385009766\n",
      "basis pursuit time 2.300629138946533\n"
     ]
    },
    {
     "name": "stderr",
     "output_type": "stream",
     "text": [
      "\n"
     ]
    }
   ],
   "source": [
    "print(\"Analyzing two stage effectiveness against brute\")\n",
    "compute_brute = False # True\n",
    "power = 1.\n",
    "R = 25\n",
    "frac = .1\n",
    "name = \"iris_standardized\"\n",
    "results = run_resampling_experiment(iris_standardized, D_iris, frac = frac, R = R, power = power, compute_brute = compute_brute)\n",
    "results[0].to_csv(f'/Users/samsonkoelle/isometry-pursuit/experiments/{name}_{str(frac).replace(\".\",\"p\")}_{str(power).replace(\".\",\"p\")}', index = None)\n",
    "\n",
    "D_wine = 6\n",
    "name = \"wine_standardized\"\n",
    "results = run_resampling_experiment(wine_standardized, D_wine, frac = frac, R = R, power = power, compute_brute = compute_brute)\n",
    "results[0].to_csv(f'/Users/samsonkoelle/isometry-pursuit/experiments/{name}_{str(frac).replace(\".\",\"p\")}_{str(power).replace(\".\",\"p\")}', index = None)"
   ]
  },
  {
   "cell_type": "code",
   "execution_count": 30,
   "id": "4c27c03e",
   "metadata": {},
   "outputs": [
    {
     "name": "stdout",
     "output_type": "stream",
     "text": [
      "Analyzing power effect\n",
      "wine_standardized\n",
      "here\n",
      "greedy []\n",
      "greedy [3]\n",
      "greedy [3, 1]\n",
      "greedy [3, 1, 37]\n",
      "greedy [3, 1, 37, 29]\n",
      "Brute force complexity 1 from D=4 and nbp=4\n",
      "Computing brute force solution for dictionary dimension 4 and target_dimension 4\n"
     ]
    },
    {
     "name": "stderr",
     "output_type": "stream",
     "text": [
      "1it [00:00, 2608.40it/s]\n"
     ]
    },
    {
     "name": "stdout",
     "output_type": "stream",
     "text": [
      "Computing brute force solution for dictionary dimension 4 and target_dimension 4\n"
     ]
    },
    {
     "name": "stderr",
     "output_type": "stream",
     "text": [
      "1it [00:00, 2142.14it/s]"
     ]
    },
    {
     "name": "stdout",
     "output_type": "stream",
     "text": [
      "stage two time 0.0019948482513427734\n",
      "greedy time 0.01688981056213379\n",
      "basis pursuit time 2.1073479652404785\n",
      "here\n",
      "greedy []\n",
      "greedy [87]\n",
      "greedy [87, 32]\n",
      "greedy [87, 32, 21]\n",
      "greedy [87, 32, 21, 62]\n"
     ]
    },
    {
     "name": "stderr",
     "output_type": "stream",
     "text": [
      "\n"
     ]
    },
    {
     "name": "stdout",
     "output_type": "stream",
     "text": [
      "Brute force complexity 15 from D=4 and nbp=6\n",
      "Computing brute force solution for dictionary dimension 6 and target_dimension 4\n"
     ]
    },
    {
     "name": "stderr",
     "output_type": "stream",
     "text": [
      "15it [00:00, 18471.69it/s]\n"
     ]
    },
    {
     "name": "stdout",
     "output_type": "stream",
     "text": [
      "Computing brute force solution for dictionary dimension 6 and target_dimension 4\n"
     ]
    },
    {
     "name": "stderr",
     "output_type": "stream",
     "text": [
      "15it [00:00, 13354.82it/s]"
     ]
    },
    {
     "name": "stdout",
     "output_type": "stream",
     "text": [
      "stage two time 0.0034532546997070312\n",
      "greedy time 0.022242069244384766\n",
      "basis pursuit time 1.7925727367401123\n",
      "here\n",
      "greedy []\n",
      "greedy [33]\n",
      "greedy [33, 72]\n",
      "greedy [33, 72, 32]\n",
      "greedy [33, 72, 32, 59]\n"
     ]
    },
    {
     "name": "stderr",
     "output_type": "stream",
     "text": [
      "\n"
     ]
    },
    {
     "name": "stdout",
     "output_type": "stream",
     "text": [
      "Brute force complexity 5 from D=4 and nbp=5\n",
      "Computing brute force solution for dictionary dimension 5 and target_dimension 4\n"
     ]
    },
    {
     "name": "stderr",
     "output_type": "stream",
     "text": [
      "5it [00:00, 14665.40it/s]\n"
     ]
    },
    {
     "name": "stdout",
     "output_type": "stream",
     "text": [
      "Computing brute force solution for dictionary dimension 5 and target_dimension 4\n"
     ]
    },
    {
     "name": "stderr",
     "output_type": "stream",
     "text": [
      "5it [00:00, 7002.18it/s]"
     ]
    },
    {
     "name": "stdout",
     "output_type": "stream",
     "text": [
      "stage two time 0.0032079219818115234\n",
      "greedy time 0.02938985824584961\n",
      "basis pursuit time 1.7877600193023682\n",
      "here\n",
      "greedy []\n",
      "greedy [43]\n",
      "greedy [43, 5]\n",
      "greedy [43, 5, 75]\n",
      "greedy [43, 5, 75, 47]\n"
     ]
    },
    {
     "name": "stderr",
     "output_type": "stream",
     "text": [
      "\n"
     ]
    },
    {
     "name": "stdout",
     "output_type": "stream",
     "text": [
      "Brute force complexity 70 from D=4 and nbp=8\n",
      "Computing brute force solution for dictionary dimension 8 and target_dimension 4\n"
     ]
    },
    {
     "name": "stderr",
     "output_type": "stream",
     "text": [
      "70it [00:00, 16639.35it/s]\n"
     ]
    },
    {
     "name": "stdout",
     "output_type": "stream",
     "text": [
      "Computing brute force solution for dictionary dimension 8 and target_dimension 4\n"
     ]
    },
    {
     "name": "stderr",
     "output_type": "stream",
     "text": [
      "70it [00:00, 12743.66it/s]"
     ]
    },
    {
     "name": "stdout",
     "output_type": "stream",
     "text": [
      "stage two time 0.006395101547241211\n",
      "greedy time 0.022895097732543945\n",
      "basis pursuit time 1.8721511363983154\n",
      "here\n",
      "greedy []\n",
      "greedy [17]\n",
      "greedy [17, 0]\n",
      "greedy [17, 0, 38]\n",
      "greedy [17, 0, 38, 49]\n"
     ]
    },
    {
     "name": "stderr",
     "output_type": "stream",
     "text": [
      "\n"
     ]
    },
    {
     "name": "stdout",
     "output_type": "stream",
     "text": [
      "Brute force complexity 5 from D=4 and nbp=5\n",
      "Computing brute force solution for dictionary dimension 5 and target_dimension 4\n"
     ]
    },
    {
     "name": "stderr",
     "output_type": "stream",
     "text": [
      "5it [00:00, 4946.11it/s]\n"
     ]
    },
    {
     "name": "stdout",
     "output_type": "stream",
     "text": [
      "Computing brute force solution for dictionary dimension 5 and target_dimension 4\n"
     ]
    },
    {
     "name": "stderr",
     "output_type": "stream",
     "text": [
      "5it [00:00, 8609.00it/s]"
     ]
    },
    {
     "name": "stdout",
     "output_type": "stream",
     "text": [
      "stage two time 0.004656791687011719\n",
      "greedy time 0.02371501922607422\n",
      "basis pursuit time 2.726943016052246\n",
      "here\n",
      "greedy []\n",
      "greedy [55]\n",
      "greedy [55, 32]\n",
      "greedy [55, 32, 23]\n",
      "greedy [55, 32, 23, 51]\n"
     ]
    },
    {
     "name": "stderr",
     "output_type": "stream",
     "text": [
      "\n"
     ]
    },
    {
     "name": "stdout",
     "output_type": "stream",
     "text": [
      "Brute force complexity 5 from D=4 and nbp=5\n",
      "Computing brute force solution for dictionary dimension 5 and target_dimension 4\n"
     ]
    },
    {
     "name": "stderr",
     "output_type": "stream",
     "text": [
      "5it [00:00, 6851.20it/s]\n"
     ]
    },
    {
     "name": "stdout",
     "output_type": "stream",
     "text": [
      "Computing brute force solution for dictionary dimension 5 and target_dimension 4\n"
     ]
    },
    {
     "name": "stderr",
     "output_type": "stream",
     "text": [
      "5it [00:00, 6419.20it/s]"
     ]
    },
    {
     "name": "stdout",
     "output_type": "stream",
     "text": [
      "stage two time 0.0031888484954833984\n",
      "greedy time 0.026265859603881836\n",
      "basis pursuit time 2.0749146938323975\n",
      "here\n",
      "greedy []\n",
      "greedy [65]\n",
      "greedy [65, 50]\n",
      "greedy [65, 50, 2]\n",
      "greedy [65, 50, 2, 6]\n"
     ]
    },
    {
     "name": "stderr",
     "output_type": "stream",
     "text": [
      "\n"
     ]
    },
    {
     "name": "stdout",
     "output_type": "stream",
     "text": [
      "Brute force complexity 5 from D=4 and nbp=5\n",
      "Computing brute force solution for dictionary dimension 5 and target_dimension 4\n"
     ]
    },
    {
     "name": "stderr",
     "output_type": "stream",
     "text": [
      "5it [00:00, 12052.60it/s]\n"
     ]
    },
    {
     "name": "stdout",
     "output_type": "stream",
     "text": [
      "Computing brute force solution for dictionary dimension 5 and target_dimension 4\n"
     ]
    },
    {
     "name": "stderr",
     "output_type": "stream",
     "text": [
      "5it [00:00, 6107.02it/s]"
     ]
    },
    {
     "name": "stdout",
     "output_type": "stream",
     "text": [
      "stage two time 0.002293109893798828\n",
      "greedy time 0.017735004425048828\n",
      "basis pursuit time 2.8038928508758545\n",
      "here\n",
      "greedy []\n",
      "greedy [6]\n",
      "greedy [6, 36]\n",
      "greedy [6, 36, 15]\n",
      "greedy [6, 36, 15, 25]\n"
     ]
    },
    {
     "name": "stderr",
     "output_type": "stream",
     "text": [
      "\n"
     ]
    },
    {
     "name": "stdout",
     "output_type": "stream",
     "text": [
      "Brute force complexity 1 from D=4 and nbp=4\n",
      "Computing brute force solution for dictionary dimension 4 and target_dimension 4\n"
     ]
    },
    {
     "name": "stderr",
     "output_type": "stream",
     "text": [
      "1it [00:00, 3276.80it/s]\n"
     ]
    },
    {
     "name": "stdout",
     "output_type": "stream",
     "text": [
      "Computing brute force solution for dictionary dimension 4 and target_dimension 4\n"
     ]
    },
    {
     "name": "stderr",
     "output_type": "stream",
     "text": [
      "1it [00:00, 1646.76it/s]"
     ]
    },
    {
     "name": "stdout",
     "output_type": "stream",
     "text": [
      "stage two time 0.003134012222290039\n",
      "greedy time 0.017497777938842773\n",
      "basis pursuit time 1.6557278633117676\n",
      "here\n",
      "greedy []\n",
      "greedy [80]\n",
      "greedy [80, 9]\n",
      "greedy [80, 9, 82]\n",
      "greedy [80, 9, 82, 42]\n"
     ]
    },
    {
     "name": "stderr",
     "output_type": "stream",
     "text": [
      "\n"
     ]
    },
    {
     "name": "stdout",
     "output_type": "stream",
     "text": [
      "Brute force complexity 5 from D=4 and nbp=5\n",
      "Computing brute force solution for dictionary dimension 5 and target_dimension 4\n"
     ]
    },
    {
     "name": "stderr",
     "output_type": "stream",
     "text": [
      "5it [00:00, 11090.17it/s]\n"
     ]
    },
    {
     "name": "stdout",
     "output_type": "stream",
     "text": [
      "Computing brute force solution for dictionary dimension 5 and target_dimension 4\n"
     ]
    },
    {
     "name": "stderr",
     "output_type": "stream",
     "text": [
      "5it [00:00, 7299.52it/s]"
     ]
    },
    {
     "name": "stdout",
     "output_type": "stream",
     "text": [
      "stage two time 0.002150297164916992\n",
      "greedy time 0.024825096130371094\n",
      "basis pursuit time 1.8176441192626953\n",
      "here\n",
      "greedy []\n",
      "greedy [13]\n",
      "greedy [13, 22]\n",
      "greedy [13, 22, 44]\n",
      "greedy [13, 22, 44, 77]\n"
     ]
    },
    {
     "name": "stderr",
     "output_type": "stream",
     "text": [
      "\n"
     ]
    },
    {
     "name": "stdout",
     "output_type": "stream",
     "text": [
      "Brute force complexity 15 from D=4 and nbp=6\n",
      "Computing brute force solution for dictionary dimension 6 and target_dimension 4\n"
     ]
    },
    {
     "name": "stderr",
     "output_type": "stream",
     "text": [
      "15it [00:00, 10491.01it/s]\n"
     ]
    },
    {
     "name": "stdout",
     "output_type": "stream",
     "text": [
      "Computing brute force solution for dictionary dimension 6 and target_dimension 4\n"
     ]
    },
    {
     "name": "stderr",
     "output_type": "stream",
     "text": [
      "15it [00:00, 16889.81it/s]"
     ]
    },
    {
     "name": "stdout",
     "output_type": "stream",
     "text": [
      "stage two time 0.003668069839477539\n",
      "greedy time 0.019720077514648438\n",
      "basis pursuit time 2.219309091567993\n",
      "here\n",
      "greedy []\n",
      "greedy [14]\n",
      "greedy [14, 83]\n",
      "greedy [14, 83, 47]\n",
      "greedy [14, 83, 47, 19]\n"
     ]
    },
    {
     "name": "stderr",
     "output_type": "stream",
     "text": [
      "\n"
     ]
    },
    {
     "name": "stdout",
     "output_type": "stream",
     "text": [
      "Brute force complexity 15 from D=4 and nbp=6\n",
      "Computing brute force solution for dictionary dimension 6 and target_dimension 4\n"
     ]
    },
    {
     "name": "stderr",
     "output_type": "stream",
     "text": [
      "15it [00:00, 12929.42it/s]\n"
     ]
    },
    {
     "name": "stdout",
     "output_type": "stream",
     "text": [
      "Computing brute force solution for dictionary dimension 6 and target_dimension 4\n"
     ]
    },
    {
     "name": "stderr",
     "output_type": "stream",
     "text": [
      "15it [00:00, 15401.36it/s]"
     ]
    },
    {
     "name": "stdout",
     "output_type": "stream",
     "text": [
      "stage two time 0.003859996795654297\n",
      "greedy time 0.0200808048248291\n",
      "basis pursuit time 2.3594090938568115\n",
      "here\n",
      "greedy []\n",
      "greedy [7]\n",
      "greedy [7, 58]\n",
      "greedy [7, 58, 47]\n",
      "greedy [7, 58, 47, 6]\n"
     ]
    },
    {
     "name": "stderr",
     "output_type": "stream",
     "text": [
      "\n"
     ]
    },
    {
     "name": "stdout",
     "output_type": "stream",
     "text": [
      "Brute force complexity 1 from D=4 and nbp=4\n",
      "Computing brute force solution for dictionary dimension 4 and target_dimension 4\n"
     ]
    },
    {
     "name": "stderr",
     "output_type": "stream",
     "text": [
      "1it [00:00, 2576.35it/s]\n"
     ]
    },
    {
     "name": "stdout",
     "output_type": "stream",
     "text": [
      "Computing brute force solution for dictionary dimension 4 and target_dimension 4\n"
     ]
    },
    {
     "name": "stderr",
     "output_type": "stream",
     "text": [
      "1it [00:00, 1602.71it/s]"
     ]
    },
    {
     "name": "stdout",
     "output_type": "stream",
     "text": [
      "stage two time 0.002368927001953125\n",
      "greedy time 0.018409013748168945\n",
      "basis pursuit time 2.174353837966919\n",
      "here\n",
      "greedy []\n",
      "greedy [7]\n",
      "greedy [7, 71]\n",
      "greedy [7, 71, 68]\n",
      "greedy [7, 71, 68, 29]\n"
     ]
    },
    {
     "name": "stderr",
     "output_type": "stream",
     "text": [
      "\n"
     ]
    },
    {
     "name": "stdout",
     "output_type": "stream",
     "text": [
      "Brute force complexity 5 from D=4 and nbp=5\n",
      "Computing brute force solution for dictionary dimension 5 and target_dimension 4\n"
     ]
    },
    {
     "name": "stderr",
     "output_type": "stream",
     "text": [
      "5it [00:00, 7182.03it/s]\n"
     ]
    },
    {
     "name": "stdout",
     "output_type": "stream",
     "text": [
      "Computing brute force solution for dictionary dimension 5 and target_dimension 4\n"
     ]
    },
    {
     "name": "stderr",
     "output_type": "stream",
     "text": [
      "5it [00:00, 4980.18it/s]"
     ]
    },
    {
     "name": "stdout",
     "output_type": "stream",
     "text": [
      "stage two time 0.002332925796508789\n",
      "greedy time 0.02173900604248047\n",
      "basis pursuit time 2.3090639114379883\n",
      "here\n",
      "greedy []\n",
      "greedy [68]\n",
      "greedy [68, 18]\n",
      "greedy [68, 18, 40]\n",
      "greedy [68, 18, 40, 67]\n"
     ]
    },
    {
     "name": "stderr",
     "output_type": "stream",
     "text": [
      "\n"
     ]
    },
    {
     "name": "stdout",
     "output_type": "stream",
     "text": [
      "Brute force complexity 5 from D=4 and nbp=5\n",
      "Computing brute force solution for dictionary dimension 5 and target_dimension 4\n"
     ]
    },
    {
     "name": "stderr",
     "output_type": "stream",
     "text": [
      "5it [00:00, 4068.19it/s]\n"
     ]
    },
    {
     "name": "stdout",
     "output_type": "stream",
     "text": [
      "Computing brute force solution for dictionary dimension 5 and target_dimension 4\n"
     ]
    },
    {
     "name": "stderr",
     "output_type": "stream",
     "text": [
      "5it [00:00, 16070.13it/s]"
     ]
    },
    {
     "name": "stdout",
     "output_type": "stream",
     "text": [
      "stage two time 0.0052471160888671875\n",
      "greedy time 0.020217180252075195\n",
      "basis pursuit time 2.2961509227752686\n",
      "here\n",
      "greedy []\n",
      "greedy [49]\n",
      "greedy [49, 24]\n",
      "greedy [49, 24, 32]\n",
      "greedy [49, 24, 32, 56]\n"
     ]
    },
    {
     "name": "stderr",
     "output_type": "stream",
     "text": [
      "\n"
     ]
    },
    {
     "name": "stdout",
     "output_type": "stream",
     "text": [
      "Brute force complexity 15 from D=4 and nbp=6\n",
      "Computing brute force solution for dictionary dimension 6 and target_dimension 4\n"
     ]
    },
    {
     "name": "stderr",
     "output_type": "stream",
     "text": [
      "15it [00:00, 13318.07it/s]\n"
     ]
    },
    {
     "name": "stdout",
     "output_type": "stream",
     "text": [
      "Computing brute force solution for dictionary dimension 6 and target_dimension 4\n"
     ]
    },
    {
     "name": "stderr",
     "output_type": "stream",
     "text": [
      "15it [00:00, 12842.33it/s]"
     ]
    },
    {
     "name": "stdout",
     "output_type": "stream",
     "text": [
      "stage two time 0.003045797348022461\n",
      "greedy time 0.021946191787719727\n",
      "basis pursuit time 2.263226270675659\n",
      "here\n",
      "greedy []\n",
      "greedy [9]\n",
      "greedy [9, 46]\n",
      "greedy [9, 46, 11]\n",
      "greedy [9, 46, 11, 71]\n"
     ]
    },
    {
     "name": "stderr",
     "output_type": "stream",
     "text": [
      "\n"
     ]
    },
    {
     "name": "stdout",
     "output_type": "stream",
     "text": [
      "Brute force complexity 15 from D=4 and nbp=6\n",
      "Computing brute force solution for dictionary dimension 6 and target_dimension 4\n"
     ]
    },
    {
     "name": "stderr",
     "output_type": "stream",
     "text": [
      "15it [00:00, 10862.32it/s]\n"
     ]
    },
    {
     "name": "stdout",
     "output_type": "stream",
     "text": [
      "Computing brute force solution for dictionary dimension 6 and target_dimension 4\n"
     ]
    },
    {
     "name": "stderr",
     "output_type": "stream",
     "text": [
      "15it [00:00, 10600.60it/s]"
     ]
    },
    {
     "name": "stdout",
     "output_type": "stream",
     "text": [
      "stage two time 0.0033080577850341797\n",
      "greedy time 0.02102518081665039\n",
      "basis pursuit time 2.456601142883301\n",
      "here\n",
      "greedy []\n",
      "greedy [85]\n",
      "greedy [85, 19]\n",
      "greedy [85, 19, 71]\n",
      "greedy [85, 19, 71, 35]\n"
     ]
    },
    {
     "name": "stderr",
     "output_type": "stream",
     "text": [
      "\n"
     ]
    },
    {
     "name": "stdout",
     "output_type": "stream",
     "text": [
      "Brute force complexity 5 from D=4 and nbp=5\n",
      "Computing brute force solution for dictionary dimension 5 and target_dimension 4\n"
     ]
    },
    {
     "name": "stderr",
     "output_type": "stream",
     "text": [
      "5it [00:00, 8322.03it/s]\n"
     ]
    },
    {
     "name": "stdout",
     "output_type": "stream",
     "text": [
      "Computing brute force solution for dictionary dimension 5 and target_dimension 4\n"
     ]
    },
    {
     "name": "stderr",
     "output_type": "stream",
     "text": [
      "5it [00:00, 5224.59it/s]"
     ]
    },
    {
     "name": "stdout",
     "output_type": "stream",
     "text": [
      "stage two time 0.0025289058685302734\n",
      "greedy time 0.020010948181152344\n",
      "basis pursuit time 1.9283068180084229\n",
      "here\n",
      "greedy []\n",
      "greedy [80]\n",
      "greedy [80, 85]\n",
      "greedy [80, 85, 88]\n",
      "greedy [80, 85, 88, 29]\n"
     ]
    },
    {
     "name": "stderr",
     "output_type": "stream",
     "text": [
      "\n"
     ]
    },
    {
     "name": "stdout",
     "output_type": "stream",
     "text": [
      "Brute force complexity 35 from D=4 and nbp=7\n",
      "Computing brute force solution for dictionary dimension 7 and target_dimension 4\n"
     ]
    },
    {
     "name": "stderr",
     "output_type": "stream",
     "text": [
      "35it [00:00, 14882.47it/s]\n"
     ]
    },
    {
     "name": "stdout",
     "output_type": "stream",
     "text": [
      "Computing brute force solution for dictionary dimension 7 and target_dimension 4\n"
     ]
    },
    {
     "name": "stderr",
     "output_type": "stream",
     "text": [
      "35it [00:00, 21174.19it/s]"
     ]
    },
    {
     "name": "stdout",
     "output_type": "stream",
     "text": [
      "stage two time 0.004523038864135742\n",
      "greedy time 0.02428913116455078\n",
      "basis pursuit time 2.4311680793762207\n",
      "here\n",
      "greedy []\n",
      "greedy [80]\n",
      "greedy [80, 83]\n",
      "greedy [80, 83, 63]\n",
      "greedy [80, 83, 63, 3]\n"
     ]
    },
    {
     "name": "stderr",
     "output_type": "stream",
     "text": [
      "\n"
     ]
    },
    {
     "name": "stdout",
     "output_type": "stream",
     "text": [
      "Brute force complexity 35 from D=4 and nbp=7\n",
      "Computing brute force solution for dictionary dimension 7 and target_dimension 4\n"
     ]
    },
    {
     "name": "stderr",
     "output_type": "stream",
     "text": [
      "35it [00:00, 21487.21it/s]\n"
     ]
    },
    {
     "name": "stdout",
     "output_type": "stream",
     "text": [
      "Computing brute force solution for dictionary dimension 7 and target_dimension 4\n"
     ]
    },
    {
     "name": "stderr",
     "output_type": "stream",
     "text": [
      "35it [00:00, 22591.67it/s]"
     ]
    },
    {
     "name": "stdout",
     "output_type": "stream",
     "text": [
      "stage two time 0.0035593509674072266\n",
      "greedy time 0.020727872848510742\n",
      "basis pursuit time 2.1254289150238037\n",
      "here\n",
      "greedy []\n",
      "greedy [77]\n",
      "greedy [77, 16]\n",
      "greedy [77, 16, 62]\n",
      "greedy [77, 16, 62, 69]\n"
     ]
    },
    {
     "name": "stderr",
     "output_type": "stream",
     "text": [
      "\n"
     ]
    },
    {
     "name": "stdout",
     "output_type": "stream",
     "text": [
      "Brute force complexity 35 from D=4 and nbp=7\n",
      "Computing brute force solution for dictionary dimension 7 and target_dimension 4\n"
     ]
    },
    {
     "name": "stderr",
     "output_type": "stream",
     "text": [
      "35it [00:00, 20772.70it/s]\n"
     ]
    },
    {
     "name": "stdout",
     "output_type": "stream",
     "text": [
      "Computing brute force solution for dictionary dimension 7 and target_dimension 4\n"
     ]
    },
    {
     "name": "stderr",
     "output_type": "stream",
     "text": [
      "35it [00:00, 22480.96it/s]"
     ]
    },
    {
     "name": "stdout",
     "output_type": "stream",
     "text": [
      "stage two time 0.003464221954345703\n",
      "greedy time 0.018035173416137695\n",
      "basis pursuit time 2.3136401176452637\n",
      "here\n",
      "greedy []\n",
      "greedy [73]\n",
      "greedy [73, 58]\n",
      "greedy [73, 58, 15]\n",
      "greedy [73, 58, 15, 35]\n"
     ]
    },
    {
     "name": "stderr",
     "output_type": "stream",
     "text": [
      "\n"
     ]
    },
    {
     "name": "stdout",
     "output_type": "stream",
     "text": [
      "Brute force complexity 5 from D=4 and nbp=5\n",
      "Computing brute force solution for dictionary dimension 5 and target_dimension 4\n"
     ]
    },
    {
     "name": "stderr",
     "output_type": "stream",
     "text": [
      "5it [00:00, 9976.94it/s]\n"
     ]
    },
    {
     "name": "stdout",
     "output_type": "stream",
     "text": [
      "Computing brute force solution for dictionary dimension 5 and target_dimension 4\n"
     ]
    },
    {
     "name": "stderr",
     "output_type": "stream",
     "text": [
      "5it [00:00, 5371.80it/s]"
     ]
    },
    {
     "name": "stdout",
     "output_type": "stream",
     "text": [
      "stage two time 0.002584218978881836\n",
      "greedy time 0.019732952117919922\n",
      "basis pursuit time 1.6657681465148926\n",
      "here\n",
      "greedy []\n",
      "greedy [67]\n",
      "greedy [67, 41]\n",
      "greedy [67, 41, 38]\n",
      "greedy [67, 41, 38, 15]\n"
     ]
    },
    {
     "name": "stderr",
     "output_type": "stream",
     "text": [
      "\n"
     ]
    },
    {
     "name": "stdout",
     "output_type": "stream",
     "text": [
      "Brute force complexity 15 from D=4 and nbp=6\n",
      "Computing brute force solution for dictionary dimension 6 and target_dimension 4\n"
     ]
    },
    {
     "name": "stderr",
     "output_type": "stream",
     "text": [
      "15it [00:00, 12585.43it/s]\n"
     ]
    },
    {
     "name": "stdout",
     "output_type": "stream",
     "text": [
      "Computing brute force solution for dictionary dimension 6 and target_dimension 4\n"
     ]
    },
    {
     "name": "stderr",
     "output_type": "stream",
     "text": [
      "15it [00:00, 20943.60it/s]"
     ]
    },
    {
     "name": "stdout",
     "output_type": "stream",
     "text": [
      "stage two time 0.003923892974853516\n",
      "greedy time 0.020225048065185547\n",
      "basis pursuit time 2.1412580013275146\n",
      "here\n",
      "greedy []\n",
      "greedy [19]\n",
      "greedy [19, 37]\n",
      "greedy [19, 37, 12]\n",
      "greedy [19, 37, 12, 44]\n"
     ]
    },
    {
     "name": "stderr",
     "output_type": "stream",
     "text": [
      "\n"
     ]
    },
    {
     "name": "stdout",
     "output_type": "stream",
     "text": [
      "Brute force complexity 15 from D=4 and nbp=6\n",
      "Computing brute force solution for dictionary dimension 6 and target_dimension 4\n"
     ]
    },
    {
     "name": "stderr",
     "output_type": "stream",
     "text": [
      "15it [00:00, 12562.81it/s]\n"
     ]
    },
    {
     "name": "stdout",
     "output_type": "stream",
     "text": [
      "Computing brute force solution for dictionary dimension 6 and target_dimension 4\n"
     ]
    },
    {
     "name": "stderr",
     "output_type": "stream",
     "text": [
      "15it [00:00, 10736.27it/s]"
     ]
    },
    {
     "name": "stdout",
     "output_type": "stream",
     "text": [
      "stage two time 0.0031800270080566406\n",
      "greedy time 0.02055811882019043\n",
      "basis pursuit time 1.663233757019043\n",
      "here\n",
      "greedy []\n",
      "greedy [36]\n",
      "greedy [36, 61]\n",
      "greedy [36, 61, 68]\n",
      "greedy [36, 61, 68, 20]\n"
     ]
    },
    {
     "name": "stderr",
     "output_type": "stream",
     "text": [
      "\n"
     ]
    },
    {
     "name": "stdout",
     "output_type": "stream",
     "text": [
      "Brute force complexity 35 from D=4 and nbp=7\n",
      "Computing brute force solution for dictionary dimension 7 and target_dimension 4\n"
     ]
    },
    {
     "name": "stderr",
     "output_type": "stream",
     "text": [
      "35it [00:00, 20796.24it/s]\n"
     ]
    },
    {
     "name": "stdout",
     "output_type": "stream",
     "text": [
      "Computing brute force solution for dictionary dimension 7 and target_dimension 4\n"
     ]
    },
    {
     "name": "stderr",
     "output_type": "stream",
     "text": [
      "35it [00:00, 14675.66it/s]"
     ]
    },
    {
     "name": "stdout",
     "output_type": "stream",
     "text": [
      "stage two time 0.003448009490966797\n",
      "greedy time 0.016788005828857422\n",
      "basis pursuit time 2.0709898471832275\n",
      "here\n",
      "greedy []\n",
      "greedy [81]\n",
      "greedy [81, 33]\n",
      "greedy [81, 33, 36]\n",
      "greedy [81, 33, 36, 1]\n"
     ]
    },
    {
     "name": "stderr",
     "output_type": "stream",
     "text": [
      "\n"
     ]
    },
    {
     "name": "stdout",
     "output_type": "stream",
     "text": [
      "Brute force complexity 15 from D=4 and nbp=6\n",
      "Computing brute force solution for dictionary dimension 6 and target_dimension 4\n"
     ]
    },
    {
     "name": "stderr",
     "output_type": "stream",
     "text": [
      "15it [00:00, 13573.80it/s]\n"
     ]
    },
    {
     "name": "stdout",
     "output_type": "stream",
     "text": [
      "Computing brute force solution for dictionary dimension 6 and target_dimension 4\n"
     ]
    },
    {
     "name": "stderr",
     "output_type": "stream",
     "text": [
      "15it [00:00, 12297.61it/s]"
     ]
    },
    {
     "name": "stdout",
     "output_type": "stream",
     "text": [
      "stage two time 0.0026361942291259766\n",
      "greedy time 0.016562938690185547\n",
      "basis pursuit time 2.2526252269744873\n",
      "wine_standardized\n",
      "here\n",
      "greedy []\n",
      "greedy [21]\n",
      "greedy [21, 76]\n",
      "greedy [21, 76, 35]\n",
      "greedy [21, 76, 35, 82]\n",
      "greedy [21, 76, 35, 82, 72]\n"
     ]
    },
    {
     "name": "stderr",
     "output_type": "stream",
     "text": [
      "\n"
     ]
    },
    {
     "name": "stdout",
     "output_type": "stream",
     "text": [
      "Brute force complexity 1 from D=5 and nbp=5\n",
      "Computing brute force solution for dictionary dimension 5 and target_dimension 5\n"
     ]
    },
    {
     "name": "stderr",
     "output_type": "stream",
     "text": [
      "1it [00:00, 4346.43it/s]\n"
     ]
    },
    {
     "name": "stdout",
     "output_type": "stream",
     "text": [
      "Computing brute force solution for dictionary dimension 5 and target_dimension 5\n"
     ]
    },
    {
     "name": "stderr",
     "output_type": "stream",
     "text": [
      "1it [00:00, 2576.35it/s]"
     ]
    },
    {
     "name": "stdout",
     "output_type": "stream",
     "text": [
      "stage two time 0.002357006072998047\n",
      "greedy time 0.02257823944091797\n",
      "basis pursuit time 2.187021255493164\n",
      "here\n",
      "greedy []\n",
      "greedy [19]\n",
      "greedy [19, 78]\n",
      "greedy [19, 78, 80]\n",
      "greedy [19, 78, 80, 32]\n",
      "greedy [19, 78, 80, 32, 52]\n"
     ]
    },
    {
     "name": "stderr",
     "output_type": "stream",
     "text": [
      "\n"
     ]
    },
    {
     "name": "stdout",
     "output_type": "stream",
     "text": [
      "Brute force complexity 1 from D=5 and nbp=5\n",
      "Computing brute force solution for dictionary dimension 5 and target_dimension 5\n"
     ]
    },
    {
     "name": "stderr",
     "output_type": "stream",
     "text": [
      "1it [00:00, 2262.30it/s]\n"
     ]
    },
    {
     "name": "stdout",
     "output_type": "stream",
     "text": [
      "Computing brute force solution for dictionary dimension 5 and target_dimension 5\n"
     ]
    },
    {
     "name": "stderr",
     "output_type": "stream",
     "text": [
      "1it [00:00, 2470.14it/s]"
     ]
    },
    {
     "name": "stdout",
     "output_type": "stream",
     "text": [
      "stage two time 0.0027022361755371094\n",
      "greedy time 0.0234987735748291\n",
      "basis pursuit time 1.8996140956878662\n",
      "here\n",
      "greedy []\n",
      "greedy [33]\n",
      "greedy [33, 7]\n",
      "greedy [33, 7, 17]\n",
      "greedy [33, 7, 17, 30]\n",
      "greedy [33, 7, 17, 30, 4]\n"
     ]
    },
    {
     "name": "stderr",
     "output_type": "stream",
     "text": [
      "\n"
     ]
    },
    {
     "name": "stdout",
     "output_type": "stream",
     "text": [
      "Brute force complexity 6 from D=5 and nbp=6\n",
      "Computing brute force solution for dictionary dimension 6 and target_dimension 5\n"
     ]
    },
    {
     "name": "stderr",
     "output_type": "stream",
     "text": [
      "6it [00:00, 12658.87it/s]\n"
     ]
    },
    {
     "name": "stdout",
     "output_type": "stream",
     "text": [
      "Computing brute force solution for dictionary dimension 6 and target_dimension 5\n"
     ]
    },
    {
     "name": "stderr",
     "output_type": "stream",
     "text": [
      "6it [00:00, 8914.57it/s]"
     ]
    },
    {
     "name": "stdout",
     "output_type": "stream",
     "text": [
      "stage two time 0.002292156219482422\n",
      "greedy time 0.024013042449951172\n",
      "basis pursuit time 2.0975301265716553\n",
      "here\n",
      "greedy []\n",
      "greedy [43]\n",
      "greedy [43, 5]\n",
      "greedy [43, 5, 39]\n",
      "greedy [43, 5, 39, 13]\n",
      "greedy [43, 5, 39, 13, 72]\n"
     ]
    },
    {
     "name": "stderr",
     "output_type": "stream",
     "text": [
      "\n"
     ]
    },
    {
     "name": "stdout",
     "output_type": "stream",
     "text": [
      "Brute force complexity 1 from D=5 and nbp=5\n",
      "Computing brute force solution for dictionary dimension 5 and target_dimension 5\n"
     ]
    },
    {
     "name": "stderr",
     "output_type": "stream",
     "text": [
      "1it [00:00, 2457.12it/s]\n"
     ]
    },
    {
     "name": "stdout",
     "output_type": "stream",
     "text": [
      "Computing brute force solution for dictionary dimension 5 and target_dimension 5\n"
     ]
    },
    {
     "name": "stderr",
     "output_type": "stream",
     "text": [
      "1it [00:00, 2368.33it/s]"
     ]
    },
    {
     "name": "stdout",
     "output_type": "stream",
     "text": [
      "stage two time 0.0022869110107421875\n",
      "greedy time 0.02510690689086914\n",
      "basis pursuit time 1.799128770828247\n",
      "here\n",
      "greedy []\n",
      "greedy [17]\n",
      "greedy [17, 40]\n",
      "greedy [17, 40, 0]\n",
      "greedy [17, 40, 0, 49]\n",
      "greedy [17, 40, 0, 49, 6]\n"
     ]
    },
    {
     "name": "stderr",
     "output_type": "stream",
     "text": [
      "\n"
     ]
    },
    {
     "name": "stdout",
     "output_type": "stream",
     "text": [
      "Brute force complexity 1 from D=5 and nbp=5\n",
      "Computing brute force solution for dictionary dimension 5 and target_dimension 5\n"
     ]
    },
    {
     "name": "stderr",
     "output_type": "stream",
     "text": [
      "1it [00:00, 4293.04it/s]\n"
     ]
    },
    {
     "name": "stdout",
     "output_type": "stream",
     "text": [
      "Computing brute force solution for dictionary dimension 5 and target_dimension 5\n"
     ]
    },
    {
     "name": "stderr",
     "output_type": "stream",
     "text": [
      "1it [00:00, 4293.04it/s]"
     ]
    },
    {
     "name": "stdout",
     "output_type": "stream",
     "text": [
      "stage two time 0.001965761184692383\n",
      "greedy time 0.02291131019592285\n",
      "basis pursuit time 1.9817290306091309\n",
      "here\n",
      "greedy []\n",
      "greedy [55]\n",
      "greedy [55, 32]\n",
      "greedy [55, 32, 44]\n",
      "greedy [55, 32, 44, 80]\n",
      "greedy [55, 32, 44, 80, 79]\n"
     ]
    },
    {
     "name": "stderr",
     "output_type": "stream",
     "text": [
      "\n"
     ]
    },
    {
     "name": "stdout",
     "output_type": "stream",
     "text": [
      "Brute force complexity 1 from D=5 and nbp=5\n",
      "Computing brute force solution for dictionary dimension 5 and target_dimension 5\n"
     ]
    },
    {
     "name": "stderr",
     "output_type": "stream",
     "text": [
      "1it [00:00, 4013.69it/s]\n"
     ]
    },
    {
     "name": "stdout",
     "output_type": "stream",
     "text": [
      "Computing brute force solution for dictionary dimension 5 and target_dimension 5\n"
     ]
    },
    {
     "name": "stderr",
     "output_type": "stream",
     "text": [
      "1it [00:00, 1436.90it/s]"
     ]
    },
    {
     "name": "stdout",
     "output_type": "stream",
     "text": [
      "stage two time 0.002318143844604492\n",
      "greedy time 0.025761127471923828\n",
      "basis pursuit time 2.044422149658203\n",
      "here\n",
      "greedy []\n",
      "greedy [65]\n",
      "greedy [65, 45]\n",
      "greedy [65, 45, 28]\n",
      "greedy [65, 45, 28, 29]\n",
      "greedy [65, 45, 28, 29, 6]\n"
     ]
    },
    {
     "name": "stderr",
     "output_type": "stream",
     "text": [
      "\n"
     ]
    },
    {
     "name": "stdout",
     "output_type": "stream",
     "text": [
      "Brute force complexity 1 from D=5 and nbp=5\n",
      "Computing brute force solution for dictionary dimension 5 and target_dimension 5\n"
     ]
    },
    {
     "name": "stderr",
     "output_type": "stream",
     "text": [
      "1it [00:00, 2353.71it/s]\n"
     ]
    },
    {
     "name": "stdout",
     "output_type": "stream",
     "text": [
      "Computing brute force solution for dictionary dimension 5 and target_dimension 5\n"
     ]
    },
    {
     "name": "stderr",
     "output_type": "stream",
     "text": [
      "1it [00:00, 2590.68it/s]"
     ]
    },
    {
     "name": "stdout",
     "output_type": "stream",
     "text": [
      "stage two time 0.00214385986328125\n",
      "greedy time 0.025883913040161133\n",
      "basis pursuit time 1.9617130756378174\n",
      "here\n",
      "greedy []\n",
      "greedy [6]\n",
      "greedy [6, 45]\n",
      "greedy [6, 45, 3]\n",
      "greedy [6, 45, 3, 76]\n",
      "greedy [6, 45, 3, 76, 25]\n"
     ]
    },
    {
     "name": "stderr",
     "output_type": "stream",
     "text": [
      "\n"
     ]
    },
    {
     "name": "stdout",
     "output_type": "stream",
     "text": [
      "Brute force complexity 1 from D=5 and nbp=5\n",
      "Computing brute force solution for dictionary dimension 5 and target_dimension 5\n"
     ]
    },
    {
     "name": "stderr",
     "output_type": "stream",
     "text": [
      "1it [00:00, 3021.83it/s]\n"
     ]
    },
    {
     "name": "stdout",
     "output_type": "stream",
     "text": [
      "Computing brute force solution for dictionary dimension 5 and target_dimension 5\n"
     ]
    },
    {
     "name": "stderr",
     "output_type": "stream",
     "text": [
      "1it [00:00, 2519.10it/s]\n"
     ]
    },
    {
     "name": "stdout",
     "output_type": "stream",
     "text": [
      "stage two time 0.002073049545288086\n",
      "greedy time 0.0297091007232666\n",
      "basis pursuit time 1.8993778228759766\n",
      "here\n",
      "greedy []\n",
      "greedy [59]\n",
      "greedy [59, 13]\n",
      "greedy [59, 13, 79]\n",
      "greedy [59, 13, 79, 62]\n",
      "greedy [59, 13, 79, 62, 78]\n",
      "Brute force complexity 1 from D=5 and nbp=5\n",
      "Computing brute force solution for dictionary dimension 5 and target_dimension 5\n"
     ]
    },
    {
     "name": "stderr",
     "output_type": "stream",
     "text": [
      "1it [00:00, 4739.33it/s]\n"
     ]
    },
    {
     "name": "stdout",
     "output_type": "stream",
     "text": [
      "Computing brute force solution for dictionary dimension 5 and target_dimension 5\n"
     ]
    },
    {
     "name": "stderr",
     "output_type": "stream",
     "text": [
      "1it [00:00, 6141.00it/s]"
     ]
    },
    {
     "name": "stdout",
     "output_type": "stream",
     "text": [
      "stage two time 0.0040781497955322266\n",
      "greedy time 0.024570703506469727\n",
      "basis pursuit time 0.028896093368530273\n",
      "here\n",
      "greedy []\n",
      "greedy [13]\n",
      "greedy [13, 33]\n",
      "greedy [13, 33, 10]\n",
      "greedy [13, 33, 10, 75]\n",
      "greedy [13, 33, 10, 75, 66]\n"
     ]
    },
    {
     "name": "stderr",
     "output_type": "stream",
     "text": [
      "\n"
     ]
    },
    {
     "name": "stdout",
     "output_type": "stream",
     "text": [
      "Brute force complexity 1 from D=5 and nbp=5\n",
      "Computing brute force solution for dictionary dimension 5 and target_dimension 5\n"
     ]
    },
    {
     "name": "stderr",
     "output_type": "stream",
     "text": [
      "1it [00:00, 3366.22it/s]\n"
     ]
    },
    {
     "name": "stdout",
     "output_type": "stream",
     "text": [
      "Computing brute force solution for dictionary dimension 5 and target_dimension 5\n"
     ]
    },
    {
     "name": "stderr",
     "output_type": "stream",
     "text": [
      "1it [00:00, 2637.93it/s]"
     ]
    },
    {
     "name": "stdout",
     "output_type": "stream",
     "text": [
      "stage two time 0.0023758411407470703\n",
      "greedy time 0.0257570743560791\n",
      "basis pursuit time 1.9467189311981201\n",
      "here\n",
      "greedy []\n",
      "greedy [14]\n",
      "greedy [14, 86]\n",
      "greedy [14, 86, 30]\n",
      "greedy [14, 86, 30, 32]\n",
      "greedy [14, 86, 30, 32, 53]\n"
     ]
    },
    {
     "name": "stderr",
     "output_type": "stream",
     "text": [
      "\n"
     ]
    },
    {
     "name": "stdout",
     "output_type": "stream",
     "text": [
      "Brute force complexity 1 from D=5 and nbp=5\n",
      "Computing brute force solution for dictionary dimension 5 and target_dimension 5\n"
     ]
    },
    {
     "name": "stderr",
     "output_type": "stream",
     "text": [
      "1it [00:00, 1934.64it/s]\n"
     ]
    },
    {
     "name": "stdout",
     "output_type": "stream",
     "text": [
      "Computing brute force solution for dictionary dimension 5 and target_dimension 5\n"
     ]
    },
    {
     "name": "stderr",
     "output_type": "stream",
     "text": [
      "1it [00:00, 4877.10it/s]"
     ]
    },
    {
     "name": "stdout",
     "output_type": "stream",
     "text": [
      "stage two time 0.002405881881713867\n",
      "greedy time 0.04848527908325195\n",
      "basis pursuit time 2.023010015487671\n",
      "here\n",
      "greedy []\n",
      "greedy [7]\n",
      "greedy [7, 0]\n",
      "greedy [7, 0, 17]\n",
      "greedy [7, 0, 17, 20]\n",
      "greedy [7, 0, 17, 20, 72]\n"
     ]
    },
    {
     "name": "stderr",
     "output_type": "stream",
     "text": [
      "\n"
     ]
    },
    {
     "name": "stdout",
     "output_type": "stream",
     "text": [
      "Brute force complexity 1 from D=5 and nbp=5\n",
      "Computing brute force solution for dictionary dimension 5 and target_dimension 5\n"
     ]
    },
    {
     "name": "stderr",
     "output_type": "stream",
     "text": [
      "1it [00:00, 3387.97it/s]\n"
     ]
    },
    {
     "name": "stdout",
     "output_type": "stream",
     "text": [
      "Computing brute force solution for dictionary dimension 5 and target_dimension 5\n"
     ]
    },
    {
     "name": "stderr",
     "output_type": "stream",
     "text": [
      "1it [00:00, 2618.17it/s]"
     ]
    },
    {
     "name": "stdout",
     "output_type": "stream",
     "text": [
      "stage two time 0.002244710922241211\n",
      "greedy time 0.024207115173339844\n",
      "basis pursuit time 1.8651273250579834\n",
      "here\n",
      "greedy []\n",
      "greedy [7]\n",
      "greedy [7, 55]\n",
      "greedy [7, 55, 36]\n",
      "greedy [7, 55, 36, 15]\n",
      "greedy [7, 55, 36, 15, 49]\n"
     ]
    },
    {
     "name": "stderr",
     "output_type": "stream",
     "text": [
      "\n"
     ]
    },
    {
     "name": "stdout",
     "output_type": "stream",
     "text": [
      "Brute force complexity 1 from D=5 and nbp=5\n",
      "Computing brute force solution for dictionary dimension 5 and target_dimension 5\n"
     ]
    },
    {
     "name": "stderr",
     "output_type": "stream",
     "text": [
      "1it [00:00, 4064.25it/s]\n"
     ]
    },
    {
     "name": "stdout",
     "output_type": "stream",
     "text": [
      "Computing brute force solution for dictionary dimension 5 and target_dimension 5\n"
     ]
    },
    {
     "name": "stderr",
     "output_type": "stream",
     "text": [
      "1it [00:00, 2517.59it/s]"
     ]
    },
    {
     "name": "stdout",
     "output_type": "stream",
     "text": [
      "stage two time 0.0024061203002929688\n",
      "greedy time 0.02320098876953125\n",
      "basis pursuit time 1.9808337688446045\n",
      "here\n",
      "greedy []\n",
      "greedy [68]\n",
      "greedy [68, 18]\n",
      "greedy [68, 18, 12]\n",
      "greedy [68, 18, 12, 49]\n",
      "greedy [68, 18, 12, 49, 77]\n"
     ]
    },
    {
     "name": "stderr",
     "output_type": "stream",
     "text": [
      "\n"
     ]
    },
    {
     "name": "stdout",
     "output_type": "stream",
     "text": [
      "Brute force complexity 1 from D=5 and nbp=5\n",
      "Computing brute force solution for dictionary dimension 5 and target_dimension 5\n"
     ]
    },
    {
     "name": "stderr",
     "output_type": "stream",
     "text": [
      "1it [00:00, 1302.17it/s]\n"
     ]
    },
    {
     "name": "stdout",
     "output_type": "stream",
     "text": [
      "Computing brute force solution for dictionary dimension 5 and target_dimension 5\n"
     ]
    },
    {
     "name": "stderr",
     "output_type": "stream",
     "text": [
      "1it [00:00, 2770.35it/s]"
     ]
    },
    {
     "name": "stdout",
     "output_type": "stream",
     "text": [
      "stage two time 0.0023818016052246094\n",
      "greedy time 0.024255990982055664\n",
      "basis pursuit time 1.8278450965881348\n",
      "here\n",
      "greedy []\n",
      "greedy [49]\n",
      "greedy [49, 28]\n",
      "greedy [49, 28, 34]\n",
      "greedy [49, 28, 34, 26]\n",
      "greedy [49, 28, 34, 26, 69]\n"
     ]
    },
    {
     "name": "stderr",
     "output_type": "stream",
     "text": [
      "\n"
     ]
    },
    {
     "name": "stdout",
     "output_type": "stream",
     "text": [
      "Brute force complexity 1 from D=5 and nbp=5\n",
      "Computing brute force solution for dictionary dimension 5 and target_dimension 5\n"
     ]
    },
    {
     "name": "stderr",
     "output_type": "stream",
     "text": [
      "1it [00:00, 2631.31it/s]\n"
     ]
    },
    {
     "name": "stdout",
     "output_type": "stream",
     "text": [
      "Computing brute force solution for dictionary dimension 5 and target_dimension 5\n"
     ]
    },
    {
     "name": "stderr",
     "output_type": "stream",
     "text": [
      "1it [00:00, 2115.13it/s]"
     ]
    },
    {
     "name": "stdout",
     "output_type": "stream",
     "text": [
      "stage two time 0.0020956993103027344\n",
      "greedy time 0.02635812759399414\n",
      "basis pursuit time 1.9867980480194092\n",
      "here\n",
      "greedy []\n",
      "greedy [36]\n",
      "greedy [36, 74]\n",
      "greedy [36, 74, 16]\n",
      "greedy [36, 74, 16, 51]\n",
      "greedy [36, 74, 16, 51, 85]\n"
     ]
    },
    {
     "name": "stderr",
     "output_type": "stream",
     "text": [
      "\n"
     ]
    },
    {
     "name": "stdout",
     "output_type": "stream",
     "text": [
      "Brute force complexity 6 from D=5 and nbp=6\n",
      "Computing brute force solution for dictionary dimension 6 and target_dimension 5\n"
     ]
    },
    {
     "name": "stderr",
     "output_type": "stream",
     "text": [
      "6it [00:00, 9348.37it/s]\n"
     ]
    },
    {
     "name": "stdout",
     "output_type": "stream",
     "text": [
      "Computing brute force solution for dictionary dimension 6 and target_dimension 5\n"
     ]
    },
    {
     "name": "stderr",
     "output_type": "stream",
     "text": [
      "6it [00:00, 6913.69it/s]"
     ]
    },
    {
     "name": "stdout",
     "output_type": "stream",
     "text": [
      "stage two time 0.0022029876708984375\n",
      "greedy time 0.0248410701751709\n",
      "basis pursuit time 1.9489898681640625\n",
      "here\n",
      "greedy []\n",
      "greedy [85]\n",
      "greedy [85, 55]\n",
      "greedy [85, 55, 11]\n",
      "greedy [85, 55, 11, 30]\n",
      "greedy [85, 55, 11, 30, 61]\n"
     ]
    },
    {
     "name": "stderr",
     "output_type": "stream",
     "text": [
      "\n"
     ]
    },
    {
     "name": "stdout",
     "output_type": "stream",
     "text": [
      "Brute force complexity 1 from D=5 and nbp=5\n",
      "Computing brute force solution for dictionary dimension 5 and target_dimension 5\n"
     ]
    },
    {
     "name": "stderr",
     "output_type": "stream",
     "text": [
      "1it [00:00, 7810.62it/s]\n"
     ]
    },
    {
     "name": "stdout",
     "output_type": "stream",
     "text": [
      "Computing brute force solution for dictionary dimension 5 and target_dimension 5\n"
     ]
    },
    {
     "name": "stderr",
     "output_type": "stream",
     "text": [
      "1it [00:00, 2040.03it/s]"
     ]
    },
    {
     "name": "stdout",
     "output_type": "stream",
     "text": [
      "stage two time 0.0018811225891113281\n",
      "greedy time 0.022236108779907227\n",
      "basis pursuit time 1.9662609100341797\n",
      "here\n",
      "greedy []\n",
      "greedy [80]\n",
      "greedy [80, 22]\n",
      "greedy [80, 22, 23]\n",
      "greedy [80, 22, 23, 75]\n",
      "greedy [80, 22, 23, 75, 34]\n"
     ]
    },
    {
     "name": "stderr",
     "output_type": "stream",
     "text": [
      "\n"
     ]
    },
    {
     "name": "stdout",
     "output_type": "stream",
     "text": [
      "Brute force complexity 1 from D=5 and nbp=5\n",
      "Computing brute force solution for dictionary dimension 5 and target_dimension 5\n"
     ]
    },
    {
     "name": "stderr",
     "output_type": "stream",
     "text": [
      "1it [00:00, 2481.84it/s]\n"
     ]
    },
    {
     "name": "stdout",
     "output_type": "stream",
     "text": [
      "Computing brute force solution for dictionary dimension 5 and target_dimension 5\n"
     ]
    },
    {
     "name": "stderr",
     "output_type": "stream",
     "text": [
      "1it [00:00, 1894.45it/s]"
     ]
    },
    {
     "name": "stdout",
     "output_type": "stream",
     "text": [
      "stage two time 0.0020329952239990234\n",
      "greedy time 0.026191234588623047\n",
      "basis pursuit time 1.7406342029571533\n",
      "here\n",
      "greedy []\n",
      "greedy [80]\n",
      "greedy [80, 68]\n",
      "greedy [80, 68, 53]\n",
      "greedy [80, 68, 53, 44]\n",
      "greedy [80, 68, 53, 44, 39]\n"
     ]
    },
    {
     "name": "stderr",
     "output_type": "stream",
     "text": [
      "\n"
     ]
    },
    {
     "name": "stdout",
     "output_type": "stream",
     "text": [
      "Brute force complexity 1 from D=5 and nbp=5\n",
      "Computing brute force solution for dictionary dimension 5 and target_dimension 5\n"
     ]
    },
    {
     "name": "stderr",
     "output_type": "stream",
     "text": [
      "1it [00:00, 4136.39it/s]\n"
     ]
    },
    {
     "name": "stdout",
     "output_type": "stream",
     "text": [
      "Computing brute force solution for dictionary dimension 5 and target_dimension 5\n"
     ]
    },
    {
     "name": "stderr",
     "output_type": "stream",
     "text": [
      "1it [00:00, 2070.24it/s]"
     ]
    },
    {
     "name": "stdout",
     "output_type": "stream",
     "text": [
      "stage two time 0.001978158950805664\n",
      "greedy time 0.02428293228149414\n",
      "basis pursuit time 2.2611262798309326\n",
      "here\n",
      "greedy []\n",
      "greedy [77]\n",
      "greedy [77, 18]\n",
      "greedy [77, 18, 23]\n",
      "greedy [77, 18, 23, 62]\n",
      "greedy [77, 18, 23, 62, 3]\n"
     ]
    },
    {
     "name": "stderr",
     "output_type": "stream",
     "text": [
      "\n"
     ]
    },
    {
     "name": "stdout",
     "output_type": "stream",
     "text": [
      "Brute force complexity 1 from D=5 and nbp=5\n",
      "Computing brute force solution for dictionary dimension 5 and target_dimension 5\n"
     ]
    },
    {
     "name": "stderr",
     "output_type": "stream",
     "text": [
      "1it [00:00, 3775.25it/s]\n"
     ]
    },
    {
     "name": "stdout",
     "output_type": "stream",
     "text": [
      "Computing brute force solution for dictionary dimension 5 and target_dimension 5\n"
     ]
    },
    {
     "name": "stderr",
     "output_type": "stream",
     "text": [
      "1it [00:00, 3609.56it/s]"
     ]
    },
    {
     "name": "stdout",
     "output_type": "stream",
     "text": [
      "stage two time 0.002088308334350586\n",
      "greedy time 0.02678394317626953\n",
      "basis pursuit time 2.4170050621032715\n",
      "here\n",
      "greedy []\n",
      "greedy [73]\n",
      "greedy [73, 58]\n",
      "greedy [73, 58, 82]\n",
      "greedy [73, 58, 82, 68]\n",
      "greedy [73, 58, 82, 68, 50]\n"
     ]
    },
    {
     "name": "stderr",
     "output_type": "stream",
     "text": [
      "\n"
     ]
    },
    {
     "name": "stdout",
     "output_type": "stream",
     "text": [
      "Brute force complexity 1 from D=5 and nbp=5\n",
      "Computing brute force solution for dictionary dimension 5 and target_dimension 5\n"
     ]
    },
    {
     "name": "stderr",
     "output_type": "stream",
     "text": [
      "1it [00:00, 2294.48it/s]\n"
     ]
    },
    {
     "name": "stdout",
     "output_type": "stream",
     "text": [
      "Computing brute force solution for dictionary dimension 5 and target_dimension 5\n"
     ]
    },
    {
     "name": "stderr",
     "output_type": "stream",
     "text": [
      "1it [00:00, 1822.03it/s]"
     ]
    },
    {
     "name": "stdout",
     "output_type": "stream",
     "text": [
      "stage two time 0.002482891082763672\n",
      "greedy time 0.026997089385986328\n",
      "basis pursuit time 1.7125718593597412\n",
      "here\n",
      "greedy []\n",
      "greedy [67]\n",
      "greedy [67, 86]\n",
      "greedy [67, 86, 9]\n",
      "greedy [67, 86, 9, 27]\n",
      "greedy [67, 86, 9, 27, 15]\n"
     ]
    },
    {
     "name": "stderr",
     "output_type": "stream",
     "text": [
      "\n"
     ]
    },
    {
     "name": "stdout",
     "output_type": "stream",
     "text": [
      "Brute force complexity 1 from D=5 and nbp=5\n",
      "Computing brute force solution for dictionary dimension 5 and target_dimension 5\n"
     ]
    },
    {
     "name": "stderr",
     "output_type": "stream",
     "text": [
      "1it [00:00, 3581.81it/s]\n"
     ]
    },
    {
     "name": "stdout",
     "output_type": "stream",
     "text": [
      "Computing brute force solution for dictionary dimension 5 and target_dimension 5\n"
     ]
    },
    {
     "name": "stderr",
     "output_type": "stream",
     "text": [
      "1it [00:00, 2947.51it/s]"
     ]
    },
    {
     "name": "stdout",
     "output_type": "stream",
     "text": [
      "stage two time 0.0021500587463378906\n",
      "greedy time 0.022394180297851562\n",
      "basis pursuit time 1.877349853515625\n",
      "here\n",
      "greedy []\n",
      "greedy [19]\n",
      "greedy [19, 12]\n",
      "greedy [19, 12, 37]\n",
      "greedy [19, 12, 37, 44]\n",
      "greedy [19, 12, 37, 44, 86]\n"
     ]
    },
    {
     "name": "stderr",
     "output_type": "stream",
     "text": [
      "\n"
     ]
    },
    {
     "name": "stdout",
     "output_type": "stream",
     "text": [
      "Brute force complexity 1 from D=5 and nbp=5\n",
      "Computing brute force solution for dictionary dimension 5 and target_dimension 5\n"
     ]
    },
    {
     "name": "stderr",
     "output_type": "stream",
     "text": [
      "1it [00:00, 2272.10it/s]\n"
     ]
    },
    {
     "name": "stdout",
     "output_type": "stream",
     "text": [
      "Computing brute force solution for dictionary dimension 5 and target_dimension 5\n"
     ]
    },
    {
     "name": "stderr",
     "output_type": "stream",
     "text": [
      "1it [00:00, 3048.19it/s]"
     ]
    },
    {
     "name": "stdout",
     "output_type": "stream",
     "text": [
      "stage two time 0.0025310516357421875\n",
      "greedy time 0.02362513542175293\n",
      "basis pursuit time 2.1050350666046143\n",
      "here\n",
      "greedy []\n",
      "greedy [36]\n",
      "greedy [36, 69]\n",
      "greedy [36, 69, 61]\n",
      "greedy [36, 69, 61, 56]\n",
      "greedy [36, 69, 61, 56, 72]\n"
     ]
    },
    {
     "name": "stderr",
     "output_type": "stream",
     "text": [
      "\n"
     ]
    },
    {
     "name": "stdout",
     "output_type": "stream",
     "text": [
      "Brute force complexity 1 from D=5 and nbp=5\n",
      "Computing brute force solution for dictionary dimension 5 and target_dimension 5\n"
     ]
    },
    {
     "name": "stderr",
     "output_type": "stream",
     "text": [
      "1it [00:00, 2832.08it/s]\n"
     ]
    },
    {
     "name": "stdout",
     "output_type": "stream",
     "text": [
      "Computing brute force solution for dictionary dimension 5 and target_dimension 5\n"
     ]
    },
    {
     "name": "stderr",
     "output_type": "stream",
     "text": [
      "1it [00:00, 1836.39it/s]"
     ]
    },
    {
     "name": "stdout",
     "output_type": "stream",
     "text": [
      "stage two time 0.0022280216217041016\n",
      "greedy time 0.028834819793701172\n",
      "basis pursuit time 2.2556068897247314\n",
      "here\n",
      "greedy []\n",
      "greedy [81]\n",
      "greedy [81, 74]\n",
      "greedy [81, 74, 30]\n",
      "greedy [81, 74, 30, 1]\n",
      "greedy [81, 74, 30, 1, 33]\n"
     ]
    },
    {
     "name": "stderr",
     "output_type": "stream",
     "text": [
      "\n"
     ]
    },
    {
     "name": "stdout",
     "output_type": "stream",
     "text": [
      "Brute force complexity 1 from D=5 and nbp=5\n",
      "Computing brute force solution for dictionary dimension 5 and target_dimension 5\n"
     ]
    },
    {
     "name": "stderr",
     "output_type": "stream",
     "text": [
      "1it [00:00, 5433.04it/s]\n"
     ]
    },
    {
     "name": "stdout",
     "output_type": "stream",
     "text": [
      "Computing brute force solution for dictionary dimension 5 and target_dimension 5\n"
     ]
    },
    {
     "name": "stderr",
     "output_type": "stream",
     "text": [
      "1it [00:00, 1824.40it/s]"
     ]
    },
    {
     "name": "stdout",
     "output_type": "stream",
     "text": [
      "stage two time 0.0028400421142578125\n",
      "greedy time 0.02440500259399414\n",
      "basis pursuit time 2.012082815170288\n",
      "wine_standardized\n",
      "here\n",
      "greedy []\n",
      "greedy [21]\n",
      "greedy [21, 61]\n",
      "greedy [21, 61, 25]\n",
      "greedy [21, 61, 25, 10]\n",
      "greedy [21, 61, 25, 10, 86]\n",
      "greedy [21, 61, 25, 10, 86, 81]\n"
     ]
    },
    {
     "name": "stderr",
     "output_type": "stream",
     "text": [
      "\n"
     ]
    },
    {
     "ename": "ValueError",
     "evalue": "No solution found",
     "output_type": "error",
     "traceback": [
      "\u001b[0;31m---------------------------------------------------------------------------\u001b[0m",
      "\u001b[0;31mValueError\u001b[0m                                Traceback (most recent call last)",
      "Cell \u001b[0;32mIn[30], line 17\u001b[0m\n\u001b[1;32m     15\u001b[0m name \u001b[38;5;241m=\u001b[39m \u001b[38;5;124m\"\u001b[39m\u001b[38;5;124mwine_standardized\u001b[39m\u001b[38;5;124m\"\u001b[39m\n\u001b[1;32m     16\u001b[0m \u001b[38;5;28mprint\u001b[39m(name)\n\u001b[0;32m---> 17\u001b[0m results[(name, power, D)] \u001b[38;5;241m=\u001b[39m \u001b[43mrun_resampling_experiment\u001b[49m\u001b[43m(\u001b[49m\u001b[43mwine_standardized\u001b[49m\u001b[43m,\u001b[49m\u001b[43m \u001b[49m\u001b[43mD\u001b[49m\u001b[43m,\u001b[49m\u001b[43m \u001b[49m\u001b[43mfrac\u001b[49m\u001b[43m \u001b[49m\u001b[38;5;241;43m=\u001b[39;49m\u001b[43m \u001b[49m\u001b[43mfrac\u001b[49m\u001b[43m,\u001b[49m\u001b[43m \u001b[49m\u001b[43mR\u001b[49m\u001b[43m \u001b[49m\u001b[38;5;241;43m=\u001b[39;49m\u001b[43m \u001b[49m\u001b[43mR\u001b[49m\u001b[43m,\u001b[49m\u001b[43m \u001b[49m\u001b[43mpower\u001b[49m\u001b[43m \u001b[49m\u001b[38;5;241;43m=\u001b[39;49m\u001b[43m \u001b[49m\u001b[43mpower\u001b[49m\u001b[43m,\u001b[49m\u001b[43m \u001b[49m\u001b[43mcompute_brute\u001b[49m\u001b[43m \u001b[49m\u001b[38;5;241;43m=\u001b[39;49m\u001b[43m \u001b[49m\u001b[43mcompute_brute\u001b[49m\u001b[43m)\u001b[49m[\u001b[38;5;241m0\u001b[39m]\n\u001b[1;32m     18\u001b[0m results[(name, power, D)]\u001b[38;5;241m.\u001b[39mto_csv(\u001b[38;5;124mf\u001b[39m\u001b[38;5;124m'\u001b[39m\u001b[38;5;124m/Users/samsonkoelle/isometry-pursuit/experiments/\u001b[39m\u001b[38;5;132;01m{\u001b[39;00mname\u001b[38;5;132;01m}\u001b[39;00m\u001b[38;5;124m_\u001b[39m\u001b[38;5;132;01m{\u001b[39;00m\u001b[38;5;28mstr\u001b[39m(D)\u001b[38;5;132;01m}\u001b[39;00m\u001b[38;5;124m_\u001b[39m\u001b[38;5;132;01m{\u001b[39;00m\u001b[38;5;28mstr\u001b[39m(frac)\u001b[38;5;241m.\u001b[39mreplace(\u001b[38;5;124m\"\u001b[39m\u001b[38;5;124m.\u001b[39m\u001b[38;5;124m\"\u001b[39m,\u001b[38;5;124m\"\u001b[39m\u001b[38;5;124mp\u001b[39m\u001b[38;5;124m\"\u001b[39m)\u001b[38;5;132;01m}\u001b[39;00m\u001b[38;5;124m_\u001b[39m\u001b[38;5;132;01m{\u001b[39;00m\u001b[38;5;28mstr\u001b[39m(power)\u001b[38;5;241m.\u001b[39mreplace(\u001b[38;5;124m\"\u001b[39m\u001b[38;5;124m.\u001b[39m\u001b[38;5;124m\"\u001b[39m,\u001b[38;5;124m\"\u001b[39m\u001b[38;5;124mp\u001b[39m\u001b[38;5;124m\"\u001b[39m)\u001b[38;5;132;01m}\u001b[39;00m\u001b[38;5;124m'\u001b[39m, index \u001b[38;5;241m=\u001b[39m \u001b[38;5;28;01mNone\u001b[39;00m)        \n",
      "File \u001b[0;32m~/isometry-pursuit/isometry_pursuit/experiment.py:129\u001b[0m, in \u001b[0;36mrun_resampling_experiment\u001b[0;34m(data, D, frac, R, compute_brute, power)\u001b[0m\n\u001b[1;32m    114\u001b[0m random_indices \u001b[38;5;241m=\u001b[39m np\u001b[38;5;241m.\u001b[39mrandom\u001b[38;5;241m.\u001b[39mchoice(\u001b[38;5;28mrange\u001b[39m(P), \u001b[38;5;28mint\u001b[39m(P \u001b[38;5;241m/\u001b[39m \u001b[38;5;241m2\u001b[39m), replace\u001b[38;5;241m=\u001b[39m\u001b[38;5;28;01mFalse\u001b[39;00m)\n\u001b[1;32m    115\u001b[0m X \u001b[38;5;241m=\u001b[39m data\u001b[38;5;241m.\u001b[39mto_numpy()[random_indices]\u001b[38;5;241m.\u001b[39mtranspose()[:D, :]  \u001b[38;5;66;03m# .5\u001b[39;00m\n\u001b[1;32m    116\u001b[0m (\n\u001b[1;32m    117\u001b[0m     loss,\n\u001b[1;32m    118\u001b[0m     support_cardinality_basis_pursuit,\n\u001b[1;32m    119\u001b[0m     two_stage_loss,\n\u001b[1;32m    120\u001b[0m     random_two_stage_loss,\n\u001b[1;32m    121\u001b[0m     greedy_multitask_norm_two_stage,\n\u001b[1;32m    122\u001b[0m     brute_loss,\n\u001b[1;32m    123\u001b[0m     brute_isometry_loss,\n\u001b[1;32m    124\u001b[0m     basis_pursuit_time,\n\u001b[1;32m    125\u001b[0m     stage_two_time,\n\u001b[1;32m    126\u001b[0m     greedy_time,\n\u001b[1;32m    127\u001b[0m     two_stage_multitask,\n\u001b[1;32m    128\u001b[0m     greedy_solution,\n\u001b[0;32m--> 129\u001b[0m ) \u001b[38;5;241m=\u001b[39m \u001b[43manalyze_data\u001b[49m\u001b[43m(\u001b[49m\u001b[43mX\u001b[49m\u001b[43m,\u001b[49m\u001b[43m \u001b[49m\u001b[43mcompute_brute\u001b[49m\u001b[38;5;241;43m=\u001b[39;49m\u001b[43mcompute_brute\u001b[49m\u001b[43m,\u001b[49m\u001b[43m \u001b[49m\u001b[43mpower\u001b[49m\u001b[38;5;241;43m=\u001b[39;49m\u001b[43mpower\u001b[49m\u001b[43m)\u001b[49m\n\u001b[1;32m    130\u001b[0m losses\u001b[38;5;241m.\u001b[39mappend(loss)\n\u001b[1;32m    131\u001b[0m support_cardinalities_basis_pursuit\u001b[38;5;241m.\u001b[39mappend(support_cardinality_basis_pursuit)\n",
      "File \u001b[0;32m~/isometry-pursuit/isometry_pursuit/experiment.py:25\u001b[0m, in \u001b[0;36manalyze_data\u001b[0;34m(X, compute_brute, power, limit)\u001b[0m\n\u001b[1;32m     23\u001b[0m data_transformed \u001b[38;5;241m=\u001b[39m exponential_transformation(X, power\u001b[38;5;241m=\u001b[39mpower)\n\u001b[1;32m     24\u001b[0m start_basis_pursuit \u001b[38;5;241m=\u001b[39m time\u001b[38;5;241m.\u001b[39mtime()\n\u001b[0;32m---> 25\u001b[0m beta \u001b[38;5;241m=\u001b[39m \u001b[43mgroup_basis_pursuit\u001b[49m\u001b[43m(\u001b[49m\u001b[43mdata_transformed\u001b[49m\u001b[43m)\u001b[49m\n\u001b[1;32m     26\u001b[0m end_basis_pursuit \u001b[38;5;241m=\u001b[39m time\u001b[38;5;241m.\u001b[39mtime()\n\u001b[1;32m     27\u001b[0m basis_pursuit_indices \u001b[38;5;241m=\u001b[39m np\u001b[38;5;241m.\u001b[39mwhere(np\u001b[38;5;241m.\u001b[39mlinalg\u001b[38;5;241m.\u001b[39mnorm(beta, axis\u001b[38;5;241m=\u001b[39m\u001b[38;5;241m1\u001b[39m))[\u001b[38;5;241m0\u001b[39m]\n",
      "File \u001b[0;32m~/isometry-pursuit/isometry_pursuit/algorithm.py:88\u001b[0m, in \u001b[0;36mgroup_basis_pursuit\u001b[0;34m(matrix, eps, threshold)\u001b[0m\n\u001b[1;32m     86\u001b[0m output \u001b[38;5;241m=\u001b[39m problem\u001b[38;5;241m.\u001b[39msolve(solver\u001b[38;5;241m=\u001b[39mcp\u001b[38;5;241m.\u001b[39mSCS, \u001b[38;5;241m*\u001b[39m\u001b[38;5;241m*\u001b[39mscs_opts)\n\u001b[1;32m     87\u001b[0m \u001b[38;5;28;01mif\u001b[39;00m output \u001b[38;5;129;01mis\u001b[39;00m np\u001b[38;5;241m.\u001b[39minf:\n\u001b[0;32m---> 88\u001b[0m     \u001b[38;5;28;01mraise\u001b[39;00m \u001b[38;5;167;01mValueError\u001b[39;00m(\u001b[38;5;124m\"\u001b[39m\u001b[38;5;124mNo solution found\u001b[39m\u001b[38;5;124m\"\u001b[39m)\n\u001b[1;32m     89\u001b[0m beta_optimized \u001b[38;5;241m=\u001b[39m beta\u001b[38;5;241m.\u001b[39mvalue\n\u001b[1;32m     90\u001b[0m beta_sparse \u001b[38;5;241m=\u001b[39m beta_optimized\u001b[38;5;241m.\u001b[39mcopy()\n",
      "\u001b[0;31mValueError\u001b[0m: No solution found"
     ]
    }
   ],
   "source": [
    "# TODO (Sam): rename TS, IP\n",
    "print(\"Analyzing power effect\")\n",
    "compute_brute = False\n",
    "frac = .5\n",
    "powers = np.logspace(-1, 1, 5)  # from 10^-1 to 10^1 with 5 elements\n",
    "powers = powers[[4]]\n",
    "results = {}\n",
    "times = {}\n",
    "# names = [\"iris_standardized\", \"iris_df\", \"wine_df\", \"wine_standardized\"]\n",
    "names = [\"iris_standardized\", \"wine_standardized\"]\n",
    "D_wines = [4,5,6]\n",
    "for power in powers:\n",
    "    for D in D_wines:\n",
    "\n",
    "        try:\n",
    "            name = \"wine_standardized\"\n",
    "            print(name)\n",
    "            results[(name, power, D)] = run_resampling_experiment(wine_standardized, D, frac = frac, R = R, power = power, compute_brute = compute_brute)[0]\n",
    "            results[(name, power, D)].to_csv(f'/Users/samsonkoelle/isometry-pursuit/experiments/{name}_{str(D)}_{str(frac).replace(\".\",\"p\")}_{str(power).replace(\".\",\"p\")}', index = None)        \n",
    "        except:\n",
    "            continue"
   ]
  },
  {
   "cell_type": "code",
   "execution_count": 28,
   "id": "51eeb37d",
   "metadata": {},
   "outputs": [
    {
     "data": {
      "text/plain": [
       "'/Users/samsonkoelle/isometry-pursuit/experiments/wine_standardized_6_0p5_10p0'"
      ]
     },
     "execution_count": 28,
     "metadata": {},
     "output_type": "execute_result"
    }
   ],
   "source": [
    "power = 10.\n",
    "f'/Users/samsonkoelle/isometry-pursuit/experiments/{name}_{str(D)}_{str(frac).replace(\".\",\"p\")}_{str(power).replace(\".\",\"p\")}'"
   ]
  },
  {
   "cell_type": "code",
   "execution_count": 24,
   "id": "e46eb278",
   "metadata": {},
   "outputs": [
    {
     "data": {
      "text/plain": [
       "array([ 0.1       ,  0.31622777,  1.        ,  3.16227766, 10.        ])"
      ]
     },
     "execution_count": 24,
     "metadata": {},
     "output_type": "execute_result"
    }
   ],
   "source": [
    "powers = np.logspace(-1, 1, 5)\n",
    "powers"
   ]
  },
  {
   "cell_type": "code",
   "execution_count": 20,
   "id": "3a244997",
   "metadata": {},
   "outputs": [
    {
     "data": {
      "text/html": [
       "<div>\n",
       "<style scoped>\n",
       "    .dataframe tbody tr th:only-of-type {\n",
       "        vertical-align: middle;\n",
       "    }\n",
       "\n",
       "    .dataframe tbody tr th {\n",
       "        vertical-align: top;\n",
       "    }\n",
       "\n",
       "    .dataframe thead th {\n",
       "        text-align: right;\n",
       "    }\n",
       "</style>\n",
       "<table border=\"1\" class=\"dataframe\">\n",
       "  <thead>\n",
       "    <tr style=\"text-align: right;\">\n",
       "      <th></th>\n",
       "      <th>Losses</th>\n",
       "      <th>Support Cardinalities (Basis Pursuit)</th>\n",
       "      <th>Two-Stage Losses</th>\n",
       "      <th>Random Two-Stage Losses</th>\n",
       "      <th>Greedy Multitask Norms (Two-Stage)</th>\n",
       "      <th>Brute Isometry Losses</th>\n",
       "      <th>Brute Losses</th>\n",
       "      <th>Basis Pursuit Times</th>\n",
       "      <th>Stage Two Times</th>\n",
       "      <th>Greedy Times</th>\n",
       "    </tr>\n",
       "  </thead>\n",
       "  <tbody>\n",
       "    <tr>\n",
       "      <th>0</th>\n",
       "      <td>3319.821234</td>\n",
       "      <td>8</td>\n",
       "      <td>3.188118e+11</td>\n",
       "      <td>1.409445e+62</td>\n",
       "      <td>34.161616</td>\n",
       "      <td>NaN</td>\n",
       "      <td>NaN</td>\n",
       "      <td>2.668204</td>\n",
       "      <td>0.003212</td>\n",
       "      <td>0.024971</td>\n",
       "    </tr>\n",
       "    <tr>\n",
       "      <th>1</th>\n",
       "      <td>2194.773943</td>\n",
       "      <td>8</td>\n",
       "      <td>1.084632e+15</td>\n",
       "      <td>3.901180e+127</td>\n",
       "      <td>42.571649</td>\n",
       "      <td>NaN</td>\n",
       "      <td>NaN</td>\n",
       "      <td>2.527871</td>\n",
       "      <td>0.003118</td>\n",
       "      <td>0.022367</td>\n",
       "    </tr>\n",
       "    <tr>\n",
       "      <th>2</th>\n",
       "      <td>565.329990</td>\n",
       "      <td>7</td>\n",
       "      <td>2.483215e+04</td>\n",
       "      <td>4.757029e+90</td>\n",
       "      <td>22.795454</td>\n",
       "      <td>NaN</td>\n",
       "      <td>NaN</td>\n",
       "      <td>2.519448</td>\n",
       "      <td>0.002128</td>\n",
       "      <td>0.024847</td>\n",
       "    </tr>\n",
       "    <tr>\n",
       "      <th>3</th>\n",
       "      <td>799.038850</td>\n",
       "      <td>7</td>\n",
       "      <td>8.028728e+07</td>\n",
       "      <td>3.568319e+40</td>\n",
       "      <td>21.807024</td>\n",
       "      <td>NaN</td>\n",
       "      <td>NaN</td>\n",
       "      <td>2.477238</td>\n",
       "      <td>0.002300</td>\n",
       "      <td>0.023940</td>\n",
       "    </tr>\n",
       "    <tr>\n",
       "      <th>4</th>\n",
       "      <td>332.954827</td>\n",
       "      <td>7</td>\n",
       "      <td>3.959067e+03</td>\n",
       "      <td>1.377233e+72</td>\n",
       "      <td>23.775020</td>\n",
       "      <td>NaN</td>\n",
       "      <td>NaN</td>\n",
       "      <td>2.599879</td>\n",
       "      <td>0.002548</td>\n",
       "      <td>0.023407</td>\n",
       "    </tr>\n",
       "    <tr>\n",
       "      <th>5</th>\n",
       "      <td>912.241891</td>\n",
       "      <td>8</td>\n",
       "      <td>3.052356e+07</td>\n",
       "      <td>4.117273e+57</td>\n",
       "      <td>21.651542</td>\n",
       "      <td>NaN</td>\n",
       "      <td>NaN</td>\n",
       "      <td>2.607522</td>\n",
       "      <td>0.003362</td>\n",
       "      <td>0.024647</td>\n",
       "    </tr>\n",
       "    <tr>\n",
       "      <th>6</th>\n",
       "      <td>3576.604937</td>\n",
       "      <td>9</td>\n",
       "      <td>1.383824e+16</td>\n",
       "      <td>1.135753e+66</td>\n",
       "      <td>25.163446</td>\n",
       "      <td>NaN</td>\n",
       "      <td>NaN</td>\n",
       "      <td>2.590337</td>\n",
       "      <td>0.005698</td>\n",
       "      <td>0.028189</td>\n",
       "    </tr>\n",
       "    <tr>\n",
       "      <th>7</th>\n",
       "      <td>270197.047757</td>\n",
       "      <td>9</td>\n",
       "      <td>7.723568e+07</td>\n",
       "      <td>2.735235e+64</td>\n",
       "      <td>22.100501</td>\n",
       "      <td>NaN</td>\n",
       "      <td>NaN</td>\n",
       "      <td>2.606423</td>\n",
       "      <td>0.005401</td>\n",
       "      <td>0.025492</td>\n",
       "    </tr>\n",
       "    <tr>\n",
       "      <th>8</th>\n",
       "      <td>362.533515</td>\n",
       "      <td>7</td>\n",
       "      <td>8.814775e+18</td>\n",
       "      <td>2.800128e+66</td>\n",
       "      <td>50.327396</td>\n",
       "      <td>NaN</td>\n",
       "      <td>NaN</td>\n",
       "      <td>2.503505</td>\n",
       "      <td>0.002448</td>\n",
       "      <td>0.024830</td>\n",
       "    </tr>\n",
       "    <tr>\n",
       "      <th>9</th>\n",
       "      <td>770.065952</td>\n",
       "      <td>9</td>\n",
       "      <td>7.069847e+02</td>\n",
       "      <td>2.588894e+68</td>\n",
       "      <td>20.856741</td>\n",
       "      <td>NaN</td>\n",
       "      <td>NaN</td>\n",
       "      <td>2.562307</td>\n",
       "      <td>0.006146</td>\n",
       "      <td>0.030911</td>\n",
       "    </tr>\n",
       "    <tr>\n",
       "      <th>10</th>\n",
       "      <td>212.536440</td>\n",
       "      <td>10</td>\n",
       "      <td>4.822417e+08</td>\n",
       "      <td>4.390839e+76</td>\n",
       "      <td>21.202831</td>\n",
       "      <td>NaN</td>\n",
       "      <td>NaN</td>\n",
       "      <td>2.535754</td>\n",
       "      <td>0.010799</td>\n",
       "      <td>0.023111</td>\n",
       "    </tr>\n",
       "    <tr>\n",
       "      <th>11</th>\n",
       "      <td>334542.052064</td>\n",
       "      <td>7</td>\n",
       "      <td>5.593330e+23</td>\n",
       "      <td>4.871865e+89</td>\n",
       "      <td>41.781463</td>\n",
       "      <td>NaN</td>\n",
       "      <td>NaN</td>\n",
       "      <td>2.537803</td>\n",
       "      <td>0.002538</td>\n",
       "      <td>0.025327</td>\n",
       "    </tr>\n",
       "    <tr>\n",
       "      <th>12</th>\n",
       "      <td>4826.906787</td>\n",
       "      <td>8</td>\n",
       "      <td>4.826907e+03</td>\n",
       "      <td>2.359253e+55</td>\n",
       "      <td>25.664161</td>\n",
       "      <td>NaN</td>\n",
       "      <td>NaN</td>\n",
       "      <td>2.550430</td>\n",
       "      <td>0.003710</td>\n",
       "      <td>0.032948</td>\n",
       "    </tr>\n",
       "    <tr>\n",
       "      <th>13</th>\n",
       "      <td>137304.078362</td>\n",
       "      <td>7</td>\n",
       "      <td>2.641299e+12</td>\n",
       "      <td>3.864999e+142</td>\n",
       "      <td>52.964794</td>\n",
       "      <td>NaN</td>\n",
       "      <td>NaN</td>\n",
       "      <td>2.467908</td>\n",
       "      <td>0.002324</td>\n",
       "      <td>0.024927</td>\n",
       "    </tr>\n",
       "    <tr>\n",
       "      <th>14</th>\n",
       "      <td>253052.727848</td>\n",
       "      <td>8</td>\n",
       "      <td>8.926973e+04</td>\n",
       "      <td>1.021346e+59</td>\n",
       "      <td>22.640219</td>\n",
       "      <td>NaN</td>\n",
       "      <td>NaN</td>\n",
       "      <td>2.455654</td>\n",
       "      <td>0.003128</td>\n",
       "      <td>0.024523</td>\n",
       "    </tr>\n",
       "    <tr>\n",
       "      <th>15</th>\n",
       "      <td>5300.763775</td>\n",
       "      <td>7</td>\n",
       "      <td>5.300764e+03</td>\n",
       "      <td>8.951267e+47</td>\n",
       "      <td>62.620301</td>\n",
       "      <td>NaN</td>\n",
       "      <td>NaN</td>\n",
       "      <td>2.473497</td>\n",
       "      <td>0.002139</td>\n",
       "      <td>0.025007</td>\n",
       "    </tr>\n",
       "    <tr>\n",
       "      <th>16</th>\n",
       "      <td>54384.420032</td>\n",
       "      <td>6</td>\n",
       "      <td>2.232322e+56</td>\n",
       "      <td>6.967317e+80</td>\n",
       "      <td>30.446453</td>\n",
       "      <td>NaN</td>\n",
       "      <td>NaN</td>\n",
       "      <td>2.497568</td>\n",
       "      <td>0.001933</td>\n",
       "      <td>0.023886</td>\n",
       "    </tr>\n",
       "    <tr>\n",
       "      <th>17</th>\n",
       "      <td>5589.958708</td>\n",
       "      <td>8</td>\n",
       "      <td>3.037298e+04</td>\n",
       "      <td>1.153245e+70</td>\n",
       "      <td>32.747756</td>\n",
       "      <td>NaN</td>\n",
       "      <td>NaN</td>\n",
       "      <td>2.343432</td>\n",
       "      <td>0.002957</td>\n",
       "      <td>0.023882</td>\n",
       "    </tr>\n",
       "    <tr>\n",
       "      <th>18</th>\n",
       "      <td>1399.045366</td>\n",
       "      <td>8</td>\n",
       "      <td>2.846280e+06</td>\n",
       "      <td>2.925573e+95</td>\n",
       "      <td>24.595562</td>\n",
       "      <td>NaN</td>\n",
       "      <td>NaN</td>\n",
       "      <td>2.483676</td>\n",
       "      <td>0.003526</td>\n",
       "      <td>0.027556</td>\n",
       "    </tr>\n",
       "    <tr>\n",
       "      <th>19</th>\n",
       "      <td>6258.000738</td>\n",
       "      <td>8</td>\n",
       "      <td>2.483215e+04</td>\n",
       "      <td>3.850140e+60</td>\n",
       "      <td>22.795454</td>\n",
       "      <td>NaN</td>\n",
       "      <td>NaN</td>\n",
       "      <td>2.361974</td>\n",
       "      <td>0.003581</td>\n",
       "      <td>0.027427</td>\n",
       "    </tr>\n",
       "    <tr>\n",
       "      <th>20</th>\n",
       "      <td>22718.429252</td>\n",
       "      <td>6</td>\n",
       "      <td>2.721069e+08</td>\n",
       "      <td>inf</td>\n",
       "      <td>26.380920</td>\n",
       "      <td>NaN</td>\n",
       "      <td>NaN</td>\n",
       "      <td>2.432608</td>\n",
       "      <td>0.002003</td>\n",
       "      <td>0.023660</td>\n",
       "    </tr>\n",
       "    <tr>\n",
       "      <th>21</th>\n",
       "      <td>5404.952720</td>\n",
       "      <td>8</td>\n",
       "      <td>9.169998e+11</td>\n",
       "      <td>2.546251e+63</td>\n",
       "      <td>37.272820</td>\n",
       "      <td>NaN</td>\n",
       "      <td>NaN</td>\n",
       "      <td>2.541299</td>\n",
       "      <td>0.003827</td>\n",
       "      <td>0.034156</td>\n",
       "    </tr>\n",
       "    <tr>\n",
       "      <th>22</th>\n",
       "      <td>32168.879314</td>\n",
       "      <td>8</td>\n",
       "      <td>3.288020e+04</td>\n",
       "      <td>3.993594e+55</td>\n",
       "      <td>48.851014</td>\n",
       "      <td>NaN</td>\n",
       "      <td>NaN</td>\n",
       "      <td>2.557452</td>\n",
       "      <td>0.003003</td>\n",
       "      <td>0.023425</td>\n",
       "    </tr>\n",
       "    <tr>\n",
       "      <th>23</th>\n",
       "      <td>9694.928108</td>\n",
       "      <td>6</td>\n",
       "      <td>2.054185e+05</td>\n",
       "      <td>inf</td>\n",
       "      <td>29.409839</td>\n",
       "      <td>NaN</td>\n",
       "      <td>NaN</td>\n",
       "      <td>2.645565</td>\n",
       "      <td>0.001924</td>\n",
       "      <td>0.021810</td>\n",
       "    </tr>\n",
       "    <tr>\n",
       "      <th>24</th>\n",
       "      <td>1399.045366</td>\n",
       "      <td>9</td>\n",
       "      <td>3.539696e+03</td>\n",
       "      <td>3.557179e+51</td>\n",
       "      <td>25.243784</td>\n",
       "      <td>NaN</td>\n",
       "      <td>NaN</td>\n",
       "      <td>2.664341</td>\n",
       "      <td>0.005829</td>\n",
       "      <td>0.025302</td>\n",
       "    </tr>\n",
       "  </tbody>\n",
       "</table>\n",
       "</div>"
      ],
      "text/plain": [
       "           Losses  Support Cardinalities (Basis Pursuit)  Two-Stage Losses  \\\n",
       "0     3319.821234                                      8      3.188118e+11   \n",
       "1     2194.773943                                      8      1.084632e+15   \n",
       "2      565.329990                                      7      2.483215e+04   \n",
       "3      799.038850                                      7      8.028728e+07   \n",
       "4      332.954827                                      7      3.959067e+03   \n",
       "5      912.241891                                      8      3.052356e+07   \n",
       "6     3576.604937                                      9      1.383824e+16   \n",
       "7   270197.047757                                      9      7.723568e+07   \n",
       "8      362.533515                                      7      8.814775e+18   \n",
       "9      770.065952                                      9      7.069847e+02   \n",
       "10     212.536440                                     10      4.822417e+08   \n",
       "11  334542.052064                                      7      5.593330e+23   \n",
       "12    4826.906787                                      8      4.826907e+03   \n",
       "13  137304.078362                                      7      2.641299e+12   \n",
       "14  253052.727848                                      8      8.926973e+04   \n",
       "15    5300.763775                                      7      5.300764e+03   \n",
       "16   54384.420032                                      6      2.232322e+56   \n",
       "17    5589.958708                                      8      3.037298e+04   \n",
       "18    1399.045366                                      8      2.846280e+06   \n",
       "19    6258.000738                                      8      2.483215e+04   \n",
       "20   22718.429252                                      6      2.721069e+08   \n",
       "21    5404.952720                                      8      9.169998e+11   \n",
       "22   32168.879314                                      8      3.288020e+04   \n",
       "23    9694.928108                                      6      2.054185e+05   \n",
       "24    1399.045366                                      9      3.539696e+03   \n",
       "\n",
       "    Random Two-Stage Losses  Greedy Multitask Norms (Two-Stage)  \\\n",
       "0              1.409445e+62                           34.161616   \n",
       "1             3.901180e+127                           42.571649   \n",
       "2              4.757029e+90                           22.795454   \n",
       "3              3.568319e+40                           21.807024   \n",
       "4              1.377233e+72                           23.775020   \n",
       "5              4.117273e+57                           21.651542   \n",
       "6              1.135753e+66                           25.163446   \n",
       "7              2.735235e+64                           22.100501   \n",
       "8              2.800128e+66                           50.327396   \n",
       "9              2.588894e+68                           20.856741   \n",
       "10             4.390839e+76                           21.202831   \n",
       "11             4.871865e+89                           41.781463   \n",
       "12             2.359253e+55                           25.664161   \n",
       "13            3.864999e+142                           52.964794   \n",
       "14             1.021346e+59                           22.640219   \n",
       "15             8.951267e+47                           62.620301   \n",
       "16             6.967317e+80                           30.446453   \n",
       "17             1.153245e+70                           32.747756   \n",
       "18             2.925573e+95                           24.595562   \n",
       "19             3.850140e+60                           22.795454   \n",
       "20                      inf                           26.380920   \n",
       "21             2.546251e+63                           37.272820   \n",
       "22             3.993594e+55                           48.851014   \n",
       "23                      inf                           29.409839   \n",
       "24             3.557179e+51                           25.243784   \n",
       "\n",
       "    Brute Isometry Losses  Brute Losses  Basis Pursuit Times  Stage Two Times  \\\n",
       "0                     NaN           NaN             2.668204         0.003212   \n",
       "1                     NaN           NaN             2.527871         0.003118   \n",
       "2                     NaN           NaN             2.519448         0.002128   \n",
       "3                     NaN           NaN             2.477238         0.002300   \n",
       "4                     NaN           NaN             2.599879         0.002548   \n",
       "5                     NaN           NaN             2.607522         0.003362   \n",
       "6                     NaN           NaN             2.590337         0.005698   \n",
       "7                     NaN           NaN             2.606423         0.005401   \n",
       "8                     NaN           NaN             2.503505         0.002448   \n",
       "9                     NaN           NaN             2.562307         0.006146   \n",
       "10                    NaN           NaN             2.535754         0.010799   \n",
       "11                    NaN           NaN             2.537803         0.002538   \n",
       "12                    NaN           NaN             2.550430         0.003710   \n",
       "13                    NaN           NaN             2.467908         0.002324   \n",
       "14                    NaN           NaN             2.455654         0.003128   \n",
       "15                    NaN           NaN             2.473497         0.002139   \n",
       "16                    NaN           NaN             2.497568         0.001933   \n",
       "17                    NaN           NaN             2.343432         0.002957   \n",
       "18                    NaN           NaN             2.483676         0.003526   \n",
       "19                    NaN           NaN             2.361974         0.003581   \n",
       "20                    NaN           NaN             2.432608         0.002003   \n",
       "21                    NaN           NaN             2.541299         0.003827   \n",
       "22                    NaN           NaN             2.557452         0.003003   \n",
       "23                    NaN           NaN             2.645565         0.001924   \n",
       "24                    NaN           NaN             2.664341         0.005829   \n",
       "\n",
       "    Greedy Times  \n",
       "0       0.024971  \n",
       "1       0.022367  \n",
       "2       0.024847  \n",
       "3       0.023940  \n",
       "4       0.023407  \n",
       "5       0.024647  \n",
       "6       0.028189  \n",
       "7       0.025492  \n",
       "8       0.024830  \n",
       "9       0.030911  \n",
       "10      0.023111  \n",
       "11      0.025327  \n",
       "12      0.032948  \n",
       "13      0.024927  \n",
       "14      0.024523  \n",
       "15      0.025007  \n",
       "16      0.023886  \n",
       "17      0.023882  \n",
       "18      0.027556  \n",
       "19      0.027427  \n",
       "20      0.023660  \n",
       "21      0.034156  \n",
       "22      0.023425  \n",
       "23      0.021810  \n",
       "24      0.025302  "
      ]
     },
     "execution_count": 20,
     "metadata": {},
     "output_type": "execute_result"
    }
   ],
   "source": [
    "results[(name, power, 6)]"
   ]
  },
  {
   "cell_type": "code",
   "execution_count": null,
   "id": "b85f4f59",
   "metadata": {},
   "outputs": [],
   "source": []
  },
  {
   "cell_type": "code",
   "execution_count": null,
   "id": "5fc1662f",
   "metadata": {},
   "outputs": [],
   "source": []
  }
 ],
 "metadata": {
  "kernelspec": {
   "display_name": "isometry_pursuit",
   "language": "python",
   "name": "isometry_pursuit"
  },
  "language_info": {
   "codemirror_mode": {
    "name": "ipython",
    "version": 3
   },
   "file_extension": ".py",
   "mimetype": "text/x-python",
   "name": "python",
   "nbconvert_exporter": "python",
   "pygments_lexer": "ipython3",
   "version": "3.10.14"
  }
 },
 "nbformat": 4,
 "nbformat_minor": 5
}

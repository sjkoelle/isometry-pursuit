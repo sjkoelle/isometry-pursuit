{
 "cells": [
  {
   "cell_type": "code",
   "execution_count": 6,
   "id": "c2adea23",
   "metadata": {},
   "outputs": [
    {
     "name": "stdout",
     "output_type": "stream",
     "text": [
      "The autoreload extension is already loaded. To reload it, use:\n",
      "  %reload_ext autoreload\n"
     ]
    }
   ],
   "source": [
    "%load_ext autoreload\n",
    "%autoreload 2\n",
    "import sklearn\n",
    "from sklearn.datasets import load_wine, load_iris\n",
    "import seaborn as sns\n",
    "import pandas as pd\n",
    "from sklearn.preprocessing import StandardScaler\n",
    "\n",
    "from einops import rearrange\n",
    "import numpy as np\n",
    "import matplotlib.pyplot as plt\n",
    "\n",
    "from convexlocalisometry.transformation import exponential_transformation\n",
    "from convexlocalisometry.loss import isometry_loss\n",
    "from convexlocalisometry.algorithm import greedy, brute, group_basis_pursuit, group_lasso\n",
    "import random\n",
    "\n",
    "np.random.seed(1234)\n",
    "random.seed(1234)\n"
   ]
  },
  {
   "cell_type": "code",
   "execution_count": 7,
   "id": "091934a3",
   "metadata": {},
   "outputs": [
    {
     "name": "stdout",
     "output_type": "stream",
     "text": [
      "dict_keys(['data', 'target', 'frame', 'target_names', 'DESCR', 'feature_names'])\n",
      "D_wine 13\n",
      "P_wine 178\n",
      "['alcohol', 'malic_acid', 'ash', 'alcalinity_of_ash', 'magnesium', 'total_phenols', 'flavanoids', 'nonflavanoid_phenols', 'proanthocyanins', 'color_intensity', 'hue', 'od280/od315_of_diluted_wines', 'proline']\n",
      "dict_keys(['data', 'target', 'frame', 'target_names', 'DESCR', 'feature_names', 'filename', 'data_module'])\n",
      "D_iris 4\n",
      "P_iris 150\n",
      "['alcohol', 'malic_acid', 'ash', 'alcalinity_of_ash', 'magnesium', 'total_phenols', 'flavanoids', 'nonflavanoid_phenols', 'proanthocyanins', 'color_intensity', 'hue', 'od280/od315_of_diluted_wines', 'proline']\n"
     ]
    }
   ],
   "source": [
    "wine = load_wine()\n",
    "print(wine.keys())\n",
    "P_wine, D_wine = wine['data'].shape\n",
    "print(\"D_wine\", D_wine)\n",
    "print(\"P_wine\", P_wine)\n",
    "print(wine['feature_names'])\n",
    "wine_df = pd.DataFrame(data= wine['data'], columns = wine['feature_names']) # label with class names?\n",
    "scaler = StandardScaler()\n",
    "wine_standardized = pd.DataFrame(data = scaler.fit_transform(wine['data']), columns = wine['feature_names'])\n",
    "\n",
    "iris = load_iris()\n",
    "print(iris.keys())\n",
    "P_iris, D_iris = iris['data'].shape\n",
    "\n",
    "print(\"D_iris\", D_iris)\n",
    "print(\"P_iris\", P_iris)\n",
    "print(wine['feature_names'])\n",
    "iris_df = pd.DataFrame(data= iris['data'], columns = iris['feature_names'])\n",
    "\n",
    "scaler = StandardScaler()\n",
    "iris_standardized = pd.DataFrame(data = scaler.fit_transform(iris['data']), columns = iris['feature_names'])\n"
   ]
  },
  {
   "cell_type": "code",
   "execution_count": null,
   "id": "d9e3cb54",
   "metadata": {},
   "outputs": [],
   "source": [
    "# np.random.seed(1234)\n",
    "# random.seed(1234)\n",
    "\n",
    "# losses = []\n",
    "# nbp = []\n",
    "# two_stage_losses = []\n",
    "# random_two_stage_losses= []\n",
    "# D_iris =4\n",
    "# for i in range(2):\n",
    "#     X = iris_standardized.sample(frac = .5).to_numpy().transpose()\n",
    "# #     X = iris_standardized.sample(axis = 1, frac = .5).to_numpy()\n",
    "#     output = greedy(X, isometry_loss, D_iris, []) # plainly brute is too hard 178**13 combinations\n",
    "#     loss = isometry_loss(X[:,output])\n",
    "#     losses.append(loss)\n",
    "#     data_transformed = exponential_transformation(X)\n",
    "#     beta = group_basis_pursuit(data_transformed)\n",
    "#     basis_pursuit_indices = np.where(np.linalg.norm(beta, axis = 1))[0]\n",
    "#     nbp.append(len(basis_pursuit_indices))\n",
    "#     #     two_stage_output = basis_pursuit_indices[np.asarray(greedy(X[:,basis_pursuit_indices], isometry_loss, D_wine, []))] # plainly this is too hard 178**13 combinations\n",
    "#     two_stage_output = basis_pursuit_indices[np.asarray(brute(X[:,basis_pursuit_indices], isometry_loss, D_iris))] # plainly this is too hard 178**13 combinations\n",
    "#     two_stage_loss = isometry_loss(X[:,two_stage_output])\n",
    "#     two_stage_losses.append(two_stage_loss)\n",
    "#     random_indices = np.random.choice(range(X.shape[1]), len(basis_pursuit_indices), replace=False)\n",
    "#     random_two_stage_losses.append(isometry_loss(X[:,random_indices]))"
   ]
  },
  {
   "cell_type": "code",
   "execution_count": 55,
   "id": "b1d04ac7",
   "metadata": {},
   "outputs": [
    {
     "data": {
      "text/plain": [
       "(150, 4)"
      ]
     },
     "execution_count": 55,
     "metadata": {},
     "output_type": "execute_result"
    }
   ],
   "source": [
    "iris_standardized.shape"
   ]
  },
  {
   "cell_type": "code",
   "execution_count": 81,
   "id": "c6474c64",
   "metadata": {},
   "outputs": [],
   "source": [
    "# pairing = []\n",
    "\n",
    "# for i in range(X.shape[1]):\n",
    "#     item_pairing = \n",
    "#     for j in range(iris_standardized.shape[0]):\n",
    "#         if all(iris_standardized.iloc[j,2:4].to_numpy() == X[:,i]):\n",
    "#             pairing.append([]"
   ]
  },
  {
   "cell_type": "code",
   "execution_count": 82,
   "id": "9f24211b",
   "metadata": {},
   "outputs": [
    {
     "name": "stdout",
     "output_type": "stream",
     "text": [
      "(2, 75)\n"
     ]
    },
    {
     "name": "stderr",
     "output_type": "stream",
     "text": [
      "/Users/samsonkoelle/miniconda3/envs/isometry/lib/python3.10/site-packages/cvxpy/problems/problem.py:1407: UserWarning: Solution may be inaccurate. Try another solver, adjusting the solver settings, or solve with verbose=True for more information.\n",
      "  warnings.warn(\n"
     ]
    },
    {
     "name": "stdout",
     "output_type": "stream",
     "text": [
      "Computing brute force solution for dictionary dimension 3 and target_dimension 2\n"
     ]
    },
    {
     "name": "stderr",
     "output_type": "stream",
     "text": [
      "3it [00:00, 10163.90it/s]\n"
     ]
    },
    {
     "name": "stdout",
     "output_type": "stream",
     "text": [
      "(2, 75)\n",
      "Computing brute force solution for dictionary dimension 3 and target_dimension 2\n"
     ]
    },
    {
     "name": "stderr",
     "output_type": "stream",
     "text": [
      "3it [00:00, 9525.29it/s]\n"
     ]
    }
   ],
   "source": [
    "np.random.seed(1234)\n",
    "random.seed(1234)\n",
    "\n",
    "losses = []\n",
    "nbp = []\n",
    "two_stage_losses = []\n",
    "random_two_stage_losses= []\n",
    "D_iris = 2\n",
    "for i in range(2):\n",
    "    X = iris_standardized.iloc[:,2:4].sample(frac = .5).to_numpy().transpose()\n",
    "    print(X.shape)\n",
    "#     X = iris_standardized.sample(axis = 1, frac = .5).to_numpy()\n",
    "    output = greedy(X, isometry_loss, D_iris, []) # plainly brute is too hard 178**13 combinations\n",
    "    loss = isometry_loss(X[:,output])\n",
    "    losses.append(loss)\n",
    "    data_transformed = exponential_transformation(X)\n",
    "    beta = group_basis_pursuit(data_transformed)\n",
    "    basis_pursuit_indices = np.where(np.linalg.norm(beta, axis = 1))[0]\n",
    "    nbp.append(len(basis_pursuit_indices))\n",
    "    #     two_stage_output = basis_pursuit_indices[np.asarray(greedy(X[:,basis_pursuit_indices], isometry_loss, D_wine, []))] # plainly this is too hard 178**13 combinations\n",
    "    two_stage_output = basis_pursuit_indices[np.asarray(brute(X[:,basis_pursuit_indices], isometry_loss, D_iris))] # plainly this is too hard 178**13 combinations\n",
    "    two_stage_loss = isometry_loss(X[:,two_stage_output])\n",
    "    two_stage_losses.append(two_stage_loss)\n",
    "    random_indices = np.random.choice(range(X.shape[1]), len(basis_pursuit_indices), replace=False)\n",
    "    random_two_stage_losses.append(isometry_loss(X[:,random_indices]))"
   ]
  },
  {
   "cell_type": "code",
   "execution_count": 85,
   "id": "175f478e",
   "metadata": {},
   "outputs": [
    {
     "data": {
      "text/plain": [
       "(2.847523794459459, 2.9411383305603933)"
      ]
     },
     "execution_count": 85,
     "metadata": {},
     "output_type": "execute_result"
    }
   ],
   "source": [
    "loss, two_stage_loss"
   ]
  },
  {
   "cell_type": "code",
   "execution_count": 91,
   "id": "268c853a",
   "metadata": {},
   "outputs": [
    {
     "name": "stdout",
     "output_type": "stream",
     "text": [
      "[54, 29] [23 29 50]\n"
     ]
    },
    {
     "data": {
      "text/plain": [
       "(2, 4)"
      ]
     },
     "execution_count": 91,
     "metadata": {},
     "output_type": "execute_result"
    }
   ],
   "source": [
    "print(output, basis_pursuit_indices)\n",
    "interesting_indices = [54,29,23,50]\n",
    "X = X[:,interesting_indices]\n",
    "X.shape"
   ]
  },
  {
   "cell_type": "code",
   "execution_count": 111,
   "id": "f8f260b9",
   "metadata": {},
   "outputs": [
    {
     "data": {
      "text/plain": [
       "[0, 2]"
      ]
     },
     "execution_count": 111,
     "metadata": {},
     "output_type": "execute_result"
    }
   ],
   "source": [
    "greedy(data_transformed.transpose(), isometry_loss, D_iris, [])"
   ]
  },
  {
   "cell_type": "code",
   "execution_count": 112,
   "id": "e9249aea",
   "metadata": {},
   "outputs": [
    {
     "data": {
      "text/plain": [
       "array([[5.92245988e-01, 1.04694540e+00, 5.35408562e-01, 4.21733708e-01],\n",
       "       [7.90670654e-01, 2.64141916e-01, 8.77547895e-04, 6.59038469e-01]])"
      ]
     },
     "execution_count": 112,
     "metadata": {},
     "output_type": "execute_result"
    }
   ],
   "source": [
    "X"
   ]
  },
  {
   "cell_type": "code",
   "execution_count": 107,
   "id": "d5eae6b1",
   "metadata": {},
   "outputs": [],
   "source": [
    "X = X.transpose()\n",
    "# data_transformed = data_transformed.transpose()"
   ]
  },
  {
   "cell_type": "code",
   "execution_count": 109,
   "id": "74d5ff6e",
   "metadata": {},
   "outputs": [
    {
     "data": {
      "image/png": "[encoded data removed]",
      "text/plain": [
       "<Figure size 500x500 with 2 Axes>"
      ]
     },
     "metadata": {},
     "output_type": "display_data"
    }
   ],
   "source": [
    "import matplotlib.pyplot as plt\n",
    "# Adjusting the layout to have two columns, one for data and one for betas\n",
    "fig, axes = plt.subplots(1, 2, figsize=(5, 5))\n",
    "\n",
    "# Plot data on the left (first 10 subplots)\n",
    "\n",
    "axes[0].arrow(0, 0, X[0, 0], X[1,0], head_width=0.05, head_length=0.1, fc='blue', ec='blue')\n",
    "axes[0].arrow(0, 0, X[0,1], X[1,1], head_width=0.05, head_length=0.1, fc='red', ec='red')    \n",
    "axes[0].arrow(0, 0, X[0,2], X[1,2], head_width=0.05, head_length=0.1, fc='green', ec='green')\n",
    "axes[0].arrow(0, 0, X[0,3], X[1,3], head_width=0.05, head_length=0.1, fc='purple', ec='purple')\n",
    "\n",
    "axes[1].arrow(0, 0, data_transformed[0, 0], data_transformed[0,1], head_width=0.05, head_length=0.1, fc='blue', ec='blue')\n",
    "axes[1].arrow(0, 0, data_transformed[1, 0], data_transformed[1,1], head_width=0.05, head_length=0.1, fc='red', ec='red')    \n",
    "axes[1].arrow(0, 0, data_transformed[2,0], data_transformed[2,1], head_width=0.05, head_length=0.1, fc='green', ec='green')\n",
    "axes[1].arrow(0, 0, data_transformed[3,0], data_transformed[3,1], head_width=0.05, head_length=0.1, fc='purple', ec='purple')\n",
    "\n",
    "plt.tight_layout()\n",
    "plt.show()"
   ]
  },
  {
   "cell_type": "code",
   "execution_count": null,
   "id": "3989fc36",
   "metadata": {},
   "outputs": [],
   "source": [
    "# does it always beat greedy on the same data?  since the losses are fundamentally not the same, even with perfect recovery it seems sus.\n",
    "\n",
    "# what if we have the same vector after normalization?  One is slightly too big, the other a bit too small.\n"
   ]
  },
  {
   "cell_type": "code",
   "execution_count": 92,
   "id": "765e3aee",
   "metadata": {},
   "outputs": [
    {
     "name": "stderr",
     "output_type": "stream",
     "text": [
      "/Users/samsonkoelle/miniconda3/envs/isometry/lib/python3.10/site-packages/cvxpy/problems/problem.py:1407: UserWarning: Solution may be inaccurate. Try another solver, adjusting the solver settings, or solve with verbose=True for more information.\n",
      "  warnings.warn(\n"
     ]
    },
    {
     "name": "stdout",
     "output_type": "stream",
     "text": [
      "Computing brute force solution for dictionary dimension 3 and target_dimension 2\n"
     ]
    },
    {
     "name": "stderr",
     "output_type": "stream",
     "text": [
      "3it [00:00, 15887.52it/s]\n"
     ]
    }
   ],
   "source": [
    "\n",
    "output = greedy(X, isometry_loss, D_iris, []) # plainly brute is too hard 178**13 combinations\n",
    "loss = isometry_loss(X[:,output])\n",
    "losses.append(loss)\n",
    "data_transformed = exponential_transformation(X)\n",
    "beta = group_basis_pursuit(data_transformed)\n",
    "basis_pursuit_indices = np.where(np.linalg.norm(beta, axis = 1))[0]\n",
    "nbp.append(len(basis_pursuit_indices))\n",
    "#     two_stage_output = basis_pursuit_indices[np.asarray(greedy(X[:,basis_pursuit_indices], isometry_loss, D_wine, []))] # plainly this is too hard 178**13 combinations\n",
    "two_stage_output = basis_pursuit_indices[np.asarray(brute(X[:,basis_pursuit_indices], isometry_loss, D_iris))] # plainly this is too hard 178**13 combinations\n",
    "two_stage_loss = isometry_loss(X[:,two_stage_output])\n",
    "two_stage_losses.append(two_stage_loss)\n",
    "random_indices = np.random.choice(range(X.shape[1]), len(basis_pursuit_indices), replace=False)\n",
    "random_two_stage_losses.append(isometry_loss(X[:,random_indices]))"
   ]
  },
  {
   "cell_type": "code",
   "execution_count": 113,
   "id": "cbf6277c",
   "metadata": {},
   "outputs": [],
   "source": [
    "from convexlocalisometry.loss import group_lasso_norm"
   ]
  },
  {
   "cell_type": "code",
   "execution_count": 124,
   "id": "712cdafc",
   "metadata": {},
   "outputs": [],
   "source": [
    "norms = np.zeros((X.shape[1],X.shape[1]))\n",
    "\n",
    "for i in range(X.shape[1]):\n",
    "    for j in range(X.shape[1]):\n",
    "        norms[i,j] = group_lasso_norm(X[:,np.asarray([i,j])])"
   ]
  },
  {
   "cell_type": "code",
   "execution_count": 130,
   "id": "8da2d452",
   "metadata": {},
   "outputs": [],
   "source": [
    "data_transformed = data_transformed.transpose()"
   ]
  },
  {
   "cell_type": "code",
   "execution_count": 158,
   "id": "3a7dfad6",
   "metadata": {},
   "outputs": [],
   "source": [
    "norms = np.zeros((data_transformed.shape[1],data_transformed.shape[1]))\n",
    "\n",
    "for i in range(data_transformed.shape[1]):\n",
    "    for j in range(data_transformed.shape[1]):\n",
    "        if i != j:\n",
    "            norms[i,j] = group_lasso_norm(np.linalg.inv(data_transformed[:,np.asarray([i,j])]))"
   ]
  },
  {
   "cell_type": "code",
   "execution_count": 161,
   "id": "5028ea26",
   "metadata": {},
   "outputs": [],
   "source": [
    "norms = np.zeros((data_transformed.shape[1],data_transformed.shape[1]))\n",
    "\n",
    "for i in range(data_transformed.shape[1]):\n",
    "    for j in range(data_transformed.shape[1]):\n",
    "        if i != j:\n",
    "            norms[i,j] = isometry_loss(data_transformed[:,np.asarray([i,j])])"
   ]
  },
  {
   "cell_type": "code",
   "execution_count": 159,
   "id": "6cf4b33e",
   "metadata": {},
   "outputs": [
    {
     "data": {
      "text/plain": [
       "<Axes: >"
      ]
     },
     "execution_count": 159,
     "metadata": {},
     "output_type": "execute_result"
    },
    {
     "data": {
      "image/png": "[encoded data removed]",
      "text/plain": [
       "<Figure size 640x480 with 2 Axes>"
      ]
     },
     "metadata": {},
     "output_type": "display_data"
    }
   ],
   "source": [
    "sns.heatmap(norms, vmin=3, vmax=4)\n",
    "\n",
    "# it has to be contained within the solution because its a convex set and its an average?"
   ]
  },
  {
   "cell_type": "code",
   "execution_count": 143,
   "id": "9cd8d639",
   "metadata": {},
   "outputs": [],
   "source": [
    "norms = np.zeros((data_transformed.shape[1],data_transformed.shape[1]))\n",
    "\n",
    "for i in range(data_transformed.shape[1]):\n",
    "    for j in range(data_transformed.shape[1]):\n",
    "        if j !=i:\n",
    "            norms[i,j] = isometry_loss(X[:,np.asarray([i,j])])"
   ]
  },
  {
   "cell_type": "code",
   "execution_count": 147,
   "id": "6c627aa2",
   "metadata": {},
   "outputs": [
    {
     "data": {
      "text/plain": [
       "<Axes: >"
      ]
     },
     "execution_count": 147,
     "metadata": {},
     "output_type": "execute_result"
    },
    {
     "data": {
      "image/png": "[encoded data removed]",
      "text/plain": [
       "<Figure size 640x480 with 2 Axes>"
      ]
     },
     "metadata": {},
     "output_type": "display_data"
    }
   ],
   "source": [
    "sns.heatmap(norms, vmin = 0, vmax= 5)"
   ]
  },
  {
   "cell_type": "code",
   "execution_count": null,
   "id": "541f66d3",
   "metadata": {},
   "outputs": [],
   "source": [
    "output = greedy(X, isometry_loss, D_iris, []) # plainly brute is too hard 178**13 combinations\n",
    "loss = isometry_loss(X[:,output])\n",
    "losses.append(loss)\n",
    "data_transformed = exponential_transformation(X)\n",
    "beta = group_basis_pursuit(data_transformed)\n",
    "basis_pursuit_indices = np.where(np.linalg.norm(beta, axis = 1))[0]\n",
    "nbp.append(len(basis_pursuit_indices))\n",
    "#     two_stage_output = basis_pursuit_indices[np.asarray(greedy(X[:,basis_pursuit_indices], isometry_loss, D_wine, []))] # plainly this is too hard 178**13 combinations\n",
    "two_stage_output = basis_pursuit_indices[np.asarray(brute(X[:,basis_pursuit_indices], isometry_loss, D_iris))] # plainly this is too hard 178**13 combinations\n",
    "two_stage_loss = isometry_loss(X[:,two_stage_output])\n",
    "two_stage_losses.append(two_stage_loss)\n",
    "random_indices = np.random.choice(range(X.shape[1]), len(basis_pursuit_indices), replace=False)\n",
    "random_two_stage_losses.append(isometry_loss(X[:,random_indices]))"
   ]
  },
  {
   "cell_type": "code",
   "execution_count": 25,
   "id": "44259e26",
   "metadata": {},
   "outputs": [
    {
     "data": {
      "text/plain": [
       "2.847523794459459"
      ]
     },
     "execution_count": 25,
     "metadata": {},
     "output_type": "execute_result"
    }
   ],
   "source": [
    "loss # greedy has its own distribution by ordering strategy.\n",
    "# its not guaranteed greedy would always work this well on this data"
   ]
  },
  {
   "cell_type": "code",
   "execution_count": 26,
   "id": "18ecb11b",
   "metadata": {},
   "outputs": [
    {
     "data": {
      "text/plain": [
       "2.9411383305603933"
      ]
     },
     "execution_count": 26,
     "metadata": {},
     "output_type": "execute_result"
    }
   ],
   "source": [
    "two_stage_loss"
   ]
  },
  {
   "cell_type": "code",
   "execution_count": 25,
   "id": "09346ca9",
   "metadata": {},
   "outputs": [
    {
     "name": "stderr",
     "output_type": "stream",
     "text": [
      "/Users/samsonkoelle/miniconda3/envs/isometry/lib/python3.10/site-packages/cvxpy/problems/problem.py:1407: UserWarning: Solution may be inaccurate. Try another solver, adjusting the solver settings, or solve with verbose=True for more information.\n",
      "  warnings.warn(\n"
     ]
    }
   ],
   "source": [
    "beta = group_basis_pursuit(data_transformed[:,basis_pursuit_indices])"
   ]
  },
  {
   "cell_type": "code",
   "execution_count": 21,
   "id": "22d66cd3",
   "metadata": {},
   "outputs": [
    {
     "data": {
      "text/plain": [
       "False"
      ]
     },
     "execution_count": 21,
     "metadata": {},
     "output_type": "execute_result"
    }
   ],
   "source": [
    "set(output) in set(basis_pursuit_indices)"
   ]
  },
  {
   "cell_type": "code",
   "execution_count": 27,
   "id": "01117e11",
   "metadata": {},
   "outputs": [
    {
     "data": {
      "text/plain": [
       "array([23, 29, 50])"
      ]
     },
     "execution_count": 27,
     "metadata": {},
     "output_type": "execute_result"
    }
   ],
   "source": [
    "basis_pursuit_indices"
   ]
  },
  {
   "cell_type": "code",
   "execution_count": 28,
   "id": "b672bb9a",
   "metadata": {},
   "outputs": [
    {
     "data": {
      "text/plain": [
       "(array([1]),)"
      ]
     },
     "execution_count": 28,
     "metadata": {},
     "output_type": "execute_result"
    }
   ],
   "source": [
    "np.where(np.asarray(losses ) < np.asarray(two_stage_losses))"
   ]
  },
  {
   "cell_type": "code",
   "execution_count": 24,
   "id": "32931bf4",
   "metadata": {},
   "outputs": [
    {
     "data": {
      "text/plain": [
       "<Axes: >"
      ]
     },
     "execution_count": 24,
     "metadata": {},
     "output_type": "execute_result"
    },
    {
     "data": {
      "image/png": "[encoded data removed]",
      "text/plain": [
       "<Figure size 640x480 with 2 Axes>"
      ]
     },
     "metadata": {},
     "output_type": "display_data"
    }
   ],
   "source": [
    "sns.heatmap(data_transformed)"
   ]
  },
  {
   "cell_type": "code",
   "execution_count": 15,
   "id": "d805f756",
   "metadata": {},
   "outputs": [
    {
     "data": {
      "text/plain": [
       "array([0.94973706, 0.95549665, 0.52690181, 0.97252159, 0.49381049,\n",
       "       0.19861288, 0.52092949, 0.49567494, 0.69148579, 0.49192562,\n",
       "       0.15223171, 0.49818026, 0.99627126, 0.86751595, 0.41865813,\n",
       "       0.29553497, 0.42627713, 0.81665013, 0.97651161, 0.21398798,\n",
       "       0.36418705, 0.96493347, 0.68846957, 0.97636521, 0.17617198,\n",
       "       0.48217101, 0.50776356, 0.43399939, 0.52834699, 0.82647491,\n",
       "       0.87484025, 0.37864259, 0.36267868, 0.98942675, 0.24098598,\n",
       "       0.59936964, 0.99707646, 0.1525693 , 0.57780481, 0.57027947,\n",
       "       0.51260885, 0.83395665, 0.36424109, 0.62783625, 0.55545543,\n",
       "       0.58618977, 0.30166648, 0.97549131, 0.99295511, 0.866993  ,\n",
       "       0.65463619, 0.56465692, 0.86008399, 0.64545806, 0.99820399,\n",
       "       0.56826727, 0.15595735, 0.76803222, 0.98558423, 0.63354416,\n",
       "       0.45381151, 0.84102906, 0.58972471, 0.41844871, 0.66346671,\n",
       "       0.50878454, 0.27095358, 0.35862265, 0.46461162, 0.81850665,\n",
       "       0.60044733, 0.25507067, 0.88060906, 0.51543215, 0.4596105 ])"
      ]
     },
     "execution_count": 15,
     "metadata": {},
     "output_type": "execute_result"
    }
   ],
   "source": [
    "np.linalg.norm(data_transformed, axis = 0)"
   ]
  },
  {
   "cell_type": "code",
   "execution_count": null,
   "id": "ad489c14",
   "metadata": {},
   "outputs": [],
   "source": []
  },
  {
   "cell_type": "code",
   "execution_count": null,
   "id": "913e69fa",
   "metadata": {},
   "outputs": [],
   "source": [
    "sns.heatmap(X)"
   ]
  },
  {
   "cell_type": "code",
   "execution_count": null,
   "id": "4062616d",
   "metadata": {},
   "outputs": [],
   "source": []
  },
  {
   "cell_type": "code",
   "execution_count": 7,
   "id": "576597a6",
   "metadata": {},
   "outputs": [
    {
     "name": "stdout",
     "output_type": "stream",
     "text": [
      "13.418240043748304\n",
      "6.421590347988552\n",
      "7.980094602761592\n",
      "1.8257606867668987\n",
      "7.0\n",
      "0.938083151964686\n"
     ]
    }
   ],
   "source": [
    "print(np.mean(losses))\n",
    "print(np.std(losses))  # Standard deviation\n",
    "print(np.mean(two_stage_losses))\n",
    "print(np.std(two_stage_losses))  # Standard deviation\n",
    "print(np.mean(nbp))\n",
    "print(np.std(nbp))  # Standard deviation"
   ]
  },
  {
   "cell_type": "code",
   "execution_count": 8,
   "id": "ac44f9b5",
   "metadata": {},
   "outputs": [
    {
     "name": "stdout",
     "output_type": "stream",
     "text": [
      "7.0\n",
      "0.938083151964686\n"
     ]
    }
   ],
   "source": [
    "print(np.mean(nbp))\n",
    "print(np.std(nbp))  # Standard deviation"
   ]
  },
  {
   "cell_type": "code",
   "execution_count": 9,
   "id": "cc883704",
   "metadata": {},
   "outputs": [],
   "source": [
    "from scipy import stats\n",
    "\n",
    "t_statistic, p_value = stats.ttest_rel(losses, two_stage_losses)\n"
   ]
  },
  {
   "cell_type": "code",
   "execution_count": 10,
   "id": "bb488a15",
   "metadata": {},
   "outputs": [
    {
     "name": "stdout",
     "output_type": "stream",
     "text": [
      "0.00019227762964308477\n"
     ]
    }
   ],
   "source": [
    "print(p_value)"
   ]
  },
  {
   "cell_type": "code",
   "execution_count": null,
   "id": "b6aa2180",
   "metadata": {},
   "outputs": [],
   "source": []
  },
  {
   "cell_type": "code",
   "execution_count": 18,
   "id": "0e535243",
   "metadata": {},
   "outputs": [],
   "source": [
    "# losses = []\n",
    "# two_stage_losses = []\n",
    "# random_two_stage_losses= []\n",
    "# for i in range(1):\n",
    "#     X = wine_standardized.sample(frac = .5).to_numpy().transpose()\n",
    "#     output = greedy(X, isometry_loss, D_iris, []) # plainly brute is too hard 178**13 combinations\n",
    "#     loss = isometry_loss(X[:,output])\n",
    "#     losses.append(loss)\n",
    "#     data_transformed = exponential_transformation(X)\n",
    "#     beta = group_basis_pursuit(data_transformed)\n",
    "#     basis_pursuit_indices = np.where(np.linalg.norm(beta, axis = 1))[0]\n",
    "#     two_stage_output = basis_pursuit_indices[np.asarray(brute(X[:,basis_pursuit_indices], isometry_loss, D_iris))] # plainly this is too hard 178**13 combinations\n",
    "#     two_stage_loss = isometry_loss(X[:,two_stage_output])\n",
    "#     two_stage_losses.append(two_stage_loss)\n",
    "#     random_indices = np.random.choice(range(X.shape[1]), len(basis_pursuit_indices), replace=False)\n",
    "#     random_two_stage_losses.append(isometry_loss(X[:,random_indices]))"
   ]
  },
  {
   "cell_type": "code",
   "execution_count": null,
   "id": "d67bb19a",
   "metadata": {},
   "outputs": [],
   "source": []
  },
  {
   "cell_type": "code",
   "execution_count": 11,
   "id": "b89f96ff",
   "metadata": {},
   "outputs": [
    {
     "name": "stdout",
     "output_type": "stream",
     "text": [
      "Computing brute force solution for dictionary dimension 14 and target_dimension 5\n"
     ]
    },
    {
     "name": "stderr",
     "output_type": "stream",
     "text": [
      "2002it [00:00, 26528.87it/s]\n"
     ]
    },
    {
     "name": "stdout",
     "output_type": "stream",
     "text": [
      "Computing brute force solution for dictionary dimension 12 and target_dimension 5\n"
     ]
    },
    {
     "name": "stderr",
     "output_type": "stream",
     "text": [
      "792it [00:00, 23007.16it/s]\n"
     ]
    },
    {
     "name": "stdout",
     "output_type": "stream",
     "text": [
      "Computing brute force solution for dictionary dimension 10 and target_dimension 5\n"
     ]
    },
    {
     "name": "stderr",
     "output_type": "stream",
     "text": [
      "252it [00:00, 19553.14it/s]\n"
     ]
    },
    {
     "name": "stdout",
     "output_type": "stream",
     "text": [
      "Computing brute force solution for dictionary dimension 10 and target_dimension 5\n"
     ]
    },
    {
     "name": "stderr",
     "output_type": "stream",
     "text": [
      "252it [00:00, 24077.74it/s]\n"
     ]
    },
    {
     "name": "stdout",
     "output_type": "stream",
     "text": [
      "Computing brute force solution for dictionary dimension 11 and target_dimension 5\n"
     ]
    },
    {
     "name": "stderr",
     "output_type": "stream",
     "text": [
      "462it [00:00, 23134.50it/s]\n"
     ]
    },
    {
     "name": "stdout",
     "output_type": "stream",
     "text": [
      "Computing brute force solution for dictionary dimension 12 and target_dimension 5\n"
     ]
    },
    {
     "name": "stderr",
     "output_type": "stream",
     "text": [
      "792it [00:00, 28459.59it/s]\n"
     ]
    },
    {
     "name": "stdout",
     "output_type": "stream",
     "text": [
      "Computing brute force solution for dictionary dimension 13 and target_dimension 5\n"
     ]
    },
    {
     "name": "stderr",
     "output_type": "stream",
     "text": [
      "1287it [00:00, 26335.64it/s]\n"
     ]
    },
    {
     "name": "stdout",
     "output_type": "stream",
     "text": [
      "Computing brute force solution for dictionary dimension 12 and target_dimension 5\n"
     ]
    },
    {
     "name": "stderr",
     "output_type": "stream",
     "text": [
      "792it [00:00, 22148.88it/s]\n"
     ]
    },
    {
     "name": "stdout",
     "output_type": "stream",
     "text": [
      "Computing brute force solution for dictionary dimension 13 and target_dimension 5\n"
     ]
    },
    {
     "name": "stderr",
     "output_type": "stream",
     "text": [
      "1287it [00:00, 28444.58it/s]\n"
     ]
    },
    {
     "name": "stdout",
     "output_type": "stream",
     "text": [
      "Computing brute force solution for dictionary dimension 11 and target_dimension 5\n"
     ]
    },
    {
     "name": "stderr",
     "output_type": "stream",
     "text": [
      "462it [00:00, 23639.11it/s]\n"
     ]
    },
    {
     "name": "stdout",
     "output_type": "stream",
     "text": [
      "Computing brute force solution for dictionary dimension 12 and target_dimension 5\n"
     ]
    },
    {
     "name": "stderr",
     "output_type": "stream",
     "text": [
      "792it [00:00, 27859.78it/s]\n"
     ]
    },
    {
     "name": "stdout",
     "output_type": "stream",
     "text": [
      "Computing brute force solution for dictionary dimension 12 and target_dimension 5\n"
     ]
    },
    {
     "name": "stderr",
     "output_type": "stream",
     "text": [
      "792it [00:00, 24887.72it/s]\n"
     ]
    },
    {
     "name": "stdout",
     "output_type": "stream",
     "text": [
      "Computing brute force solution for dictionary dimension 13 and target_dimension 5\n"
     ]
    },
    {
     "name": "stderr",
     "output_type": "stream",
     "text": [
      "1287it [00:00, 26830.44it/s]\n"
     ]
    },
    {
     "name": "stdout",
     "output_type": "stream",
     "text": [
      "Computing brute force solution for dictionary dimension 12 and target_dimension 5\n"
     ]
    },
    {
     "name": "stderr",
     "output_type": "stream",
     "text": [
      "792it [00:00, 26994.06it/s]\n"
     ]
    },
    {
     "name": "stdout",
     "output_type": "stream",
     "text": [
      "Computing brute force solution for dictionary dimension 13 and target_dimension 5\n"
     ]
    },
    {
     "name": "stderr",
     "output_type": "stream",
     "text": [
      "1287it [00:00, 28487.96it/s]\n"
     ]
    },
    {
     "name": "stdout",
     "output_type": "stream",
     "text": [
      "Computing brute force solution for dictionary dimension 13 and target_dimension 5\n"
     ]
    },
    {
     "name": "stderr",
     "output_type": "stream",
     "text": [
      "1287it [00:00, 26794.61it/s]\n"
     ]
    },
    {
     "name": "stdout",
     "output_type": "stream",
     "text": [
      "Computing brute force solution for dictionary dimension 11 and target_dimension 5\n"
     ]
    },
    {
     "name": "stderr",
     "output_type": "stream",
     "text": [
      "462it [00:00, 23130.08it/s]\n"
     ]
    },
    {
     "name": "stdout",
     "output_type": "stream",
     "text": [
      "Computing brute force solution for dictionary dimension 10 and target_dimension 5\n"
     ]
    },
    {
     "name": "stderr",
     "output_type": "stream",
     "text": [
      "252it [00:00, 20410.24it/s]\n"
     ]
    },
    {
     "name": "stdout",
     "output_type": "stream",
     "text": [
      "Computing brute force solution for dictionary dimension 10 and target_dimension 5\n"
     ]
    },
    {
     "name": "stderr",
     "output_type": "stream",
     "text": [
      "252it [00:00, 23875.41it/s]\n"
     ]
    },
    {
     "name": "stdout",
     "output_type": "stream",
     "text": [
      "Computing brute force solution for dictionary dimension 11 and target_dimension 5\n"
     ]
    },
    {
     "name": "stderr",
     "output_type": "stream",
     "text": [
      "462it [00:00, 26091.57it/s]\n"
     ]
    },
    {
     "name": "stdout",
     "output_type": "stream",
     "text": [
      "Computing brute force solution for dictionary dimension 12 and target_dimension 5\n"
     ]
    },
    {
     "name": "stderr",
     "output_type": "stream",
     "text": [
      "792it [00:00, 23048.50it/s]\n"
     ]
    },
    {
     "name": "stdout",
     "output_type": "stream",
     "text": [
      "Computing brute force solution for dictionary dimension 13 and target_dimension 5\n"
     ]
    },
    {
     "name": "stderr",
     "output_type": "stream",
     "text": [
      "1287it [00:00, 23836.43it/s]\n"
     ]
    },
    {
     "name": "stdout",
     "output_type": "stream",
     "text": [
      "Computing brute force solution for dictionary dimension 10 and target_dimension 5\n"
     ]
    },
    {
     "name": "stderr",
     "output_type": "stream",
     "text": [
      "252it [00:00, 25861.62it/s]\n"
     ]
    },
    {
     "name": "stdout",
     "output_type": "stream",
     "text": [
      "Computing brute force solution for dictionary dimension 13 and target_dimension 5\n"
     ]
    },
    {
     "name": "stderr",
     "output_type": "stream",
     "text": [
      "1287it [00:00, 25351.74it/s]\n"
     ]
    },
    {
     "name": "stdout",
     "output_type": "stream",
     "text": [
      "Computing brute force solution for dictionary dimension 9 and target_dimension 5\n"
     ]
    },
    {
     "name": "stderr",
     "output_type": "stream",
     "text": [
      "126it [00:00, 19114.67it/s]\n"
     ]
    }
   ],
   "source": [
    "losses = []\n",
    "two_stage_losses = []\n",
    "nbp = []\n",
    "random_two_stage_losses= []\n",
    "dimension = 5\n",
    "for i in range(25):\n",
    "    X = wine_standardized.sample(frac = .5).to_numpy().transpose()[:dimension,:]\n",
    "    output = greedy(X, isometry_loss, dimension, []) # plainly brute is too hard 178**13 combinations\n",
    "#     output = brute(X, isometry_loss, dimension)\n",
    "    loss = isometry_loss(X[:,output])\n",
    "    losses.append(loss)\n",
    "    data_transformed = exponential_transformation(X)\n",
    "    beta = group_basis_pursuit(data_transformed)\n",
    "    basis_pursuit_indices = np.where(np.linalg.norm(beta, axis = 1))[0]\n",
    "    nbp.append(len(basis_pursuit_indices))\n",
    "\n",
    "    two_stage_output = basis_pursuit_indices[np.asarray(brute(X[:,basis_pursuit_indices], isometry_loss, dimension))] # plainly this is too hard 178**13 combinations\n",
    "    two_stage_loss = isometry_loss(X[:,two_stage_output])\n",
    "    two_stage_losses.append(two_stage_loss)\n",
    "    random_indices = np.random.choice(range(X.shape[1]), len(basis_pursuit_indices), replace=False)\n",
    "    random_two_stage_losses.append(isometry_loss(X[:,random_indices]))"
   ]
  },
  {
   "cell_type": "code",
   "execution_count": 12,
   "id": "cd0c36d2",
   "metadata": {},
   "outputs": [
    {
     "name": "stdout",
     "output_type": "stream",
     "text": [
      "5.748351077582056\n",
      "0.20906514073788146\n",
      "5.572803145225201\n",
      "0.1075232804940342\n",
      "11.68\n",
      "1.2874781551544865\n"
     ]
    }
   ],
   "source": [
    "print(np.mean(losses))\n",
    "print(np.std(losses))  # Standard deviation\n",
    "print(np.mean(two_stage_losses))\n",
    "print(np.std(two_stage_losses))  # Standard deviation\n",
    "print(np.mean(nbp))\n",
    "print(np.std(nbp))  # Standard deviation"
   ]
  },
  {
   "cell_type": "code",
   "execution_count": 13,
   "id": "5769653d",
   "metadata": {},
   "outputs": [
    {
     "data": {
      "image/png": "[encoded data removed]",
      "text/plain": [
       "<Figure size 640x480 with 1 Axes>"
      ]
     },
     "metadata": {},
     "output_type": "display_data"
    }
   ],
   "source": [
    "import matplotlib.pyplot as plt\n",
    "\n",
    "data = [losses, two_stage_losses]\n",
    "plt.boxplot(data)\n",
    "plt.xticks([1, 2], [r'$\\widehat S_{g}$', r'$\\widehat S_{IP,TS}$'], fontsize=30)\n",
    "plt.title('Side-by-Side Boxplot')\n",
    "plt.ylabel('Values')\n",
    "plt.ylabel(r'$l_1(X_{.\\widehat {S}})$', fontsize = 30)\n",
    "plt.savefig('/Users/samsonkoelle/convexlocalisometry/figures/Figure2b')"
   ]
  },
  {
   "cell_type": "code",
   "execution_count": 14,
   "id": "2f628cb6",
   "metadata": {},
   "outputs": [],
   "source": [
    "from scipy import stats\n",
    "\n",
    "t_statistic, p_value = stats.ttest_rel(losses, two_stage_losses)\n"
   ]
  },
  {
   "cell_type": "code",
   "execution_count": 15,
   "id": "7300f292",
   "metadata": {},
   "outputs": [
    {
     "data": {
      "text/plain": [
       "4.957758840665814e-05"
      ]
     },
     "execution_count": 15,
     "metadata": {},
     "output_type": "execute_result"
    }
   ],
   "source": [
    "p_value"
   ]
  },
  {
   "cell_type": "code",
   "execution_count": 30,
   "id": "4bbfac49",
   "metadata": {},
   "outputs": [
    {
     "data": {
      "text/plain": [
       "(150, 4)"
      ]
     },
     "execution_count": 30,
     "metadata": {},
     "output_type": "execute_result"
    }
   ],
   "source": [
    "iris_standardized.shape"
   ]
  },
  {
   "cell_type": "code",
   "execution_count": null,
   "id": "7f9fce0e",
   "metadata": {},
   "outputs": [],
   "source": []
  }
 ],
 "metadata": {
  "kernelspec": {
   "display_name": "isometry",
   "language": "python",
   "name": "isometry"
  },
  "language_info": {
   "codemirror_mode": {
    "name": "ipython",
    "version": 3
   },
   "file_extension": ".py",
   "mimetype": "text/x-python",
   "name": "python",
   "nbconvert_exporter": "python",
   "pygments_lexer": "ipython3",
   "version": "3.10.14"
  }
 },
 "nbformat": 4,
 "nbformat_minor": 5
}

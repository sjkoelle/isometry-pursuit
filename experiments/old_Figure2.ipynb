{
 "cells": [
  {
   "cell_type": "code",
   "execution_count": 2,
   "id": "db597919",
   "metadata": {},
   "outputs": [],
   "source": [
    "%load_ext autoreload\n",
    "%autoreload 2\n",
    "import sklearn\n",
    "from sklearn.datasets import load_wine, load_iris\n",
    "import seaborn as sns\n",
    "import pandas as pd\n",
    "from sklearn.preprocessing import StandardScaler\n",
    "\n",
    "from einops import rearrange\n",
    "import numpy as np\n",
    "import matplotlib.pyplot as plt\n",
    "\n",
    "from isometry_pursuit.transformation import exponential_transformation\n",
    "from isometry_pursuit.loss import isometry_loss\n",
    "from isometry_pursuit.algorithm import greedy, brute, group_basis_pursuit, group_lasso\n",
    "import random\n",
    "\n",
    "np.random.seed(1234)\n",
    "random.seed(1234)\n"
   ]
  },
  {
   "cell_type": "code",
   "execution_count": 3,
   "id": "2cc97273",
   "metadata": {},
   "outputs": [
    {
     "name": "stdout",
     "output_type": "stream",
     "text": [
      "dict_keys(['data', 'target', 'frame', 'target_names', 'DESCR', 'feature_names'])\n",
      "D_wine 13\n",
      "P_wine 178\n",
      "['alcohol', 'malic_acid', 'ash', 'alcalinity_of_ash', 'magnesium', 'total_phenols', 'flavanoids', 'nonflavanoid_phenols', 'proanthocyanins', 'color_intensity', 'hue', 'od280/od315_of_diluted_wines', 'proline']\n",
      "dict_keys(['data', 'target', 'frame', 'target_names', 'DESCR', 'feature_names', 'filename', 'data_module'])\n",
      "D_iris 4\n",
      "P_iris 150\n",
      "['alcohol', 'malic_acid', 'ash', 'alcalinity_of_ash', 'magnesium', 'total_phenols', 'flavanoids', 'nonflavanoid_phenols', 'proanthocyanins', 'color_intensity', 'hue', 'od280/od315_of_diluted_wines', 'proline']\n"
     ]
    }
   ],
   "source": [
    "wine = load_wine()\n",
    "print(wine.keys())\n",
    "P_wine, D_wine = wine['data'].shape\n",
    "print(\"D_wine\", D_wine)\n",
    "print(\"P_wine\", P_wine)\n",
    "print(wine['feature_names'])\n",
    "wine_df = pd.DataFrame(data= wine['data'], columns = wine['feature_names']) # label with class names?\n",
    "scaler = StandardScaler()\n",
    "wine_standardized = pd.DataFrame(data = scaler.fit_transform(wine['data']), columns = wine['feature_names'])\n",
    "# wine_standardized = pd.DataFrame(data = wine['data'], columns = wine['feature_names'])\n",
    "\n",
    "iris = load_iris()\n",
    "print(iris.keys())\n",
    "P_iris, D_iris = iris['data'].shape\n",
    "\n",
    "print(\"D_iris\", D_iris)\n",
    "print(\"P_iris\", P_iris)\n",
    "print(wine['feature_names'])\n",
    "iris_df = pd.DataFrame(data= iris['data'], columns = iris['feature_names'])\n",
    "\n",
    "scaler = StandardScaler()\n",
    "iris_standardized = pd.DataFrame(data = scaler.fit_transform(iris['data']), columns = iris['feature_names'])\n",
    "# iris_standardized = pd.DataFrame(data = iris['data'], columns = iris['feature_names'])\n"
   ]
  },
  {
   "cell_type": "code",
   "execution_count": 4,
   "id": "b5027fa3",
   "metadata": {},
   "outputs": [
    {
     "data": {
      "text/plain": [
       "array([2.31866282, 2.20238668, 2.38940142, 2.37838853, 2.47614211,\n",
       "       2.55473374, 2.46767902, 2.24585711, 2.59157687, 2.24883352,\n",
       "       2.41964028, 2.33563766, 2.34644821, 2.80905161, 2.92503479,\n",
       "       3.51243853, 2.66649972, 2.2466007 , 2.39217872, 2.60431164,\n",
       "       2.00234918, 2.39875277, 2.83157138, 1.82726905, 2.25077619,\n",
       "       2.07277996, 2.06830957, 2.24131482, 2.18093082, 2.29387891,\n",
       "       2.20059821, 1.91440521, 3.17956706, 3.25861518, 2.16647538,\n",
       "       2.23523023, 2.21215174, 2.59946698, 2.59963424, 2.19338215,\n",
       "       2.33146824, 3.0069688 , 2.61697065, 2.051673  , 2.44054138,\n",
       "       2.19390064, 2.6398415 , 2.4298273 , 2.44939137, 2.20971092,\n",
       "       1.55836927, 0.94726134, 1.49226836, 1.8024525 , 1.17032578,\n",
       "       0.75926713, 1.08767802, 1.93203314, 1.10378923, 1.16642486,\n",
       "       2.65680719, 0.49181538, 2.0046733 , 0.76441113, 0.49368691,\n",
       "       1.13579081, 0.66245509, 0.886572  , 2.10147026, 1.32534422,\n",
       "       1.04330514, 0.69577521, 1.59063478, 0.85690627, 0.83581249,\n",
       "       1.03001394, 1.45434289, 1.42391306, 0.70831024, 1.1085262 ,\n",
       "       1.57492353, 1.59143051, 0.82818637, 1.25403904, 0.80029668,\n",
       "       1.05558961, 1.23709336, 1.86980719, 0.39961763, 1.3621809 ,\n",
       "       1.18934079, 0.64260356, 1.06301181, 2.05428321, 0.91881651,\n",
       "       0.33270738, 0.49194035, 0.65604699, 1.6309294 , 0.66061516,\n",
       "       2.2744943 , 1.45321046, 2.28554902, 1.46921888, 1.93198379,\n",
       "       2.92623042, 1.88803431, 2.44112011, 2.16694444, 2.99431348,\n",
       "       1.5599757 , 1.65841804, 1.93571257, 1.81252883, 1.85292432,\n",
       "       1.85204091, 1.50199256, 3.53764231, 3.38492271, 2.14147391,\n",
       "       2.25046152, 1.40354045, 3.0526824 , 1.42452382, 2.00334871,\n",
       "       2.24923706, 1.23027969, 1.07731491, 1.81865936, 2.08442769,\n",
       "       2.55560885, 3.53533446, 1.90708324, 1.18132164, 1.53977352,\n",
       "       2.99157501, 2.12658306, 1.43877459, 1.01457837, 1.9812829 ,\n",
       "       2.16357595, 2.08082472, 1.45321046, 2.24340213, 2.35353117,\n",
       "       1.96614407, 1.81690378, 1.55981534, 1.94398848, 1.1086448 ])"
      ]
     },
     "execution_count": 4,
     "metadata": {},
     "output_type": "execute_result"
    }
   ],
   "source": [
    "iris_standardized = pd.DataFrame(data = scaler.fit_transform(iris['data']), columns = iris['feature_names'])\n",
    "np.linalg.norm(iris_standardized, axis = 1)"
   ]
  },
  {
   "cell_type": "code",
   "execution_count": 5,
   "id": "3758ce3c",
   "metadata": {},
   "outputs": [
    {
     "data": {
      "text/plain": [
       "array([ 6.34507683,  5.91692488,  5.83609458,  5.7497826 ,  6.32139225,\n",
       "        6.88621812,  5.8966092 ,  6.23297682,  5.45618915,  5.98999165,\n",
       "        6.71863081,  6.09918027,  5.83180932,  5.35817133,  7.14982517,\n",
       "        7.36613874,  6.79852925,  6.34901567,  7.06470098,  6.54140658,\n",
       "        6.60681466,  6.48922183,  5.92958683,  6.32771681,  6.18465844,\n",
       "        6.04979338,  6.26737585,  6.44825558,  6.37181293,  5.91016074,\n",
       "        5.93717104,  6.56734345,  6.79043445,  7.06328535,  5.99249531,\n",
       "        6.05970296,  6.65056389,  6.2401923 ,  5.48543526,  6.31347765,\n",
       "        6.24739946,  5.22685374,  5.59732079,  6.33798075,  6.64981203,\n",
       "        5.83866423,  6.56124988,  5.77927331,  6.63852393,  6.15548536,\n",
       "        9.12633552,  8.58487041,  9.13673902,  7.29588925,  8.5732141 ,\n",
       "        7.89113427,  8.67352293,  6.45445583,  8.64985549,  7.17635005,\n",
       "        6.5       ,  7.98122798,  7.60526134,  8.3468557 ,  7.37699126,\n",
       "        8.70746806,  7.92842986,  7.6642025 ,  8.11048704,  7.35051019,\n",
       "        8.44570897,  7.92085854,  8.49705831,  8.28130425,  8.33966426,\n",
       "        8.59534758,  8.89269363,  9.04322951,  8.1798533 ,  7.24568837,\n",
       "        7.18748913,  7.12039325,  7.58814865,  8.47702778,  7.78845299,\n",
       "        8.38868285,  8.87918915,  8.12588457,  7.67202711,  7.36138574,\n",
       "        7.60328876,  8.32646384,  7.60526134,  6.49461315,  7.61445993,\n",
       "        7.78267306,  7.76079893,  8.18718511,  6.5169011 ,  7.67007171,\n",
       "        9.63483264,  8.39940474,  9.93126377,  9.09395404,  9.47259204,\n",
       "       10.71120908,  7.30753036, 10.22888068,  9.38189746, 10.40480658,\n",
       "        9.08295106,  8.94147639,  9.48156105,  8.23043134,  8.55862138,\n",
       "        9.19673855,  9.20543318, 11.11125555, 10.90642013,  8.2516665 ,\n",
       "        9.77905926,  8.19817053, 10.77125805,  8.61568337,  9.62704524,\n",
       "       10.06578363,  8.51821578,  8.57088093,  9.19619487,  9.85088828,\n",
       "       10.16956243, 11.03675677,  9.21954446,  8.70574523,  8.79147314,\n",
       "       10.52568288,  9.4005319 ,  9.16842407,  8.44274837,  9.52837867,\n",
       "        9.57183368,  9.40850679,  8.39940474,  9.8275124 ,  9.72213968,\n",
       "        9.28547252,  8.63423419,  9.07138358,  9.18966811,  8.54751426])"
      ]
     },
     "execution_count": 5,
     "metadata": {},
     "output_type": "execute_result"
    }
   ],
   "source": [
    "iris_standardized = pd.DataFrame(data = iris['data'], columns = iris['feature_names'])\n",
    "np.linalg.norm(iris_standardized, axis = 1)"
   ]
  },
  {
   "cell_type": "code",
   "execution_count": 6,
   "id": "3971e07f",
   "metadata": {},
   "outputs": [],
   "source": [
    "??isometry_loss\n",
    "power = .33\n",
    "isometry_loss_power = lambda x : isometry_loss(x, power)"
   ]
  },
  {
   "cell_type": "code",
   "execution_count": 8,
   "id": "2074707a",
   "metadata": {},
   "outputs": [
    {
     "name": "stdout",
     "output_type": "stream",
     "text": [
      "Computing brute force solution for dictionary dimension 6 and target_dimension 4\n"
     ]
    },
    {
     "name": "stderr",
     "output_type": "stream",
     "text": [
      "15it [00:00, 19007.42it/s]\n"
     ]
    }
   ],
   "source": [
    "losses = []\n",
    "nbp = []\n",
    "two_stage_losses = []\n",
    "random_two_stage_losses= []\n",
    "D_iris =4\n",
    "for i in range(1):\n",
    "    X = iris_standardized.sample(frac = .5).to_numpy().transpose()\n",
    "#     X = iris_standardized.sample(axis = 1, frac = .5).to_numpy()\n",
    "# TODO (Sam): enable c in greedy / isometry_loss\n",
    "    output = greedy(X, isometry_loss_power, D_iris, []) # plainly brute is too hard 178**13 combinations\n",
    "    loss = isometry_loss_power(X[:,output])\n",
    "    losses.append(loss)\n",
    "    data_transformed = exponential_transformation(X, power = power)\n",
    "    beta = group_basis_pursuit(data_transformed)\n",
    "    basis_pursuit_indices = np.where(np.linalg.norm(beta, axis = 1))[0]\n",
    "    nbp.append(len(basis_pursuit_indices))\n",
    "    #     two_stage_output = basis_pursuit_indices[np.asarray(greedy(X[:,basis_pursuit_indices], isometry_loss, D_wine, []))] # plainly this is too hard 178**13 combinations\n",
    "    two_stage_output = basis_pursuit_indices[np.asarray(brute(X[:,basis_pursuit_indices], isometry_loss_power, D_iris))] # plainly this is too hard 178**13 combinations\n",
    "    two_stage_loss = isometry_loss_power(X[:,two_stage_output])\n",
    "    two_stage_losses.append(two_stage_loss)\n",
    "    random_indices = np.random.choice(range(X.shape[1]), len(basis_pursuit_indices), replace=False)\n",
    "    random_two_stage_losses.append(isometry_loss_power(X[:,random_indices]))"
   ]
  },
  {
   "cell_type": "code",
   "execution_count": 9,
   "id": "6a050372",
   "metadata": {},
   "outputs": [
    {
     "data": {
      "image/png": "[encoded data removed]",
      "text/plain": [
       "<Figure size 640x480 with 1 Axes>"
      ]
     },
     "metadata": {},
     "output_type": "display_data"
    }
   ],
   "source": [
    "import matplotlib.pyplot as plt\n",
    "\n",
    "data = [losses, two_stage_losses]\n",
    "plt.boxplot(data)\n",
    "plt.xticks([1, 2], [r'$\\widehat S_{g}$', r'$\\widehat S_{IP,TS}$'], fontsize=30)\n",
    "plt.title('Side-by-Side Boxplot')\n",
    "plt.ylabel('Values')\n",
    "plt.ylabel(r'$l_1(X_{.\\widehat {S}})$', fontsize = 30)\n",
    "plt.savefig('/Users/samsonkoelle/convexlocalisometry/figures/Figure2b')"
   ]
  },
  {
   "cell_type": "code",
   "execution_count": 10,
   "id": "c8ac8731",
   "metadata": {},
   "outputs": [
    {
     "data": {
      "image/png": "[encoded data removed]",
      "text/plain": [
       "<Figure size 640x480 with 1 Axes>"
      ]
     },
     "metadata": {},
     "output_type": "display_data"
    }
   ],
   "source": [
    "import matplotlib.pyplot as plt\n",
    "\n",
    "data = [losses, two_stage_losses]\n",
    "plt.boxplot(data)\n",
    "plt.xticks([1, 2], [r'$\\widehat S_{g}$', r'$\\widehat S_{IP,TS}$'], fontsize=30)\n",
    "plt.title('Side-by-Side Boxplot')\n",
    "plt.ylabel('Values')\n",
    "plt.ylabel(r'$l_1(X_{.\\widehat {S}})$', fontsize = 30)\n",
    "plt.savefig('/Users/samsonkoelle/convexlocalisometry/figures/Figure2b')"
   ]
  },
  {
   "cell_type": "code",
   "execution_count": 11,
   "id": "da333264",
   "metadata": {},
   "outputs": [
    {
     "data": {
      "image/png": "[encoded data removed]",
      "text/plain": [
       "<Figure size 640x480 with 1 Axes>"
      ]
     },
     "metadata": {},
     "output_type": "display_data"
    }
   ],
   "source": [
    "import matplotlib.pyplot as plt\n",
    "\n",
    "data = [losses, two_stage_losses]\n",
    "plt.boxplot(data)\n",
    "plt.xticks([1, 2], [r'$\\widehat S_{g}$', r'$\\widehat S_{IP,TS}$'], fontsize=30)\n",
    "plt.title('Side-by-Side Boxplot')\n",
    "plt.ylabel('Values')\n",
    "plt.ylabel(r'$l_1(X_{.\\widehat {S}})$', fontsize = 30)\n",
    "plt.savefig('/Users/samsonkoelle/convexlocalisometry/figures/Figure2b')"
   ]
  },
  {
   "cell_type": "code",
   "execution_count": 21,
   "id": "caf6b1be",
   "metadata": {},
   "outputs": [
    {
     "name": "stdout",
     "output_type": "stream",
     "text": [
      "Computing brute force solution for dictionary dimension 13 and target_dimension 6\n"
     ]
    },
    {
     "name": "stderr",
     "output_type": "stream",
     "text": [
      "1716it [00:00, 26752.65it/s]\n"
     ]
    }
   ],
   "source": [
    "losses = []\n",
    "two_stage_losses = []\n",
    "nbp = []\n",
    "random_two_stage_losses= []\n",
    "dimension = 6\n",
    "for i in range(1):\n",
    "    X = wine_standardized.sample(frac = .5).to_numpy().transpose()[:dimension,:]\n",
    "    output = greedy(X, isometry_loss, dimension, []) # plainly brute is too hard 178**13 combinations\n",
    "#     output = brute(X, isometry_loss, dimension)\n",
    "    loss = isometry_loss(X[:,output])\n",
    "    losses.append(loss)\n",
    "    data_transformed = exponential_transformation(X)\n",
    "    beta = group_basis_pursuit(data_transformed)\n",
    "    basis_pursuit_indices = np.where(np.linalg.norm(beta, axis = 1))[0]\n",
    "    nbp.append(len(basis_pursuit_indices))\n",
    "\n",
    "    two_stage_output = basis_pursuit_indices[np.asarray(brute(X[:,basis_pursuit_indices], isometry_loss, dimension))] # plainly this is too hard 178**13 combinations\n",
    "    two_stage_loss = isometry_loss(X[:,two_stage_output])\n",
    "    two_stage_losses.append(two_stage_loss)\n",
    "    random_indices = np.random.choice(range(X.shape[1]), len(basis_pursuit_indices), replace=False)\n",
    "    random_two_stage_losses.append(isometry_loss(X[:,random_indices]))"
   ]
  },
  {
   "cell_type": "code",
   "execution_count": 23,
   "id": "fb34dedb",
   "metadata": {},
   "outputs": [
    {
     "data": {
      "text/plain": [
       "(6, 89)"
      ]
     },
     "execution_count": 23,
     "metadata": {},
     "output_type": "execute_result"
    }
   ],
   "source": [
    "data_transformed.shape"
   ]
  },
  {
   "cell_type": "code",
   "execution_count": null,
   "id": "e371bb3a",
   "metadata": {},
   "outputs": [],
   "source": []
  },
  {
   "cell_type": "code",
   "execution_count": 20,
   "id": "c0b4248c",
   "metadata": {},
   "outputs": [
    {
     "data": {
      "text/plain": [
       "array([ 4, 15, 22, 25, 33, 36, 40, 43, 46, 48, 51, 52, 60, 73, 76, 78])"
      ]
     },
     "execution_count": 20,
     "metadata": {},
     "output_type": "execute_result"
    }
   ],
   "source": [
    "basis_pursuit_indices"
   ]
  },
  {
   "cell_type": "code",
   "execution_count": null,
   "id": "c7a53b2d",
   "metadata": {},
   "outputs": [],
   "source": []
  },
  {
   "cell_type": "code",
   "execution_count": 15,
   "id": "879a7222",
   "metadata": {},
   "outputs": [
    {
     "data": {
      "text/plain": [
       "array([ 0, 11, 25, 36, 37, 41, 46, 48, 57, 60, 61, 79, 80, 83, 84, 86])"
      ]
     },
     "execution_count": 15,
     "metadata": {},
     "output_type": "execute_result"
    }
   ],
   "source": [
    "basis_pursuit_indices"
   ]
  },
  {
   "cell_type": "code",
   "execution_count": 16,
   "id": "c46a31ac",
   "metadata": {},
   "outputs": [
    {
     "data": {
      "text/plain": [
       "16777216"
      ]
     },
     "execution_count": 16,
     "metadata": {},
     "output_type": "execute_result"
    }
   ],
   "source": [
    "16**6"
   ]
  },
  {
   "cell_type": "code",
   "execution_count": 13,
   "id": "00ca1e28",
   "metadata": {},
   "outputs": [
    {
     "data": {
      "text/plain": [
       "(6, 89)"
      ]
     },
     "execution_count": 13,
     "metadata": {},
     "output_type": "execute_result"
    }
   ],
   "source": [
    "X.shape"
   ]
  },
  {
   "cell_type": "code",
   "execution_count": 109,
   "id": "0ea778c8",
   "metadata": {},
   "outputs": [
    {
     "data": {
      "image/png": "[encoded data removed]",
      "text/plain": [
       "<Figure size 640x480 with 1 Axes>"
      ]
     },
     "metadata": {},
     "output_type": "display_data"
    }
   ],
   "source": [
    "import matplotlib.pyplot as plt\n",
    "\n",
    "data = [losses, two_stage_losses]\n",
    "plt.boxplot(data)\n",
    "plt.xticks([1, 2], [r'$\\widehat S_{g}$', r'$\\widehat S_{IP,TS}$'], fontsize=30)\n",
    "plt.title('Side-by-Side Boxplot')\n",
    "plt.ylabel('Values')\n",
    "plt.ylabel(r'$l_1(X_{.\\widehat {S}})$', fontsize = 30)\n",
    "plt.savefig('/Users/samsonkoelle/convexlocalisometry/figures/Figure2b')"
   ]
  },
  {
   "cell_type": "code",
   "execution_count": 8,
   "id": "bf587e7f",
   "metadata": {},
   "outputs": [
    {
     "name": "stdout",
     "output_type": "stream",
     "text": [
      "5.734369034010522\n",
      "0.18991729870508334\n",
      "5.618834928412273\n",
      "0.12878299514658612\n",
      "11.48\n",
      "1.389100428334827\n"
     ]
    }
   ],
   "source": [
    "print(np.mean(losses))\n",
    "print(np.std(losses))  # Standard deviation\n",
    "print(np.mean(two_stage_losses))\n",
    "print(np.std(two_stage_losses))  # Standard deviation\n",
    "print(np.mean(nbp))\n",
    "print(np.std(nbp))  # Standard deviation"
   ]
  },
  {
   "cell_type": "code",
   "execution_count": 128,
   "id": "85091584",
   "metadata": {},
   "outputs": [],
   "source": [
    "def greedy(matrix, loss, target_dimension=None, selected_indices=[]):\n",
    "    \"\"\"Matrix is d \\times p dimensional\"\"\"\n",
    "    if target_dimension is None:\n",
    "        target_dimension, dictionary_dimension = (\n",
    "            matrix.shape\n",
    "        )  # NOTE (Sam): this won't hold necessarily for regression in ambient space instead of tangent space.\n",
    "    else:\n",
    "        dictionary_dimension = matrix.shape[1]\n",
    "\n",
    "    while len(selected_indices) < target_dimension:\n",
    "        # if target_dimension > 0:\n",
    "        candidate_losses = np.repeat(np.nan, dictionary_dimension)\n",
    "        dictionary_indices = list(range(dictionary_dimension))\n",
    "        random.shuffle(dictionary_indices)\n",
    "        print(dictionary_indices)\n",
    "        for p in dictionary_indices:\n",
    "            if p not in selected_indices:\n",
    "                candidate_parametrization = np.concatenate(\n",
    "                    [selected_indices, [p]]\n",
    "                ).astype(int)\n",
    "                candidate_losses[p] = loss(matrix[:, candidate_parametrization])\n",
    "        most_isometric_index = np.nanargmin(candidate_losses)\n",
    "        selected_indices.append(most_isometric_index)\n",
    "        selected_indices = greedy(\n",
    "            matrix, loss, target_dimension, selected_indices=selected_indices\n",
    "        )\n",
    "\n",
    "    return selected_indices"
   ]
  },
  {
   "cell_type": "code",
   "execution_count": 136,
   "id": "04d05fe6",
   "metadata": {},
   "outputs": [
    {
     "name": "stdout",
     "output_type": "stream",
     "text": [
      "[63, 28, 27, 25, 11, 37, 66, 59, 29, 72, 62, 71, 84, 53, 78, 67, 32, 10, 36, 44, 20, 22, 70, 13, 9, 8, 55, 69, 6, 31, 43, 3, 73, 15, 85, 0, 41, 45, 52, 5, 23, 57, 40, 76, 81, 12, 18, 61, 26, 54, 7, 4, 56, 2, 1, 58, 24, 16, 50, 87, 86, 88, 49, 38, 33, 75, 74, 34, 47, 35, 39, 82, 64, 68, 30, 21, 46, 14, 79, 42, 60, 77, 48, 65, 17, 80, 19, 83, 51]\n",
      "[37, 32, 20, 22, 29, 40, 0, 82, 55, 70, 63, 11, 30, 52, 13, 2, 66, 69, 1, 64, 10, 43, 59, 81, 49, 27, 61, 62, 78, 26, 60, 35, 33, 45, 56, 47, 28, 54, 36, 77, 83, 67, 44, 73, 15, 72, 75, 53, 68, 51, 21, 12, 65, 76, 24, 34, 3, 87, 16, 80, 31, 46, 18, 86, 57, 38, 79, 41, 9, 84, 25, 14, 50, 74, 17, 4, 85, 23, 58, 6, 5, 8, 71, 88, 42, 19, 39, 7, 48]\n",
      "[27, 44, 64, 32, 35, 87, 81, 17, 24, 39, 48, 11, 55, 23, 0, 80, 34, 75, 1, 40, 45, 4, 60, 56, 78, 22, 43, 28, 33, 41, 18, 88, 82, 30, 46, 29, 74, 69, 58, 21, 36, 2, 65, 10, 51, 25, 63, 70, 9, 49, 38, 13, 86, 85, 42, 84, 83, 3, 7, 8, 16, 71, 67, 76, 73, 66, 57, 54, 15, 31, 79, 37, 50, 72, 61, 19, 77, 26, 12, 68, 20, 52, 53, 62, 5, 59, 47, 6, 14]\n",
      "[67, 55, 30, 8, 0, 21, 85, 26, 23, 29, 19, 25, 43, 75, 82, 80, 78, 9, 39, 7, 58, 79, 11, 66, 70, 17, 16, 88, 71, 40, 86, 3, 63, 69, 13, 77, 65, 49, 51, 12, 20, 37, 33, 1, 48, 31, 47, 59, 87, 32, 44, 42, 84, 5, 68, 28, 81, 46, 14, 15, 64, 36, 50, 24, 38, 57, 72, 22, 45, 76, 83, 52, 61, 41, 62, 10, 2, 34, 73, 18, 53, 74, 4, 60, 56, 6, 54, 27, 35]\n",
      "[9, 14, 26, 76, 60, 85, 53, 33, 31, 39, 48, 88, 20, 59, 29, 47, 42, 16, 56, 8, 38, 46, 19, 34, 67, 28, 75, 43, 69, 57, 11, 44, 21, 80, 17, 4, 36, 15, 45, 65, 18, 30, 23, 61, 3, 72, 77, 40, 5, 52, 35, 74, 68, 6, 70, 22, 2, 83, 64, 87, 73, 24, 58, 12, 71, 78, 0, 62, 49, 63, 37, 54, 50, 55, 86, 13, 32, 27, 41, 1, 84, 51, 79, 82, 25, 7, 81, 10, 66]\n",
      "[60, 10, 76, 65, 81, 46, 12, 11, 24, 33, 38, 75, 64, 51, 43, 37, 42, 29, 56, 4, 34, 32, 3, 68, 54, 9, 61, 70, 78, 13, 53, 21, 55, 17, 80, 74, 20, 57, 63, 5, 0, 47, 88, 77, 22, 39, 84, 49, 52, 6, 25, 82, 23, 71, 59, 35, 1, 79, 73, 18, 30, 85, 26, 86, 16, 28, 67, 72, 7, 36, 48, 66, 41, 87, 50, 31, 2, 15, 40, 19, 8, 62, 14, 45, 27, 44, 58, 69, 83]\n",
      "[32, 75, 80, 67, 54, 60]\n",
      "[79, 82, 41, 3, 50, 73, 52, 7, 6, 75, 77, 2, 65, 16, 19, 29, 53, 61, 70, 37, 76, 58, 18, 28, 47, 0, 20, 46, 31, 84, 23, 62, 85, 43, 4, 68, 55, 36, 14, 81, 45, 17, 66, 15, 25, 11, 54, 80, 24, 51, 33, 34, 38, 72, 74, 88, 69, 56, 40, 9, 21, 44, 78, 30, 60, 10, 83, 87, 22, 49, 13, 5, 8, 26, 39, 12, 35, 64, 86, 32, 27, 1, 57, 63, 71, 59, 67, 42, 48]\n",
      "[48, 45, 29, 8, 66, 75, 4, 32, 55, 25, 50, 72, 0, 13, 1, 47, 21, 3, 56, 9, 37, 39, 54, 41, 22, 63, 30, 14, 42, 40, 2, 19, 59, 83, 18, 70, 15, 81, 12, 87, 74, 65, 23, 64, 61, 11, 82, 24, 46, 34, 78, 53, 69, 26, 27, 80, 35, 17, 79, 85, 16, 36, 58, 33, 44, 68, 67, 38, 76, 31, 7, 28, 49, 60, 5, 20, 6, 51, 71, 73, 86, 77, 57, 52, 43, 84, 88, 10, 62]\n",
      "[42, 32, 36, 29, 79, 69, 4, 51, 85, 24, 84, 10, 33, 20, 72, 2, 66, 43, 5, 19, 80, 54, 21, 57, 74, 44, 40, 41, 81, 56, 62, 26, 1, 58, 82, 86, 22, 25, 73, 17, 39, 9, 70, 88, 64, 0, 71, 18, 65, 67, 47, 59, 77, 87, 35, 53, 7, 60, 11, 27, 78, 34, 12, 15, 48, 61, 6, 28, 30, 8, 23, 38, 76, 63, 45, 37, 14, 46, 31, 75, 13, 49, 52, 50, 83, 16, 68, 3, 55]\n",
      "[78, 25, 46, 6, 64, 72, 27, 69, 19, 60, 39, 48, 67, 66, 76, 55, 58, 35, 85, 33, 43, 20, 47, 40, 18, 65, 70, 1, 62, 88, 63, 52, 79, 10, 2, 77, 34, 45, 21, 9, 7, 59, 16, 42, 68, 17, 31, 71, 56, 11, 50, 15, 86, 22, 4, 41, 30, 73, 74, 54, 61, 75, 53, 28, 36, 13, 81, 3, 82, 83, 0, 32, 84, 49, 87, 8, 23, 24, 37, 26, 38, 80, 5, 57, 29, 51, 12, 14, 44]\n",
      "[71, 70, 19, 22, 49, 33, 5, 10, 25, 1, 23, 29, 14, 56, 83, 7, 78, 85, 77, 26, 28, 20, 64, 67, 60, 57, 82, 12, 31, 43, 68, 21, 87, 37, 45, 44, 8, 42, 88, 55, 79, 24, 80, 62, 0, 18, 9, 38, 16, 46, 59, 27, 69, 13, 36, 11, 47, 72, 66, 32, 54, 15, 65, 40, 41, 35, 17, 6, 34, 50, 39, 3, 84, 86, 76, 81, 73, 2, 58, 75, 61, 30, 48, 63, 53, 52, 4, 51, 74]\n",
      "[70, 20, 75, 5, 63, 12, 11, 54, 10, 0, 62, 48, 15, 53, 43, 30, 2, 77, 42, 7, 40, 36, 22, 32, 29, 14, 24, 68, 60, 78, 26, 17, 38, 37, 85, 1, 76, 66, 72, 51, 59, 52, 34, 50, 33, 65, 18, 55, 25, 28, 27, 69, 39, 13, 88, 61, 71, 19, 9, 67, 3, 45, 44, 79, 64, 82, 21, 84, 86, 83, 47, 58, 16, 41, 31, 80, 46, 73, 35, 81, 57, 23, 8, 74, 49, 56, 6, 87, 4]\n",
      "[32, 75, 80, 67, 54, 60]\n",
      "[81, 78, 27, 19, 69, 45, 5, 77, 35, 62, 80, 48, 85, 8, 70, 24, 44, 76, 17, 21, 75, 25, 36, 74, 32, 31, 87, 57, 15, 6, 12, 61, 30, 53, 54, 52, 2, 29, 18, 84, 28, 55, 79, 22, 46, 68, 47, 63, 16, 72, 64, 58, 7, 49, 50, 34, 40, 67, 86, 11, 83, 3, 13, 82, 1, 73, 88, 9, 65, 23, 66, 4, 38, 51, 14, 56, 10, 37, 33, 41, 71, 60, 26, 20, 0, 39, 42, 43, 59]\n",
      "[44, 45, 3, 49, 56, 23, 5, 69, 57, 32, 43, 68, 66, 51, 35, 38, 81, 52, 22, 40, 20, 18, 46, 2, 48, 58, 59, 27, 39, 17, 80, 36, 30, 76, 72, 53, 37, 79, 77, 26, 64, 13, 4, 10, 7, 6, 61, 60, 83, 14, 71, 65, 67, 86, 0, 9, 74, 84, 70, 15, 11, 12, 50, 31, 88, 25, 19, 75, 85, 41, 55, 78, 28, 63, 21, 16, 47, 54, 8, 34, 73, 42, 1, 82, 62, 29, 24, 33, 87]\n",
      "[42, 45, 16, 52, 7, 8, 12, 22, 55, 32, 18, 87, 85, 27, 75, 36, 33, 68, 39, 2, 65, 9, 66, 80, 1, 40, 50, 3, 19, 47, 59, 14, 35, 62, 82, 28, 54, 21, 73, 46, 5, 76, 49, 88, 56, 64, 74, 20, 11, 67, 48, 58, 43, 41, 17, 63, 61, 60, 72, 83, 34, 51, 70, 44, 77, 26, 10, 37, 57, 84, 15, 78, 79, 69, 23, 0, 30, 86, 4, 13, 25, 81, 53, 29, 71, 31, 24, 6, 38]\n",
      "[25, 56, 69, 63, 26, 21, 50, 41, 23, 78, 83, 40, 30, 20, 74, 55, 61, 79, 2, 1, 38, 28, 48, 49, 88, 4, 44, 72, 46, 27, 15, 33, 0, 77, 24, 9, 57, 73, 60, 85, 6, 66, 32, 80, 12, 54, 53, 34, 75, 42, 13, 62, 17, 68, 71, 51, 43, 19, 39, 14, 29, 10, 18, 82, 52, 31, 87, 11, 65, 76, 86, 36, 67, 37, 84, 64, 45, 16, 22, 81, 47, 59, 7, 5, 70, 3, 35, 58, 8]\n",
      "[29, 39, 24, 3, 77, 87, 84, 85, 8, 60, 13, 33, 63, 20, 61, 78, 66, 43, 62, 42, 44, 64, 47, 6, 28, 76, 75, 40, 11, 38, 88, 86, 4, 7, 57, 23, 14, 32, 79, 56, 10, 82, 72, 25, 16, 22, 71, 81, 55, 2, 9, 54, 69, 12, 5, 1, 36, 35, 37, 50, 59, 17, 30, 15, 53, 27, 34, 52, 41, 49, 65, 74, 83, 80, 31, 19, 73, 46, 51, 68, 18, 21, 0, 58, 48, 70, 26, 67, 45]\n",
      "[51, 4, 60, 23, 41, 12, 20, 44, 59, 18, 17, 80, 10, 29, 30, 0, 50, 64, 58, 75, 11, 42, 31, 72, 56, 43, 66, 81, 69, 2, 48, 9, 82, 36, 49, 3, 38, 83, 78, 32, 21, 65, 61, 53, 22, 34, 55, 62, 25, 77, 73, 14, 5, 24, 7, 88, 26, 13, 71, 28, 37, 57, 33, 8, 45, 6, 39, 74, 85, 86, 87, 27, 16, 79, 52, 54, 19, 70, 47, 46, 67, 35, 15, 40, 76, 84, 1, 63, 68]\n",
      "[32, 75, 80, 67, 54, 60]\n",
      "[23, 9, 14, 84, 67, 62, 65, 72, 37, 85, 13, 83, 24, 71, 10, 57, 33, 47, 41, 58, 30, 34, 25, 70, 66, 77, 50, 73, 51, 44, 1, 11, 0, 54, 3, 20, 63, 35, 75, 36, 46, 12, 59, 22, 88, 19, 80, 82, 8, 60, 31, 79, 76, 2, 29, 7, 38, 43, 69, 56, 48, 21, 17, 61, 5, 27, 4, 86, 49, 64, 42, 74, 18, 45, 16, 55, 52, 81, 78, 68, 40, 26, 15, 28, 39, 6, 32, 87, 53]\n",
      "[34, 58, 70, 38, 82, 19, 28, 54, 61, 78, 14, 46, 29, 86, 73, 65, 9, 77, 24, 53, 16, 44, 20, 6, 45, 74, 39, 60, 10, 66, 8, 80, 57, 64, 84, 26, 41, 30, 4, 27, 81, 47, 36, 7, 2, 23, 85, 52, 87, 18, 79, 83, 75, 68, 51, 76, 13, 3, 50, 56, 31, 40, 21, 1, 5, 69, 11, 67, 33, 62, 42, 32, 12, 25, 63, 49, 22, 88, 15, 48, 59, 17, 72, 43, 0, 35, 37, 55, 71]\n",
      "[67, 55, 47, 80, 25, 12, 60, 42, 63, 61, 84, 81, 9, 52, 17, 28, 76, 26, 20, 5, 71, 78, 72, 15, 53, 65, 22, 75, 48, 46, 77, 68, 11, 24, 3, 27, 51, 59, 85, 18, 0, 29, 56, 37, 87, 21, 57, 50, 32, 38, 23, 69, 58, 19, 33, 66, 34, 30, 83, 44, 4, 43, 35, 49, 54, 13, 39, 8, 10, 16, 62, 79, 88, 36, 14, 40, 2, 45, 86, 7, 41, 64, 74, 73, 31, 1, 70, 6, 82]\n",
      "[69, 20, 43, 11, 62, 60, 15, 36, 31, 80, 78, 82, 27, 67, 17, 25, 88, 30, 54, 44, 72, 4, 2, 73, 13, 59, 18, 79, 19, 39, 83, 34, 55, 6, 41, 71, 26, 68, 22, 47, 12, 51, 81, 84, 40, 70, 48, 3, 46, 58, 33, 85, 52, 32, 0, 21, 14, 75, 61, 24, 87, 53, 65, 29, 77, 16, 50, 38, 64, 56, 9, 10, 7, 23, 74, 66, 63, 1, 37, 86, 57, 8, 28, 5, 42, 76, 45, 49, 35]\n",
      "[14, 43, 40, 74, 48, 7, 53, 37, 75, 47, 46, 25, 65, 77, 57, 12, 72, 56, 88, 58, 20, 79, 8, 21, 62, 3, 78, 81, 28, 9, 35, 5, 24, 22, 86, 41, 13, 0, 32, 61, 16, 85, 30, 64, 2, 44, 15, 39, 31, 11, 51, 68, 67, 10, 4, 63, 27, 45, 42, 76, 84, 83, 1, 54, 71, 36, 38, 49, 82, 80, 6, 66, 29, 55, 18, 52, 26, 19, 33, 70, 59, 50, 60, 34, 73, 87, 17, 23, 69]\n",
      "[38, 57, 4, 70, 13, 71, 64, 45, 77, 68, 59, 49, 58, 6, 8, 86, 50, 85, 84, 37, 53, 18, 25, 44, 33, 80, 32, 40, 75, 9, 28, 67, 63, 30, 78, 12, 52, 27, 55, 10, 22, 19, 39, 17, 72, 74, 54, 62, 46, 29, 11, 61, 14, 34, 48, 87, 3, 51, 79, 0, 47, 31, 83, 36, 81, 24, 76, 1, 7, 2, 82, 73, 15, 69, 26, 35, 65, 23, 43, 41, 66, 88, 42, 21, 16, 56, 60, 20, 5]\n",
      "[32, 75, 80, 67, 54, 60]\n",
      "[40, 65, 21, 15, 49, 26, 16, 29, 54, 11, 33, 84, 77, 39, 46, 57, 52, 51, 85, 74, 34, 0, 72, 53, 47, 67, 1, 81, 79, 28, 88, 87, 22, 42, 41, 55, 75, 12, 27, 25, 31, 10, 3, 36, 19, 86, 61, 69, 7, 66, 5, 44, 2, 4, 68, 23, 37, 9, 8, 73, 56, 13, 83, 38, 80, 32, 64, 6, 48, 24, 59, 60, 58, 17, 30, 71, 20, 70, 35, 62, 63, 14, 45, 50, 18, 76, 78, 43, 82]\n",
      "[17, 77, 74, 84, 44, 72, 80, 29, 78, 57, 61, 87, 53, 23, 14, 21, 65, 22, 75, 63, 73, 71, 26, 50, 52, 6, 69, 7, 2, 16, 42, 68, 70, 13, 31, 66, 45, 10, 81, 79, 34, 11, 3, 24, 86, 55, 47, 58, 56, 5, 76, 35, 19, 67, 51, 25, 15, 1, 32, 36, 48, 39, 27, 9, 30, 83, 38, 82, 43, 62, 85, 12, 8, 88, 60, 41, 18, 40, 33, 46, 59, 49, 20, 4, 54, 64, 0, 28, 37]\n",
      "[64, 51, 34, 6, 20, 40, 24, 33, 67, 38, 7, 55, 81, 50, 23, 8, 66, 85, 37, 83, 84, 61, 74, 68, 30, 65, 88, 82, 29, 1, 11, 9, 54, 72, 46, 56, 13, 60, 31, 49, 86, 73, 62, 69, 53, 80, 22, 48, 71, 78, 58, 39, 14, 45, 77, 10, 52, 17, 28, 44, 12, 5, 57, 42, 25, 47, 70, 43, 87, 41, 36, 35, 63, 59, 75, 4, 3, 2, 19, 15, 79, 18, 26, 16, 21, 76, 27, 0, 32]\n",
      "[74, 39, 10, 40, 4, 32, 79, 3, 12, 62, 50, 27, 14, 29, 18, 80, 9, 85, 35, 77, 57, 8, 64, 46, 81, 75, 5, 42, 44, 22, 56, 47, 55, 28, 69, 68, 65, 51, 66, 23, 61, 34, 38, 31, 82, 72, 71, 63, 30, 60, 52, 19, 88, 1, 15, 25, 73, 83, 54, 76, 21, 87, 7, 53, 41, 26, 33, 20, 2, 48, 16, 84, 36, 58, 11, 59, 43, 67, 45, 49, 6, 24, 17, 78, 70, 0, 86, 13, 37]\n",
      "[53, 35, 19, 38, 29, 51, 67, 14, 10, 49, 31, 28, 11, 25, 50, 33, 47, 9, 64, 56, 24, 39, 72, 43, 60, 73, 48, 77, 44, 61, 13, 57, 54, 8, 59, 23, 58, 69, 82, 52, 0, 40, 34, 2, 55, 68, 17, 4, 79, 88, 63, 78, 86, 6, 12, 84, 41, 32, 20, 21, 65, 18, 85, 45, 22, 46, 7, 80, 30, 70, 27, 76, 62, 42, 74, 87, 36, 71, 66, 81, 26, 37, 15, 83, 1, 5, 16, 75, 3]\n",
      "[4, 54, 22, 67, 40, 52, 11, 31, 7, 50, 37, 88, 63, 43, 24, 82, 30, 20, 68, 77, 15, 35, 49, 19, 32, 27, 51, 33, 66, 85, 76, 47, 61, 55, 44, 2, 74, 62, 36, 38, 56, 39, 64, 16, 9, 75, 73, 83, 6, 59, 18, 28, 8, 46, 17, 84, 69, 87, 78, 79, 57, 13, 25, 1, 45, 34, 26, 21, 48, 72, 71, 23, 10, 12, 14, 86, 65, 53, 58, 80, 3, 42, 60, 5, 41, 29, 0, 70, 81]\n",
      "[32, 75, 80, 67, 54, 60]\n",
      "[33, 60, 61, 86, 88, 47, 43, 35, 19, 11, 84, 59, 10, 82, 78, 42, 15, 66, 85, 81, 70, 65, 80, 24, 77, 13, 17, 36, 50, 58, 68, 9, 23, 18, 2, 1, 21, 56, 8, 32, 46, 3, 0, 57, 75, 55, 16, 51, 87, 6, 69, 20, 49, 37, 62, 12, 53, 45, 30, 63, 29, 38, 40, 54, 48, 22, 5, 27, 39, 76, 4, 72, 7, 73, 44, 25, 83, 79, 28, 41, 52, 26, 64, 71, 31, 34, 74, 67, 14]\n",
      "[58, 38, 37, 85, 34, 39, 35, 41, 6, 74, 4, 60, 24, 23, 20, 73, 76, 57, 12, 88, 48, 22, 0, 45, 50, 29, 54, 44, 55, 87, 8, 75, 33, 69, 61, 15, 31, 84, 3, 70, 2, 32, 5, 43, 51, 1, 25, 42, 79, 71, 56, 36, 77, 53, 14, 52, 46, 9, 65, 40, 64, 30, 68, 26, 49, 19, 80, 82, 63, 17, 59, 11, 13, 28, 10, 7, 67, 72, 62, 66, 83, 47, 81, 16, 27, 18, 86, 78, 21]\n",
      "[55, 73, 82, 74, 81, 29, 10, 70, 69, 43, 2, 28, 45, 60, 32, 56, 46, 34, 71, 64, 44, 23, 5, 41, 8, 80, 58, 77, 9, 59, 52, 79, 11, 3, 57, 85, 35, 54, 67, 66, 62, 1, 30, 72, 25, 13, 40, 15, 65, 12, 21, 78, 88, 53, 4, 76, 20, 26, 86, 36, 61, 24, 75, 49, 48, 87, 19, 47, 7, 6, 68, 83, 50, 39, 37, 0, 27, 16, 18, 33, 42, 17, 31, 14, 51, 38, 84, 22, 63]\n",
      "[83, 38, 57, 76, 4, 79, 31, 8, 85, 82, 37, 59, 67, 35, 53, 48, 54, 29, 30, 0, 14, 51, 77, 10, 36, 60, 56, 21, 2, 26, 23, 32, 84, 61, 7, 39, 13, 65, 63, 62, 49, 11, 64, 5, 68, 20, 71, 15, 43, 16, 55, 6, 87, 78, 44, 25, 80, 86, 3, 17, 46, 41, 70, 33, 72, 12, 75, 18, 50, 58, 69, 73, 81, 45, 27, 66, 47, 24, 28, 9, 42, 40, 74, 19, 34, 1, 22, 52, 88]\n",
      "[69, 41, 60, 66, 45, 31, 18, 0, 54, 83, 16, 22, 74, 77, 67, 12, 15, 25, 56, 11, 4, 6, 62, 48, 34, 7, 32, 21, 81, 61, 17, 1, 23, 27, 86, 53, 78, 29, 70, 9, 28, 50, 63, 64, 46, 8, 47, 79, 26, 3, 65, 59, 44, 5, 13, 58, 55, 42, 30, 49, 10, 51, 52, 33, 36, 76, 88, 20, 40, 14, 24, 72, 82, 38, 75, 35, 39, 80, 85, 43, 71, 37, 73, 57, 19, 84, 68, 2, 87]\n",
      "[27, 52, 31, 34, 0, 88, 53, 70, 77, 8, 55, 65, 36, 86, 75, 63, 58, 19, 33, 51, 37, 60, 9, 7, 20, 12, 76, 50, 61, 64, 39, 24, 73, 35, 84, 47, 3, 17, 40, 85, 6, 29, 69, 5, 26, 57, 30, 66, 67, 2, 22, 80, 46, 14, 4, 79, 44, 16, 38, 62, 11, 48, 82, 54, 10, 83, 23, 32, 28, 43, 74, 45, 72, 87, 15, 59, 71, 25, 49, 13, 1, 41, 78, 81, 18, 42, 21, 56, 68]\n",
      "[32, 75, 80, 67, 54, 60]\n",
      "[53, 20, 51, 25, 36, 75, 29, 58, 7, 23, 68, 61, 30, 13, 26, 17, 50, 79, 18, 15, 8, 64, 54, 45, 28, 71, 9, 46, 43, 83, 87, 16, 62, 24, 47, 73, 42, 0, 78, 12, 2, 67, 77, 52, 56, 88, 48, 49, 41, 70, 21, 31, 4, 14, 38, 69, 39, 85, 6, 66, 63, 44, 37, 10, 60, 33, 74, 11, 59, 27, 40, 32, 72, 80, 55, 22, 3, 5, 57, 35, 19, 81, 34, 82, 65, 1, 76, 84, 86]\n",
      "[54, 48, 13, 34, 25, 42, 87, 50, 73, 76, 63, 72, 77, 41, 0, 14, 88, 86, 20, 26, 74, 51, 52, 84, 5, 38, 78, 1, 45, 18, 61, 53, 39, 55, 75, 11, 44, 69, 65, 22, 12, 83, 8, 29, 37, 80, 46, 15, 3, 10, 7, 66, 24, 36, 64, 47, 19, 70, 49, 56, 4, 17, 62, 21, 32, 28, 57, 85, 30, 16, 33, 27, 35, 40, 43, 81, 71, 23, 67, 58, 60, 6, 9, 82, 59, 68, 31, 79, 2]\n",
      "[0, 24, 7, 75, 22, 17, 82, 32, 6, 76, 3, 80, 51, 69, 30, 40, 61, 44, 56, 8, 12, 26, 78, 57, 73, 19, 87, 86, 27, 53, 67, 5, 88, 68, 21, 36, 45, 50, 39, 25, 23, 72, 11, 1, 54, 71, 9, 49, 20, 70, 16, 41, 60, 37, 28, 2, 4, 34, 64, 62, 38, 55, 47, 42, 59, 46, 43, 35, 85, 48, 18, 74, 13, 58, 77, 63, 81, 52, 29, 33, 10, 84, 65, 66, 15, 31, 14, 83, 79]\n",
      "[3, 87, 85, 21, 77, 82, 13, 61, 58, 26, 74, 12, 17, 52, 47, 42, 78, 28, 38, 6, 14, 35, 49, 29, 76, 0, 2, 79, 57, 80, 81, 30, 16, 43, 63, 15, 65, 55, 31, 45, 72, 4, 62, 54, 9, 34, 44, 1, 40, 33, 70, 36, 86, 59, 8, 68, 24, 7, 64, 11, 50, 84, 51, 25, 5, 53, 18, 41, 19, 39, 67, 69, 23, 88, 46, 32, 48, 83, 20, 73, 75, 10, 56, 27, 22, 71, 60, 66, 37]\n",
      "[84, 7, 20, 86, 56, 34, 59, 44, 42, 81, 62, 85, 3, 8, 68, 69, 24, 55, 23, 31, 5, 28, 32, 63, 13, 16, 53, 82, 35, 72, 76, 41, 66, 38, 2, 64, 45, 25, 54, 74, 26, 47, 73, 40, 15, 58, 79, 65, 22, 87, 49, 14, 80, 43, 1, 75, 36, 33, 52, 46, 4, 21, 17, 30, 37, 67, 60, 61, 27, 77, 57, 29, 88, 39, 0, 18, 12, 6, 51, 19, 50, 78, 11, 9, 10, 70, 48, 71, 83]\n",
      "[19, 72, 11, 2, 28, 62, 4, 77, 64, 85, 57, 54, 37, 81, 39, 32, 53, 21, 58, 34, 66, 71, 13, 43, 27, 55, 69, 20, 49, 87, 84, 44, 60, 46, 5, 9, 82, 38, 3, 6, 12, 80, 17, 14, 30, 15, 18, 65, 79, 48, 88, 26, 75, 45, 24, 67, 61, 86, 70, 40, 68, 59, 42, 33, 1, 0, 31, 35, 22, 16, 83, 76, 74, 73, 50, 56, 25, 63, 7, 41, 23, 29, 78, 10, 8, 51, 52, 36, 47]\n",
      "[32, 75, 80, 67, 54, 60]\n",
      "[70, 43, 44, 1, 55, 75, 59, 50, 39, 10, 5, 45, 85, 42, 29, 38, 17, 86, 4, 20, 57, 71, 83, 49, 62, 26, 34, 77, 80, 48, 9, 51, 16, 84, 40, 31, 24, 82, 0, 7, 60, 30, 65, 72, 68, 54, 8, 66, 67, 21, 13, 81, 56, 61, 73, 28, 32, 12, 76, 14, 46, 41, 47, 74, 15, 52, 64, 3, 58, 53, 23, 18, 22, 36, 87, 19, 11, 88, 35, 37, 2, 79, 27, 25, 33, 78, 63, 69, 6]\n",
      "[67, 68, 37, 38, 23, 32, 2, 3, 76, 58, 70, 82, 81, 62, 66, 0, 80, 31, 11, 88, 42, 19, 54, 6, 45, 43, 86, 79, 33, 7, 25, 39, 65, 64, 10, 20, 40, 50, 24, 46, 14, 61, 73, 85, 41, 77, 17, 78, 12, 83, 21, 49, 71, 35, 8, 72, 15, 52, 29, 44, 53, 13, 47, 36, 63, 4, 75, 5, 30, 55, 27, 74, 57, 48, 22, 87, 34, 56, 1, 69, 51, 59, 26, 28, 60, 16, 84, 9, 18]\n",
      "[35, 50, 56, 82, 37, 78, 39, 70, 6, 33, 0, 16, 26, 36, 72, 30, 65, 64, 41, 22, 88, 40, 51, 31, 61, 58, 10, 12, 52, 71, 66, 45, 84, 3, 28, 27, 73, 15, 81, 76, 87, 49, 83, 53, 54, 75, 23, 32, 57, 29, 59, 55, 77, 21, 62, 25, 86, 67, 44, 18, 13, 4, 74, 42, 46, 19, 8, 47, 9, 43, 14, 48, 80, 85, 11, 2, 1, 60, 20, 7, 34, 38, 17, 69, 5, 63, 79, 24, 68]\n",
      "[72, 42, 45, 49, 68, 62, 21, 58, 8, 2, 78, 39, 43, 34, 18, 29, 70, 26, 80, 65, 36, 28, 50, 76, 1, 16, 56, 30, 4, 85, 59, 3, 57, 51, 41, 25, 66, 83, 61, 69, 13, 38, 44, 40, 67, 48, 46, 31, 11, 15, 71, 7, 23, 0, 27, 35, 22, 24, 37, 86, 64, 53, 6, 52, 14, 5, 82, 84, 32, 10, 75, 33, 55, 54, 19, 60, 12, 17, 9, 47, 81, 79, 73, 77, 20, 63, 87, 74, 88]\n",
      "[23, 67, 28, 6, 27, 61, 54, 11, 65, 57, 43, 55, 60, 47, 82, 25, 34, 56, 19, 31, 53, 45, 0, 7, 35, 39, 36, 13, 46, 37, 68, 1, 66, 42, 88, 32, 24, 79, 50, 44, 14, 78, 40, 16, 84, 10, 81, 87, 26, 69, 80, 51, 62, 8, 76, 30, 29, 15, 59, 18, 4, 41, 70, 33, 77, 86, 83, 63, 72, 5, 74, 9, 20, 73, 48, 22, 75, 85, 49, 64, 2, 21, 17, 71, 3, 58, 38, 12, 52]\n",
      "[32, 35, 33, 49, 52, 54, 12, 25, 39, 55, 15, 58, 68, 43, 63, 48, 16, 10, 59, 82, 6, 36, 1, 67, 37, 11, 18, 45, 51, 75, 3, 60, 62, 84, 27, 26, 81, 69, 21, 44, 24, 28, 77, 41, 79, 53, 50, 9, 66, 2, 14, 61, 31, 7, 46, 72, 5, 74, 30, 56, 88, 83, 20, 80, 70, 71, 76, 23, 78, 13, 64, 19, 40, 85, 73, 47, 42, 4, 87, 34, 65, 29, 8, 57, 0, 22, 86, 17, 38]\n",
      "[32, 75, 80, 67, 54, 60]\n",
      "[13, 88, 35, 26, 34, 18, 65, 9, 80, 87, 58, 36, 64, 19, 74, 45, 62, 83, 33, 70, 29, 43, 69, 77, 15, 78, 28, 17, 7, 61, 85, 5, 46, 57, 1, 67, 73, 48, 4, 71, 41, 25, 79, 51, 66, 42, 86, 3, 38, 84, 60, 75, 47, 16, 50, 10, 20, 52, 11, 22, 32, 40, 54, 72, 68, 6, 56, 49, 81, 2, 37, 8, 44, 53, 14, 0, 23, 24, 31, 27, 55, 82, 63, 12, 30, 59, 39, 21, 76]\n",
      "[62, 56, 18, 76, 29, 37, 50, 57, 3, 66, 9, 7, 44, 81, 0, 80, 21, 67, 33, 16, 24, 83, 11, 43, 4, 47, 35, 13, 70, 36, 14, 53, 25, 32, 41, 85, 5, 64, 8, 22, 28, 58, 38, 39, 27, 87, 60, 40, 88, 30, 72, 51, 74, 23, 61, 84, 65, 12, 55, 17, 31, 2, 15, 77, 42, 75, 69, 79, 19, 45, 68, 63, 49, 54, 52, 82, 6, 10, 46, 34, 86, 1, 26, 20, 78, 73, 59, 71, 48]\n",
      "[80, 87, 88, 50, 82, 31, 78, 12, 35, 38, 19, 42, 23, 21, 77, 68, 41, 34, 51, 0, 4, 73, 22, 61, 54, 56, 8, 40, 37, 55, 5, 45, 3, 29, 14, 85, 86, 75, 20, 66, 43, 74, 36, 62, 32, 72, 33, 10, 70, 59, 1, 24, 7, 60, 6, 57, 63, 13, 46, 67, 71, 64, 81, 52, 9, 53, 84, 65, 15, 28, 44, 27, 76, 11, 69, 16, 30, 58, 25, 17, 48, 26, 47, 2, 39, 49, 79, 83, 18]\n",
      "[41, 11, 20, 73, 12, 60, 71, 17, 48, 75, 0, 79, 15, 45, 23, 52, 87, 47, 5, 9, 31, 84, 28, 67, 61, 7, 82, 2, 25, 39, 22, 58, 78, 33, 53, 40, 46, 26, 29, 66, 13, 81, 14, 37, 68, 4, 32, 62, 38, 27, 80, 72, 51, 86, 55, 70, 56, 76, 1, 34, 74, 24, 59, 42, 35, 49, 85, 3, 65, 16, 50, 43, 44, 6, 10, 19, 63, 88, 64, 18, 21, 57, 8, 77, 54, 69, 83, 30, 36]\n",
      "[87, 37, 9, 72, 33, 75, 56, 41, 62, 67, 63, 61, 7, 55, 34, 82, 17, 85, 58, 44, 11, 32, 54, 14, 46, 42, 60, 43, 25, 52, 16, 18, 47, 65, 70, 1, 81, 71, 88, 21, 48, 13, 12, 38, 8, 59, 57, 26, 0, 69, 20, 22, 36, 74, 28, 27, 2, 83, 66, 84, 45, 6, 23, 78, 53, 30, 77, 19, 3, 73, 35, 80, 29, 50, 64, 68, 4, 86, 51, 5, 39, 10, 76, 15, 24, 49, 31, 79, 40]\n",
      "[45, 80, 1, 11, 25, 22, 12, 60, 42, 84, 26, 82, 15, 7, 21, 40, 69, 59, 73, 57, 86, 85, 44, 87, 79, 55, 0, 24, 34, 35, 75, 49, 33, 50, 17, 72, 29, 51, 47, 4, 63, 64, 23, 65, 2, 8, 10, 66, 31, 53, 32, 16, 41, 88, 62, 58, 28, 3, 19, 39, 14, 5, 61, 38, 74, 37, 56, 36, 78, 67, 43, 48, 54, 20, 76, 30, 13, 83, 46, 71, 77, 27, 18, 52, 81, 68, 6, 70, 9]\n",
      "[32, 75, 80, 67, 54, 60]\n",
      "[0, 55, 21, 2, 18, 48, 71, 14, 35, 40, 1, 27, 5, 30, 54, 77, 6, 85, 19, 8, 46, 23, 28, 73, 32, 76, 52, 31, 81, 65, 68, 26, 51, 7, 25, 86, 84, 72, 39, 82, 36, 50, 64, 59, 29, 61, 3, 60, 78, 56, 74, 13, 58, 47, 70, 44, 38, 66, 11, 67, 16, 33, 49, 63, 88, 12, 53, 17, 42, 83, 10, 57, 80, 24, 15, 41, 4, 34, 87, 9, 75, 79, 45, 20, 37, 62, 22, 43, 69]\n",
      "[58, 79, 20, 0, 31, 75, 87, 59, 37, 38, 54, 56, 16, 80, 51, 41, 49, 35, 17, 32, 4, 27, 19, 39, 45, 44, 78, 47, 42, 88, 6, 34, 72, 1, 5, 82, 83, 7, 8, 36, 55, 14, 57, 46, 69, 18, 40, 29, 21, 22, 81, 71, 74, 43, 25, 65, 30, 66, 76, 63, 60, 50, 73, 86, 61, 33, 11, 24, 53, 85, 64, 13, 70, 62, 12, 52, 84, 48, 67, 9, 28, 68, 77, 10, 3, 23, 26, 2, 15]\n",
      "[88, 71, 47, 40, 29, 25, 21, 26, 6, 86, 33, 14, 45, 69, 34, 36, 58, 12, 19, 67, 13, 27, 11, 49, 60, 9, 74, 79, 62, 76, 39, 59, 77, 23, 56, 68, 84, 70, 15, 63, 41, 43, 18, 42, 85, 10, 8, 24, 2, 72, 64, 7, 4, 1, 35, 73, 30, 83, 38, 20, 66, 75, 53, 22, 44, 80, 57, 32, 0, 16, 54, 82, 61, 17, 28, 78, 3, 50, 52, 51, 31, 5, 55, 87, 46, 81, 65, 48, 37]\n",
      "[13, 65, 56, 55, 41, 75, 24, 8, 73, 48, 37, 9, 77, 38, 85, 40, 71, 30, 35, 60, 36, 39, 45, 74, 20, 57, 29, 46, 50, 76, 78, 31, 68, 88, 14, 1, 70, 7, 59, 54, 44, 53, 19, 17, 34, 27, 84, 43, 64, 47, 67, 86, 62, 42, 66, 0, 63, 52, 16, 23, 80, 2, 11, 61, 33, 18, 69, 28, 6, 15, 5, 22, 12, 87, 51, 82, 79, 10, 32, 26, 21, 25, 72, 49, 58, 3, 81, 4, 83]\n",
      "[8, 20, 73, 59, 18, 13, 3, 76, 82, 88, 86, 39, 5, 4, 30, 43, 87, 33, 21, 1, 32, 16, 2, 14, 17, 67, 71, 58, 41, 57, 29, 37, 10, 27, 15, 6, 25, 0, 62, 31, 61, 38, 84, 11, 22, 9, 70, 50, 66, 36, 46, 42, 23, 35, 69, 68, 81, 54, 64, 85, 63, 19, 49, 55, 7, 65, 75, 52, 77, 79, 26, 78, 28, 44, 24, 34, 53, 60, 51, 83, 80, 40, 74, 72, 12, 56, 48, 47, 45]\n",
      "[75, 44, 64, 68, 71, 73, 79, 18, 5, 33, 42, 35, 41, 27, 59, 62, 80, 26, 14, 60, 47, 63, 69, 55, 13, 76, 86, 7, 43, 72, 45, 40, 65, 67, 4, 8, 66, 21, 61, 82, 32, 22, 70, 29, 19, 50, 78, 58, 38, 0, 1, 20, 57, 10, 88, 28, 25, 2, 46, 74, 87, 11, 6, 56, 52, 30, 9, 81, 3, 24, 34, 17, 36, 51, 16, 48, 53, 84, 15, 54, 39, 85, 83, 12, 77, 23, 31, 49, 37]\n",
      "[32, 75, 80, 67, 54, 60]\n",
      "[34, 14, 11, 27, 33, 13, 73, 16, 68, 25, 30, 1, 46, 20, 66, 26, 35, 49, 41, 43, 84, 53, 72, 6, 60, 47, 75, 10, 9, 88, 76, 2, 77, 59, 55, 23, 18, 29, 12, 5, 48, 51, 82, 36, 71, 54, 24, 17, 19, 64, 40, 38, 86, 21, 4, 32, 81, 79, 39, 69, 87, 67, 80, 44, 45, 85, 3, 78, 52, 58, 70, 50, 37, 65, 31, 63, 7, 61, 42, 0, 83, 56, 62, 8, 22, 74, 15, 28, 57]\n",
      "[15, 49, 69, 40, 17, 58, 7, 12, 18, 57, 51, 84, 36, 71, 77, 81, 76, 30, 48, 19, 52, 6, 83, 44, 14, 66, 88, 23, 8, 64, 86, 67, 24, 73, 74, 63, 26, 87, 10, 0, 85, 22, 16, 13, 56, 2, 55, 34, 32, 20, 78, 65, 29, 27, 21, 70, 33, 68, 11, 72, 9, 25, 37, 61, 39, 50, 79, 28, 46, 5, 43, 62, 31, 82, 35, 3, 45, 1, 80, 60, 75, 4, 53, 59, 42, 54, 47, 38, 41]\n",
      "[85, 36, 14, 49, 40, 74, 88, 18, 86, 50, 1, 45, 13, 9, 67, 53, 43, 10, 78, 7, 35, 71, 58, 4, 81, 34, 38, 57, 0, 17, 23, 64, 54, 79, 37, 32, 87, 20, 68, 82, 47, 52, 6, 72, 75, 69, 25, 59, 51, 12, 55, 5, 76, 46, 19, 2, 16, 15, 26, 80, 11, 44, 33, 28, 56, 65, 63, 66, 39, 70, 22, 77, 84, 29, 3, 62, 8, 41, 60, 48, 21, 24, 42, 61, 30, 27, 73, 31, 83]\n",
      "[16, 26, 0, 87, 37, 52, 64, 36, 6, 13, 8, 77, 2, 62, 76, 43, 33, 25, 46, 23, 39, 17, 48, 10, 72, 61, 7, 30, 27, 1, 55, 29, 35, 67, 49, 53, 84, 28, 38, 56, 88, 58, 12, 31, 9, 86, 66, 78, 19, 65, 83, 75, 54, 80, 82, 32, 74, 57, 71, 79, 42, 34, 40, 24, 47, 14, 21, 73, 45, 59, 81, 68, 69, 70, 41, 4, 11, 3, 18, 15, 5, 50, 60, 22, 20, 51, 85, 63, 44]\n",
      "[1, 40, 79, 76, 17, 13, 29, 65, 36, 81, 62, 74, 51, 85, 70, 10, 77, 49, 33, 63, 43, 52, 41, 16, 57, 67, 35, 24, 78, 38, 44, 55, 3, 39, 82, 34, 87, 32, 18, 28, 12, 46, 5, 72, 15, 69, 60, 56, 88, 9, 83, 47, 73, 23, 59, 0, 75, 37, 31, 54, 42, 86, 58, 22, 48, 61, 8, 30, 25, 71, 53, 19, 21, 14, 84, 2, 80, 66, 27, 11, 26, 6, 20, 45, 50, 4, 7, 64, 68]\n",
      "[86, 55, 82, 11, 9, 57, 20, 3, 4, 64, 63, 88, 85, 17, 24, 26, 5, 2, 28, 84, 18, 68, 7, 22, 44, 37, 10, 34, 36, 39, 40, 79, 71, 49, 65, 61, 75, 87, 45, 78, 62, 33, 83, 80, 60, 76, 12, 35, 23, 8, 32, 70, 74, 14, 46, 81, 41, 31, 59, 77, 69, 48, 58, 53, 30, 13, 16, 51, 27, 66, 29, 0, 15, 19, 25, 54, 21, 42, 50, 38, 73, 72, 52, 67, 6, 1, 56, 47, 43]\n",
      "[32, 75, 80, 67, 54, 60]\n",
      "[16, 79, 6, 4, 31, 80, 52, 26, 83, 47, 55, 76, 8, 72, 27, 56, 33, 10, 30, 25, 3, 59, 64, 67, 29, 66, 71, 22, 41, 81, 49, 44, 73, 37, 35, 54, 24, 13, 28, 0, 50, 12, 78, 21, 61, 9, 34, 38, 46, 87, 84, 11, 20, 57, 14, 68, 42, 63, 19, 7, 82, 75, 17, 62, 70, 40, 77, 39, 18, 74, 45, 53, 51, 60, 58, 69, 36, 43, 48, 5, 88, 1, 23, 2, 86, 65, 15, 32, 85]\n",
      "[29, 54, 63, 66, 15, 47, 40, 84, 56, 27, 42, 68, 81, 38, 50, 78, 35, 53, 80, 1, 51, 43, 79, 65, 11, 26, 61, 25, 71, 55, 57, 24, 73, 31, 0, 17, 23, 22, 58, 34, 16, 37, 45, 2, 67, 7, 82, 49, 18, 70, 28, 36, 14, 41, 5, 72, 88, 74, 19, 76, 9, 52, 85, 77, 12, 62, 48, 30, 13, 46, 32, 10, 8, 39, 4, 20, 86, 64, 44, 69, 33, 60, 87, 6, 59, 21, 75, 83, 3]\n",
      "[15, 52, 11, 76, 64, 34, 1, 24, 14, 49, 51, 73, 4, 65, 54, 66, 38, 78, 27, 61, 79, 71, 35, 47, 70, 87, 84, 75, 28, 25, 86, 41, 2, 43, 6, 37, 55, 21, 12, 10, 72, 30, 26, 63, 48, 67, 19, 57, 74, 42, 36, 83, 20, 85, 88, 46, 0, 56, 33, 45, 5, 8, 80, 44, 58, 9, 31, 39, 16, 62, 13, 69, 60, 17, 68, 81, 59, 53, 23, 40, 82, 18, 50, 29, 22, 77, 7, 3, 32]\n",
      "[83, 1, 60, 15, 17, 12, 57, 29, 75, 56, 24, 78, 48, 11, 52, 33, 8, 76, 65, 44, 9, 36, 74, 39, 13, 72, 84, 46, 47, 62, 45, 37, 80, 40, 81, 54, 82, 43, 28, 27, 20, 68, 49, 10, 5, 70, 67, 23, 42, 86, 4, 88, 69, 25, 0, 51, 61, 19, 73, 41, 6, 53, 3, 38, 50, 63, 66, 7, 35, 32, 14, 87, 22, 31, 26, 16, 34, 55, 64, 85, 77, 2, 58, 30, 79, 59, 21, 71, 18]\n",
      "[24, 69, 56, 59, 15, 5, 66, 55, 76, 0, 30, 51, 45, 43, 61, 13, 72, 37, 23, 63, 36, 10, 52, 75, 73, 87, 64, 80, 34, 78, 9, 74, 6, 57, 7, 58, 67, 35, 81, 40, 29, 4, 48, 27, 22, 42, 39, 21, 31, 28, 25, 46, 82, 16, 14, 17, 83, 54, 38, 71, 50, 11, 88, 20, 33, 47, 77, 68, 18, 19, 65, 3, 32, 85, 84, 53, 79, 2, 44, 60, 1, 41, 26, 62, 8, 12, 49, 70, 86]\n",
      "[4, 19, 58, 32, 56, 74, 77, 2, 52, 54, 67, 55, 5, 75, 44, 69, 85, 71, 7, 84, 31, 53, 49, 6, 26, 11, 29, 88, 25, 79, 64, 62, 76, 73, 18, 14, 86, 47, 78, 48, 72, 68, 59, 41, 13, 82, 40, 45, 39, 0, 50, 22, 10, 63, 33, 66, 61, 57, 87, 34, 83, 1, 27, 8, 17, 28, 51, 3, 15, 23, 24, 9, 21, 65, 80, 43, 35, 37, 12, 70, 81, 16, 38, 60, 42, 30, 36, 46, 20]\n",
      "[32, 75, 80, 67, 54, 60]\n",
      "[35, 57, 66, 36, 82, 34, 71, 87, 4, 45, 17, 83, 22, 21, 18, 20, 2, 16, 40, 73, 9, 59, 15, 62, 46, 54, 13, 0, 32, 70, 28, 31, 76, 49, 58, 55, 27, 44, 77, 81, 53, 85, 65, 38, 50, 79, 6, 19, 84, 33, 43, 78, 47, 48, 11, 5, 52, 51, 41, 88, 7, 10, 80, 61, 86, 12, 14, 56, 29, 39, 75, 63, 23, 37, 68, 60, 24, 42, 3, 67, 74, 1, 30, 64, 72, 69, 26, 8, 25]\n",
      "[39, 1, 52, 36, 65, 51, 20, 40, 56, 53, 33, 43, 19, 16, 86, 38, 68, 5, 15, 83, 18, 48, 71, 55, 0, 12, 37, 61, 21, 50, 26, 46, 30, 31, 11, 58, 87, 62, 85, 32, 63, 42, 25, 74, 35, 49, 27, 84, 23, 88, 41, 22, 13, 47, 7, 70, 10, 82, 54, 28, 6, 72, 45, 17, 44, 79, 73, 75, 80, 4, 24, 14, 34, 77, 60, 2, 64, 9, 78, 59, 66, 69, 57, 67, 8, 76, 81, 29, 3]\n"
     ]
    },
    {
     "name": "stdout",
     "output_type": "stream",
     "text": [
      "[55, 18, 25, 11, 37, 43, 67, 22, 9, 78, 24, 36, 1, 85, 69, 68, 62, 57, 65, 81, 52, 26, 53, 13, 50, 6, 30, 77, 84, 40, 20, 58, 23, 32, 5, 61, 73, 66, 31, 48, 75, 41, 79, 83, 46, 80, 33, 16, 17, 70, 10, 34, 59, 8, 42, 14, 7, 21, 39, 56, 45, 12, 60, 63, 47, 44, 74, 3, 15, 54, 2, 86, 35, 28, 4, 51, 82, 0, 88, 72, 64, 71, 87, 27, 76, 38, 49, 29, 19]\n",
      "[33, 35, 20, 46, 54, 87, 62, 37, 11, 45, 14, 50, 84, 42, 3, 47, 4, 19, 36, 31, 25, 24, 22, 0, 48, 21, 58, 79, 88, 28, 41, 40, 75, 43, 76, 12, 18, 57, 65, 29, 85, 51, 53, 70, 23, 74, 1, 44, 27, 13, 9, 49, 86, 15, 69, 16, 77, 63, 26, 78, 32, 72, 83, 60, 5, 39, 10, 73, 59, 17, 30, 34, 81, 66, 38, 8, 80, 52, 64, 71, 7, 82, 2, 56, 6, 61, 55, 68, 67]\n",
      "[31, 59, 86, 33, 73, 74, 77, 11, 18, 65, 68, 25, 16, 13, 32, 53, 78, 35, 55, 85, 63, 87, 12, 47, 49, 44, 58, 19, 15, 52, 4, 28, 66, 27, 37, 34, 10, 62, 46, 54, 17, 80, 41, 5, 9, 70, 38, 57, 67, 48, 0, 21, 3, 71, 40, 7, 6, 36, 84, 14, 56, 76, 43, 83, 39, 45, 79, 26, 23, 8, 61, 69, 2, 20, 82, 24, 51, 72, 29, 30, 22, 1, 81, 60, 50, 64, 75, 88, 42]\n",
      "[48, 36, 50, 74, 78, 52, 46, 7, 85, 87, 31, 6, 27, 49, 76, 67, 24, 53, 18, 79, 72, 77, 29, 42, 33, 30, 1, 40, 81, 13, 2, 37, 19, 69, 39, 65, 25, 23, 16, 80, 21, 58, 5, 75, 64, 3, 71, 82, 56, 11, 44, 17, 83, 84, 28, 43, 88, 10, 66, 62, 15, 0, 4, 59, 55, 45, 38, 73, 9, 60, 57, 32, 51, 86, 34, 26, 61, 20, 35, 47, 12, 41, 68, 8, 70, 22, 54, 63, 14]\n",
      "[32, 75, 80, 67, 54, 60]\n",
      "[24, 11, 57, 26, 46, 6, 34, 66, 5, 44, 49, 23, 7, 80, 31, 48, 37, 62, 77, 41, 63, 59, 36, 19, 52, 29, 79, 32, 75, 58, 12, 16, 25, 20, 69, 18, 10, 47, 70, 33, 82, 85, 88, 76, 64, 27, 39, 86, 53, 28, 35, 78, 22, 60, 13, 65, 74, 38, 9, 54, 17, 4, 45, 43, 2, 84, 56, 68, 8, 40, 30, 1, 67, 3, 72, 55, 21, 14, 81, 15, 71, 50, 73, 83, 87, 61, 51, 42, 0]\n",
      "[0, 37, 63, 70, 7, 44, 59, 40, 25, 34, 35, 14, 21, 60, 62, 42, 15, 22, 11, 24, 13, 2, 81, 61, 74, 29, 10, 56, 20, 76, 36, 26, 67, 68, 55, 58, 39, 82, 49, 16, 86, 28, 18, 69, 6, 32, 1, 46, 43, 64, 23, 88, 85, 87, 57, 73, 31, 48, 53, 27, 8, 52, 33, 54, 75, 30, 50, 78, 4, 72, 79, 80, 65, 45, 3, 51, 71, 41, 19, 17, 9, 5, 77, 12, 66, 84, 47, 83, 38]\n",
      "[12, 4, 21, 64, 71, 49, 51, 61, 72, 24, 58, 76, 70, 42, 79, 25, 50, 78, 9, 45, 74, 6, 48, 53, 28, 75, 88, 37, 23, 19, 47, 59, 73, 17, 86, 68, 10, 0, 57, 2, 55, 84, 16, 34, 13, 26, 39, 69, 15, 5, 85, 80, 30, 32, 65, 36, 33, 35, 87, 40, 67, 77, 83, 18, 54, 20, 3, 43, 81, 31, 14, 46, 52, 66, 7, 27, 60, 22, 1, 62, 8, 11, 63, 56, 29, 44, 82, 38, 41]\n",
      "[56, 8, 6, 85, 53, 28, 22, 31, 19, 24, 44, 10, 80, 47, 30, 36, 55, 76, 26, 59, 73, 11, 14, 50, 67, 41, 20, 81, 63, 2, 60, 68, 86, 43, 27, 64, 75, 39, 25, 77, 13, 17, 4, 21, 49, 82, 74, 57, 58, 15, 33, 9, 51, 46, 78, 40, 66, 16, 65, 38, 12, 29, 18, 54, 7, 1, 42, 45, 0, 34, 5, 88, 3, 52, 87, 61, 70, 35, 69, 79, 32, 72, 48, 83, 84, 62, 71, 37, 23]\n",
      "[3, 78, 55, 41, 23, 65, 18, 31, 59, 19, 74, 88, 72, 69, 8, 85, 86, 47, 68, 51, 75, 30, 0, 6, 81, 61, 80, 37, 58, 22, 67, 17, 13, 84, 2, 79, 44, 29, 76, 60, 24, 7, 1, 12, 28, 27, 33, 15, 56, 11, 48, 4, 62, 53, 45, 66, 49, 20, 82, 26, 63, 83, 40, 43, 16, 42, 9, 34, 52, 39, 50, 77, 35, 25, 46, 64, 14, 70, 87, 54, 32, 57, 36, 73, 71, 5, 10, 38, 21]\n",
      "[84, 34, 28, 42, 2, 8, 75, 83, 7, 60, 35, 62, 46, 3, 76, 17, 54, 88, 38, 29, 71, 32, 31, 73, 86, 37, 74, 77, 63, 67, 6, 18, 87, 39, 4, 43, 16, 70, 56, 81, 47, 59, 1, 55, 0, 50, 57, 15, 36, 49, 44, 13, 48, 33, 45, 51, 10, 21, 22, 66, 82, 23, 68, 20, 41, 58, 64, 14, 19, 80, 79, 85, 78, 12, 53, 69, 30, 52, 11, 24, 25, 40, 9, 27, 26, 72, 65, 61, 5]\n",
      "[32, 75, 80, 67, 54, 60]\n",
      "[19, 37, 32, 46, 21, 18, 88, 75, 64, 14, 66, 47, 60, 1, 35, 10, 17, 69, 81, 11, 42, 58, 84, 13, 87, 65, 41, 52, 31, 0, 67, 77, 43, 9, 82, 7, 24, 57, 22, 74, 4, 2, 44, 26, 68, 16, 23, 5, 28, 78, 38, 40, 86, 25, 8, 34, 45, 70, 49, 79, 30, 61, 72, 56, 62, 20, 71, 55, 29, 76, 33, 12, 53, 36, 54, 27, 80, 83, 15, 3, 73, 63, 85, 6, 48, 39, 50, 59, 51]\n",
      "[4, 37, 31, 86, 59, 61, 14, 25, 8, 34, 78, 30, 83, 79, 74, 16, 6, 40, 28, 15, 48, 58, 73, 17, 81, 75, 18, 0, 36, 12, 84, 43, 41, 38, 77, 19, 3, 20, 65, 44, 51, 23, 49, 88, 29, 21, 32, 9, 76, 45, 71, 62, 80, 67, 66, 42, 13, 63, 10, 26, 39, 50, 5, 35, 70, 33, 53, 54, 24, 57, 27, 85, 72, 64, 56, 1, 68, 7, 55, 60, 22, 87, 47, 52, 11, 69, 46, 82, 2]\n",
      "[59, 75, 15, 26, 20, 61, 80, 50, 30, 85, 68, 16, 10, 63, 31, 74, 71, 33, 0, 42, 70, 88, 40, 46, 6, 49, 52, 29, 56, 43, 65, 44, 48, 67, 32, 23, 17, 34, 21, 82, 37, 78, 11, 84, 7, 5, 54, 81, 36, 53, 12, 62, 87, 57, 19, 3, 9, 72, 35, 86, 55, 51, 77, 64, 1, 14, 76, 28, 8, 73, 41, 27, 79, 24, 2, 22, 38, 83, 39, 18, 47, 69, 25, 66, 45, 13, 4, 58, 60]\n",
      "[60, 35, 25, 33, 52, 34, 9, 6, 4, 13, 10, 59, 14, 72, 28, 62, 69, 8, 31, 11, 44, 3, 47, 56, 54, 26, 49, 67, 61, 42, 48, 74, 77, 78, 50, 85, 43, 30, 15, 17, 23, 21, 5, 0, 22, 41, 2, 55, 65, 57, 32, 27, 84, 86, 40, 24, 81, 37, 7, 46, 75, 38, 82, 88, 53, 51, 19, 64, 1, 12, 58, 63, 71, 66, 83, 73, 80, 87, 36, 29, 18, 20, 76, 45, 70, 79, 68, 16, 39]\n",
      "[77, 37, 64, 80, 27, 61, 62, 73, 29, 65, 84, 32, 11, 0, 6, 1, 50, 54, 86, 19, 14, 67, 83, 22, 5, 10, 79, 48, 53, 56, 21, 81, 63, 82, 9, 44, 40, 13, 66, 57, 26, 68, 45, 52, 4, 3, 25, 39, 88, 34, 75, 20, 58, 33, 55, 16, 85, 71, 43, 41, 59, 76, 46, 15, 74, 78, 60, 35, 30, 42, 49, 38, 18, 7, 2, 36, 72, 70, 17, 12, 51, 69, 31, 8, 24, 87, 47, 23, 28]\n",
      "[79, 15, 34, 88, 30, 57, 50, 33, 12, 81, 72, 24, 65, 76, 18, 21, 29, 7, 64, 71, 35, 62, 70, 73, 78, 25, 16, 59, 47, 86, 80, 20, 39, 17, 46, 8, 51, 31, 75, 27, 3, 69, 44, 2, 85, 56, 53, 23, 28, 45, 49, 82, 66, 87, 19, 68, 26, 0, 55, 41, 32, 74, 83, 52, 58, 36, 77, 54, 42, 48, 43, 38, 4, 84, 11, 67, 1, 5, 14, 10, 9, 60, 61, 40, 63, 6, 37, 22, 13]\n",
      "[32, 75, 80, 67, 54, 60]\n",
      "[11, 4, 19, 2, 23, 86, 65, 29, 12, 14, 10, 76, 74, 16, 46, 31, 3, 51, 84, 61, 73, 37, 42, 72, 53, 88, 64, 33, 26, 79, 81, 5, 85, 1, 32, 80, 40, 44, 60, 9, 38, 0, 70, 78, 47, 87, 63, 55, 13, 69, 18, 21, 17, 30, 75, 36, 66, 8, 83, 25, 27, 7, 52, 71, 35, 56, 20, 24, 49, 41, 58, 28, 50, 67, 15, 77, 82, 43, 34, 68, 45, 22, 6, 54, 48, 59, 57, 62, 39]\n",
      "[25, 84, 41, 60, 58, 78, 51, 74, 61, 63, 43, 55, 45, 13, 85, 11, 9, 38, 54, 86, 8, 39, 36, 64, 50, 73, 69, 16, 7, 47, 77, 81, 12, 0, 5, 68, 3, 29, 40, 88, 87, 44, 75, 21, 32, 67, 83, 33, 62, 72, 26, 65, 2, 1, 4, 31, 17, 56, 52, 53, 18, 70, 46, 71, 79, 28, 48, 80, 19, 82, 57, 34, 35, 30, 27, 24, 14, 49, 37, 66, 23, 42, 6, 59, 20, 15, 22, 10, 76]\n",
      "[75, 7, 18, 72, 12, 71, 17, 22, 79, 3, 77, 40, 9, 23, 42, 39, 50, 2, 30, 59, 55, 26, 14, 37, 82, 10, 38, 20, 19, 56, 16, 65, 27, 62, 8, 46, 84, 6, 48, 15, 85, 54, 31, 68, 51, 63, 73, 28, 4, 66, 53, 0, 52, 13, 33, 58, 47, 86, 44, 61, 36, 87, 88, 76, 25, 69, 34, 5, 60, 67, 41, 29, 32, 78, 24, 83, 64, 43, 74, 45, 81, 1, 49, 57, 11, 80, 21, 70, 35]\n",
      "[43, 11, 31, 0, 51, 2, 9, 87, 52, 41, 13, 32, 22, 38, 23, 56, 24, 86, 60, 4, 81, 88, 6, 59, 18, 55, 64, 75, 63, 68, 21, 5, 69, 17, 15, 28, 16, 26, 61, 33, 83, 45, 74, 79, 7, 71, 53, 73, 77, 70, 82, 65, 84, 47, 40, 27, 36, 42, 35, 1, 50, 57, 30, 39, 67, 62, 8, 10, 14, 19, 72, 44, 66, 58, 46, 54, 3, 76, 29, 80, 37, 48, 20, 85, 34, 25, 49, 78, 12]\n",
      "[23, 31, 49, 69, 50, 59, 56, 38, 79, 12, 80, 72, 27, 13, 83, 47, 54, 30, 32, 36, 70, 76, 24, 21, 52, 55, 9, 16, 28, 11, 84, 7, 14, 73, 3, 86, 58, 17, 34, 15, 19, 18, 26, 39, 33, 64, 22, 1, 37, 78, 77, 6, 45, 43, 5, 65, 85, 41, 8, 62, 88, 74, 57, 35, 48, 51, 42, 53, 0, 68, 82, 29, 81, 61, 71, 66, 60, 44, 63, 75, 46, 20, 2, 25, 4, 67, 40, 10, 87]\n",
      "[47, 75, 77, 54, 74, 0, 71, 24, 3, 29, 46, 7, 48, 15, 43, 9, 23, 82, 65, 60, 25, 19, 70, 79, 55, 66, 31, 61, 20, 45, 38, 6, 27, 86, 69, 62, 18, 41, 58, 16, 26, 39, 78, 5, 50, 51, 2, 30, 36, 22, 11, 21, 32, 84, 37, 73, 72, 68, 80, 28, 59, 10, 1, 40, 67, 49, 17, 12, 53, 35, 63, 57, 42, 81, 33, 14, 56, 64, 85, 8, 4, 13, 52, 76, 87, 88, 44, 34, 83]\n",
      "[32, 75, 80, 67, 54, 60]\n",
      "[61, 24, 9, 73, 84, 45, 46, 3, 68, 48, 52, 53, 56, 60, 74, 23, 8, 15, 51, 76, 42, 71, 81, 79, 59, 41, 64, 13, 88, 55, 35, 2, 29, 1, 6, 25, 36, 43, 75, 47, 67, 57, 86, 85, 54, 78, 18, 40, 63, 28, 4, 33, 21, 44, 65, 27, 12, 19, 0, 16, 20, 80, 10, 38, 70, 87, 34, 49, 58, 22, 37, 14, 26, 62, 72, 39, 66, 69, 32, 83, 31, 5, 7, 30, 82, 11, 17, 50, 77]\n",
      "[29, 27, 81, 32, 51, 28, 31, 40, 0, 55, 66, 36, 6, 50, 45, 80, 12, 77, 61, 13, 19, 63, 10, 17, 4, 9, 85, 5, 44, 74, 34, 46, 78, 24, 7, 18, 37, 62, 1, 21, 57, 35, 11, 72, 53, 22, 16, 86, 3, 39, 56, 75, 59, 25, 42, 58, 71, 47, 64, 41, 49, 14, 79, 70, 30, 88, 23, 43, 20, 65, 82, 48, 2, 26, 69, 52, 33, 84, 15, 54, 67, 8, 87, 73, 38, 83, 68, 60, 76]\n",
      "[37, 18, 27, 1, 21, 32, 51, 10, 67, 66, 25, 84, 83, 4, 7, 23, 53, 49, 26, 78, 2, 34, 55, 40, 24, 41, 47, 50, 74, 65, 52, 63, 20, 88, 5, 19, 31, 3, 13, 54, 9, 30, 29, 70, 12, 42, 60, 61, 59, 15, 73, 46, 16, 6, 69, 45, 38, 71, 75, 86, 22, 0, 43, 72, 68, 44, 79, 28, 8, 81, 33, 11, 58, 36, 76, 56, 39, 48, 64, 85, 62, 77, 57, 14, 35, 80, 87, 82, 17]\n",
      "[39, 22, 56, 17, 77, 14, 83, 50, 71, 18, 4, 26, 72, 85, 80, 54, 31, 37, 61, 41, 20, 15, 86, 57, 27, 8, 12, 33, 69, 32, 74, 3, 84, 1, 42, 35, 48, 87, 5, 70, 73, 59, 58, 62, 46, 9, 60, 53, 43, 63, 40, 25, 52, 65, 23, 7, 11, 28, 2, 13, 45, 68, 16, 19, 81, 76, 34, 49, 21, 30, 10, 6, 47, 78, 64, 24, 82, 79, 29, 0, 38, 36, 88, 55, 44, 67, 51, 66, 75]\n",
      "[2, 20, 47, 39, 24, 23, 19, 30, 87, 28, 38, 79, 69, 57, 73, 14, 63, 13, 36, 31, 41, 18, 22, 25, 72, 10, 82, 34, 76, 32, 78, 74, 66, 59, 51, 5, 61, 58, 54, 8, 56, 17, 45, 33, 21, 77, 6, 49, 86, 7, 50, 55, 64, 81, 1, 9, 48, 46, 80, 3, 40, 27, 71, 12, 44, 37, 85, 11, 4, 43, 60, 29, 68, 53, 62, 35, 26, 42, 75, 83, 67, 65, 88, 0, 84, 16, 15, 52, 70]\n",
      "[25, 68, 64, 74, 7, 66, 78, 49, 30, 37, 1, 51, 83, 73, 41, 36, 75, 19, 39, 85, 60, 81, 88, 17, 40, 29, 11, 16, 58, 56, 13, 76, 45, 28, 87, 22, 0, 62, 84, 77, 65, 15, 33, 8, 14, 31, 82, 53, 5, 52, 72, 47, 21, 43, 4, 12, 2, 79, 55, 86, 10, 67, 42, 38, 6, 59, 61, 63, 26, 35, 23, 32, 50, 69, 34, 54, 20, 57, 18, 3, 71, 44, 70, 24, 9, 80, 46, 27, 48]\n",
      "[32, 75, 80, 67, 54, 60]\n",
      "[29, 6, 33, 36, 84, 81, 56, 50, 78, 1, 46, 17, 2, 65, 42, 71, 16, 34, 85, 62, 27, 83, 73, 45, 31, 25, 13, 24, 54, 67, 40, 82, 11, 70, 49, 47, 28, 32, 26, 21, 64, 43, 20, 63, 87, 58, 68, 9, 38, 44, 60, 4, 79, 7, 74, 0, 51, 5, 14, 86, 57, 88, 77, 53, 12, 15, 61, 72, 35, 55, 37, 23, 18, 48, 75, 10, 59, 30, 80, 22, 39, 8, 69, 3, 19, 76, 52, 66, 41]\n",
      "[6, 73, 55, 35, 54, 45, 49, 58, 86, 12, 31, 14, 22, 8, 68, 29, 44, 71, 59, 28, 33, 47, 64, 20, 25, 42, 62, 39, 23, 27, 18, 74, 82, 4, 87, 66, 76, 81, 17, 50, 38, 56, 51, 78, 70, 0, 32, 75, 40, 48, 30, 60, 7, 9, 69, 63, 15, 36, 88, 72, 41, 57, 67, 65, 5, 80, 53, 79, 83, 43, 13, 2, 3, 10, 24, 61, 1, 11, 84, 46, 37, 26, 77, 34, 19, 16, 85, 21, 52]\n",
      "[40, 66, 57, 71, 26, 2, 4, 68, 80, 20, 88, 83, 69, 59, 54, 44, 70, 29, 43, 21, 79, 15, 51, 48, 1, 16, 85, 77, 17, 73, 65, 87, 78, 55, 67, 45, 28, 32, 13, 11, 14, 23, 22, 19, 10, 8, 36, 53, 6, 27, 47, 58, 46, 33, 12, 37, 18, 63, 74, 86, 56, 41, 38, 39, 5, 75, 0, 64, 30, 34, 76, 82, 7, 24, 72, 84, 35, 25, 50, 52, 60, 61, 9, 31, 49, 81, 62, 42, 3]\n",
      "[11, 3, 38, 51, 77, 33, 41, 81, 65, 64, 5, 2, 66, 4, 44, 20, 16, 74, 82, 31, 76, 10, 32, 1, 62, 35, 43, 72, 79, 50, 69, 42, 25, 13, 53, 83, 75, 52, 85, 48, 61, 23, 29, 34, 60, 39, 15, 27, 70, 14, 21, 26, 46, 88, 9, 80, 7, 30, 54, 56, 63, 55, 86, 71, 24, 40, 78, 17, 47, 37, 28, 18, 57, 67, 22, 45, 73, 19, 87, 58, 8, 0, 68, 49, 59, 6, 36, 12, 84]\n",
      "[30, 21, 18, 41, 35, 9, 71, 46, 58, 61, 12, 82, 40, 59, 7, 0, 17, 3, 14, 65, 2, 86, 80, 84, 69, 11, 26, 47, 87, 88, 43, 55, 49, 25, 57, 6, 24, 70, 19, 10, 51, 20, 37, 28, 42, 15, 77, 79, 39, 83, 44, 36, 5, 67, 38, 54, 81, 32, 72, 75, 68, 31, 60, 1, 62, 4, 22, 33, 63, 13, 29, 56, 52, 23, 16, 85, 74, 66, 76, 48, 45, 27, 73, 50, 34, 78, 53, 8, 64]\n",
      "[30, 32, 78, 9, 17, 58, 3, 4, 65, 34, 29, 53, 70, 41, 47, 31, 74, 8, 25, 59, 76, 86, 80, 38, 2, 26, 83, 21, 33, 0, 14, 46, 27, 62, 50, 57, 43, 63, 52, 85, 44, 6, 18, 28, 19, 56, 11, 49, 37, 55, 68, 24, 35, 81, 22, 16, 42, 7, 84, 82, 20, 23, 45, 10, 67, 60, 12, 88, 75, 87, 61, 66, 39, 36, 1, 54, 72, 5, 48, 69, 71, 51, 77, 79, 73, 13, 64, 40, 15]\n",
      "[32, 75, 80, 67, 54, 60]\n",
      "[30, 43, 39, 26, 54, 42, 1, 76, 57, 21, 34, 38, 84, 2, 79, 25, 51, 31, 75, 47, 23, 48, 53, 52, 6, 22, 60, 59, 72, 45, 11, 13, 3, 77, 85, 29, 15, 5, 66, 65, 12, 80, 27, 63, 88, 87, 50, 9, 37, 69, 81, 24, 19, 32, 44, 0, 71, 18, 68, 16, 17, 61, 40, 7, 62, 46, 4, 14, 83, 55, 82, 67, 41, 10, 36, 70, 33, 73, 58, 49, 8, 74, 64, 20, 78, 28, 35, 56, 86]\n",
      "[4, 69, 35, 11, 47, 6, 54, 1, 25, 76, 13, 53, 75, 62, 44, 71, 55, 61, 10, 3, 57, 39, 45, 0, 81, 37, 85, 68, 77, 40, 38, 83, 8, 27, 64, 50, 29, 56, 16, 82, 80, 58, 21, 42, 86, 66, 31, 26, 70, 87, 43, 24, 46, 78, 33, 20, 12, 84, 63, 34, 17, 60, 28, 52, 22, 65, 30, 18, 88, 15, 49, 48, 72, 9, 36, 32, 41, 7, 14, 51, 5, 73, 79, 23, 59, 74, 19, 67, 2]\n",
      "[62, 88, 61, 86, 60, 42, 69, 16, 82, 38, 32, 68, 40, 43, 30, 51, 13, 35, 65, 76, 78, 73, 77, 15, 67, 3, 0, 19, 18, 56, 50, 39, 31, 44, 26, 80, 66, 27, 53, 11, 36, 87, 34, 74, 45, 83, 75, 70, 20, 17, 64, 72, 54, 84, 7, 33, 6, 59, 29, 55, 21, 23, 24, 57, 22, 46, 63, 10, 52, 41, 71, 81, 79, 85, 48, 9, 5, 58, 2, 8, 47, 49, 14, 25, 12, 4, 1, 28, 37]\n",
      "[43, 44, 28, 73, 9, 8, 47, 18, 50, 24, 53, 26, 48, 45, 11, 71, 86, 41, 59, 36, 42, 79, 35, 87, 77, 31, 39, 5, 56, 68, 55, 64, 2, 58, 66, 3, 62, 78, 12, 82, 52, 17, 1, 65, 40, 29, 51, 22, 74, 49, 88, 85, 57, 0, 6, 38, 25, 19, 10, 67, 27, 23, 80, 32, 75, 61, 13, 81, 4, 72, 63, 20, 70, 21, 46, 37, 14, 30, 83, 76, 33, 69, 54, 60, 7, 34, 16, 84, 15]\n",
      "[39, 71, 61, 49, 76, 5, 37, 54, 62, 56, 67, 24, 85, 31, 40, 29, 25, 87, 73, 52, 65, 20, 55, 48, 1, 38, 45, 16, 66, 68, 11, 63, 33, 7, 36, 18, 46, 78, 44, 3, 83, 64, 79, 47, 53, 9, 84, 4, 13, 14, 82, 0, 26, 70, 34, 42, 15, 69, 17, 10, 30, 81, 23, 80, 32, 21, 12, 41, 28, 58, 2, 86, 59, 35, 74, 51, 8, 77, 22, 57, 27, 43, 19, 75, 88, 72, 50, 60, 6]\n",
      "[80, 5, 67, 46, 20, 43, 79, 18, 88, 17, 81, 84, 32, 0, 77, 58, 38, 25, 71, 30, 26, 27, 62, 48, 1, 49, 8, 37, 21, 15, 10, 24, 68, 78, 7, 41, 13, 85, 23, 52, 2, 40, 53, 33, 9, 44, 61, 73, 39, 45, 14, 28, 56, 6, 69, 22, 34, 63, 64, 55, 42, 74, 83, 66, 86, 51, 87, 70, 31, 3, 29, 11, 76, 72, 35, 16, 60, 50, 57, 59, 75, 36, 47, 65, 19, 54, 4, 12, 82]\n",
      "[32, 75, 80, 67, 54, 60]\n",
      "[65, 25, 62, 53, 61, 63, 82, 51, 21, 64, 50, 10, 72, 12, 28, 20, 45, 39, 23, 47, 43, 71, 6, 36, 46, 33, 83, 3, 5, 42, 87, 40, 34, 56, 48, 88, 70, 15, 55, 19, 84, 0, 31, 9, 4, 26, 17, 66, 38, 18, 76, 52, 77, 1, 78, 37, 79, 73, 22, 80, 67, 68, 59, 44, 81, 29, 35, 41, 27, 11, 60, 2, 24, 13, 30, 14, 58, 49, 85, 69, 57, 86, 74, 32, 16, 54, 8, 75, 7]\n",
      "[17, 26, 76, 83, 13, 25, 11, 6, 38, 58, 51, 73, 66, 33, 22, 42, 2, 78, 15, 20, 14, 1, 8, 82, 16, 34, 32, 52, 60, 54, 71, 45, 19, 3, 68, 59, 44, 30, 5, 46, 56, 75, 57, 41, 77, 7, 65, 31, 40, 49, 10, 50, 74, 21, 62, 81, 39, 29, 55, 24, 43, 63, 88, 4, 85, 9, 64, 35, 47, 18, 86, 72, 36, 70, 53, 84, 67, 48, 80, 23, 27, 69, 37, 0, 12, 61, 79, 28, 87]\n",
      "[50, 17, 46, 26, 15, 22, 1, 8, 5, 66, 79, 84, 75, 85, 2, 10, 76, 82, 62, 36, 20, 72, 16, 51, 52, 49, 59, 38, 27, 0, 13, 19, 65, 68, 80, 78, 47, 81, 63, 56, 61, 44, 40, 6, 4, 9, 55, 23, 71, 53, 70, 74, 57, 86, 7, 73, 69, 12, 11, 28, 77, 88, 37, 31, 64, 24, 41, 39, 67, 45, 3, 87, 42, 29, 83, 35, 54, 30, 33, 18, 32, 14, 25, 58, 34, 60, 21, 43, 48]\n",
      "[18, 37, 65, 64, 72, 17, 1, 46, 5, 22, 29, 34, 63, 15, 26, 56, 85, 25, 54, 86, 57, 2, 23, 20, 75, 32, 61, 51, 12, 60, 8, 13, 76, 31, 81, 42, 0, 33, 30, 48, 40, 11, 16, 52, 6, 67, 35, 83, 59, 88, 38, 78, 49, 62, 70, 84, 3, 80, 66, 55, 43, 9, 19, 82, 79, 44, 50, 27, 4, 87, 45, 53, 36, 39, 74, 47, 21, 41, 69, 24, 77, 14, 28, 7, 68, 10, 71, 58, 73]\n",
      "[50, 65, 85, 83, 70, 56, 45, 17, 47, 84, 64, 40, 2, 48, 28, 38, 80, 53, 81, 16, 15, 69, 3, 54, 76, 43, 12, 1, 0, 82, 42, 57, 87, 20, 52, 75, 22, 66, 72, 77, 14, 68, 13, 71, 30, 24, 79, 23, 5, 62, 63, 37, 11, 4, 67, 10, 36, 49, 26, 88, 58, 32, 9, 44, 46, 29, 86, 8, 74, 6, 31, 25, 59, 78, 34, 55, 27, 41, 39, 35, 19, 60, 61, 73, 21, 7, 33, 18, 51]\n",
      "[62, 63, 27, 3, 1, 31, 69, 74, 49, 81, 82, 57, 29, 56, 26, 61, 24, 65, 72, 58, 64, 60, 51, 70, 42, 18, 39, 47, 76, 14, 6, 2, 77, 21, 25, 8, 71, 75, 83, 13, 48, 30, 45, 11, 0, 5, 10, 33, 55, 41, 23, 4, 7, 43, 87, 85, 67, 53, 38, 54, 46, 9, 22, 88, 36, 68, 52, 16, 73, 66, 34, 79, 80, 84, 37, 28, 20, 15, 40, 78, 44, 86, 35, 50, 19, 12, 17, 59, 32]\n",
      "[32, 75, 80, 67, 54, 60]\n",
      "[45, 48, 18, 65, 29, 55, 69, 42, 25, 58, 28, 4, 87, 79, 57, 75, 17, 54, 78, 80, 51, 66, 10, 31, 52, 24, 63, 67, 9, 43, 44, 12, 47, 62, 27, 81, 73, 53, 71, 68, 72, 15, 21, 61, 74, 39, 76, 13, 5, 85, 7, 59, 6, 38, 41, 33, 70, 56, 11, 83, 88, 22, 64, 0, 2, 35, 60, 77, 1, 84, 26, 20, 3, 40, 46, 36, 49, 34, 82, 37, 23, 32, 86, 16, 14, 8, 19, 50, 30]\n",
      "[31, 54, 20, 11, 33, 3, 21, 1, 51, 2, 23, 59, 83, 28, 78, 47, 32, 57, 67, 29, 5, 80, 82, 34, 52, 17, 84, 46, 40, 14, 53, 58, 16, 77, 56, 66, 48, 13, 68, 71, 39, 24, 25, 41, 38, 69, 45, 26, 74, 81, 75, 61, 10, 86, 6, 85, 35, 18, 62, 19, 8, 76, 63, 27, 87, 60, 30, 12, 70, 15, 0, 49, 55, 88, 43, 65, 36, 64, 9, 79, 7, 72, 42, 50, 37, 73, 44, 22, 4]\n",
      "[17, 73, 0, 71, 87, 14, 30, 2, 69, 82, 3, 20, 74, 66, 45, 8, 81, 37, 70, 75, 34, 88, 47, 9, 50, 18, 51, 78, 15, 12, 22, 11, 63, 48, 16, 21, 4, 77, 36, 23, 33, 83, 54, 52, 43, 42, 32, 84, 49, 26, 10, 6, 7, 86, 58, 27, 39, 41, 53, 1, 65, 29, 40, 60, 24, 76, 64, 19, 59, 67, 35, 13, 85, 31, 38, 62, 55, 57, 61, 44, 80, 25, 68, 28, 56, 79, 5, 72, 46]\n",
      "[66, 64, 12, 18, 83, 48, 39, 43, 34, 68, 14, 51, 61, 16, 55, 24, 25, 10, 7, 86, 4, 53, 9, 65, 11, 84, 74, 50, 33, 20, 80, 41, 23, 27, 73, 69, 63, 82, 49, 2, 6, 40, 3, 31, 1, 37, 36, 28, 62, 72, 59, 19, 5, 79, 38, 0, 75, 13, 85, 42, 60, 78, 54, 26, 29, 81, 77, 56, 57, 45, 88, 47, 52, 15, 76, 87, 46, 58, 44, 32, 67, 21, 17, 30, 22, 35, 70, 8, 71]\n",
      "[65, 39, 59, 66, 52, 20, 81, 9, 32, 1, 80, 86, 77, 61, 50, 14, 88, 46, 64, 41, 33, 85, 5, 69, 53, 11, 82, 2, 83, 75, 68, 62, 34, 35, 78, 8, 73, 0, 40, 42, 12, 10, 36, 21, 67, 84, 29, 45, 27, 17, 16, 70, 74, 57, 76, 71, 19, 3, 26, 31, 60, 44, 47, 55, 4, 15, 87, 37, 22, 30, 72, 6, 38, 18, 79, 43, 51, 48, 24, 28, 54, 58, 49, 23, 63, 7, 56, 13, 25]\n",
      "[13, 78, 28, 73, 29, 47, 18, 81, 61, 45, 62, 66, 63, 56, 69, 76, 0, 2, 8, 34, 40, 11, 60, 83, 16, 46, 32, 17, 3, 5, 22, 25, 58, 15, 77, 4, 23, 6, 82, 55, 64, 24, 85, 19, 10, 59, 44, 48, 20, 31, 67, 53, 87, 72, 71, 26, 33, 65, 68, 7, 54, 30, 21, 79, 41, 75, 57, 86, 49, 84, 37, 88, 27, 43, 51, 35, 9, 36, 42, 74, 50, 70, 80, 12, 14, 52, 39, 1, 38]\n",
      "[32, 75, 80, 67, 54, 60]\n",
      "[82, 46, 44, 66, 16, 68, 34, 73, 23, 71, 50, 42, 65, 12, 79, 10, 57, 70, 80, 40, 59, 75, 56, 83, 20, 36, 38, 9, 54, 48, 58, 30, 0, 51, 69, 84, 81, 28, 31, 62, 45, 52, 14, 15, 43, 17, 55, 64, 87, 72, 8, 39, 33, 67, 41, 5, 27, 53, 60, 18, 24, 86, 35, 85, 25, 76, 61, 13, 29, 47, 88, 63, 2, 77, 21, 26, 78, 37, 1, 11, 6, 74, 3, 19, 49, 4, 22, 32, 7]\n",
      "[48, 79, 5, 61, 49, 60, 52, 76, 55, 18, 58, 7, 16, 57, 78, 36, 87, 40, 37, 34, 28, 84, 19, 10, 12, 21, 85, 17, 4, 9, 64, 6, 32, 41, 69, 11, 63, 8, 54, 43, 72, 81, 59, 65, 20, 47, 1, 35, 66, 62, 56, 3, 27, 29, 71, 70, 51, 80, 53, 46, 30, 77, 83, 26, 39, 86, 23, 13, 38, 82, 31, 15, 45, 0, 88, 33, 74, 14, 44, 68, 24, 25, 67, 73, 50, 22, 75, 42, 2]\n",
      "[4, 83, 51, 30, 64, 58, 43, 52, 19, 40, 73, 63, 20, 81, 54, 88, 84, 78, 74, 46, 60, 69, 38, 35, 53, 28, 61, 48, 47, 72, 11, 62, 8, 55, 5, 33, 71, 18, 16, 9, 2, 32, 65, 42, 85, 27, 6, 76, 7, 26, 39, 66, 45, 37, 12, 1, 13, 3, 75, 44, 70, 0, 17, 49, 15, 31, 34, 22, 21, 29, 67, 25, 57, 14, 80, 86, 36, 23, 68, 79, 41, 10, 24, 59, 50, 82, 87, 77, 56]\n",
      "[38, 57, 55, 70, 5, 47, 14, 69, 79, 62, 52, 27, 53, 74, 75, 42, 56, 50, 15, 60, 54, 82, 8, 86, 29, 85, 6, 10, 80, 9, 48, 84, 37, 23, 44, 21, 18, 78, 32, 77, 0, 83, 30, 39, 17, 72, 25, 43, 46, 1, 13, 87, 28, 40, 66, 4, 7, 67, 41, 88, 51, 68, 45, 64, 36, 71, 2, 65, 11, 22, 24, 19, 16, 20, 58, 61, 63, 12, 35, 76, 26, 3, 73, 34, 33, 31, 49, 59, 81]\n",
      "[44, 51, 0, 84, 16, 6, 85, 7, 74, 21, 30, 8, 14, 60, 38, 78, 88, 67, 45, 13, 2, 49, 43, 59, 57, 32, 23, 54, 82, 31, 62, 68, 55, 52, 26, 20, 81, 15, 24, 48, 80, 53, 61, 71, 3, 41, 11, 18, 58, 50, 12, 79, 19, 75, 37, 27, 9, 17, 70, 5, 40, 10, 87, 56, 66, 34, 86, 65, 76, 29, 42, 77, 72, 1, 47, 4, 64, 69, 63, 83, 35, 46, 25, 28, 36, 39, 73, 33, 22]\n",
      "[61, 33, 40, 38, 45, 77, 31, 5, 75, 70, 39, 23, 27, 68, 18, 82, 25, 57, 34, 21, 37, 48, 54, 80, 1, 32, 87, 56, 86, 74, 62, 36, 73, 43, 22, 6, 55, 15, 71, 78, 81, 10, 88, 52, 69, 8, 24, 2, 50, 49, 7, 13, 65, 42, 28, 26, 79, 84, 14, 4, 44, 35, 20, 64, 51, 60, 3, 17, 46, 67, 59, 63, 85, 16, 76, 83, 11, 30, 41, 47, 58, 19, 9, 29, 0, 72, 12, 53, 66]\n",
      "[32, 75, 80, 67, 54, 60]\n",
      "[53, 2, 40, 71, 7, 50, 87, 78, 25, 42, 54, 70, 0, 67, 10, 26, 28, 8, 63, 21, 79, 57, 85, 47, 20, 66, 17, 16, 65, 12, 22, 9, 88, 37, 23, 1, 73, 33, 30, 45, 29, 51, 5, 76, 35, 64, 38, 6, 49, 69, 56, 82, 75, 14, 39, 62, 15, 24, 83, 41, 44, 55, 81, 46, 52, 19, 34, 27, 84, 77, 3, 32, 13, 31, 43, 72, 4, 86, 80, 74, 60, 36, 11, 61, 58, 48, 18, 59, 68]\n",
      "[57, 79, 47, 68, 44, 88, 70, 49, 36, 50, 38, 56, 59, 39, 43, 60, 85, 51, 0, 15, 18, 19, 53, 73, 42, 58, 25, 22, 14, 7, 29, 33, 64, 74, 6, 2, 69, 75, 9, 48, 1, 61, 40, 87, 20, 37, 72, 65, 12, 4, 76, 35, 45, 41, 34, 63, 3, 67, 32, 21, 81, 24, 23, 55, 46, 78, 8, 31, 5, 10, 27, 83, 30, 80, 26, 52, 54, 17, 62, 86, 11, 71, 77, 16, 28, 84, 13, 82, 66]\n",
      "[59, 68, 13, 37, 61, 47, 48, 63, 30, 52, 46, 58, 28, 86, 40, 77, 26, 19, 7, 38, 17, 23, 14, 29, 41, 87, 6, 57, 39, 36, 85, 1, 81, 43, 22, 9, 72, 11, 84, 83, 79, 15, 54, 73, 44, 18, 16, 5, 76, 42, 51, 70, 55, 33, 82, 8, 60, 69, 64, 2, 45, 65, 67, 71, 32, 66, 27, 3, 62, 12, 74, 4, 49, 75, 24, 88, 50, 0, 21, 53, 56, 20, 34, 35, 25, 78, 31, 80, 10]\n",
      "[51, 73, 47, 30, 66, 87, 24, 34, 33, 41, 49, 15, 7, 29, 80, 58, 13, 38, 26, 19, 3, 83, 75, 6, 59, 53, 37, 70, 65, 84, 64, 46, 63, 74, 9, 55, 23, 85, 22, 71, 54, 52, 4, 8, 16, 10, 42, 68, 62, 1, 81, 79, 20, 69, 11, 48, 0, 39, 14, 76, 5, 60, 72, 2, 50, 43, 18, 44, 57, 25, 32, 27, 56, 78, 21, 67, 35, 40, 17, 31, 61, 77, 12, 28, 86, 88, 36, 45, 82]\n",
      "[13, 54, 77, 52, 35, 10, 21, 12, 31, 9, 85, 44, 59, 40, 15, 6, 33, 73, 62, 14, 36, 23, 53, 1, 49, 87, 30, 38, 78, 37, 0, 17, 75, 48, 69, 84, 82, 80, 86, 65, 5, 79, 88, 60, 46, 70, 39, 29, 68, 4, 81, 50, 45, 20, 83, 19, 34, 22, 42, 27, 72, 16, 57, 56, 41, 58, 8, 24, 71, 51, 7, 67, 61, 66, 43, 47, 32, 74, 63, 11, 3, 25, 2, 64, 55, 76, 26, 28, 18]\n",
      "[13, 70, 79, 18, 15, 81, 8, 6, 39, 0, 29, 9, 24, 45, 65, 78, 76, 88, 86, 30, 25, 71, 50, 21, 59, 55, 35, 38, 63, 36, 53, 57, 3, 32, 60, 47, 74, 22, 10, 80, 64, 87, 43, 83, 48, 62, 42, 19, 2, 27, 68, 34, 17, 85, 67, 26, 51, 31, 41, 72, 69, 11, 7, 82, 73, 84, 49, 12, 52, 77, 40, 14, 54, 58, 61, 46, 16, 1, 5, 33, 20, 28, 56, 44, 75, 37, 23, 4, 66]\n",
      "[32, 75, 80, 67, 54, 60]\n",
      "[58, 50, 64, 13, 20, 85, 30, 79, 40, 26, 67, 62, 22, 73, 18, 43, 9, 57, 86, 7, 70, 39, 36, 56, 32, 3, 35, 0, 75, 42, 15, 49, 83, 78, 5, 76, 24, 74, 82, 11, 12, 54, 19, 60, 2, 6, 45, 53, 47, 29, 44, 34, 65, 33, 1, 55, 68, 4, 69, 71, 28, 87, 81, 27, 77, 14, 25, 48, 88, 63, 16, 66, 72, 10, 51, 41, 23, 38, 52, 8, 61, 17, 46, 21, 84, 37, 31, 59, 80]\n",
      "[88, 69, 6, 0, 22, 70, 35, 54, 43, 40, 76, 37, 3, 57, 20, 11, 79, 5, 25, 72, 63, 49, 53, 75, 48, 87, 4, 47, 46, 31, 41, 58, 51, 64, 42, 27, 1, 24, 18, 34, 71, 26, 15, 78, 50, 85, 32, 81, 68, 2, 28, 9, 7, 21, 82, 16, 86, 65, 17, 52, 8, 83, 30, 73, 23, 61, 60, 59, 39, 77, 12, 84, 74, 45, 66, 14, 80, 10, 55, 33, 44, 13, 29, 67, 62, 36, 19, 56, 38]\n",
      "[13, 37, 70, 74, 16, 48, 19, 40, 60, 67, 53, 71, 0, 62, 57, 63, 80, 30, 72, 43, 18, 9, 28, 49, 4, 82, 3, 34, 35, 17, 24, 10, 6, 77, 65, 86, 31, 1, 51, 85, 27, 69, 38, 5, 22, 58, 61, 26, 8, 50, 88, 23, 39, 84, 83, 44, 11, 68, 55, 21, 66, 76, 52, 12, 47, 41, 54, 25, 42, 36, 29, 81, 73, 2, 46, 79, 75, 45, 78, 32, 56, 64, 14, 15, 87, 20, 59, 33, 7]\n",
      "[14, 87, 0, 73, 17, 6, 40, 2, 41, 69, 57, 45, 10, 52, 27, 86, 15, 53, 58, 65, 13, 29, 76, 85, 66, 88, 37, 77, 1, 30, 79, 64, 5, 7, 25, 23, 61, 28, 82, 70, 18, 11, 71, 42, 22, 44, 78, 16, 49, 75, 35, 4, 51, 60, 74, 47, 8, 72, 55, 21, 39, 38, 20, 83, 81, 24, 9, 12, 36, 19, 43, 59, 33, 62, 3, 34, 67, 32, 56, 46, 84, 80, 50, 31, 68, 48, 63, 54, 26]\n",
      "[59, 43, 23, 41, 45, 46, 86, 61, 71, 88, 22, 18, 54, 14, 53, 31, 24, 33, 39, 87, 47, 26, 5, 6, 10, 76, 84, 72, 81, 32, 80, 70, 21, 11, 85, 49, 65, 60, 57, 55, 64, 77, 58, 62, 63, 12, 52, 36, 48, 37, 9, 7, 82, 28, 2, 34, 20, 50, 30, 40, 17, 79, 74, 66, 16, 68, 42, 69, 4, 67, 75, 19, 27, 78, 51, 15, 38, 8, 83, 3, 44, 25, 0, 29, 13, 56, 35, 1, 73]\n",
      "[9, 52, 84, 43, 39, 31, 64, 7, 75, 12, 22, 77, 57, 58, 24, 37, 0, 35, 66, 86, 47, 15, 55, 87, 49, 81, 29, 4, 28, 32, 72, 63, 54, 60, 46, 80, 65, 73, 40, 17, 51, 42, 74, 27, 78, 53, 25, 30, 88, 70, 83, 18, 11, 45, 34, 21, 44, 71, 1, 14, 8, 38, 79, 16, 59, 48, 68, 6, 13, 61, 20, 33, 23, 56, 26, 10, 67, 3, 82, 41, 36, 2, 69, 5, 19, 62, 85, 50, 76]\n",
      "[32, 75, 80, 67, 54, 60]\n",
      "[43, 54, 70, 9, 6, 14, 5, 47, 42, 66, 85, 41, 23, 49, 44, 33, 74, 86, 60, 40, 17, 35, 82, 11, 62, 31, 80, 3, 37, 75, 8, 20, 39, 18, 38, 30, 29, 87, 22, 50, 72, 58, 52, 57, 68, 64, 26, 19, 24, 36, 55, 2, 21, 84, 15, 10, 78, 79, 7, 81, 63, 77, 67, 34, 1, 4, 25, 45, 28, 65, 73, 16, 83, 27, 61, 48, 13, 71, 76, 32, 51, 53, 46, 69, 0, 59, 12, 56, 88]\n",
      "[37, 11, 67, 9, 19, 84, 77, 31, 74, 12, 69, 59, 4, 39, 79, 27, 36, 16, 73, 50, 3, 48, 56, 71, 33, 81, 46, 88, 44, 42, 43, 15, 72, 20, 18, 53, 1, 51, 0, 85, 64, 26, 70, 49, 32, 34, 17, 28, 83, 82, 35, 52, 55, 22, 78, 58, 63, 29, 47, 57, 23, 21, 14, 2, 65, 41, 7, 62, 8, 60, 61, 86, 54, 45, 68, 87, 38, 66, 24, 13, 30, 76, 80, 6, 75, 10, 25, 40, 5]\n",
      "[31, 42, 0, 34, 21, 23, 48, 16, 82, 74, 52, 58, 87, 47, 17, 71, 30, 28, 80, 46, 35, 13, 73, 38, 64, 2, 27, 29, 84, 5, 22, 19, 66, 26, 14, 85, 18, 8, 57, 56, 37, 54, 70, 43, 86, 49, 75, 20, 4, 3, 36, 51, 62, 63, 50, 72, 76, 79, 68, 61, 39, 11, 44, 53, 77, 67, 65, 55, 15, 69, 1, 81, 9, 60, 24, 6, 88, 10, 25, 7, 41, 12, 59, 33, 83, 45, 40, 32, 78]\n",
      "[20, 78, 11, 82, 69, 54, 8, 87, 22, 13, 34, 46, 9, 57, 77, 21, 43, 76, 35, 30, 4, 29, 25, 52, 7, 70, 14, 80, 16, 37, 38, 88, 83, 55, 39, 81, 41, 59, 61, 24, 18, 75, 40, 45, 12, 74, 67, 10, 27, 28, 5, 42, 6, 26, 47, 53, 56, 36, 50, 63, 66, 71, 1, 86, 65, 84, 3, 60, 17, 2, 85, 68, 44, 51, 33, 31, 73, 49, 32, 58, 48, 19, 72, 0, 64, 62, 15, 23, 79]\n",
      "[26, 61, 52, 58, 37, 73, 8, 59, 63, 76, 64, 10, 5, 21, 29, 12, 57, 56, 16, 51, 48, 2, 23, 55, 30, 1, 69, 47, 3, 19, 86, 34, 14, 13, 70, 87, 75, 72, 68, 88, 31, 79, 45, 43, 6, 20, 44, 54, 53, 38, 7, 28, 50, 82, 85, 0, 4, 71, 74, 35, 32, 77, 27, 46, 22, 83, 65, 49, 42, 81, 62, 24, 41, 60, 11, 25, 18, 80, 40, 78, 17, 39, 84, 67, 15, 36, 9, 66, 33]\n",
      "[84, 5, 21, 32, 82, 30, 27, 78, 34, 16, 86, 44, 47, 59, 14, 28, 50, 55, 1, 73, 36, 57, 87, 76, 88, 61, 2, 71, 45, 29, 70, 13, 18, 35, 0, 26, 74, 68, 37, 46, 17, 33, 31, 60, 79, 4, 6, 65, 23, 64, 10, 12, 40, 8, 49, 58, 51, 19, 38, 75, 69, 56, 72, 39, 63, 42, 67, 25, 54, 43, 77, 41, 3, 53, 24, 48, 81, 52, 80, 22, 62, 9, 15, 66, 85, 83, 11, 7, 20]\n"
     ]
    },
    {
     "name": "stdout",
     "output_type": "stream",
     "text": [
      "[32, 75, 80, 67, 54, 60]\n"
     ]
    }
   ],
   "source": [
    "losses = []\n",
    "X = wine_standardized.sample(frac = .5).to_numpy().transpose()[:dimension,:]\n",
    "for a in range(25):\n",
    "    output = greedy(X, isometry_loss, dimension, []) # plainly brute is too hard 178**13 combinations\n",
    "    print(output)\n",
    "    loss = isometry_loss(X[:,output])\n",
    "    losses.append(loss)"
   ]
  },
  {
   "cell_type": "code",
   "execution_count": 138,
   "id": "87a35bb5",
   "metadata": {},
   "outputs": [
    {
     "data": {
      "text/plain": [
       "[7.9967449359834095,\n",
       " 7.9967449359834095,\n",
       " 7.9967449359834095,\n",
       " 7.9967449359834095,\n",
       " 7.9967449359834095,\n",
       " 7.9967449359834095,\n",
       " 7.9967449359834095,\n",
       " 7.9967449359834095,\n",
       " 7.9967449359834095,\n",
       " 7.9967449359834095,\n",
       " 7.9967449359834095,\n",
       " 7.9967449359834095,\n",
       " 7.9967449359834095,\n",
       " 7.9967449359834095,\n",
       " 7.9967449359834095,\n",
       " 7.9967449359834095,\n",
       " 7.9967449359834095,\n",
       " 7.9967449359834095,\n",
       " 7.9967449359834095,\n",
       " 7.9967449359834095,\n",
       " 7.9967449359834095,\n",
       " 7.9967449359834095,\n",
       " 7.9967449359834095,\n",
       " 7.9967449359834095,\n",
       " 7.9967449359834095]"
      ]
     },
     "execution_count": 138,
     "metadata": {},
     "output_type": "execute_result"
    }
   ],
   "source": [
    "losses"
   ]
  },
  {
   "cell_type": "code",
   "execution_count": 111,
   "id": "30c3d2a4",
   "metadata": {},
   "outputs": [],
   "source": [
    "import random\n"
   ]
  },
  {
   "cell_type": "code",
   "execution_count": 115,
   "id": "ccb72da9",
   "metadata": {},
   "outputs": [],
   "source": [
    "q = list(range(10))"
   ]
  },
  {
   "cell_type": "code",
   "execution_count": 116,
   "id": "552a2ea9",
   "metadata": {},
   "outputs": [],
   "source": [
    "random.shuffle(q)"
   ]
  },
  {
   "cell_type": "code",
   "execution_count": 117,
   "id": "9d436536",
   "metadata": {},
   "outputs": [
    {
     "data": {
      "text/plain": [
       "[8, 7, 4, 3, 6, 0, 5, 9, 1, 2]"
      ]
     },
     "execution_count": 117,
     "metadata": {},
     "output_type": "execute_result"
    }
   ],
   "source": [
    "q"
   ]
  },
  {
   "cell_type": "code",
   "execution_count": null,
   "id": "ce54d786",
   "metadata": {},
   "outputs": [],
   "source": []
  }
 ],
 "metadata": {
  "kernelspec": {
   "display_name": "isometry_pursuit",
   "language": "python",
   "name": "isometry_pursuit"
  },
  "language_info": {
   "codemirror_mode": {
    "name": "ipython",
    "version": 3
   },
   "file_extension": ".py",
   "mimetype": "text/x-python",
   "name": "python",
   "nbconvert_exporter": "python",
   "pygments_lexer": "ipython3",
   "version": "3.10.14"
  }
 },
 "nbformat": 4,
 "nbformat_minor": 5
}

{
 "cells": [
  {
   "cell_type": "code",
   "execution_count": 1,
   "id": "b2927de2",
   "metadata": {},
   "outputs": [
    {
     "name": "stdout",
     "output_type": "stream",
     "text": [
      "Loading ethanol data\n"
     ]
    }
   ],
   "source": [
    "%load_ext autoreload\n",
    "%autoreload 2\n",
    "import numpy as np\n",
    "import random\n",
    "import json\n",
    "import torch\n",
    "from convexlocalisometry.vendor import HParams\n",
    "from convexlocalisometry.atomic_geometry import get_atoms3_full, get_atoms4_full, get_atoms_4\n",
    "import itertools\n",
    "\n",
    "print('Loading ethanol data')\n",
    "\n",
    "config_path = \"/Users/samsonkoelle/montlake/experiments/configs/ethanol_full.json\"\n",
    "raw_data = \"/Users/samsonkoelle/thesis_data/raw_data/ethanol.mat\"\n",
    "\n",
    "positions = np.load('/Users/samsonkoelle/positions.npy')\n",
    "randomindices = np.load('/Users/samsonkoelle/indices.npy')\n",
    "\n",
    "np.random.seed(1234)\n",
    "random.seed(1234)\n",
    "\n",
    "config = {}\n",
    "\n",
    "with open(config_path) as f:\n",
    "    config.update(json.load(f))\n",
    "\n",
    "hparams = HParams(**config)"
   ]
  },
  {
   "cell_type": "code",
   "execution_count": 2,
   "id": "37685702",
   "metadata": {},
   "outputs": [],
   "source": [
    "d = hparams.d\n",
    "n_components = hparams.n_components\n",
    "atoms2_feat = hparams.atoms2_feat\n",
    "atoms3_feat = hparams.atoms3_feat\n",
    "atoms4_feat = hparams.atoms4_feat\n",
    "atoms2_dict = hparams.atoms2_dict\n",
    "atoms3_dict = hparams.atoms3_dict\n",
    "atoms4_dict = hparams.atoms4_dict\n",
    "diagram = hparams.diagram\n",
    "\n",
    "ii = np.asarray(hparams.ii)\n",
    "jj = np.asarray(hparams.jj)\n",
    "#load geometric features\n",
    "natoms = positions.shape[1]\n",
    "n = positions.shape[0]\n",
    "atoms2 = np.asarray(list(itertools.combinations(range(natoms), 2)))\n",
    "atoms2full = atoms2\n",
    "atoms3 = np.asarray(list(itertools.combinations(range(natoms), 3)))\n",
    "atoms4 = np.asarray(list(itertools.combinations(range(natoms), 4)))\n",
    "atoms3full = get_atoms3_full(atoms3)\n",
    "atoms4full = get_atoms4_full(atoms4)\n",
    "\n",
    "if atoms2_feat:\n",
    "    atoms2_feats = atoms2full\n",
    "else:\n",
    "    atoms2_feats = np.asarray([])\n",
    "\n",
    "if atoms3_feat:\n",
    "    atoms3_feats = atoms3full\n",
    "else:\n",
    "    atoms3_feats = np.asarray([])\n",
    "\n",
    "if atoms4_feat:\n",
    "    atoms4_feats = atoms4full\n",
    "else:\n",
    "    atoms4_feats = np.asarray([])"
   ]
  },
  {
   "cell_type": "code",
   "execution_count": 3,
   "id": "f921202b",
   "metadata": {},
   "outputs": [],
   "source": [
    "data = np.load('/Users/samsonkoelle/ethanolanglesfull_0524.npy')\n",
    "n_neighbors = hparams.n_neighbors\n",
    "atoms4_dicts= get_atoms_4(natoms, ii, jj)[0]\n",
    "if atoms2_dict:\n",
    "    atoms2_dicts = atoms2full\n",
    "else:\n",
    "    atoms2_dicts = np.asarray([])\n",
    "if atoms3_dict:\n",
    "    atoms3_dicts = atoms3full\n",
    "else:\n",
    "    atoms3_dicts = np.asarray([])\n"
   ]
  },
  {
   "cell_type": "code",
   "execution_count": 4,
   "id": "4fbf4e62",
   "metadata": {},
   "outputs": [
    {
     "name": "stderr",
     "output_type": "stream",
     "text": [
      "/Users/samsonkoelle/miniconda3/envs/isometry/lib/python3.10/site-packages/threadpoolctl.py:1214: RuntimeWarning: \n",
      "Found Intel OpenMP ('libiomp') and LLVM OpenMP ('libomp') loaded at\n",
      "the same time. Both libraries are known to be incompatible and this\n",
      "can cause random crashes or deadlocks on Linux when loaded in the\n",
      "same Python program.\n",
      "Using threadpoolctl may cause crashes or deadlocks. For more\n",
      "information and possible workarounds, please see\n",
      "    https://github.com/joblib/threadpoolctl/blob/master/multiple_openmp.md\n",
      "\n",
      "  warnings.warn(msg, RuntimeWarning)\n"
     ]
    }
   ],
   "source": [
    "from scipy import sparse\n",
    "from convexlocalisometry.transformation import exponential_transformation\n",
    "from convexlocalisometry.manifold import local_pca\n",
    "from convexlocalisometry.atomic_geometry import get_D_feats_feats\n",
    "\n",
    "nsel = 100\n",
    "dimension = 2\n",
    "p = atoms4full.shape[0]\n",
    "\n",
    "selected_points = np.random.choice(range(50000),nsel)\n",
    "dg_x = np.asarray([get_D_feats_feats(positions[selected_points[i]],\n",
    "           atoms2in = atoms2_feats,\n",
    "           atoms3in = atoms3_feats,\n",
    "           atoms4in = atoms4_feats,\n",
    "           atoms2out = atoms2_dicts,\n",
    "           atoms3out = atoms3_dicts,\n",
    "           atoms4out = atoms4full) for i in range(nsel)])                           \n",
    "\n",
    "power = 1\n"
   ]
  },
  {
   "cell_type": "code",
   "execution_count": 5,
   "id": "6febb051",
   "metadata": {},
   "outputs": [],
   "source": [
    "dg_M = np.zeros((nsel, dimension, p))\n",
    "for i, sp in enumerate(selected_points):\n",
    "    tangent_bases = local_pca(data, sp, n_neighbors, dimension)\n",
    "    # NOTE (Sam): normalization prior to projection once again in the manifold case.\n",
    "    dg_x_normalized = exponential_transformation(dg_x[i], power)\n",
    "    dg_M[i] = np.einsum('b p, b d -> d p', dg_x_normalized, tangent_bases)"
   ]
  },
  {
   "cell_type": "code",
   "execution_count": 6,
   "id": "2c838ea8",
   "metadata": {},
   "outputs": [],
   "source": [
    "from convexlocalisometry.algorithm import greedy, group_basis_pursuit, brute\n",
    "from convexlocalisometry.loss import isometry_loss\n",
    "from tqdm import tqdm"
   ]
  },
  {
   "cell_type": "code",
   "execution_count": 7,
   "id": "d7fe3759",
   "metadata": {},
   "outputs": [
    {
     "name": "stderr",
     "output_type": "stream",
     "text": [
      "  0%|                                                                                                 | 0/100 [00:00<?, ?it/s]/Users/samsonkoelle/convexlocalisometry/convexlocalisometry/loss.py:14: RuntimeWarning: overflow encountered in exp\n",
      "  (np.exp(singular_values) + np.exp(singular_values ** (-1))) / (2 * np.e)\n",
      "/Users/samsonkoelle/convexlocalisometry/convexlocalisometry/transformation.py:27: RuntimeWarning: overflow encountered in exp\n",
      "  exp_values = ((np.exp(norms) + np.exp(norms ** (-1))) ** (-1)) * 2 * np.e\n",
      "/Users/samsonkoelle/miniconda3/envs/isometry/lib/python3.10/site-packages/cvxpy/problems/problem.py:1407: UserWarning: Solution may be inaccurate. Try another solver, adjusting the solver settings, or solve with verbose=True for more information.\n",
      "  warnings.warn(\n"
     ]
    },
    {
     "name": "stdout",
     "output_type": "stream",
     "text": [
      "Computing brute force solution for dictionary dimension 3 and target_dimension 2\n"
     ]
    },
    {
     "name": "stderr",
     "output_type": "stream",
     "text": [
      "\n",
      "3it [00:00, 8427.94it/s]\n",
      "  1%|▉                                                                                        | 1/100 [00:08<13:15,  8.03s/it]"
     ]
    },
    {
     "name": "stdout",
     "output_type": "stream",
     "text": [
      "Computing brute force solution for dictionary dimension 3 and target_dimension 2\n"
     ]
    },
    {
     "name": "stderr",
     "output_type": "stream",
     "text": [
      "\n",
      "3it [00:00, 6260.16it/s]\n",
      "  2%|█▊                                                                                       | 2/100 [00:15<12:52,  7.88s/it]"
     ]
    },
    {
     "name": "stdout",
     "output_type": "stream",
     "text": [
      "Computing brute force solution for dictionary dimension 3 and target_dimension 2\n"
     ]
    },
    {
     "name": "stderr",
     "output_type": "stream",
     "text": [
      "\n",
      "3it [00:00, 4155.52it/s]\n",
      "  3%|██▋                                                                                      | 3/100 [00:23<12:40,  7.84s/it]"
     ]
    },
    {
     "name": "stdout",
     "output_type": "stream",
     "text": [
      "Computing brute force solution for dictionary dimension 3 and target_dimension 2\n"
     ]
    },
    {
     "name": "stderr",
     "output_type": "stream",
     "text": [
      "\n",
      "3it [00:00, 5929.74it/s]\n",
      "  4%|███▌                                                                                     | 4/100 [00:31<12:35,  7.87s/it]"
     ]
    },
    {
     "name": "stdout",
     "output_type": "stream",
     "text": [
      "Computing brute force solution for dictionary dimension 3 and target_dimension 2\n"
     ]
    },
    {
     "name": "stderr",
     "output_type": "stream",
     "text": [
      "\n",
      "3it [00:00, 9649.47it/s]\n",
      "  5%|████▍                                                                                    | 5/100 [00:39<12:27,  7.87s/it]"
     ]
    },
    {
     "name": "stdout",
     "output_type": "stream",
     "text": [
      "Computing brute force solution for dictionary dimension 389 and target_dimension 2\n"
     ]
    },
    {
     "name": "stderr",
     "output_type": "stream",
     "text": [
      "\n",
      "0it [00:00, ?it/s]\u001b[A\n",
      "3561it [00:00, 35607.06it/s]\u001b[A\n",
      "7192it [00:00, 35991.34it/s]\u001b[A\n",
      "10792it [00:00, 34824.36it/s]\u001b[A\n",
      "14279it [00:00, 34497.07it/s]\u001b[A\n",
      "17732it [00:00, 34369.14it/s]\u001b[A\n",
      "21171it [00:00, 34096.16it/s]\u001b[A\n",
      "24719it [00:00, 34539.35it/s]\u001b[A\n",
      "28238it [00:00, 34743.23it/s]\u001b[A\n",
      "31765it [00:00, 34904.40it/s]\u001b[A\n",
      "35409it [00:01, 35372.94it/s]\u001b[A\n",
      "39018it [00:01, 35588.51it/s]\u001b[A\n",
      "42578it [00:01, 35362.73it/s]\u001b[A\n",
      "46220it [00:01, 35679.71it/s]\u001b[A\n",
      "49789it [00:01, 35364.73it/s]\u001b[A\n",
      "53425it [00:01, 35659.07it/s]\u001b[A\n",
      "56992it [00:01, 35254.67it/s]\u001b[A\n",
      "60586it [00:01, 35455.74it/s]\u001b[A\n",
      "64133it [00:01, 34968.22it/s]\u001b[A\n",
      "67632it [00:01, 34747.09it/s]\u001b[A\n",
      "71112it [00:02, 34761.41it/s]\u001b[A\n",
      "75466it [00:02, 34994.82it/s]\u001b[A\n",
      "  6%|█████▎                                                                                   | 6/100 [00:49<13:33,  8.65s/it]"
     ]
    },
    {
     "name": "stdout",
     "output_type": "stream",
     "text": [
      "Computing brute force solution for dictionary dimension 3 and target_dimension 2\n"
     ]
    },
    {
     "name": "stderr",
     "output_type": "stream",
     "text": [
      "\n",
      "3it [00:00, 4436.85it/s]\n",
      "  7%|██████▏                                                                                  | 7/100 [00:57<13:09,  8.49s/it]"
     ]
    },
    {
     "name": "stdout",
     "output_type": "stream",
     "text": [
      "Computing brute force solution for dictionary dimension 3 and target_dimension 2\n"
     ]
    },
    {
     "name": "stderr",
     "output_type": "stream",
     "text": [
      "\n",
      "3it [00:00, 8176.03it/s]\n",
      "  8%|███████                                                                                  | 8/100 [01:05<12:40,  8.26s/it]"
     ]
    },
    {
     "name": "stdout",
     "output_type": "stream",
     "text": [
      "Computing brute force solution for dictionary dimension 3 and target_dimension 2\n"
     ]
    },
    {
     "name": "stderr",
     "output_type": "stream",
     "text": [
      "\n",
      "3it [00:00, 8936.73it/s]\n",
      "  9%|████████                                                                                 | 9/100 [01:13<12:26,  8.20s/it]"
     ]
    },
    {
     "name": "stdout",
     "output_type": "stream",
     "text": [
      "Computing brute force solution for dictionary dimension 444 and target_dimension 2\n"
     ]
    },
    {
     "name": "stderr",
     "output_type": "stream",
     "text": [
      "\n",
      "0it [00:00, ?it/s]\u001b[A\n",
      "3333it [00:00, 33327.01it/s]\u001b[A\n",
      "6837it [00:00, 34327.36it/s]\u001b[A\n",
      "10363it [00:00, 34749.51it/s]\u001b[A\n",
      "13838it [00:00, 34668.80it/s]\u001b[A\n",
      "17395it [00:00, 34992.38it/s]\u001b[A\n",
      "20895it [00:00, 33302.75it/s]\u001b[A\n",
      "24375it [00:00, 33775.26it/s]\u001b[A\n",
      "27822it [00:00, 33988.77it/s]\u001b[A\n",
      "31302it [00:00, 34237.53it/s]\u001b[A\n",
      "34833it [00:01, 34564.05it/s]\u001b[A\n",
      "38294it [00:01, 34138.88it/s]\u001b[A\n",
      "41963it [00:01, 34902.91it/s]\u001b[A\n",
      "45458it [00:01, 34254.46it/s]\u001b[A\n",
      "49004it [00:01, 34602.18it/s]\u001b[A\n",
      "52674it [00:01, 35222.81it/s]\u001b[A\n",
      "56224it [00:01, 35302.54it/s]\u001b[A\n",
      "59757it [00:01, 34950.98it/s]\u001b[A\n",
      "63255it [00:01, 34461.14it/s]\u001b[A\n",
      "66849it [00:01, 34896.55it/s]\u001b[A\n",
      "70471it [00:02, 35284.22it/s]\u001b[A\n",
      "74002it [00:02, 34732.99it/s]\u001b[A\n",
      "77577it [00:02, 35032.11it/s]\u001b[A\n",
      "81185it [00:02, 35340.06it/s]\u001b[A\n",
      "84932it [00:02, 35971.94it/s]\u001b[A\n",
      "88532it [00:02, 35856.81it/s]\u001b[A\n",
      "92120it [00:02, 35784.28it/s]\u001b[A\n",
      "98346it [00:02, 34840.99it/s]\u001b[A\n",
      " 10%|████████▊                                                                               | 10/100 [01:24<13:33,  9.04s/it]"
     ]
    },
    {
     "name": "stdout",
     "output_type": "stream",
     "text": [
      "Computing brute force solution for dictionary dimension 3 and target_dimension 2\n"
     ]
    },
    {
     "name": "stderr",
     "output_type": "stream",
     "text": [
      "\n",
      "3it [00:00, 10494.51it/s]\n",
      " 11%|█████████▋                                                                              | 11/100 [01:32<13:05,  8.82s/it]"
     ]
    },
    {
     "name": "stdout",
     "output_type": "stream",
     "text": [
      "Computing brute force solution for dictionary dimension 267 and target_dimension 2\n"
     ]
    },
    {
     "name": "stderr",
     "output_type": "stream",
     "text": [
      "\n",
      "0it [00:00, ?it/s]\u001b[A\n",
      "3383it [00:00, 33827.69it/s]\u001b[A\n",
      "6875it [00:00, 34467.13it/s]\u001b[A\n",
      "10404it [00:00, 34841.69it/s]\u001b[A\n",
      "14039it [00:00, 35433.50it/s]\u001b[A\n",
      "17583it [00:00, 35126.15it/s]\u001b[A\n",
      "21117it [00:00, 35196.77it/s]\u001b[A\n",
      "24662it [00:00, 35276.04it/s]\u001b[A\n",
      "28258it [00:00, 35490.82it/s]\u001b[A\n",
      "35511it [00:01, 35326.53it/s]\u001b[A\n",
      " 12%|██████████▌                                                                             | 12/100 [01:41<12:59,  8.86s/it]"
     ]
    },
    {
     "name": "stdout",
     "output_type": "stream",
     "text": [
      "Computing brute force solution for dictionary dimension 441 and target_dimension 2\n"
     ]
    },
    {
     "name": "stderr",
     "output_type": "stream",
     "text": [
      "\n",
      "0it [00:00, ?it/s]\u001b[A\n",
      "3412it [00:00, 34112.14it/s]\u001b[A\n",
      "6962it [00:00, 34923.72it/s]\u001b[A\n",
      "10538it [00:00, 35302.63it/s]\u001b[A\n",
      "14088it [00:00, 35376.79it/s]\u001b[A\n",
      "17626it [00:00, 34945.53it/s]\u001b[A\n",
      "21122it [00:00, 34854.50it/s]\u001b[A\n",
      "24731it [00:00, 35252.69it/s]\u001b[A\n",
      "28338it [00:00, 35508.86it/s]\u001b[A\n",
      "32068it [00:00, 36065.80it/s]\u001b[A\n",
      "35701it [00:01, 36146.03it/s]\u001b[A\n",
      "39317it [00:01, 36079.53it/s]\u001b[A\n",
      "43076it [00:01, 36535.06it/s]\u001b[A\n",
      "46730it [00:01, 35984.80it/s]\u001b[A\n",
      "50418it [00:01, 36251.20it/s]\u001b[A\n",
      "54091it [00:01, 36391.29it/s]\u001b[A\n",
      "57732it [00:01, 35623.03it/s]\u001b[A\n",
      "61299it [00:01, 35450.96it/s]\u001b[A\n",
      "64847it [00:01, 35434.82it/s]\u001b[A\n",
      "68410it [00:01, 35492.07it/s]\u001b[A\n",
      "71983it [00:02, 35561.50it/s]\u001b[A\n",
      "75541it [00:02, 35237.78it/s]\u001b[A\n",
      "79296it [00:02, 35923.46it/s]\u001b[A\n",
      "82995it [00:02, 36238.39it/s]\u001b[A\n",
      "86621it [00:02, 36129.55it/s]\u001b[A\n",
      "90235it [00:02, 34521.62it/s]\u001b[A\n",
      "97020it [00:02, 35164.98it/s]\u001b[A\n",
      " 13%|███████████▍                                                                            | 13/100 [01:52<13:39,  9.42s/it]"
     ]
    },
    {
     "name": "stdout",
     "output_type": "stream",
     "text": [
      "Computing brute force solution for dictionary dimension 480 and target_dimension 2\n"
     ]
    },
    {
     "name": "stderr",
     "output_type": "stream",
     "text": [
      "\n",
      "0it [00:00, ?it/s]\u001b[A\n",
      "3471it [00:00, 34708.63it/s]\u001b[A\n",
      "6942it [00:00, 34578.04it/s]\u001b[A\n",
      "10474it [00:00, 34913.07it/s]\u001b[A\n",
      "14096it [00:00, 35426.28it/s]\u001b[A\n",
      "17651it [00:00, 35467.27it/s]\u001b[A\n",
      "21264it [00:00, 35691.71it/s]\u001b[A\n",
      "24834it [00:00, 35557.88it/s]\u001b[A\n",
      "28466it [00:00, 35798.24it/s]\u001b[A\n",
      "32166it [00:00, 36169.97it/s]\u001b[A\n",
      "35784it [00:01, 35733.67it/s]\u001b[A\n",
      "39386it [00:01, 35817.68it/s]\u001b[A\n",
      "42969it [00:01, 35777.42it/s]\u001b[A\n",
      "46548it [00:01, 35603.51it/s]\u001b[A\n",
      "50120it [00:01, 35636.92it/s]\u001b[A\n",
      "53736it [00:01, 35791.64it/s]\u001b[A\n",
      "57363it [00:01, 35933.47it/s]\u001b[A\n",
      "60983it [00:01, 36011.36it/s]\u001b[A\n",
      "64585it [00:01, 35666.91it/s]\u001b[A\n",
      "68153it [00:01, 35609.08it/s]\u001b[A\n",
      "71949it [00:02, 36309.62it/s]\u001b[A\n",
      "75641it [00:02, 36490.02it/s]\u001b[A\n",
      "79291it [00:02, 36268.45it/s]\u001b[A\n",
      "82919it [00:02, 36058.42it/s]\u001b[A\n",
      "86526it [00:02, 35667.45it/s]\u001b[A\n",
      "90094it [00:02, 35582.74it/s]\u001b[A\n",
      "93653it [00:02, 35462.23it/s]\u001b[A\n",
      "97264it [00:02, 35651.58it/s]\u001b[A\n",
      "100830it [00:02, 35299.01it/s]\u001b[A\n",
      "104485it [00:02, 35666.67it/s]\u001b[A\n",
      "108076it [00:03, 35737.35it/s]\u001b[A\n",
      "114960it [00:03, 35694.08it/s]\u001b[A\n",
      " 14%|████████████▎                                                                           | 14/100 [02:03<14:15,  9.94s/it]"
     ]
    },
    {
     "name": "stdout",
     "output_type": "stream",
     "text": [
      "Computing brute force solution for dictionary dimension 3 and target_dimension 2\n"
     ]
    },
    {
     "name": "stderr",
     "output_type": "stream",
     "text": [
      "\n",
      "3it [00:00, 5814.65it/s]\n",
      " 15%|█████████████▏                                                                          | 15/100 [02:11<13:11,  9.32s/it]"
     ]
    },
    {
     "name": "stdout",
     "output_type": "stream",
     "text": [
      "Computing brute force solution for dictionary dimension 3 and target_dimension 2\n"
     ]
    },
    {
     "name": "stderr",
     "output_type": "stream",
     "text": [
      "\n",
      "3it [00:00, 10745.44it/s]\n",
      " 16%|██████████████                                                                          | 16/100 [02:19<12:25,  8.87s/it]"
     ]
    },
    {
     "name": "stdout",
     "output_type": "stream",
     "text": [
      "Computing brute force solution for dictionary dimension 3 and target_dimension 2\n"
     ]
    },
    {
     "name": "stderr",
     "output_type": "stream",
     "text": [
      "\n",
      "3it [00:00, 4862.02it/s]\n",
      " 17%|██████████████▉                                                                         | 17/100 [02:27<11:52,  8.58s/it]"
     ]
    },
    {
     "name": "stdout",
     "output_type": "stream",
     "text": [
      "Computing brute force solution for dictionary dimension 3 and target_dimension 2\n"
     ]
    },
    {
     "name": "stderr",
     "output_type": "stream",
     "text": [
      "\n",
      "3it [00:00, 4950.00it/s]\n",
      " 18%|███████████████▊                                                                        | 18/100 [02:35<11:25,  8.36s/it]"
     ]
    },
    {
     "name": "stdout",
     "output_type": "stream",
     "text": [
      "Computing brute force solution for dictionary dimension 426 and target_dimension 2\n"
     ]
    },
    {
     "name": "stderr",
     "output_type": "stream",
     "text": [
      "\n",
      "0it [00:00, ?it/s]\u001b[A\n",
      "2880it [00:00, 28796.59it/s]\u001b[A\n",
      "5798it [00:00, 29017.82it/s]\u001b[A\n",
      "9134it [00:00, 30997.21it/s]\u001b[A\n",
      "12407it [00:00, 31678.45it/s]\u001b[A\n",
      "15714it [00:00, 32178.23it/s]\u001b[A\n",
      "19091it [00:00, 32717.28it/s]\u001b[A\n",
      "22423it [00:00, 32907.10it/s]\u001b[A\n",
      "25780it [00:00, 33117.27it/s]\u001b[A\n",
      "29188it [00:00, 33413.08it/s]\u001b[A\n",
      "32530it [00:01, 33217.45it/s]\u001b[A\n",
      "35852it [00:01, 33199.93it/s]\u001b[A\n",
      "39173it [00:01, 33013.20it/s]\u001b[A\n",
      "42475it [00:01, 31518.56it/s]\u001b[A\n",
      "45794it [00:01, 32002.60it/s]\u001b[A\n",
      "49109it [00:01, 32339.08it/s]\u001b[A\n",
      "52463it [00:01, 32693.49it/s]\u001b[A\n",
      "55740it [00:01, 32392.54it/s]\u001b[A\n",
      "59046it [00:01, 32587.29it/s]\u001b[A\n",
      "62353it [00:01, 32729.40it/s]\u001b[A\n",
      "65730it [00:02, 33037.40it/s]\u001b[A\n",
      "69036it [00:02, 33019.08it/s]\u001b[A\n",
      "72340it [00:02, 32839.48it/s]\u001b[A\n",
      "75626it [00:02, 32626.29it/s]\u001b[A\n",
      "78890it [00:02, 32220.06it/s]\u001b[A\n",
      "82283it [00:02, 32724.75it/s]\u001b[A\n",
      "85558it [00:02, 32249.55it/s]\u001b[A\n",
      "90525it [00:02, 32448.72it/s]\u001b[A\n",
      " 19%|████████████████▋                                                                       | 19/100 [02:46<12:36,  9.34s/it]"
     ]
    },
    {
     "name": "stdout",
     "output_type": "stream",
     "text": [
      "Computing brute force solution for dictionary dimension 3 and target_dimension 2\n"
     ]
    },
    {
     "name": "stderr",
     "output_type": "stream",
     "text": [
      "\n",
      "3it [00:00, 4975.45it/s]\n",
      " 20%|█████████████████▌                                                                      | 20/100 [02:55<12:12,  9.16s/it]"
     ]
    },
    {
     "name": "stdout",
     "output_type": "stream",
     "text": [
      "Computing brute force solution for dictionary dimension 3 and target_dimension 2\n"
     ]
    },
    {
     "name": "stderr",
     "output_type": "stream",
     "text": [
      "\n",
      "3it [00:00, 6894.75it/s]\n",
      " 21%|██████████████████▍                                                                     | 21/100 [03:04<11:50,  8.99s/it]"
     ]
    },
    {
     "name": "stdout",
     "output_type": "stream",
     "text": [
      "Computing brute force solution for dictionary dimension 146 and target_dimension 2\n"
     ]
    },
    {
     "name": "stderr",
     "output_type": "stream",
     "text": [
      "\n",
      "0it [00:00, ?it/s]\u001b[A\n",
      "3170it [00:00, 31697.16it/s]\u001b[A\n",
      "6340it [00:00, 25741.32it/s]\u001b[A\n",
      "10585it [00:00, 23701.67it/s][A\n",
      " 22%|███████████████████▎                                                                    | 22/100 [03:13<11:44,  9.03s/it]"
     ]
    },
    {
     "name": "stdout",
     "output_type": "stream",
     "text": [
      "Computing brute force solution for dictionary dimension 3 and target_dimension 2\n"
     ]
    },
    {
     "name": "stderr",
     "output_type": "stream",
     "text": [
      "\n",
      "3it [00:00, 7427.93it/s]\n",
      " 23%|████████████████████▏                                                                   | 23/100 [03:21<11:27,  8.92s/it]"
     ]
    },
    {
     "name": "stdout",
     "output_type": "stream",
     "text": [
      "Computing brute force solution for dictionary dimension 2 and target_dimension 2\n"
     ]
    },
    {
     "name": "stderr",
     "output_type": "stream",
     "text": [
      "\n",
      "1it [00:00, 2597.09it/s]\n",
      " 24%|█████████████████████                                                                   | 24/100 [03:30<11:21,  8.96s/it]"
     ]
    },
    {
     "name": "stdout",
     "output_type": "stream",
     "text": [
      "Computing brute force solution for dictionary dimension 415 and target_dimension 2\n"
     ]
    },
    {
     "name": "stderr",
     "output_type": "stream",
     "text": [
      "\n",
      "0it [00:00, ?it/s]\u001b[A\n",
      "3007it [00:00, 30064.58it/s]\u001b[A\n",
      "6207it [00:00, 31201.33it/s]\u001b[A\n",
      "9437it [00:00, 31701.99it/s]\u001b[A\n",
      "12758it [00:00, 32295.00it/s]\u001b[A\n",
      "15988it [00:00, 31841.81it/s]\u001b[A\n",
      "19242it [00:00, 32075.45it/s]\u001b[A\n",
      "22451it [00:00, 31893.92it/s]\u001b[A\n",
      "25642it [00:00, 31688.11it/s]\u001b[A\n",
      "28812it [00:00, 31611.58it/s]\u001b[A\n",
      "31974it [00:01, 29574.84it/s]\u001b[A\n",
      "35196it [00:01, 30339.32it/s]\u001b[A\n",
      "38354it [00:01, 30701.14it/s]\u001b[A\n",
      "41459it [00:01, 30801.00it/s]\u001b[A\n",
      "44751it [00:01, 31428.44it/s]\u001b[A\n",
      "48118it [00:01, 32092.58it/s]\u001b[A\n",
      "51508it [00:01, 32629.35it/s]\u001b[A\n",
      "54820it [00:01, 32774.29it/s]\u001b[A\n",
      "58102it [00:01, 32103.74it/s]\u001b[A\n",
      "61318it [00:01, 31921.83it/s]\u001b[A\n",
      "64515it [00:02, 30234.48it/s]\u001b[A\n",
      "67558it [00:02, 29925.87it/s]\u001b[A\n",
      "70564it [00:02, 29766.31it/s]\u001b[A\n",
      "73550it [00:02, 29759.40it/s]\u001b[A\n",
      "76667it [00:02, 30169.90it/s]\u001b[A\n",
      "80091it [00:02, 31366.87it/s]\u001b[A\n",
      "85905it [00:02, 31327.61it/s]\u001b[A\n",
      " 25%|██████████████████████                                                                  | 25/100 [03:42<12:15,  9.81s/it]"
     ]
    },
    {
     "name": "stdout",
     "output_type": "stream",
     "text": [
      "Computing brute force solution for dictionary dimension 2 and target_dimension 2\n"
     ]
    },
    {
     "name": "stderr",
     "output_type": "stream",
     "text": [
      "\n",
      "1it [00:00, 4223.87it/s]\n",
      " 26%|██████████████████████▉                                                                 | 26/100 [03:53<12:21, 10.02s/it]"
     ]
    },
    {
     "name": "stdout",
     "output_type": "stream",
     "text": [
      "Computing brute force solution for dictionary dimension 412 and target_dimension 2\n"
     ]
    },
    {
     "name": "stderr",
     "output_type": "stream",
     "text": [
      "\n",
      "0it [00:00, ?it/s]\u001b[A\n",
      "2769it [00:00, 27680.85it/s]\u001b[A\n",
      "5538it [00:00, 27071.94it/s]\u001b[A\n",
      "8247it [00:00, 26586.90it/s]\u001b[A\n",
      "11229it [00:00, 27837.78it/s]\u001b[A\n",
      "14072it [00:00, 28046.20it/s]\u001b[A\n",
      "16879it [00:00, 27472.40it/s]\u001b[A\n",
      "19820it [00:00, 28090.94it/s]\u001b[A\n",
      "22731it [00:00, 28405.78it/s]\u001b[A\n",
      "25575it [00:00, 27854.38it/s]\u001b[A\n",
      "28365it [00:01, 27786.65it/s]\u001b[A\n",
      "31147it [00:01, 27769.67it/s]\u001b[A\n",
      "34020it [00:01, 28055.96it/s]\u001b[A\n",
      "36954it [00:01, 28440.98it/s]\u001b[A\n",
      "39800it [00:01, 28375.99it/s]\u001b[A\n",
      "42732it [00:01, 28657.84it/s]\u001b[A\n",
      "45599it [00:01, 27791.90it/s]\u001b[A\n",
      "48411it [00:01, 27887.26it/s]\u001b[A\n",
      "51205it [00:01, 27117.16it/s]\u001b[A\n",
      "53924it [00:01, 27129.43it/s]\u001b[A\n",
      "57004it [00:02, 28203.86it/s]\u001b[A\n",
      "59894it [00:02, 28407.77it/s]\u001b[A\n",
      "62740it [00:02, 28210.26it/s]\u001b[A\n",
      "65616it [00:02, 28372.54it/s]\u001b[A\n",
      "68456it [00:02, 28364.29it/s]\u001b[A\n",
      "71295it [00:02, 27506.76it/s]\u001b[A\n",
      "74053it [00:02, 27281.66it/s]\u001b[A\n",
      "76850it [00:02, 27480.97it/s]\u001b[A\n",
      "79766it [00:02, 27974.97it/s]\u001b[A\n",
      "84666it [00:03, 27970.14it/s]\u001b[A\n",
      " 27%|███████████████████████▊                                                                | 27/100 [04:06<13:32, 11.13s/it]"
     ]
    },
    {
     "name": "stdout",
     "output_type": "stream",
     "text": [
      "Computing brute force solution for dictionary dimension 3 and target_dimension 2\n"
     ]
    },
    {
     "name": "stderr",
     "output_type": "stream",
     "text": [
      "\n",
      "3it [00:00, 3397.11it/s]\n",
      " 28%|████████████████████████▋                                                               | 28/100 [04:15<12:35, 10.50s/it]"
     ]
    },
    {
     "name": "stdout",
     "output_type": "stream",
     "text": [
      "Computing brute force solution for dictionary dimension 372 and target_dimension 2\n"
     ]
    },
    {
     "name": "stderr",
     "output_type": "stream",
     "text": [
      "\n",
      "0it [00:00, ?it/s]\u001b[A\n",
      "3393it [00:00, 33927.36it/s]\u001b[A\n",
      "6786it [00:00, 32965.97it/s]\u001b[A\n",
      "10085it [00:00, 32828.60it/s]\u001b[A\n",
      "13369it [00:00, 31150.54it/s]\u001b[A\n",
      "16496it [00:00, 31063.61it/s]\u001b[A\n",
      "19780it [00:00, 31647.33it/s]\u001b[A\n",
      "22952it [00:00, 31516.43it/s]\u001b[A\n",
      "26108it [00:00, 30981.90it/s]\u001b[A\n",
      "29211it [00:00, 30856.56it/s]\u001b[A\n",
      "32316it [00:01, 30912.39it/s]\u001b[A\n",
      "35410it [00:01, 30651.26it/s]\u001b[A\n",
      "38506it [00:01, 30741.60it/s]\u001b[A\n",
      "41675it [00:01, 31024.05it/s]\u001b[A\n",
      "44793it [00:01, 31068.46it/s]\u001b[A\n",
      "47901it [00:01, 30714.03it/s]\u001b[A\n",
      "50974it [00:01, 30420.32it/s]\u001b[A\n",
      "54140it [00:01, 30786.26it/s]\u001b[A\n",
      "57221it [00:01, 30681.94it/s]\u001b[A\n",
      "60310it [00:01, 30743.27it/s]\u001b[A\n",
      "63552it [00:02, 31240.07it/s]\u001b[A\n",
      "69006it [00:02, 31132.09it/s]\u001b[A\n",
      " 29%|█████████████████████████▌                                                              | 29/100 [04:27<12:39, 10.69s/it]"
     ]
    },
    {
     "name": "stdout",
     "output_type": "stream",
     "text": [
      "Computing brute force solution for dictionary dimension 2 and target_dimension 2\n"
     ]
    },
    {
     "name": "stderr",
     "output_type": "stream",
     "text": [
      "\n",
      "1it [00:00, 3256.45it/s]\n",
      " 30%|██████████████████████████▍                                                             | 30/100 [04:36<11:52, 10.18s/it]"
     ]
    },
    {
     "name": "stdout",
     "output_type": "stream",
     "text": [
      "Computing brute force solution for dictionary dimension 3 and target_dimension 2\n"
     ]
    },
    {
     "name": "stderr",
     "output_type": "stream",
     "text": [
      "\n",
      "3it [00:00, 8065.97it/s]\n",
      " 31%|███████████████████████████▎                                                            | 31/100 [04:45<11:20,  9.86s/it]"
     ]
    },
    {
     "name": "stdout",
     "output_type": "stream",
     "text": [
      "Computing brute force solution for dictionary dimension 405 and target_dimension 2\n"
     ]
    },
    {
     "name": "stderr",
     "output_type": "stream",
     "text": [
      "\n",
      "0it [00:00, ?it/s]\u001b[A\n",
      "3316it [00:00, 33135.78it/s]\u001b[A\n",
      "6630it [00:00, 32951.45it/s]\u001b[A\n",
      "9926it [00:00, 32048.20it/s]\u001b[A\n",
      "13134it [00:00, 31172.84it/s]\u001b[A\n",
      "16359it [00:00, 31546.34it/s]\u001b[A\n",
      "19611it [00:00, 31867.69it/s]\u001b[A\n",
      "22939it [00:00, 32319.80it/s]\u001b[A\n",
      "26174it [00:00, 31763.18it/s]\u001b[A\n",
      "29354it [00:00, 31532.97it/s]\u001b[A\n",
      "32598it [00:01, 31805.10it/s]\u001b[A\n",
      "35922it [00:01, 32235.97it/s]\u001b[A\n",
      "39148it [00:01, 32218.44it/s]\u001b[A\n",
      "42372it [00:01, 31921.25it/s]\u001b[A\n",
      "45566it [00:01, 31180.25it/s]\u001b[A\n",
      "48689it [00:01, 31081.17it/s]\u001b[A\n",
      "51969it [00:01, 31587.16it/s]\u001b[A\n",
      "55164it [00:01, 31693.17it/s]\u001b[A\n",
      "58336it [00:01, 31614.32it/s]\u001b[A\n",
      "61499it [00:01, 31472.08it/s]\u001b[A\n",
      "64648it [00:02, 31320.46it/s]\u001b[A\n",
      "67923it [00:02, 31743.92it/s]\u001b[A\n",
      "71252it [00:02, 32203.57it/s]\u001b[A\n",
      "74474it [00:02, 31964.80it/s]\u001b[A\n",
      "77672it [00:02, 29787.53it/s]\u001b[A\n",
      "81810it [00:02, 31468.57it/s]\u001b[A\n",
      " 32%|████████████████████████████▏                                                           | 32/100 [04:56<11:42, 10.33s/it]"
     ]
    },
    {
     "name": "stdout",
     "output_type": "stream",
     "text": [
      "Computing brute force solution for dictionary dimension 3 and target_dimension 2\n"
     ]
    },
    {
     "name": "stderr",
     "output_type": "stream",
     "text": [
      "\n",
      "3it [00:00, 6574.14it/s]\n",
      " 33%|█████████████████████████████                                                           | 33/100 [05:05<11:10, 10.01s/it]"
     ]
    },
    {
     "name": "stdout",
     "output_type": "stream",
     "text": [
      "Computing brute force solution for dictionary dimension 3 and target_dimension 2\n"
     ]
    },
    {
     "name": "stderr",
     "output_type": "stream",
     "text": [
      "\n",
      "3it [00:00, 4070.82it/s]\n",
      " 34%|█████████████████████████████▉                                                          | 34/100 [05:14<10:32,  9.59s/it]"
     ]
    },
    {
     "name": "stdout",
     "output_type": "stream",
     "text": [
      "Computing brute force solution for dictionary dimension 3 and target_dimension 2\n"
     ]
    },
    {
     "name": "stderr",
     "output_type": "stream",
     "text": [
      "\n",
      "3it [00:00, 4524.60it/s]\n",
      " 35%|██████████████████████████████▊                                                         | 35/100 [05:22<10:01,  9.26s/it]"
     ]
    },
    {
     "name": "stdout",
     "output_type": "stream",
     "text": [
      "Computing brute force solution for dictionary dimension 3 and target_dimension 2\n"
     ]
    },
    {
     "name": "stderr",
     "output_type": "stream",
     "text": [
      "\n",
      "3it [00:00, 4391.94it/s]\n",
      " 36%|███████████████████████████████▋                                                        | 36/100 [05:31<09:37,  9.02s/it]"
     ]
    },
    {
     "name": "stdout",
     "output_type": "stream",
     "text": [
      "Computing brute force solution for dictionary dimension 3 and target_dimension 2\n"
     ]
    },
    {
     "name": "stderr",
     "output_type": "stream",
     "text": [
      "\n",
      "3it [00:00, 8240.28it/s]\n",
      " 37%|████████████████████████████████▌                                                       | 37/100 [05:40<09:21,  8.91s/it]"
     ]
    },
    {
     "name": "stdout",
     "output_type": "stream",
     "text": [
      "Computing brute force solution for dictionary dimension 3 and target_dimension 2\n"
     ]
    },
    {
     "name": "stderr",
     "output_type": "stream",
     "text": [
      "\n",
      "3it [00:00, 5435.38it/s]\n",
      " 38%|█████████████████████████████████▍                                                      | 38/100 [05:48<09:04,  8.78s/it]"
     ]
    },
    {
     "name": "stdout",
     "output_type": "stream",
     "text": [
      "Computing brute force solution for dictionary dimension 3 and target_dimension 2\n"
     ]
    },
    {
     "name": "stderr",
     "output_type": "stream",
     "text": [
      "\n",
      "3it [00:00, 4907.53it/s]\n",
      " 39%|██████████████████████████████████▎                                                     | 39/100 [05:56<08:45,  8.61s/it]"
     ]
    },
    {
     "name": "stdout",
     "output_type": "stream",
     "text": [
      "Computing brute force solution for dictionary dimension 3 and target_dimension 2\n"
     ]
    },
    {
     "name": "stderr",
     "output_type": "stream",
     "text": [
      "\n",
      "3it [00:00, 7177.93it/s]\n",
      " 40%|███████████████████████████████████▏                                                    | 40/100 [06:05<08:32,  8.55s/it]"
     ]
    },
    {
     "name": "stdout",
     "output_type": "stream",
     "text": [
      "Computing brute force solution for dictionary dimension 3 and target_dimension 2\n"
     ]
    },
    {
     "name": "stderr",
     "output_type": "stream",
     "text": [
      "\n",
      "3it [00:00, 7898.88it/s]\n",
      " 41%|████████████████████████████████████                                                    | 41/100 [06:13<08:19,  8.46s/it]"
     ]
    },
    {
     "name": "stdout",
     "output_type": "stream",
     "text": [
      "Computing brute force solution for dictionary dimension 3 and target_dimension 2\n"
     ]
    },
    {
     "name": "stderr",
     "output_type": "stream",
     "text": [
      "\n",
      "3it [00:00, 7830.06it/s]\n",
      " 42%|████████████████████████████████████▉                                                   | 42/100 [06:22<08:23,  8.68s/it]"
     ]
    },
    {
     "name": "stdout",
     "output_type": "stream",
     "text": [
      "Computing brute force solution for dictionary dimension 3 and target_dimension 2\n"
     ]
    },
    {
     "name": "stderr",
     "output_type": "stream",
     "text": [
      "\n",
      "3it [00:00, 4498.72it/s]\n",
      " 43%|█████████████████████████████████████▊                                                  | 43/100 [06:31<08:21,  8.80s/it]"
     ]
    },
    {
     "name": "stdout",
     "output_type": "stream",
     "text": [
      "Computing brute force solution for dictionary dimension 428 and target_dimension 2\n"
     ]
    },
    {
     "name": "stderr",
     "output_type": "stream",
     "text": [
      "\n",
      "0it [00:00, ?it/s]\u001b[A\n",
      "3077it [00:00, 30769.08it/s]\u001b[A\n",
      "6198it [00:00, 31023.71it/s]\u001b[A\n",
      "9301it [00:00, 30546.11it/s]\u001b[A\n",
      "12357it [00:00, 30428.40it/s]\u001b[A\n",
      "15401it [00:00, 30294.58it/s]\u001b[A\n",
      "18431it [00:00, 29653.97it/s]\u001b[A\n",
      "21450it [00:00, 29821.58it/s]\u001b[A\n",
      "24539it [00:00, 30151.02it/s]\u001b[A\n",
      "27631it [00:00, 30386.25it/s]\u001b[A\n",
      "30672it [00:01, 29653.80it/s]\u001b[A\n",
      "33808it [00:01, 30162.11it/s]\u001b[A\n",
      "36829it [00:01, 29701.12it/s]\u001b[A\n",
      "39803it [00:01, 29531.48it/s]\u001b[A\n",
      "42881it [00:01, 29899.75it/s]\u001b[A\n",
      "45878it [00:01, 29919.39it/s]\u001b[A\n",
      "48897it [00:01, 29999.43it/s]\u001b[A\n",
      "51899it [00:01, 29976.21it/s]\u001b[A\n",
      "55089it [00:01, 30549.15it/s]\u001b[A\n",
      "58145it [00:01, 30420.26it/s]\u001b[A\n",
      "61188it [00:02, 30358.23it/s]\u001b[A\n",
      "64274it [00:02, 30507.54it/s]\u001b[A\n",
      "67440it [00:02, 30849.80it/s]\u001b[A\n",
      "70526it [00:02, 30652.77it/s]\u001b[A\n",
      "73592it [00:02, 30647.62it/s]\u001b[A\n",
      "76780it [00:02, 31014.06it/s]\u001b[A\n",
      "79882it [00:02, 30999.62it/s]\u001b[A\n",
      "82983it [00:02, 30475.30it/s]\u001b[A\n",
      "86033it [00:02, 30370.13it/s]\u001b[A\n",
      "91378it [00:03, 30262.82it/s]\u001b[A\n",
      " 44%|██████████████████████████████████████▋                                                 | 44/100 [06:43<09:09,  9.81s/it]"
     ]
    },
    {
     "name": "stdout",
     "output_type": "stream",
     "text": [
      "Computing brute force solution for dictionary dimension 3 and target_dimension 2\n"
     ]
    },
    {
     "name": "stderr",
     "output_type": "stream",
     "text": [
      "\n",
      "3it [00:00, 4419.71it/s]\n",
      " 45%|███████████████████████████████████████▌                                                | 45/100 [06:52<08:47,  9.59s/it]"
     ]
    },
    {
     "name": "stdout",
     "output_type": "stream",
     "text": [
      "Computing brute force solution for dictionary dimension 3 and target_dimension 2\n"
     ]
    },
    {
     "name": "stderr",
     "output_type": "stream",
     "text": [
      "\n",
      "3it [00:00, 7332.70it/s]\n",
      " 46%|████████████████████████████████████████▍                                               | 46/100 [07:02<08:32,  9.49s/it]"
     ]
    },
    {
     "name": "stdout",
     "output_type": "stream",
     "text": [
      "Computing brute force solution for dictionary dimension 3 and target_dimension 2\n"
     ]
    },
    {
     "name": "stderr",
     "output_type": "stream",
     "text": [
      "\n",
      "3it [00:00, 12545.28it/s]\n",
      " 47%|█████████████████████████████████████████▎                                              | 47/100 [07:11<08:15,  9.34s/it]"
     ]
    },
    {
     "name": "stdout",
     "output_type": "stream",
     "text": [
      "Computing brute force solution for dictionary dimension 3 and target_dimension 2\n"
     ]
    },
    {
     "name": "stderr",
     "output_type": "stream",
     "text": [
      "\n",
      "3it [00:00, 6072.83it/s]\n",
      " 48%|██████████████████████████████████████████▏                                             | 48/100 [07:20<08:05,  9.34s/it]"
     ]
    },
    {
     "name": "stdout",
     "output_type": "stream",
     "text": [
      "Computing brute force solution for dictionary dimension 3 and target_dimension 2\n"
     ]
    },
    {
     "name": "stderr",
     "output_type": "stream",
     "text": [
      "\n",
      "3it [00:00, 4477.90it/s]\n",
      " 49%|███████████████████████████████████████████                                             | 49/100 [07:28<07:41,  9.04s/it]"
     ]
    },
    {
     "name": "stdout",
     "output_type": "stream",
     "text": [
      "Computing brute force solution for dictionary dimension 3 and target_dimension 2\n"
     ]
    },
    {
     "name": "stderr",
     "output_type": "stream",
     "text": [
      "\n",
      "3it [00:00, 6300.91it/s]\n",
      " 50%|████████████████████████████████████████████                                            | 50/100 [07:37<07:20,  8.82s/it]"
     ]
    },
    {
     "name": "stdout",
     "output_type": "stream",
     "text": [
      "Computing brute force solution for dictionary dimension 3 and target_dimension 2\n"
     ]
    },
    {
     "name": "stderr",
     "output_type": "stream",
     "text": [
      "\n",
      "3it [00:00, 7210.84it/s]\n",
      " 51%|████████████████████████████████████████████▉                                           | 51/100 [07:45<07:05,  8.68s/it]"
     ]
    },
    {
     "name": "stdout",
     "output_type": "stream",
     "text": [
      "Computing brute force solution for dictionary dimension 2 and target_dimension 2\n"
     ]
    },
    {
     "name": "stderr",
     "output_type": "stream",
     "text": [
      "\n",
      "1it [00:00, 2314.74it/s]\n",
      " 52%|█████████████████████████████████████████████▊                                          | 52/100 [07:53<06:52,  8.60s/it]"
     ]
    },
    {
     "name": "stdout",
     "output_type": "stream",
     "text": [
      "Computing brute force solution for dictionary dimension 3 and target_dimension 2\n"
     ]
    },
    {
     "name": "stderr",
     "output_type": "stream",
     "text": [
      "\n",
      "3it [00:00, 3570.63it/s]\n",
      " 53%|██████████████████████████████████████████████▋                                         | 53/100 [08:02<06:40,  8.52s/it]"
     ]
    },
    {
     "name": "stdout",
     "output_type": "stream",
     "text": [
      "Computing brute force solution for dictionary dimension 2 and target_dimension 2\n"
     ]
    },
    {
     "name": "stderr",
     "output_type": "stream",
     "text": [
      "\n",
      "1it [00:00, 2265.97it/s]\n",
      " 54%|███████████████████████████████████████████████▌                                        | 54/100 [08:10<06:28,  8.45s/it]"
     ]
    },
    {
     "name": "stdout",
     "output_type": "stream",
     "text": [
      "Computing brute force solution for dictionary dimension 422 and target_dimension 2\n"
     ]
    },
    {
     "name": "stderr",
     "output_type": "stream",
     "text": [
      "\n",
      "0it [00:00, ?it/s]\u001b[A\n",
      "3147it [00:00, 31465.60it/s]\u001b[A\n",
      "6418it [00:00, 32193.97it/s]\u001b[A\n",
      "9773it [00:00, 32809.80it/s]\u001b[A\n",
      "13120it [00:00, 33069.61it/s]\u001b[A\n",
      "16427it [00:00, 32665.39it/s]\u001b[A\n",
      "19733it [00:00, 32796.02it/s]\u001b[A\n",
      "23014it [00:00, 32705.31it/s]\u001b[A\n",
      "26290it [00:00, 32720.83it/s]\u001b[A\n",
      "29656it [00:00, 33012.23it/s]\u001b[A\n",
      "32958it [00:01, 32882.71it/s]\u001b[A\n",
      "36358it [00:01, 33221.75it/s]\u001b[A\n",
      "39754it [00:01, 33445.16it/s]\u001b[A\n",
      "43278it [00:01, 33985.03it/s]\u001b[A\n",
      "46677it [00:01, 33932.38it/s]\u001b[A\n",
      "50071it [00:01, 33612.41it/s]\u001b[A\n",
      "53450it [00:01, 33664.83it/s]\u001b[A\n",
      "56818it [00:01, 33642.49it/s]\u001b[A\n",
      "60183it [00:01, 33052.48it/s]\u001b[A\n",
      "63518it [00:01, 33139.63it/s]\u001b[A\n",
      "66834it [00:02, 32916.48it/s]\u001b[A\n",
      "70128it [00:02, 32716.62it/s]\u001b[A\n",
      "73527it [00:02, 33093.38it/s]\u001b[A\n",
      "76881it [00:02, 33223.86it/s]\u001b[A\n",
      "80411it [00:02, 33841.13it/s]\u001b[A\n",
      "83797it [00:02, 33044.24it/s]\u001b[A\n",
      "88831it [00:02, 32941.89it/s]\u001b[A\n",
      " 55%|████████████████████████████████████████████████▍                                       | 55/100 [08:22<07:03,  9.41s/it]"
     ]
    },
    {
     "name": "stdout",
     "output_type": "stream",
     "text": [
      "Computing brute force solution for dictionary dimension 2 and target_dimension 2\n"
     ]
    },
    {
     "name": "stderr",
     "output_type": "stream",
     "text": [
      "\n",
      "1it [00:00, 7145.32it/s]\n",
      " 56%|█████████████████████████████████████████████████▎                                      | 56/100 [08:31<06:52,  9.38s/it]"
     ]
    },
    {
     "name": "stdout",
     "output_type": "stream",
     "text": [
      "Computing brute force solution for dictionary dimension 3 and target_dimension 2\n"
     ]
    },
    {
     "name": "stderr",
     "output_type": "stream",
     "text": [
      "\n",
      "3it [00:00, 10672.53it/s]\n",
      " 57%|██████████████████████████████████████████████████▏                                     | 57/100 [08:39<06:31,  9.10s/it]"
     ]
    },
    {
     "name": "stdout",
     "output_type": "stream",
     "text": [
      "Computing brute force solution for dictionary dimension 3 and target_dimension 2\n"
     ]
    },
    {
     "name": "stderr",
     "output_type": "stream",
     "text": [
      "\n",
      "3it [00:00, 4926.75it/s]\n",
      " 58%|███████████████████████████████████████████████████                                     | 58/100 [08:48<06:13,  8.88s/it]"
     ]
    },
    {
     "name": "stdout",
     "output_type": "stream",
     "text": [
      "Computing brute force solution for dictionary dimension 3 and target_dimension 2\n"
     ]
    },
    {
     "name": "stderr",
     "output_type": "stream",
     "text": [
      "\n",
      "3it [00:00, 6397.01it/s]\n",
      " 59%|███████████████████████████████████████████████████▉                                    | 59/100 [08:56<05:59,  8.76s/it]"
     ]
    },
    {
     "name": "stdout",
     "output_type": "stream",
     "text": [
      "Computing brute force solution for dictionary dimension 3 and target_dimension 2\n"
     ]
    },
    {
     "name": "stderr",
     "output_type": "stream",
     "text": [
      "\n",
      "3it [00:00, 13231.24it/s]\n",
      " 60%|████████████████████████████████████████████████████▊                                   | 60/100 [09:05<05:47,  8.68s/it]"
     ]
    },
    {
     "name": "stdout",
     "output_type": "stream",
     "text": [
      "Computing brute force solution for dictionary dimension 3 and target_dimension 2\n"
     ]
    },
    {
     "name": "stderr",
     "output_type": "stream",
     "text": [
      "\n",
      "3it [00:00, 12879.13it/s]\n",
      " 61%|█████████████████████████████████████████████████████▋                                  | 61/100 [09:14<05:44,  8.84s/it]"
     ]
    },
    {
     "name": "stdout",
     "output_type": "stream",
     "text": [
      "Computing brute force solution for dictionary dimension 2 and target_dimension 2\n"
     ]
    },
    {
     "name": "stderr",
     "output_type": "stream",
     "text": [
      "\n",
      "1it [00:00, 5017.11it/s]\n",
      " 62%|██████████████████████████████████████████████████████▌                                 | 62/100 [09:23<05:38,  8.91s/it]"
     ]
    },
    {
     "name": "stdout",
     "output_type": "stream",
     "text": [
      "Computing brute force solution for dictionary dimension 2 and target_dimension 2\n"
     ]
    },
    {
     "name": "stderr",
     "output_type": "stream",
     "text": [
      "\n",
      "1it [00:00, 2142.14it/s]\n",
      " 63%|███████████████████████████████████████████████████████▍                                | 63/100 [09:32<05:31,  8.97s/it]"
     ]
    },
    {
     "name": "stdout",
     "output_type": "stream",
     "text": [
      "Computing brute force solution for dictionary dimension 238 and target_dimension 2\n"
     ]
    },
    {
     "name": "stderr",
     "output_type": "stream",
     "text": [
      "\n",
      "0it [00:00, ?it/s]\u001b[A\n",
      "2986it [00:00, 29856.47it/s]\u001b[A\n",
      "6118it [00:00, 30715.02it/s]\u001b[A\n",
      "9305it [00:00, 31239.90it/s]\u001b[A\n",
      "12429it [00:00, 30959.73it/s]\u001b[A\n",
      "15526it [00:00, 30921.19it/s]\u001b[A\n",
      "18752it [00:00, 31373.17it/s]\u001b[A\n",
      "21890it [00:00, 31302.16it/s]\u001b[A\n",
      "25021it [00:00, 31127.05it/s]\u001b[A\n",
      "28203it [00:00, 31035.97it/s]\u001b[A\n",
      " 64%|████████████████████████████████████████████████████████▎                               | 64/100 [09:42<05:34,  9.28s/it]"
     ]
    },
    {
     "name": "stdout",
     "output_type": "stream",
     "text": [
      "Computing brute force solution for dictionary dimension 3 and target_dimension 2\n"
     ]
    },
    {
     "name": "stderr",
     "output_type": "stream",
     "text": [
      "\n",
      "3it [00:00, 6397.01it/s]\n",
      " 65%|█████████████████████████████████████████████████████████▏                              | 65/100 [09:51<05:17,  9.07s/it]"
     ]
    },
    {
     "name": "stdout",
     "output_type": "stream",
     "text": [
      "Computing brute force solution for dictionary dimension 2 and target_dimension 2\n"
     ]
    },
    {
     "name": "stderr",
     "output_type": "stream",
     "text": [
      "\n",
      "1it [00:00, 3050.40it/s]\n",
      " 66%|██████████████████████████████████████████████████████████                              | 66/100 [09:59<05:02,  8.89s/it]"
     ]
    },
    {
     "name": "stdout",
     "output_type": "stream",
     "text": [
      "Computing brute force solution for dictionary dimension 3 and target_dimension 2\n"
     ]
    },
    {
     "name": "stderr",
     "output_type": "stream",
     "text": [
      "\n",
      "3it [00:00, 4578.93it/s]\n",
      " 67%|██████████████████████████████████████████████████████████▉                             | 67/100 [10:08<04:47,  8.71s/it]"
     ]
    },
    {
     "name": "stdout",
     "output_type": "stream",
     "text": [
      "Computing brute force solution for dictionary dimension 3 and target_dimension 2\n"
     ]
    },
    {
     "name": "stderr",
     "output_type": "stream",
     "text": [
      "\n",
      "3it [00:00, 11672.46it/s]\n",
      " 68%|███████████████████████████████████████████████████████████▊                            | 68/100 [10:16<04:37,  8.67s/it]"
     ]
    },
    {
     "name": "stdout",
     "output_type": "stream",
     "text": [
      "Computing brute force solution for dictionary dimension 3 and target_dimension 2\n"
     ]
    },
    {
     "name": "stderr",
     "output_type": "stream",
     "text": [
      "\n",
      "3it [00:00, 5822.73it/s]\n",
      " 69%|████████████████████████████████████████████████████████████▋                           | 69/100 [10:24<04:25,  8.57s/it]"
     ]
    },
    {
     "name": "stdout",
     "output_type": "stream",
     "text": [
      "Computing brute force solution for dictionary dimension 3 and target_dimension 2\n"
     ]
    },
    {
     "name": "stderr",
     "output_type": "stream",
     "text": [
      "\n",
      "3it [00:00, 12658.87it/s]\n",
      " 70%|█████████████████████████████████████████████████████████████▌                          | 70/100 [10:33<04:15,  8.51s/it]"
     ]
    },
    {
     "name": "stdout",
     "output_type": "stream",
     "text": [
      "Computing brute force solution for dictionary dimension 3 and target_dimension 2\n"
     ]
    },
    {
     "name": "stderr",
     "output_type": "stream",
     "text": [
      "\n",
      "3it [00:00, 6075.77it/s]\n",
      " 71%|██████████████████████████████████████████████████████████████▍                         | 71/100 [10:41<04:06,  8.51s/it]"
     ]
    },
    {
     "name": "stdout",
     "output_type": "stream",
     "text": [
      "Computing brute force solution for dictionary dimension 3 and target_dimension 2\n"
     ]
    },
    {
     "name": "stderr",
     "output_type": "stream",
     "text": [
      "\n",
      "3it [00:00, 13515.48it/s]\n",
      " 72%|███████████████████████████████████████████████████████████████▎                        | 72/100 [10:50<03:57,  8.49s/it]"
     ]
    },
    {
     "name": "stdout",
     "output_type": "stream",
     "text": [
      "Computing brute force solution for dictionary dimension 2 and target_dimension 2\n"
     ]
    },
    {
     "name": "stderr",
     "output_type": "stream",
     "text": [
      "\n",
      "1it [00:00, 4219.62it/s]\n",
      " 73%|████████████████████████████████████████████████████████████████▏                       | 73/100 [10:58<03:50,  8.53s/it]"
     ]
    },
    {
     "name": "stdout",
     "output_type": "stream",
     "text": [
      "Computing brute force solution for dictionary dimension 3 and target_dimension 2\n"
     ]
    },
    {
     "name": "stderr",
     "output_type": "stream",
     "text": [
      "\n",
      "3it [00:00, 7423.55it/s]\n",
      " 74%|█████████████████████████████████████████████████████████████████                       | 74/100 [11:07<03:40,  8.47s/it]"
     ]
    },
    {
     "name": "stdout",
     "output_type": "stream",
     "text": [
      "Computing brute force solution for dictionary dimension 2 and target_dimension 2\n"
     ]
    },
    {
     "name": "stderr",
     "output_type": "stream",
     "text": [
      "\n",
      "1it [00:00, 4539.29it/s]\n",
      " 75%|██████████████████████████████████████████████████████████████████                      | 75/100 [11:15<03:30,  8.41s/it]"
     ]
    },
    {
     "name": "stdout",
     "output_type": "stream",
     "text": [
      "Computing brute force solution for dictionary dimension 3 and target_dimension 2\n"
     ]
    },
    {
     "name": "stderr",
     "output_type": "stream",
     "text": [
      "\n",
      "3it [00:00, 6223.00it/s]\n",
      " 76%|██████████████████████████████████████████████████████████████████▉                     | 76/100 [11:23<03:21,  8.39s/it]"
     ]
    },
    {
     "name": "stdout",
     "output_type": "stream",
     "text": [
      "Computing brute force solution for dictionary dimension 3 and target_dimension 2\n"
     ]
    },
    {
     "name": "stderr",
     "output_type": "stream",
     "text": [
      "\n",
      "3it [00:00, 3963.12it/s]\n",
      " 77%|███████████████████████████████████████████████████████████████████▊                    | 77/100 [11:32<03:14,  8.44s/it]"
     ]
    },
    {
     "name": "stdout",
     "output_type": "stream",
     "text": [
      "Computing brute force solution for dictionary dimension 2 and target_dimension 2\n"
     ]
    },
    {
     "name": "stderr",
     "output_type": "stream",
     "text": [
      "\n",
      "1it [00:00, 5295.84it/s]\n",
      " 78%|████████████████████████████████████████████████████████████████████▋                   | 78/100 [11:41<03:08,  8.56s/it]"
     ]
    },
    {
     "name": "stdout",
     "output_type": "stream",
     "text": [
      "Computing brute force solution for dictionary dimension 3 and target_dimension 2\n"
     ]
    },
    {
     "name": "stderr",
     "output_type": "stream",
     "text": [
      "\n",
      "3it [00:00, 3141.02it/s]\n",
      " 79%|█████████████████████████████████████████████████████████████████████▌                  | 79/100 [11:50<03:02,  8.71s/it]"
     ]
    },
    {
     "name": "stdout",
     "output_type": "stream",
     "text": [
      "Computing brute force solution for dictionary dimension 400 and target_dimension 2\n"
     ]
    },
    {
     "name": "stderr",
     "output_type": "stream",
     "text": [
      "\n",
      "0it [00:00, ?it/s]\u001b[A\n",
      "3079it [00:00, 30783.35it/s]\u001b[A\n",
      "6199it [00:00, 31026.56it/s]\u001b[A\n",
      "9324it [00:00, 31124.60it/s]\u001b[A\n",
      "12532it [00:00, 31500.62it/s]\u001b[A\n",
      "15683it [00:00, 31319.47it/s]\u001b[A\n",
      "18820it [00:00, 31335.73it/s]\u001b[A\n",
      "21967it [00:00, 31378.40it/s]\u001b[A\n",
      "25105it [00:00, 31195.80it/s]\u001b[A\n",
      "28338it [00:00, 31546.14it/s]\u001b[A\n",
      "31493it [00:01, 31457.99it/s]\u001b[A\n",
      "34799it [00:01, 31944.82it/s]\u001b[A\n",
      "38119it [00:01, 32323.95it/s]\u001b[A\n",
      "41352it [00:01, 32179.60it/s]\u001b[A\n",
      "44571it [00:01, 30989.09it/s]\u001b[A\n",
      "47680it [00:01, 30976.74it/s]\u001b[A\n",
      "50905it [00:01, 31350.85it/s]\u001b[A\n",
      "54067it [00:01, 31428.22it/s]\u001b[A\n",
      "57345it [00:01, 31828.23it/s]\u001b[A\n",
      "60531it [00:01, 31672.87it/s]\u001b[A\n",
      "63701it [00:02, 31572.43it/s]\u001b[A\n",
      "67150it [00:02, 32438.30it/s]\u001b[A\n",
      "70396it [00:02, 32365.30it/s]\u001b[A\n",
      "73634it [00:02, 31735.10it/s]\u001b[A\n",
      "79800it [00:02, 31615.42it/s]\u001b[A\n",
      " 80%|██████████████████████████████████████████████████████████████████████▍                 | 80/100 [12:01<03:10,  9.52s/it]"
     ]
    },
    {
     "name": "stdout",
     "output_type": "stream",
     "text": [
      "Computing brute force solution for dictionary dimension 430 and target_dimension 2\n"
     ]
    },
    {
     "name": "stderr",
     "output_type": "stream",
     "text": [
      "\n",
      "0it [00:00, ?it/s]\u001b[A\n",
      "3243it [00:00, 32427.09it/s]\u001b[A\n",
      "6629it [00:00, 33265.95it/s]\u001b[A\n",
      "9956it [00:00, 33214.85it/s]\u001b[A\n",
      "13278it [00:00, 32517.32it/s]\u001b[A\n",
      "16532it [00:00, 32454.86it/s]\u001b[A\n",
      "20025it [00:00, 33285.74it/s]\u001b[A\n",
      "23487it [00:00, 33718.06it/s]\u001b[A\n",
      "26861it [00:00, 33232.70it/s]\u001b[A\n",
      "30260it [00:00, 33465.31it/s]\u001b[A\n",
      "33715it [00:01, 33794.10it/s]\u001b[A\n",
      "37097it [00:01, 33000.33it/s]\u001b[A\n",
      "40591it [00:01, 33569.09it/s]\u001b[A\n",
      "44059it [00:01, 33898.84it/s]\u001b[A\n",
      "47453it [00:01, 33642.70it/s]\u001b[A\n",
      "50957it [00:01, 34055.60it/s]\u001b[A\n",
      "54365it [00:01, 33971.48it/s]\u001b[A\n",
      "57764it [00:01, 33732.36it/s]\u001b[A\n",
      "61241it [00:01, 34038.28it/s]\u001b[A\n",
      "64647it [00:01, 33851.15it/s]\u001b[A\n",
      "68034it [00:02, 33653.27it/s]\u001b[A\n",
      "71433it [00:02, 33750.74it/s]\u001b[A\n",
      "74850it [00:02, 33872.97it/s]\u001b[A\n",
      "78238it [00:02, 33577.13it/s]\u001b[A\n",
      "81718it [00:02, 33938.50it/s]\u001b[A\n",
      "85116it [00:02, 33950.05it/s]\u001b[A\n",
      "88512it [00:02, 33312.82it/s]\u001b[A\n",
      "92235it [00:02, 33502.58it/s]\u001b[A\n",
      " 81%|███████████████████████████████████████████████████████████████████████▎                | 81/100 [12:13<03:11, 10.06s/it]"
     ]
    },
    {
     "name": "stdout",
     "output_type": "stream",
     "text": [
      "Computing brute force solution for dictionary dimension 3 and target_dimension 2\n"
     ]
    },
    {
     "name": "stderr",
     "output_type": "stream",
     "text": [
      "\n",
      "3it [00:00, 5724.71it/s]\n",
      " 82%|████████████████████████████████████████████████████████████████████████▏               | 82/100 [12:21<02:52,  9.57s/it]"
     ]
    },
    {
     "name": "stdout",
     "output_type": "stream",
     "text": [
      "Computing brute force solution for dictionary dimension 427 and target_dimension 2\n"
     ]
    },
    {
     "name": "stderr",
     "output_type": "stream",
     "text": [
      "\n",
      "0it [00:00, ?it/s]\u001b[A\n",
      "3287it [00:00, 32863.06it/s]\u001b[A\n",
      "6589it [00:00, 32950.49it/s]\u001b[A\n",
      "10081it [00:00, 33847.09it/s]\u001b[A\n",
      "13466it [00:00, 33717.80it/s]\u001b[A\n",
      "16838it [00:00, 33364.78it/s]\u001b[A\n",
      "20197it [00:00, 33438.77it/s]\u001b[A\n",
      "23559it [00:00, 33496.15it/s]\u001b[A\n",
      "26976it [00:00, 33708.62it/s]\u001b[A\n",
      "30401it [00:00, 33874.33it/s]\u001b[A\n",
      "33789it [00:01, 33718.36it/s]\u001b[A\n",
      "37162it [00:01, 32802.37it/s]\u001b[A\n",
      "40665it [00:01, 33462.51it/s]\u001b[A\n",
      "44017it [00:01, 33464.51it/s]\u001b[A\n",
      "47368it [00:01, 33310.85it/s]\u001b[A\n",
      "50728it [00:01, 33395.62it/s]\u001b[A\n",
      "54070it [00:01, 33386.96it/s]\u001b[A\n",
      "57410it [00:01, 33307.22it/s]\u001b[A\n",
      "60768it [00:01, 33386.10it/s]\u001b[A\n",
      "64195it [00:01, 33649.05it/s]\u001b[A\n",
      "67561it [00:02, 33377.56it/s]\u001b[A\n",
      "70993it [00:02, 33656.53it/s]\u001b[A\n",
      "74360it [00:02, 33494.50it/s]\u001b[A\n",
      "77837it [00:02, 33872.54it/s]\u001b[A\n",
      "81225it [00:02, 33779.46it/s]\u001b[A\n",
      "84613it [00:02, 33801.17it/s]\u001b[A\n",
      "90951it [00:02, 33564.64it/s]\u001b[A\n",
      " 83%|█████████████████████████████████████████████████████████████████████████               | 83/100 [12:32<02:50, 10.01s/it]"
     ]
    },
    {
     "name": "stdout",
     "output_type": "stream",
     "text": [
      "Computing brute force solution for dictionary dimension 3 and target_dimension 2\n"
     ]
    },
    {
     "name": "stderr",
     "output_type": "stream",
     "text": [
      "\n",
      "3it [00:00, 6831.11it/s]\n",
      " 84%|█████████████████████████████████████████████████████████████████████████▉              | 84/100 [12:41<02:34,  9.68s/it]"
     ]
    },
    {
     "name": "stdout",
     "output_type": "stream",
     "text": [
      "Computing brute force solution for dictionary dimension 3 and target_dimension 2\n"
     ]
    },
    {
     "name": "stderr",
     "output_type": "stream",
     "text": [
      "\n",
      "3it [00:00, 11164.96it/s]\n",
      " 85%|██████████████████████████████████████████████████████████████████████████▊             | 85/100 [12:49<02:20,  9.34s/it]"
     ]
    },
    {
     "name": "stdout",
     "output_type": "stream",
     "text": [
      "Computing brute force solution for dictionary dimension 3 and target_dimension 2\n"
     ]
    },
    {
     "name": "stderr",
     "output_type": "stream",
     "text": [
      "\n",
      "3it [00:00, 5860.69it/s]\n",
      " 86%|███████████████████████████████████████████████████████████████████████████▋            | 86/100 [12:58<02:07,  9.10s/it]"
     ]
    },
    {
     "name": "stdout",
     "output_type": "stream",
     "text": [
      "Computing brute force solution for dictionary dimension 3 and target_dimension 2\n"
     ]
    },
    {
     "name": "stderr",
     "output_type": "stream",
     "text": [
      "\n",
      "3it [00:00, 3533.53it/s]\n",
      " 87%|████████████████████████████████████████████████████████████████████████████▌           | 87/100 [13:06<01:55,  8.89s/it]"
     ]
    },
    {
     "name": "stdout",
     "output_type": "stream",
     "text": [
      "Computing brute force solution for dictionary dimension 382 and target_dimension 2\n"
     ]
    },
    {
     "name": "stderr",
     "output_type": "stream",
     "text": [
      "\n",
      "0it [00:00, ?it/s]\u001b[A\n",
      "3229it [00:00, 32282.03it/s]\u001b[A\n",
      "6458it [00:00, 30904.84it/s]\u001b[A\n",
      "9553it [00:00, 30519.83it/s]\u001b[A\n",
      "12660it [00:00, 30729.87it/s]\u001b[A\n",
      "15805it [00:00, 30984.14it/s]\u001b[A\n",
      "18905it [00:00, 30959.12it/s]\u001b[A\n",
      "22089it [00:00, 31242.91it/s]\u001b[A\n",
      "25336it [00:00, 31630.92it/s]\u001b[A\n",
      "28500it [00:00, 31356.32it/s]\u001b[A\n",
      "31637it [00:01, 31318.59it/s]\u001b[A\n",
      "34770it [00:01, 31182.43it/s]\u001b[A\n",
      "37938it [00:01, 31329.96it/s]\u001b[A\n",
      "41172it [00:01, 31633.09it/s]\u001b[A\n",
      "44381it [00:01, 31768.73it/s]\u001b[A\n",
      "47559it [00:01, 31604.44it/s]\u001b[A\n",
      "50720it [00:01, 31429.72it/s]\u001b[A\n",
      "53888it [00:01, 31502.96it/s]\u001b[A\n",
      "57124it [00:01, 31757.83it/s]\u001b[A\n",
      "60335it [00:01, 31861.00it/s]\u001b[A\n",
      "63558it [00:02, 31969.55it/s]\u001b[A\n",
      "66830it [00:02, 32193.40it/s]\u001b[A\n",
      "72771it [00:02, 31454.02it/s]\u001b[A\n",
      " 88%|█████████████████████████████████████████████████████████████████████████████▍          | 88/100 [13:18<01:54,  9.58s/it]"
     ]
    },
    {
     "name": "stdout",
     "output_type": "stream",
     "text": [
      "Computing brute force solution for dictionary dimension 2 and target_dimension 2\n"
     ]
    },
    {
     "name": "stderr",
     "output_type": "stream",
     "text": [
      "\n",
      "1it [00:00, 1240.92it/s]\n",
      " 89%|██████████████████████████████████████████████████████████████████████████████▎         | 89/100 [13:26<01:41,  9.25s/it]"
     ]
    },
    {
     "name": "stdout",
     "output_type": "stream",
     "text": [
      "Computing brute force solution for dictionary dimension 455 and target_dimension 2\n"
     ]
    },
    {
     "name": "stderr",
     "output_type": "stream",
     "text": [
      "\n",
      "0it [00:00, ?it/s]\u001b[A\n",
      "3354it [00:00, 33536.59it/s]\u001b[A\n",
      "6758it [00:00, 33830.11it/s]\u001b[A\n",
      "10175it [00:00, 33981.73it/s]\u001b[A\n",
      "13768it [00:00, 34747.25it/s]\u001b[A\n",
      "17243it [00:00, 34415.19it/s]\u001b[A\n",
      "20686it [00:00, 34345.49it/s]\u001b[A\n",
      "24121it [00:00, 34338.90it/s]\u001b[A\n",
      "27556it [00:00, 33816.15it/s]\u001b[A\n",
      "31021it [00:00, 34072.27it/s]\u001b[A\n",
      "34575it [00:01, 34519.56it/s]\u001b[A\n",
      "38029it [00:01, 33823.06it/s]\u001b[A\n",
      "41415it [00:01, 33804.34it/s]\u001b[A\n",
      "45020it [00:01, 34473.02it/s]\u001b[A\n",
      "48470it [00:01, 34475.10it/s]\u001b[A\n",
      "51934it [00:01, 34522.11it/s]\u001b[A\n",
      "55402it [00:01, 34568.25it/s]\u001b[A\n",
      "58860it [00:01, 34204.41it/s]\u001b[A\n",
      "62314it [00:01, 34303.54it/s]\u001b[A\n",
      "65825it [00:01, 34542.41it/s]\u001b[A\n",
      "69327it [00:02, 34682.72it/s]\u001b[A\n",
      "72796it [00:02, 34078.39it/s]\u001b[A\n",
      "76207it [00:02, 33994.06it/s]\u001b[A\n",
      "79609it [00:02, 33756.51it/s]\u001b[A\n",
      "83088it [00:02, 34061.77it/s]\u001b[A\n",
      "86496it [00:02, 33634.31it/s]\u001b[A\n",
      "89862it [00:02, 33327.63it/s]\u001b[A\n",
      "93377it [00:02, 33862.01it/s]\u001b[A\n",
      "96766it [00:02, 33829.52it/s]\u001b[A\n",
      "103285it [00:03, 34189.34it/s]\u001b[A\n",
      " 90%|███████████████████████████████████████████████████████████████████████████████▏        | 90/100 [13:37<01:38,  9.88s/it]"
     ]
    },
    {
     "name": "stdout",
     "output_type": "stream",
     "text": [
      "Computing brute force solution for dictionary dimension 3 and target_dimension 2\n"
     ]
    },
    {
     "name": "stderr",
     "output_type": "stream",
     "text": [
      "\n",
      "3it [00:00, 7938.75it/s]\n",
      " 91%|████████████████████████████████████████████████████████████████████████████████        | 91/100 [13:46<01:24,  9.41s/it]"
     ]
    },
    {
     "name": "stdout",
     "output_type": "stream",
     "text": [
      "Computing brute force solution for dictionary dimension 216 and target_dimension 2\n"
     ]
    },
    {
     "name": "stderr",
     "output_type": "stream",
     "text": [
      "\n",
      "0it [00:00, ?it/s]\u001b[A\n",
      "3508it [00:00, 35073.26it/s]\u001b[A\n",
      "7016it [00:00, 33455.75it/s]\u001b[A\n",
      "10445it [00:00, 33824.62it/s]\u001b[A\n",
      "13832it [00:00, 33531.65it/s]\u001b[A\n",
      "17333it [00:00, 34053.45it/s]\u001b[A\n",
      "23220it [00:00, 34005.53it/s]\u001b[A\n",
      " 92%|████████████████████████████████████████████████████████████████████████████████▉       | 92/100 [13:55<01:14,  9.37s/it]"
     ]
    },
    {
     "name": "stdout",
     "output_type": "stream",
     "text": [
      "Computing brute force solution for dictionary dimension 3 and target_dimension 2\n"
     ]
    },
    {
     "name": "stderr",
     "output_type": "stream",
     "text": [
      "\n",
      "3it [00:00, 14786.03it/s]\n",
      " 93%|█████████████████████████████████████████████████████████████████████████████████▊      | 93/100 [14:04<01:03,  9.11s/it]"
     ]
    },
    {
     "name": "stdout",
     "output_type": "stream",
     "text": [
      "Computing brute force solution for dictionary dimension 422 and target_dimension 2\n"
     ]
    },
    {
     "name": "stderr",
     "output_type": "stream",
     "text": [
      "\n",
      "0it [00:00, ?it/s]\u001b[A\n",
      "3250it [00:00, 32498.48it/s]\u001b[A\n",
      "6714it [00:00, 33756.58it/s]\u001b[A\n",
      "10090it [00:00, 33210.11it/s]\u001b[A\n",
      "13591it [00:00, 33910.84it/s]\u001b[A\n",
      "16993it [00:00, 33948.25it/s]\u001b[A\n",
      "20389it [00:00, 33654.52it/s]\u001b[A\n",
      "23849it [00:00, 33957.84it/s]\u001b[A\n",
      "27289it [00:00, 34092.67it/s]\u001b[A\n",
      "30716it [00:00, 34146.28it/s]\u001b[A\n",
      "34132it [00:01, 30294.60it/s]\u001b[A\n",
      "37600it [00:01, 31521.01it/s]\u001b[A\n",
      "41200it [00:01, 32802.10it/s]\u001b[A\n",
      "44534it [00:01, 32732.69it/s]\u001b[A\n",
      "47995it [00:01, 33279.46it/s]\u001b[A\n",
      "51351it [00:01, 33263.34it/s]\u001b[A\n",
      "54891it [00:01, 33891.81it/s]\u001b[A\n",
      "58336it [00:01, 34055.15it/s]\u001b[A\n",
      "61753it [00:01, 33541.68it/s]\u001b[A\n",
      "65146it [00:01, 33655.73it/s]\u001b[A\n",
      "68518it [00:02, 31582.58it/s]\u001b[A\n",
      "71974it [00:02, 32426.46it/s]\u001b[A\n",
      "75579it [00:02, 33470.63it/s]\u001b[A\n",
      "79009it [00:02, 33712.35it/s]\u001b[A\n",
      "82573it [00:02, 34277.38it/s]\u001b[A\n",
      "88831it [00:02, 33345.95it/s]\u001b[A\n",
      " 94%|██████████████████████████████████████████████████████████████████████████████████▋     | 94/100 [14:14<00:57,  9.65s/it]"
     ]
    },
    {
     "name": "stdout",
     "output_type": "stream",
     "text": [
      "Computing brute force solution for dictionary dimension 387 and target_dimension 2\n"
     ]
    },
    {
     "name": "stderr",
     "output_type": "stream",
     "text": [
      "\n",
      "0it [00:00, ?it/s]\u001b[A\n",
      "3402it [00:00, 34017.27it/s]\u001b[A\n",
      "6859it [00:00, 34337.31it/s]\u001b[A\n",
      "10293it [00:00, 33914.84it/s]\u001b[A\n",
      "13686it [00:00, 33530.21it/s]\u001b[A\n",
      "17095it [00:00, 33727.79it/s]\u001b[A\n",
      "20577it [00:00, 34094.05it/s]\u001b[A\n",
      "23988it [00:00, 33651.45it/s]\u001b[A\n",
      "27611it [00:00, 34461.08it/s]\u001b[A\n",
      "31060it [00:00, 34051.78it/s]\u001b[A\n",
      "34468it [00:01, 33553.81it/s]\u001b[A\n",
      "37826it [00:01, 33252.58it/s]\u001b[A\n",
      "41306it [00:01, 33711.38it/s]\u001b[A\n",
      "44716it [00:01, 33825.89it/s]\u001b[A\n",
      "48102it [00:01, 33833.35it/s]\u001b[A\n",
      "51487it [00:01, 33620.51it/s]\u001b[A\n",
      "54977it [00:01, 34001.56it/s]\u001b[A\n",
      "58379it [00:01, 33793.09it/s]\u001b[A\n",
      "61853it [00:01, 34074.52it/s]\u001b[A\n",
      "65262it [00:01, 34075.15it/s]\u001b[A\n",
      "68771it [00:02, 34376.70it/s]\u001b[A\n",
      "74691it [00:02, 33935.47it/s]\u001b[A\n",
      " 95%|███████████████████████████████████████████████████████████████████████████████████▌    | 95/100 [14:25<00:49,  9.89s/it]"
     ]
    },
    {
     "name": "stdout",
     "output_type": "stream",
     "text": [
      "Computing brute force solution for dictionary dimension 3 and target_dimension 2\n"
     ]
    },
    {
     "name": "stderr",
     "output_type": "stream",
     "text": [
      "\n",
      "3it [00:00, 5882.61it/s]\n",
      " 96%|████████████████████████████████████████████████████████████████████████████████████▍   | 96/100 [14:33<00:38,  9.51s/it]"
     ]
    },
    {
     "name": "stdout",
     "output_type": "stream",
     "text": [
      "Computing brute force solution for dictionary dimension 3 and target_dimension 2\n"
     ]
    },
    {
     "name": "stderr",
     "output_type": "stream",
     "text": [
      "\n",
      "3it [00:00, 6797.90it/s]\n",
      " 97%|█████████████████████████████████████████████████████████████████████████████████████▎  | 97/100 [14:42<00:27,  9.13s/it]"
     ]
    },
    {
     "name": "stdout",
     "output_type": "stream",
     "text": [
      "Computing brute force solution for dictionary dimension 399 and target_dimension 2\n"
     ]
    },
    {
     "name": "stderr",
     "output_type": "stream",
     "text": [
      "\n",
      "0it [00:00, ?it/s]\u001b[A\n",
      "3234it [00:00, 32335.17it/s]\u001b[A\n",
      "6662it [00:00, 33477.92it/s]\u001b[A\n",
      "10010it [00:00, 33241.32it/s]\u001b[A\n",
      "13481it [00:00, 33815.27it/s]\u001b[A\n",
      "16863it [00:00, 33714.41it/s]\u001b[A\n",
      "20235it [00:00, 32776.41it/s]\u001b[A\n",
      "23542it [00:00, 32866.20it/s]\u001b[A\n",
      "26957it [00:00, 33265.71it/s]\u001b[A\n",
      "30471it [00:00, 33843.18it/s]\u001b[A\n",
      "33943it [00:01, 34109.61it/s]\u001b[A\n",
      "37391it [00:01, 34219.35it/s]\u001b[A\n",
      "40815it [00:01, 34022.33it/s]\u001b[A\n",
      "44359it [00:01, 34446.85it/s]\u001b[A\n",
      "47805it [00:01, 33933.98it/s]\u001b[A\n",
      "51201it [00:01, 33697.52it/s]\u001b[A\n",
      "54573it [00:01, 32596.98it/s]\u001b[A\n",
      "57949it [00:01, 32933.69it/s]\u001b[A\n",
      "61488it [00:01, 33652.88it/s]\u001b[A\n",
      "64866it [00:01, 33688.04it/s]\u001b[A\n",
      "68240it [00:02, 33669.69it/s]\u001b[A\n",
      "71611it [00:02, 33282.08it/s]\u001b[A\n",
      "74958it [00:02, 33336.37it/s]\u001b[A\n",
      "79401it [00:02, 33467.35it/s]\u001b[A\n",
      " 98%|██████████████████████████████████████████████████████████████████████████████████████▏ | 98/100 [14:52<00:19,  9.62s/it]"
     ]
    },
    {
     "name": "stdout",
     "output_type": "stream",
     "text": [
      "Computing brute force solution for dictionary dimension 2 and target_dimension 2\n"
     ]
    },
    {
     "name": "stderr",
     "output_type": "stream",
     "text": [
      "\n",
      "1it [00:00, 3256.45it/s]\n",
      " 99%|███████████████████████████████████████████████████████████████████████████████████████ | 99/100 [15:01<00:09,  9.18s/it]"
     ]
    },
    {
     "name": "stdout",
     "output_type": "stream",
     "text": [
      "Computing brute force solution for dictionary dimension 3 and target_dimension 2\n"
     ]
    },
    {
     "name": "stderr",
     "output_type": "stream",
     "text": [
      "\n",
      "3it [00:00, 5345.33it/s]\n",
      "100%|███████████████████████████████████████████████████████████████████████████████████████| 100/100 [15:09<00:00,  9.09s/it]\n"
     ]
    }
   ],
   "source": [
    "losses = []\n",
    "two_stage_losses = []\n",
    "random_two_stage_losses= []\n",
    "nbp = []\n",
    "\n",
    "for i in tqdm(range(100)):\n",
    "    X = dg_M[i]\n",
    "    output = greedy(X, isometry_loss, dimension, []) # plainly brute is too hard 178**13 combinations\n",
    "    loss = isometry_loss(X[:,output])\n",
    "    losses.append(loss)\n",
    "    data_transformed = exponential_transformation(X)\n",
    "    beta = group_basis_pursuit(data_transformed)\n",
    "    basis_pursuit_indices = np.where(np.linalg.norm(beta, axis = 1))[0]\n",
    "    nbp.append(len(basis_pursuit_indices))\n",
    "\n",
    "    two_stage_output = basis_pursuit_indices[np.asarray(brute(X[:,basis_pursuit_indices], isometry_loss, dimension))] # plainly this is too hard 178**13 combinations\n",
    "    two_stage_loss = isometry_loss(X[:,two_stage_output])\n",
    "    two_stage_losses.append(two_stage_loss)\n",
    "    random_indices = np.random.choice(range(X.shape[1]), len(basis_pursuit_indices), replace=False)\n",
    "    random_two_stage_losses.append(isometry_loss(X[:,random_indices]))"
   ]
  },
  {
   "cell_type": "code",
   "execution_count": 9,
   "id": "8bdf0a1b",
   "metadata": {},
   "outputs": [
    {
     "data": {
      "text/plain": [
       "67"
      ]
     },
     "execution_count": 9,
     "metadata": {},
     "output_type": "execute_result"
    }
   ],
   "source": [
    "len(np.where(np.asarray(losses) > np.asarray(two_stage_losses))[0])"
   ]
  },
  {
   "cell_type": "code",
   "execution_count": 10,
   "id": "154cbcb1",
   "metadata": {},
   "outputs": [
    {
     "name": "stderr",
     "output_type": "stream",
     "text": [
      "/var/folders/5j/2xkgvzfs29nfprr5czfm2gtr0000gn/T/ipykernel_37070/3135903448.py:4: MatplotlibDeprecationWarning: The 'labels' parameter of boxplot() has been renamed 'tick_labels' since Matplotlib 3.9; support for the old name will be dropped in 3.11.\n",
      "  plt.boxplot(data, labels=['Losses', 'Two Stage Losses'])\n"
     ]
    },
    {
     "data": {
      "image/png": "[encoded data removed]",
      "text/plain": [
       "<Figure size 640x480 with 1 Axes>"
      ]
     },
     "metadata": {},
     "output_type": "display_data"
    }
   ],
   "source": [
    "import matplotlib.pyplot as plt\n",
    "\n",
    "data = [losses, two_stage_losses]\n",
    "plt.boxplot(data, labels=['Losses', 'Two Stage Losses'])\n",
    "plt.title('Side-by-Side Boxplot')\n",
    "plt.ylabel('Values')\n",
    "plt.show()"
   ]
  },
  {
   "cell_type": "code",
   "execution_count": 11,
   "id": "e932c6f4",
   "metadata": {},
   "outputs": [
    {
     "name": "stdout",
     "output_type": "stream",
     "text": [
      "2.589860598839248\n",
      "0.2991649522275855\n",
      "2.4968385031324267\n",
      "0.19721093342768994\n",
      "90.2\n",
      "164.6394849360262\n"
     ]
    }
   ],
   "source": [
    "print(np.mean(losses))\n",
    "print(np.std(losses))  # Standard deviation\n",
    "print(np.mean(two_stage_losses))\n",
    "print(np.std(two_stage_losses))  # Standard deviation\n",
    "print(np.mean(nbp))\n",
    "print(np.std(nbp))  # Standard deviation"
   ]
  },
  {
   "cell_type": "code",
   "execution_count": 12,
   "id": "e2e03fce",
   "metadata": {},
   "outputs": [],
   "source": [
    "from scipy import stats\n",
    "\n",
    "t_statistic, p_value = stats.ttest_rel(losses, two_stage_losses)\n"
   ]
  },
  {
   "cell_type": "code",
   "execution_count": 13,
   "id": "ac79c65c",
   "metadata": {},
   "outputs": [
    {
     "data": {
      "text/plain": [
       "2.072596276350502e-05"
      ]
     },
     "execution_count": 13,
     "metadata": {},
     "output_type": "execute_result"
    }
   ],
   "source": [
    "p_value"
   ]
  },
  {
   "cell_type": "code",
   "execution_count": null,
   "id": "b3be9e3d",
   "metadata": {},
   "outputs": [],
   "source": []
  }
 ],
 "metadata": {
  "kernelspec": {
   "display_name": "isometry",
   "language": "python",
   "name": "isometry"
  },
  "language_info": {
   "codemirror_mode": {
    "name": "ipython",
    "version": 3
   },
   "file_extension": ".py",
   "mimetype": "text/x-python",
   "name": "python",
   "nbconvert_exporter": "python",
   "pygments_lexer": "ipython3",
   "version": "3.10.14"
  }
 },
 "nbformat": 4,
 "nbformat_minor": 5
}

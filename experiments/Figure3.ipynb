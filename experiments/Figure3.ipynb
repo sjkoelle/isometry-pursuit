{
 "cells": [
  {
   "cell_type": "code",
   "execution_count": 3,
   "id": "e1688f92",
   "metadata": {},
   "outputs": [
    {
     "name": "stdout",
     "output_type": "stream",
     "text": [
      "Loading ethanol data\n"
     ]
    }
   ],
   "source": [
    "%load_ext autoreload\n",
    "%autoreload 2\n",
    "\n",
    "print('Loading ethanol data')\n",
    "\n",
    "config_path = \"/Users/samsonkoelle/montlake/experiments/configs/ethanol_full.json\"\n",
    "raw_data = \"/Users/samsonkoelle/thesis_data/raw_data/ethanol.mat\"\n",
    "\n"
   ]
  },
  {
   "cell_type": "code",
   "execution_count": 4,
   "id": "c1c1855e",
   "metadata": {},
   "outputs": [],
   "source": [
    "import numpy as np\n",
    "import random\n",
    "import json\n",
    "import torch\n",
    "from convexlocalisometry.vendor import HParams\n",
    "from convexlocalisometry.atomic_geometry import get_atoms3_full, get_atoms4_full\n",
    "import itertools\n",
    "\n",
    "positions = np.load('/Users/samsonkoelle/positions.npy')\n",
    "randomindices = np.load('/Users/samsonkoelle/indices.npy')\n",
    "\n",
    "np.random.seed(1234)\n",
    "random.seed(1234)\n",
    "\n",
    "config = {}\n",
    "\n",
    "with open(config_path) as f:\n",
    "    config.update(json.load(f))\n",
    "\n",
    "\n",
    "hparams = HParams(**config)\n"
   ]
  },
  {
   "cell_type": "code",
   "execution_count": 120,
   "id": "57fd09d2",
   "metadata": {},
   "outputs": [],
   "source": [
    "d = hparams.d\n",
    "n_components = hparams.n_components\n",
    "atoms2_feat = hparams.atoms2_feat\n",
    "atoms3_feat = hparams.atoms3_feat\n",
    "atoms4_feat = hparams.atoms4_feat\n",
    "atoms2_dict = hparams.atoms2_dict\n",
    "atoms3_dict = hparams.atoms3_dict\n",
    "atoms4_dict = hparams.atoms4_dict\n",
    "diagram = hparams.diagram\n",
    "\n",
    "ii = np.asarray(hparams.ii)\n",
    "jj = np.asarray(hparams.jj)\n",
    "#load geometric features\n",
    "natoms = positions.shape[1]\n",
    "n = positions.shape[0]\n",
    "atoms2 = np.asarray(list(itertools.combinations(range(natoms), 2)))\n",
    "atoms2full = atoms2\n",
    "atoms3 = np.asarray(list(itertools.combinations(range(natoms), 3)))\n",
    "atoms4 = np.asarray(list(itertools.combinations(range(natoms), 4)))\n",
    "atoms3full = get_atoms3_full(atoms3)\n",
    "atoms4full = get_atoms4_full(atoms4)\n",
    "\n",
    "if atoms2_feat:\n",
    "    atoms2_feats = atoms2full\n",
    "else:\n",
    "    atoms2_feats = np.asarray([])\n",
    "\n",
    "if atoms3_feat:\n",
    "    atoms3_feats = atoms3full\n",
    "else:\n",
    "    atoms3_feats = np.asarray([])\n",
    "\n",
    "if atoms4_feat:\n",
    "    atoms4_feats = atoms4full\n",
    "else:\n",
    "    atoms4_feats = np.asarray([])"
   ]
  },
  {
   "cell_type": "code",
   "execution_count": 10,
   "id": "7078960c",
   "metadata": {},
   "outputs": [],
   "source": [
    "# from pathos.multiprocessing import ProcessingPool as Pool\n",
    "\n",
    "# #compute rotation/translation invariant featureization\n",
    "# cores = pathos.multiprocessing.cpu_count() - 1\n",
    "# pool = Pool(cores)\n",
    "# print('feature dimensions',atoms2_feats.shape, atoms3_feats.shape,atoms4_feats.shape)\n",
    "# #import pdb;pdb.set_trace\n",
    "# results = pool.map(lambda i: get_features(positions[i],\n",
    "#                            atoms2 = atoms2_feats,\n",
    "#                            atoms3 = atoms3_feats,\n",
    "#                            atoms4 = atoms4_feats),\n",
    "#     data_stream_custom_range(list(range(n))))\n",
    "\n",
    "# data = np.vstack([np.hstack(results[i]) for i in range(n)])\n",
    "# np.save('ethanolanglesfull_0524.npy', data)\n",
    "\n",
    "data = np.load('/Users/samsonkoelle/ethanolanglesfull_0524.npy')"
   ]
  },
  {
   "cell_type": "code",
   "execution_count": 13,
   "id": "f228b306",
   "metadata": {},
   "outputs": [
    {
     "name": "stdout",
     "output_type": "stream",
     "text": [
      "next\n"
     ]
    }
   ],
   "source": [
    "#compute geometry\n",
    "# radius = hparams.radius\n",
    "n_neighbors = hparams.n_neighbors\n",
    "# geom = get_geom(data_svd, radius, n_neighbors)\n",
    "# geom = get_geom(data, radius, n_neighbors) # megaman doesn't have python 3.10 support\n",
    "print('next')"
   ]
  },
  {
   "cell_type": "code",
   "execution_count": 89,
   "id": "aead78af",
   "metadata": {},
   "outputs": [],
   "source": [
    "from sklearn.decomposition import PCA\n",
    "ind=2001\n",
    "dimension=2\n",
    "\n",
    "def local_pca(data,ind,n_neighbors,dimension):\n",
    "    neighbor_indices = np.linalg.norm(data[:,:] - data[ind,:], axis = 1).argsort()[:n_neighbors]\n",
    "    local_neighborhood = data[neighbor_indices]\n",
    "    local_neighborhood = data[neighbor_indices,:]\n",
    "    centered_data = local_neighborhood - local_neighborhood.mean(axis=0)\n",
    "\n",
    "\n",
    "    # Perform PCA on the centered neighborhood data\n",
    "    pca = PCA(n_components=dimension)\n",
    "    pca.fit(centered_data)\n",
    "    tangent_bases = pca.components_.transpose()\n",
    "    return tangent_bases"
   ]
  },
  {
   "cell_type": "code",
   "execution_count": 90,
   "id": "2ae22dcc",
   "metadata": {},
   "outputs": [],
   "source": [
    "from convexlocalisometry.atomic_geometry import get_atoms_4\n",
    "atoms4_dicts= get_atoms_4(natoms, ii, jj)[0]\n",
    "if atoms2_dict:\n",
    "    atoms2_dicts = atoms2full\n",
    "else:\n",
    "    atoms2_dicts = np.asarray([])\n",
    "if atoms3_dict:\n",
    "    atoms3_dicts = atoms3full\n",
    "else:\n",
    "    atoms3_dicts = np.asarray([])\n"
   ]
  },
  {
   "cell_type": "code",
   "execution_count": 122,
   "id": "86b482cf",
   "metadata": {},
   "outputs": [],
   "source": [
    "atoms4full = get_atoms4_full(atoms4)"
   ]
  },
  {
   "cell_type": "code",
   "execution_count": 123,
   "id": "dd4d06cd",
   "metadata": {},
   "outputs": [
    {
     "data": {
      "text/plain": [
       "array([[0, 1, 2, 3],\n",
       "       [1, 2, 3, 0],\n",
       "       [2, 3, 0, 1],\n",
       "       ...,\n",
       "       [8, 5, 6, 7],\n",
       "       [5, 6, 8, 7],\n",
       "       [6, 5, 7, 8]])"
      ]
     },
     "execution_count": 123,
     "metadata": {},
     "output_type": "execute_result"
    }
   ],
   "source": [
    "atoms4full"
   ]
  },
  {
   "cell_type": "code",
   "execution_count": 91,
   "id": "e38e2603",
   "metadata": {},
   "outputs": [],
   "source": [
    "from scipy import sparse\n",
    "from convexlocalisometry.transformation import exponential_transformation\n"
   ]
  },
  {
   "cell_type": "code",
   "execution_count": 171,
   "id": "f4cda38c",
   "metadata": {},
   "outputs": [],
   "source": [
    "nsel = 1\n",
    "selected_points = np.random.choice(range(50000),nsel)\n",
    "dg_x = np.asarray([get_D_feats_feats(positions[selected_points[i]],\n",
    "           atoms2in = atoms2_feats,\n",
    "           atoms3in = atoms3_feats,\n",
    "           atoms4in = atoms4_feats,\n",
    "           atoms2out = atoms2_dicts,\n",
    "           atoms3out = atoms3_dicts,\n",
    "           atoms4out = atoms4full) for i in range(nsel)])                           \n",
    "#            atoms4out = atoms4_dicts) for i in range(nsel)])\n",
    "\n",
    "power = 1\n",
    "for i, sp in enumerate(selected_points):\n",
    "    tangent_bases = local_pca(data, sp, n_neighbors, dimension)\n",
    "    # NOTE (Sam): check convergence rate on weighted local versus local PCA\n",
    "#     tangent_bases = get_wlpca_tangent_sel(data, geom, replicates[r].selected_points, d)\n",
    "\n",
    "    # NOTE (Sam): normalization prior to projection once again in the manifold case.\n",
    "    # or normalize and regress the tangent coordinates themselves in R^B\n",
    "    dg_x_normalized = exponential_transformation(dg_x[i], power)\n",
    "    dg_M = np.einsum('b p, b d -> d p', dg_x_normalized, tangent_bases)"
   ]
  },
  {
   "cell_type": "code",
   "execution_count": 172,
   "id": "18882000",
   "metadata": {},
   "outputs": [
    {
     "name": "stdout",
     "output_type": "stream",
     "text": [
      "[658, 621]\n"
     ]
    }
   ],
   "source": [
    "from convexlocalisometry.algorithm import greedy, group_basis_pursuit\n",
    "from convexlocalisometry.loss import isometry_loss\n",
    "\n",
    "output = greedy(dg_M, isometry_loss, dimension)\n",
    "print(output)\n",
    "\n",
    "\n"
   ]
  },
  {
   "cell_type": "code",
   "execution_count": 173,
   "id": "5ab7c74b",
   "metadata": {},
   "outputs": [
    {
     "data": {
      "text/plain": [
       "(2, 756)"
      ]
     },
     "execution_count": 173,
     "metadata": {},
     "output_type": "execute_result"
    }
   ],
   "source": [
    "dg_M.shape"
   ]
  },
  {
   "cell_type": "code",
   "execution_count": 174,
   "id": "f74d203f",
   "metadata": {},
   "outputs": [
    {
     "data": {
      "text/plain": [
       "array([0.89944777, 0.21746936])"
      ]
     },
     "execution_count": 174,
     "metadata": {},
     "output_type": "execute_result"
    }
   ],
   "source": [
    "np.linalg.svd(dg_M[:,output])[1] \n",
    "# NOTE (Sam): shouldn't this always have the best top singular value?\n",
    "# maybe not necessarily"
   ]
  },
  {
   "cell_type": "code",
   "execution_count": 176,
   "id": "9b79d106",
   "metadata": {},
   "outputs": [
    {
     "name": "stdout",
     "output_type": "stream",
     "text": [
      "Computing isometry pursuit solution\n"
     ]
    },
    {
     "name": "stderr",
     "output_type": "stream",
     "text": [
      "/Users/samsonkoelle/miniconda3/envs/isometry/lib/python3.10/site-packages/cvxpy/problems/problem.py:1407: UserWarning: Solution may be inaccurate. Try another solver, adjusting the solver settings, or solve with verbose=True for more information.\n",
      "  warnings.warn(\n"
     ]
    }
   ],
   "source": [
    "print('Computing isometry pursuit solution')\n",
    "beta = group_basis_pursuit(dg_M)"
   ]
  },
  {
   "cell_type": "code",
   "execution_count": 177,
   "id": "4834a63d",
   "metadata": {},
   "outputs": [
    {
     "name": "stdout",
     "output_type": "stream",
     "text": [
      "[331 639 665]\n"
     ]
    }
   ],
   "source": [
    "basis_pursuit_indices = np.where(np.linalg.norm(beta, axis = 1))[0]\n",
    "print(basis_pursuit_indices)"
   ]
  },
  {
   "cell_type": "code",
   "execution_count": 178,
   "id": "c2479e90",
   "metadata": {},
   "outputs": [
    {
     "data": {
      "text/plain": [
       "array([0.93685615, 0.746045  ])"
      ]
     },
     "execution_count": 178,
     "metadata": {},
     "output_type": "execute_result"
    }
   ],
   "source": [
    "np.linalg.svd(dg_M[:,basis_pursuit_indices])[1]"
   ]
  },
  {
   "cell_type": "code",
   "execution_count": 45,
   "id": "d2b3a251",
   "metadata": {},
   "outputs": [],
   "source": [
    "from convexlocalisometry.atomic_geometry import get_D_feats_feats"
   ]
  },
  {
   "cell_type": "code",
   "execution_count": 179,
   "id": "62fd2a3f",
   "metadata": {},
   "outputs": [
    {
     "data": {
      "text/plain": [
       "(3,)"
      ]
     },
     "execution_count": 179,
     "metadata": {},
     "output_type": "execute_result"
    }
   ],
   "source": [
    "basis_pursuit_indices.shape"
   ]
  },
  {
   "cell_type": "code",
   "execution_count": 180,
   "id": "eaf1a1fe",
   "metadata": {},
   "outputs": [
    {
     "data": {
      "text/plain": [
       "(2, 3)"
      ]
     },
     "execution_count": 180,
     "metadata": {},
     "output_type": "execute_result"
    }
   ],
   "source": [
    "dg_M[:,basis_pursuit_indices].shape"
   ]
  },
  {
   "cell_type": "code",
   "execution_count": 188,
   "id": "55187b85",
   "metadata": {},
   "outputs": [
    {
     "name": "stdout",
     "output_type": "stream",
     "text": [
      "Computing brute force solution for dictionary dimension 3 and target_dimension 2\n"
     ]
    },
    {
     "name": "stderr",
     "output_type": "stream",
     "text": [
      "3it [00:00, 8548.17it/s]\n"
     ]
    }
   ],
   "source": [
    "from convexlocalisometry.algorithm import brute\n",
    "second_stage_indices = brute(dg_M[:,basis_pursuit_indices], isometry_loss, dimension)"
   ]
  },
  {
   "cell_type": "code",
   "execution_count": 189,
   "id": "07a39494",
   "metadata": {},
   "outputs": [
    {
     "data": {
      "text/plain": [
       "array([0.82209478, 0.51852046])"
      ]
     },
     "execution_count": 189,
     "metadata": {},
     "output_type": "execute_result"
    }
   ],
   "source": [
    "np.linalg.svd(dg_M[:,basis_pursuit_indices[[0,1]]])[1]"
   ]
  },
  {
   "cell_type": "code",
   "execution_count": 187,
   "id": "e22cb723",
   "metadata": {},
   "outputs": [
    {
     "data": {
      "text/plain": [
       "array([5.98636004, 4.97458501])"
      ]
     },
     "execution_count": 187,
     "metadata": {},
     "output_type": "execute_result"
    }
   ],
   "source": [
    "np.linalg.svd(dg_M[:,:])[1]"
   ]
  },
  {
   "cell_type": "code",
   "execution_count": 190,
   "id": "83578de5",
   "metadata": {},
   "outputs": [
    {
     "name": "stdout",
     "output_type": "stream",
     "text": [
      "Computing brute force solution for dictionary dimension 756 and target_dimension 2\n"
     ]
    },
    {
     "name": "stderr",
     "output_type": "stream",
     "text": [
      "0it [00:00, ?it/s]/Users/samsonkoelle/convexlocalisometry/convexlocalisometry/loss.py:14: RuntimeWarning: overflow encountered in exp\n",
      "  (np.exp(singular_values) + np.exp(singular_values ** (-1))) / (2 * np.e)\n",
      "285390it [00:10, 28091.77it/s]\n"
     ]
    }
   ],
   "source": [
    "brute_indices = brute(dg_M, isometry_loss, dimension)"
   ]
  },
  {
   "cell_type": "code",
   "execution_count": 191,
   "id": "1fb788ea",
   "metadata": {},
   "outputs": [
    {
     "data": {
      "text/plain": [
       "array([0.78525183, 0.58334542])"
      ]
     },
     "execution_count": 191,
     "metadata": {},
     "output_type": "execute_result"
    }
   ],
   "source": [
    "np.linalg.svd(dg_M[:,brute_indices])[1]"
   ]
  },
  {
   "cell_type": "code",
   "execution_count": null,
   "id": "4f85828e",
   "metadata": {},
   "outputs": [],
   "source": []
  }
 ],
 "metadata": {
  "kernelspec": {
   "display_name": "isometry",
   "language": "python",
   "name": "isometry"
  },
  "language_info": {
   "codemirror_mode": {
    "name": "ipython",
    "version": 3
   },
   "file_extension": ".py",
   "mimetype": "text/x-python",
   "name": "python",
   "nbconvert_exporter": "python",
   "pygments_lexer": "ipython3",
   "version": "3.10.14"
  }
 },
 "nbformat": 4,
 "nbformat_minor": 5
}

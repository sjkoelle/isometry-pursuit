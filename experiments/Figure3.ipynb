{
 "cells": [
  {
   "cell_type": "code",
   "execution_count": 1,
   "id": "b2927de2",
   "metadata": {},
   "outputs": [
    {
     "ename": "ModuleNotFoundError",
     "evalue": "No module named 'isometry_pursuit'",
     "output_type": "error",
     "traceback": [
      "\u001b[0;31m---------------------------------------------------------------------------\u001b[0m",
      "\u001b[0;31mModuleNotFoundError\u001b[0m                       Traceback (most recent call last)",
      "Cell \u001b[0;32mIn[1], line 7\u001b[0m\n\u001b[1;32m      5\u001b[0m \u001b[38;5;28;01mimport\u001b[39;00m \u001b[38;5;21;01mjson\u001b[39;00m\n\u001b[1;32m      6\u001b[0m \u001b[38;5;28;01mimport\u001b[39;00m \u001b[38;5;21;01mtorch\u001b[39;00m\n\u001b[0;32m----> 7\u001b[0m \u001b[38;5;28;01mfrom\u001b[39;00m \u001b[38;5;21;01misometry_pursuit\u001b[39;00m\u001b[38;5;21;01m.\u001b[39;00m\u001b[38;5;21;01mvendor\u001b[39;00m \u001b[38;5;28;01mimport\u001b[39;00m HParams\n\u001b[1;32m      8\u001b[0m \u001b[38;5;28;01mfrom\u001b[39;00m \u001b[38;5;21;01misometry_pursuit\u001b[39;00m\u001b[38;5;21;01m.\u001b[39;00m\u001b[38;5;21;01matomic_geometry\u001b[39;00m \u001b[38;5;28;01mimport\u001b[39;00m get_atoms3_full, get_atoms4_full, get_atoms_4\n\u001b[1;32m      9\u001b[0m \u001b[38;5;28;01mimport\u001b[39;00m \u001b[38;5;21;01mitertools\u001b[39;00m\n",
      "\u001b[0;31mModuleNotFoundError\u001b[0m: No module named 'isometry_pursuit'"
     ]
    }
   ],
   "source": [
    "%load_ext autoreload\n",
    "%autoreload 2\n",
    "import numpy as np\n",
    "import random\n",
    "import json\n",
    "import torch\n",
    "from isometry_pursuit.vendor import HParams\n",
    "from isometry_pursuit.atomic_geometry import get_atoms3_full, get_atoms4_full, get_atoms_4\n",
    "import itertools\n",
    "\n",
    "print('Loading ethanol data')\n",
    "\n",
    "config_path = \"/Users/samsonkoelle/montlake/experiments/configs/ethanol_full.json\"\n",
    "raw_data = \"/Users/samsonkoelle/thesis_data/raw_data/ethanol.mat\"\n",
    "\n",
    "positions = np.load('/Users/samsonkoelle/positions.npy')\n",
    "randomindices = np.load('/Users/samsonkoelle/indices.npy')\n",
    "\n",
    "np.random.seed(1234)\n",
    "random.seed(1234)\n",
    "\n",
    "config = {}\n",
    "\n",
    "with open(config_path) as f:\n",
    "    config.update(json.load(f))\n",
    "\n",
    "hparams = HParams(**config)"
   ]
  },
  {
   "cell_type": "code",
   "execution_count": 3,
   "id": "37685702",
   "metadata": {},
   "outputs": [],
   "source": [
    "d = hparams.d\n",
    "n_components = hparams.n_components\n",
    "atoms2_feat = hparams.atoms2_feat\n",
    "atoms3_feat = hparams.atoms3_feat\n",
    "atoms4_feat = hparams.atoms4_feat\n",
    "atoms2_dict = hparams.atoms2_dict\n",
    "atoms3_dict = hparams.atoms3_dict\n",
    "atoms4_dict = hparams.atoms4_dict\n",
    "diagram = hparams.diagram\n",
    "\n",
    "ii = np.asarray(hparams.ii)\n",
    "jj = np.asarray(hparams.jj)\n",
    "#load geometric features\n",
    "natoms = positions.shape[1]\n",
    "n = positions.shape[0]\n",
    "atoms2 = np.asarray(list(itertools.combinations(range(natoms), 2)))\n",
    "atoms2full = atoms2\n",
    "atoms3 = np.asarray(list(itertools.combinations(range(natoms), 3)))\n",
    "atoms4 = np.asarray(list(itertools.combinations(range(natoms), 4)))\n",
    "atoms3full = get_atoms3_full(atoms3)\n",
    "atoms4full = get_atoms4_full(atoms4)\n",
    "\n",
    "if atoms2_feat:\n",
    "    atoms2_feats = atoms2full\n",
    "else:\n",
    "    atoms2_feats = np.asarray([])\n",
    "\n",
    "if atoms3_feat:\n",
    "    atoms3_feats = atoms3full\n",
    "else:\n",
    "    atoms3_feats = np.asarray([])\n",
    "\n",
    "if atoms4_feat:\n",
    "    atoms4_feats = atoms4full\n",
    "else:\n",
    "    atoms4_feats = np.asarray([])"
   ]
  },
  {
   "cell_type": "code",
   "execution_count": 4,
   "id": "f921202b",
   "metadata": {},
   "outputs": [],
   "source": [
    "data = np.load('/Users/samsonkoelle/ethanolanglesfull_0524.npy')\n",
    "n_neighbors = hparams.n_neighbors\n",
    "atoms4_dicts= get_atoms_4(natoms, ii, jj)[0]\n",
    "if atoms2_dict:\n",
    "    atoms2_dicts = atoms2full\n",
    "else:\n",
    "    atoms2_dicts = np.asarray([])\n",
    "if atoms3_dict:\n",
    "    atoms3_dicts = atoms3full\n",
    "else:\n",
    "    atoms3_dicts = np.asarray([])\n"
   ]
  },
  {
   "cell_type": "code",
   "execution_count": 5,
   "id": "4fbf4e62",
   "metadata": {},
   "outputs": [
    {
     "name": "stderr",
     "output_type": "stream",
     "text": [
      "/Users/samsonkoelle/miniconda3/envs/isometry/lib/python3.10/site-packages/threadpoolctl.py:1214: RuntimeWarning: \n",
      "Found Intel OpenMP ('libiomp') and LLVM OpenMP ('libomp') loaded at\n",
      "the same time. Both libraries are known to be incompatible and this\n",
      "can cause random crashes or deadlocks on Linux when loaded in the\n",
      "same Python program.\n",
      "Using threadpoolctl may cause crashes or deadlocks. For more\n",
      "information and possible workarounds, please see\n",
      "    https://github.com/joblib/threadpoolctl/blob/master/multiple_openmp.md\n",
      "\n",
      "  warnings.warn(msg, RuntimeWarning)\n"
     ]
    }
   ],
   "source": [
    "from scipy import sparse\n",
    "from convexlocalisometry.transformation import exponential_transformation\n",
    "from convexlocalisometry.manifold import local_pca\n",
    "from convexlocalisometry.atomic_geometry import get_D_feats_feats\n",
    "\n",
    "nsel = 100\n",
    "dimension = 2\n",
    "p = atoms4full.shape[0]\n",
    "\n",
    "selected_points = np.random.choice(range(50000),nsel)\n",
    "dg_x = np.asarray([get_D_feats_feats(positions[selected_points[i]],\n",
    "           atoms2in = atoms2_feats,\n",
    "           atoms3in = atoms3_feats,\n",
    "           atoms4in = atoms4_feats,\n",
    "           atoms2out = atoms2_dicts,\n",
    "           atoms3out = atoms3_dicts,\n",
    "           atoms4out = atoms4full) for i in range(nsel)])                           \n",
    "\n",
    "power = 1\n"
   ]
  },
  {
   "cell_type": "code",
   "execution_count": 6,
   "id": "6febb051",
   "metadata": {},
   "outputs": [],
   "source": [
    "dg_M = np.zeros((nsel, dimension, p))\n",
    "for i, sp in enumerate(selected_points):\n",
    "    tangent_bases = local_pca(data, sp, n_neighbors, dimension)\n",
    "    # NOTE (Sam): normalization prior to projection once again in the manifold case.\n",
    "    dg_x_normalized = exponential_transformation(dg_x[i], power)\n",
    "    dg_M[i] = np.einsum('b p, b d -> d p', dg_x_normalized, tangent_bases)"
   ]
  },
  {
   "cell_type": "code",
   "execution_count": 7,
   "id": "2c838ea8",
   "metadata": {},
   "outputs": [],
   "source": [
    "from convexlocalisometry.algorithm import greedy, group_basis_pursuit, brute\n",
    "from convexlocalisometry.loss import isometry_loss\n",
    "from tqdm import tqdm"
   ]
  },
  {
   "cell_type": "code",
   "execution_count": 8,
   "id": "d7fe3759",
   "metadata": {},
   "outputs": [
    {
     "name": "stderr",
     "output_type": "stream",
     "text": [
      "  0%|                                                   | 0/100 [00:00<?, ?it/s]/Users/samsonkoelle/convexlocalisometry/convexlocalisometry/loss.py:14: RuntimeWarning: overflow encountered in exp\n",
      "  (np.exp(singular_values) + np.exp(singular_values ** (-1))) / (2 * np.e)\n",
      "/Users/samsonkoelle/convexlocalisometry/convexlocalisometry/transformation.py:27: RuntimeWarning: overflow encountered in exp\n",
      "  exp_values = ((np.exp(norms) + np.exp(norms ** (-1))) ** (-1)) * 2 * np.e\n",
      "/Users/samsonkoelle/miniconda3/envs/isometry/lib/python3.10/site-packages/cvxpy/problems/problem.py:1407: UserWarning: Solution may be inaccurate. Try another solver, adjusting the solver settings, or solve with verbose=True for more information.\n",
      "  warnings.warn(\n"
     ]
    },
    {
     "name": "stdout",
     "output_type": "stream",
     "text": [
      "Computing brute force solution for dictionary dimension 3 and target_dimension 2\n"
     ]
    },
    {
     "name": "stderr",
     "output_type": "stream",
     "text": [
      "\n",
      "3it [00:00, 8719.97it/s]\n",
      "  1%|▍                                          | 1/100 [00:09<15:09,  9.19s/it]"
     ]
    },
    {
     "name": "stdout",
     "output_type": "stream",
     "text": [
      "Computing brute force solution for dictionary dimension 3 and target_dimension 2\n"
     ]
    },
    {
     "name": "stderr",
     "output_type": "stream",
     "text": [
      "\n",
      "3it [00:00, 6147.00it/s]\n",
      "  2%|▊                                          | 2/100 [00:18<14:41,  9.00s/it]"
     ]
    },
    {
     "name": "stdout",
     "output_type": "stream",
     "text": [
      "Computing brute force solution for dictionary dimension 3 and target_dimension 2\n"
     ]
    },
    {
     "name": "stderr",
     "output_type": "stream",
     "text": [
      "\n",
      "3it [00:00, 7445.51it/s]\n",
      "  3%|█▎                                         | 3/100 [00:26<14:29,  8.97s/it]"
     ]
    },
    {
     "name": "stdout",
     "output_type": "stream",
     "text": [
      "Computing brute force solution for dictionary dimension 3 and target_dimension 2\n"
     ]
    },
    {
     "name": "stderr",
     "output_type": "stream",
     "text": [
      "\n",
      "3it [00:00, 8589.02it/s]\n",
      "  4%|█▋                                         | 4/100 [00:35<14:19,  8.96s/it]"
     ]
    },
    {
     "name": "stdout",
     "output_type": "stream",
     "text": [
      "Computing brute force solution for dictionary dimension 3 and target_dimension 2\n"
     ]
    },
    {
     "name": "stderr",
     "output_type": "stream",
     "text": [
      "\n",
      "3it [00:00, 12495.44it/s]\n",
      "  5%|██▏                                        | 5/100 [00:44<14:13,  8.98s/it]"
     ]
    },
    {
     "name": "stdout",
     "output_type": "stream",
     "text": [
      "Computing brute force solution for dictionary dimension 389 and target_dimension 2\n"
     ]
    },
    {
     "name": "stderr",
     "output_type": "stream",
     "text": [
      "\n",
      "0it [00:00, ?it/s]\u001b[A\n",
      "2845it [00:00, 28446.84it/s]\u001b[A\n",
      "5916it [00:00, 29774.35it/s]\u001b[A\n",
      "9066it [00:00, 30559.60it/s]\u001b[A\n",
      "12406it [00:00, 31677.48it/s]\u001b[A\n",
      "15574it [00:00, 31523.02it/s]\u001b[A\n",
      "18857it [00:00, 31965.17it/s]\u001b[A\n",
      "22086it [00:00, 32066.30it/s]\u001b[A\n",
      "25293it [00:00, 30797.25it/s]\u001b[A\n",
      "28675it [00:00, 31710.77it/s]\u001b[A\n",
      "31856it [00:01, 31270.46it/s]\u001b[A\n",
      "35006it [00:01, 31334.89it/s]\u001b[A\n",
      "38145it [00:01, 31143.35it/s]\u001b[A\n",
      "41328it [00:01, 31347.27it/s]\u001b[A\n",
      "44550it [00:01, 31605.34it/s]\u001b[A\n",
      "47713it [00:01, 31113.05it/s]\u001b[A\n",
      "50944it [00:01, 31464.93it/s]\u001b[A\n",
      "54094it [00:01, 30430.06it/s]\u001b[A\n",
      "57146it [00:01, 30450.45it/s]\u001b[A\n",
      "60197it [00:01, 29295.68it/s]\u001b[A\n",
      "63308it [00:02, 29814.77it/s]\u001b[A\n",
      "66365it [00:02, 30033.08it/s]\u001b[A\n",
      "69377it [00:02, 30048.70it/s]\u001b[A\n",
      "75466it [00:02, 30821.75it/s]\u001b[A\n",
      "  6%|██▌                                        | 6/100 [00:56<15:27,  9.87s/it]"
     ]
    },
    {
     "name": "stdout",
     "output_type": "stream",
     "text": [
      "Computing brute force solution for dictionary dimension 3 and target_dimension 2\n"
     ]
    },
    {
     "name": "stderr",
     "output_type": "stream",
     "text": [
      "\n",
      "3it [00:00, 12300.01it/s]\n",
      "  7%|███                                        | 7/100 [01:06<15:06,  9.75s/it]"
     ]
    },
    {
     "name": "stdout",
     "output_type": "stream",
     "text": [
      "Computing brute force solution for dictionary dimension 3 and target_dimension 2\n"
     ]
    },
    {
     "name": "stderr",
     "output_type": "stream",
     "text": [
      "\n",
      "3it [00:00, 9376.24it/s]\n",
      "  8%|███▍                                       | 8/100 [01:14<14:31,  9.47s/it]"
     ]
    },
    {
     "name": "stdout",
     "output_type": "stream",
     "text": [
      "Computing brute force solution for dictionary dimension 3 and target_dimension 2\n"
     ]
    },
    {
     "name": "stderr",
     "output_type": "stream",
     "text": [
      "\n",
      "3it [00:00, 10163.90it/s]\n",
      "  9%|███▊                                       | 9/100 [01:24<14:14,  9.39s/it]"
     ]
    },
    {
     "name": "stdout",
     "output_type": "stream",
     "text": [
      "Computing brute force solution for dictionary dimension 444 and target_dimension 2\n"
     ]
    },
    {
     "name": "stderr",
     "output_type": "stream",
     "text": [
      "\n",
      "0it [00:00, ?it/s]\u001b[A\n",
      "3196it [00:00, 31955.76it/s]\u001b[A\n",
      "6523it [00:00, 32724.05it/s]\u001b[A\n",
      "9796it [00:00, 32507.07it/s]\u001b[A\n",
      "13047it [00:00, 31838.27it/s]\u001b[A\n",
      "16233it [00:00, 31271.69it/s]\u001b[A\n",
      "19363it [00:00, 29917.87it/s]\u001b[A\n",
      "22488it [00:00, 30333.40it/s]\u001b[A\n",
      "25530it [00:00, 29816.43it/s]\u001b[A\n",
      "28518it [00:00, 29748.52it/s]\u001b[A\n",
      "31724it [00:01, 30441.87it/s]\u001b[A\n",
      "34942it [00:01, 30961.49it/s]\u001b[A\n",
      "38123it [00:01, 31215.70it/s]\u001b[A\n",
      "41432it [00:01, 31778.04it/s]\u001b[A\n",
      "44613it [00:01, 31737.81it/s]\u001b[A\n",
      "47789it [00:01, 31324.97it/s]\u001b[A\n",
      "50924it [00:01, 31049.40it/s]\u001b[A\n",
      "54123it [00:01, 31325.93it/s]\u001b[A\n",
      "57258it [00:01, 31035.95it/s]\u001b[A\n",
      "60602it [00:01, 31740.72it/s]\u001b[A\n",
      "63983it [00:02, 32355.08it/s]\u001b[A\n",
      "67291it [00:02, 32570.04it/s]\u001b[A\n",
      "70550it [00:02, 32492.66it/s]\u001b[A\n",
      "73801it [00:02, 31906.72it/s]\u001b[A\n",
      "76995it [00:02, 31813.27it/s]\u001b[A\n",
      "80179it [00:02, 31261.49it/s]\u001b[A\n",
      "83350it [00:02, 31391.16it/s]\u001b[A\n",
      "86574it [00:02, 31638.42it/s]\u001b[A\n",
      "89740it [00:02, 31289.64it/s]\u001b[A\n",
      "92956it [00:02, 31544.54it/s]\u001b[A\n",
      "98346it [00:03, 31375.84it/s]\u001b[A\n",
      " 10%|████▏                                     | 10/100 [01:36<15:26, 10.30s/it]"
     ]
    },
    {
     "name": "stdout",
     "output_type": "stream",
     "text": [
      "Computing brute force solution for dictionary dimension 3 and target_dimension 2\n"
     ]
    },
    {
     "name": "stderr",
     "output_type": "stream",
     "text": [
      "\n",
      "3it [00:00, 14496.44it/s]\n",
      " 11%|████▌                                     | 11/100 [01:45<14:54, 10.06s/it]"
     ]
    },
    {
     "name": "stdout",
     "output_type": "stream",
     "text": [
      "Computing brute force solution for dictionary dimension 267 and target_dimension 2\n"
     ]
    },
    {
     "name": "stderr",
     "output_type": "stream",
     "text": [
      "\n",
      "0it [00:00, ?it/s]\u001b[A\n",
      "2913it [00:00, 29124.20it/s]\u001b[A\n",
      "6117it [00:00, 30836.31it/s]\u001b[A\n",
      "9201it [00:00, 30721.26it/s]\u001b[A\n",
      "12427it [00:00, 31325.62it/s]\u001b[A\n",
      "15560it [00:00, 30985.70it/s]\u001b[A\n",
      "18660it [00:00, 30459.51it/s]\u001b[A\n",
      "21708it [00:00, 29845.24it/s]\u001b[A\n",
      "24696it [00:00, 29008.22it/s]\u001b[A\n",
      "27602it [00:00, 28789.83it/s]\u001b[A\n",
      "30731it [00:01, 29535.65it/s]\u001b[A\n",
      "35511it [00:01, 30041.11it/s]\u001b[A\n",
      " 12%|█████                                     | 12/100 [01:56<14:51, 10.13s/it]"
     ]
    },
    {
     "name": "stdout",
     "output_type": "stream",
     "text": [
      "Computing brute force solution for dictionary dimension 441 and target_dimension 2\n"
     ]
    },
    {
     "name": "stderr",
     "output_type": "stream",
     "text": [
      "\n",
      "0it [00:00, ?it/s]\u001b[A\n",
      "3117it [00:00, 31165.35it/s]\u001b[A\n",
      "6344it [00:00, 31813.83it/s]\u001b[A\n",
      "9526it [00:00, 31211.96it/s]\u001b[A\n",
      "12649it [00:00, 30885.79it/s]\u001b[A\n",
      "15739it [00:00, 29636.51it/s]\u001b[A\n",
      "18711it [00:00, 29336.45it/s]\u001b[A\n",
      "21663it [00:00, 29393.69it/s]\u001b[A\n",
      "24606it [00:00, 29307.93it/s]\u001b[A\n",
      "27761it [00:00, 29993.69it/s]\u001b[A\n",
      "30950it [00:01, 30569.21it/s]\u001b[A\n",
      "34078it [00:01, 30784.32it/s]\u001b[A\n",
      "37222it [00:01, 30981.07it/s]\u001b[A\n",
      "40327it [00:01, 31000.64it/s]\u001b[A\n",
      "43568it [00:01, 31423.27it/s]\u001b[A\n",
      "46712it [00:01, 31003.62it/s]\u001b[A\n",
      "49815it [00:01, 30994.21it/s]\u001b[A\n",
      "52916it [00:01, 30558.15it/s]\u001b[A\n",
      "56008it [00:01, 30645.22it/s]\u001b[A\n",
      "59157it [00:01, 30893.18it/s]\u001b[A\n",
      "62266it [00:02, 30951.04it/s]\u001b[A\n",
      "65363it [00:02, 30884.53it/s]\u001b[A\n",
      "68630it [00:02, 31416.44it/s]\u001b[A\n",
      "72056it [00:02, 32265.11it/s]\u001b[A\n",
      "75284it [00:02, 31443.34it/s]\u001b[A\n",
      "78446it [00:02, 31491.56it/s]\u001b[A\n",
      "81603it [00:02, 31512.46it/s]\u001b[A\n",
      "84757it [00:02, 31035.32it/s]\u001b[A\n",
      "87864it [00:02, 30923.43it/s]\u001b[A\n",
      "91062it [00:02, 31233.82it/s]\u001b[A\n",
      "97020it [00:03, 30920.69it/s]\u001b[A\n",
      " 13%|█████▍                                    | 13/100 [02:08<15:37, 10.77s/it]"
     ]
    },
    {
     "name": "stdout",
     "output_type": "stream",
     "text": [
      "Computing brute force solution for dictionary dimension 480 and target_dimension 2\n"
     ]
    },
    {
     "name": "stderr",
     "output_type": "stream",
     "text": [
      "\n",
      "0it [00:00, ?it/s]\u001b[A\n",
      "3223it [00:00, 32227.80it/s]\u001b[A\n",
      "6446it [00:00, 31270.20it/s]\u001b[A\n",
      "9575it [00:00, 29927.81it/s]\u001b[A\n",
      "12687it [00:00, 30379.57it/s]\u001b[A\n",
      "15734it [00:00, 30407.90it/s]\u001b[A\n",
      "18779it [00:00, 30242.56it/s]\u001b[A\n",
      "22026it [00:00, 30958.10it/s]\u001b[A\n",
      "25125it [00:00, 30853.59it/s]\u001b[A\n",
      "28293it [00:00, 31108.63it/s]\u001b[A\n",
      "31571it [00:01, 31619.67it/s]\u001b[A\n",
      "34735it [00:01, 31189.93it/s]\u001b[A\n",
      "37877it [00:01, 31257.98it/s]\u001b[A\n",
      "41005it [00:01, 31053.80it/s]\u001b[A\n",
      "44253it [00:01, 31478.15it/s]\u001b[A\n",
      "47403it [00:01, 31001.23it/s]\u001b[A\n",
      "50506it [00:01, 30361.41it/s]\u001b[A\n",
      "53613it [00:01, 30566.71it/s]\u001b[A\n",
      "56843it [00:01, 31075.95it/s]\u001b[A\n",
      "60025it [00:01, 31293.92it/s]\u001b[A\n",
      "63172it [00:02, 31343.51it/s]\u001b[A\n",
      "66349it [00:02, 31470.04it/s]\u001b[A\n",
      "69520it [00:02, 31538.99it/s]\u001b[A\n",
      "72675it [00:02, 26756.10it/s]\u001b[A\n",
      "75687it [00:02, 27649.97it/s]\u001b[A\n",
      "78693it [00:02, 28312.08it/s]\u001b[A\n",
      "81900it [00:02, 29371.93it/s]\u001b[A\n",
      "85266it [00:02, 30602.18it/s]\u001b[A\n",
      "88438it [00:02, 30926.69it/s]\u001b[A\n",
      "91565it [00:02, 30975.14it/s]\u001b[A\n",
      "94690it [00:03, 31055.26it/s]\u001b[A\n",
      "97865it [00:03, 31259.83it/s]\u001b[A\n",
      "101048it [00:03, 31428.88it/s]\u001b[A\n",
      "104200it [00:03, 31143.70it/s]\u001b[A\n",
      "107321it [00:03, 31135.56it/s]\u001b[A\n",
      "110440it [00:03, 31015.47it/s]\u001b[A\n",
      "114960it [00:03, 30687.99it/s]\u001b[A\n",
      " 14%|█████▉                                    | 14/100 [02:21<16:19, 11.39s/it]"
     ]
    },
    {
     "name": "stdout",
     "output_type": "stream",
     "text": [
      "Computing brute force solution for dictionary dimension 3 and target_dimension 2\n"
     ]
    },
    {
     "name": "stderr",
     "output_type": "stream",
     "text": [
      "\n",
      "3it [00:00, 15709.00it/s]\n",
      " 15%|██████▎                                   | 15/100 [02:30<15:08, 10.69s/it]"
     ]
    },
    {
     "name": "stdout",
     "output_type": "stream",
     "text": [
      "Computing brute force solution for dictionary dimension 3 and target_dimension 2\n"
     ]
    },
    {
     "name": "stderr",
     "output_type": "stream",
     "text": [
      "\n",
      "3it [00:00, 8525.01it/s]\n",
      " 16%|██████▋                                   | 16/100 [02:39<14:15, 10.18s/it]"
     ]
    },
    {
     "name": "stdout",
     "output_type": "stream",
     "text": [
      "Computing brute force solution for dictionary dimension 3 and target_dimension 2\n"
     ]
    },
    {
     "name": "stderr",
     "output_type": "stream",
     "text": [
      "\n",
      "3it [00:00, 4190.11it/s]\n",
      " 17%|███████▏                                  | 17/100 [02:48<13:36,  9.84s/it]"
     ]
    },
    {
     "name": "stdout",
     "output_type": "stream",
     "text": [
      "Computing brute force solution for dictionary dimension 3 and target_dimension 2\n"
     ]
    },
    {
     "name": "stderr",
     "output_type": "stream",
     "text": [
      "\n",
      "3it [00:00, 6860.91it/s]\n",
      " 18%|███████▌                                  | 18/100 [02:57<13:05,  9.58s/it]"
     ]
    },
    {
     "name": "stdout",
     "output_type": "stream",
     "text": [
      "Computing brute force solution for dictionary dimension 426 and target_dimension 2\n"
     ]
    },
    {
     "name": "stderr",
     "output_type": "stream",
     "text": [
      "\n",
      "0it [00:00, ?it/s]\u001b[A\n",
      "3132it [00:00, 31316.60it/s]\u001b[A\n",
      "6264it [00:00, 30786.23it/s]\u001b[A\n",
      "9469it [00:00, 31355.35it/s]\u001b[A\n",
      "12606it [00:00, 31086.42it/s]\u001b[A\n",
      "15720it [00:00, 31102.47it/s]\u001b[A\n",
      "18831it [00:00, 30379.46it/s]\u001b[A\n",
      "22055it [00:00, 30974.89it/s]\u001b[A\n",
      "25156it [00:00, 30731.09it/s]\u001b[A\n",
      "28428it [00:00, 31341.15it/s]\u001b[A\n",
      "31652it [00:01, 31613.49it/s]\u001b[A\n",
      "34816it [00:01, 31258.43it/s]\u001b[A\n",
      "38132it [00:01, 31828.15it/s]\u001b[A\n",
      "41353it [00:01, 31940.85it/s]\u001b[A\n",
      "44549it [00:01, 31751.65it/s]\u001b[A\n",
      "47745it [00:01, 31813.23it/s]\u001b[A\n",
      "50928it [00:01, 31352.37it/s]\u001b[A\n",
      "54223it [00:01, 31823.80it/s]\u001b[A\n",
      "57408it [00:01, 30815.02it/s]\u001b[A\n",
      "60498it [00:01, 30677.95it/s]\u001b[A\n",
      "63571it [00:02, 30521.16it/s]\u001b[A\n",
      "66714it [00:02, 30786.17it/s]\u001b[A\n",
      "69935it [00:02, 31206.54it/s]\u001b[A\n",
      "73102it [00:02, 31342.65it/s]\u001b[A\n",
      "76239it [00:02, 30927.04it/s]\u001b[A\n",
      "79335it [00:02, 30703.22it/s]\u001b[A\n",
      "82439it [00:02, 30799.49it/s]\u001b[A\n",
      "85708it [00:02, 31358.56it/s]\u001b[A\n",
      "90525it [00:02, 31102.96it/s]\u001b[A\n",
      " 19%|███████▉                                  | 19/100 [03:09<13:50, 10.26s/it]"
     ]
    },
    {
     "name": "stdout",
     "output_type": "stream",
     "text": [
      "Computing brute force solution for dictionary dimension 3 and target_dimension 2\n"
     ]
    },
    {
     "name": "stderr",
     "output_type": "stream",
     "text": [
      "\n",
      "3it [00:00, 3860.97it/s]\n",
      " 20%|████████▍                                 | 20/100 [03:18<13:08,  9.86s/it]"
     ]
    },
    {
     "name": "stdout",
     "output_type": "stream",
     "text": [
      "Computing brute force solution for dictionary dimension 3 and target_dimension 2\n"
     ]
    },
    {
     "name": "stderr",
     "output_type": "stream",
     "text": [
      "\n",
      "3it [00:00, 3856.24it/s]\n",
      " 21%|████████▊                                 | 21/100 [03:27<12:36,  9.57s/it]"
     ]
    },
    {
     "name": "stdout",
     "output_type": "stream",
     "text": [
      "Computing brute force solution for dictionary dimension 146 and target_dimension 2\n"
     ]
    },
    {
     "name": "stderr",
     "output_type": "stream",
     "text": [
      "\n",
      "0it [00:00, ?it/s]\u001b[A\n",
      "3028it [00:00, 30277.65it/s]\u001b[A\n",
      "6156it [00:00, 30861.08it/s]\u001b[A\n",
      "10585it [00:00, 31153.07it/s][A\n",
      " 22%|█████████▏                                | 22/100 [03:36<12:20,  9.50s/it]"
     ]
    },
    {
     "name": "stdout",
     "output_type": "stream",
     "text": [
      "Computing brute force solution for dictionary dimension 3 and target_dimension 2\n"
     ]
    },
    {
     "name": "stderr",
     "output_type": "stream",
     "text": [
      "\n",
      "3it [00:00, 4346.43it/s]\n",
      " 23%|█████████▋                                | 23/100 [03:45<11:53,  9.26s/it]"
     ]
    },
    {
     "name": "stdout",
     "output_type": "stream",
     "text": [
      "Computing brute force solution for dictionary dimension 2 and target_dimension 2\n"
     ]
    },
    {
     "name": "stderr",
     "output_type": "stream",
     "text": [
      "\n",
      "1it [00:00, 4670.72it/s]\n",
      " 24%|██████████                                | 24/100 [03:55<11:59,  9.46s/it]"
     ]
    },
    {
     "name": "stdout",
     "output_type": "stream",
     "text": [
      "Computing brute force solution for dictionary dimension 415 and target_dimension 2\n"
     ]
    },
    {
     "name": "stderr",
     "output_type": "stream",
     "text": [
      "\n",
      "0it [00:00, ?it/s]\u001b[A\n",
      "3272it [00:00, 32717.07it/s]\u001b[A\n",
      "6544it [00:00, 30601.75it/s]\u001b[A\n",
      "9614it [00:00, 30616.03it/s]\u001b[A\n",
      "12681it [00:00, 30428.94it/s]\u001b[A\n",
      "15727it [00:00, 30298.65it/s]\u001b[A\n",
      "18834it [00:00, 30555.98it/s]\u001b[A\n",
      "21995it [00:00, 30895.81it/s]\u001b[A\n",
      "25207it [00:00, 31282.32it/s]\u001b[A\n",
      "28418it [00:00, 31538.30it/s]\u001b[A\n",
      "31573it [00:01, 31281.22it/s]\u001b[A\n",
      "34703it [00:01, 31054.12it/s]\u001b[A\n",
      "37810it [00:01, 30989.90it/s]\u001b[A\n",
      "40910it [00:01, 30679.63it/s]\u001b[A\n",
      "43979it [00:01, 30200.62it/s]\u001b[A\n",
      "47001it [00:01, 29884.33it/s]\u001b[A\n",
      "50052it [00:01, 30068.12it/s]\u001b[A\n",
      "53061it [00:01, 29630.31it/s]\u001b[A\n",
      "56166it [00:01, 30045.61it/s]\u001b[A\n",
      "59173it [00:01, 29587.90it/s]\u001b[A\n",
      "62135it [00:02, 29520.92it/s]\u001b[A\n",
      "65089it [00:02, 29380.44it/s]\u001b[A\n",
      "68104it [00:02, 29606.93it/s]\u001b[A\n",
      "71066it [00:02, 29326.91it/s]\u001b[A\n",
      "74000it [00:02, 29225.57it/s]\u001b[A\n",
      "77035it [00:02, 29556.98it/s]\u001b[A\n",
      "79992it [00:02, 29352.64it/s]\u001b[A\n",
      "82929it [00:02, 29313.60it/s]\u001b[A\n",
      "85905it [00:02, 30077.95it/s]\u001b[A\n",
      " 25%|██████████▌                               | 25/100 [04:07<12:58, 10.38s/it]"
     ]
    },
    {
     "name": "stdout",
     "output_type": "stream",
     "text": [
      "Computing brute force solution for dictionary dimension 2 and target_dimension 2\n"
     ]
    },
    {
     "name": "stderr",
     "output_type": "stream",
     "text": [
      "\n",
      "1it [00:00, 1565.04it/s]\n",
      " 26%|██████████▉                               | 26/100 [04:17<12:31, 10.15s/it]"
     ]
    },
    {
     "name": "stdout",
     "output_type": "stream",
     "text": [
      "Computing brute force solution for dictionary dimension 412 and target_dimension 2\n"
     ]
    },
    {
     "name": "stderr",
     "output_type": "stream",
     "text": [
      "\n",
      "0it [00:00, ?it/s]\u001b[A\n",
      "3107it [00:00, 31030.23it/s]\u001b[A\n",
      "6239it [00:00, 31197.50it/s]\u001b[A\n",
      "9359it [00:00, 30958.97it/s]\u001b[A\n",
      "12581it [00:00, 31451.78it/s]\u001b[A\n",
      "15727it [00:00, 31202.49it/s]\u001b[A\n",
      "18848it [00:00, 30777.28it/s]\u001b[A\n",
      "21927it [00:00, 30442.92it/s]\u001b[A\n",
      "25038it [00:00, 30649.22it/s]\u001b[A\n",
      "28170it [00:00, 30853.35it/s]\u001b[A\n",
      "31323it [00:01, 31059.46it/s]\u001b[A\n",
      "34478it [00:01, 31208.43it/s]\u001b[A\n",
      "37600it [00:01, 30449.82it/s]\u001b[A\n",
      "40650it [00:01, 30146.71it/s]\u001b[A\n",
      "43668it [00:01, 29848.40it/s]\u001b[A\n",
      "46656it [00:01, 29775.48it/s]\u001b[A\n",
      "49635it [00:01, 29457.08it/s]\u001b[A\n",
      "52582it [00:01, 29137.22it/s]\u001b[A\n",
      "55683it [00:01, 29686.09it/s]\u001b[A\n",
      "58800it [00:01, 30123.37it/s]\u001b[A\n",
      "61951it [00:02, 30533.13it/s]\u001b[A\n",
      "65102it [00:02, 30821.81it/s]\u001b[A\n",
      "68186it [00:02, 30716.03it/s]\u001b[A\n",
      "71265it [00:02, 30736.70it/s]\u001b[A\n",
      "74340it [00:02, 30566.26it/s]\u001b[A\n",
      "77398it [00:02, 30134.60it/s]\u001b[A\n",
      "80525it [00:02, 30468.19it/s]\u001b[A\n",
      "84666it [00:02, 30431.97it/s]\u001b[A\n",
      " 27%|███████████▎                              | 27/100 [04:29<13:02, 10.72s/it]"
     ]
    },
    {
     "name": "stdout",
     "output_type": "stream",
     "text": [
      "Computing brute force solution for dictionary dimension 3 and target_dimension 2\n"
     ]
    },
    {
     "name": "stderr",
     "output_type": "stream",
     "text": [
      "\n",
      "3it [00:00, 10672.53it/s]\n",
      " 28%|███████████▊                              | 28/100 [04:38<12:19, 10.27s/it]"
     ]
    },
    {
     "name": "stdout",
     "output_type": "stream",
     "text": [
      "Computing brute force solution for dictionary dimension 372 and target_dimension 2\n"
     ]
    },
    {
     "name": "stderr",
     "output_type": "stream",
     "text": [
      "\n",
      "0it [00:00, ?it/s]\u001b[A\n",
      "3160it [00:00, 31598.15it/s]\u001b[A\n",
      "6320it [00:00, 30917.94it/s]\u001b[A\n",
      "9413it [00:00, 30480.95it/s]\u001b[A\n",
      "12500it [00:00, 30630.04it/s]\u001b[A\n",
      "15564it [00:00, 30305.86it/s]\u001b[A\n",
      "18596it [00:00, 30227.18it/s]\u001b[A\n",
      "21665it [00:00, 30376.49it/s]\u001b[A\n",
      "24843it [00:00, 30817.35it/s]\u001b[A\n",
      "27926it [00:00, 30609.42it/s]\u001b[A\n",
      "30988it [00:01, 30022.47it/s]\u001b[A\n",
      "34107it [00:01, 30371.97it/s]\u001b[A\n",
      "37201it [00:01, 30537.92it/s]\u001b[A\n",
      "40257it [00:01, 30181.49it/s]\u001b[A\n",
      "43557it [00:01, 31017.76it/s]\u001b[A\n",
      "46662it [00:01, 30965.77it/s]\u001b[A\n",
      "49761it [00:01, 30361.58it/s]\u001b[A\n",
      "53001it [00:01, 30956.42it/s]\u001b[A\n",
      "56101it [00:01, 30934.08it/s]\u001b[A\n",
      "59273it [00:01, 31165.25it/s]\u001b[A\n",
      "62471it [00:02, 31407.53it/s]\u001b[A\n",
      "65625it [00:02, 31445.79it/s]\u001b[A\n",
      "69006it [00:02, 30779.06it/s]\u001b[A\n",
      " 29%|████████████▏                             | 29/100 [04:49<12:32, 10.60s/it]"
     ]
    },
    {
     "name": "stdout",
     "output_type": "stream",
     "text": [
      "Computing brute force solution for dictionary dimension 2 and target_dimension 2\n"
     ]
    },
    {
     "name": "stderr",
     "output_type": "stream",
     "text": [
      "\n",
      "1it [00:00, 8144.28it/s]\n",
      " 30%|████████████▌                             | 30/100 [04:59<11:52, 10.17s/it]"
     ]
    },
    {
     "name": "stdout",
     "output_type": "stream",
     "text": [
      "Computing brute force solution for dictionary dimension 3 and target_dimension 2\n"
     ]
    },
    {
     "name": "stderr",
     "output_type": "stream",
     "text": [
      "\n",
      "3it [00:00, 4048.56it/s]\n",
      " 31%|█████████████                             | 31/100 [05:08<11:20,  9.86s/it]"
     ]
    },
    {
     "name": "stdout",
     "output_type": "stream",
     "text": [
      "Computing brute force solution for dictionary dimension 405 and target_dimension 2\n"
     ]
    },
    {
     "name": "stderr",
     "output_type": "stream",
     "text": [
      "\n",
      "0it [00:00, ?it/s]\u001b[A\n",
      "2992it [00:00, 29913.18it/s]\u001b[A\n",
      "6183it [00:00, 31083.24it/s]\u001b[A\n",
      "9292it [00:00, 30958.69it/s]\u001b[A\n",
      "12422it [00:00, 31091.61it/s]\u001b[A\n",
      "15532it [00:00, 30690.79it/s]\u001b[A\n",
      "18772it [00:00, 31264.68it/s]\u001b[A\n",
      "22066it [00:00, 31806.00it/s]\u001b[A\n",
      "25248it [00:00, 31642.19it/s]\u001b[A\n",
      "28579it [00:00, 32159.45it/s]\u001b[A\n",
      "31796it [00:01, 31756.85it/s]\u001b[A\n",
      "34974it [00:01, 31280.99it/s]\u001b[A\n",
      "38320it [00:01, 31930.63it/s]\u001b[A\n",
      "41521it [00:01, 31954.07it/s]\u001b[A\n",
      "44719it [00:01, 31758.24it/s]\u001b[A\n",
      "47949it [00:01, 31918.15it/s]\u001b[A\n",
      "51143it [00:01, 31454.12it/s]\u001b[A\n",
      "54377it [00:01, 31715.38it/s]\u001b[A\n",
      "57551it [00:01, 31485.25it/s]\u001b[A\n",
      "60716it [00:01, 31530.24it/s]\u001b[A\n",
      "63871it [00:02, 31461.98it/s]\u001b[A\n",
      "67018it [00:02, 31338.51it/s]\u001b[A\n",
      "70236it [00:02, 31586.37it/s]\u001b[A\n",
      "73396it [00:02, 31454.77it/s]\u001b[A\n",
      "76542it [00:02, 30931.77it/s]\u001b[A\n",
      "81810it [00:02, 31456.92it/s]\u001b[A\n",
      " 32%|█████████████▍                            | 32/100 [05:19<11:44, 10.36s/it]"
     ]
    },
    {
     "name": "stdout",
     "output_type": "stream",
     "text": [
      "Computing brute force solution for dictionary dimension 3 and target_dimension 2\n"
     ]
    },
    {
     "name": "stderr",
     "output_type": "stream",
     "text": [
      "\n",
      "3it [00:00, 8399.81it/s]\n",
      " 33%|█████████████▊                            | 33/100 [05:29<11:18, 10.13s/it]"
     ]
    },
    {
     "name": "stdout",
     "output_type": "stream",
     "text": [
      "Computing brute force solution for dictionary dimension 3 and target_dimension 2\n"
     ]
    },
    {
     "name": "stderr",
     "output_type": "stream",
     "text": [
      "\n",
      "3it [00:00, 3618.90it/s]\n",
      " 34%|██████████████▎                           | 34/100 [05:38<10:45,  9.78s/it]"
     ]
    },
    {
     "name": "stdout",
     "output_type": "stream",
     "text": [
      "Computing brute force solution for dictionary dimension 3 and target_dimension 2\n"
     ]
    },
    {
     "name": "stderr",
     "output_type": "stream",
     "text": [
      "\n",
      "3it [00:00, 4373.62it/s]\n",
      " 35%|██████████████▋                           | 35/100 [05:47<10:20,  9.55s/it]"
     ]
    },
    {
     "name": "stdout",
     "output_type": "stream",
     "text": [
      "Computing brute force solution for dictionary dimension 3 and target_dimension 2\n"
     ]
    },
    {
     "name": "stderr",
     "output_type": "stream",
     "text": [
      "\n",
      "3it [00:00, 5735.15it/s]\n",
      " 36%|███████████████                           | 36/100 [05:56<10:01,  9.40s/it]"
     ]
    },
    {
     "name": "stdout",
     "output_type": "stream",
     "text": [
      "Computing brute force solution for dictionary dimension 3 and target_dimension 2\n"
     ]
    },
    {
     "name": "stderr",
     "output_type": "stream",
     "text": [
      "\n",
      "3it [00:00, 9065.50it/s]\n",
      " 37%|███████████████▌                          | 37/100 [06:05<09:48,  9.35s/it]"
     ]
    },
    {
     "name": "stdout",
     "output_type": "stream",
     "text": [
      "Computing brute force solution for dictionary dimension 3 and target_dimension 2\n"
     ]
    },
    {
     "name": "stderr",
     "output_type": "stream",
     "text": [
      "\n",
      "3it [00:00, 15382.53it/s]\n",
      " 38%|███████████████▉                          | 38/100 [06:14<09:34,  9.26s/it]"
     ]
    },
    {
     "name": "stdout",
     "output_type": "stream",
     "text": [
      "Computing brute force solution for dictionary dimension 3 and target_dimension 2\n"
     ]
    },
    {
     "name": "stderr",
     "output_type": "stream",
     "text": [
      "\n",
      "3it [00:00, 4762.65it/s]\n",
      " 39%|████████████████▍                         | 39/100 [06:23<09:17,  9.14s/it]"
     ]
    },
    {
     "name": "stdout",
     "output_type": "stream",
     "text": [
      "Computing brute force solution for dictionary dimension 3 and target_dimension 2\n"
     ]
    },
    {
     "name": "stderr",
     "output_type": "stream",
     "text": [
      "\n",
      "3it [00:00, 3754.97it/s]\n",
      " 40%|████████████████▊                         | 40/100 [06:32<09:05,  9.09s/it]"
     ]
    },
    {
     "name": "stdout",
     "output_type": "stream",
     "text": [
      "Computing brute force solution for dictionary dimension 3 and target_dimension 2\n"
     ]
    },
    {
     "name": "stderr",
     "output_type": "stream",
     "text": [
      "\n",
      "3it [00:00, 12396.96it/s]\n",
      " 41%|█████████████████▏                        | 41/100 [06:41<08:54,  9.06s/it]"
     ]
    },
    {
     "name": "stdout",
     "output_type": "stream",
     "text": [
      "Computing brute force solution for dictionary dimension 3 and target_dimension 2\n"
     ]
    },
    {
     "name": "stderr",
     "output_type": "stream",
     "text": [
      "\n",
      "3it [00:00, 14563.56it/s]\n",
      " 42%|█████████████████▋                        | 42/100 [06:50<08:44,  9.04s/it]"
     ]
    },
    {
     "name": "stdout",
     "output_type": "stream",
     "text": [
      "Computing brute force solution for dictionary dimension 3 and target_dimension 2\n"
     ]
    },
    {
     "name": "stderr",
     "output_type": "stream",
     "text": [
      "\n",
      "3it [00:00, 12595.51it/s]\n",
      " 43%|██████████████████                        | 43/100 [06:59<08:34,  9.02s/it]"
     ]
    },
    {
     "name": "stdout",
     "output_type": "stream",
     "text": [
      "Computing brute force solution for dictionary dimension 428 and target_dimension 2\n"
     ]
    },
    {
     "name": "stderr",
     "output_type": "stream",
     "text": [
      "\n",
      "0it [00:00, ?it/s]\u001b[A\n",
      "3191it [00:00, 31900.45it/s]\u001b[A\n",
      "6382it [00:00, 31452.46it/s]\u001b[A\n",
      "9528it [00:00, 31204.78it/s]\u001b[A\n",
      "12649it [00:00, 31201.92it/s]\u001b[A\n",
      "15859it [00:00, 31520.36it/s]\u001b[A\n",
      "19012it [00:00, 31086.53it/s]\u001b[A\n",
      "22122it [00:00, 31053.76it/s]\u001b[A\n",
      "25229it [00:00, 31049.18it/s]\u001b[A\n",
      "28335it [00:00, 30775.35it/s]\u001b[A\n",
      "31540it [00:01, 31163.23it/s]\u001b[A\n",
      "34800it [00:01, 31598.44it/s]\u001b[A\n",
      "37961it [00:01, 31323.93it/s]\u001b[A\n",
      "41095it [00:01, 30917.44it/s]\u001b[A\n",
      "44274it [00:01, 31176.38it/s]\u001b[A\n",
      "47509it [00:01, 31523.73it/s]\u001b[A\n",
      "50663it [00:01, 30789.84it/s]\u001b[A\n",
      "53875it [00:01, 31179.27it/s]\u001b[A\n",
      "56997it [00:01, 30783.78it/s]\u001b[A\n",
      "60079it [00:01, 30214.09it/s]\u001b[A\n",
      "63118it [00:02, 30261.14it/s]\u001b[A\n",
      "66147it [00:02, 29938.27it/s]\u001b[A\n",
      "69258it [00:02, 30281.66it/s]\u001b[A\n",
      "72476it [00:02, 30841.21it/s]\u001b[A\n",
      "75693it [00:02, 31233.86it/s]\u001b[A\n",
      "78986it [00:02, 31738.22it/s]\u001b[A\n",
      "82162it [00:02, 31614.05it/s]\u001b[A\n",
      "85325it [00:02, 30556.45it/s]\u001b[A\n",
      "91378it [00:02, 31015.10it/s]\u001b[A\n",
      " 44%|██████████████████▍                       | 44/100 [07:11<09:13,  9.88s/it]"
     ]
    },
    {
     "name": "stdout",
     "output_type": "stream",
     "text": [
      "Computing brute force solution for dictionary dimension 3 and target_dimension 2\n"
     ]
    },
    {
     "name": "stderr",
     "output_type": "stream",
     "text": [
      "\n",
      "3it [00:00, 4702.13it/s]\n",
      " 45%|██████████████████▉                       | 45/100 [07:20<08:47,  9.60s/it]"
     ]
    },
    {
     "name": "stdout",
     "output_type": "stream",
     "text": [
      "Computing brute force solution for dictionary dimension 3 and target_dimension 2\n"
     ]
    },
    {
     "name": "stderr",
     "output_type": "stream",
     "text": [
      "\n",
      "3it [00:00, 7182.03it/s]\n",
      " 46%|███████████████████▎                      | 46/100 [07:29<08:30,  9.45s/it]"
     ]
    },
    {
     "name": "stdout",
     "output_type": "stream",
     "text": [
      "Computing brute force solution for dictionary dimension 3 and target_dimension 2\n"
     ]
    },
    {
     "name": "stderr",
     "output_type": "stream",
     "text": [
      "\n",
      "3it [00:00, 9931.26it/s]\n",
      " 47%|███████████████████▋                      | 47/100 [07:38<08:10,  9.25s/it]"
     ]
    },
    {
     "name": "stdout",
     "output_type": "stream",
     "text": [
      "Computing brute force solution for dictionary dimension 3 and target_dimension 2\n"
     ]
    },
    {
     "name": "stderr",
     "output_type": "stream",
     "text": [
      "\n",
      "3it [00:00, 4120.14it/s]\n",
      " 48%|████████████████████▏                     | 48/100 [07:47<07:59,  9.22s/it]"
     ]
    },
    {
     "name": "stdout",
     "output_type": "stream",
     "text": [
      "Computing brute force solution for dictionary dimension 3 and target_dimension 2\n"
     ]
    },
    {
     "name": "stderr",
     "output_type": "stream",
     "text": [
      "\n",
      "3it [00:00, 6300.91it/s]\n",
      " 49%|████████████████████▌                     | 49/100 [07:56<07:43,  9.09s/it]"
     ]
    },
    {
     "name": "stdout",
     "output_type": "stream",
     "text": [
      "Computing brute force solution for dictionary dimension 3 and target_dimension 2\n"
     ]
    },
    {
     "name": "stderr",
     "output_type": "stream",
     "text": [
      "\n",
      "3it [00:00, 4385.82it/s]\n",
      " 50%|█████████████████████                     | 50/100 [08:04<07:31,  9.04s/it]"
     ]
    },
    {
     "name": "stdout",
     "output_type": "stream",
     "text": [
      "Computing brute force solution for dictionary dimension 3 and target_dimension 2\n"
     ]
    },
    {
     "name": "stderr",
     "output_type": "stream",
     "text": [
      "\n",
      "3it [00:00, 11759.73it/s]\n",
      " 51%|█████████████████████▍                    | 51/100 [08:13<07:21,  9.01s/it]"
     ]
    },
    {
     "name": "stdout",
     "output_type": "stream",
     "text": [
      "Computing brute force solution for dictionary dimension 2 and target_dimension 2\n"
     ]
    },
    {
     "name": "stderr",
     "output_type": "stream",
     "text": [
      "\n",
      "1it [00:00, 2016.49it/s]\n",
      " 52%|█████████████████████▊                    | 52/100 [08:22<07:11,  8.99s/it]"
     ]
    },
    {
     "name": "stdout",
     "output_type": "stream",
     "text": [
      "Computing brute force solution for dictionary dimension 3 and target_dimension 2\n"
     ]
    },
    {
     "name": "stderr",
     "output_type": "stream",
     "text": [
      "\n",
      "3it [00:00, 5871.63it/s]\n",
      " 53%|██████████████████████▎                   | 53/100 [08:31<07:02,  8.99s/it]"
     ]
    },
    {
     "name": "stdout",
     "output_type": "stream",
     "text": [
      "Computing brute force solution for dictionary dimension 2 and target_dimension 2\n"
     ]
    },
    {
     "name": "stderr",
     "output_type": "stream",
     "text": [
      "\n",
      "1it [00:00, 3986.98it/s]\n",
      " 54%|██████████████████████▋                   | 54/100 [08:40<06:52,  8.96s/it]"
     ]
    },
    {
     "name": "stdout",
     "output_type": "stream",
     "text": [
      "Computing brute force solution for dictionary dimension 422 and target_dimension 2\n"
     ]
    },
    {
     "name": "stderr",
     "output_type": "stream",
     "text": [
      "\n",
      "0it [00:00, ?it/s]\u001b[A\n",
      "2902it [00:00, 29016.85it/s]\u001b[A\n",
      "6090it [00:00, 30698.07it/s]\u001b[A\n",
      "9286it [00:00, 31270.11it/s]\u001b[A\n",
      "12414it [00:00, 31100.43it/s]\u001b[A\n",
      "15696it [00:00, 31717.13it/s]\u001b[A\n",
      "18869it [00:00, 31206.45it/s]\u001b[A\n",
      "21992it [00:00, 31147.90it/s]\u001b[A\n",
      "25190it [00:00, 31408.96it/s]\u001b[A\n",
      "28332it [00:00, 31035.11it/s]\u001b[A\n",
      "31437it [00:01, 30779.42it/s]\u001b[A\n",
      "34749it [00:01, 31483.15it/s]\u001b[A\n",
      "37900it [00:01, 31285.48it/s]\u001b[A\n",
      "41030it [00:01, 30841.26it/s]\u001b[A\n",
      "44353it [00:01, 31546.93it/s]\u001b[A\n",
      "47511it [00:01, 31433.58it/s]\u001b[A\n",
      "50657it [00:01, 31164.54it/s]\u001b[A\n",
      "53873it [00:01, 31457.61it/s]\u001b[A\n",
      "57021it [00:01, 31456.05it/s]\u001b[A\n",
      "60229it [00:01, 31641.39it/s]\u001b[A\n",
      "63519it [00:02, 32016.77it/s]\u001b[A\n",
      "66722it [00:02, 31800.46it/s]\u001b[A\n",
      "69903it [00:02, 31443.06it/s]\u001b[A\n",
      "73105it [00:02, 31612.41it/s]\u001b[A\n",
      "76268it [00:02, 31487.07it/s]\u001b[A\n",
      "79520it [00:02, 31792.00it/s]\u001b[A\n",
      "82701it [00:02, 31743.71it/s]\u001b[A\n",
      "88831it [00:02, 31367.43it/s]\u001b[A\n",
      " 55%|███████████████████████                   | 55/100 [08:53<07:30, 10.01s/it]"
     ]
    },
    {
     "name": "stdout",
     "output_type": "stream",
     "text": [
      "Computing brute force solution for dictionary dimension 2 and target_dimension 2\n"
     ]
    },
    {
     "name": "stderr",
     "output_type": "stream",
     "text": [
      "\n",
      "1it [00:00, 7397.36it/s]\n",
      " 56%|███████████████████████▌                  | 56/100 [09:02<07:08,  9.74s/it]"
     ]
    },
    {
     "name": "stdout",
     "output_type": "stream",
     "text": [
      "Computing brute force solution for dictionary dimension 3 and target_dimension 2\n"
     ]
    },
    {
     "name": "stderr",
     "output_type": "stream",
     "text": [
      "\n",
      "3it [00:00, 6925.10it/s]\n",
      " 57%|███████████████████████▉                  | 57/100 [09:11<06:46,  9.45s/it]"
     ]
    },
    {
     "name": "stdout",
     "output_type": "stream",
     "text": [
      "Computing brute force solution for dictionary dimension 3 and target_dimension 2\n"
     ]
    },
    {
     "name": "stderr",
     "output_type": "stream",
     "text": [
      "\n",
      "3it [00:00, 5879.87it/s]\n",
      " 58%|████████████████████████▎                 | 58/100 [09:19<06:30,  9.30s/it]"
     ]
    },
    {
     "name": "stdout",
     "output_type": "stream",
     "text": [
      "Computing brute force solution for dictionary dimension 3 and target_dimension 2\n"
     ]
    },
    {
     "name": "stderr",
     "output_type": "stream",
     "text": [
      "\n",
      "3it [00:00, 11949.58it/s]\n",
      " 59%|████████████████████████▊                 | 59/100 [09:28<06:17,  9.21s/it]"
     ]
    },
    {
     "name": "stdout",
     "output_type": "stream",
     "text": [
      "Computing brute force solution for dictionary dimension 3 and target_dimension 2\n"
     ]
    },
    {
     "name": "stderr",
     "output_type": "stream",
     "text": [
      "\n",
      "3it [00:00, 3727.17it/s]\n",
      " 60%|█████████████████████████▏                | 60/100 [09:37<06:04,  9.12s/it]"
     ]
    },
    {
     "name": "stdout",
     "output_type": "stream",
     "text": [
      "Computing brute force solution for dictionary dimension 3 and target_dimension 2\n"
     ]
    },
    {
     "name": "stderr",
     "output_type": "stream",
     "text": [
      "\n",
      "3it [00:00, 3912.60it/s]\n",
      " 61%|█████████████████████████▌                | 61/100 [09:46<05:55,  9.11s/it]"
     ]
    },
    {
     "name": "stdout",
     "output_type": "stream",
     "text": [
      "Computing brute force solution for dictionary dimension 2 and target_dimension 2\n"
     ]
    },
    {
     "name": "stderr",
     "output_type": "stream",
     "text": [
      "\n",
      "1it [00:00, 4675.92it/s]\n",
      " 62%|██████████████████████████                | 62/100 [09:56<05:45,  9.08s/it]"
     ]
    },
    {
     "name": "stdout",
     "output_type": "stream",
     "text": [
      "Computing brute force solution for dictionary dimension 2 and target_dimension 2\n"
     ]
    },
    {
     "name": "stderr",
     "output_type": "stream",
     "text": [
      "\n",
      "1it [00:00, 1243.86it/s]\n",
      " 63%|██████████████████████████▍               | 63/100 [10:05<05:35,  9.07s/it]"
     ]
    },
    {
     "name": "stdout",
     "output_type": "stream",
     "text": [
      "Computing brute force solution for dictionary dimension 238 and target_dimension 2\n"
     ]
    },
    {
     "name": "stderr",
     "output_type": "stream",
     "text": [
      "\n",
      "0it [00:00, ?it/s]\u001b[A\n",
      "3279it [00:00, 32787.61it/s]\u001b[A\n",
      "6558it [00:00, 31929.77it/s]\u001b[A\n",
      "9799it [00:00, 32144.73it/s]\u001b[A\n",
      "13015it [00:00, 31728.34it/s]\u001b[A\n",
      "16297it [00:00, 32114.05it/s]\u001b[A\n",
      "19510it [00:00, 31614.71it/s]\u001b[A\n",
      "22674it [00:00, 31426.49it/s]\u001b[A\n",
      "28203it [00:00, 31396.42it/s]\u001b[A\n",
      " 64%|██████████████████████████▉               | 64/100 [10:15<05:37,  9.39s/it]"
     ]
    },
    {
     "name": "stdout",
     "output_type": "stream",
     "text": [
      "Computing brute force solution for dictionary dimension 3 and target_dimension 2\n"
     ]
    },
    {
     "name": "stderr",
     "output_type": "stream",
     "text": [
      "\n",
      "3it [00:00, 4924.82it/s]\n",
      " 65%|███████████████████████████▎              | 65/100 [10:23<05:22,  9.20s/it]"
     ]
    },
    {
     "name": "stdout",
     "output_type": "stream",
     "text": [
      "Computing brute force solution for dictionary dimension 2 and target_dimension 2\n"
     ]
    },
    {
     "name": "stderr",
     "output_type": "stream",
     "text": [
      "\n",
      "1it [00:00, 4563.99it/s]\n",
      " 66%|███████████████████████████▋              | 66/100 [10:33<05:12,  9.18s/it]"
     ]
    },
    {
     "name": "stdout",
     "output_type": "stream",
     "text": [
      "Computing brute force solution for dictionary dimension 3 and target_dimension 2\n"
     ]
    },
    {
     "name": "stderr",
     "output_type": "stream",
     "text": [
      "\n",
      "3it [00:00, 6550.19it/s]\n",
      " 67%|████████████████████████████▏             | 67/100 [10:42<05:00,  9.11s/it]"
     ]
    },
    {
     "name": "stdout",
     "output_type": "stream",
     "text": [
      "Computing brute force solution for dictionary dimension 3 and target_dimension 2\n"
     ]
    },
    {
     "name": "stderr",
     "output_type": "stream",
     "text": [
      "\n",
      "3it [00:00, 8473.34it/s]\n",
      " 68%|████████████████████████████▌             | 68/100 [10:51<04:52,  9.14s/it]"
     ]
    },
    {
     "name": "stdout",
     "output_type": "stream",
     "text": [
      "Computing brute force solution for dictionary dimension 3 and target_dimension 2\n"
     ]
    },
    {
     "name": "stderr",
     "output_type": "stream",
     "text": [
      "\n",
      "3it [00:00, 6563.86it/s]\n",
      " 69%|████████████████████████████▉             | 69/100 [11:00<04:41,  9.08s/it]"
     ]
    },
    {
     "name": "stdout",
     "output_type": "stream",
     "text": [
      "Computing brute force solution for dictionary dimension 3 and target_dimension 2\n"
     ]
    },
    {
     "name": "stderr",
     "output_type": "stream",
     "text": [
      "\n",
      "3it [00:00, 10941.66it/s]\n",
      " 70%|█████████████████████████████▍            | 70/100 [11:09<04:31,  9.06s/it]"
     ]
    },
    {
     "name": "stdout",
     "output_type": "stream",
     "text": [
      "Computing brute force solution for dictionary dimension 3 and target_dimension 2\n"
     ]
    },
    {
     "name": "stderr",
     "output_type": "stream",
     "text": [
      "\n",
      "3it [00:00, 5545.58it/s]\n",
      " 71%|█████████████████████████████▊            | 71/100 [11:18<04:22,  9.05s/it]"
     ]
    },
    {
     "name": "stdout",
     "output_type": "stream",
     "text": [
      "Computing brute force solution for dictionary dimension 3 and target_dimension 2\n"
     ]
    },
    {
     "name": "stderr",
     "output_type": "stream",
     "text": [
      "\n",
      "3it [00:00, 14926.35it/s]\n",
      " 72%|██████████████████████████████▏           | 72/100 [11:27<04:13,  9.06s/it]"
     ]
    },
    {
     "name": "stdout",
     "output_type": "stream",
     "text": [
      "Computing brute force solution for dictionary dimension 2 and target_dimension 2\n"
     ]
    },
    {
     "name": "stderr",
     "output_type": "stream",
     "text": [
      "\n",
      "1it [00:00, 3355.44it/s]\n",
      " 73%|██████████████████████████████▋           | 73/100 [11:36<04:06,  9.12s/it]"
     ]
    },
    {
     "name": "stdout",
     "output_type": "stream",
     "text": [
      "Computing brute force solution for dictionary dimension 3 and target_dimension 2\n"
     ]
    },
    {
     "name": "stderr",
     "output_type": "stream",
     "text": [
      "\n",
      "3it [00:00, 7830.06it/s]\n",
      " 74%|███████████████████████████████           | 74/100 [11:45<03:55,  9.05s/it]"
     ]
    },
    {
     "name": "stdout",
     "output_type": "stream",
     "text": [
      "Computing brute force solution for dictionary dimension 2 and target_dimension 2\n"
     ]
    },
    {
     "name": "stderr",
     "output_type": "stream",
     "text": [
      "\n",
      "1it [00:00, 3584.88it/s]\n",
      " 75%|███████████████████████████████▌          | 75/100 [11:54<03:44,  8.99s/it]"
     ]
    },
    {
     "name": "stdout",
     "output_type": "stream",
     "text": [
      "Computing brute force solution for dictionary dimension 3 and target_dimension 2\n"
     ]
    },
    {
     "name": "stderr",
     "output_type": "stream",
     "text": [
      "\n",
      "3it [00:00, 5607.36it/s]\n",
      " 76%|███████████████████████████████▉          | 76/100 [12:03<03:36,  9.02s/it]"
     ]
    },
    {
     "name": "stdout",
     "output_type": "stream",
     "text": [
      "Computing brute force solution for dictionary dimension 3 and target_dimension 2\n"
     ]
    },
    {
     "name": "stderr",
     "output_type": "stream",
     "text": [
      "\n",
      "3it [00:00, 10172.12it/s]\n",
      " 77%|████████████████████████████████▎         | 77/100 [12:12<03:27,  9.04s/it]"
     ]
    },
    {
     "name": "stdout",
     "output_type": "stream",
     "text": [
      "Computing brute force solution for dictionary dimension 2 and target_dimension 2\n"
     ]
    },
    {
     "name": "stderr",
     "output_type": "stream",
     "text": [
      "\n",
      "1it [00:00, 7570.95it/s]\n",
      " 78%|████████████████████████████████▊         | 78/100 [12:21<03:18,  9.04s/it]"
     ]
    },
    {
     "name": "stdout",
     "output_type": "stream",
     "text": [
      "Computing brute force solution for dictionary dimension 3 and target_dimension 2\n"
     ]
    },
    {
     "name": "stderr",
     "output_type": "stream",
     "text": [
      "\n",
      "3it [00:00, 15382.53it/s]\n",
      " 79%|█████████████████████████████████▏        | 79/100 [12:30<03:10,  9.07s/it]"
     ]
    },
    {
     "name": "stdout",
     "output_type": "stream",
     "text": [
      "Computing brute force solution for dictionary dimension 400 and target_dimension 2\n"
     ]
    },
    {
     "name": "stderr",
     "output_type": "stream",
     "text": [
      "\n",
      "0it [00:00, ?it/s]\u001b[A\n",
      "3300it [00:00, 32931.88it/s]\u001b[A\n",
      "6594it [00:00, 31427.85it/s]\u001b[A\n",
      "9907it [00:00, 32183.42it/s]\u001b[A\n",
      "13130it [00:00, 31930.91it/s]\u001b[A\n",
      "16326it [00:00, 31267.58it/s]\u001b[A\n",
      "19456it [00:00, 31231.63it/s]\u001b[A\n",
      "22582it [00:00, 30820.50it/s]\u001b[A\n",
      "25856it [00:00, 31415.64it/s]\u001b[A\n",
      "29001it [00:00, 30987.71it/s]\u001b[A\n",
      "32209it [00:01, 31317.02it/s]\u001b[A\n",
      "35359it [00:01, 31371.87it/s]\u001b[A\n",
      "38498it [00:01, 30813.70it/s]\u001b[A\n",
      "41583it [00:01, 30667.21it/s]\u001b[A\n",
      "44679it [00:01, 30750.92it/s]\u001b[A\n",
      "47756it [00:01, 29943.21it/s]\u001b[A\n",
      "50865it [00:01, 30275.69it/s]\u001b[A\n",
      "53942it [00:01, 30417.82it/s]\u001b[A\n",
      "57079it [00:01, 30699.25it/s]\u001b[A\n",
      "60152it [00:01, 30638.41it/s]\u001b[A\n",
      "63218it [00:02, 30472.98it/s]\u001b[A\n",
      "66383it [00:02, 30821.76it/s]\u001b[A\n",
      "69467it [00:02, 30764.92it/s]\u001b[A\n",
      "72656it [00:02, 31098.12it/s]\u001b[A\n",
      "75778it [00:02, 31132.86it/s]\u001b[A\n",
      "79800it [00:02, 30955.63it/s]\u001b[A\n",
      " 80%|█████████████████████████████████▌        | 80/100 [12:42<03:16,  9.82s/it]"
     ]
    },
    {
     "name": "stdout",
     "output_type": "stream",
     "text": [
      "Computing brute force solution for dictionary dimension 430 and target_dimension 2\n"
     ]
    },
    {
     "name": "stderr",
     "output_type": "stream",
     "text": [
      "\n",
      "0it [00:00, ?it/s]\u001b[A\n",
      "3168it [00:00, 31673.08it/s]\u001b[A\n",
      "6363it [00:00, 31830.71it/s]\u001b[A\n",
      "9605it [00:00, 32095.16it/s]\u001b[A\n",
      "12815it [00:00, 31278.38it/s]\u001b[A\n",
      "15946it [00:00, 30425.23it/s]\u001b[A\n",
      "19177it [00:00, 31041.25it/s]\u001b[A\n",
      "22287it [00:00, 30985.43it/s]\u001b[A\n",
      "25389it [00:00, 30368.76it/s]\u001b[A\n",
      "28499it [00:00, 30590.71it/s]\u001b[A\n",
      "31758it [00:01, 31193.49it/s]\u001b[A\n",
      "34881it [00:01, 31067.50it/s]\u001b[A\n",
      "37990it [00:01, 30748.03it/s]\u001b[A\n",
      "41067it [00:01, 30361.01it/s]\u001b[A\n",
      "44135it [00:01, 30454.57it/s]\u001b[A\n",
      "47182it [00:01, 30017.47it/s]\u001b[A\n",
      "50227it [00:01, 30142.78it/s]\u001b[A\n",
      "53243it [00:01, 29988.88it/s]\u001b[A\n",
      "56345it [00:01, 30289.62it/s]\u001b[A\n",
      "59376it [00:01, 30186.85it/s]\u001b[A\n",
      "62565it [00:02, 30689.28it/s]\u001b[A\n",
      "65635it [00:02, 30613.42it/s]\u001b[A\n",
      "68785it [00:02, 30874.92it/s]\u001b[A\n",
      "71897it [00:02, 30945.45it/s]\u001b[A\n",
      "75101it [00:02, 31270.74it/s]\u001b[A\n",
      "78229it [00:02, 31218.47it/s]\u001b[A\n",
      "81476it [00:02, 31591.48it/s]\u001b[A\n",
      "84636it [00:02, 31223.91it/s]\u001b[A\n",
      "87795it [00:02, 31331.18it/s]\u001b[A\n",
      "92235it [00:02, 30866.19it/s]\u001b[A\n",
      " 81%|██████████████████████████████████        | 81/100 [12:54<03:19, 10.52s/it]"
     ]
    },
    {
     "name": "stdout",
     "output_type": "stream",
     "text": [
      "Computing brute force solution for dictionary dimension 3 and target_dimension 2\n"
     ]
    },
    {
     "name": "stderr",
     "output_type": "stream",
     "text": [
      "\n",
      "3it [00:00, 11629.31it/s]\n",
      " 82%|██████████████████████████████████▍       | 82/100 [13:03<03:01, 10.07s/it]"
     ]
    },
    {
     "name": "stdout",
     "output_type": "stream",
     "text": [
      "Computing brute force solution for dictionary dimension 427 and target_dimension 2\n"
     ]
    },
    {
     "name": "stderr",
     "output_type": "stream",
     "text": [
      "\n",
      "0it [00:00, ?it/s]\u001b[A\n",
      "3086it [00:00, 30856.28it/s]\u001b[A\n",
      "6384it [00:00, 32103.41it/s]\u001b[A\n",
      "9595it [00:00, 30880.86it/s]\u001b[A\n",
      "12689it [00:00, 30768.07it/s]\u001b[A\n",
      "15769it [00:00, 30615.89it/s]\u001b[A\n",
      "18958it [00:00, 31040.12it/s]\u001b[A\n",
      "22179it [00:00, 31418.15it/s]\u001b[A\n",
      "25323it [00:00, 30982.31it/s]\u001b[A\n",
      "28531it [00:00, 31318.70it/s]\u001b[A\n",
      "31716it [00:01, 31478.17it/s]\u001b[A\n",
      "34866it [00:01, 30829.06it/s]\u001b[A\n",
      "37953it [00:01, 30581.77it/s]\u001b[A\n",
      "41068it [00:01, 30750.09it/s]\u001b[A\n",
      "44146it [00:01, 30524.39it/s]\u001b[A\n",
      "47211it [00:01, 30559.40it/s]\u001b[A\n",
      "50287it [00:01, 30616.15it/s]\u001b[A\n",
      "53350it [00:01, 30483.45it/s]\u001b[A\n",
      "56429it [00:01, 30572.06it/s]\u001b[A\n",
      "59714it [00:01, 31249.09it/s]\u001b[A\n",
      "62912it [00:02, 31466.93it/s]\u001b[A\n",
      "66228it [00:02, 31973.15it/s]\u001b[A\n",
      "69550it [00:02, 32343.97it/s]\u001b[A\n",
      "72785it [00:02, 31819.03it/s]\u001b[A\n",
      "75970it [00:02, 31419.98it/s]\u001b[A\n",
      "79115it [00:02, 31216.23it/s]\u001b[A\n",
      "82239it [00:02, 31197.76it/s]\u001b[A\n",
      "85360it [00:02, 30662.32it/s]\u001b[A\n",
      "90951it [00:02, 31069.13it/s]\u001b[A\n",
      " 83%|██████████████████████████████████▊       | 83/100 [13:15<03:00, 10.61s/it]"
     ]
    },
    {
     "name": "stdout",
     "output_type": "stream",
     "text": [
      "Computing brute force solution for dictionary dimension 3 and target_dimension 2\n"
     ]
    },
    {
     "name": "stderr",
     "output_type": "stream",
     "text": [
      "\n",
      "3it [00:00, 14429.94it/s]\n",
      " 84%|███████████████████████████████████▎      | 84/100 [13:24<02:42, 10.16s/it]"
     ]
    },
    {
     "name": "stdout",
     "output_type": "stream",
     "text": [
      "Computing brute force solution for dictionary dimension 3 and target_dimension 2\n"
     ]
    },
    {
     "name": "stderr",
     "output_type": "stream",
     "text": [
      "\n",
      "3it [00:00, 8399.81it/s]\n",
      " 85%|███████████████████████████████████▋      | 85/100 [13:33<02:26,  9.80s/it]"
     ]
    },
    {
     "name": "stdout",
     "output_type": "stream",
     "text": [
      "Computing brute force solution for dictionary dimension 3 and target_dimension 2\n"
     ]
    },
    {
     "name": "stderr",
     "output_type": "stream",
     "text": [
      "\n",
      "3it [00:00, 16049.63it/s]\n",
      " 86%|████████████████████████████████████      | 86/100 [13:42<02:14,  9.61s/it]"
     ]
    },
    {
     "name": "stdout",
     "output_type": "stream",
     "text": [
      "Computing brute force solution for dictionary dimension 3 and target_dimension 2\n"
     ]
    },
    {
     "name": "stderr",
     "output_type": "stream",
     "text": [
      "\n",
      "3it [00:00, 15160.13it/s]\n",
      " 87%|████████████████████████████████████▌     | 87/100 [13:51<02:03,  9.48s/it]"
     ]
    },
    {
     "name": "stdout",
     "output_type": "stream",
     "text": [
      "Computing brute force solution for dictionary dimension 382 and target_dimension 2\n"
     ]
    },
    {
     "name": "stderr",
     "output_type": "stream",
     "text": [
      "\n",
      "0it [00:00, ?it/s]\u001b[A\n",
      "2869it [00:00, 28687.43it/s]\u001b[A\n",
      "5882it [00:00, 29533.00it/s]\u001b[A\n",
      "8874it [00:00, 29709.07it/s]\u001b[A\n",
      "11999it [00:00, 30316.76it/s]\u001b[A\n",
      "15111it [00:00, 30604.73it/s]\u001b[A\n",
      "18288it [00:00, 30999.75it/s]\u001b[A\n",
      "21537it [00:00, 31484.54it/s]\u001b[A\n",
      "24686it [00:00, 30958.28it/s]\u001b[A\n",
      "27784it [00:00, 30951.20it/s]\u001b[A\n",
      "30894it [00:01, 30990.41it/s]\u001b[A\n",
      "34096it [00:01, 31301.82it/s]\u001b[A\n",
      "37227it [00:01, 31149.91it/s]\u001b[A\n",
      "40343it [00:01, 30936.07it/s]\u001b[A\n",
      "43505it [00:01, 31138.76it/s]\u001b[A\n",
      "46620it [00:01, 31027.45it/s]\u001b[A\n",
      "49724it [00:01, 30960.45it/s]\u001b[A\n",
      "52821it [00:01, 30921.47it/s]\u001b[A\n",
      "56096it [00:01, 31466.92it/s]\u001b[A\n",
      "59277it [00:01, 31568.62it/s]\u001b[A\n",
      "62435it [00:02, 31389.60it/s]\u001b[A\n",
      "65575it [00:02, 31225.36it/s]\u001b[A\n",
      "68781it [00:02, 31473.14it/s]\u001b[A\n",
      "72771it [00:02, 30962.23it/s]\u001b[A\n",
      " 88%|████████████████████████████████████▉     | 88/100 [14:03<02:00, 10.08s/it]"
     ]
    },
    {
     "name": "stdout",
     "output_type": "stream",
     "text": [
      "Computing brute force solution for dictionary dimension 2 and target_dimension 2\n"
     ]
    },
    {
     "name": "stderr",
     "output_type": "stream",
     "text": [
      "\n",
      "1it [00:00, 2584.29it/s]\n",
      " 89%|█████████████████████████████████████▍    | 89/100 [14:12<01:47,  9.77s/it]"
     ]
    },
    {
     "name": "stdout",
     "output_type": "stream",
     "text": [
      "Computing brute force solution for dictionary dimension 455 and target_dimension 2\n"
     ]
    },
    {
     "name": "stderr",
     "output_type": "stream",
     "text": [
      "\n",
      "0it [00:00, ?it/s]\u001b[A\n",
      "3181it [00:00, 31804.49it/s]\u001b[A\n",
      "6362it [00:00, 31554.59it/s]\u001b[A\n",
      "9526it [00:00, 31591.14it/s]\u001b[A\n",
      "12686it [00:00, 30368.71it/s]\u001b[A\n",
      "15906it [00:00, 31008.50it/s]\u001b[A\n",
      "19013it [00:00, 31008.09it/s]\u001b[A\n",
      "22229it [00:00, 31377.79it/s]\u001b[A\n",
      "25370it [00:00, 30809.23it/s]\u001b[A\n",
      "28562it [00:00, 31147.22it/s]\u001b[A\n",
      "31680it [00:01, 30949.56it/s]\u001b[A\n",
      "34778it [00:01, 30546.10it/s]\u001b[A\n",
      "37835it [00:01, 30463.84it/s]\u001b[A\n",
      "41064it [00:01, 31007.79it/s]\u001b[A\n",
      "44182it [00:01, 31058.53it/s]\u001b[A\n",
      "47348it [00:01, 31237.90it/s]\u001b[A\n",
      "50473it [00:01, 30827.29it/s]\u001b[A\n",
      "53726it [00:01, 31329.95it/s]\u001b[A\n",
      "56861it [00:01, 31155.31it/s]\u001b[A\n",
      "59978it [00:01, 30678.81it/s]\u001b[A\n",
      "63121it [00:02, 30898.07it/s]\u001b[A\n",
      "66322it [00:02, 31224.87it/s]\u001b[A\n",
      "69447it [00:02, 31121.29it/s]\u001b[A\n",
      "72561it [00:02, 31081.00it/s]\u001b[A\n",
      "75670it [00:02, 30655.20it/s]\u001b[A\n",
      "78909it [00:02, 31166.77it/s]\u001b[A\n",
      "82028it [00:02, 31148.70it/s]\u001b[A\n",
      "85196it [00:02, 31305.37it/s]\u001b[A\n",
      "88328it [00:02, 30887.57it/s]\u001b[A\n",
      "91604it [00:02, 31440.16it/s]\u001b[A\n",
      "94751it [00:03, 31437.26it/s]\u001b[A\n",
      "97897it [00:03, 31430.27it/s]\u001b[A\n",
      "103285it [00:03, 31109.72it/s]\u001b[A\n",
      " 90%|█████████████████████████████████████▊    | 90/100 [14:24<01:45, 10.55s/it]"
     ]
    },
    {
     "name": "stdout",
     "output_type": "stream",
     "text": [
      "Computing brute force solution for dictionary dimension 3 and target_dimension 2\n"
     ]
    },
    {
     "name": "stderr",
     "output_type": "stream",
     "text": [
      "\n",
      "3it [00:00, 4242.38it/s]\n",
      " 91%|██████████████████████████████████████▏   | 91/100 [14:33<01:30, 10.10s/it]"
     ]
    },
    {
     "name": "stdout",
     "output_type": "stream",
     "text": [
      "Computing brute force solution for dictionary dimension 216 and target_dimension 2\n"
     ]
    },
    {
     "name": "stderr",
     "output_type": "stream",
     "text": [
      "\n",
      "0it [00:00, ?it/s]\u001b[A\n",
      "3059it [00:00, 30583.90it/s]\u001b[A\n",
      "6134it [00:00, 30677.62it/s]\u001b[A\n",
      "9353it [00:00, 31366.12it/s]\u001b[A\n",
      "12490it [00:00, 31239.65it/s]\u001b[A\n",
      "15656it [00:00, 31389.81it/s]\u001b[A\n",
      "18796it [00:00, 31095.14it/s]\u001b[A\n",
      "23220it [00:00, 31141.79it/s]\u001b[A\n",
      " 92%|██████████████████████████████████████▋   | 92/100 [14:43<01:20, 10.11s/it]"
     ]
    },
    {
     "name": "stdout",
     "output_type": "stream",
     "text": [
      "Computing brute force solution for dictionary dimension 3 and target_dimension 2\n"
     ]
    },
    {
     "name": "stderr",
     "output_type": "stream",
     "text": [
      "\n",
      "3it [00:00, 4016.25it/s]\n",
      " 93%|███████████████████████████████████████   | 93/100 [14:53<01:09,  9.86s/it]"
     ]
    },
    {
     "name": "stdout",
     "output_type": "stream",
     "text": [
      "Computing brute force solution for dictionary dimension 422 and target_dimension 2\n"
     ]
    },
    {
     "name": "stderr",
     "output_type": "stream",
     "text": [
      "\n",
      "0it [00:00, ?it/s]\u001b[A\n",
      "3024it [00:00, 30236.64it/s]\u001b[A\n",
      "6209it [00:00, 31180.53it/s]\u001b[A\n",
      "9328it [00:00, 30780.65it/s]\u001b[A\n",
      "12490it [00:00, 31107.71it/s]\u001b[A\n",
      "15848it [00:00, 31994.28it/s]\u001b[A\n",
      "19099it [00:00, 32166.11it/s]\u001b[A\n",
      "22317it [00:00, 31503.55it/s]\u001b[A\n",
      "25471it [00:00, 31495.24it/s]\u001b[A\n",
      "28623it [00:00, 30590.55it/s]\u001b[A\n",
      "31714it [00:01, 30684.86it/s]\u001b[A\n",
      "34866it [00:01, 30934.87it/s]\u001b[A\n",
      "38111it [00:01, 31386.63it/s]\u001b[A\n",
      "41297it [00:01, 31527.62it/s]\u001b[A\n",
      "44453it [00:01, 31422.36it/s]\u001b[A\n",
      "47597it [00:01, 31210.60it/s]\u001b[A\n",
      "50720it [00:01, 30613.87it/s]\u001b[A\n",
      "53785it [00:01, 30096.64it/s]\u001b[A\n",
      "57155it [00:01, 31148.25it/s]\u001b[A\n",
      "60275it [00:01, 30384.93it/s]\u001b[A\n",
      "63469it [00:02, 30835.26it/s]\u001b[A\n",
      "66695it [00:02, 31251.42it/s]\u001b[A\n",
      "69826it [00:02, 30380.81it/s]\u001b[A\n",
      "72977it [00:02, 30708.45it/s]\u001b[A\n",
      "76222it [00:02, 31217.21it/s]\u001b[A\n",
      "79352it [00:02, 31235.04it/s]\u001b[A\n",
      "82480it [00:02, 30469.09it/s]\u001b[A\n",
      "85648it [00:02, 30822.58it/s]\u001b[A\n",
      "88831it [00:02, 30971.49it/s]\u001b[A\n",
      " 94%|███████████████████████████████████████▍  | 94/100 [15:05<01:03, 10.51s/it]"
     ]
    },
    {
     "name": "stdout",
     "output_type": "stream",
     "text": [
      "Computing brute force solution for dictionary dimension 387 and target_dimension 2\n"
     ]
    },
    {
     "name": "stderr",
     "output_type": "stream",
     "text": [
      "\n",
      "0it [00:00, ?it/s]\u001b[A\n",
      "3015it [00:00, 30143.42it/s]\u001b[A\n",
      "6030it [00:00, 29668.31it/s]\u001b[A\n",
      "9323it [00:00, 31142.50it/s]\u001b[A\n",
      "12508it [00:00, 31417.60it/s]\u001b[A\n",
      "15651it [00:00, 31059.65it/s]\u001b[A\n",
      "18792it [00:00, 31175.90it/s]\u001b[A\n",
      "22076it [00:00, 31715.66it/s]\u001b[A\n",
      "25249it [00:00, 31714.89it/s]\u001b[A\n",
      "28422it [00:00, 31054.65it/s]\u001b[A\n",
      "31584it [00:01, 31225.28it/s]\u001b[A\n",
      "34710it [00:01, 30585.93it/s]\u001b[A\n",
      "37773it [00:01, 30410.35it/s]\u001b[A\n",
      "40817it [00:01, 30327.52it/s]\u001b[A\n",
      "44022it [00:01, 30837.38it/s]\u001b[A\n",
      "47228it [00:01, 31198.91it/s]\u001b[A\n",
      "50458it [00:01, 31525.48it/s]\u001b[A\n",
      "53665it [00:01, 31686.28it/s]\u001b[A\n",
      "56835it [00:01, 31671.52it/s]\u001b[A\n",
      "60003it [00:01, 31628.13it/s]\u001b[A\n",
      "63167it [00:02, 31484.13it/s]\u001b[A\n",
      "66316it [00:02, 30860.51it/s]\u001b[A\n",
      "69405it [00:02, 30581.47it/s]\u001b[A\n",
      "74691it [00:02, 31003.02it/s]\u001b[A\n",
      " 95%|███████████████████████████████████████▉  | 95/100 [15:16<00:53, 10.76s/it]"
     ]
    },
    {
     "name": "stdout",
     "output_type": "stream",
     "text": [
      "Computing brute force solution for dictionary dimension 3 and target_dimension 2\n"
     ]
    },
    {
     "name": "stderr",
     "output_type": "stream",
     "text": [
      "\n",
      "3it [00:00, 15233.55it/s]\n",
      " 96%|████████████████████████████████████████▎ | 96/100 [15:25<00:41, 10.37s/it]"
     ]
    },
    {
     "name": "stdout",
     "output_type": "stream",
     "text": [
      "Computing brute force solution for dictionary dimension 3 and target_dimension 2\n"
     ]
    },
    {
     "name": "stderr",
     "output_type": "stream",
     "text": [
      "\n",
      "3it [00:00, 11264.92it/s]\n",
      " 97%|████████████████████████████████████████▋ | 97/100 [15:34<00:29,  9.98s/it]"
     ]
    },
    {
     "name": "stdout",
     "output_type": "stream",
     "text": [
      "Computing brute force solution for dictionary dimension 399 and target_dimension 2\n"
     ]
    },
    {
     "name": "stderr",
     "output_type": "stream",
     "text": [
      "\n",
      "0it [00:00, ?it/s]\u001b[A\n",
      "2876it [00:00, 28757.35it/s]\u001b[A\n",
      "6008it [00:00, 30261.70it/s]\u001b[A\n",
      "9147it [00:00, 30773.23it/s]\u001b[A\n",
      "12294it [00:00, 31044.49it/s]\u001b[A\n",
      "15546it [00:00, 31573.73it/s]\u001b[A\n",
      "18704it [00:00, 30721.27it/s]\u001b[A\n",
      "21790it [00:00, 30759.18it/s]\u001b[A\n",
      "24869it [00:00, 30028.70it/s]\u001b[A\n",
      "28095it [00:00, 30707.46it/s]\u001b[A\n",
      "31184it [00:01, 30761.24it/s]\u001b[A\n",
      "34331it [00:01, 30974.52it/s]\u001b[A\n",
      "37563it [00:01, 31378.38it/s]\u001b[A\n",
      "40870it [00:01, 31885.28it/s]\u001b[A\n",
      "44061it [00:01, 31746.72it/s]\u001b[A\n",
      "47238it [00:01, 31541.68it/s]\u001b[A\n",
      "50464it [00:01, 31755.01it/s]\u001b[A\n",
      "53807it [00:01, 32254.02it/s]\u001b[A\n",
      "57034it [00:01, 31481.48it/s]\u001b[A\n",
      "60187it [00:01, 31108.69it/s]\u001b[A\n",
      "63408it [00:02, 31429.14it/s]\u001b[A\n",
      "66555it [00:02, 30816.65it/s]\u001b[A\n",
      "69641it [00:02, 30678.54it/s]\u001b[A\n",
      "72783it [00:02, 30895.50it/s]\u001b[A\n",
      "75875it [00:02, 30500.40it/s]\u001b[A\n",
      "79401it [00:02, 30924.80it/s]\u001b[A\n",
      " 98%|█████████████████████████████████████████▏| 98/100 [15:46<00:20, 10.49s/it]"
     ]
    },
    {
     "name": "stdout",
     "output_type": "stream",
     "text": [
      "Computing brute force solution for dictionary dimension 2 and target_dimension 2\n"
     ]
    },
    {
     "name": "stderr",
     "output_type": "stream",
     "text": [
      "\n",
      "1it [00:00, 7810.62it/s]\n",
      " 99%|█████████████████████████████████████████▌| 99/100 [15:55<00:10, 10.02s/it]"
     ]
    },
    {
     "name": "stdout",
     "output_type": "stream",
     "text": [
      "Computing brute force solution for dictionary dimension 3 and target_dimension 2\n"
     ]
    },
    {
     "name": "stderr",
     "output_type": "stream",
     "text": [
      "\n",
      "3it [00:00, 5640.03it/s]\n",
      "100%|█████████████████████████████████████████| 100/100 [16:04<00:00,  9.65s/it]\n"
     ]
    }
   ],
   "source": [
    "losses = []\n",
    "two_stage_losses = []\n",
    "random_two_stage_losses= []\n",
    "nbp = []\n",
    "\n",
    "for i in tqdm(range(100)):\n",
    "    X = dg_M[i]\n",
    "#     X[:d,:d] = np.identity(d)\n",
    "    output = greedy(X, isometry_loss, dimension, []) # plainly brute is too hard 178**13 combinations\n",
    "    loss = isometry_loss(X[:,output])\n",
    "    losses.append(loss)\n",
    "    data_transformed = exponential_transformation(X)\n",
    "    beta = group_basis_pursuit(data_transformed)\n",
    "    basis_pursuit_indices = np.where(np.linalg.norm(beta, axis = 1))[0]\n",
    "    nbp.append(len(basis_pursuit_indices))\n",
    "\n",
    "    two_stage_output = basis_pursuit_indices[np.asarray(brute(X[:,basis_pursuit_indices], isometry_loss, dimension))] # plainly this is too hard 178**13 combinations\n",
    "    two_stage_loss = isometry_loss(X[:,two_stage_output])\n",
    "    two_stage_losses.append(two_stage_loss)\n",
    "    random_indices = np.random.choice(range(X.shape[1]), len(basis_pursuit_indices), replace=False)\n",
    "    random_two_stage_losses.append(isometry_loss(X[:,random_indices]))"
   ]
  },
  {
   "cell_type": "code",
   "execution_count": 10,
   "id": "8bdf0a1b",
   "metadata": {},
   "outputs": [
    {
     "data": {
      "text/plain": [
       "67"
      ]
     },
     "execution_count": 10,
     "metadata": {},
     "output_type": "execute_result"
    }
   ],
   "source": [
    "len(np.where(np.asarray(losses) > np.asarray(two_stage_losses))[0])"
   ]
  },
  {
   "cell_type": "code",
   "execution_count": 11,
   "id": "154cbcb1",
   "metadata": {},
   "outputs": [
    {
     "name": "stderr",
     "output_type": "stream",
     "text": [
      "/var/folders/5j/2xkgvzfs29nfprr5czfm2gtr0000gn/T/ipykernel_3405/3135903448.py:4: MatplotlibDeprecationWarning: The 'labels' parameter of boxplot() has been renamed 'tick_labels' since Matplotlib 3.9; support for the old name will be dropped in 3.11.\n",
      "  plt.boxplot(data, labels=['Losses', 'Two Stage Losses'])\n"
     ]
    },
    {
     "data": {
      "image/png": "[encoded data removed]",
      "text/plain": [
       "<Figure size 640x480 with 1 Axes>"
      ]
     },
     "metadata": {},
     "output_type": "display_data"
    }
   ],
   "source": [
    "import matplotlib.pyplot as plt\n",
    "\n",
    "data = [losses, two_stage_losses]\n",
    "plt.boxplot(data, labels=['Losses', 'Two Stage Losses'])\n",
    "plt.title('Side-by-Side Boxplot')\n",
    "plt.ylabel('Values')\n",
    "plt.show()"
   ]
  },
  {
   "cell_type": "code",
   "execution_count": 12,
   "id": "e932c6f4",
   "metadata": {},
   "outputs": [
    {
     "name": "stdout",
     "output_type": "stream",
     "text": [
      "2.589860598839248\n",
      "0.2991649522275855\n",
      "2.4968385031324267\n",
      "0.19721093342768994\n",
      "90.2\n",
      "164.6394849360262\n"
     ]
    }
   ],
   "source": [
    "print(np.mean(losses))\n",
    "print(np.std(losses))  # Standard deviation\n",
    "print(np.mean(two_stage_losses))\n",
    "print(np.std(two_stage_losses))  # Standard deviation\n",
    "print(np.mean(nbp))\n",
    "print(np.std(nbp))  # Standard deviation"
   ]
  },
  {
   "cell_type": "code",
   "execution_count": 13,
   "id": "d0aa4c1a",
   "metadata": {},
   "outputs": [],
   "source": [
    "from scipy import stats\n",
    "\n",
    "t_statistic, p_value = stats.ttest_rel(losses, two_stage_losses)\n"
   ]
  },
  {
   "cell_type": "code",
   "execution_count": 14,
   "id": "ff0b7729",
   "metadata": {},
   "outputs": [
    {
     "data": {
      "text/plain": [
       "2.072596276350502e-05"
      ]
     },
     "execution_count": 14,
     "metadata": {},
     "output_type": "execute_result"
    }
   ],
   "source": [
    "p_value"
   ]
  },
  {
   "cell_type": "code",
   "execution_count": 15,
   "id": "ade5c933",
   "metadata": {},
   "outputs": [
    {
     "data": {
      "text/plain": [
       "14356.599370219803"
      ]
     },
     "execution_count": 15,
     "metadata": {},
     "output_type": "execute_result"
    }
   ],
   "source": [
    "np.median(random_two_stage_losses)"
   ]
  },
  {
   "cell_type": "code",
   "execution_count": null,
   "id": "69373204",
   "metadata": {},
   "outputs": [],
   "source": []
  },
  {
   "cell_type": "code",
   "execution_count": null,
   "id": "bf563bf2",
   "metadata": {},
   "outputs": [],
   "source": []
  }
 ],
 "metadata": {
  "kernelspec": {
   "display_name": "isometry",
   "language": "python",
   "name": "isometry"
  },
  "language_info": {
   "codemirror_mode": {
    "name": "ipython",
    "version": 3
   },
   "file_extension": ".py",
   "mimetype": "text/x-python",
   "name": "python",
   "nbconvert_exporter": "python",
   "pygments_lexer": "ipython3",
   "version": "3.10.14"
  }
 },
 "nbformat": 4,
 "nbformat_minor": 5
}

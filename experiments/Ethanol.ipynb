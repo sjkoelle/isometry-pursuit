{
 "cells": [
  {
   "cell_type": "code",
   "execution_count": 1,
   "id": "b2927de2",
   "metadata": {},
   "outputs": [
    {
     "name": "stdout",
     "output_type": "stream",
     "text": [
      "Loading ethanol data\n"
     ]
    }
   ],
   "source": [
    "%load_ext autoreload\n",
    "%autoreload 2\n",
    "import numpy as np\n",
    "import random\n",
    "import json\n",
    "import torch\n",
    "from isometry_pursuit.vendor import HParams\n",
    "from isometry_pursuit.atomic_geometry import get_atoms3_full, get_atoms4_full, get_atoms_4\n",
    "import itertools\n",
    "\n",
    "print('Loading ethanol data')\n",
    "\n",
    "config_path = \"/Users/samsonkoelle/montlake/experiments/configs/ethanol_full.json\"\n",
    "raw_data = \"/Users/samsonkoelle/thesis_data/raw_data/ethanol.mat\"\n",
    "\n",
    "positions = np.load('/Users/samsonkoelle/positions.npy')\n",
    "randomindices = np.load('/Users/samsonkoelle/indices.npy')\n",
    "\n",
    "np.random.seed(1234)\n",
    "random.seed(1234)\n",
    "\n",
    "config = {}\n",
    "\n",
    "with open(config_path) as f:\n",
    "    config.update(json.load(f))\n",
    "\n",
    "hparams = HParams(**config)"
   ]
  },
  {
   "cell_type": "code",
   "execution_count": 2,
   "id": "37685702",
   "metadata": {},
   "outputs": [],
   "source": [
    "d = hparams.d\n",
    "n_components = hparams.n_components\n",
    "atoms2_feat = hparams.atoms2_feat\n",
    "atoms3_feat = hparams.atoms3_feat\n",
    "atoms4_feat = hparams.atoms4_feat\n",
    "atoms2_dict = hparams.atoms2_dict\n",
    "atoms3_dict = hparams.atoms3_dict\n",
    "atoms4_dict = hparams.atoms4_dict\n",
    "diagram = hparams.diagram\n",
    "\n",
    "ii = np.asarray(hparams.ii)\n",
    "jj = np.asarray(hparams.jj)\n",
    "#load geometric features\n",
    "natoms = positions.shape[1]\n",
    "n = positions.shape[0]\n",
    "atoms2 = np.asarray(list(itertools.combinations(range(natoms), 2)))\n",
    "atoms2full = atoms2\n",
    "atoms3 = np.asarray(list(itertools.combinations(range(natoms), 3)))\n",
    "atoms4 = np.asarray(list(itertools.combinations(range(natoms), 4)))\n",
    "atoms3full = get_atoms3_full(atoms3)\n",
    "atoms4full = get_atoms4_full(atoms4)\n",
    "\n",
    "if atoms2_feat:\n",
    "    atoms2_feats = atoms2full\n",
    "else:\n",
    "    atoms2_feats = np.asarray([])\n",
    "\n",
    "if atoms3_feat:\n",
    "    atoms3_feats = atoms3full\n",
    "else:\n",
    "    atoms3_feats = np.asarray([])\n",
    "\n",
    "if atoms4_feat:\n",
    "    atoms4_feats = atoms4full\n",
    "else:\n",
    "    atoms4_feats = np.asarray([])"
   ]
  },
  {
   "cell_type": "code",
   "execution_count": 3,
   "id": "f921202b",
   "metadata": {},
   "outputs": [],
   "source": [
    "data = np.load('/Users/samsonkoelle/ethanolanglesfull_0524.npy')\n",
    "n_neighbors = hparams.n_neighbors\n",
    "atoms4_dicts= get_atoms_4(natoms, ii, jj)[0]\n",
    "if atoms2_dict:\n",
    "    atoms2_dicts = atoms2full\n",
    "else:\n",
    "    atoms2_dicts = np.asarray([])\n",
    "if atoms3_dict:\n",
    "    atoms3_dicts = atoms3full\n",
    "else:\n",
    "    atoms3_dicts = np.asarray([])\n"
   ]
  },
  {
   "cell_type": "code",
   "execution_count": 4,
   "id": "4fbf4e62",
   "metadata": {},
   "outputs": [
    {
     "name": "stderr",
     "output_type": "stream",
     "text": [
      "/Users/samsonkoelle/miniconda3/envs/isometry/lib/python3.10/site-packages/threadpoolctl.py:1214: RuntimeWarning: \n",
      "Found Intel OpenMP ('libiomp') and LLVM OpenMP ('libomp') loaded at\n",
      "the same time. Both libraries are known to be incompatible and this\n",
      "can cause random crashes or deadlocks on Linux when loaded in the\n",
      "same Python program.\n",
      "Using threadpoolctl may cause crashes or deadlocks. For more\n",
      "information and possible workarounds, please see\n",
      "    https://github.com/joblib/threadpoolctl/blob/master/multiple_openmp.md\n",
      "\n",
      "  warnings.warn(msg, RuntimeWarning)\n"
     ]
    }
   ],
   "source": [
    "from scipy import sparse\n",
    "from isometry_pursuit.transformation import exponential_transformation\n",
    "from isometry_pursuit.manifold import local_pca\n",
    "from isometry_pursuit.atomic_geometry import get_D_feats_feats\n",
    "\n",
    "nsel = 100\n",
    "dimension = 2\n",
    "p = atoms4full.shape[0]\n",
    "\n",
    "selected_points = np.random.choice(range(50000),nsel)\n",
    "dg_x = np.asarray([get_D_feats_feats(positions[selected_points[i]],\n",
    "           atoms2in = atoms2_feats,\n",
    "           atoms3in = atoms3_feats,\n",
    "           atoms4in = atoms4_feats,\n",
    "           atoms2out = atoms2_dicts,\n",
    "           atoms3out = atoms3_dicts,\n",
    "           atoms4out = atoms4full) for i in range(nsel)])                           \n",
    "\n",
    "power = 1\n"
   ]
  },
  {
   "cell_type": "code",
   "execution_count": 5,
   "id": "6febb051",
   "metadata": {},
   "outputs": [],
   "source": [
    "dg_M = np.zeros((nsel, dimension, p))\n",
    "for i, sp in enumerate(selected_points):\n",
    "    tangent_bases = local_pca(data, sp, n_neighbors, dimension)\n",
    "    # NOTE (Sam): normalization prior to projection once again in the manifold case.\n",
    "    dg_x_normalized = exponential_transformation(dg_x[i], power)\n",
    "    dg_M[i] = np.einsum('b p, b d -> d p', dg_x_normalized, tangent_bases)"
   ]
  },
  {
   "cell_type": "code",
   "execution_count": 12,
   "id": "2c838ea8",
   "metadata": {},
   "outputs": [],
   "source": [
    "from isometry_pursuit.experiment import analyze_data\n",
    "from tqdm import tqdm\n",
    "import pandas as pd"
   ]
  },
  {
   "cell_type": "code",
   "execution_count": null,
   "id": "241ad51c",
   "metadata": {},
   "outputs": [
    {
     "name": "stderr",
     "output_type": "stream",
     "text": [
      "\r",
      "  0%|                                                                                                 | 0/100 [00:00<?, ?it/s]"
     ]
    },
    {
     "name": "stdout",
     "output_type": "stream",
     "text": [
      "Brute force complexity 3 from D=2 and nbp=3\n",
      "Computing brute force solution for dictionary dimension 3 and target_dimension 2\n"
     ]
    },
    {
     "name": "stderr",
     "output_type": "stream",
     "text": [
      "\n",
      "3it [00:00, 3617.86it/s]\n"
     ]
    },
    {
     "name": "stdout",
     "output_type": "stream",
     "text": [
      "Computing brute force solution for dictionary dimension 3 and target_dimension 2\n"
     ]
    },
    {
     "name": "stderr",
     "output_type": "stream",
     "text": [
      "\n",
      "3it [00:00, 8642.11it/s]\n",
      "  1%|▉                                                                                        | 1/100 [00:08<14:14,  8.63s/it]"
     ]
    },
    {
     "name": "stdout",
     "output_type": "stream",
     "text": [
      "Brute force complexity 3 from D=2 and nbp=3\n",
      "Computing brute force solution for dictionary dimension 3 and target_dimension 2\n"
     ]
    },
    {
     "name": "stderr",
     "output_type": "stream",
     "text": [
      "\n",
      "3it [00:00, 12608.13it/s]\n"
     ]
    },
    {
     "name": "stdout",
     "output_type": "stream",
     "text": [
      "Computing brute force solution for dictionary dimension 3 and target_dimension 2\n"
     ]
    },
    {
     "name": "stderr",
     "output_type": "stream",
     "text": [
      "\n",
      "3it [00:00, 15307.68it/s]\n",
      "  2%|█▊                                                                                       | 2/100 [00:16<13:33,  8.30s/it]"
     ]
    },
    {
     "name": "stdout",
     "output_type": "stream",
     "text": [
      "Brute force complexity 3 from D=2 and nbp=3\n",
      "Computing brute force solution for dictionary dimension 3 and target_dimension 2\n"
     ]
    },
    {
     "name": "stderr",
     "output_type": "stream",
     "text": [
      "\n",
      "3it [00:00, 14926.35it/s]\n"
     ]
    },
    {
     "name": "stdout",
     "output_type": "stream",
     "text": [
      "Computing brute force solution for dictionary dimension 3 and target_dimension 2\n"
     ]
    },
    {
     "name": "stderr",
     "output_type": "stream",
     "text": [
      "\n",
      "3it [00:00, 5737.76it/s]\n",
      "  3%|██▋                                                                                      | 3/100 [00:24<13:07,  8.12s/it]"
     ]
    },
    {
     "name": "stdout",
     "output_type": "stream",
     "text": [
      "Brute force complexity 3 from D=2 and nbp=3\n",
      "Computing brute force solution for dictionary dimension 3 and target_dimension 2\n"
     ]
    },
    {
     "name": "stderr",
     "output_type": "stream",
     "text": [
      "\n",
      "3it [00:00, 15867.48it/s]\n"
     ]
    },
    {
     "name": "stdout",
     "output_type": "stream",
     "text": [
      "Computing brute force solution for dictionary dimension 3 and target_dimension 2\n"
     ]
    },
    {
     "name": "stderr",
     "output_type": "stream",
     "text": [
      "\n",
      "3it [00:00, 6210.72it/s]\n",
      "  4%|███▌                                                                                     | 4/100 [00:32<12:47,  8.00s/it]"
     ]
    },
    {
     "name": "stdout",
     "output_type": "stream",
     "text": [
      "Brute force complexity 3 from D=2 and nbp=3\n",
      "Computing brute force solution for dictionary dimension 3 and target_dimension 2\n"
     ]
    },
    {
     "name": "stderr",
     "output_type": "stream",
     "text": [
      "\n",
      "3it [00:00, 14768.68it/s]\n"
     ]
    },
    {
     "name": "stdout",
     "output_type": "stream",
     "text": [
      "Computing brute force solution for dictionary dimension 3 and target_dimension 2\n"
     ]
    },
    {
     "name": "stderr",
     "output_type": "stream",
     "text": [
      "\n",
      "3it [00:00, 4219.62it/s]\n",
      "  5%|████▍                                                                                    | 5/100 [00:40<12:44,  8.04s/it]"
     ]
    },
    {
     "name": "stdout",
     "output_type": "stream",
     "text": [
      "Brute force complexity 75466 from D=2 and nbp=389\n",
      "Computing brute force solution for dictionary dimension 389 and target_dimension 2\n"
     ]
    },
    {
     "name": "stderr",
     "output_type": "stream",
     "text": [
      "\n",
      "0it [00:00, ?it/s]\u001b[A\n",
      "3398it [00:00, 33975.01it/s]\u001b[A\n",
      "6796it [00:00, 33441.18it/s]\u001b[A\n",
      "10141it [00:00, 31238.71it/s]\u001b[A\n",
      "13280it [00:00, 30883.53it/s]\u001b[A\n",
      "16626it [00:00, 31774.78it/s]\u001b[A\n",
      "19879it [00:00, 32022.96it/s]\u001b[A\n",
      "23107it [00:00, 32104.99it/s]\u001b[A\n",
      "26322it [00:00, 31327.62it/s]\u001b[A\n",
      "29524it [00:00, 31537.44it/s]\u001b[A\n",
      "33077it [00:01, 32746.69it/s]\u001b[A\n",
      "36358it [00:01, 31489.66it/s]\u001b[A\n",
      "39520it [00:01, 31222.05it/s]\u001b[A\n",
      "42842it [00:01, 31807.28it/s]\u001b[A\n",
      "46031it [00:01, 31167.26it/s]\u001b[A\n",
      "49155it [00:01, 30454.28it/s]\u001b[A\n",
      "52247it [00:01, 30588.72it/s]\u001b[A\n",
      "55561it [00:01, 31333.62it/s]\u001b[A\n",
      "58724it [00:01, 31416.92it/s]\u001b[A\n",
      "61870it [00:01, 31254.53it/s]\u001b[A\n",
      "64999it [00:02, 31262.26it/s]\u001b[A\n",
      "68185it [00:02, 31438.69it/s]\u001b[A\n",
      "71331it [00:02, 31376.74it/s]\u001b[A\n",
      "75466it [00:02, 31568.63it/s]\u001b[A\n"
     ]
    },
    {
     "name": "stdout",
     "output_type": "stream",
     "text": [
      "Computing brute force solution for dictionary dimension 389 and target_dimension 2\n"
     ]
    },
    {
     "name": "stderr",
     "output_type": "stream",
     "text": [
      "\n",
      "0it [00:00, ?it/s]\u001b[A\n",
      "3674it [00:00, 36735.66it/s]\u001b[A\n",
      "7348it [00:00, 34965.74it/s]\u001b[A\n",
      "10851it [00:00, 34766.89it/s]\u001b[A\n",
      "14424it [00:00, 35137.39it/s]\u001b[A\n",
      "17941it [00:00, 34838.31it/s]\u001b[A\n",
      "21427it [00:00, 33848.45it/s]\u001b[A\n",
      "24817it [00:00, 33034.23it/s]\u001b[A\n",
      "28126it [00:00, 32599.77it/s]\u001b[A\n",
      "31540it [00:00, 33061.82it/s]\u001b[A\n",
      "34880it [00:01, 33160.59it/s]\u001b[A\n",
      "38199it [00:01, 30730.91it/s]\u001b[A\n",
      "41594it [00:01, 31645.51it/s]\u001b[A\n",
      "45103it [00:01, 32639.51it/s]\u001b[A\n",
      "48467it [00:01, 32927.27it/s]\u001b[A\n",
      "51779it [00:01, 32837.96it/s]\u001b[A\n",
      "55245it [00:01, 33373.84it/s]\u001b[A\n",
      "58597it [00:01, 33414.63it/s]\u001b[A\n",
      "61946it [00:01, 33386.96it/s]\u001b[A\n",
      "65443it [00:01, 33857.93it/s]\u001b[A\n",
      "68856it [00:02, 33934.11it/s]\u001b[A\n",
      "75466it [00:02, 33217.59it/s]\u001b[A\n",
      "  6%|█████▎                                                                                   | 6/100 [00:53<15:25,  9.85s/it]"
     ]
    },
    {
     "name": "stdout",
     "output_type": "stream",
     "text": [
      "Brute force complexity 3 from D=2 and nbp=3\n",
      "Computing brute force solution for dictionary dimension 3 and target_dimension 2\n"
     ]
    },
    {
     "name": "stderr",
     "output_type": "stream",
     "text": [
      "\n",
      "3it [00:00, 15382.53it/s]\n"
     ]
    },
    {
     "name": "stdout",
     "output_type": "stream",
     "text": [
      "Computing brute force solution for dictionary dimension 3 and target_dimension 2\n"
     ]
    },
    {
     "name": "stderr",
     "output_type": "stream",
     "text": [
      "\n",
      "3it [00:00, 5102.56it/s]\n",
      "  7%|██████▏                                                                                  | 7/100 [01:02<14:41,  9.48s/it]"
     ]
    },
    {
     "name": "stdout",
     "output_type": "stream",
     "text": [
      "Brute force complexity 3 from D=2 and nbp=3\n",
      "Computing brute force solution for dictionary dimension 3 and target_dimension 2\n"
     ]
    },
    {
     "name": "stderr",
     "output_type": "stream",
     "text": [
      "\n",
      "3it [00:00, 9252.14it/s]\n"
     ]
    },
    {
     "name": "stdout",
     "output_type": "stream",
     "text": [
      "Computing brute force solution for dictionary dimension 3 and target_dimension 2\n"
     ]
    },
    {
     "name": "stderr",
     "output_type": "stream",
     "text": [
      "\n",
      "3it [00:00, 16049.63it/s]\n",
      "  8%|███████                                                                                  | 8/100 [01:10<13:53,  9.06s/it]"
     ]
    },
    {
     "name": "stdout",
     "output_type": "stream",
     "text": [
      "Brute force complexity 3 from D=2 and nbp=3\n",
      "Computing brute force solution for dictionary dimension 3 and target_dimension 2\n"
     ]
    },
    {
     "name": "stderr",
     "output_type": "stream",
     "text": [
      "\n",
      "3it [00:00, 9341.43it/s]\n"
     ]
    },
    {
     "name": "stdout",
     "output_type": "stream",
     "text": [
      "Computing brute force solution for dictionary dimension 3 and target_dimension 2\n"
     ]
    },
    {
     "name": "stderr",
     "output_type": "stream",
     "text": [
      "\n",
      "3it [00:00, 9252.14it/s]\n",
      "  9%|████████                                                                                 | 9/100 [01:19<13:23,  8.83s/it]"
     ]
    },
    {
     "name": "stdout",
     "output_type": "stream",
     "text": [
      "Brute force complexity 98346 from D=2 and nbp=444\n",
      "Computing brute force solution for dictionary dimension 444 and target_dimension 2\n"
     ]
    },
    {
     "name": "stderr",
     "output_type": "stream",
     "text": [
      "\n",
      "0it [00:00, ?it/s]\u001b[A\n",
      "3521it [00:00, 35205.00it/s]\u001b[A\n",
      "7042it [00:00, 34823.48it/s]\u001b[A\n",
      "10525it [00:00, 32661.47it/s]\u001b[A\n",
      "13806it [00:00, 32194.26it/s]\u001b[A\n",
      "17034it [00:00, 30923.84it/s]\u001b[A\n",
      "20136it [00:00, 30823.57it/s]\u001b[A\n",
      "23273it [00:00, 30994.51it/s]\u001b[A\n",
      "26377it [00:00, 30782.30it/s]\u001b[A\n",
      "29506it [00:00, 30936.68it/s]\u001b[A\n",
      "32602it [00:01, 30686.99it/s]\u001b[A\n",
      "35960it [00:01, 31555.80it/s]\u001b[A\n",
      "39157it [00:01, 31677.83it/s]\u001b[A\n",
      "42327it [00:01, 31652.35it/s]\u001b[A\n",
      "45536it [00:01, 31781.66it/s]\u001b[A\n",
      "48900it [00:01, 32336.70it/s]\u001b[A\n",
      "52135it [00:01, 31437.72it/s]\u001b[A\n",
      "55415it [00:01, 31835.93it/s]\u001b[A\n",
      "58687it [00:01, 32096.13it/s]\u001b[A\n",
      "61985it [00:01, 32358.21it/s]\u001b[A\n",
      "65466it [00:02, 33086.59it/s]\u001b[A\n",
      "68778it [00:02, 32769.06it/s]\u001b[A\n",
      "72058it [00:02, 31517.26it/s]\u001b[A\n",
      "75221it [00:02, 31213.57it/s]\u001b[A\n",
      "78430it [00:02, 31465.86it/s]\u001b[A\n",
      "81593it [00:02, 31512.79it/s]\u001b[A\n",
      "84855it [00:02, 31837.61it/s]\u001b[A\n",
      "88115it [00:02, 32061.37it/s]\u001b[A\n",
      "91324it [00:02, 31910.72it/s]\u001b[A\n",
      "94518it [00:02, 30985.88it/s]\u001b[A\n",
      "98346it [00:03, 31674.52it/s]\u001b[A\n"
     ]
    },
    {
     "name": "stdout",
     "output_type": "stream",
     "text": [
      "Computing brute force solution for dictionary dimension 444 and target_dimension 2\n"
     ]
    },
    {
     "name": "stderr",
     "output_type": "stream",
     "text": [
      "\n",
      "0it [00:00, ?it/s]\u001b[A\n",
      "3691it [00:00, 36907.48it/s]\u001b[A\n",
      "7382it [00:00, 34957.35it/s]\u001b[A\n",
      "10885it [00:00, 33612.67it/s]\u001b[A\n",
      "14253it [00:00, 33574.27it/s]\u001b[A\n",
      "17718it [00:00, 33945.21it/s]\u001b[A\n",
      "21116it [00:00, 33932.41it/s]\u001b[A\n",
      "24626it [00:00, 34306.32it/s]\u001b[A\n",
      "28267it [00:00, 34967.64it/s]\u001b[A\n",
      "31766it [00:00, 34343.70it/s]\u001b[A\n",
      "35204it [00:01, 33953.87it/s]\u001b[A\n",
      "38611it [00:01, 33987.89it/s]\u001b[A\n",
      "42012it [00:01, 33976.89it/s]\u001b[A\n",
      "45412it [00:01, 33874.12it/s]\u001b[A\n",
      "48801it [00:01, 33676.44it/s]\u001b[A\n",
      "52170it [00:01, 32608.70it/s]\u001b[A\n",
      "55974it [00:01, 34192.21it/s]\u001b[A\n",
      "59403it [00:01, 33608.16it/s]\u001b[A\n",
      "62873it [00:01, 33924.98it/s]\u001b[A\n",
      "66272it [00:01, 33196.76it/s]\u001b[A\n",
      "69604it [00:02, 33232.00it/s]\u001b[A\n",
      "73233it [00:02, 34128.60it/s]\u001b[A\n",
      "77098it [00:02, 35463.91it/s]\u001b[A\n",
      "80735it [00:02, 35732.29it/s]\u001b[A\n",
      "84313it [00:02, 34929.78it/s]\u001b[A\n",
      "87813it [00:02, 34258.24it/s]\u001b[A\n",
      "91450it [00:02, 34870.20it/s]\u001b[A\n",
      "98346it [00:02, 34215.99it/s]\u001b[A\n",
      " 10%|████████▊                                                                               | 10/100 [01:33<16:01, 10.68s/it]"
     ]
    },
    {
     "name": "stdout",
     "output_type": "stream",
     "text": [
      "Brute force complexity 3 from D=2 and nbp=3\n",
      "Computing brute force solution for dictionary dimension 3 and target_dimension 2\n"
     ]
    },
    {
     "name": "stderr",
     "output_type": "stream",
     "text": [
      "\n",
      "3it [00:00, 14496.44it/s]\n"
     ]
    },
    {
     "name": "stdout",
     "output_type": "stream",
     "text": [
      "Computing brute force solution for dictionary dimension 3 and target_dimension 2\n"
     ]
    },
    {
     "name": "stderr",
     "output_type": "stream",
     "text": [
      "\n",
      "3it [00:00, 7077.00it/s]\n",
      " 11%|█████████▋                                                                              | 11/100 [01:43<15:08, 10.20s/it]"
     ]
    },
    {
     "name": "stdout",
     "output_type": "stream",
     "text": [
      "Brute force complexity 35511 from D=2 and nbp=267\n",
      "Computing brute force solution for dictionary dimension 267 and target_dimension 2\n"
     ]
    },
    {
     "name": "stderr",
     "output_type": "stream",
     "text": [
      "\n",
      "0it [00:00, ?it/s]\u001b[A\n",
      "3056it [00:00, 30552.74it/s]\u001b[A\n",
      "6442it [00:00, 32493.60it/s]\u001b[A\n",
      "9692it [00:00, 32245.22it/s]\u001b[A\n",
      "12917it [00:00, 31313.29it/s]\u001b[A\n",
      "16184it [00:00, 31788.62it/s]\u001b[A\n",
      "19367it [00:00, 31684.09it/s]\u001b[A\n",
      "22538it [00:00, 31458.11it/s]\u001b[A\n",
      "25686it [00:00, 29491.99it/s]\u001b[A\n",
      "28658it [00:00, 29331.99it/s]\u001b[A\n",
      "31713it [00:01, 29688.98it/s]\u001b[A\n",
      "35511it [00:01, 30491.62it/s]\u001b[A\n"
     ]
    },
    {
     "name": "stdout",
     "output_type": "stream",
     "text": [
      "Computing brute force solution for dictionary dimension 267 and target_dimension 2\n"
     ]
    },
    {
     "name": "stderr",
     "output_type": "stream",
     "text": [
      "\n",
      "0it [00:00, ?it/s]\u001b[A\n",
      "3495it [00:00, 34937.12it/s]\u001b[A\n",
      "7036it [00:00, 35214.62it/s]\u001b[A\n",
      "10607it [00:00, 35437.07it/s]\u001b[A\n",
      "14166it [00:00, 35497.05it/s]\u001b[A\n",
      "17716it [00:00, 34985.56it/s]\u001b[A\n",
      "21216it [00:00, 34868.78it/s]\u001b[A\n",
      "24704it [00:00, 34107.72it/s]\u001b[A\n",
      "28118it [00:00, 34047.46it/s]\u001b[A\n",
      "31604it [00:00, 34295.19it/s]\u001b[A\n",
      "35511it [00:01, 34559.47it/s]\u001b[A\n",
      " 12%|██████████▌                                                                             | 12/100 [01:54<15:20, 10.46s/it]"
     ]
    },
    {
     "name": "stdout",
     "output_type": "stream",
     "text": [
      "Brute force complexity 97020 from D=2 and nbp=441\n",
      "Computing brute force solution for dictionary dimension 441 and target_dimension 2\n"
     ]
    },
    {
     "name": "stderr",
     "output_type": "stream",
     "text": [
      "\n",
      "0it [00:00, ?it/s]\u001b[A\n",
      "3310it [00:00, 33090.96it/s]\u001b[A\n",
      "6620it [00:00, 31018.31it/s]\u001b[A\n",
      "9731it [00:00, 30488.53it/s]\u001b[A\n",
      "13173it [00:00, 31986.72it/s]\u001b[A\n",
      "16492it [00:00, 32410.59it/s]\u001b[A\n",
      "19739it [00:00, 31346.47it/s]\u001b[A\n",
      "22883it [00:00, 29498.38it/s]\u001b[A\n",
      "25855it [00:00, 29193.08it/s]\u001b[A\n",
      "28789it [00:00, 29159.54it/s]\u001b[A\n",
      "31715it [00:01, 25864.27it/s]\u001b[A\n",
      "34368it [00:01, 24348.50it/s]\u001b[A\n",
      "36871it [00:01, 24348.50it/s]\u001b[A\n",
      "39343it [00:01, 22896.82it/s]\u001b[A\n",
      "42200it [00:01, 24419.75it/s]\u001b[A\n",
      "45442it [00:01, 26637.89it/s]\u001b[A\n",
      "48812it [00:01, 28641.72it/s]\u001b[A\n",
      "51802it [00:01, 29001.06it/s]\u001b[A\n",
      "54736it [00:01, 28864.69it/s]\u001b[A\n",
      "57664it [00:02, 28983.52it/s]\u001b[A\n",
      "60873it [00:02, 29897.57it/s]\u001b[A\n",
      "64105it [00:02, 30612.93it/s]\u001b[A\n",
      "67177it [00:02, 30499.10it/s]\u001b[A\n",
      "70417it [00:02, 31062.79it/s]\u001b[A\n",
      "73798it [00:02, 31878.76it/s]\u001b[A\n",
      "76991it [00:02, 30491.94it/s]\u001b[A\n",
      "80056it [00:02, 29315.67it/s]\u001b[A\n",
      "83180it [00:02, 29862.01it/s]\u001b[A\n",
      "86227it [00:02, 30036.84it/s]\u001b[A\n",
      "89310it [00:03, 30266.75it/s]\u001b[A\n",
      "92680it [00:03, 31270.45it/s]\u001b[A\n",
      "97020it [00:03, 29230.58it/s]\u001b[A\n"
     ]
    },
    {
     "name": "stdout",
     "output_type": "stream",
     "text": [
      "Computing brute force solution for dictionary dimension 441 and target_dimension 2\n"
     ]
    },
    {
     "name": "stderr",
     "output_type": "stream",
     "text": [
      "\n",
      "0it [00:00, ?it/s]\u001b[A\n",
      "3281it [00:00, 32806.75it/s]\u001b[A\n",
      "6610it [00:00, 33088.14it/s]\u001b[A\n",
      "10174it [00:00, 34251.89it/s]\u001b[A\n",
      "13894it [00:00, 35413.31it/s]\u001b[A\n",
      "17564it [00:00, 35876.99it/s]\u001b[A\n",
      "21152it [00:00, 34806.95it/s]\u001b[A\n",
      "24639it [00:00, 34194.49it/s]\u001b[A\n",
      "28064it [00:00, 33972.64it/s]\u001b[A\n",
      "31465it [00:00, 33711.18it/s]\u001b[A\n",
      "34839it [00:01, 33640.40it/s]\u001b[A\n",
      "38205it [00:01, 33642.55it/s]\u001b[A\n",
      "41571it [00:01, 33253.46it/s]\u001b[A\n",
      "45349it [00:01, 34601.35it/s]\u001b[A\n",
      "48980it [00:01, 35109.20it/s]\u001b[A\n",
      "52682it [00:01, 35679.34it/s]\u001b[A\n",
      "56292it [00:01, 35804.92it/s]\u001b[A\n",
      "59924it [00:01, 35957.04it/s]\u001b[A\n",
      "63521it [00:01, 34823.66it/s]\u001b[A\n",
      "67116it [00:01, 35151.45it/s]\u001b[A\n",
      "70772it [00:02, 35564.87it/s]\u001b[A\n",
      "74346it [00:02, 35614.04it/s]\u001b[A\n",
      "77921it [00:02, 35653.22it/s]\u001b[A\n",
      "81534it [00:02, 35793.60it/s]\u001b[A\n",
      "85116it [00:02, 35100.92it/s]\u001b[A\n",
      "88631it [00:02, 34882.45it/s]\u001b[A\n",
      "92211it [00:02, 35152.42it/s]\u001b[A\n",
      "97020it [00:02, 34926.20it/s]\u001b[A\n",
      " 13%|███████████▍                                                                            | 13/100 [02:08<16:54, 11.66s/it]"
     ]
    },
    {
     "name": "stdout",
     "output_type": "stream",
     "text": [
      "Brute force complexity 114960 from D=2 and nbp=480\n",
      "Computing brute force solution for dictionary dimension 480 and target_dimension 2\n"
     ]
    },
    {
     "name": "stderr",
     "output_type": "stream",
     "text": [
      "\n",
      "0it [00:00, ?it/s]\u001b[A\n",
      "2729it [00:00, 27282.42it/s]\u001b[A\n",
      "5458it [00:00, 27208.14it/s]\u001b[A\n",
      "8484it [00:00, 28596.94it/s]\u001b[A\n",
      "11467it [00:00, 29080.59it/s]\u001b[A\n",
      "14376it [00:00, 27197.29it/s]\u001b[A\n",
      "17116it [00:00, 24129.01it/s]\u001b[A\n",
      "19590it [00:00, 23145.01it/s]\u001b[A\n",
      "22141it [00:00, 23815.31it/s]\u001b[A\n",
      "25081it [00:00, 25425.66it/s]\u001b[A\n",
      "27662it [00:01, 24197.06it/s]\u001b[A\n",
      "30116it [00:01, 23528.71it/s]\u001b[A\n",
      "33106it [00:01, 25320.33it/s]\u001b[A\n",
      "36309it [00:01, 27242.22it/s]\u001b[A\n",
      "39437it [00:01, 28414.52it/s]\u001b[A\n",
      "42885it [00:01, 30192.75it/s]\u001b[A\n",
      "46156it [00:01, 30934.73it/s]\u001b[A\n",
      "49685it [00:01, 32226.10it/s]\u001b[A\n",
      "53070it [00:01, 32709.12it/s]\u001b[A\n",
      "56352it [00:02, 28804.90it/s]\u001b[A\n",
      "59324it [00:02, 27469.57it/s]\u001b[A\n",
      "62350it [00:02, 28219.21it/s]\u001b[A\n",
      "65286it [00:02, 28535.26it/s]\u001b[A\n",
      "68343it [00:02, 29111.84it/s]\u001b[A\n",
      "71732it [00:02, 30490.07it/s]\u001b[A\n",
      "74906it [00:02, 30853.28it/s]\u001b[A\n",
      "78325it [00:02, 31828.29it/s]\u001b[A\n",
      "81603it [00:02, 32107.58it/s]\u001b[A\n",
      "85051it [00:02, 32810.57it/s]\u001b[A\n",
      "88435it [00:03, 33116.43it/s]\u001b[A\n",
      "91905it [00:03, 33586.94it/s]\u001b[A\n",
      "95331it [00:03, 33786.07it/s]\u001b[A\n",
      "98714it [00:03, 33316.83it/s]\u001b[A\n",
      "102069it [00:03, 33383.59it/s]\u001b[A\n",
      "105502it [00:03, 33663.57it/s]\u001b[A\n",
      "108871it [00:03, 33653.78it/s]\u001b[A\n",
      "114960it [00:03, 29783.00it/s]\u001b[A\n"
     ]
    },
    {
     "name": "stdout",
     "output_type": "stream",
     "text": [
      "Computing brute force solution for dictionary dimension 480 and target_dimension 2\n"
     ]
    },
    {
     "name": "stderr",
     "output_type": "stream",
     "text": [
      "\n",
      "0it [00:00, ?it/s]\u001b[A\n",
      "3669it [00:00, 36685.57it/s]\u001b[A\n",
      "7338it [00:00, 36546.08it/s]\u001b[A\n",
      "10993it [00:00, 36018.28it/s]\u001b[A\n",
      "14596it [00:00, 35800.42it/s]\u001b[A\n",
      "18177it [00:00, 35131.87it/s]\u001b[A\n",
      "21880it [00:00, 35762.98it/s]\u001b[A\n",
      "25629it [00:00, 36319.12it/s]\u001b[A\n",
      "29500it [00:00, 37072.13it/s]\u001b[A\n",
      "33343it [00:00, 37491.77it/s]\u001b[A\n",
      "37095it [00:01, 37397.65it/s]\u001b[A\n",
      "40837it [00:01, 37078.47it/s]\u001b[A\n",
      "44547it [00:01, 36892.74it/s]\u001b[A\n",
      "48414it [00:01, 37423.03it/s]\u001b[A\n",
      "52158it [00:01, 37358.66it/s]\u001b[A\n",
      "55895it [00:01, 37097.05it/s]\u001b[A\n",
      "59701it [00:01, 37381.82it/s]\u001b[A\n",
      "63462it [00:01, 37447.85it/s]\u001b[A\n",
      "67407it [00:01, 38045.99it/s]\u001b[A\n",
      "71213it [00:01, 36831.63it/s]\u001b[A\n",
      "74905it [00:02, 35637.43it/s]\u001b[A\n",
      "78557it [00:02, 35890.93it/s]\u001b[A\n",
      "82219it [00:02, 36102.15it/s]\u001b[A\n",
      "85915it [00:02, 36352.07it/s]\u001b[A\n",
      "89718it [00:02, 36847.75it/s]\u001b[A\n",
      "93408it [00:02, 36535.78it/s]\u001b[A\n",
      "97309it [00:02, 37266.13it/s]\u001b[A\n",
      "101040it [00:02, 36531.13it/s]\u001b[A\n",
      "104699it [00:02, 35209.87it/s]\u001b[A\n",
      "108316it [00:02, 35484.19it/s]\u001b[A\n",
      "114960it [00:03, 36582.15it/s]\u001b[A\n",
      " 14%|████████████▎                                                                           | 14/100 [02:24<18:24, 12.84s/it]"
     ]
    },
    {
     "name": "stdout",
     "output_type": "stream",
     "text": [
      "Brute force complexity 3 from D=2 and nbp=3\n",
      "Computing brute force solution for dictionary dimension 3 and target_dimension 2\n"
     ]
    },
    {
     "name": "stderr",
     "output_type": "stream",
     "text": [
      "\n",
      "3it [00:00, 11366.68it/s]\n"
     ]
    },
    {
     "name": "stdout",
     "output_type": "stream",
     "text": [
      "Computing brute force solution for dictionary dimension 3 and target_dimension 2\n"
     ]
    },
    {
     "name": "stderr",
     "output_type": "stream",
     "text": [
      "\n",
      "3it [00:00, 5758.77it/s]\n",
      " 15%|█████████████▏                                                                          | 15/100 [02:32<16:10, 11.42s/it]"
     ]
    },
    {
     "name": "stdout",
     "output_type": "stream",
     "text": [
      "Brute force complexity 3 from D=2 and nbp=3\n",
      "Computing brute force solution for dictionary dimension 3 and target_dimension 2\n"
     ]
    },
    {
     "name": "stderr",
     "output_type": "stream",
     "text": [
      "\n",
      "3it [00:00, 16299.11it/s]\n"
     ]
    },
    {
     "name": "stdout",
     "output_type": "stream",
     "text": [
      "Computing brute force solution for dictionary dimension 3 and target_dimension 2\n"
     ]
    },
    {
     "name": "stderr",
     "output_type": "stream",
     "text": [
      "\n",
      "3it [00:00, 5693.63it/s]\n",
      " 16%|██████████████                                                                          | 16/100 [02:40<14:31, 10.37s/it]"
     ]
    },
    {
     "name": "stdout",
     "output_type": "stream",
     "text": [
      "Brute force complexity 3 from D=2 and nbp=3\n",
      "Computing brute force solution for dictionary dimension 3 and target_dimension 2\n"
     ]
    },
    {
     "name": "stderr",
     "output_type": "stream",
     "text": [
      "\n",
      "3it [00:00, 12433.71it/s]\n"
     ]
    },
    {
     "name": "stdout",
     "output_type": "stream",
     "text": [
      "Computing brute force solution for dictionary dimension 3 and target_dimension 2\n"
     ]
    },
    {
     "name": "stderr",
     "output_type": "stream",
     "text": [
      "\n",
      "3it [00:00, 4272.64it/s]\n",
      " 17%|██████████████▉                                                                         | 17/100 [02:48<13:21,  9.66s/it]"
     ]
    },
    {
     "name": "stdout",
     "output_type": "stream",
     "text": [
      "Brute force complexity 3 from D=2 and nbp=3\n",
      "Computing brute force solution for dictionary dimension 3 and target_dimension 2\n"
     ]
    },
    {
     "name": "stderr",
     "output_type": "stream",
     "text": [
      "\n",
      "3it [00:00, 12826.62it/s]\n"
     ]
    },
    {
     "name": "stdout",
     "output_type": "stream",
     "text": [
      "Computing brute force solution for dictionary dimension 3 and target_dimension 2\n"
     ]
    },
    {
     "name": "stderr",
     "output_type": "stream",
     "text": [
      "\n",
      "3it [00:00, 7593.79it/s]\n",
      " 18%|███████████████▊                                                                        | 18/100 [02:56<12:29,  9.14s/it]"
     ]
    },
    {
     "name": "stdout",
     "output_type": "stream",
     "text": [
      "Brute force complexity 90525 from D=2 and nbp=426\n",
      "Computing brute force solution for dictionary dimension 426 and target_dimension 2\n"
     ]
    },
    {
     "name": "stderr",
     "output_type": "stream",
     "text": [
      "\n",
      "0it [00:00, ?it/s]\u001b[A\n",
      "3451it [00:00, 34503.12it/s]\u001b[A\n",
      "6938it [00:00, 34716.89it/s]\u001b[A\n",
      "10410it [00:00, 34539.95it/s]\u001b[A\n",
      "13865it [00:00, 34371.61it/s]\u001b[A\n",
      "17303it [00:00, 34312.44it/s]\u001b[A\n",
      "20736it [00:00, 34314.91it/s]\u001b[A\n",
      "24269it [00:00, 34641.97it/s]\u001b[A\n",
      "27734it [00:00, 34496.83it/s]\u001b[A\n",
      "31184it [00:00, 33918.40it/s]\u001b[A\n",
      "34578it [00:01, 33345.73it/s]\u001b[A\n",
      "37941it [00:01, 33428.91it/s]\u001b[A\n",
      "41286it [00:01, 32546.39it/s]\u001b[A\n",
      "44560it [00:01, 32600.70it/s]\u001b[A\n",
      "47877it [00:01, 32767.54it/s]\u001b[A\n",
      "51200it [00:01, 32903.93it/s]\u001b[A\n",
      "54755it [00:01, 33691.48it/s]\u001b[A\n",
      "58154it [00:01, 33779.59it/s]\u001b[A\n",
      "61555it [00:01, 33847.86it/s]\u001b[A\n",
      "65082it [00:01, 34272.63it/s]\u001b[A\n",
      "68622it [00:02, 34609.13it/s]\u001b[A\n",
      "72084it [00:02, 34530.65it/s]\u001b[A\n",
      "75636it [00:02, 34826.37it/s]\u001b[A\n",
      "79131it [00:02, 34862.78it/s]\u001b[A\n",
      "82618it [00:02, 34540.39it/s]\u001b[A\n",
      "86073it [00:02, 34127.01it/s]\u001b[A\n",
      "90525it [00:02, 33950.06it/s]\u001b[A\n"
     ]
    },
    {
     "name": "stdout",
     "output_type": "stream",
     "text": [
      "Computing brute force solution for dictionary dimension 426 and target_dimension 2\n"
     ]
    },
    {
     "name": "stderr",
     "output_type": "stream",
     "text": [
      "\n",
      "0it [00:00, ?it/s]\u001b[A\n",
      "3692it [00:00, 36916.34it/s]\u001b[A\n",
      "7512it [00:00, 37666.30it/s]\u001b[A\n",
      "11327it [00:00, 37883.66it/s]\u001b[A\n",
      "15116it [00:00, 37533.25it/s]\u001b[A\n",
      "18870it [00:00, 37177.35it/s]\u001b[A\n",
      "22589it [00:00, 37001.34it/s]\u001b[A\n",
      "26330it [00:00, 37132.38it/s]\u001b[A\n",
      "30130it [00:00, 37403.48it/s]\u001b[A\n",
      "33928it [00:00, 37580.25it/s]\u001b[A\n",
      "37687it [00:01, 37561.49it/s]\u001b[A\n",
      "41444it [00:01, 34440.07it/s]\u001b[A\n",
      "44938it [00:01, 34432.57it/s]\u001b[A\n",
      "48416it [00:01, 33850.91it/s]\u001b[A\n",
      "52319it [00:01, 35341.50it/s]\u001b[A\n",
      "55878it [00:01, 35263.28it/s]\u001b[A\n",
      "59777it [00:01, 36352.85it/s]\u001b[A\n",
      "63526it [00:01, 36686.40it/s]\u001b[A\n",
      "67308it [00:01, 37020.40it/s]\u001b[A\n",
      "71216it [00:01, 37630.81it/s]\u001b[A\n",
      "75049it [00:02, 37836.42it/s]\u001b[A\n",
      "78899it [00:02, 38033.91it/s]\u001b[A\n",
      "82706it [00:02, 37992.77it/s]\u001b[A\n",
      "86508it [00:02, 37368.42it/s]\u001b[A\n",
      "90525it [00:02, 36783.78it/s]\u001b[A\n",
      " 19%|████████████████▋                                                                       | 19/100 [03:09<13:53, 10.29s/it]"
     ]
    },
    {
     "name": "stdout",
     "output_type": "stream",
     "text": [
      "Brute force complexity 3 from D=2 and nbp=3\n",
      "Computing brute force solution for dictionary dimension 3 and target_dimension 2\n"
     ]
    },
    {
     "name": "stderr",
     "output_type": "stream",
     "text": [
      "\n",
      "3it [00:00, 13273.11it/s]\n"
     ]
    },
    {
     "name": "stdout",
     "output_type": "stream",
     "text": [
      "Computing brute force solution for dictionary dimension 3 and target_dimension 2\n"
     ]
    },
    {
     "name": "stderr",
     "output_type": "stream",
     "text": [
      "\n",
      "3it [00:00, 4686.37it/s]\n",
      " 20%|█████████████████▌                                                                      | 20/100 [03:16<12:44,  9.55s/it]"
     ]
    },
    {
     "name": "stdout",
     "output_type": "stream",
     "text": [
      "Brute force complexity 3 from D=2 and nbp=3\n",
      "Computing brute force solution for dictionary dimension 3 and target_dimension 2\n"
     ]
    },
    {
     "name": "stderr",
     "output_type": "stream",
     "text": [
      "\n",
      "3it [00:00, 9376.24it/s]\n"
     ]
    },
    {
     "name": "stdout",
     "output_type": "stream",
     "text": [
      "Computing brute force solution for dictionary dimension 3 and target_dimension 2\n"
     ]
    },
    {
     "name": "stderr",
     "output_type": "stream",
     "text": [
      "\n",
      "3it [00:00, 11533.37it/s]\n",
      " 21%|██████████████████▍                                                                     | 21/100 [03:24<11:53,  9.04s/it]"
     ]
    },
    {
     "name": "stdout",
     "output_type": "stream",
     "text": [
      "Brute force complexity 10585 from D=2 and nbp=146\n",
      "Computing brute force solution for dictionary dimension 146 and target_dimension 2\n"
     ]
    },
    {
     "name": "stderr",
     "output_type": "stream",
     "text": [
      "\n",
      "0it [00:00, ?it/s]\u001b[A\n",
      "3313it [00:00, 33127.03it/s]\u001b[A\n",
      "6878it [00:00, 34606.39it/s]\u001b[A\n",
      "10585it [00:00, 33897.27it/s]\u001b[A\n"
     ]
    },
    {
     "name": "stdout",
     "output_type": "stream",
     "text": [
      "Computing brute force solution for dictionary dimension 146 and target_dimension 2\n"
     ]
    },
    {
     "name": "stderr",
     "output_type": "stream",
     "text": [
      "\n",
      "0it [00:00, ?it/s]\u001b[A\n",
      "3761it [00:00, 37603.94it/s]\u001b[A\n",
      "10585it [00:00, 37443.30it/s][A\n",
      " 22%|███████████████████▎                                                                    | 22/100 [03:33<11:31,  8.87s/it]"
     ]
    },
    {
     "name": "stdout",
     "output_type": "stream",
     "text": [
      "Brute force complexity 3 from D=2 and nbp=3\n",
      "Computing brute force solution for dictionary dimension 3 and target_dimension 2\n"
     ]
    },
    {
     "name": "stderr",
     "output_type": "stream",
     "text": [
      "\n",
      "3it [00:00, 15553.66it/s]\n"
     ]
    },
    {
     "name": "stdout",
     "output_type": "stream",
     "text": [
      "Computing brute force solution for dictionary dimension 3 and target_dimension 2\n"
     ]
    },
    {
     "name": "stderr",
     "output_type": "stream",
     "text": [
      "\n",
      "3it [00:00, 4503.55it/s]\n",
      " 23%|████████████████████▏                                                                   | 23/100 [03:40<10:54,  8.50s/it]"
     ]
    },
    {
     "name": "stdout",
     "output_type": "stream",
     "text": [
      "Brute force complexity 1 from D=2 and nbp=2\n",
      "Computing brute force solution for dictionary dimension 2 and target_dimension 2\n"
     ]
    },
    {
     "name": "stderr",
     "output_type": "stream",
     "text": [
      "\n",
      "1it [00:00, 3758.34it/s]\n"
     ]
    },
    {
     "name": "stdout",
     "output_type": "stream",
     "text": [
      "Computing brute force solution for dictionary dimension 2 and target_dimension 2\n"
     ]
    },
    {
     "name": "stderr",
     "output_type": "stream",
     "text": [
      "\n",
      "1it [00:00, 5675.65it/s]\n",
      " 24%|█████████████████████                                                                   | 24/100 [03:49<10:38,  8.41s/it]"
     ]
    },
    {
     "name": "stdout",
     "output_type": "stream",
     "text": [
      "Brute force complexity 85905 from D=2 and nbp=415\n",
      "Computing brute force solution for dictionary dimension 415 and target_dimension 2\n"
     ]
    },
    {
     "name": "stderr",
     "output_type": "stream",
     "text": [
      "\n",
      "0it [00:00, ?it/s]\u001b[A\n",
      "3249it [00:00, 32482.83it/s]\u001b[A\n",
      "6610it [00:00, 33142.30it/s]\u001b[A\n",
      "10095it [00:00, 33919.38it/s]\u001b[A\n",
      "13573it [00:00, 34257.18it/s]\u001b[A\n",
      "17124it [00:00, 34708.68it/s]\u001b[A\n",
      "20699it [00:00, 35061.04it/s]\u001b[A\n",
      "24206it [00:00, 34986.51it/s]\u001b[A\n",
      "27705it [00:00, 34664.77it/s]\u001b[A\n",
      "31217it [00:00, 34803.44it/s]\u001b[A\n",
      "34711it [00:01, 34844.49it/s]\u001b[A\n",
      "38196it [00:01, 34786.47it/s]\u001b[A\n",
      "41711it [00:01, 34894.31it/s]\u001b[A\n",
      "45239it [00:01, 35010.10it/s]\u001b[A\n",
      "48741it [00:01, 34913.74it/s]\u001b[A\n",
      "52233it [00:01, 34832.52it/s]\u001b[A\n",
      "55717it [00:01, 34783.65it/s]\u001b[A\n",
      "59206it [00:01, 34815.07it/s]\u001b[A\n",
      "62707it [00:01, 34869.94it/s]\u001b[A\n",
      "66208it [00:01, 34909.61it/s]\u001b[A\n",
      "69700it [00:02, 34775.72it/s]\u001b[A\n",
      "73178it [00:02, 33410.48it/s]\u001b[A\n",
      "76628it [00:02, 33724.59it/s]\u001b[A\n",
      "80143it [00:02, 34141.64it/s]\u001b[A\n",
      "85905it [00:02, 34543.13it/s]\u001b[A\n"
     ]
    },
    {
     "name": "stdout",
     "output_type": "stream",
     "text": [
      "Computing brute force solution for dictionary dimension 415 and target_dimension 2\n"
     ]
    },
    {
     "name": "stderr",
     "output_type": "stream",
     "text": [
      "\n",
      "0it [00:00, ?it/s]\u001b[A\n",
      "3733it [00:00, 37325.85it/s]\u001b[A\n",
      "7582it [00:00, 38008.98it/s]\u001b[A\n",
      "11460it [00:00, 38360.17it/s]\u001b[A\n",
      "15297it [00:00, 38261.79it/s]\u001b[A\n",
      "19124it [00:00, 37977.27it/s]\u001b[A\n",
      "23001it [00:00, 38244.36it/s]\u001b[A\n",
      "26826it [00:00, 37721.45it/s]\u001b[A\n",
      "30600it [00:00, 37272.96it/s]\u001b[A\n",
      "34368it [00:00, 37395.90it/s]\u001b[A\n",
      "38131it [00:01, 37464.40it/s]\u001b[A\n",
      "41942it [00:01, 37658.99it/s]\u001b[A\n",
      "45724it [00:01, 37705.31it/s]\u001b[A\n",
      "49583it [00:01, 37970.85it/s]\u001b[A\n",
      "53381it [00:01, 37815.28it/s]\u001b[A\n",
      "57171it [00:01, 37839.21it/s]\u001b[A\n",
      "60956it [00:01, 37726.20it/s]\u001b[A\n",
      "64838it [00:01, 38052.94it/s]\u001b[A\n",
      "68644it [00:01, 37693.64it/s]\u001b[A\n",
      "72415it [00:01, 37684.93it/s]\u001b[A\n",
      "76194it [00:02, 37713.79it/s]\u001b[A\n",
      "79966it [00:02, 37703.57it/s]\u001b[A\n",
      "85905it [00:02, 37794.79it/s]\u001b[A\n",
      " 25%|██████████████████████                                                                  | 25/100 [04:01<12:05,  9.67s/it]"
     ]
    },
    {
     "name": "stdout",
     "output_type": "stream",
     "text": [
      "Brute force complexity 1 from D=2 and nbp=2\n",
      "Computing brute force solution for dictionary dimension 2 and target_dimension 2\n"
     ]
    },
    {
     "name": "stderr",
     "output_type": "stream",
     "text": [
      "\n",
      "1it [00:00, 8473.34it/s]\n"
     ]
    },
    {
     "name": "stdout",
     "output_type": "stream",
     "text": [
      "Computing brute force solution for dictionary dimension 2 and target_dimension 2\n"
     ]
    },
    {
     "name": "stderr",
     "output_type": "stream",
     "text": [
      "\n",
      "1it [00:00, 1605.78it/s]\n",
      " 26%|██████████████████████▉                                                                 | 26/100 [04:09<11:22,  9.22s/it]"
     ]
    },
    {
     "name": "stdout",
     "output_type": "stream",
     "text": [
      "Brute force complexity 84666 from D=2 and nbp=412\n",
      "Computing brute force solution for dictionary dimension 412 and target_dimension 2\n"
     ]
    },
    {
     "name": "stderr",
     "output_type": "stream",
     "text": [
      "\n",
      "0it [00:00, ?it/s]\u001b[A\n",
      "3386it [00:00, 33850.91it/s]\u001b[A\n",
      "6854it [00:00, 34335.74it/s]\u001b[A\n",
      "10295it [00:00, 34365.43it/s]\u001b[A\n",
      "13854it [00:00, 34846.49it/s]\u001b[A\n",
      "17339it [00:00, 34756.25it/s]\u001b[A\n",
      "20815it [00:00, 34563.61it/s]\u001b[A\n",
      "24277it [00:00, 34580.95it/s]\u001b[A\n",
      "27780it [00:00, 34722.43it/s]\u001b[A\n",
      "31253it [00:00, 34629.53it/s]\u001b[A\n",
      "34717it [00:01, 34289.82it/s]\u001b[A\n",
      "38239it [00:01, 34569.65it/s]\u001b[A\n",
      "41697it [00:01, 34223.18it/s]\u001b[A\n",
      "45206it [00:01, 34482.30it/s]\u001b[A\n",
      "48656it [00:01, 34460.96it/s]\u001b[A\n",
      "52147it [00:01, 34593.72it/s]\u001b[A\n",
      "55639it [00:01, 34688.91it/s]\u001b[A\n",
      "59109it [00:01, 34446.19it/s]\u001b[A\n",
      "62679it [00:01, 34818.57it/s]\u001b[A\n",
      "66263it [00:01, 35121.71it/s]\u001b[A\n",
      "69776it [00:02, 34743.97it/s]\u001b[A\n",
      "73424it [00:02, 35256.77it/s]\u001b[A\n",
      "76952it [00:02, 35242.27it/s]\u001b[A\n",
      "80478it [00:02, 34607.20it/s]\u001b[A\n",
      "84666it [00:02, 34508.44it/s]\u001b[A\n"
     ]
    },
    {
     "name": "stdout",
     "output_type": "stream",
     "text": [
      "Computing brute force solution for dictionary dimension 412 and target_dimension 2\n"
     ]
    },
    {
     "name": "stderr",
     "output_type": "stream",
     "text": [
      "\n",
      "0it [00:00, ?it/s]\u001b[A\n",
      "3808it [00:00, 38078.49it/s]\u001b[A\n",
      "7616it [00:00, 38071.77it/s]\u001b[A\n",
      "11428it [00:00, 38091.86it/s]\u001b[A\n",
      "15369it [00:00, 38608.86it/s]\u001b[A\n",
      "19242it [00:00, 38650.06it/s]\u001b[A\n",
      "23108it [00:00, 37751.89it/s]\u001b[A\n",
      "26888it [00:00, 37595.73it/s]\u001b[A\n",
      "30658it [00:00, 37627.04it/s]\u001b[A\n",
      "34423it [00:00, 36408.68it/s]\u001b[A\n",
      "38168it [00:01, 36720.15it/s]\u001b[A\n",
      "41847it [00:01, 36528.78it/s]\u001b[A\n",
      "45641it [00:01, 36949.75it/s]\u001b[A\n",
      "49442it [00:01, 37264.68it/s]\u001b[A\n",
      "53221it [00:01, 37421.57it/s]\u001b[A\n",
      "57007it [00:01, 37550.30it/s]\u001b[A\n",
      "60764it [00:01, 37162.65it/s]\u001b[A\n",
      "64528it [00:01, 37302.34it/s]\u001b[A\n",
      "68260it [00:01, 37299.50it/s]\u001b[A\n",
      "71997it [00:01, 37318.66it/s]\u001b[A\n",
      "75730it [00:02, 37002.96it/s]\u001b[A\n",
      "79438it [00:02, 37022.82it/s]\u001b[A\n",
      "84666it [00:02, 37288.09it/s]\u001b[A\n",
      " 27%|███████████████████████▊                                                                | 27/100 [04:22<12:28, 10.25s/it]"
     ]
    },
    {
     "name": "stdout",
     "output_type": "stream",
     "text": [
      "Brute force complexity 3 from D=2 and nbp=3\n",
      "Computing brute force solution for dictionary dimension 3 and target_dimension 2\n"
     ]
    },
    {
     "name": "stderr",
     "output_type": "stream",
     "text": [
      "\n",
      "3it [00:00, 16131.94it/s]\n"
     ]
    },
    {
     "name": "stdout",
     "output_type": "stream",
     "text": [
      "Computing brute force solution for dictionary dimension 3 and target_dimension 2\n"
     ]
    },
    {
     "name": "stderr",
     "output_type": "stream",
     "text": [
      "\n",
      "3it [00:00, 4359.98it/s]\n",
      " 28%|████████████████████████▋                                                               | 28/100 [04:30<11:26,  9.54s/it]"
     ]
    },
    {
     "name": "stdout",
     "output_type": "stream",
     "text": [
      "Brute force complexity 69006 from D=2 and nbp=372\n",
      "Computing brute force solution for dictionary dimension 372 and target_dimension 2\n"
     ]
    },
    {
     "name": "stderr",
     "output_type": "stream",
     "text": [
      "\n",
      "0it [00:00, ?it/s]\u001b[A\n",
      "3415it [00:00, 34145.56it/s]\u001b[A\n",
      "6925it [00:00, 34704.11it/s]\u001b[A\n",
      "10396it [00:00, 34627.02it/s]\u001b[A\n",
      "13958it [00:00, 35015.13it/s]\u001b[A\n",
      "17475it [00:00, 35070.06it/s]\u001b[A\n",
      "21024it [00:00, 35211.44it/s]\u001b[A\n",
      "24546it [00:00, 34871.93it/s]\u001b[A\n",
      "28034it [00:00, 34342.74it/s]\u001b[A\n",
      "31546it [00:00, 34580.39it/s]\u001b[A\n",
      "35109it [00:01, 34899.38it/s]\u001b[A\n",
      "38601it [00:01, 34859.38it/s]\u001b[A\n",
      "42088it [00:01, 34745.76it/s]\u001b[A\n",
      "45626it [00:01, 34934.85it/s]\u001b[A\n",
      "49121it [00:01, 34703.20it/s]\u001b[A\n",
      "52658it [00:01, 34899.79it/s]\u001b[A\n",
      "56149it [00:01, 34755.64it/s]\u001b[A\n",
      "59656it [00:01, 34847.96it/s]\u001b[A\n",
      "63142it [00:01, 34774.39it/s]\u001b[A\n",
      "69006it [00:01, 34622.19it/s]\u001b[A\n"
     ]
    },
    {
     "name": "stdout",
     "output_type": "stream",
     "text": [
      "Computing brute force solution for dictionary dimension 372 and target_dimension 2\n"
     ]
    },
    {
     "name": "stderr",
     "output_type": "stream",
     "text": [
      "\n",
      "0it [00:00, ?it/s]\u001b[A\n",
      "3595it [00:00, 35944.89it/s]\u001b[A\n",
      "7439it [00:00, 37410.33it/s]\u001b[A\n",
      "11181it [00:00, 37245.20it/s]\u001b[A\n",
      "15031it [00:00, 37735.18it/s]\u001b[A\n",
      "18805it [00:00, 37720.19it/s]\u001b[A\n",
      "22578it [00:00, 37655.02it/s]\u001b[A\n",
      "26379it [00:00, 37767.59it/s]\u001b[A\n",
      "30271it [00:00, 38132.42it/s]\u001b[A\n",
      "34085it [00:00, 37932.59it/s]\u001b[A\n",
      "37879it [00:01, 37800.82it/s]\u001b[A\n",
      "41660it [00:01, 37652.56it/s]\u001b[A\n",
      "45426it [00:01, 37629.93it/s]\u001b[A\n",
      "49195it [00:01, 37645.64it/s]\u001b[A\n",
      "53125it [00:01, 38140.78it/s]\u001b[A\n",
      "56940it [00:01, 38137.82it/s]\u001b[A\n",
      "60754it [00:01, 37955.44it/s]\u001b[A\n",
      "64550it [00:01, 37725.26it/s]\u001b[A\n",
      "69006it [00:01, 37678.53it/s]\u001b[A\n",
      " 29%|█████████████████████████▌                                                              | 29/100 [04:42<12:03, 10.19s/it]"
     ]
    },
    {
     "name": "stdout",
     "output_type": "stream",
     "text": [
      "Brute force complexity 1 from D=2 and nbp=2\n",
      "Computing brute force solution for dictionary dimension 2 and target_dimension 2\n"
     ]
    },
    {
     "name": "stderr",
     "output_type": "stream",
     "text": [
      "\n",
      "1it [00:00, 8322.03it/s]\n"
     ]
    },
    {
     "name": "stdout",
     "output_type": "stream",
     "text": [
      "Computing brute force solution for dictionary dimension 2 and target_dimension 2\n"
     ]
    },
    {
     "name": "stderr",
     "output_type": "stream",
     "text": [
      "\n",
      "1it [00:00, 1972.86it/s]\n",
      " 30%|██████████████████████████▍                                                             | 30/100 [04:49<11:05,  9.51s/it]"
     ]
    },
    {
     "name": "stdout",
     "output_type": "stream",
     "text": [
      "Brute force complexity 3 from D=2 and nbp=3\n",
      "Computing brute force solution for dictionary dimension 3 and target_dimension 2\n"
     ]
    },
    {
     "name": "stderr",
     "output_type": "stream",
     "text": [
      "\n",
      "3it [00:00, 15160.13it/s]\n"
     ]
    },
    {
     "name": "stdout",
     "output_type": "stream",
     "text": [
      "Computing brute force solution for dictionary dimension 3 and target_dimension 2\n"
     ]
    },
    {
     "name": "stderr",
     "output_type": "stream",
     "text": [
      "\n",
      "3it [00:00, 4379.71it/s]\n",
      " 31%|███████████████████████████▎                                                            | 31/100 [04:57<10:24,  9.05s/it]"
     ]
    },
    {
     "name": "stdout",
     "output_type": "stream",
     "text": [
      "Brute force complexity 81810 from D=2 and nbp=405\n",
      "Computing brute force solution for dictionary dimension 405 and target_dimension 2\n"
     ]
    },
    {
     "name": "stderr",
     "output_type": "stream",
     "text": [
      "\n",
      "0it [00:00, ?it/s]\u001b[A\n",
      "3330it [00:00, 33293.36it/s]\u001b[A\n",
      "6712it [00:00, 33597.54it/s]\u001b[A\n",
      "10168it [00:00, 34036.20it/s]\u001b[A\n",
      "13654it [00:00, 34359.21it/s]\u001b[A\n",
      "17090it [00:00, 33880.38it/s]\u001b[A\n",
      "20545it [00:00, 34103.40it/s]\u001b[A\n",
      "24020it [00:00, 34313.14it/s]\u001b[A\n",
      "27499it [00:00, 34463.49it/s]\u001b[A\n",
      "30973it [00:00, 34548.71it/s]\u001b[A\n",
      "34471it [00:01, 34680.29it/s]\u001b[A\n",
      "37940it [00:01, 34576.00it/s]\u001b[A\n",
      "41447it [00:01, 34723.20it/s]\u001b[A\n",
      "44920it [00:01, 34540.13it/s]\u001b[A\n",
      "48429it [00:01, 34703.88it/s]\u001b[A\n",
      "51918it [00:01, 34758.94it/s]\u001b[A\n",
      "55395it [00:01, 34495.39it/s]\u001b[A\n",
      "58846it [00:01, 34113.78it/s]\u001b[A\n",
      "62315it [00:01, 34282.06it/s]\u001b[A\n",
      "65769it [00:01, 34357.30it/s]\u001b[A\n",
      "69206it [00:02, 34202.86it/s]\u001b[A\n",
      "72726it [00:02, 34499.03it/s]\u001b[A\n",
      "76225it [00:02, 34643.00it/s]\u001b[A\n",
      "81810it [00:02, 34387.04it/s]\u001b[A\n"
     ]
    },
    {
     "name": "stdout",
     "output_type": "stream",
     "text": [
      "Computing brute force solution for dictionary dimension 405 and target_dimension 2\n"
     ]
    },
    {
     "name": "stderr",
     "output_type": "stream",
     "text": [
      "\n",
      "0it [00:00, ?it/s]\u001b[A\n",
      "3611it [00:00, 36101.69it/s]\u001b[A\n",
      "7273it [00:00, 36402.48it/s]\u001b[A\n",
      "10914it [00:00, 36034.43it/s]\u001b[A\n",
      "14714it [00:00, 36803.50it/s]\u001b[A\n",
      "18482it [00:00, 37114.93it/s]\u001b[A\n",
      "22300it [00:00, 37473.02it/s]\u001b[A\n",
      "26048it [00:00, 37276.66it/s]\u001b[A\n",
      "29795it [00:00, 37336.99it/s]\u001b[A\n",
      "33556it [00:00, 37420.14it/s]\u001b[A\n",
      "37379it [00:01, 37665.07it/s]\u001b[A\n",
      "41157it [00:01, 37697.66it/s]\u001b[A\n",
      "45078it [00:01, 38156.92it/s]\u001b[A\n",
      "48894it [00:01, 37822.78it/s]\u001b[A\n",
      "52678it [00:01, 37721.00it/s]\u001b[A\n",
      "56451it [00:01, 37711.70it/s]\u001b[A\n",
      "60354it [00:01, 38104.37it/s]\u001b[A\n",
      "64165it [00:01, 37964.19it/s]\u001b[A\n",
      "67962it [00:01, 37859.72it/s]\u001b[A\n",
      "71749it [00:01, 37420.04it/s]\u001b[A\n",
      "75536it [00:02, 37550.94it/s]\u001b[A\n",
      "81810it [00:02, 37381.90it/s]\u001b[A\n",
      " 32%|████████████████████████████▏                                                           | 32/100 [05:10<11:25, 10.08s/it]"
     ]
    },
    {
     "name": "stdout",
     "output_type": "stream",
     "text": [
      "Brute force complexity 3 from D=2 and nbp=3\n",
      "Computing brute force solution for dictionary dimension 3 and target_dimension 2\n"
     ]
    },
    {
     "name": "stderr",
     "output_type": "stream",
     "text": [
      "\n",
      "3it [00:00, 13400.33it/s]\n"
     ]
    },
    {
     "name": "stdout",
     "output_type": "stream",
     "text": [
      "Computing brute force solution for dictionary dimension 3 and target_dimension 2\n"
     ]
    },
    {
     "name": "stderr",
     "output_type": "stream",
     "text": [
      "\n",
      "3it [00:00, 5629.94it/s]\n",
      " 33%|█████████████████████████████                                                           | 33/100 [05:18<10:42,  9.59s/it]"
     ]
    },
    {
     "name": "stdout",
     "output_type": "stream",
     "text": [
      "Brute force complexity 3 from D=2 and nbp=3\n",
      "Computing brute force solution for dictionary dimension 3 and target_dimension 2\n"
     ]
    },
    {
     "name": "stderr",
     "output_type": "stream",
     "text": [
      "\n",
      "3it [00:00, 15015.41it/s]\n"
     ]
    },
    {
     "name": "stdout",
     "output_type": "stream",
     "text": [
      "Computing brute force solution for dictionary dimension 3 and target_dimension 2\n"
     ]
    },
    {
     "name": "stderr",
     "output_type": "stream",
     "text": [
      "\n",
      "3it [00:00, 6469.36it/s]\n",
      " 34%|█████████████████████████████▉                                                          | 34/100 [05:26<09:59,  9.08s/it]"
     ]
    },
    {
     "name": "stdout",
     "output_type": "stream",
     "text": [
      "Brute force complexity 3 from D=2 and nbp=3\n",
      "Computing brute force solution for dictionary dimension 3 and target_dimension 2\n"
     ]
    },
    {
     "name": "stderr",
     "output_type": "stream",
     "text": [
      "\n",
      "3it [00:00, 9709.04it/s]\n"
     ]
    },
    {
     "name": "stdout",
     "output_type": "stream",
     "text": [
      "Computing brute force solution for dictionary dimension 3 and target_dimension 2\n"
     ]
    },
    {
     "name": "stderr",
     "output_type": "stream",
     "text": [
      "\n",
      "3it [00:00, 9769.34it/s]\n",
      " 35%|██████████████████████████████▊                                                         | 35/100 [05:34<09:27,  8.73s/it]"
     ]
    },
    {
     "name": "stdout",
     "output_type": "stream",
     "text": [
      "Brute force complexity 3 from D=2 and nbp=3\n",
      "Computing brute force solution for dictionary dimension 3 and target_dimension 2\n"
     ]
    },
    {
     "name": "stderr",
     "output_type": "stream",
     "text": [
      "\n",
      "3it [00:00, 10246.67it/s]\n"
     ]
    },
    {
     "name": "stdout",
     "output_type": "stream",
     "text": [
      "Computing brute force solution for dictionary dimension 3 and target_dimension 2\n"
     ]
    },
    {
     "name": "stderr",
     "output_type": "stream",
     "text": [
      "\n",
      "3it [00:00, 10356.31it/s]\n",
      " 36%|███████████████████████████████▋                                                        | 36/100 [05:42<09:02,  8.48s/it]"
     ]
    },
    {
     "name": "stdout",
     "output_type": "stream",
     "text": [
      "Brute force complexity 3 from D=2 and nbp=3\n",
      "Computing brute force solution for dictionary dimension 3 and target_dimension 2\n"
     ]
    },
    {
     "name": "stderr",
     "output_type": "stream",
     "text": [
      "\n",
      "3it [00:00, 10205.12it/s]\n"
     ]
    },
    {
     "name": "stdout",
     "output_type": "stream",
     "text": [
      "Computing brute force solution for dictionary dimension 3 and target_dimension 2\n"
     ]
    },
    {
     "name": "stderr",
     "output_type": "stream",
     "text": [
      "\n",
      "3it [00:00, 5163.28it/s]\n",
      " 37%|████████████████████████████████▌                                                       | 37/100 [05:50<08:46,  8.36s/it]"
     ]
    },
    {
     "name": "stdout",
     "output_type": "stream",
     "text": [
      "Brute force complexity 3 from D=2 and nbp=3\n",
      "Computing brute force solution for dictionary dimension 3 and target_dimension 2\n"
     ]
    },
    {
     "name": "stderr",
     "output_type": "stream",
     "text": [
      "\n",
      "3it [00:00, 16405.36it/s]\n"
     ]
    },
    {
     "name": "stdout",
     "output_type": "stream",
     "text": [
      "Computing brute force solution for dictionary dimension 3 and target_dimension 2\n"
     ]
    },
    {
     "name": "stderr",
     "output_type": "stream",
     "text": [
      "\n",
      "3it [00:00, 3831.58it/s]\n",
      " 38%|█████████████████████████████████▍                                                      | 38/100 [05:58<08:30,  8.23s/it]"
     ]
    },
    {
     "name": "stdout",
     "output_type": "stream",
     "text": [
      "Brute force complexity 3 from D=2 and nbp=3\n",
      "Computing brute force solution for dictionary dimension 3 and target_dimension 2\n"
     ]
    },
    {
     "name": "stderr",
     "output_type": "stream",
     "text": [
      "\n",
      "3it [00:00, 16131.94it/s]\n"
     ]
    },
    {
     "name": "stdout",
     "output_type": "stream",
     "text": [
      "Computing brute force solution for dictionary dimension 3 and target_dimension 2\n"
     ]
    },
    {
     "name": "stderr",
     "output_type": "stream",
     "text": [
      "\n",
      "3it [00:00, 4702.13it/s]\n",
      " 39%|██████████████████████████████████▎                                                     | 39/100 [06:06<08:13,  8.10s/it]"
     ]
    },
    {
     "name": "stdout",
     "output_type": "stream",
     "text": [
      "Brute force complexity 3 from D=2 and nbp=3\n",
      "Computing brute force solution for dictionary dimension 3 and target_dimension 2\n"
     ]
    },
    {
     "name": "stderr",
     "output_type": "stream",
     "text": [
      "\n",
      "3it [00:00, 10034.22it/s]\n"
     ]
    },
    {
     "name": "stdout",
     "output_type": "stream",
     "text": [
      "Computing brute force solution for dictionary dimension 3 and target_dimension 2\n"
     ]
    },
    {
     "name": "stderr",
     "output_type": "stream",
     "text": [
      "\n",
      "3it [00:00, 3860.97it/s]\n",
      " 40%|███████████████████████████████████▏                                                    | 40/100 [06:14<08:06,  8.11s/it]"
     ]
    },
    {
     "name": "stdout",
     "output_type": "stream",
     "text": [
      "Brute force complexity 3 from D=2 and nbp=3\n",
      "Computing brute force solution for dictionary dimension 3 and target_dimension 2\n"
     ]
    },
    {
     "name": "stderr",
     "output_type": "stream",
     "text": [
      "\n",
      "3it [00:00, 11325.75it/s]\n"
     ]
    },
    {
     "name": "stdout",
     "output_type": "stream",
     "text": [
      "Computing brute force solution for dictionary dimension 3 and target_dimension 2\n"
     ]
    },
    {
     "name": "stderr",
     "output_type": "stream",
     "text": [
      "\n",
      "3it [00:00, 3240.51it/s]\n",
      " 41%|████████████████████████████████████                                                    | 41/100 [06:22<07:53,  8.03s/it]"
     ]
    },
    {
     "name": "stdout",
     "output_type": "stream",
     "text": [
      "Brute force complexity 3 from D=2 and nbp=3\n",
      "Computing brute force solution for dictionary dimension 3 and target_dimension 2\n"
     ]
    },
    {
     "name": "stderr",
     "output_type": "stream",
     "text": [
      "\n",
      "3it [00:00, 15382.53it/s]\n"
     ]
    },
    {
     "name": "stdout",
     "output_type": "stream",
     "text": [
      "Computing brute force solution for dictionary dimension 3 and target_dimension 2\n"
     ]
    },
    {
     "name": "stderr",
     "output_type": "stream",
     "text": [
      "\n",
      "3it [00:00, 4114.75it/s]\n",
      " 42%|████████████████████████████████████▉                                                   | 42/100 [06:30<07:43,  7.99s/it]"
     ]
    },
    {
     "name": "stdout",
     "output_type": "stream",
     "text": [
      "Brute force complexity 3 from D=2 and nbp=3\n",
      "Computing brute force solution for dictionary dimension 3 and target_dimension 2\n"
     ]
    },
    {
     "name": "stderr",
     "output_type": "stream",
     "text": [
      "\n",
      "3it [00:00, 9376.24it/s]\n"
     ]
    },
    {
     "name": "stdout",
     "output_type": "stream",
     "text": [
      "Computing brute force solution for dictionary dimension 3 and target_dimension 2\n"
     ]
    },
    {
     "name": "stderr",
     "output_type": "stream",
     "text": [
      "\n",
      "3it [00:00, 4159.64it/s]\n",
      " 43%|█████████████████████████████████████▊                                                  | 43/100 [06:38<07:33,  7.95s/it]"
     ]
    },
    {
     "name": "stdout",
     "output_type": "stream",
     "text": [
      "Brute force complexity 91378 from D=2 and nbp=428\n",
      "Computing brute force solution for dictionary dimension 428 and target_dimension 2\n"
     ]
    },
    {
     "name": "stderr",
     "output_type": "stream",
     "text": [
      "\n",
      "0it [00:00, ?it/s]\u001b[A\n",
      "3454it [00:00, 34538.55it/s]\u001b[A\n",
      "6908it [00:00, 34024.22it/s]\u001b[A\n",
      "10311it [00:00, 33963.92it/s]\u001b[A\n",
      "13801it [00:00, 34327.71it/s]\u001b[A\n",
      "17235it [00:00, 34318.21it/s]\u001b[A\n",
      "20668it [00:00, 32713.19it/s]\u001b[A\n",
      "24151it [00:00, 33378.80it/s]\u001b[A\n",
      "27612it [00:00, 33758.94it/s]\u001b[A\n",
      "30997it [00:00, 33781.33it/s]\u001b[A\n",
      "34503it [00:01, 34168.97it/s]\u001b[A\n",
      "37925it [00:01, 33828.17it/s]\u001b[A\n",
      "41312it [00:01, 33616.02it/s]\u001b[A\n",
      "44872it [00:01, 34206.41it/s]\u001b[A\n",
      "48296it [00:01, 32643.94it/s]\u001b[A\n",
      "51620it [00:01, 32815.54it/s]\u001b[A\n",
      "55056it [00:01, 33266.67it/s]\u001b[A\n",
      "58407it [00:01, 33335.63it/s]\u001b[A\n",
      "61926it [00:01, 33882.93it/s]\u001b[A\n",
      "65320it [00:01, 33519.17it/s]\u001b[A\n",
      "68677it [00:02, 33461.36it/s]\u001b[A\n",
      "72103it [00:02, 33696.83it/s]\u001b[A\n",
      "75570it [00:02, 33984.13it/s]\u001b[A\n",
      "78971it [00:02, 33586.67it/s]\u001b[A\n",
      "82342it [00:02, 33622.92it/s]\u001b[A\n",
      "85861it [00:02, 34088.67it/s]\u001b[A\n",
      "91378it [00:02, 33705.63it/s]\u001b[A\n"
     ]
    },
    {
     "name": "stdout",
     "output_type": "stream",
     "text": [
      "Computing brute force solution for dictionary dimension 428 and target_dimension 2\n"
     ]
    },
    {
     "name": "stderr",
     "output_type": "stream",
     "text": [
      "\n",
      "0it [00:00, ?it/s]\u001b[A\n",
      "3805it [00:00, 38040.42it/s]\u001b[A\n",
      "7610it [00:00, 37872.52it/s]\u001b[A\n",
      "11398it [00:00, 37800.66it/s]\u001b[A\n",
      "15183it [00:00, 37817.40it/s]\u001b[A\n",
      "18965it [00:00, 37770.60it/s]\u001b[A\n",
      "22773it [00:00, 37874.03it/s]\u001b[A\n",
      "26561it [00:00, 37847.45it/s]\u001b[A\n",
      "30346it [00:00, 37835.60it/s]\u001b[A\n",
      "34294it [00:00, 38347.24it/s]\u001b[A\n",
      "38129it [00:01, 38162.12it/s]\u001b[A\n",
      "41946it [00:01, 38129.20it/s]\u001b[A\n",
      "45760it [00:01, 38003.33it/s]\u001b[A\n",
      "49570it [00:01, 38031.91it/s]\u001b[A\n",
      "53380it [00:01, 38050.70it/s]\u001b[A\n",
      "57188it [00:01, 38056.98it/s]\u001b[A\n",
      "60995it [00:01, 38059.73it/s]\u001b[A\n",
      "64802it [00:01, 37039.59it/s]\u001b[A\n",
      "68624it [00:01, 37384.97it/s]\u001b[A\n",
      "72368it [00:01, 37246.85it/s]\u001b[A\n",
      "76187it [00:02, 37524.10it/s]\u001b[A\n",
      "79956it [00:02, 37571.65it/s]\u001b[A\n",
      "83716it [00:02, 37303.90it/s]\u001b[A\n",
      "87515it [00:02, 37506.71it/s]\u001b[A\n",
      "91378it [00:02, 37696.48it/s]\u001b[A\n",
      " 44%|██████████████████████████████████████▋                                                 | 44/100 [06:51<08:49,  9.46s/it]"
     ]
    },
    {
     "name": "stdout",
     "output_type": "stream",
     "text": [
      "Brute force complexity 3 from D=2 and nbp=3\n",
      "Computing brute force solution for dictionary dimension 3 and target_dimension 2\n"
     ]
    },
    {
     "name": "stderr",
     "output_type": "stream",
     "text": [
      "\n",
      "3it [00:00, 14803.43it/s]\n"
     ]
    },
    {
     "name": "stdout",
     "output_type": "stream",
     "text": [
      "Computing brute force solution for dictionary dimension 3 and target_dimension 2\n"
     ]
    },
    {
     "name": "stderr",
     "output_type": "stream",
     "text": [
      "\n",
      "3it [00:00, 12041.06it/s]\n",
      " 45%|███████████████████████████████████████▌                                                | 45/100 [06:59<08:16,  9.03s/it]"
     ]
    },
    {
     "name": "stdout",
     "output_type": "stream",
     "text": [
      "Brute force complexity 3 from D=2 and nbp=3\n",
      "Computing brute force solution for dictionary dimension 3 and target_dimension 2\n"
     ]
    },
    {
     "name": "stderr",
     "output_type": "stream",
     "text": [
      "\n",
      "3it [00:00, 16299.11it/s]\n"
     ]
    },
    {
     "name": "stdout",
     "output_type": "stream",
     "text": [
      "Computing brute force solution for dictionary dimension 3 and target_dimension 2\n"
     ]
    },
    {
     "name": "stderr",
     "output_type": "stream",
     "text": [
      "\n",
      "3it [00:00, 6439.57it/s]\n",
      " 46%|████████████████████████████████████████▍                                               | 46/100 [07:07<07:59,  8.89s/it]"
     ]
    },
    {
     "name": "stdout",
     "output_type": "stream",
     "text": [
      "Brute force complexity 3 from D=2 and nbp=3\n",
      "Computing brute force solution for dictionary dimension 3 and target_dimension 2\n"
     ]
    },
    {
     "name": "stderr",
     "output_type": "stream",
     "text": [
      "\n",
      "3it [00:00, 14997.51it/s]\n"
     ]
    },
    {
     "name": "stdout",
     "output_type": "stream",
     "text": [
      "Computing brute force solution for dictionary dimension 3 and target_dimension 2\n"
     ]
    },
    {
     "name": "stderr",
     "output_type": "stream",
     "text": [
      "\n",
      "3it [00:00, 6174.15it/s]\n",
      " 47%|█████████████████████████████████████████▎                                              | 47/100 [07:15<07:41,  8.71s/it]"
     ]
    },
    {
     "name": "stdout",
     "output_type": "stream",
     "text": [
      "Brute force complexity 3 from D=2 and nbp=3\n",
      "Computing brute force solution for dictionary dimension 3 and target_dimension 2\n"
     ]
    },
    {
     "name": "stderr",
     "output_type": "stream",
     "text": [
      "\n",
      "3it [00:00, 7593.79it/s]\n"
     ]
    },
    {
     "name": "stdout",
     "output_type": "stream",
     "text": [
      "Computing brute force solution for dictionary dimension 3 and target_dimension 2\n"
     ]
    },
    {
     "name": "stderr",
     "output_type": "stream",
     "text": [
      "\n",
      "3it [00:00, 10903.74it/s]\n",
      " 48%|██████████████████████████████████████████▏                                             | 48/100 [07:24<07:25,  8.57s/it]"
     ]
    },
    {
     "name": "stdout",
     "output_type": "stream",
     "text": [
      "Brute force complexity 3 from D=2 and nbp=3\n",
      "Computing brute force solution for dictionary dimension 3 and target_dimension 2\n"
     ]
    },
    {
     "name": "stderr",
     "output_type": "stream",
     "text": [
      "\n",
      "3it [00:00, 9091.70it/s]\n"
     ]
    },
    {
     "name": "stdout",
     "output_type": "stream",
     "text": [
      "Computing brute force solution for dictionary dimension 3 and target_dimension 2\n"
     ]
    },
    {
     "name": "stderr",
     "output_type": "stream",
     "text": [
      "\n",
      "3it [00:00, 3588.97it/s]\n",
      " 49%|███████████████████████████████████████████                                             | 49/100 [07:32<07:19,  8.62s/it]"
     ]
    },
    {
     "name": "stdout",
     "output_type": "stream",
     "text": [
      "Brute force complexity 3 from D=2 and nbp=3\n",
      "Computing brute force solution for dictionary dimension 3 and target_dimension 2\n"
     ]
    },
    {
     "name": "stderr",
     "output_type": "stream",
     "text": [
      "\n",
      "3it [00:00, 11027.97it/s]\n"
     ]
    },
    {
     "name": "stdout",
     "output_type": "stream",
     "text": [
      "Computing brute force solution for dictionary dimension 3 and target_dimension 2\n"
     ]
    },
    {
     "name": "stderr",
     "output_type": "stream",
     "text": [
      "\n",
      "3it [00:00, 5336.26it/s]\n",
      " 50%|████████████████████████████████████████████                                            | 50/100 [07:41<07:16,  8.72s/it]"
     ]
    },
    {
     "name": "stdout",
     "output_type": "stream",
     "text": [
      "Brute force complexity 3 from D=2 and nbp=3\n",
      "Computing brute force solution for dictionary dimension 3 and target_dimension 2\n"
     ]
    },
    {
     "name": "stderr",
     "output_type": "stream",
     "text": [
      "\n",
      "3it [00:00, 16049.63it/s]\n"
     ]
    },
    {
     "name": "stdout",
     "output_type": "stream",
     "text": [
      "Computing brute force solution for dictionary dimension 3 and target_dimension 2\n"
     ]
    },
    {
     "name": "stderr",
     "output_type": "stream",
     "text": [
      "\n",
      "3it [00:00, 9453.73it/s]\n",
      " 51%|████████████████████████████████████████████▉                                           | 51/100 [07:51<07:18,  8.95s/it]"
     ]
    },
    {
     "name": "stdout",
     "output_type": "stream",
     "text": [
      "Brute force complexity 1 from D=2 and nbp=2\n",
      "Computing brute force solution for dictionary dimension 2 and target_dimension 2\n"
     ]
    },
    {
     "name": "stderr",
     "output_type": "stream",
     "text": [
      "\n",
      "1it [00:00, 4691.62it/s]\n"
     ]
    },
    {
     "name": "stdout",
     "output_type": "stream",
     "text": [
      "Computing brute force solution for dictionary dimension 2 and target_dimension 2\n"
     ]
    },
    {
     "name": "stderr",
     "output_type": "stream",
     "text": [
      "\n",
      "1it [00:00, 4928.68it/s]\n",
      " 52%|█████████████████████████████████████████████▊                                          | 52/100 [07:59<07:04,  8.84s/it]"
     ]
    },
    {
     "name": "stdout",
     "output_type": "stream",
     "text": [
      "Brute force complexity 3 from D=2 and nbp=3\n",
      "Computing brute force solution for dictionary dimension 3 and target_dimension 2\n"
     ]
    },
    {
     "name": "stderr",
     "output_type": "stream",
     "text": [
      "\n",
      "3it [00:00, 15867.48it/s]\n"
     ]
    },
    {
     "name": "stdout",
     "output_type": "stream",
     "text": [
      "Computing brute force solution for dictionary dimension 3 and target_dimension 2\n"
     ]
    },
    {
     "name": "stderr",
     "output_type": "stream",
     "text": [
      "\n",
      "3it [00:00, 7874.16it/s]\n",
      " 53%|██████████████████████████████████████████████▋                                         | 53/100 [08:09<06:59,  8.92s/it]"
     ]
    },
    {
     "name": "stdout",
     "output_type": "stream",
     "text": [
      "Brute force complexity 1 from D=2 and nbp=2\n",
      "Computing brute force solution for dictionary dimension 2 and target_dimension 2\n"
     ]
    },
    {
     "name": "stderr",
     "output_type": "stream",
     "text": [
      "\n",
      "1it [00:00, 5236.33it/s]\n"
     ]
    },
    {
     "name": "stdout",
     "output_type": "stream",
     "text": [
      "Computing brute force solution for dictionary dimension 2 and target_dimension 2\n"
     ]
    },
    {
     "name": "stderr",
     "output_type": "stream",
     "text": [
      "\n",
      "1it [00:00, 2227.46it/s]\n",
      " 54%|███████████████████████████████████████████████▌                                        | 54/100 [08:17<06:45,  8.82s/it]"
     ]
    },
    {
     "name": "stdout",
     "output_type": "stream",
     "text": [
      "Brute force complexity 88831 from D=2 and nbp=422\n",
      "Computing brute force solution for dictionary dimension 422 and target_dimension 2\n"
     ]
    },
    {
     "name": "stderr",
     "output_type": "stream",
     "text": [
      "\n",
      "0it [00:00, ?it/s]\u001b[A\n",
      "3372it [00:00, 33716.33it/s]\u001b[A\n",
      "6744it [00:00, 32626.91it/s]\u001b[A\n",
      "10010it [00:00, 32232.07it/s]\u001b[A\n",
      "13392it [00:00, 32843.80it/s]\u001b[A\n",
      "16835it [00:00, 33408.47it/s]\u001b[A\n",
      "20316it [00:00, 33880.26it/s]\u001b[A\n",
      "23706it [00:00, 32975.18it/s]\u001b[A\n",
      "27009it [00:00, 32838.31it/s]\u001b[A\n",
      "30297it [00:00, 32565.15it/s]\u001b[A\n",
      "33803it [00:01, 33320.05it/s]\u001b[A\n",
      "37370it [00:01, 34026.70it/s]\u001b[A\n",
      "41021it [00:01, 34773.06it/s]\u001b[A\n",
      "44502it [00:01, 34466.34it/s]\u001b[A\n",
      "48192it [00:01, 35191.79it/s]\u001b[A\n",
      "51714it [00:01, 34942.90it/s]\u001b[A\n",
      "55370it [00:01, 35423.09it/s]\u001b[A\n",
      "59010it [00:01, 35712.96it/s]\u001b[A\n",
      "62583it [00:01, 35567.82it/s]\u001b[A\n",
      "66175it [00:01, 35667.88it/s]\u001b[A\n",
      "69743it [00:02, 35357.52it/s]\u001b[A\n",
      "73280it [00:02, 34331.76it/s]\u001b[A\n",
      "76769it [00:02, 34492.53it/s]\u001b[A\n",
      "80224it [00:02, 33609.01it/s]\u001b[A\n",
      "83592it [00:02, 32262.21it/s]\u001b[A\n",
      "88831it [00:02, 33580.49it/s]\u001b[A\n"
     ]
    },
    {
     "name": "stdout",
     "output_type": "stream",
     "text": [
      "Computing brute force solution for dictionary dimension 422 and target_dimension 2\n"
     ]
    },
    {
     "name": "stderr",
     "output_type": "stream",
     "text": [
      "\n",
      "0it [00:00, ?it/s]\u001b[A\n",
      "3469it [00:00, 34683.75it/s]\u001b[A\n",
      "7144it [00:00, 35896.86it/s]\u001b[A\n",
      "10957it [00:00, 36912.92it/s]\u001b[A\n",
      "14878it [00:00, 37816.11it/s]\u001b[A\n",
      "18761it [00:00, 38180.18it/s]\u001b[A\n",
      "22580it [00:00, 36731.48it/s]\u001b[A\n",
      "26264it [00:00, 35750.79it/s]\u001b[A\n",
      "30074it [00:00, 36470.24it/s]\u001b[A\n",
      "33868it [00:00, 36915.40it/s]\u001b[A\n",
      "37780it [00:01, 37581.46it/s]\u001b[A\n",
      "41545it [00:01, 37148.36it/s]\u001b[A\n",
      "45297it [00:01, 37257.13it/s]\u001b[A\n",
      "49027it [00:01, 37214.15it/s]\u001b[A\n",
      "52751it [00:01, 36974.08it/s]\u001b[A\n",
      "56491it [00:01, 37100.27it/s]\u001b[A\n",
      "60431it [00:01, 37784.83it/s]\u001b[A\n",
      "64212it [00:01, 37334.65it/s]\u001b[A\n",
      "67948it [00:01, 36886.68it/s]\u001b[A\n",
      "71662it [00:01, 36960.81it/s]\u001b[A\n",
      "75401it [00:02, 37086.65it/s]\u001b[A\n",
      "79111it [00:02, 35412.54it/s]\u001b[A\n",
      "82669it [00:02, 34378.98it/s]\u001b[A\n",
      "88831it [00:02, 36400.15it/s]\u001b[A\n",
      " 55%|████████████████████████████████████████████████▍                                       | 55/100 [08:31<07:48, 10.40s/it]"
     ]
    },
    {
     "name": "stdout",
     "output_type": "stream",
     "text": [
      "Brute force complexity 1 from D=2 and nbp=2\n",
      "Computing brute force solution for dictionary dimension 2 and target_dimension 2\n"
     ]
    },
    {
     "name": "stderr",
     "output_type": "stream",
     "text": [
      "\n",
      "1it [00:00, 6853.44it/s]\n"
     ]
    },
    {
     "name": "stdout",
     "output_type": "stream",
     "text": [
      "Computing brute force solution for dictionary dimension 2 and target_dimension 2\n"
     ]
    },
    {
     "name": "stderr",
     "output_type": "stream",
     "text": [
      "\n",
      "1it [00:00, 7084.97it/s]\n",
      " 56%|█████████████████████████████████████████████████▎                                      | 56/100 [08:40<07:21, 10.03s/it]"
     ]
    },
    {
     "name": "stdout",
     "output_type": "stream",
     "text": [
      "Brute force complexity 3 from D=2 and nbp=3\n",
      "Computing brute force solution for dictionary dimension 3 and target_dimension 2\n"
     ]
    },
    {
     "name": "stderr",
     "output_type": "stream",
     "text": [
      "\n",
      "3it [00:00, 15215.13it/s]\n"
     ]
    },
    {
     "name": "stdout",
     "output_type": "stream",
     "text": [
      "Computing brute force solution for dictionary dimension 3 and target_dimension 2\n"
     ]
    },
    {
     "name": "stderr",
     "output_type": "stream",
     "text": [
      "\n",
      "3it [00:00, 8879.97it/s]\n",
      " 57%|██████████████████████████████████████████████████▏                                     | 57/100 [08:49<06:56,  9.68s/it]"
     ]
    },
    {
     "name": "stdout",
     "output_type": "stream",
     "text": [
      "Brute force complexity 3 from D=2 and nbp=3\n",
      "Computing brute force solution for dictionary dimension 3 and target_dimension 2\n"
     ]
    },
    {
     "name": "stderr",
     "output_type": "stream",
     "text": [
      "\n",
      "3it [00:00, 6925.10it/s]\n"
     ]
    },
    {
     "name": "stdout",
     "output_type": "stream",
     "text": [
      "Computing brute force solution for dictionary dimension 3 and target_dimension 2\n"
     ]
    },
    {
     "name": "stderr",
     "output_type": "stream",
     "text": [
      "\n",
      "3it [00:00, 5758.77it/s]\n",
      " 58%|███████████████████████████████████████████████████                                     | 58/100 [08:58<06:37,  9.46s/it]"
     ]
    },
    {
     "name": "stdout",
     "output_type": "stream",
     "text": [
      "Brute force complexity 3 from D=2 and nbp=3\n",
      "Computing brute force solution for dictionary dimension 3 and target_dimension 2\n"
     ]
    },
    {
     "name": "stderr",
     "output_type": "stream",
     "text": [
      "\n",
      "3it [00:00, 12192.74it/s]\n"
     ]
    },
    {
     "name": "stdout",
     "output_type": "stream",
     "text": [
      "Computing brute force solution for dictionary dimension 3 and target_dimension 2\n"
     ]
    },
    {
     "name": "stderr",
     "output_type": "stream",
     "text": [
      "\n",
      "3it [00:00, 5110.85it/s]\n",
      " 59%|███████████████████████████████████████████████████▉                                    | 59/100 [09:07<06:22,  9.33s/it]"
     ]
    },
    {
     "name": "stdout",
     "output_type": "stream",
     "text": [
      "Brute force complexity 3 from D=2 and nbp=3\n",
      "Computing brute force solution for dictionary dimension 3 and target_dimension 2\n"
     ]
    },
    {
     "name": "stderr",
     "output_type": "stream",
     "text": [
      "\n",
      "3it [00:00, 10791.52it/s]\n"
     ]
    },
    {
     "name": "stdout",
     "output_type": "stream",
     "text": [
      "Computing brute force solution for dictionary dimension 3 and target_dimension 2\n"
     ]
    },
    {
     "name": "stderr",
     "output_type": "stream",
     "text": [
      "\n",
      "3it [00:00, 11543.96it/s]\n",
      " 60%|████████████████████████████████████████████████████▊                                   | 60/100 [09:15<05:55,  8.90s/it]"
     ]
    },
    {
     "name": "stdout",
     "output_type": "stream",
     "text": [
      "Brute force complexity 3 from D=2 and nbp=3\n",
      "Computing brute force solution for dictionary dimension 3 and target_dimension 2\n"
     ]
    },
    {
     "name": "stderr",
     "output_type": "stream",
     "text": [
      "\n",
      "3it [00:00, 12710.01it/s]\n"
     ]
    },
    {
     "name": "stdout",
     "output_type": "stream",
     "text": [
      "Computing brute force solution for dictionary dimension 3 and target_dimension 2\n"
     ]
    },
    {
     "name": "stderr",
     "output_type": "stream",
     "text": [
      "\n",
      "3it [00:00, 12761.57it/s]\n",
      " 61%|█████████████████████████████████████████████████████▋                                  | 61/100 [09:24<05:43,  8.81s/it]"
     ]
    },
    {
     "name": "stdout",
     "output_type": "stream",
     "text": [
      "Brute force complexity 1 from D=2 and nbp=2\n",
      "Computing brute force solution for dictionary dimension 2 and target_dimension 2\n"
     ]
    },
    {
     "name": "stderr",
     "output_type": "stream",
     "text": [
      "\n",
      "1it [00:00, 7810.62it/s]\n"
     ]
    },
    {
     "name": "stdout",
     "output_type": "stream",
     "text": [
      "Computing brute force solution for dictionary dimension 2 and target_dimension 2\n"
     ]
    },
    {
     "name": "stderr",
     "output_type": "stream",
     "text": [
      "\n",
      "1it [00:00, 7244.05it/s]\n",
      " 62%|██████████████████████████████████████████████████████▌                                 | 62/100 [09:32<05:33,  8.78s/it]"
     ]
    },
    {
     "name": "stdout",
     "output_type": "stream",
     "text": [
      "Brute force complexity 1 from D=2 and nbp=2\n",
      "Computing brute force solution for dictionary dimension 2 and target_dimension 2\n"
     ]
    },
    {
     "name": "stderr",
     "output_type": "stream",
     "text": [
      "\n",
      "1it [00:00, 4529.49it/s]\n"
     ]
    },
    {
     "name": "stdout",
     "output_type": "stream",
     "text": [
      "Computing brute force solution for dictionary dimension 2 and target_dimension 2\n"
     ]
    },
    {
     "name": "stderr",
     "output_type": "stream",
     "text": [
      "\n",
      "1it [00:00, 3355.44it/s]\n",
      " 63%|███████████████████████████████████████████████████████▍                                | 63/100 [09:41<05:25,  8.81s/it]"
     ]
    },
    {
     "name": "stdout",
     "output_type": "stream",
     "text": [
      "Brute force complexity 28203 from D=2 and nbp=238\n",
      "Computing brute force solution for dictionary dimension 238 and target_dimension 2\n"
     ]
    },
    {
     "name": "stderr",
     "output_type": "stream",
     "text": [
      "\n",
      "0it [00:00, ?it/s]\u001b[A\n",
      "3368it [00:00, 33672.81it/s]\u001b[A\n",
      "6736it [00:00, 33183.01it/s]\u001b[A\n",
      "10055it [00:00, 31249.61it/s]\u001b[A\n",
      "13192it [00:00, 29850.17it/s]\u001b[A\n",
      "16193it [00:00, 29904.26it/s]\u001b[A\n",
      "19275it [00:00, 30203.22it/s]\u001b[A\n",
      "22392it [00:00, 30508.70it/s]\u001b[A\n",
      "28203it [00:00, 31264.65it/s]\u001b[A\n"
     ]
    },
    {
     "name": "stdout",
     "output_type": "stream",
     "text": [
      "Computing brute force solution for dictionary dimension 238 and target_dimension 2\n"
     ]
    },
    {
     "name": "stderr",
     "output_type": "stream",
     "text": [
      "\n",
      "0it [00:00, ?it/s]\u001b[A\n",
      "3586it [00:00, 35853.20it/s]\u001b[A\n",
      "7471it [00:00, 37610.79it/s]\u001b[A\n",
      "11350it [00:00, 38144.63it/s]\u001b[A\n",
      "15165it [00:00, 37443.50it/s]\u001b[A\n",
      "18912it [00:00, 36669.42it/s]\u001b[A\n",
      "22583it [00:00, 35829.55it/s]\u001b[A\n",
      "28203it [00:00, 36610.01it/s]\u001b[A\n",
      " 64%|████████████████████████████████████████████████████████▎                               | 64/100 [09:52<05:33,  9.27s/it]"
     ]
    },
    {
     "name": "stdout",
     "output_type": "stream",
     "text": [
      "Brute force complexity 3 from D=2 and nbp=3\n",
      "Computing brute force solution for dictionary dimension 3 and target_dimension 2\n"
     ]
    },
    {
     "name": "stderr",
     "output_type": "stream",
     "text": [
      "\n",
      "3it [00:00, 8045.34it/s]\n"
     ]
    },
    {
     "name": "stdout",
     "output_type": "stream",
     "text": [
      "Computing brute force solution for dictionary dimension 3 and target_dimension 2\n"
     ]
    },
    {
     "name": "stderr",
     "output_type": "stream",
     "text": [
      "\n",
      "3it [00:00, 6275.77it/s]\n",
      " 65%|█████████████████████████████████████████████████████████▏                              | 65/100 [10:00<05:18,  9.09s/it]"
     ]
    },
    {
     "name": "stdout",
     "output_type": "stream",
     "text": [
      "Brute force complexity 1 from D=2 and nbp=2\n",
      "Computing brute force solution for dictionary dimension 2 and target_dimension 2\n"
     ]
    },
    {
     "name": "stderr",
     "output_type": "stream",
     "text": [
      "\n",
      "1it [00:00, 8338.58it/s]\n"
     ]
    },
    {
     "name": "stdout",
     "output_type": "stream",
     "text": [
      "Computing brute force solution for dictionary dimension 2 and target_dimension 2\n"
     ]
    },
    {
     "name": "stderr",
     "output_type": "stream",
     "text": [
      "\n",
      "1it [00:00, 6177.18it/s]\n",
      " 66%|██████████████████████████████████████████████████████████                              | 66/100 [10:09<05:02,  8.90s/it]"
     ]
    },
    {
     "name": "stdout",
     "output_type": "stream",
     "text": [
      "Brute force complexity 3 from D=2 and nbp=3\n",
      "Computing brute force solution for dictionary dimension 3 and target_dimension 2\n"
     ]
    },
    {
     "name": "stderr",
     "output_type": "stream",
     "text": [
      "\n",
      "3it [00:00, 5129.60it/s]\n"
     ]
    },
    {
     "name": "stdout",
     "output_type": "stream",
     "text": [
      "Computing brute force solution for dictionary dimension 3 and target_dimension 2\n"
     ]
    },
    {
     "name": "stderr",
     "output_type": "stream",
     "text": [
      "\n",
      "3it [00:00, 10645.44it/s]\n",
      " 67%|██████████████████████████████████████████████████████████▉                             | 67/100 [10:18<05:01,  9.13s/it]"
     ]
    },
    {
     "name": "stdout",
     "output_type": "stream",
     "text": [
      "Brute force complexity 3 from D=2 and nbp=3\n",
      "Computing brute force solution for dictionary dimension 3 and target_dimension 2\n"
     ]
    },
    {
     "name": "stderr",
     "output_type": "stream",
     "text": [
      "\n",
      "3it [00:00, 9111.45it/s]\n"
     ]
    },
    {
     "name": "stdout",
     "output_type": "stream",
     "text": [
      "Computing brute force solution for dictionary dimension 3 and target_dimension 2\n"
     ]
    },
    {
     "name": "stderr",
     "output_type": "stream",
     "text": [
      "\n",
      "3it [00:00, 6058.21it/s]\n",
      " 68%|███████████████████████████████████████████████████████████▊                            | 68/100 [10:27<04:44,  8.89s/it]"
     ]
    },
    {
     "name": "stdout",
     "output_type": "stream",
     "text": [
      "Brute force complexity 3 from D=2 and nbp=3\n",
      "Computing brute force solution for dictionary dimension 3 and target_dimension 2\n"
     ]
    },
    {
     "name": "stderr",
     "output_type": "stream",
     "text": [
      "\n",
      "3it [00:00, 12041.06it/s]\n"
     ]
    },
    {
     "name": "stdout",
     "output_type": "stream",
     "text": [
      "Computing brute force solution for dictionary dimension 3 and target_dimension 2\n"
     ]
    },
    {
     "name": "stderr",
     "output_type": "stream",
     "text": [
      "\n",
      "3it [00:00, 9204.76it/s]\n",
      " 69%|████████████████████████████████████████████████████████████▋                           | 69/100 [10:35<04:30,  8.73s/it]"
     ]
    },
    {
     "name": "stdout",
     "output_type": "stream",
     "text": [
      "Brute force complexity 3 from D=2 and nbp=3\n",
      "Computing brute force solution for dictionary dimension 3 and target_dimension 2\n"
     ]
    },
    {
     "name": "stderr",
     "output_type": "stream",
     "text": [
      "\n",
      "3it [00:00, 15709.00it/s]\n"
     ]
    },
    {
     "name": "stdout",
     "output_type": "stream",
     "text": [
      "Computing brute force solution for dictionary dimension 3 and target_dimension 2\n"
     ]
    },
    {
     "name": "stderr",
     "output_type": "stream",
     "text": [
      "\n",
      "3it [00:00, 5482.75it/s]\n",
      " 70%|█████████████████████████████████████████████████████████████▌                          | 70/100 [10:43<04:15,  8.53s/it]"
     ]
    },
    {
     "name": "stdout",
     "output_type": "stream",
     "text": [
      "Brute force complexity 3 from D=2 and nbp=3\n",
      "Computing brute force solution for dictionary dimension 3 and target_dimension 2\n"
     ]
    },
    {
     "name": "stderr",
     "output_type": "stream",
     "text": [
      "\n",
      "3it [00:00, 15630.95it/s]\n"
     ]
    },
    {
     "name": "stdout",
     "output_type": "stream",
     "text": [
      "Computing brute force solution for dictionary dimension 3 and target_dimension 2\n"
     ]
    },
    {
     "name": "stderr",
     "output_type": "stream",
     "text": [
      "\n",
      "3it [00:00, 9799.78it/s]\n",
      " 71%|██████████████████████████████████████████████████████████████▍                         | 71/100 [10:51<04:02,  8.37s/it]"
     ]
    },
    {
     "name": "stdout",
     "output_type": "stream",
     "text": [
      "Brute force complexity 3 from D=2 and nbp=3\n",
      "Computing brute force solution for dictionary dimension 3 and target_dimension 2\n"
     ]
    },
    {
     "name": "stderr",
     "output_type": "stream",
     "text": [
      "\n",
      "3it [00:00, 4132.32it/s]\n"
     ]
    },
    {
     "name": "stdout",
     "output_type": "stream",
     "text": [
      "Computing brute force solution for dictionary dimension 3 and target_dimension 2\n"
     ]
    },
    {
     "name": "stderr",
     "output_type": "stream",
     "text": [
      "\n",
      "3it [00:00, 4537.65it/s]\n",
      " 72%|███████████████████████████████████████████████████████████████▎                        | 72/100 [11:00<03:54,  8.38s/it]"
     ]
    }
   ],
   "source": [
    "D = 2\n",
    "\n",
    "losses = []\n",
    "support_cardinalities_basis_pursuit = []\n",
    "two_stage_losses = []\n",
    "random_two_stage_losses = []\n",
    "greedy_multitask_norms_two_stage = []\n",
    "brute_isometry_losses = []\n",
    "brute_losses = []\n",
    "basis_pursuit_times = []\n",
    "greedy_times = []\n",
    "stage_two_times = []\n",
    "\n",
    "for i in tqdm(range(100)):\n",
    "    (\n",
    "        loss,\n",
    "        support_cardinality_basis_pursuit,\n",
    "        two_stage_loss,\n",
    "        random_two_stage_loss,\n",
    "        greedy_multitask_norm_two_stage,\n",
    "        brute_loss,\n",
    "        brute_isometry_loss,\n",
    "        basis_pursuit_time,\n",
    "        stage_two_time,\n",
    "        greedy_time,\n",
    "    ) = analyze_data(dg_M[i], compute_brute=False, power=1.0)\n",
    "    losses.append(loss)\n",
    "    support_cardinalities_basis_pursuit.append(support_cardinality_basis_pursuit)\n",
    "    two_stage_losses.append(two_stage_loss)\n",
    "    greedy_multitask_norms_two_stage.append(greedy_multitask_norm_two_stage)\n",
    "    random_two_stage_losses.append(random_two_stage_loss)\n",
    "    brute_losses.append(brute_loss)\n",
    "    brute_isometry_losses.append(brute_isometry_loss)\n",
    "    basis_pursuit_times.append(basis_pursuit_time)\n",
    "    greedy_times.append(greedy_time)\n",
    "    stage_two_times.append(stage_two_time)\n",
    "    results_df = pd.DataFrame(\n",
    "        {\n",
    "            \"Losses\": losses,\n",
    "            \"Support Cardinalities (Basis Pursuit)\": support_cardinalities_basis_pursuit,\n",
    "            \"Two-Stage Losses\": two_stage_losses,\n",
    "            \"Random Two-Stage Losses\": random_two_stage_losses,\n",
    "            \"Greedy Multitask Norms (Two-Stage)\": greedy_multitask_norms_two_stage,\n",
    "            \"Brute Isometry Losses\": brute_isometry_losses,\n",
    "            \"Brute Losses\": brute_losses,\n",
    "            \"Basis Pursuit Times\": basis_pursuit_times,\n",
    "            \"Stage Two Times\": stage_two_times,\n",
    "            \"Greedy Times\": greedy_times,\n",
    "        }\n",
    "    )"
   ]
  },
  {
   "cell_type": "code",
   "execution_count": null,
   "id": "9cb10a0b",
   "metadata": {},
   "outputs": [],
   "source": [
    "results_df.to_csv('/Users/samsonkoelle/isometry-pursuit/experiments/ethanol_results.csv', index = None)"
   ]
  },
  {
   "cell_type": "code",
   "execution_count": null,
   "id": "41a22257",
   "metadata": {},
   "outputs": [],
   "source": []
  }
 ],
 "metadata": {
  "kernelspec": {
   "display_name": "isometry_pursuit",
   "language": "python",
   "name": "isometry_pursuit"
  },
  "language_info": {
   "codemirror_mode": {
    "name": "ipython",
    "version": 3
   },
   "file_extension": ".py",
   "mimetype": "text/x-python",
   "name": "python",
   "nbconvert_exporter": "python",
   "pygments_lexer": "ipython3",
   "version": "3.10.14"
  }
 },
 "nbformat": 4,
 "nbformat_minor": 5
}

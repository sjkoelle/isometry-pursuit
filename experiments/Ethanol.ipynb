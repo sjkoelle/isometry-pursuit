{
 "cells": [
  {
   "cell_type": "code",
   "execution_count": 1,
   "id": "b2927de2",
   "metadata": {},
   "outputs": [
    {
     "name": "stdout",
     "output_type": "stream",
     "text": [
      "Loading ethanol data\n"
     ]
    }
   ],
   "source": [
    "%load_ext autoreload\n",
    "%autoreload 2\n",
    "import numpy as np\n",
    "import random\n",
    "import json\n",
    "import torch\n",
    "from isometry_pursuit.vendor import HParams\n",
    "from isometry_pursuit.atomic_geometry import get_atoms3_full, get_atoms4_full, get_atoms_4\n",
    "import itertools\n",
    "\n",
    "print('Loading ethanol data')\n",
    "\n",
    "config_path = \"/Users/samsonkoelle/montlake/experiments/configs/ethanol_full.json\"\n",
    "raw_data = \"/Users/samsonkoelle/thesis_data/raw_data/ethanol.mat\"\n",
    "\n",
    "positions = np.load('/Users/samsonkoelle/positions.npy')\n",
    "randomindices = np.load('/Users/samsonkoelle/indices.npy')\n",
    "\n",
    "np.random.seed(1234)\n",
    "random.seed(1234)\n",
    "\n",
    "config = {}\n",
    "\n",
    "with open(config_path) as f:\n",
    "    config.update(json.load(f))\n",
    "\n",
    "hparams = HParams(**config)"
   ]
  },
  {
   "cell_type": "code",
   "execution_count": 2,
   "id": "37685702",
   "metadata": {},
   "outputs": [],
   "source": [
    "d = hparams.d\n",
    "n_components = hparams.n_components\n",
    "atoms2_feat = hparams.atoms2_feat\n",
    "atoms3_feat = hparams.atoms3_feat\n",
    "atoms4_feat = hparams.atoms4_feat\n",
    "atoms2_dict = hparams.atoms2_dict\n",
    "atoms3_dict = hparams.atoms3_dict\n",
    "atoms4_dict = hparams.atoms4_dict\n",
    "diagram = hparams.diagram\n",
    "\n",
    "ii = np.asarray(hparams.ii)\n",
    "jj = np.asarray(hparams.jj)\n",
    "#load geometric features\n",
    "natoms = positions.shape[1]\n",
    "n = positions.shape[0]\n",
    "atoms2 = np.asarray(list(itertools.combinations(range(natoms), 2)))\n",
    "atoms2full = atoms2\n",
    "atoms3 = np.asarray(list(itertools.combinations(range(natoms), 3)))\n",
    "atoms4 = np.asarray(list(itertools.combinations(range(natoms), 4)))\n",
    "atoms3full = get_atoms3_full(atoms3)\n",
    "atoms4full = get_atoms4_full(atoms4)\n",
    "\n",
    "if atoms2_feat:\n",
    "    atoms2_feats = atoms2full\n",
    "else:\n",
    "    atoms2_feats = np.asarray([])\n",
    "\n",
    "if atoms3_feat:\n",
    "    atoms3_feats = atoms3full\n",
    "else:\n",
    "    atoms3_feats = np.asarray([])\n",
    "\n",
    "if atoms4_feat:\n",
    "    atoms4_feats = atoms4full\n",
    "else:\n",
    "    atoms4_feats = np.asarray([])"
   ]
  },
  {
   "cell_type": "code",
   "execution_count": 3,
   "id": "f921202b",
   "metadata": {},
   "outputs": [],
   "source": [
    "data = np.load('/Users/samsonkoelle/ethanolanglesfull_0524.npy')\n",
    "n_neighbors = hparams.n_neighbors\n",
    "atoms4_dicts= get_atoms_4(natoms, ii, jj)[0]\n",
    "if atoms2_dict:\n",
    "    atoms2_dicts = atoms2full\n",
    "else:\n",
    "    atoms2_dicts = np.asarray([])\n",
    "if atoms3_dict:\n",
    "    atoms3_dicts = atoms3full\n",
    "else:\n",
    "    atoms3_dicts = np.asarray([])\n"
   ]
  },
  {
   "cell_type": "code",
   "execution_count": 4,
   "id": "4fbf4e62",
   "metadata": {},
   "outputs": [
    {
     "name": "stderr",
     "output_type": "stream",
     "text": [
      "/Users/samsonkoelle/miniconda3/envs/isometry/lib/python3.10/site-packages/threadpoolctl.py:1214: RuntimeWarning: \n",
      "Found Intel OpenMP ('libiomp') and LLVM OpenMP ('libomp') loaded at\n",
      "the same time. Both libraries are known to be incompatible and this\n",
      "can cause random crashes or deadlocks on Linux when loaded in the\n",
      "same Python program.\n",
      "Using threadpoolctl may cause crashes or deadlocks. For more\n",
      "information and possible workarounds, please see\n",
      "    https://github.com/joblib/threadpoolctl/blob/master/multiple_openmp.md\n",
      "\n",
      "  warnings.warn(msg, RuntimeWarning)\n"
     ]
    }
   ],
   "source": [
    "from scipy import sparse\n",
    "from isometry_pursuit.transformation import exponential_transformation\n",
    "from isometry_pursuit.manifold import local_pca\n",
    "from isometry_pursuit.atomic_geometry import get_D_feats_feats\n",
    "\n",
    "nsel = 100\n",
    "dimension = 2\n",
    "p = atoms4full.shape[0]\n",
    "\n",
    "selected_points = np.random.choice(range(50000),nsel)\n",
    "dg_x = np.asarray([get_D_feats_feats(positions[selected_points[i]],\n",
    "           atoms2in = atoms2_feats,\n",
    "           atoms3in = atoms3_feats,\n",
    "           atoms4in = atoms4_feats,\n",
    "           atoms2out = atoms2_dicts,\n",
    "           atoms3out = atoms3_dicts,\n",
    "           atoms4out = atoms4full) for i in range(nsel)])                           \n",
    "\n",
    "power = 1\n"
   ]
  },
  {
   "cell_type": "code",
   "execution_count": 5,
   "id": "6febb051",
   "metadata": {},
   "outputs": [],
   "source": [
    "dg_M = np.zeros((nsel, dimension, p))\n",
    "for i, sp in enumerate(selected_points):\n",
    "    tangent_bases = local_pca(data, sp, n_neighbors, dimension)\n",
    "    # NOTE (Sam): normalization prior to projection once again in the manifold case.\n",
    "    dg_x_normalized = exponential_transformation(dg_x[i], power)\n",
    "    dg_M[i] = np.einsum('b p, b d -> d p', dg_x_normalized, tangent_bases)"
   ]
  },
  {
   "cell_type": "code",
   "execution_count": 6,
   "id": "2c838ea8",
   "metadata": {},
   "outputs": [],
   "source": [
    "from isometry_pursuit.experiment import analyze_data\n",
    "from tqdm import tqdm\n",
    "import pandas as pd"
   ]
  },
  {
   "cell_type": "code",
   "execution_count": 21,
   "id": "241ad51c",
   "metadata": {},
   "outputs": [
    {
     "name": "stderr",
     "output_type": "stream",
     "text": [
      "  0%|                                                                                                                                                                                                                                   | 0/1 [00:00<?, ?it/s]/Users/samsonkoelle/isometry-pursuit/isometry_pursuit/loss.py:14: RuntimeWarning: overflow encountered in exp\n",
      "  (np.exp(singular_values) + np.exp(singular_values ** (-1))) / (2 * np.e)\n",
      "/Users/samsonkoelle/isometry-pursuit/isometry_pursuit/transformation.py:27: RuntimeWarning: overflow encountered in exp\n",
      "  exp_values = ((np.exp(norms) + np.exp(norms ** (-1))) ** (-1)) * 2 * np.e\n"
     ]
    },
    {
     "name": "stdout",
     "output_type": "stream",
     "text": [
      "greedy []\n",
      "greedy [210]\n",
      "greedy [210, 346]\n"
     ]
    },
    {
     "name": "stderr",
     "output_type": "stream",
     "text": [
      "/Users/samsonkoelle/miniconda3/envs/isometry/lib/python3.10/site-packages/cvxpy/problems/problem.py:1407: UserWarning: Solution may be inaccurate. Try another solver, adjusting the solver settings, or solve with verbose=True for more information.\n",
      "  warnings.warn(\n"
     ]
    },
    {
     "name": "stdout",
     "output_type": "stream",
     "text": [
      "Brute force complexity 3 from D=2 and nbp=3\n",
      "Computing brute force solution for dictionary dimension 3 and target_dimension 2\n"
     ]
    },
    {
     "name": "stderr",
     "output_type": "stream",
     "text": [
      "\n",
      "3it [00:00, 8473.34it/s]\n"
     ]
    },
    {
     "name": "stdout",
     "output_type": "stream",
     "text": [
      "Computing brute force solution for dictionary dimension 3 and target_dimension 2\n"
     ]
    },
    {
     "name": "stderr",
     "output_type": "stream",
     "text": [
      "\n",
      "3it [00:00, 7593.79it/s]\n",
      "100%|███████████████████████████████████████████████████████████████████████████████████████████████████████████████████████████████████████████████████████████████████████████████████████████████████████████████████████████| 1/1 [00:09<00:00,  9.08s/it]"
     ]
    },
    {
     "name": "stdout",
     "output_type": "stream",
     "text": [
      "stage two time 0.003365039825439453\n",
      "greedy time 0.05985689163208008\n",
      "basis pursuit time 9.009654998779297\n"
     ]
    },
    {
     "name": "stderr",
     "output_type": "stream",
     "text": [
      "\n"
     ]
    }
   ],
   "source": [
    "D = 2\n",
    "\n",
    "losses = []\n",
    "support_cardinalities_basis_pursuit = []\n",
    "two_stage_losses = []\n",
    "random_two_stage_losses = []\n",
    "greedy_multitask_norms_two_stage = []\n",
    "brute_isometry_losses = []\n",
    "brute_losses = []\n",
    "basis_pursuit_times = []\n",
    "greedy_times = []\n",
    "stage_two_times = []\n",
    "\n",
    "for i in tqdm(range(1)):\n",
    "    np.random.seed(i)\n",
    "    random.seed(i)\n",
    "    (\n",
    "        loss,\n",
    "        support_cardinality_basis_pursuit,\n",
    "        two_stage_loss,\n",
    "        random_two_stage_loss,\n",
    "        greedy_multitask_norm_two_stage,\n",
    "        brute_loss,\n",
    "        brute_isometry_loss,\n",
    "        basis_pursuit_time,\n",
    "        stage_two_time,\n",
    "        greedy_time,\n",
    "    ) = analyze_data(dg_M[i], compute_brute=False, power=1.0)\n",
    "    losses.append(loss)\n",
    "    if support_cardinality_basis_pursuit > 100:\n",
    "        break\n",
    "    support_cardinalities_basis_pursuit.append(support_cardinality_basis_pursuit)\n",
    "    two_stage_losses.append(two_stage_loss)\n",
    "    greedy_multitask_norms_two_stage.append(greedy_multitask_norm_two_stage)\n",
    "    random_two_stage_losses.append(random_two_stage_loss)\n",
    "    brute_losses.append(brute_loss)\n",
    "    brute_isometry_losses.append(brute_isometry_loss)\n",
    "    basis_pursuit_times.append(basis_pursuit_time)\n",
    "    greedy_times.append(greedy_time)\n",
    "    stage_two_times.append(stage_two_time)\n",
    "    results_df = pd.DataFrame(\n",
    "        {\n",
    "            \"Losses\": losses,\n",
    "            \"Support Cardinalities (Basis Pursuit)\": support_cardinalities_basis_pursuit,\n",
    "            \"Two-Stage Losses\": two_stage_losses,\n",
    "            \"Random Two-Stage Losses\": random_two_stage_losses,\n",
    "            \"Greedy Multitask Norms (Two-Stage)\": greedy_multitask_norms_two_stage,\n",
    "            \"Brute Isometry Losses\": brute_isometry_losses,\n",
    "            \"Brute Losses\": brute_losses,\n",
    "            \"Basis Pursuit Times\": basis_pursuit_times,\n",
    "            \"Stage Two Times\": stage_two_times,\n",
    "            \"Greedy Times\": greedy_times,\n",
    "        }\n",
    "    )"
   ]
  },
  {
   "cell_type": "code",
   "execution_count": 22,
   "id": "79fc31f6",
   "metadata": {},
   "outputs": [],
   "source": [
    "# results_df.to_csv('/Users/samsonkoelle/isometry-pursuit/experiments/ethanol_results.csv', index = None)"
   ]
  },
  {
   "cell_type": "code",
   "execution_count": 24,
   "id": "b0725da6",
   "metadata": {},
   "outputs": [],
   "source": [
    "??analyze_data"
   ]
  },
  {
   "cell_type": "code",
   "execution_count": 28,
   "id": "8c0a0007",
   "metadata": {},
   "outputs": [],
   "source": [
    "import cvxpy as cp\n",
    "\n",
    "def group_basis_pursuit(\n",
    "    matrix,\n",
    "    eps=1e-12,\n",
    "    threshold=1e-6,\n",
    "    max_iters = 2500,\n",
    "    seed = 0,\n",
    "    target = None,\n",
    "):\n",
    "\n",
    "    D,P = matrix.shape\n",
    "    if target is None:\n",
    "        target = np.identity(D)\n",
    "#     target[0,1] = 2\n",
    "    np.random.seed(seed)\n",
    "    initialization = np.random.randn(P, D)\n",
    "#     print(initialization)\n",
    "#     beta = cp.Variable((P, D), value=initialization)  # Random initialization\n",
    "    beta = cp.Variable((P,D))  # could initialize with lasso?\n",
    "#     beta.value = np.asarray([[1.,0], [0,1.],[0,0],[0,0]])\n",
    "    objective = cp.Minimize(cp.sum(cp.norm(beta, axis=1)))\n",
    "    constraints = [matrix @ beta == target]\n",
    "    problem = cp.Problem(objective, constraints)\n",
    "    scs_opts = {\"eps\": eps, \"max_iters\": max_iters, \"scale\": 10.}\n",
    "    output = problem.solve(solver=cp.SCS, **scs_opts)\n",
    "#     output = problem.solve(solver = cp.ECOS)\n",
    "    if output is np.inf:\n",
    "        raise ValueError(\"No solution found\")\n",
    "    beta_optimized = beta.value\n",
    "    beta_sparse = beta_optimized.copy()\n",
    "    beta_sparse[np.abs(beta_sparse) < threshold] = 0\n",
    "    return beta_sparse\n"
   ]
  },
  {
   "cell_type": "code",
   "execution_count": 29,
   "id": "3174bb16",
   "metadata": {},
   "outputs": [],
   "source": [
    "X = dg_M[i]\n",
    "power = 1.\n",
    "data_transformed = exponential_transformation(X, power=power)\n",
    "beta = group_basis_pursuit(data_transformed)\n",
    "basis_pursuit_indices = np.where(np.linalg.norm(beta, axis=1))[0]\n"
   ]
  },
  {
   "cell_type": "code",
   "execution_count": null,
   "id": "028e13ac",
   "metadata": {},
   "outputs": [],
   "source": []
  }
 ],
 "metadata": {
  "kernelspec": {
   "display_name": "isometry_pursuit",
   "language": "python",
   "name": "isometry_pursuit"
  },
  "language_info": {
   "codemirror_mode": {
    "name": "ipython",
    "version": 3
   },
   "file_extension": ".py",
   "mimetype": "text/x-python",
   "name": "python",
   "nbconvert_exporter": "python",
   "pygments_lexer": "ipython3",
   "version": "3.10.14"
  }
 },
 "nbformat": 4,
 "nbformat_minor": 5
}

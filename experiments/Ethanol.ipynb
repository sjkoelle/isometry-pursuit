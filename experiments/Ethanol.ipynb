{
 "cells": [
  {
   "cell_type": "code",
   "execution_count": 1,
   "id": "b2927de2",
   "metadata": {},
   "outputs": [
    {
     "name": "stdout",
     "output_type": "stream",
     "text": [
      "Loading ethanol data\n"
     ]
    }
   ],
   "source": [
    "%load_ext autoreload\n",
    "%autoreload 2\n",
    "import numpy as np\n",
    "import random\n",
    "import json\n",
    "import torch\n",
    "from isometry_pursuit.vendor import HParams\n",
    "from isometry_pursuit.atomic_geometry import get_atoms3_full, get_atoms4_full, get_atoms_4\n",
    "import itertools\n",
    "\n",
    "print('Loading ethanol data')\n",
    "\n",
    "config_path = \"/Users/samsonkoelle/montlake/experiments/configs/ethanol_full.json\"\n",
    "raw_data = \"/Users/samsonkoelle/thesis_data/raw_data/ethanol.mat\"\n",
    "\n",
    "positions = np.load('/Users/samsonkoelle/positions.npy')\n",
    "randomindices = np.load('/Users/samsonkoelle/indices.npy')\n",
    "\n",
    "np.random.seed(1234)\n",
    "random.seed(1234)\n",
    "\n",
    "config = {}\n",
    "\n",
    "with open(config_path) as f:\n",
    "    config.update(json.load(f))\n",
    "\n",
    "hparams = HParams(**config)"
   ]
  },
  {
   "cell_type": "code",
   "execution_count": 2,
   "id": "37685702",
   "metadata": {},
   "outputs": [],
   "source": [
    "d = hparams.d\n",
    "n_components = hparams.n_components\n",
    "atoms2_feat = hparams.atoms2_feat\n",
    "atoms3_feat = hparams.atoms3_feat\n",
    "atoms4_feat = hparams.atoms4_feat\n",
    "atoms2_dict = hparams.atoms2_dict\n",
    "atoms3_dict = hparams.atoms3_dict\n",
    "atoms4_dict = hparams.atoms4_dict\n",
    "diagram = hparams.diagram\n",
    "\n",
    "ii = np.asarray(hparams.ii)\n",
    "jj = np.asarray(hparams.jj)\n",
    "#load geometric features\n",
    "natoms = positions.shape[1]\n",
    "n = positions.shape[0]\n",
    "atoms2 = np.asarray(list(itertools.combinations(range(natoms), 2)))\n",
    "atoms2full = atoms2\n",
    "atoms3 = np.asarray(list(itertools.combinations(range(natoms), 3)))\n",
    "atoms4 = np.asarray(list(itertools.combinations(range(natoms), 4)))\n",
    "atoms3full = get_atoms3_full(atoms3)\n",
    "atoms4full = get_atoms4_full(atoms4)\n",
    "\n",
    "if atoms2_feat:\n",
    "    atoms2_feats = atoms2full\n",
    "else:\n",
    "    atoms2_feats = np.asarray([])\n",
    "\n",
    "if atoms3_feat:\n",
    "    atoms3_feats = atoms3full\n",
    "else:\n",
    "    atoms3_feats = np.asarray([])\n",
    "\n",
    "if atoms4_feat:\n",
    "    atoms4_feats = atoms4full\n",
    "else:\n",
    "    atoms4_feats = np.asarray([])"
   ]
  },
  {
   "cell_type": "code",
   "execution_count": 32,
   "id": "f921202b",
   "metadata": {},
   "outputs": [],
   "source": [
    "data = np.load('/Users/samsonkoelle/ethanolanglesfull_0524.npy')\n",
    "n_neighbors = hparams.n_neighbors\n",
    "atoms4_dicts= get_atoms_4(natoms, ii, jj)[0]\n",
    "if atoms2_dict:\n",
    "    atoms2_dicts = atoms2full\n",
    "else:\n",
    "    atoms2_dicts = np.asarray([])\n",
    "if atoms3_dict:\n",
    "    atoms3_dicts = atoms3full\n",
    "else:\n",
    "    atoms3_dicts = np.asarray([])\n"
   ]
  },
  {
   "cell_type": "code",
   "execution_count": 4,
   "id": "4fbf4e62",
   "metadata": {},
   "outputs": [
    {
     "name": "stderr",
     "output_type": "stream",
     "text": [
      "/Users/samsonkoelle/miniconda3/envs/isometry/lib/python3.10/site-packages/threadpoolctl.py:1214: RuntimeWarning: \n",
      "Found Intel OpenMP ('libiomp') and LLVM OpenMP ('libomp') loaded at\n",
      "the same time. Both libraries are known to be incompatible and this\n",
      "can cause random crashes or deadlocks on Linux when loaded in the\n",
      "same Python program.\n",
      "Using threadpoolctl may cause crashes or deadlocks. For more\n",
      "information and possible workarounds, please see\n",
      "    https://github.com/joblib/threadpoolctl/blob/master/multiple_openmp.md\n",
      "\n",
      "  warnings.warn(msg, RuntimeWarning)\n"
     ]
    }
   ],
   "source": [
    "from scipy import sparse\n",
    "from isometry_pursuit.transformation import exponential_transformation\n",
    "from isometry_pursuit.manifold import local_pca\n",
    "from isometry_pursuit.atomic_geometry import get_D_feats_feats\n",
    "\n",
    "nsel = 100\n",
    "dimension = 2\n",
    "p = atoms4full.shape[0]\n",
    "\n",
    "selected_points = np.random.choice(range(50000),nsel)\n",
    "dg_x = np.asarray([get_D_feats_feats(positions[selected_points[i]],\n",
    "           atoms2in = atoms2_feats,\n",
    "           atoms3in = atoms3_feats,\n",
    "           atoms4in = atoms4_feats,\n",
    "           atoms2out = atoms2_dicts,\n",
    "           atoms3out = atoms3_dicts,\n",
    "           atoms4out = atoms4full) for i in range(nsel)])                           \n",
    "\n",
    "power = 1\n"
   ]
  },
  {
   "cell_type": "code",
   "execution_count": 5,
   "id": "6febb051",
   "metadata": {},
   "outputs": [],
   "source": [
    "dg_M = np.zeros((nsel, dimension, p))\n",
    "for i, sp in enumerate(selected_points):\n",
    "    tangent_bases = local_pca(data, sp, n_neighbors, dimension)\n",
    "    # NOTE (Sam): normalization prior to projection once again in the manifold case.\n",
    "    dg_x_normalized = exponential_transformation(dg_x[i], power)\n",
    "    dg_M[i] = np.einsum('b p, b d -> d p', dg_x_normalized, tangent_bases)"
   ]
  },
  {
   "cell_type": "code",
   "execution_count": 12,
   "id": "2c838ea8",
   "metadata": {},
   "outputs": [],
   "source": [
    "from isometry_pursuit.experiment import analyze_data\n",
    "from tqdm import tqdm\n",
    "import pandas as pd"
   ]
  },
  {
   "cell_type": "code",
   "execution_count": 29,
   "id": "241ad51c",
   "metadata": {},
   "outputs": [
    {
     "name": "stderr",
     "output_type": "stream",
     "text": [
      "\r",
      "  0%|                                                                                                 | 0/100 [00:00<?, ?it/s]"
     ]
    },
    {
     "name": "stdout",
     "output_type": "stream",
     "text": [
      "Brute force complexity 3 from D=2 and nbp=3\n",
      "Computing brute force solution for dictionary dimension 3 and target_dimension 2\n"
     ]
    },
    {
     "name": "stderr",
     "output_type": "stream",
     "text": [
      "\n",
      "3it [00:00, 3882.42it/s]\n"
     ]
    },
    {
     "name": "stdout",
     "output_type": "stream",
     "text": [
      "Computing brute force solution for dictionary dimension 3 and target_dimension 2\n"
     ]
    },
    {
     "name": "stderr",
     "output_type": "stream",
     "text": [
      "\n",
      "3it [00:00, 7231.56it/s]\n",
      "  1%|▉                                                                                        | 1/100 [00:08<13:22,  8.10s/it]"
     ]
    },
    {
     "name": "stdout",
     "output_type": "stream",
     "text": [
      "stage two time 0.005425214767456055\n",
      "greedy time 0.0539858341217041\n",
      "basis pursuit time 8.038065195083618\n",
      "Brute force complexity 3 from D=2 and nbp=3\n",
      "Computing brute force solution for dictionary dimension 3 and target_dimension 2\n"
     ]
    },
    {
     "name": "stderr",
     "output_type": "stream",
     "text": [
      "\n",
      "3it [00:00, 5119.17it/s]\n"
     ]
    },
    {
     "name": "stdout",
     "output_type": "stream",
     "text": [
      "Computing brute force solution for dictionary dimension 3 and target_dimension 2\n"
     ]
    },
    {
     "name": "stderr",
     "output_type": "stream",
     "text": [
      "\n",
      "3it [00:00, 9225.01it/s]\n",
      "  2%|█▊                                                                                       | 2/100 [00:16<13:09,  8.06s/it]"
     ]
    },
    {
     "name": "stdout",
     "output_type": "stream",
     "text": [
      "stage two time 0.004943132400512695\n",
      "greedy time 0.07232975959777832\n",
      "basis pursuit time 7.937466144561768\n",
      "Brute force complexity 3 from D=2 and nbp=3\n",
      "Computing brute force solution for dictionary dimension 3 and target_dimension 2\n"
     ]
    },
    {
     "name": "stderr",
     "output_type": "stream",
     "text": [
      "\n",
      "3it [00:00, 7893.92it/s]\n"
     ]
    },
    {
     "name": "stdout",
     "output_type": "stream",
     "text": [
      "Computing brute force solution for dictionary dimension 3 and target_dimension 2\n"
     ]
    },
    {
     "name": "stderr",
     "output_type": "stream",
     "text": [
      "\n",
      "3it [00:00, 5662.88it/s]\n",
      "  3%|██▋                                                                                      | 3/100 [00:24<13:10,  8.15s/it]"
     ]
    },
    {
     "name": "stdout",
     "output_type": "stream",
     "text": [
      "stage two time 0.0038259029388427734\n",
      "greedy time 0.07006382942199707\n",
      "basis pursuit time 8.18010687828064\n",
      "Brute force complexity 3 from D=2 and nbp=3\n",
      "Computing brute force solution for dictionary dimension 3 and target_dimension 2\n"
     ]
    },
    {
     "name": "stderr",
     "output_type": "stream",
     "text": [
      "\n",
      "3it [00:00, 10529.63it/s]\n"
     ]
    },
    {
     "name": "stdout",
     "output_type": "stream",
     "text": [
      "Computing brute force solution for dictionary dimension 3 and target_dimension 2\n"
     ]
    },
    {
     "name": "stderr",
     "output_type": "stream",
     "text": [
      "\n",
      "3it [00:00, 6096.37it/s]\n",
      "  4%|███▌                                                                                     | 4/100 [00:32<13:14,  8.27s/it]"
     ]
    },
    {
     "name": "stdout",
     "output_type": "stream",
     "text": [
      "stage two time 0.0030210018157958984\n",
      "greedy time 0.05957484245300293\n",
      "basis pursuit time 8.392667770385742\n",
      "Brute force complexity 3 from D=2 and nbp=3\n",
      "Computing brute force solution for dictionary dimension 3 and target_dimension 2\n"
     ]
    },
    {
     "name": "stderr",
     "output_type": "stream",
     "text": [
      "\n",
      "3it [00:00, 15787.84it/s]\n"
     ]
    },
    {
     "name": "stdout",
     "output_type": "stream",
     "text": [
      "Computing brute force solution for dictionary dimension 3 and target_dimension 2\n"
     ]
    },
    {
     "name": "stderr",
     "output_type": "stream",
     "text": [
      "\n",
      "3it [00:00, 4537.65it/s]\n",
      "  5%|████▍                                                                                    | 5/100 [00:41<13:06,  8.28s/it]"
     ]
    },
    {
     "name": "stdout",
     "output_type": "stream",
     "text": [
      "stage two time 0.003133058547973633\n",
      "greedy time 0.06861996650695801\n",
      "basis pursuit time 8.22034502029419\n",
      "Brute force complexity 75466 from D=2 and nbp=389\n",
      "Computing brute force solution for dictionary dimension 389 and target_dimension 2\n"
     ]
    },
    {
     "name": "stderr",
     "output_type": "stream",
     "text": [
      "\n",
      "0it [00:00, ?it/s]\u001b[A\n",
      "3302it [00:00, 33017.04it/s]\u001b[A\n",
      "6604it [00:00, 31745.82it/s]\u001b[A\n",
      "9782it [00:00, 31497.04it/s]\u001b[A\n",
      "12934it [00:00, 29435.54it/s]\u001b[A\n",
      "16210it [00:00, 30567.97it/s]\u001b[A\n",
      "19285it [00:00, 29486.27it/s]\u001b[A\n",
      "22249it [00:00, 28928.56it/s]\u001b[A\n",
      "25152it [00:00, 28835.84it/s]\u001b[A\n",
      "28086it [00:00, 28985.40it/s]\u001b[A\n",
      "31003it [00:01, 29039.69it/s]\u001b[A\n",
      "34038it [00:01, 29432.19it/s]\u001b[A\n",
      "36985it [00:01, 29335.62it/s]\u001b[A\n",
      "39921it [00:01, 28846.67it/s]\u001b[A\n",
      "42809it [00:01, 28627.93it/s]\u001b[A\n",
      "45674it [00:01, 28542.00it/s]\u001b[A\n",
      "48556it [00:01, 28623.99it/s]\u001b[A\n",
      "51780it [00:01, 29698.77it/s]\u001b[A\n",
      "55336it [00:01, 31445.90it/s]\u001b[A\n",
      "58484it [00:01, 30705.15it/s]\u001b[A\n",
      "61608it [00:02, 30860.41it/s]\u001b[A\n",
      "65174it [00:02, 32278.38it/s]\u001b[A\n",
      "68613it [00:02, 32904.02it/s]\u001b[A\n",
      "71908it [00:02, 31895.90it/s]\u001b[A\n",
      "75466it [00:02, 30271.38it/s]\u001b[A\n"
     ]
    },
    {
     "name": "stdout",
     "output_type": "stream",
     "text": [
      "Computing brute force solution for dictionary dimension 389 and target_dimension 2\n"
     ]
    },
    {
     "name": "stderr",
     "output_type": "stream",
     "text": [
      "\n",
      "0it [00:00, ?it/s]\u001b[A\n",
      "3361it [00:00, 33601.94it/s]\u001b[A\n",
      "7074it [00:00, 35674.28it/s]\u001b[A\n",
      "10722it [00:00, 36038.37it/s]\u001b[A\n",
      "14436it [00:00, 36472.66it/s]\u001b[A\n",
      "18213it [00:00, 36937.03it/s]\u001b[A\n",
      "21996it [00:00, 37237.84it/s]\u001b[A\n",
      "25720it [00:00, 36054.58it/s]\u001b[A\n",
      "29333it [00:00, 35325.73it/s]\u001b[A\n",
      "32873it [00:00, 35315.91it/s]\u001b[A\n",
      "36413it [00:01, 35336.90it/s]\u001b[A\n",
      "39950it [00:01, 34741.87it/s]\u001b[A\n",
      "43428it [00:01, 34101.96it/s]\u001b[A\n",
      "46855it [00:01, 34149.40it/s]\u001b[A\n",
      "50288it [00:01, 34201.34it/s]\u001b[A\n",
      "53711it [00:01, 33448.36it/s]\u001b[A\n",
      "57061it [00:01, 33320.61it/s]\u001b[A\n",
      "60564it [00:01, 33821.54it/s]\u001b[A\n",
      "64000it [00:01, 33980.67it/s]\u001b[A\n",
      "67401it [00:01, 32897.53it/s]\u001b[A\n",
      "70721it [00:02, 32973.82it/s]\u001b[A\n",
      "75466it [00:02, 34524.32it/s]\u001b[A\n",
      "  6%|█████▎                                                                                   | 6/100 [00:54<15:31,  9.91s/it]"
     ]
    },
    {
     "name": "stdout",
     "output_type": "stream",
     "text": [
      "stage two time 2.50770902633667\n",
      "greedy time 0.059389352798461914\n",
      "basis pursuit time 8.29227328300476\n",
      "Brute force complexity 3 from D=2 and nbp=3\n",
      "Computing brute force solution for dictionary dimension 3 and target_dimension 2\n"
     ]
    },
    {
     "name": "stderr",
     "output_type": "stream",
     "text": [
      "\n",
      "3it [00:00, 10098.65it/s]\n"
     ]
    },
    {
     "name": "stdout",
     "output_type": "stream",
     "text": [
      "Computing brute force solution for dictionary dimension 3 and target_dimension 2\n"
     ]
    },
    {
     "name": "stderr",
     "output_type": "stream",
     "text": [
      "\n",
      "3it [00:00, 6462.72it/s]\n",
      "  7%|██████▏                                                                                  | 7/100 [01:02<14:46,  9.53s/it]"
     ]
    },
    {
     "name": "stdout",
     "output_type": "stream",
     "text": [
      "stage two time 0.003046274185180664\n",
      "greedy time 0.07850885391235352\n",
      "basis pursuit time 8.66855788230896\n",
      "Brute force complexity 3 from D=2 and nbp=3\n",
      "Computing brute force solution for dictionary dimension 3 and target_dimension 2\n"
     ]
    },
    {
     "name": "stderr",
     "output_type": "stream",
     "text": [
      "\n",
      "3it [00:00, 11904.36it/s]\n"
     ]
    },
    {
     "name": "stdout",
     "output_type": "stream",
     "text": [
      "Computing brute force solution for dictionary dimension 3 and target_dimension 2\n"
     ]
    },
    {
     "name": "stderr",
     "output_type": "stream",
     "text": [
      "\n",
      "3it [00:00, 12396.96it/s]\n",
      "  8%|███████                                                                                  | 8/100 [01:11<14:10,  9.25s/it]"
     ]
    },
    {
     "name": "stdout",
     "output_type": "stream",
     "text": [
      "stage two time 0.003255128860473633\n",
      "greedy time 0.06626296043395996\n",
      "basis pursuit time 8.570766687393188\n",
      "Brute force complexity 3 from D=2 and nbp=3\n",
      "Computing brute force solution for dictionary dimension 3 and target_dimension 2\n"
     ]
    },
    {
     "name": "stderr",
     "output_type": "stream",
     "text": [
      "\n",
      "3it [00:00, 10913.19it/s]\n"
     ]
    },
    {
     "name": "stdout",
     "output_type": "stream",
     "text": [
      "Computing brute force solution for dictionary dimension 3 and target_dimension 2\n"
     ]
    },
    {
     "name": "stderr",
     "output_type": "stream",
     "text": [
      "\n",
      "3it [00:00, 8327.54it/s]\n",
      "  9%|████████                                                                                 | 9/100 [01:20<13:45,  9.08s/it]"
     ]
    },
    {
     "name": "stdout",
     "output_type": "stream",
     "text": [
      "stage two time 0.003228902816772461\n",
      "greedy time 0.07231998443603516\n",
      "basis pursuit time 8.610686302185059\n",
      "Brute force complexity 98346 from D=2 and nbp=444\n",
      "Computing brute force solution for dictionary dimension 444 and target_dimension 2\n"
     ]
    },
    {
     "name": "stderr",
     "output_type": "stream",
     "text": [
      "\n",
      "0it [00:00, ?it/s]\u001b[A\n",
      "3541it [00:00, 35400.33it/s]\u001b[A\n",
      "7082it [00:00, 34846.09it/s]\u001b[A\n",
      "10670it [00:00, 35313.56it/s]\u001b[A\n",
      "14203it [00:00, 35026.20it/s]\u001b[A\n",
      "17778it [00:00, 35281.82it/s]\u001b[A\n",
      "21307it [00:00, 35241.48it/s]\u001b[A\n",
      "24911it [00:00, 35498.41it/s]\u001b[A\n",
      "28462it [00:00, 34461.53it/s]\u001b[A\n",
      "31915it [00:00, 33784.20it/s]\u001b[A\n",
      "35300it [00:01, 33320.52it/s]\u001b[A\n",
      "38820it [00:01, 33875.71it/s]\u001b[A\n",
      "42387it [00:01, 34407.20it/s]\u001b[A\n",
      "46015it [00:01, 34963.32it/s]\u001b[A\n",
      "49516it [00:01, 34451.51it/s]\u001b[A\n",
      "52966it [00:01, 33907.22it/s]\u001b[A\n",
      "56361it [00:01, 33174.28it/s]\u001b[A\n",
      "59759it [00:01, 33408.05it/s]\u001b[A\n",
      "63283it [00:01, 33943.93it/s]\u001b[A\n",
      "66919it [00:01, 34655.36it/s]\u001b[A\n",
      "70477it [00:02, 34928.25it/s]\u001b[A\n",
      "73973it [00:02, 34419.95it/s]\u001b[A\n",
      "77419it [00:02, 34062.30it/s]\u001b[A\n",
      "80878it [00:02, 34216.47it/s]\u001b[A\n",
      "84458it [00:02, 34684.74it/s]\u001b[A\n",
      "87993it [00:02, 34881.04it/s]\u001b[A\n",
      "91483it [00:02, 33939.33it/s]\u001b[A\n",
      "98346it [00:02, 34319.73it/s]\u001b[A\n"
     ]
    },
    {
     "name": "stdout",
     "output_type": "stream",
     "text": [
      "Computing brute force solution for dictionary dimension 444 and target_dimension 2\n"
     ]
    },
    {
     "name": "stderr",
     "output_type": "stream",
     "text": [
      "\n",
      "0it [00:00, ?it/s]\u001b[A\n",
      "3927it [00:00, 39263.67it/s]\u001b[A\n",
      "7854it [00:00, 37762.54it/s]\u001b[A\n",
      "11635it [00:00, 35892.49it/s]\u001b[A\n",
      "15234it [00:00, 35765.23it/s]\u001b[A\n",
      "18892it [00:00, 36047.70it/s]\u001b[A\n",
      "22682it [00:00, 36661.74it/s]\u001b[A\n",
      "26353it [00:00, 36550.08it/s]\u001b[A\n",
      "30089it [00:00, 36801.89it/s]\u001b[A\n",
      "33929it [00:00, 37294.54it/s]\u001b[A\n",
      "37661it [00:01, 37180.49it/s]\u001b[A\n",
      "41433it [00:01, 37342.16it/s]\u001b[A\n",
      "45169it [00:01, 37062.57it/s]\u001b[A\n",
      "48891it [00:01, 37109.52it/s]\u001b[A\n",
      "52603it [00:01, 37042.38it/s]\u001b[A\n",
      "56314it [00:01, 37060.89it/s]\u001b[A\n",
      "60108it [00:01, 37323.90it/s]\u001b[A\n",
      "63975it [00:01, 37727.02it/s]\u001b[A\n",
      "67753it [00:01, 37740.17it/s]\u001b[A\n",
      "71657it [00:01, 38124.66it/s]\u001b[A\n",
      "75470it [00:02, 38005.10it/s]\u001b[A\n",
      "79278it [00:02, 38026.82it/s]\u001b[A\n",
      "83081it [00:02, 37806.07it/s]\u001b[A\n",
      "86862it [00:02, 37787.98it/s]\u001b[A\n",
      "90682it [00:02, 37909.61it/s]\u001b[A\n",
      "94474it [00:02, 37567.82it/s]\u001b[A\n",
      "98346it [00:02, 37300.63it/s]\u001b[A\n",
      " 10%|████████▊                                                                               | 10/100 [01:34<16:00, 10.67s/it]"
     ]
    },
    {
     "name": "stdout",
     "output_type": "stream",
     "text": [
      "stage two time 2.880186080932617\n",
      "greedy time 0.05797314643859863\n",
      "basis pursuit time 8.649482011795044\n",
      "Brute force complexity 3 from D=2 and nbp=3\n",
      "Computing brute force solution for dictionary dimension 3 and target_dimension 2\n"
     ]
    },
    {
     "name": "stderr",
     "output_type": "stream",
     "text": [
      "\n",
      "3it [00:00, 9118.05it/s]\n"
     ]
    },
    {
     "name": "stdout",
     "output_type": "stream",
     "text": [
      "Computing brute force solution for dictionary dimension 3 and target_dimension 2\n"
     ]
    },
    {
     "name": "stderr",
     "output_type": "stream",
     "text": [
      "\n",
      "3it [00:00, 9432.47it/s]\n",
      " 11%|█████████▋                                                                              | 11/100 [01:43<14:55, 10.07s/it]"
     ]
    },
    {
     "name": "stdout",
     "output_type": "stream",
     "text": [
      "stage two time 0.0031888484954833984\n",
      "greedy time 0.07926034927368164\n",
      "basis pursuit time 8.606125116348267\n",
      "Brute force complexity 35511 from D=2 and nbp=267\n",
      "Computing brute force solution for dictionary dimension 267 and target_dimension 2\n"
     ]
    },
    {
     "name": "stderr",
     "output_type": "stream",
     "text": [
      "\n",
      "0it [00:00, ?it/s]\u001b[A\n",
      "3162it [00:00, 31614.90it/s]\u001b[A\n",
      "6647it [00:00, 33512.06it/s]\u001b[A\n",
      "9999it [00:00, 32531.23it/s]\u001b[A\n",
      "13258it [00:00, 32551.23it/s]\u001b[A\n",
      "16516it [00:00, 32439.27it/s]\u001b[A\n",
      "19801it [00:00, 32575.52it/s]\u001b[A\n",
      "23060it [00:00, 32525.72it/s]\u001b[A\n",
      "26314it [00:00, 32167.70it/s]\u001b[A\n",
      "29672it [00:00, 32602.84it/s]\u001b[A\n",
      "35511it [00:01, 32685.29it/s]\u001b[A\n"
     ]
    },
    {
     "name": "stdout",
     "output_type": "stream",
     "text": [
      "Computing brute force solution for dictionary dimension 267 and target_dimension 2\n"
     ]
    },
    {
     "name": "stderr",
     "output_type": "stream",
     "text": [
      "\n",
      "0it [00:00, ?it/s]\u001b[A\n",
      "3811it [00:00, 38104.77it/s]\u001b[A\n",
      "7633it [00:00, 38167.11it/s]\u001b[A\n",
      "11450it [00:00, 36733.80it/s]\u001b[A\n",
      "15130it [00:00, 35391.87it/s]\u001b[A\n",
      "19124it [00:00, 36966.65it/s]\u001b[A\n",
      "22833it [00:00, 36381.84it/s]\u001b[A\n",
      "26480it [00:00, 35800.54it/s]\u001b[A\n",
      "30156it [00:00, 36096.09it/s]\u001b[A\n",
      "35511it [00:00, 36628.17it/s]\u001b[A\n",
      " 12%|██████████▌                                                                             | 12/100 [01:53<15:02, 10.25s/it]"
     ]
    },
    {
     "name": "stdout",
     "output_type": "stream",
     "text": [
      "stage two time 1.093045949935913\n",
      "greedy time 0.058850765228271484\n",
      "basis pursuit time 8.557171106338501\n",
      "Brute force complexity 97020 from D=2 and nbp=441\n",
      "Computing brute force solution for dictionary dimension 441 and target_dimension 2\n"
     ]
    },
    {
     "name": "stderr",
     "output_type": "stream",
     "text": [
      "\n",
      "0it [00:00, ?it/s]\u001b[A\n",
      "3079it [00:00, 30786.36it/s]\u001b[A\n",
      "6259it [00:00, 31379.22it/s]\u001b[A\n",
      "9451it [00:00, 31622.39it/s]\u001b[A\n",
      "12614it [00:00, 31250.97it/s]\u001b[A\n",
      "15740it [00:00, 30336.58it/s]\u001b[A\n",
      "18778it [00:00, 28355.95it/s]\u001b[A\n",
      "21675it [00:00, 28542.50it/s]\u001b[A\n",
      "24546it [00:00, 28335.19it/s]\u001b[A\n",
      "27506it [00:00, 28715.60it/s]\u001b[A\n",
      "30822it [00:01, 30052.09it/s]\u001b[A\n",
      "34143it [00:01, 31000.14it/s]\u001b[A\n",
      "37393it [00:01, 31447.39it/s]\u001b[A\n",
      "40617it [00:01, 31685.10it/s]\u001b[A\n",
      "43791it [00:01, 30998.16it/s]\u001b[A\n",
      "47039it [00:01, 31434.41it/s]\u001b[A\n",
      "50302it [00:01, 31788.38it/s]\u001b[A\n",
      "53513it [00:01, 31881.59it/s]\u001b[A\n",
      "56956it [00:01, 32639.58it/s]\u001b[A\n",
      "60327it [00:01, 32956.94it/s]\u001b[A\n",
      "63625it [00:02, 31965.31it/s]\u001b[A\n",
      "66964it [00:02, 32381.17it/s]\u001b[A\n",
      "70426it [00:02, 33041.58it/s]\u001b[A\n",
      "73736it [00:02, 32858.09it/s]\u001b[A\n",
      "77026it [00:02, 32689.77it/s]\u001b[A\n",
      "80507it [00:02, 33317.46it/s]\u001b[A\n",
      "84004it [00:02, 33805.84it/s]\u001b[A\n",
      "87488it [00:02, 34112.42it/s]\u001b[A\n",
      "91171it [00:02, 34921.47it/s]\u001b[A\n",
      "97020it [00:03, 31923.07it/s]\u001b[A\n"
     ]
    },
    {
     "name": "stdout",
     "output_type": "stream",
     "text": [
      "Computing brute force solution for dictionary dimension 441 and target_dimension 2\n"
     ]
    },
    {
     "name": "stderr",
     "output_type": "stream",
     "text": [
      "\n",
      "0it [00:00, ?it/s]\u001b[A\n",
      "4002it [00:00, 40017.65it/s]\u001b[A\n",
      "8004it [00:00, 39781.06it/s]\u001b[A\n",
      "11983it [00:00, 39563.32it/s]\u001b[A\n",
      "15940it [00:00, 37361.75it/s]\u001b[A\n",
      "19693it [00:00, 35993.63it/s]\u001b[A\n",
      "23307it [00:00, 35762.03it/s]\u001b[A\n",
      "27123it [00:00, 36513.18it/s]\u001b[A\n",
      "30784it [00:00, 36318.14it/s]\u001b[A\n",
      "34498it [00:00, 36567.78it/s]\u001b[A\n",
      "38161it [00:01, 36584.33it/s]\u001b[A\n",
      "42002it [00:01, 37134.15it/s]\u001b[A\n",
      "46125it [00:01, 38369.83it/s]\u001b[A\n",
      "49987it [00:01, 38444.51it/s]\u001b[A\n",
      "53834it [00:01, 37881.55it/s]\u001b[A\n",
      "57626it [00:01, 37843.48it/s]\u001b[A\n",
      "61491it [00:01, 38083.44it/s]\u001b[A\n",
      "65503it [00:01, 38690.87it/s]\u001b[A\n",
      "69521it [00:01, 39133.32it/s]\u001b[A\n",
      "73436it [00:01, 39031.19it/s]\u001b[A\n",
      "77341it [00:02, 38949.24it/s]\u001b[A\n",
      "81405it [00:02, 39453.33it/s]\u001b[A\n",
      "85362it [00:02, 39485.74it/s]\u001b[A\n",
      "89361it [00:02, 39634.45it/s]\u001b[A\n",
      "97020it [00:02, 38176.21it/s]\u001b[A\n",
      " 13%|███████████▍                                                                            | 13/100 [02:08<16:35, 11.44s/it]"
     ]
    },
    {
     "name": "stdout",
     "output_type": "stream",
     "text": [
      "stage two time 3.0532169342041016\n",
      "greedy time 0.07556819915771484\n",
      "basis pursuit time 8.4791259765625\n",
      "Brute force complexity 114960 from D=2 and nbp=480\n",
      "Computing brute force solution for dictionary dimension 480 and target_dimension 2\n"
     ]
    },
    {
     "name": "stderr",
     "output_type": "stream",
     "text": [
      "\n",
      "0it [00:00, ?it/s]\u001b[A\n",
      "3477it [00:00, 34765.47it/s]\u001b[A\n",
      "6954it [00:00, 34386.71it/s]\u001b[A\n",
      "10393it [00:00, 34259.32it/s]\u001b[A\n",
      "13820it [00:00, 32747.64it/s]\u001b[A\n",
      "17104it [00:00, 31040.60it/s]\u001b[A\n",
      "20511it [00:00, 32008.99it/s]\u001b[A\n",
      "24186it [00:00, 33497.59it/s]\u001b[A\n",
      "27553it [00:00, 33543.92it/s]\u001b[A\n",
      "31176it [00:00, 34366.74it/s]\u001b[A\n",
      "34789it [00:01, 34901.18it/s]\u001b[A\n",
      "38287it [00:01, 34921.16it/s]\u001b[A\n",
      "41785it [00:01, 34630.40it/s]\u001b[A\n",
      "45388it [00:01, 35047.10it/s]\u001b[A\n",
      "48896it [00:01, 34676.82it/s]\u001b[A\n",
      "52367it [00:01, 34151.58it/s]\u001b[A\n",
      "55786it [00:01, 32212.59it/s]\u001b[A\n",
      "59030it [00:01, 32084.18it/s]\u001b[A\n",
      "62546it [00:01, 32967.71it/s]\u001b[A\n",
      "66096it [00:01, 33703.09it/s]\u001b[A\n",
      "69590it [00:02, 34063.89it/s]\u001b[A\n",
      "73135it [00:02, 34472.53it/s]\u001b[A\n",
      "76590it [00:02, 34013.68it/s]\u001b[A\n",
      "79998it [00:02, 33954.82it/s]\u001b[A\n",
      "83614it [00:02, 34606.81it/s]\u001b[A\n",
      "87079it [00:02, 34561.92it/s]\u001b[A\n",
      "90538it [00:02, 34111.26it/s]\u001b[A\n",
      "93952it [00:02, 33946.60it/s]\u001b[A\n",
      "97349it [00:02, 33636.03it/s]\u001b[A\n",
      "100858it [00:02, 34064.31it/s]\u001b[A\n",
      "104267it [00:03, 33566.58it/s]\u001b[A\n",
      "107627it [00:03, 33253.68it/s]\u001b[A\n",
      "111024it [00:03, 33463.06it/s]\u001b[A\n",
      "114960it [00:03, 33780.10it/s]\u001b[A\n"
     ]
    },
    {
     "name": "stdout",
     "output_type": "stream",
     "text": [
      "Computing brute force solution for dictionary dimension 480 and target_dimension 2\n"
     ]
    },
    {
     "name": "stderr",
     "output_type": "stream",
     "text": [
      "\n",
      "0it [00:00, ?it/s]\u001b[A\n",
      "3276it [00:00, 32751.83it/s]\u001b[A\n",
      "6614it [00:00, 33119.93it/s]\u001b[A\n",
      "10145it [00:00, 34108.20it/s]\u001b[A\n",
      "13556it [00:00, 34074.33it/s]\u001b[A\n",
      "16964it [00:00, 33421.77it/s]\u001b[A\n",
      "20309it [00:00, 32501.82it/s]\u001b[A\n",
      "23685it [00:00, 32899.64it/s]\u001b[A\n",
      "27274it [00:00, 33831.80it/s]\u001b[A\n",
      "30759it [00:00, 34144.81it/s]\u001b[A\n",
      "34178it [00:01, 33719.37it/s]\u001b[A\n",
      "37554it [00:01, 32825.60it/s]\u001b[A\n",
      "40843it [00:01, 32423.59it/s]\u001b[A\n",
      "44090it [00:01, 32238.85it/s]\u001b[A\n",
      "48004it [00:01, 34268.58it/s]\u001b[A\n",
      "51735it [00:01, 35167.04it/s]\u001b[A\n",
      "55363it [00:01, 35497.35it/s]\u001b[A\n",
      "59012it [00:01, 35792.49it/s]\u001b[A\n",
      "62596it [00:01, 35364.18it/s]\u001b[A\n",
      "66505it [00:01, 36466.53it/s]\u001b[A\n",
      "70156it [00:02, 35132.17it/s]\u001b[A\n",
      "73774it [00:02, 35435.36it/s]\u001b[A\n",
      "77328it [00:02, 35350.91it/s]\u001b[A\n",
      "81221it [00:02, 36404.91it/s]\u001b[A\n",
      "84869it [00:02, 36070.00it/s]\u001b[A\n",
      "88783it [00:02, 36974.11it/s]\u001b[A\n",
      "92486it [00:02, 35968.51it/s]\u001b[A\n",
      "96252it [00:02, 36461.67it/s]\u001b[A\n",
      "99906it [00:02, 33929.32it/s]\u001b[A\n",
      "103337it [00:02, 33869.83it/s]\u001b[A\n",
      "107091it [00:03, 34915.24it/s]\u001b[A\n",
      "110779it [00:03, 35482.18it/s]\u001b[A\n",
      "114960it [00:03, 34749.76it/s]\u001b[A\n",
      " 14%|████████████▎                                                                           | 14/100 [02:23<17:58, 12.54s/it]"
     ]
    },
    {
     "name": "stdout",
     "output_type": "stream",
     "text": [
      "stage two time 3.421902894973755\n",
      "greedy time 0.07468581199645996\n",
      "basis pursuit time 8.250445127487183\n",
      "Brute force complexity 3 from D=2 and nbp=3\n",
      "Computing brute force solution for dictionary dimension 3 and target_dimension 2\n"
     ]
    },
    {
     "name": "stderr",
     "output_type": "stream",
     "text": [
      "\n",
      "3it [00:00, 7302.91it/s]\n"
     ]
    },
    {
     "name": "stdout",
     "output_type": "stream",
     "text": [
      "Computing brute force solution for dictionary dimension 3 and target_dimension 2\n"
     ]
    },
    {
     "name": "stderr",
     "output_type": "stream",
     "text": [
      "\n",
      "3it [00:00, 10989.44it/s]\n",
      " 15%|█████████████▏                                                                          | 15/100 [02:32<16:16, 11.49s/it]"
     ]
    },
    {
     "name": "stdout",
     "output_type": "stream",
     "text": [
      "stage two time 0.0035598278045654297\n",
      "greedy time 0.0850071907043457\n",
      "basis pursuit time 8.969069004058838\n",
      "Brute force complexity 3 from D=2 and nbp=3\n",
      "Computing brute force solution for dictionary dimension 3 and target_dimension 2\n"
     ]
    },
    {
     "name": "stderr",
     "output_type": "stream",
     "text": [
      "\n",
      "3it [00:00, 11629.31it/s]\n"
     ]
    },
    {
     "name": "stdout",
     "output_type": "stream",
     "text": [
      "Computing brute force solution for dictionary dimension 3 and target_dimension 2\n"
     ]
    },
    {
     "name": "stderr",
     "output_type": "stream",
     "text": [
      "\n",
      "3it [00:00, 6710.89it/s]\n",
      " 16%|██████████████                                                                          | 16/100 [02:40<14:53, 10.63s/it]"
     ]
    },
    {
     "name": "stdout",
     "output_type": "stream",
     "text": [
      "stage two time 0.002960205078125\n",
      "greedy time 0.06409597396850586\n",
      "basis pursuit time 8.566082954406738\n",
      "Brute force complexity 3 from D=2 and nbp=3\n",
      "Computing brute force solution for dictionary dimension 3 and target_dimension 2\n"
     ]
    },
    {
     "name": "stderr",
     "output_type": "stream",
     "text": [
      "\n",
      "3it [00:00, 11859.48it/s]\n"
     ]
    },
    {
     "name": "stdout",
     "output_type": "stream",
     "text": [
      "Computing brute force solution for dictionary dimension 3 and target_dimension 2\n"
     ]
    },
    {
     "name": "stderr",
     "output_type": "stream",
     "text": [
      "\n",
      "3it [00:00, 6291.46it/s]\n",
      " 17%|██████████████▉                                                                         | 17/100 [02:49<14:03, 10.17s/it]"
     ]
    },
    {
     "name": "stdout",
     "output_type": "stream",
     "text": [
      "stage two time 0.003326892852783203\n",
      "greedy time 0.06468510627746582\n",
      "basis pursuit time 9.014848947525024\n",
      "Brute force complexity 3 from D=2 and nbp=3\n",
      "Computing brute force solution for dictionary dimension 3 and target_dimension 2\n"
     ]
    },
    {
     "name": "stderr",
     "output_type": "stream",
     "text": [
      "\n",
      "3it [00:00, 12879.13it/s]\n"
     ]
    },
    {
     "name": "stdout",
     "output_type": "stream",
     "text": [
      "Computing brute force solution for dictionary dimension 3 and target_dimension 2\n"
     ]
    },
    {
     "name": "stderr",
     "output_type": "stream",
     "text": [
      "\n",
      "3it [00:00, 8793.09it/s]\n",
      " 18%|███████████████▊                                                                        | 18/100 [02:58<13:19,  9.74s/it]"
     ]
    },
    {
     "name": "stdout",
     "output_type": "stream",
     "text": [
      "stage two time 0.003094911575317383\n",
      "greedy time 0.061045169830322266\n",
      "basis pursuit time 8.687893867492676\n",
      "Brute force complexity 90525 from D=2 and nbp=426\n",
      "Computing brute force solution for dictionary dimension 426 and target_dimension 2\n"
     ]
    },
    {
     "name": "stderr",
     "output_type": "stream",
     "text": [
      "\n",
      "0it [00:00, ?it/s]\u001b[A\n",
      "3572it [00:00, 35711.09it/s]\u001b[A\n",
      "7144it [00:00, 34215.96it/s]\u001b[A\n",
      "10570it [00:00, 33602.47it/s]\u001b[A\n",
      "13955it [00:00, 33696.39it/s]\u001b[A\n",
      "17327it [00:00, 31281.87it/s]\u001b[A\n",
      "20481it [00:00, 30626.25it/s]\u001b[A\n",
      "23560it [00:00, 29324.68it/s]\u001b[A\n",
      "26508it [00:00, 28602.42it/s]\u001b[A\n",
      "29579it [00:00, 29215.64it/s]\u001b[A\n",
      "32731it [00:01, 29891.85it/s]\u001b[A\n",
      "35814it [00:01, 30168.01it/s]\u001b[A\n",
      "39095it [00:01, 30952.22it/s]\u001b[A\n",
      "42401it [00:01, 31579.33it/s]\u001b[A\n",
      "45566it [00:01, 31547.95it/s]\u001b[A\n",
      "48855it [00:01, 31946.79it/s]\u001b[A\n",
      "52212it [00:01, 32429.89it/s]\u001b[A\n",
      "55647it [00:01, 33003.24it/s]\u001b[A\n",
      "58950it [00:01, 32787.45it/s]\u001b[A\n",
      "62231it [00:01, 32658.32it/s]\u001b[A\n",
      "65572it [00:02, 32881.27it/s]\u001b[A\n",
      "69125it [00:02, 33667.82it/s]\u001b[A\n",
      "72493it [00:02, 32658.97it/s]\u001b[A\n",
      "75883it [00:02, 33020.23it/s]\u001b[A\n",
      "79191it [00:02, 28964.01it/s]\u001b[A\n",
      "82179it [00:02, 28056.08it/s]\u001b[A\n",
      "85056it [00:02, 28248.26it/s]\u001b[A\n",
      "90525it [00:02, 31213.39it/s]\u001b[A\n"
     ]
    },
    {
     "name": "stdout",
     "output_type": "stream",
     "text": [
      "Computing brute force solution for dictionary dimension 426 and target_dimension 2\n"
     ]
    },
    {
     "name": "stderr",
     "output_type": "stream",
     "text": [
      "\n",
      "0it [00:00, ?it/s]\u001b[A\n",
      "3763it [00:00, 37621.69it/s]\u001b[A\n",
      "7526it [00:00, 36684.51it/s]\u001b[A\n",
      "11197it [00:00, 34122.36it/s]\u001b[A\n",
      "14889it [00:00, 35168.60it/s]\u001b[A\n",
      "18707it [00:00, 36215.98it/s]\u001b[A\n",
      "22343it [00:00, 35560.24it/s]\u001b[A\n",
      "25910it [00:00, 34244.44it/s]\u001b[A\n",
      "29761it [00:00, 35537.99it/s]\u001b[A\n",
      "33398it [00:00, 35788.74it/s]\u001b[A\n",
      "36989it [00:01, 35335.21it/s]\u001b[A\n",
      "40531it [00:01, 35297.61it/s]\u001b[A\n",
      "44208it [00:01, 35735.58it/s]\u001b[A\n",
      "47787it [00:01, 35019.62it/s]\u001b[A\n",
      "51295it [00:01, 34378.54it/s]\u001b[A\n",
      "54739it [00:01, 32961.24it/s]\u001b[A\n",
      "58048it [00:01, 32366.80it/s]\u001b[A\n",
      "61294it [00:01, 32155.42it/s]\u001b[A\n",
      "64515it [00:01, 32110.20it/s]\u001b[A\n",
      "67850it [00:01, 32470.85it/s]\u001b[A\n",
      "71101it [00:02, 32233.69it/s]\u001b[A\n",
      "74327it [00:02, 31843.59it/s]\u001b[A\n",
      "77623it [00:02, 32170.42it/s]\u001b[A\n",
      "81275it [00:02, 33454.00it/s]\u001b[A\n",
      "84984it [00:02, 34531.01it/s]\u001b[A\n",
      "90525it [00:02, 34295.53it/s]\u001b[A\n",
      " 19%|████████████████▋                                                                       | 19/100 [03:12<14:55, 11.05s/it]"
     ]
    },
    {
     "name": "stdout",
     "output_type": "stream",
     "text": [
      "stage two time 2.9153268337249756\n",
      "greedy time 0.06260991096496582\n",
      "basis pursuit time 8.471195936203003\n",
      "Brute force complexity 3 from D=2 and nbp=3\n",
      "Computing brute force solution for dictionary dimension 3 and target_dimension 2\n"
     ]
    },
    {
     "name": "stderr",
     "output_type": "stream",
     "text": [
      "\n",
      "3it [00:00, 14347.68it/s]\n"
     ]
    },
    {
     "name": "stdout",
     "output_type": "stream",
     "text": [
      "Computing brute force solution for dictionary dimension 3 and target_dimension 2\n"
     ]
    },
    {
     "name": "stderr",
     "output_type": "stream",
     "text": [
      "\n",
      "3it [00:00, 6380.79it/s]\n",
      " 20%|█████████████████▌                                                                      | 20/100 [03:21<13:42, 10.29s/it]"
     ]
    },
    {
     "name": "stdout",
     "output_type": "stream",
     "text": [
      "stage two time 0.0036759376525878906\n",
      "greedy time 0.08647608757019043\n",
      "basis pursuit time 8.39612603187561\n",
      "Brute force complexity 3 from D=2 and nbp=3\n",
      "Computing brute force solution for dictionary dimension 3 and target_dimension 2\n"
     ]
    },
    {
     "name": "stderr",
     "output_type": "stream",
     "text": [
      "\n",
      "3it [00:00, 13025.79it/s]\n"
     ]
    },
    {
     "name": "stdout",
     "output_type": "stream",
     "text": [
      "Computing brute force solution for dictionary dimension 3 and target_dimension 2\n"
     ]
    },
    {
     "name": "stderr",
     "output_type": "stream",
     "text": [
      "\n",
      "3it [00:00, 5535.82it/s]\n",
      " 21%|██████████████████▍                                                                     | 21/100 [03:29<12:45,  9.68s/it]"
     ]
    },
    {
     "name": "stdout",
     "output_type": "stream",
     "text": [
      "stage two time 0.003390073776245117\n",
      "greedy time 0.06350111961364746\n",
      "basis pursuit time 8.21018385887146\n",
      "Brute force complexity 10585 from D=2 and nbp=146\n",
      "Computing brute force solution for dictionary dimension 146 and target_dimension 2\n"
     ]
    },
    {
     "name": "stderr",
     "output_type": "stream",
     "text": [
      "\n",
      "0it [00:00, ?it/s]\u001b[A\n",
      "3004it [00:00, 30027.36it/s]\u001b[A\n",
      "6007it [00:00, 28295.31it/s]\u001b[A\n",
      "10585it [00:00, 27824.08it/s][A\n"
     ]
    },
    {
     "name": "stdout",
     "output_type": "stream",
     "text": [
      "Computing brute force solution for dictionary dimension 146 and target_dimension 2\n"
     ]
    },
    {
     "name": "stderr",
     "output_type": "stream",
     "text": [
      "\n",
      "0it [00:00, ?it/s]\u001b[A\n",
      "2828it [00:00, 28275.44it/s]\u001b[A\n",
      "6329it [00:00, 32235.21it/s]\u001b[A\n",
      "10585it [00:00, 31053.34it/s][A\n",
      " 22%|███████████████████▎                                                                    | 22/100 [03:38<12:22,  9.52s/it]"
     ]
    },
    {
     "name": "stdout",
     "output_type": "stream",
     "text": [
      "stage two time 0.38820576667785645\n",
      "greedy time 0.056569814682006836\n",
      "basis pursuit time 8.350782871246338\n",
      "Brute force complexity 3 from D=2 and nbp=3\n",
      "Computing brute force solution for dictionary dimension 3 and target_dimension 2\n"
     ]
    },
    {
     "name": "stderr",
     "output_type": "stream",
     "text": [
      "\n",
      "3it [00:00, 15630.95it/s]\n"
     ]
    },
    {
     "name": "stdout",
     "output_type": "stream",
     "text": [
      "Computing brute force solution for dictionary dimension 3 and target_dimension 2\n"
     ]
    },
    {
     "name": "stderr",
     "output_type": "stream",
     "text": [
      "\n",
      "3it [00:00, 7332.70it/s]\n",
      " 23%|████████████████████▏                                                                   | 23/100 [03:47<11:44,  9.14s/it]"
     ]
    },
    {
     "name": "stdout",
     "output_type": "stream",
     "text": [
      "stage two time 0.003226041793823242\n",
      "greedy time 0.07671713829040527\n",
      "basis pursuit time 8.17729115486145\n",
      "Brute force complexity 1 from D=2 and nbp=2\n",
      "Computing brute force solution for dictionary dimension 2 and target_dimension 2\n"
     ]
    },
    {
     "name": "stderr",
     "output_type": "stream",
     "text": [
      "\n",
      "1it [00:00, 2770.35it/s]\n"
     ]
    },
    {
     "name": "stdout",
     "output_type": "stream",
     "text": [
      "Computing brute force solution for dictionary dimension 2 and target_dimension 2\n"
     ]
    },
    {
     "name": "stderr",
     "output_type": "stream",
     "text": [
      "\n",
      "1it [00:00, 5262.61it/s]\n",
      " 24%|█████████████████████                                                                   | 24/100 [03:55<11:27,  9.05s/it]"
     ]
    },
    {
     "name": "stdout",
     "output_type": "stream",
     "text": [
      "stage two time 0.0033750534057617188\n",
      "greedy time 0.06144905090332031\n",
      "basis pursuit time 8.758332252502441\n",
      "Brute force complexity 85905 from D=2 and nbp=415\n",
      "Computing brute force solution for dictionary dimension 415 and target_dimension 2\n"
     ]
    },
    {
     "name": "stderr",
     "output_type": "stream",
     "text": [
      "\n",
      "0it [00:00, ?it/s]\u001b[A\n",
      "3194it [00:00, 31931.43it/s]\u001b[A\n",
      "6499it [00:00, 32580.49it/s]\u001b[A\n",
      "9758it [00:00, 32278.17it/s]\u001b[A\n",
      "12987it [00:00, 31478.01it/s]\u001b[A\n",
      "16138it [00:00, 30025.07it/s]\u001b[A\n",
      "19151it [00:00, 29215.17it/s]\u001b[A\n",
      "22273it [00:00, 29837.24it/s]\u001b[A\n",
      "25266it [00:01, 15305.78it/s]\u001b[A\n",
      "28243it [00:01, 17963.16it/s]\u001b[A\n",
      "31553it [00:01, 21109.90it/s]\u001b[A\n",
      "34971it [00:01, 24102.31it/s]\u001b[A\n",
      "37922it [00:01, 25344.90it/s]\u001b[A\n",
      "40860it [00:01, 26098.23it/s]\u001b[A\n",
      "43894it [00:01, 27236.22it/s]\u001b[A\n",
      "46835it [00:01, 27470.29it/s]\u001b[A\n",
      "49736it [00:01, 27614.03it/s]\u001b[A\n",
      "52605it [00:02, 27772.20it/s]\u001b[A\n",
      "55514it [00:02, 28149.84it/s]\u001b[A\n",
      "58738it [00:02, 29340.26it/s]\u001b[A\n",
      "61972it [00:02, 30219.85it/s]\u001b[A\n",
      "65381it [00:02, 31362.23it/s]\u001b[A\n",
      "68725it [00:02, 31977.79it/s]\u001b[A\n",
      "72115it [00:02, 32548.34it/s]\u001b[A\n",
      "75593it [00:02, 33212.83it/s]\u001b[A\n",
      "79031it [00:02, 33561.34it/s]\u001b[A\n",
      "85905it [00:03, 28095.21it/s]\u001b[A\n"
     ]
    },
    {
     "name": "stdout",
     "output_type": "stream",
     "text": [
      "Computing brute force solution for dictionary dimension 415 and target_dimension 2\n"
     ]
    },
    {
     "name": "stderr",
     "output_type": "stream",
     "text": [
      "\n",
      "0it [00:00, ?it/s]\u001b[A\n",
      "2452it [00:00, 24514.35it/s]\u001b[A\n",
      "5633it [00:00, 28800.71it/s]\u001b[A\n",
      "8795it [00:00, 30085.40it/s]\u001b[A\n",
      "12537it [00:00, 32977.25it/s]\u001b[A\n",
      "15835it [00:00, 31774.86it/s]\u001b[A\n",
      "19401it [00:00, 33061.28it/s]\u001b[A\n",
      "23168it [00:00, 34542.10it/s]\u001b[A\n",
      "27139it [00:00, 36167.81it/s]\u001b[A\n",
      "30764it [00:00, 34115.05it/s]\u001b[A\n",
      "34508it [00:01, 35093.09it/s]\u001b[A\n",
      "38056it [00:01, 35202.38it/s]\u001b[A\n",
      "41593it [00:01, 33612.06it/s]\u001b[A\n",
      "45409it [00:01, 34920.57it/s]\u001b[A\n",
      "49146it [00:01, 35633.59it/s]\u001b[A\n",
      "52874it [00:01, 36115.16it/s]\u001b[A\n",
      "56695it [00:01, 36734.31it/s]\u001b[A\n",
      "60380it [00:01, 34477.75it/s]\u001b[A\n",
      "63863it [00:01, 34348.64it/s]\u001b[A\n",
      "67689it [00:01, 35471.80it/s]\u001b[A\n",
      "71536it [00:02, 36344.09it/s]\u001b[A\n",
      "75479it [00:02, 37244.33it/s]\u001b[A\n",
      "79218it [00:02, 35498.83it/s]\u001b[A\n",
      "85905it [00:02, 34950.34it/s]\u001b[A\n",
      " 25%|██████████████████████                                                                  | 25/100 [04:10<13:15, 10.61s/it]"
     ]
    },
    {
     "name": "stdout",
     "output_type": "stream",
     "text": [
      "stage two time 3.079465866088867\n",
      "greedy time 0.05858421325683594\n",
      "basis pursuit time 8.644935369491577\n",
      "Brute force complexity 1 from D=2 and nbp=2\n",
      "Computing brute force solution for dictionary dimension 2 and target_dimension 2\n"
     ]
    },
    {
     "name": "stderr",
     "output_type": "stream",
     "text": [
      "\n",
      "1it [00:00, 1418.43it/s]\n"
     ]
    },
    {
     "name": "stdout",
     "output_type": "stream",
     "text": [
      "Computing brute force solution for dictionary dimension 2 and target_dimension 2\n"
     ]
    },
    {
     "name": "stderr",
     "output_type": "stream",
     "text": [
      "\n",
      "1it [00:00, 2898.62it/s]\n",
      " 26%|██████████████████████▉                                                                 | 26/100 [04:18<12:24, 10.06s/it]"
     ]
    },
    {
     "name": "stdout",
     "output_type": "stream",
     "text": [
      "stage two time 0.004540920257568359\n",
      "greedy time 0.07609796524047852\n",
      "basis pursuit time 8.699290037155151\n",
      "Brute force complexity 84666 from D=2 and nbp=412\n",
      "Computing brute force solution for dictionary dimension 412 and target_dimension 2\n"
     ]
    },
    {
     "name": "stderr",
     "output_type": "stream",
     "text": [
      "\n",
      "0it [00:00, ?it/s]\u001b[A\n",
      "3343it [00:00, 33420.63it/s]\u001b[A\n",
      "6720it [00:00, 33621.37it/s]\u001b[A\n",
      "10240it [00:00, 34341.67it/s]\u001b[A\n",
      "13716it [00:00, 34504.06it/s]\u001b[A\n",
      "17194it [00:00, 34602.32it/s]\u001b[A\n",
      "20731it [00:00, 34860.69it/s]\u001b[A\n",
      "24242it [00:00, 34939.09it/s]\u001b[A\n",
      "27754it [00:00, 34993.79it/s]\u001b[A\n",
      "31320it [00:00, 35199.73it/s]\u001b[A\n",
      "34884it [00:01, 35333.87it/s]\u001b[A\n",
      "38530it [00:01, 35675.21it/s]\u001b[A\n",
      "42156it [00:01, 35852.41it/s]\u001b[A\n",
      "45742it [00:01, 34988.82it/s]\u001b[A\n",
      "49246it [00:01, 34324.88it/s]\u001b[A\n",
      "52684it [00:01, 33752.76it/s]\u001b[A\n",
      "56109it [00:01, 33896.45it/s]\u001b[A\n",
      "59503it [00:01, 31926.95it/s]\u001b[A\n",
      "62719it [00:01, 30945.84it/s]\u001b[A\n",
      "65832it [00:01, 30470.90it/s]\u001b[A\n",
      "69022it [00:02, 30874.27it/s]\u001b[A\n",
      "72251it [00:02, 31281.20it/s]\u001b[A\n",
      "75389it [00:02, 29982.77it/s]\u001b[A\n",
      "78403it [00:02, 29539.14it/s]\u001b[A\n",
      "81367it [00:02, 29300.42it/s]\u001b[A\n",
      "84666it [00:02, 32694.46it/s]\u001b[A\n"
     ]
    },
    {
     "name": "stdout",
     "output_type": "stream",
     "text": [
      "Computing brute force solution for dictionary dimension 412 and target_dimension 2\n"
     ]
    },
    {
     "name": "stderr",
     "output_type": "stream",
     "text": [
      "\n",
      "0it [00:00, ?it/s]\u001b[A\n",
      "3877it [00:00, 38761.17it/s]\u001b[A\n",
      "7754it [00:00, 37276.72it/s]\u001b[A\n",
      "11486it [00:00, 35892.87it/s]\u001b[A\n",
      "15081it [00:00, 34806.69it/s]\u001b[A\n",
      "18567it [00:00, 33292.75it/s]\u001b[A\n",
      "22013it [00:00, 33664.16it/s]\u001b[A\n",
      "25388it [00:00, 33643.48it/s]\u001b[A\n",
      "28758it [00:00, 32923.26it/s]\u001b[A\n",
      "32164it [00:00, 33264.17it/s]\u001b[A\n",
      "35495it [00:01, 32935.11it/s]\u001b[A\n",
      "38863it [00:01, 33154.82it/s]\u001b[A\n",
      "42182it [00:01, 33022.73it/s]\u001b[A\n",
      "45487it [00:01, 32702.86it/s]\u001b[A\n",
      "48872it [00:01, 33035.48it/s]\u001b[A\n",
      "52314it [00:01, 33444.29it/s]\u001b[A\n",
      "56001it [00:01, 34459.31it/s]\u001b[A\n",
      "59691it [00:01, 35186.86it/s]\u001b[A\n",
      "63212it [00:01, 34945.62it/s]\u001b[A\n",
      "66832it [00:01, 35317.41it/s]\u001b[A\n",
      "70366it [00:02, 35317.23it/s]\u001b[A\n",
      "74050it [00:02, 35769.77it/s]\u001b[A\n",
      "77778it [00:02, 36219.86it/s]\u001b[A\n",
      "84666it [00:02, 34837.66it/s]\u001b[A\n",
      " 27%|███████████████████████▊                                                                | 27/100 [04:32<13:35, 11.17s/it]"
     ]
    },
    {
     "name": "stdout",
     "output_type": "stream",
     "text": [
      "stage two time 2.60418701171875\n",
      "greedy time 0.07076716423034668\n",
      "basis pursuit time 8.614151954650879\n",
      "Brute force complexity 3 from D=2 and nbp=3\n",
      "Computing brute force solution for dictionary dimension 3 and target_dimension 2\n"
     ]
    },
    {
     "name": "stderr",
     "output_type": "stream",
     "text": [
      "\n",
      "3it [00:00, 15947.92it/s]\n"
     ]
    },
    {
     "name": "stdout",
     "output_type": "stream",
     "text": [
      "Computing brute force solution for dictionary dimension 3 and target_dimension 2\n"
     ]
    },
    {
     "name": "stderr",
     "output_type": "stream",
     "text": [
      "\n",
      "3it [00:00, 5154.82it/s]\n",
      " 28%|████████████████████████▋                                                               | 28/100 [04:41<12:32, 10.45s/it]"
     ]
    },
    {
     "name": "stdout",
     "output_type": "stream",
     "text": [
      "stage two time 0.0027761459350585938\n",
      "greedy time 0.08118200302124023\n",
      "basis pursuit time 8.683396816253662\n",
      "Brute force complexity 69006 from D=2 and nbp=372\n",
      "Computing brute force solution for dictionary dimension 372 and target_dimension 2\n"
     ]
    },
    {
     "name": "stderr",
     "output_type": "stream",
     "text": [
      "\n",
      "0it [00:00, ?it/s]\u001b[A\n",
      "3270it [00:00, 32693.48it/s]\u001b[A\n",
      "6540it [00:00, 32252.64it/s]\u001b[A\n",
      "9786it [00:00, 32342.79it/s]\u001b[A\n",
      "13021it [00:00, 32181.61it/s]\u001b[A\n",
      "16240it [00:00, 31792.54it/s]\u001b[A\n",
      "19602it [00:00, 32405.66it/s]\u001b[A\n",
      "22881it [00:00, 32527.24it/s]\u001b[A\n",
      "26274it [00:00, 32969.17it/s]\u001b[A\n",
      "29816it [00:00, 33729.26it/s]\u001b[A\n",
      "33444it [00:01, 34513.67it/s]\u001b[A\n",
      "37004it [00:01, 34843.59it/s]\u001b[A\n",
      "40558it [00:01, 35054.93it/s]\u001b[A\n",
      "44064it [00:01, 34545.98it/s]\u001b[A\n",
      "47521it [00:01, 33471.57it/s]\u001b[A\n",
      "50876it [00:01, 33174.67it/s]\u001b[A\n",
      "54199it [00:01, 32314.28it/s]\u001b[A\n",
      "57559it [00:01, 32684.70it/s]\u001b[A\n",
      "60834it [00:01, 32336.12it/s]\u001b[A\n",
      "64072it [00:01, 31790.78it/s]\u001b[A\n",
      "69006it [00:02, 32841.61it/s]\u001b[A\n"
     ]
    },
    {
     "name": "stdout",
     "output_type": "stream",
     "text": [
      "Computing brute force solution for dictionary dimension 372 and target_dimension 2\n"
     ]
    },
    {
     "name": "stderr",
     "output_type": "stream",
     "text": [
      "\n",
      "0it [00:00, ?it/s]\u001b[A\n",
      "3330it [00:00, 33292.01it/s]\u001b[A\n",
      "6954it [00:00, 35021.45it/s]\u001b[A\n",
      "10513it [00:00, 35279.74it/s]\u001b[A\n",
      "14041it [00:00, 34830.14it/s]\u001b[A\n",
      "17525it [00:00, 32872.06it/s]\u001b[A\n",
      "20832it [00:00, 32935.05it/s]\u001b[A\n",
      "24198it [00:00, 33163.35it/s]\u001b[A\n",
      "27565it [00:00, 33318.55it/s]\u001b[A\n",
      "30903it [00:00, 33186.33it/s]\u001b[A\n",
      "34226it [00:01, 31872.89it/s]\u001b[A\n",
      "37495it [00:01, 32111.57it/s]\u001b[A\n",
      "40909it [00:01, 32710.91it/s]\u001b[A\n",
      "44581it [00:01, 33902.64it/s]\u001b[A\n",
      "48401it [00:01, 35181.09it/s]\u001b[A\n",
      "51927it [00:01, 33099.98it/s]\u001b[A\n",
      "55433it [00:01, 33657.72it/s]\u001b[A\n",
      "58822it [00:01, 32063.42it/s]\u001b[A\n",
      "62057it [00:01, 31976.64it/s]\u001b[A\n",
      "65274it [00:01, 31255.98it/s]\u001b[A\n",
      "69006it [00:02, 32753.88it/s]\u001b[A\n",
      " 29%|█████████████████████████▌                                                              | 29/100 [04:54<13:14, 11.20s/it]"
     ]
    },
    {
     "name": "stdout",
     "output_type": "stream",
     "text": [
      "stage two time 2.1142818927764893\n",
      "greedy time 0.0588841438293457\n",
      "basis pursuit time 8.639549016952515\n",
      "Brute force complexity 1 from D=2 and nbp=2\n",
      "Computing brute force solution for dictionary dimension 2 and target_dimension 2\n"
     ]
    },
    {
     "name": "stderr",
     "output_type": "stream",
     "text": [
      "\n",
      "1it [00:00, 8272.79it/s]\n"
     ]
    },
    {
     "name": "stdout",
     "output_type": "stream",
     "text": [
      "Computing brute force solution for dictionary dimension 2 and target_dimension 2\n"
     ]
    },
    {
     "name": "stderr",
     "output_type": "stream",
     "text": [
      "\n",
      "1it [00:00, 2993.79it/s]\n",
      " 30%|██████████████████████████▍                                                             | 30/100 [05:03<12:15, 10.51s/it]"
     ]
    },
    {
     "name": "stdout",
     "output_type": "stream",
     "text": [
      "stage two time 0.003042936325073242\n",
      "greedy time 0.09614396095275879\n",
      "basis pursuit time 8.807920217514038\n",
      "Brute force complexity 3 from D=2 and nbp=3\n",
      "Computing brute force solution for dictionary dimension 3 and target_dimension 2\n"
     ]
    },
    {
     "name": "stderr",
     "output_type": "stream",
     "text": [
      "\n",
      "3it [00:00, 4629.47it/s]\n"
     ]
    },
    {
     "name": "stdout",
     "output_type": "stream",
     "text": [
      "Computing brute force solution for dictionary dimension 3 and target_dimension 2\n"
     ]
    },
    {
     "name": "stderr",
     "output_type": "stream",
     "text": [
      "\n",
      "3it [00:00, 5077.85it/s]\n",
      " 31%|███████████████████████████▎                                                            | 31/100 [05:11<11:26,  9.96s/it]"
     ]
    },
    {
     "name": "stdout",
     "output_type": "stream",
     "text": [
      "stage two time 0.004873991012573242\n",
      "greedy time 0.058541059494018555\n",
      "basis pursuit time 8.589380025863647\n",
      "Brute force complexity 81810 from D=2 and nbp=405\n",
      "Computing brute force solution for dictionary dimension 405 and target_dimension 2\n"
     ]
    },
    {
     "name": "stderr",
     "output_type": "stream",
     "text": [
      "\n",
      "0it [00:00, ?it/s]\u001b[A\n",
      "3476it [00:00, 34754.15it/s]\u001b[A\n",
      "6972it [00:00, 34869.53it/s]\u001b[A\n",
      "10459it [00:00, 34289.35it/s]\u001b[A\n",
      "13890it [00:00, 34170.19it/s]\u001b[A\n",
      "17308it [00:00, 32695.98it/s]\u001b[A\n",
      "20588it [00:00, 32619.87it/s]\u001b[A\n",
      "23918it [00:00, 32834.77it/s]\u001b[A\n",
      "27522it [00:00, 33834.63it/s]\u001b[A\n",
      "31189it [00:00, 34708.53it/s]\u001b[A\n",
      "34757it [00:01, 35005.51it/s]\u001b[A\n",
      "38261it [00:01, 34923.38it/s]\u001b[A\n",
      "41756it [00:01, 34190.47it/s]\u001b[A\n",
      "45288it [00:01, 34524.30it/s]\u001b[A\n",
      "48776it [00:01, 34625.54it/s]\u001b[A\n",
      "52378it [00:01, 35038.52it/s]\u001b[A\n",
      "55885it [00:01, 33075.23it/s]\u001b[A\n",
      "59216it [00:01, 33096.17it/s]\u001b[A\n",
      "62543it [00:01, 33087.64it/s]\u001b[A\n",
      "65870it [00:01, 33134.56it/s]\u001b[A\n",
      "69192it [00:02, 31592.54it/s]\u001b[A\n",
      "72755it [00:02, 32747.98it/s]\u001b[A\n",
      "76312it [00:02, 33566.24it/s]\u001b[A\n",
      "81810it [00:02, 33480.42it/s]\u001b[A\n"
     ]
    },
    {
     "name": "stdout",
     "output_type": "stream",
     "text": [
      "Computing brute force solution for dictionary dimension 405 and target_dimension 2\n"
     ]
    },
    {
     "name": "stderr",
     "output_type": "stream",
     "text": [
      "\n",
      "0it [00:00, ?it/s]\u001b[A\n",
      "3120it [00:00, 31194.01it/s]\u001b[A\n",
      "6240it [00:00, 31100.20it/s]\u001b[A\n",
      "9466it [00:00, 31606.42it/s]\u001b[A\n",
      "12984it [00:00, 33013.29it/s]\u001b[A\n",
      "16702it [00:00, 34513.74it/s]\u001b[A\n",
      "20154it [00:00, 33359.93it/s]\u001b[A\n",
      "23498it [00:00, 32273.21it/s]\u001b[A\n",
      "26735it [00:00, 31479.74it/s]\u001b[A\n",
      "30088it [00:00, 32090.75it/s]\u001b[A\n",
      "33306it [00:01, 31212.65it/s]\u001b[A\n",
      "36436it [00:01, 31086.64it/s]\u001b[A\n",
      "39856it [00:01, 32002.50it/s]\u001b[A\n",
      "43602it [00:01, 33615.66it/s]\u001b[A\n",
      "47285it [00:01, 34569.17it/s]\u001b[A\n",
      "50901it [00:01, 35041.41it/s]\u001b[A\n",
      "54411it [00:01, 34774.41it/s]\u001b[A\n",
      "58166it [00:01, 35597.19it/s]\u001b[A\n",
      "61970it [00:01, 36314.66it/s]\u001b[A\n",
      "65605it [00:01, 35425.88it/s]\u001b[A\n",
      "69155it [00:02, 35055.84it/s]\u001b[A\n",
      "72912it [00:02, 35792.78it/s]\u001b[A\n",
      "76716it [00:02, 36453.54it/s]\u001b[A\n",
      "81810it [00:02, 34008.78it/s]\u001b[A\n",
      " 32%|████████████████████████████▏                                                           | 32/100 [05:25<12:27, 10.99s/it]"
     ]
    },
    {
     "name": "stdout",
     "output_type": "stream",
     "text": [
      "stage two time 2.4593992233276367\n",
      "greedy time 0.07135009765625\n",
      "basis pursuit time 8.438035011291504\n",
      "Brute force complexity 3 from D=2 and nbp=3\n",
      "Computing brute force solution for dictionary dimension 3 and target_dimension 2\n"
     ]
    },
    {
     "name": "stderr",
     "output_type": "stream",
     "text": [
      "\n",
      "3it [00:00, 9091.70it/s]\n"
     ]
    },
    {
     "name": "stdout",
     "output_type": "stream",
     "text": [
      "Computing brute force solution for dictionary dimension 3 and target_dimension 2\n"
     ]
    },
    {
     "name": "stderr",
     "output_type": "stream",
     "text": [
      "\n",
      "3it [00:00, 8648.05it/s]\n",
      " 33%|█████████████████████████████                                                           | 33/100 [05:34<11:41, 10.47s/it]"
     ]
    },
    {
     "name": "stdout",
     "output_type": "stream",
     "text": [
      "stage two time 0.0033638477325439453\n",
      "greedy time 0.0859060287475586\n",
      "basis pursuit time 9.152680158615112\n",
      "Brute force complexity 3 from D=2 and nbp=3\n",
      "Computing brute force solution for dictionary dimension 3 and target_dimension 2\n"
     ]
    },
    {
     "name": "stderr",
     "output_type": "stream",
     "text": [
      "\n",
      "3it [00:00, 4303.32it/s]\n"
     ]
    },
    {
     "name": "stdout",
     "output_type": "stream",
     "text": [
      "Computing brute force solution for dictionary dimension 3 and target_dimension 2\n"
     ]
    },
    {
     "name": "stderr",
     "output_type": "stream",
     "text": [
      "\n",
      "3it [00:00, 7129.13it/s]\n",
      " 34%|█████████████████████████████▉                                                          | 34/100 [05:43<10:59,  9.99s/it]"
     ]
    },
    {
     "name": "stdout",
     "output_type": "stream",
     "text": [
      "stage two time 0.004546165466308594\n",
      "greedy time 0.06879091262817383\n",
      "basis pursuit time 8.786251783370972\n",
      "Brute force complexity 3 from D=2 and nbp=3\n",
      "Computing brute force solution for dictionary dimension 3 and target_dimension 2\n"
     ]
    },
    {
     "name": "stderr",
     "output_type": "stream",
     "text": [
      "\n",
      "3it [00:00, 13052.81it/s]\n"
     ]
    },
    {
     "name": "stdout",
     "output_type": "stream",
     "text": [
      "Computing brute force solution for dictionary dimension 3 and target_dimension 2\n"
     ]
    },
    {
     "name": "stderr",
     "output_type": "stream",
     "text": [
      "\n",
      "3it [00:00, 5475.59it/s]\n",
      " 35%|██████████████████████████████▊                                                         | 35/100 [05:52<10:23,  9.59s/it]"
     ]
    },
    {
     "name": "stdout",
     "output_type": "stream",
     "text": [
      "stage two time 0.0031588077545166016\n",
      "greedy time 0.06993579864501953\n",
      "basis pursuit time 8.597667932510376\n",
      "Brute force complexity 3 from D=2 and nbp=3\n",
      "Computing brute force solution for dictionary dimension 3 and target_dimension 2\n"
     ]
    },
    {
     "name": "stderr",
     "output_type": "stream",
     "text": [
      "\n",
      "3it [00:00, 15927.74it/s]\n"
     ]
    },
    {
     "name": "stdout",
     "output_type": "stream",
     "text": [
      "Computing brute force solution for dictionary dimension 3 and target_dimension 2\n"
     ]
    },
    {
     "name": "stderr",
     "output_type": "stream",
     "text": [
      "\n",
      "3it [00:00, 7933.74it/s]\n",
      " 36%|███████████████████████████████▋                                                        | 36/100 [06:00<09:58,  9.36s/it]"
     ]
    },
    {
     "name": "stdout",
     "output_type": "stream",
     "text": [
      "stage two time 0.0029540061950683594\n",
      "greedy time 0.05490994453430176\n",
      "basis pursuit time 8.73873519897461\n",
      "Brute force complexity 3 from D=2 and nbp=3\n",
      "Computing brute force solution for dictionary dimension 3 and target_dimension 2\n"
     ]
    },
    {
     "name": "stderr",
     "output_type": "stream",
     "text": [
      "\n",
      "3it [00:00, 5670.53it/s]\n"
     ]
    },
    {
     "name": "stdout",
     "output_type": "stream",
     "text": [
      "Computing brute force solution for dictionary dimension 3 and target_dimension 2\n"
     ]
    },
    {
     "name": "stderr",
     "output_type": "stream",
     "text": [
      "\n",
      "3it [00:00, 9868.95it/s]\n",
      " 37%|████████████████████████████████▌                                                       | 37/100 [06:09<09:36,  9.16s/it]"
     ]
    },
    {
     "name": "stdout",
     "output_type": "stream",
     "text": [
      "stage two time 0.0045130252838134766\n",
      "greedy time 0.05598592758178711\n",
      "basis pursuit time 8.629432678222656\n",
      "Brute force complexity 3 from D=2 and nbp=3\n",
      "Computing brute force solution for dictionary dimension 3 and target_dimension 2\n"
     ]
    },
    {
     "name": "stderr",
     "output_type": "stream",
     "text": [
      "\n",
      "3it [00:00, 9799.78it/s]\n"
     ]
    },
    {
     "name": "stdout",
     "output_type": "stream",
     "text": [
      "Computing brute force solution for dictionary dimension 3 and target_dimension 2\n"
     ]
    },
    {
     "name": "stderr",
     "output_type": "stream",
     "text": [
      "\n",
      "3it [00:00, 7503.23it/s]\n",
      " 38%|█████████████████████████████████▍                                                      | 38/100 [06:18<09:18,  9.01s/it]"
     ]
    },
    {
     "name": "stdout",
     "output_type": "stream",
     "text": [
      "stage two time 0.0033931732177734375\n",
      "greedy time 0.05658388137817383\n",
      "basis pursuit time 8.61182689666748\n",
      "Brute force complexity 3 from D=2 and nbp=3\n",
      "Computing brute force solution for dictionary dimension 3 and target_dimension 2\n"
     ]
    },
    {
     "name": "stderr",
     "output_type": "stream",
     "text": [
      "\n",
      "3it [00:00, 7214.97it/s]\n"
     ]
    },
    {
     "name": "stdout",
     "output_type": "stream",
     "text": [
      "Computing brute force solution for dictionary dimension 3 and target_dimension 2\n"
     ]
    },
    {
     "name": "stderr",
     "output_type": "stream",
     "text": [
      "\n",
      "3it [00:00, 11115.65it/s]\n",
      " 39%|██████████████████████████████████▎                                                     | 39/100 [06:27<09:07,  8.98s/it]"
     ]
    },
    {
     "name": "stdout",
     "output_type": "stream",
     "text": [
      "stage two time 0.003651142120361328\n",
      "greedy time 0.06749296188354492\n",
      "basis pursuit time 8.833518743515015\n",
      "Brute force complexity 3 from D=2 and nbp=3\n",
      "Computing brute force solution for dictionary dimension 3 and target_dimension 2\n"
     ]
    },
    {
     "name": "stderr",
     "output_type": "stream",
     "text": [
      "\n",
      "3it [00:00, 15534.46it/s]\n"
     ]
    },
    {
     "name": "stdout",
     "output_type": "stream",
     "text": [
      "Computing brute force solution for dictionary dimension 3 and target_dimension 2\n"
     ]
    },
    {
     "name": "stderr",
     "output_type": "stream",
     "text": [
      "\n",
      "3it [00:00, 5882.61it/s]\n",
      " 40%|███████████████████████████████████▏                                                    | 40/100 [06:35<08:42,  8.71s/it]"
     ]
    },
    {
     "name": "stdout",
     "output_type": "stream",
     "text": [
      "stage two time 0.0031223297119140625\n",
      "greedy time 0.06517291069030762\n",
      "basis pursuit time 7.989914178848267\n",
      "Brute force complexity 3 from D=2 and nbp=3\n",
      "Computing brute force solution for dictionary dimension 3 and target_dimension 2\n"
     ]
    },
    {
     "name": "stderr",
     "output_type": "stream",
     "text": [
      "\n",
      "3it [00:00, 12710.01it/s]\n"
     ]
    },
    {
     "name": "stdout",
     "output_type": "stream",
     "text": [
      "Computing brute force solution for dictionary dimension 3 and target_dimension 2\n"
     ]
    },
    {
     "name": "stderr",
     "output_type": "stream",
     "text": [
      "\n",
      "3it [00:00, 4942.23it/s]\n",
      " 41%|████████████████████████████████████                                                    | 41/100 [06:43<08:19,  8.47s/it]"
     ]
    },
    {
     "name": "stdout",
     "output_type": "stream",
     "text": [
      "stage two time 0.0030431747436523438\n",
      "greedy time 0.05730295181274414\n",
      "basis pursuit time 7.847907781600952\n",
      "Brute force complexity 3 from D=2 and nbp=3\n",
      "Computing brute force solution for dictionary dimension 3 and target_dimension 2\n"
     ]
    },
    {
     "name": "stderr",
     "output_type": "stream",
     "text": [
      "\n",
      "3it [00:00, 15069.36it/s]\n"
     ]
    },
    {
     "name": "stdout",
     "output_type": "stream",
     "text": [
      "Computing brute force solution for dictionary dimension 3 and target_dimension 2\n"
     ]
    },
    {
     "name": "stderr",
     "output_type": "stream",
     "text": [
      "\n",
      "3it [00:00, 14699.66it/s]\n",
      " 42%|████████████████████████████████████▉                                                   | 42/100 [06:51<08:04,  8.36s/it]"
     ]
    },
    {
     "name": "stdout",
     "output_type": "stream",
     "text": [
      "stage two time 0.002630949020385742\n",
      "greedy time 0.058357954025268555\n",
      "basis pursuit time 8.031618118286133\n",
      "Brute force complexity 3 from D=2 and nbp=3\n",
      "Computing brute force solution for dictionary dimension 3 and target_dimension 2\n"
     ]
    },
    {
     "name": "stderr",
     "output_type": "stream",
     "text": [
      "\n",
      "3it [00:00, 12495.44it/s]\n"
     ]
    },
    {
     "name": "stdout",
     "output_type": "stream",
     "text": [
      "Computing brute force solution for dictionary dimension 3 and target_dimension 2\n"
     ]
    },
    {
     "name": "stderr",
     "output_type": "stream",
     "text": [
      "\n",
      "3it [00:00, 12300.01it/s]\n",
      " 43%|█████████████████████████████████████▊                                                  | 43/100 [06:59<07:58,  8.39s/it]"
     ]
    },
    {
     "name": "stdout",
     "output_type": "stream",
     "text": [
      "stage two time 0.0029077529907226562\n",
      "greedy time 0.0560603141784668\n",
      "basis pursuit time 8.405572891235352\n",
      "Brute force complexity 91378 from D=2 and nbp=428\n",
      "Computing brute force solution for dictionary dimension 428 and target_dimension 2\n"
     ]
    },
    {
     "name": "stderr",
     "output_type": "stream",
     "text": [
      "\n",
      "0it [00:00, ?it/s]\u001b[A\n",
      "2823it [00:00, 28224.04it/s]\u001b[A\n",
      "6184it [00:00, 31386.40it/s]\u001b[A\n",
      "9323it [00:00, 31084.22it/s]\u001b[A\n",
      "12611it [00:00, 31788.21it/s]\u001b[A\n",
      "15926it [00:00, 32276.11it/s]\u001b[A\n",
      "19261it [00:00, 32638.62it/s]\u001b[A\n",
      "22862it [00:00, 33736.53it/s]\u001b[A\n",
      "26237it [00:00, 33368.20it/s]\u001b[A\n",
      "29575it [00:00, 33159.31it/s]\u001b[A\n",
      "32892it [00:01, 33094.36it/s]\u001b[A\n",
      "36203it [00:01, 33021.17it/s]\u001b[A\n",
      "39675it [00:01, 33531.29it/s]\u001b[A\n",
      "43029it [00:01, 33242.44it/s]\u001b[A\n",
      "46355it [00:01, 32110.62it/s]\u001b[A\n",
      "49747it [00:01, 32636.30it/s]\u001b[A\n",
      "53319it [00:01, 33542.90it/s]\u001b[A\n",
      "56681it [00:01, 33467.25it/s]\u001b[A\n",
      "60033it [00:01, 31841.76it/s]\u001b[A\n",
      "63236it [00:01, 31794.65it/s]\u001b[A\n",
      "66483it [00:02, 31988.85it/s]\u001b[A\n",
      "69692it [00:02, 31061.02it/s]\u001b[A\n",
      "72899it [00:02, 31349.93it/s]\u001b[A\n",
      "76423it [00:02, 32483.62it/s]\u001b[A\n",
      "79805it [00:02, 32875.14it/s]\u001b[A\n",
      "83100it [00:02, 32498.58it/s]\u001b[A\n",
      "86356it [00:02, 31620.72it/s]\u001b[A\n",
      "91378it [00:02, 32368.76it/s]\u001b[A\n"
     ]
    },
    {
     "name": "stdout",
     "output_type": "stream",
     "text": [
      "Computing brute force solution for dictionary dimension 428 and target_dimension 2\n"
     ]
    },
    {
     "name": "stderr",
     "output_type": "stream",
     "text": [
      "\n",
      "0it [00:00, ?it/s]\u001b[A\n",
      "3391it [00:00, 33903.48it/s]\u001b[A\n",
      "6997it [00:00, 35166.37it/s]\u001b[A\n",
      "10514it [00:00, 33480.76it/s]\u001b[A\n",
      "14022it [00:00, 34089.85it/s]\u001b[A\n",
      "17439it [00:00, 34033.12it/s]\u001b[A\n",
      "20967it [00:00, 34449.69it/s]\u001b[A\n",
      "24889it [00:00, 35991.29it/s]\u001b[A\n",
      "28666it [00:00, 36552.94it/s]\u001b[A\n",
      "32325it [00:00, 34240.14it/s]\u001b[A\n",
      "35779it [00:01, 33623.74it/s]\u001b[A\n",
      "39292it [00:01, 34062.41it/s]\u001b[A\n",
      "42798it [00:01, 34354.61it/s]\u001b[A\n",
      "46567it [00:01, 35339.60it/s]\u001b[A\n",
      "50433it [00:01, 36323.77it/s]\u001b[A\n",
      "54075it [00:01, 35822.11it/s]\u001b[A\n",
      "57665it [00:01, 31765.89it/s]\u001b[A\n",
      "61107it [00:01, 32485.97it/s]\u001b[A\n",
      "64597it [00:01, 33161.21it/s]\u001b[A\n",
      "68195it [00:01, 33963.89it/s]\u001b[A\n",
      "71633it [00:02, 33004.17it/s]\u001b[A\n",
      "75515it [00:02, 34668.24it/s]\u001b[A\n",
      "79280it [00:02, 35532.49it/s]\u001b[A\n",
      "82858it [00:02, 35281.90it/s]\u001b[A\n",
      "86404it [00:02, 34977.11it/s]\u001b[A\n",
      "91378it [00:02, 34416.81it/s]\u001b[A\n",
      " 44%|██████████████████████████████████████▋                                                 | 44/100 [07:13<09:25, 10.10s/it]"
     ]
    },
    {
     "name": "stdout",
     "output_type": "stream",
     "text": [
      "stage two time 2.838249921798706\n",
      "greedy time 0.06611108779907227\n",
      "basis pursuit time 8.509858131408691\n",
      "Brute force complexity 3 from D=2 and nbp=3\n",
      "Computing brute force solution for dictionary dimension 3 and target_dimension 2\n"
     ]
    },
    {
     "name": "stderr",
     "output_type": "stream",
     "text": [
      "\n",
      "3it [00:00, 15947.92it/s]\n"
     ]
    },
    {
     "name": "stdout",
     "output_type": "stream",
     "text": [
      "Computing brute force solution for dictionary dimension 3 and target_dimension 2\n"
     ]
    },
    {
     "name": "stderr",
     "output_type": "stream",
     "text": [
      "\n",
      "3it [00:00, 10098.65it/s]\n",
      " 45%|███████████████████████████████████████▌                                                | 45/100 [07:22<08:48,  9.61s/it]"
     ]
    },
    {
     "name": "stdout",
     "output_type": "stream",
     "text": [
      "stage two time 0.0034461021423339844\n",
      "greedy time 0.09651613235473633\n",
      "basis pursuit time 8.3502938747406\n",
      "Brute force complexity 3 from D=2 and nbp=3\n",
      "Computing brute force solution for dictionary dimension 3 and target_dimension 2\n"
     ]
    },
    {
     "name": "stderr",
     "output_type": "stream",
     "text": [
      "\n",
      "3it [00:00, 6235.34it/s]\n"
     ]
    },
    {
     "name": "stdout",
     "output_type": "stream",
     "text": [
      "Computing brute force solution for dictionary dimension 3 and target_dimension 2\n"
     ]
    },
    {
     "name": "stderr",
     "output_type": "stream",
     "text": [
      "\n",
      "3it [00:00, 11459.85it/s]\n",
      " 46%|████████████████████████████████████████▍                                               | 46/100 [07:30<08:21,  9.29s/it]"
     ]
    },
    {
     "name": "stdout",
     "output_type": "stream",
     "text": [
      "stage two time 0.0035037994384765625\n",
      "greedy time 0.06557297706604004\n",
      "basis pursuit time 8.479427099227905\n",
      "Brute force complexity 3 from D=2 and nbp=3\n",
      "Computing brute force solution for dictionary dimension 3 and target_dimension 2\n"
     ]
    },
    {
     "name": "stderr",
     "output_type": "stream",
     "text": [
      "\n",
      "3it [00:00, 9900.01it/s]\n"
     ]
    },
    {
     "name": "stdout",
     "output_type": "stream",
     "text": [
      "Computing brute force solution for dictionary dimension 3 and target_dimension 2\n"
     ]
    },
    {
     "name": "stderr",
     "output_type": "stream",
     "text": [
      "\n",
      "3it [00:00, 11893.11it/s]\n",
      " 47%|█████████████████████████████████████████▎                                              | 47/100 [07:39<07:55,  8.97s/it]"
     ]
    },
    {
     "name": "stdout",
     "output_type": "stream",
     "text": [
      "stage two time 0.0039980411529541016\n",
      "greedy time 0.06163811683654785\n",
      "basis pursuit time 8.138116836547852\n",
      "Brute force complexity 3 from D=2 and nbp=3\n",
      "Computing brute force solution for dictionary dimension 3 and target_dimension 2\n"
     ]
    },
    {
     "name": "stderr",
     "output_type": "stream",
     "text": [
      "\n",
      "3it [00:00, 14479.76it/s]\n"
     ]
    },
    {
     "name": "stdout",
     "output_type": "stream",
     "text": [
      "Computing brute force solution for dictionary dimension 3 and target_dimension 2\n"
     ]
    },
    {
     "name": "stderr",
     "output_type": "stream",
     "text": [
      "\n",
      "3it [00:00, 4777.11it/s]\n",
      " 48%|██████████████████████████████████████████▏                                             | 48/100 [07:47<07:42,  8.90s/it]"
     ]
    },
    {
     "name": "stdout",
     "output_type": "stream",
     "text": [
      "stage two time 0.0030291080474853516\n",
      "greedy time 0.0697481632232666\n",
      "basis pursuit time 8.66808295249939\n",
      "Brute force complexity 3 from D=2 and nbp=3\n",
      "Computing brute force solution for dictionary dimension 3 and target_dimension 2\n"
     ]
    },
    {
     "name": "stderr",
     "output_type": "stream",
     "text": [
      "\n",
      "3it [00:00, 11105.84it/s]\n"
     ]
    },
    {
     "name": "stdout",
     "output_type": "stream",
     "text": [
      "Computing brute force solution for dictionary dimension 3 and target_dimension 2\n"
     ]
    },
    {
     "name": "stderr",
     "output_type": "stream",
     "text": [
      "\n",
      "3it [00:00, 5173.89it/s]\n",
      " 49%|███████████████████████████████████████████                                             | 49/100 [07:56<07:26,  8.75s/it]"
     ]
    },
    {
     "name": "stdout",
     "output_type": "stream",
     "text": [
      "stage two time 0.0028128623962402344\n",
      "greedy time 0.08713769912719727\n",
      "basis pursuit time 8.289345979690552\n",
      "Brute force complexity 3 from D=2 and nbp=3\n",
      "Computing brute force solution for dictionary dimension 3 and target_dimension 2\n"
     ]
    },
    {
     "name": "stderr",
     "output_type": "stream",
     "text": [
      "\n",
      "3it [00:00, 12972.07it/s]\n"
     ]
    },
    {
     "name": "stdout",
     "output_type": "stream",
     "text": [
      "Computing brute force solution for dictionary dimension 3 and target_dimension 2\n"
     ]
    },
    {
     "name": "stderr",
     "output_type": "stream",
     "text": [
      "\n",
      "3it [00:00, 5345.33it/s]\n",
      " 50%|████████████████████████████████████████████                                            | 50/100 [08:04<07:10,  8.60s/it]"
     ]
    },
    {
     "name": "stdout",
     "output_type": "stream",
     "text": [
      "stage two time 0.0032660961151123047\n",
      "greedy time 0.05694079399108887\n",
      "basis pursuit time 8.200279951095581\n",
      "Brute force complexity 3 from D=2 and nbp=3\n",
      "Computing brute force solution for dictionary dimension 3 and target_dimension 2\n"
     ]
    },
    {
     "name": "stderr",
     "output_type": "stream",
     "text": [
      "\n",
      "3it [00:00, 11629.31it/s]\n"
     ]
    },
    {
     "name": "stdout",
     "output_type": "stream",
     "text": [
      "Computing brute force solution for dictionary dimension 3 and target_dimension 2\n"
     ]
    },
    {
     "name": "stderr",
     "output_type": "stream",
     "text": [
      "\n",
      "3it [00:00, 4665.52it/s]\n",
      " 51%|████████████████████████████████████████████▉                                           | 51/100 [08:12<06:58,  8.53s/it]"
     ]
    },
    {
     "name": "stdout",
     "output_type": "stream",
     "text": [
      "stage two time 0.003119230270385742\n",
      "greedy time 0.06002402305603027\n",
      "basis pursuit time 8.305066108703613\n",
      "Brute force complexity 1 from D=2 and nbp=2\n",
      "Computing brute force solution for dictionary dimension 2 and target_dimension 2\n"
     ]
    },
    {
     "name": "stderr",
     "output_type": "stream",
     "text": [
      "\n",
      "1it [00:00, 7884.03it/s]\n"
     ]
    },
    {
     "name": "stdout",
     "output_type": "stream",
     "text": [
      "Computing brute force solution for dictionary dimension 2 and target_dimension 2\n"
     ]
    },
    {
     "name": "stderr",
     "output_type": "stream",
     "text": [
      "\n",
      "1it [00:00, 5882.61it/s]\n",
      " 52%|█████████████████████████████████████████████▊                                          | 52/100 [08:20<06:42,  8.39s/it]"
     ]
    },
    {
     "name": "stdout",
     "output_type": "stream",
     "text": [
      "stage two time 0.0027561187744140625\n",
      "greedy time 0.057997941970825195\n",
      "basis pursuit time 7.9957780838012695\n",
      "Brute force complexity 3 from D=2 and nbp=3\n",
      "Computing brute force solution for dictionary dimension 3 and target_dimension 2\n"
     ]
    },
    {
     "name": "stderr",
     "output_type": "stream",
     "text": [
      "\n",
      "3it [00:00, 12932.08it/s]\n"
     ]
    },
    {
     "name": "stdout",
     "output_type": "stream",
     "text": [
      "Computing brute force solution for dictionary dimension 3 and target_dimension 2\n"
     ]
    },
    {
     "name": "stderr",
     "output_type": "stream",
     "text": [
      "\n",
      "3it [00:00, 5793.24it/s]\n",
      " 53%|██████████████████████████████████████████████▋                                         | 53/100 [08:28<06:29,  8.28s/it]"
     ]
    },
    {
     "name": "stdout",
     "output_type": "stream",
     "text": [
      "stage two time 0.0028738975524902344\n",
      "greedy time 0.0559999942779541\n",
      "basis pursuit time 7.954952955245972\n",
      "Brute force complexity 1 from D=2 and nbp=2\n",
      "Computing brute force solution for dictionary dimension 2 and target_dimension 2\n"
     ]
    },
    {
     "name": "stderr",
     "output_type": "stream",
     "text": [
      "\n",
      "1it [00:00, 6105.25it/s]\n"
     ]
    },
    {
     "name": "stdout",
     "output_type": "stream",
     "text": [
      "Computing brute force solution for dictionary dimension 2 and target_dimension 2\n"
     ]
    },
    {
     "name": "stderr",
     "output_type": "stream",
     "text": [
      "\n",
      "1it [00:00, 3214.03it/s]\n",
      " 54%|███████████████████████████████████████████████▌                                        | 54/100 [08:36<06:16,  8.19s/it]"
     ]
    },
    {
     "name": "stdout",
     "output_type": "stream",
     "text": [
      "stage two time 0.002774953842163086\n",
      "greedy time 0.05707502365112305\n",
      "basis pursuit time 7.896527051925659\n",
      "Brute force complexity 88831 from D=2 and nbp=422\n",
      "Computing brute force solution for dictionary dimension 422 and target_dimension 2\n"
     ]
    },
    {
     "name": "stderr",
     "output_type": "stream",
     "text": [
      "\n",
      "0it [00:00, ?it/s]\u001b[A\n",
      "3130it [00:00, 31298.76it/s]\u001b[A\n",
      "6598it [00:00, 33287.10it/s]\u001b[A\n",
      "10044it [00:00, 33820.62it/s]\u001b[A\n",
      "13427it [00:00, 33413.20it/s]\u001b[A\n",
      "16770it [00:00, 32979.44it/s]\u001b[A\n",
      "20190it [00:00, 33387.56it/s]\u001b[A\n",
      "23798it [00:00, 34257.49it/s]\u001b[A\n",
      "27461it [00:00, 35005.24it/s]\u001b[A\n",
      "30987it [00:00, 35082.69it/s]\u001b[A\n",
      "34497it [00:01, 34136.65it/s]\u001b[A\n",
      "37917it [00:01, 33758.84it/s]\u001b[A\n",
      "41378it [00:01, 34011.02it/s]\u001b[A\n",
      "44783it [00:01, 33630.20it/s]\u001b[A\n",
      "48149it [00:01, 33178.19it/s]\u001b[A\n",
      "51749it [00:01, 34007.83it/s]\u001b[A\n",
      "55382it [00:01, 34692.35it/s]\u001b[A\n",
      "59048it [00:01, 35274.90it/s]\u001b[A\n",
      "62746it [00:01, 35781.21it/s]\u001b[A\n",
      "66327it [00:01, 35596.12it/s]\u001b[A\n",
      "69889it [00:02, 35486.00it/s]\u001b[A\n",
      "73440it [00:02, 35010.46it/s]\u001b[A\n",
      "76944it [00:02, 33785.52it/s]\u001b[A\n",
      "80349it [00:02, 33860.90it/s]\u001b[A\n",
      "83804it [00:02, 34056.03it/s]\u001b[A\n",
      "88831it [00:02, 34138.09it/s]\u001b[A\n"
     ]
    },
    {
     "name": "stdout",
     "output_type": "stream",
     "text": [
      "Computing brute force solution for dictionary dimension 422 and target_dimension 2\n"
     ]
    },
    {
     "name": "stderr",
     "output_type": "stream",
     "text": [
      "\n",
      "0it [00:00, ?it/s]\u001b[A\n",
      "3601it [00:00, 36004.28it/s]\u001b[A\n",
      "7202it [00:00, 34948.78it/s]\u001b[A\n",
      "10844it [00:00, 35608.42it/s]\u001b[A\n",
      "14408it [00:00, 34489.55it/s]\u001b[A\n",
      "17878it [00:00, 34562.32it/s]\u001b[A\n",
      "21517it [00:00, 35171.33it/s]\u001b[A\n",
      "25217it [00:00, 35759.17it/s]\u001b[A\n",
      "29023it [00:00, 36484.81it/s]\u001b[A\n",
      "32675it [00:00, 36343.62it/s]\u001b[A\n",
      "36333it [00:01, 36413.82it/s]\u001b[A\n",
      "40185it [00:01, 37048.00it/s]\u001b[A\n",
      "44010it [00:01, 37410.69it/s]\u001b[A\n",
      "47922it [00:01, 37922.99it/s]\u001b[A\n",
      "51782it [00:01, 38122.96it/s]\u001b[A\n",
      "55595it [00:01, 37257.22it/s]\u001b[A\n",
      "59326it [00:01, 35988.66it/s]\u001b[A\n",
      "62936it [00:01, 35585.68it/s]\u001b[A\n",
      "66502it [00:01, 35318.19it/s]\u001b[A\n",
      "70039it [00:01, 35174.81it/s]\u001b[A\n",
      "73754it [00:02, 35753.19it/s]\u001b[A\n",
      "77580it [00:02, 36491.86it/s]\u001b[A\n",
      "81233it [00:02, 35947.90it/s]\u001b[A\n",
      "84832it [00:02, 35451.52it/s]\u001b[A\n",
      "88831it [00:02, 35918.76it/s]\u001b[A\n",
      " 55%|████████████████████████████████████████████████▍                                       | 55/100 [08:50<07:26,  9.92s/it]"
     ]
    },
    {
     "name": "stdout",
     "output_type": "stream",
     "text": [
      "stage two time 2.615417003631592\n",
      "greedy time 0.061308860778808594\n",
      "basis pursuit time 8.802093982696533\n",
      "Brute force complexity 1 from D=2 and nbp=2\n",
      "Computing brute force solution for dictionary dimension 2 and target_dimension 2\n"
     ]
    },
    {
     "name": "stderr",
     "output_type": "stream",
     "text": [
      "\n",
      "1it [00:00, 7570.95it/s]\n"
     ]
    },
    {
     "name": "stdout",
     "output_type": "stream",
     "text": [
      "Computing brute force solution for dictionary dimension 2 and target_dimension 2\n"
     ]
    },
    {
     "name": "stderr",
     "output_type": "stream",
     "text": [
      "\n",
      "1it [00:00, 2716.52it/s]\n",
      " 56%|█████████████████████████████████████████████████▎                                      | 56/100 [08:59<06:56,  9.46s/it]"
     ]
    },
    {
     "name": "stdout",
     "output_type": "stream",
     "text": [
      "stage two time 0.003198862075805664\n",
      "greedy time 0.08153820037841797\n",
      "basis pursuit time 8.30298399925232\n",
      "Brute force complexity 3 from D=2 and nbp=3\n",
      "Computing brute force solution for dictionary dimension 3 and target_dimension 2\n"
     ]
    },
    {
     "name": "stderr",
     "output_type": "stream",
     "text": [
      "\n",
      "3it [00:00, 15630.95it/s]\n"
     ]
    },
    {
     "name": "stdout",
     "output_type": "stream",
     "text": [
      "Computing brute force solution for dictionary dimension 3 and target_dimension 2\n"
     ]
    },
    {
     "name": "stderr",
     "output_type": "stream",
     "text": [
      "\n",
      "3it [00:00, 5208.16it/s]\n",
      " 57%|██████████████████████████████████████████████████▏                                     | 57/100 [09:07<06:32,  9.12s/it]"
     ]
    },
    {
     "name": "stdout",
     "output_type": "stream",
     "text": [
      "stage two time 0.0031092166900634766\n",
      "greedy time 0.07654285430908203\n",
      "basis pursuit time 8.219568014144897\n",
      "Brute force complexity 3 from D=2 and nbp=3\n",
      "Computing brute force solution for dictionary dimension 3 and target_dimension 2\n"
     ]
    },
    {
     "name": "stderr",
     "output_type": "stream",
     "text": [
      "\n",
      "3it [00:00, 5777.28it/s]\n"
     ]
    },
    {
     "name": "stdout",
     "output_type": "stream",
     "text": [
      "Computing brute force solution for dictionary dimension 3 and target_dimension 2\n"
     ]
    },
    {
     "name": "stderr",
     "output_type": "stream",
     "text": [
      "\n",
      "3it [00:00, 10979.85it/s]\n",
      " 58%|███████████████████████████████████████████████████                                     | 58/100 [09:15<06:14,  8.91s/it]"
     ]
    },
    {
     "name": "stdout",
     "output_type": "stream",
     "text": [
      "stage two time 0.003677845001220703\n",
      "greedy time 0.05962705612182617\n",
      "basis pursuit time 8.344552993774414\n",
      "Brute force complexity 3 from D=2 and nbp=3\n",
      "Computing brute force solution for dictionary dimension 3 and target_dimension 2\n"
     ]
    },
    {
     "name": "stderr",
     "output_type": "stream",
     "text": [
      "\n",
      "3it [00:00, 9118.05it/s]\n"
     ]
    },
    {
     "name": "stdout",
     "output_type": "stream",
     "text": [
      "Computing brute force solution for dictionary dimension 3 and target_dimension 2\n"
     ]
    },
    {
     "name": "stderr",
     "output_type": "stream",
     "text": [
      "\n",
      "3it [00:00, 10913.19it/s]\n",
      " 59%|███████████████████████████████████████████████████▉                                    | 59/100 [09:24<05:58,  8.74s/it]"
     ]
    },
    {
     "name": "stdout",
     "output_type": "stream",
     "text": [
      "stage two time 0.0032329559326171875\n",
      "greedy time 0.06137895584106445\n",
      "basis pursuit time 8.270595073699951\n",
      "Brute force complexity 3 from D=2 and nbp=3\n",
      "Computing brute force solution for dictionary dimension 3 and target_dimension 2\n"
     ]
    },
    {
     "name": "stderr",
     "output_type": "stream",
     "text": [
      "\n",
      "3it [00:00, 7552.77it/s]\n"
     ]
    },
    {
     "name": "stdout",
     "output_type": "stream",
     "text": [
      "Computing brute force solution for dictionary dimension 3 and target_dimension 2\n"
     ]
    },
    {
     "name": "stderr",
     "output_type": "stream",
     "text": [
      "\n",
      "3it [00:00, 6198.48it/s]\n",
      " 60%|████████████████████████████████████████████████████▊                                   | 60/100 [09:32<05:41,  8.55s/it]"
     ]
    },
    {
     "name": "stdout",
     "output_type": "stream",
     "text": [
      "stage two time 0.003270864486694336\n",
      "greedy time 0.05422067642211914\n",
      "basis pursuit time 8.046000242233276\n",
      "Brute force complexity 3 from D=2 and nbp=3\n",
      "Computing brute force solution for dictionary dimension 3 and target_dimension 2\n"
     ]
    },
    {
     "name": "stderr",
     "output_type": "stream",
     "text": [
      "\n",
      "3it [00:00, 12288.00it/s]\n"
     ]
    },
    {
     "name": "stdout",
     "output_type": "stream",
     "text": [
      "Computing brute force solution for dictionary dimension 3 and target_dimension 2\n"
     ]
    },
    {
     "name": "stderr",
     "output_type": "stream",
     "text": [
      "\n",
      "3it [00:00, 5011.12it/s]\n",
      " 61%|█████████████████████████████████████████████████████▋                                  | 61/100 [09:40<05:32,  8.53s/it]"
     ]
    },
    {
     "name": "stdout",
     "output_type": "stream",
     "text": [
      "stage two time 0.0029430389404296875\n",
      "greedy time 0.0647890567779541\n",
      "basis pursuit time 8.418375015258789\n",
      "Brute force complexity 1 from D=2 and nbp=2\n",
      "Computing brute force solution for dictionary dimension 2 and target_dimension 2\n"
     ]
    },
    {
     "name": "stderr",
     "output_type": "stream",
     "text": [
      "\n",
      "1it [00:00, 5592.41it/s]\n"
     ]
    },
    {
     "name": "stdout",
     "output_type": "stream",
     "text": [
      "Computing brute force solution for dictionary dimension 2 and target_dimension 2\n"
     ]
    },
    {
     "name": "stderr",
     "output_type": "stream",
     "text": [
      "\n",
      "1it [00:00, 5236.33it/s]\n",
      " 62%|██████████████████████████████████████████████████████▌                                 | 62/100 [09:49<05:25,  8.58s/it]"
     ]
    },
    {
     "name": "stdout",
     "output_type": "stream",
     "text": [
      "stage two time 0.0030889511108398438\n",
      "greedy time 0.059308767318725586\n",
      "basis pursuit time 8.616251945495605\n",
      "Brute force complexity 1 from D=2 and nbp=2\n",
      "Computing brute force solution for dictionary dimension 2 and target_dimension 2\n"
     ]
    },
    {
     "name": "stderr",
     "output_type": "stream",
     "text": [
      "\n",
      "1it [00:00, 8065.97it/s]\n"
     ]
    },
    {
     "name": "stdout",
     "output_type": "stream",
     "text": [
      "Computing brute force solution for dictionary dimension 2 and target_dimension 2\n"
     ]
    },
    {
     "name": "stderr",
     "output_type": "stream",
     "text": [
      "\n",
      "1it [00:00, 2486.25it/s]\n",
      " 63%|███████████████████████████████████████████████████████▍                                | 63/100 [09:58<05:23,  8.75s/it]"
     ]
    },
    {
     "name": "stdout",
     "output_type": "stream",
     "text": [
      "stage two time 0.0027511119842529297\n",
      "greedy time 0.06223297119140625\n",
      "basis pursuit time 9.079822063446045\n",
      "Brute force complexity 28203 from D=2 and nbp=238\n",
      "Computing brute force solution for dictionary dimension 238 and target_dimension 2\n"
     ]
    },
    {
     "name": "stderr",
     "output_type": "stream",
     "text": [
      "\n",
      "0it [00:00, ?it/s]\u001b[A\n",
      "3114it [00:00, 31136.54it/s]\u001b[A\n",
      "6228it [00:00, 30102.08it/s]\u001b[A\n",
      "9241it [00:00, 29827.29it/s]\u001b[A\n",
      "12225it [00:00, 29772.59it/s]\u001b[A\n",
      "15513it [00:00, 30877.83it/s]\u001b[A\n",
      "19055it [00:00, 32406.91it/s]\u001b[A\n",
      "22446it [00:00, 32893.86it/s]\u001b[A\n",
      "28203it [00:00, 32166.56it/s]\u001b[A\n"
     ]
    },
    {
     "name": "stdout",
     "output_type": "stream",
     "text": [
      "Computing brute force solution for dictionary dimension 238 and target_dimension 2\n"
     ]
    },
    {
     "name": "stderr",
     "output_type": "stream",
     "text": [
      "\n",
      "0it [00:00, ?it/s]\u001b[A\n",
      "3789it [00:00, 37882.45it/s]\u001b[A\n",
      "7578it [00:00, 33963.59it/s]\u001b[A\n",
      "11001it [00:00, 32666.31it/s]\u001b[A\n",
      "14282it [00:00, 32440.73it/s]\u001b[A\n",
      "17534it [00:00, 32057.65it/s]\u001b[A\n",
      "21000it [00:00, 32905.64it/s]\u001b[A\n",
      "28203it [00:00, 34036.88it/s]\u001b[A\n",
      " 64%|████████████████████████████████████████████████████████▎                               | 64/100 [10:09<05:35,  9.32s/it]"
     ]
    },
    {
     "name": "stdout",
     "output_type": "stream",
     "text": [
      "stage two time 0.8839030265808105\n",
      "greedy time 0.0596308708190918\n",
      "basis pursuit time 8.866942882537842\n",
      "Brute force complexity 3 from D=2 and nbp=3\n",
      "Computing brute force solution for dictionary dimension 3 and target_dimension 2\n"
     ]
    },
    {
     "name": "stderr",
     "output_type": "stream",
     "text": [
      "\n",
      "3it [00:00, 4965.63it/s]\n"
     ]
    },
    {
     "name": "stdout",
     "output_type": "stream",
     "text": [
      "Computing brute force solution for dictionary dimension 3 and target_dimension 2\n"
     ]
    },
    {
     "name": "stderr",
     "output_type": "stream",
     "text": [
      "\n",
      "3it [00:00, 12192.74it/s]\n",
      " 65%|█████████████████████████████████████████████████████████▏                              | 65/100 [10:18<05:20,  9.16s/it]"
     ]
    },
    {
     "name": "stdout",
     "output_type": "stream",
     "text": [
      "stage two time 0.003612041473388672\n",
      "greedy time 0.10271716117858887\n",
      "basis pursuit time 8.678005933761597\n",
      "Brute force complexity 1 from D=2 and nbp=2\n",
      "Computing brute force solution for dictionary dimension 2 and target_dimension 2\n"
     ]
    },
    {
     "name": "stderr",
     "output_type": "stream",
     "text": [
      "\n",
      "1it [00:00, 6502.80it/s]\n"
     ]
    },
    {
     "name": "stdout",
     "output_type": "stream",
     "text": [
      "Computing brute force solution for dictionary dimension 2 and target_dimension 2\n"
     ]
    },
    {
     "name": "stderr",
     "output_type": "stream",
     "text": [
      "\n",
      "1it [00:00, 9000.65it/s]\n",
      " 66%|██████████████████████████████████████████████████████████                              | 66/100 [10:26<05:05,  8.98s/it]"
     ]
    },
    {
     "name": "stdout",
     "output_type": "stream",
     "text": [
      "stage two time 0.003217935562133789\n",
      "greedy time 0.06978416442871094\n",
      "basis pursuit time 8.483146905899048\n",
      "Brute force complexity 3 from D=2 and nbp=3\n",
      "Computing brute force solution for dictionary dimension 3 and target_dimension 2\n"
     ]
    },
    {
     "name": "stderr",
     "output_type": "stream",
     "text": [
      "\n",
      "3it [00:00, 12288.00it/s]\n"
     ]
    },
    {
     "name": "stdout",
     "output_type": "stream",
     "text": [
      "Computing brute force solution for dictionary dimension 3 and target_dimension 2\n"
     ]
    },
    {
     "name": "stderr",
     "output_type": "stream",
     "text": [
      "\n",
      "3it [00:00, 12145.67it/s]\n",
      " 67%|██████████████████████████████████████████████████████████▉                             | 67/100 [10:35<04:50,  8.80s/it]"
     ]
    },
    {
     "name": "stdout",
     "output_type": "stream",
     "text": [
      "stage two time 0.003225088119506836\n",
      "greedy time 0.06021404266357422\n",
      "basis pursuit time 8.314988136291504\n",
      "Brute force complexity 3 from D=2 and nbp=3\n",
      "Computing brute force solution for dictionary dimension 3 and target_dimension 2\n"
     ]
    },
    {
     "name": "stderr",
     "output_type": "stream",
     "text": [
      "\n",
      "3it [00:00, 4634.59it/s]\n"
     ]
    },
    {
     "name": "stdout",
     "output_type": "stream",
     "text": [
      "Computing brute force solution for dictionary dimension 3 and target_dimension 2\n"
     ]
    },
    {
     "name": "stderr",
     "output_type": "stream",
     "text": [
      "\n",
      "3it [00:00, 3405.39it/s]\n",
      " 68%|███████████████████████████████████████████████████████████▊                            | 68/100 [10:44<04:45,  8.91s/it]"
     ]
    },
    {
     "name": "stdout",
     "output_type": "stream",
     "text": [
      "stage two time 0.003983020782470703\n",
      "greedy time 0.06221604347229004\n",
      "basis pursuit time 9.080486059188843\n",
      "Brute force complexity 3 from D=2 and nbp=3\n",
      "Computing brute force solution for dictionary dimension 3 and target_dimension 2\n"
     ]
    },
    {
     "name": "stderr",
     "output_type": "stream",
     "text": [
      "\n",
      "3it [00:00, 4878.99it/s]\n"
     ]
    },
    {
     "name": "stdout",
     "output_type": "stream",
     "text": [
      "Computing brute force solution for dictionary dimension 3 and target_dimension 2\n"
     ]
    },
    {
     "name": "stderr",
     "output_type": "stream",
     "text": [
      "\n",
      "3it [00:00, 4854.52it/s]\n",
      " 69%|████████████████████████████████████████████████████████████▋                           | 69/100 [10:52<04:30,  8.73s/it]"
     ]
    },
    {
     "name": "stdout",
     "output_type": "stream",
     "text": [
      "stage two time 0.004461765289306641\n",
      "greedy time 0.05916905403137207\n",
      "basis pursuit time 8.24546504020691\n",
      "Brute force complexity 3 from D=2 and nbp=3\n",
      "Computing brute force solution for dictionary dimension 3 and target_dimension 2\n"
     ]
    },
    {
     "name": "stderr",
     "output_type": "stream",
     "text": [
      "\n",
      "3it [00:00, 8149.55it/s]\n"
     ]
    },
    {
     "name": "stdout",
     "output_type": "stream",
     "text": [
      "Computing brute force solution for dictionary dimension 3 and target_dimension 2\n"
     ]
    },
    {
     "name": "stderr",
     "output_type": "stream",
     "text": [
      "\n",
      "3it [00:00, 7796.10it/s]\n",
      " 70%|█████████████████████████████████████████████████████████████▌                          | 70/100 [11:02<04:28,  8.94s/it]"
     ]
    },
    {
     "name": "stdout",
     "output_type": "stream",
     "text": [
      "stage two time 0.0032460689544677734\n",
      "greedy time 0.06600213050842285\n",
      "basis pursuit time 9.35642409324646\n",
      "Brute force complexity 3 from D=2 and nbp=3\n",
      "Computing brute force solution for dictionary dimension 3 and target_dimension 2\n"
     ]
    },
    {
     "name": "stderr",
     "output_type": "stream",
     "text": [
      "\n",
      "3it [00:00, 8701.88it/s]\n"
     ]
    },
    {
     "name": "stdout",
     "output_type": "stream",
     "text": [
      "Computing brute force solution for dictionary dimension 3 and target_dimension 2\n"
     ]
    },
    {
     "name": "stderr",
     "output_type": "stream",
     "text": [
      "\n",
      "3it [00:00, 8671.89it/s]\n",
      " 71%|██████████████████████████████████████████████████████████████▍                         | 71/100 [11:10<04:12,  8.69s/it]"
     ]
    },
    {
     "name": "stdout",
     "output_type": "stream",
     "text": [
      "stage two time 0.003423929214477539\n",
      "greedy time 0.07129192352294922\n",
      "basis pursuit time 8.034881830215454\n",
      "Brute force complexity 3 from D=2 and nbp=3\n",
      "Computing brute force solution for dictionary dimension 3 and target_dimension 2\n"
     ]
    },
    {
     "name": "stderr",
     "output_type": "stream",
     "text": [
      "\n",
      "3it [00:00, 9252.14it/s]\n"
     ]
    },
    {
     "name": "stdout",
     "output_type": "stream",
     "text": [
      "Computing brute force solution for dictionary dimension 3 and target_dimension 2\n"
     ]
    },
    {
     "name": "stderr",
     "output_type": "stream",
     "text": [
      "\n",
      "3it [00:00, 10416.32it/s]\n",
      " 72%|███████████████████████████████████████████████████████████████▎                        | 72/100 [11:18<04:00,  8.59s/it]"
     ]
    },
    {
     "name": "stdout",
     "output_type": "stream",
     "text": [
      "stage two time 0.003420114517211914\n",
      "greedy time 0.05813407897949219\n",
      "basis pursuit time 8.284574031829834\n",
      "Brute force complexity 1 from D=2 and nbp=2\n",
      "Computing brute force solution for dictionary dimension 2 and target_dimension 2\n"
     ]
    },
    {
     "name": "stderr",
     "output_type": "stream",
     "text": [
      "\n",
      "1it [00:00, 4928.68it/s]\n"
     ]
    },
    {
     "name": "stdout",
     "output_type": "stream",
     "text": [
      "Computing brute force solution for dictionary dimension 2 and target_dimension 2\n"
     ]
    },
    {
     "name": "stderr",
     "output_type": "stream",
     "text": [
      "\n",
      "1it [00:00, 6543.38it/s]\n",
      " 73%|████████████████████████████████████████████████████████████████▏                       | 73/100 [11:28<04:01,  8.94s/it]"
     ]
    },
    {
     "name": "stdout",
     "output_type": "stream",
     "text": [
      "stage two time 0.003885984420776367\n",
      "greedy time 0.06716799736022949\n",
      "basis pursuit time 9.668558835983276\n",
      "Brute force complexity 3 from D=2 and nbp=3\n",
      "Computing brute force solution for dictionary dimension 3 and target_dimension 2\n"
     ]
    },
    {
     "name": "stderr",
     "output_type": "stream",
     "text": [
      "\n",
      "3it [00:00, 16152.65it/s]\n"
     ]
    },
    {
     "name": "stdout",
     "output_type": "stream",
     "text": [
      "Computing brute force solution for dictionary dimension 3 and target_dimension 2\n"
     ]
    },
    {
     "name": "stderr",
     "output_type": "stream",
     "text": [
      "\n",
      "3it [00:00, 4565.64it/s]\n",
      " 74%|█████████████████████████████████████████████████████████████████                       | 74/100 [11:36<03:48,  8.81s/it]"
     ]
    },
    {
     "name": "stdout",
     "output_type": "stream",
     "text": [
      "stage two time 0.003426074981689453\n",
      "greedy time 0.06500720977783203\n",
      "basis pursuit time 8.42228889465332\n",
      "Brute force complexity 1 from D=2 and nbp=2\n",
      "Computing brute force solution for dictionary dimension 2 and target_dimension 2\n"
     ]
    },
    {
     "name": "stderr",
     "output_type": "stream",
     "text": [
      "\n",
      "1it [00:00, 3486.54it/s]\n"
     ]
    },
    {
     "name": "stdout",
     "output_type": "stream",
     "text": [
      "Computing brute force solution for dictionary dimension 2 and target_dimension 2\n"
     ]
    },
    {
     "name": "stderr",
     "output_type": "stream",
     "text": [
      "\n",
      "1it [00:00, 5152.71it/s]\n",
      " 75%|██████████████████████████████████████████████████████████████████                      | 75/100 [11:44<03:35,  8.62s/it]"
     ]
    },
    {
     "name": "stdout",
     "output_type": "stream",
     "text": [
      "stage two time 0.0036499500274658203\n",
      "greedy time 0.061891794204711914\n",
      "basis pursuit time 8.112611770629883\n",
      "Brute force complexity 3 from D=2 and nbp=3\n",
      "Computing brute force solution for dictionary dimension 3 and target_dimension 2\n"
     ]
    },
    {
     "name": "stderr",
     "output_type": "stream",
     "text": [
      "\n",
      "3it [00:00, 10347.79it/s]\n"
     ]
    },
    {
     "name": "stdout",
     "output_type": "stream",
     "text": [
      "Computing brute force solution for dictionary dimension 3 and target_dimension 2\n"
     ]
    },
    {
     "name": "stderr",
     "output_type": "stream",
     "text": [
      "\n",
      "3it [00:00, 5329.48it/s]\n",
      " 76%|██████████████████████████████████████████████████████████████████▉                     | 76/100 [11:53<03:24,  8.54s/it]"
     ]
    },
    {
     "name": "stdout",
     "output_type": "stream",
     "text": [
      "stage two time 0.0031239986419677734\n",
      "greedy time 0.06350302696228027\n",
      "basis pursuit time 8.271718740463257\n",
      "Brute force complexity 3 from D=2 and nbp=3\n",
      "Computing brute force solution for dictionary dimension 3 and target_dimension 2\n"
     ]
    },
    {
     "name": "stderr",
     "output_type": "stream",
     "text": [
      "\n",
      "3it [00:00, 5262.61it/s]\n"
     ]
    },
    {
     "name": "stdout",
     "output_type": "stream",
     "text": [
      "Computing brute force solution for dictionary dimension 3 and target_dimension 2\n"
     ]
    },
    {
     "name": "stderr",
     "output_type": "stream",
     "text": [
      "\n",
      "3it [00:00, 9204.76it/s]\n",
      " 77%|███████████████████████████████████████████████████████████████████▊                    | 77/100 [12:02<03:18,  8.65s/it]"
     ]
    },
    {
     "name": "stdout",
     "output_type": "stream",
     "text": [
      "stage two time 0.004313230514526367\n",
      "greedy time 0.05473685264587402\n",
      "basis pursuit time 8.835003852844238\n",
      "Brute force complexity 1 from D=2 and nbp=2\n",
      "Computing brute force solution for dictionary dimension 2 and target_dimension 2\n"
     ]
    },
    {
     "name": "stderr",
     "output_type": "stream",
     "text": [
      "\n",
      "1it [00:00, 5047.30it/s]\n"
     ]
    },
    {
     "name": "stdout",
     "output_type": "stream",
     "text": [
      "Computing brute force solution for dictionary dimension 2 and target_dimension 2\n"
     ]
    },
    {
     "name": "stderr",
     "output_type": "stream",
     "text": [
      "\n",
      "1it [00:00, 1879.17it/s]\n",
      " 78%|████████████████████████████████████████████████████████████████████▋                   | 78/100 [12:11<03:14,  8.82s/it]"
     ]
    },
    {
     "name": "stdout",
     "output_type": "stream",
     "text": [
      "stage two time 0.0036470890045166016\n",
      "greedy time 0.07534217834472656\n",
      "basis pursuit time 9.14590573310852\n",
      "Brute force complexity 3 from D=2 and nbp=3\n",
      "Computing brute force solution for dictionary dimension 3 and target_dimension 2\n"
     ]
    },
    {
     "name": "stderr",
     "output_type": "stream",
     "text": [
      "\n",
      "3it [00:00, 8892.52it/s]\n"
     ]
    },
    {
     "name": "stdout",
     "output_type": "stream",
     "text": [
      "Computing brute force solution for dictionary dimension 3 and target_dimension 2\n"
     ]
    },
    {
     "name": "stderr",
     "output_type": "stream",
     "text": [
      "\n",
      "3it [00:00, 9496.54it/s]\n",
      " 79%|█████████████████████████████████████████████████████████████████████▌                  | 79/100 [12:19<03:03,  8.74s/it]"
     ]
    },
    {
     "name": "stdout",
     "output_type": "stream",
     "text": [
      "stage two time 0.0033473968505859375\n",
      "greedy time 0.06842398643493652\n",
      "basis pursuit time 8.460535764694214\n",
      "Brute force complexity 79800 from D=2 and nbp=400\n",
      "Computing brute force solution for dictionary dimension 400 and target_dimension 2\n"
     ]
    },
    {
     "name": "stderr",
     "output_type": "stream",
     "text": [
      "\n",
      "0it [00:00, ?it/s]\u001b[A\n",
      "2587it [00:00, 25867.13it/s]\u001b[A\n",
      "5636it [00:00, 28581.14it/s]\u001b[A\n",
      "8609it [00:00, 29104.86it/s]\u001b[A\n",
      "11698it [00:00, 29806.50it/s]\u001b[A\n",
      "15066it [00:00, 31201.68it/s]\u001b[A\n",
      "18187it [00:00, 30365.65it/s]\u001b[A\n",
      "21228it [00:00, 29820.32it/s]\u001b[A\n",
      "24214it [00:00, 29787.06it/s]\u001b[A\n",
      "27395it [00:00, 30405.39it/s]\u001b[A\n",
      "30439it [00:01, 30198.83it/s]\u001b[A\n",
      "33510it [00:01, 30351.38it/s]\u001b[A\n",
      "36547it [00:01, 29198.06it/s]\u001b[A\n",
      "39477it [00:01, 29056.42it/s]\u001b[A\n",
      "42389it [00:01, 29011.28it/s]\u001b[A\n",
      "45745it [00:01, 30352.88it/s]\u001b[A\n",
      "48787it [00:01, 30113.37it/s]\u001b[A\n",
      "51803it [00:01, 29780.97it/s]\u001b[A\n",
      "55205it [00:01, 31028.15it/s]\u001b[A\n",
      "58474it [00:01, 31518.91it/s]\u001b[A\n",
      "61904it [00:02, 32343.97it/s]\u001b[A\n",
      "65374it [00:02, 33046.03it/s]\u001b[A\n",
      "68682it [00:02, 32827.63it/s]\u001b[A\n",
      "71968it [00:02, 31853.42it/s]\u001b[A\n",
      "75161it [00:02, 30869.46it/s]\u001b[A\n",
      "79800it [00:02, 30522.04it/s]\u001b[A\n"
     ]
    },
    {
     "name": "stdout",
     "output_type": "stream",
     "text": [
      "Computing brute force solution for dictionary dimension 400 and target_dimension 2\n"
     ]
    },
    {
     "name": "stderr",
     "output_type": "stream",
     "text": [
      "\n",
      "0it [00:00, ?it/s]\u001b[A\n",
      "3850it [00:00, 38456.85it/s]\u001b[A\n",
      "7696it [00:00, 35815.49it/s]\u001b[A\n",
      "11290it [00:00, 34084.53it/s]\u001b[A\n",
      "14709it [00:00, 33168.76it/s]\u001b[A\n",
      "18032it [00:00, 32490.48it/s]\u001b[A\n",
      "21393it [00:00, 32850.92it/s]\u001b[A\n",
      "24845it [00:00, 33375.00it/s]\u001b[A\n",
      "28387it [00:00, 34007.49it/s]\u001b[A\n",
      "31793it [00:00, 32446.79it/s]\u001b[A\n",
      "35054it [00:01, 32122.60it/s]\u001b[A\n",
      "38471it [00:01, 32724.22it/s]\u001b[A\n",
      "42073it [00:01, 33697.24it/s]\u001b[A\n",
      "45452it [00:01, 32614.49it/s]\u001b[A\n",
      "48726it [00:01, 32370.55it/s]\u001b[A\n",
      "52135it [00:01, 32870.79it/s]\u001b[A\n",
      "55691it [00:01, 33658.76it/s]\u001b[A\n",
      "59133it [00:01, 33882.21it/s]\u001b[A\n",
      "62794it [00:01, 34688.78it/s]\u001b[A\n",
      "66311it [00:01, 34831.56it/s]\u001b[A\n",
      "69798it [00:02, 34294.19it/s]\u001b[A\n",
      "73232it [00:02, 34147.30it/s]\u001b[A\n",
      "79800it [00:02, 33468.09it/s]\u001b[A\n",
      " 80%|██████████████████████████████████████████████████████████████████████▍                 | 80/100 [12:33<03:24, 10.21s/it]"
     ]
    },
    {
     "name": "stdout",
     "output_type": "stream",
     "text": [
      "stage two time 2.6276657581329346\n",
      "greedy time 0.059175729751586914\n",
      "basis pursuit time 8.549356937408447\n",
      "Brute force complexity 92235 from D=2 and nbp=430\n",
      "Computing brute force solution for dictionary dimension 430 and target_dimension 2\n"
     ]
    },
    {
     "name": "stderr",
     "output_type": "stream",
     "text": [
      "\n",
      "0it [00:00, ?it/s]\u001b[A\n",
      "3133it [00:00, 31323.98it/s]\u001b[A\n",
      "6471it [00:00, 32528.54it/s]\u001b[A\n",
      "9850it [00:00, 33103.70it/s]\u001b[A\n",
      "13240it [00:00, 33417.39it/s]\u001b[A\n",
      "16712it [00:00, 33883.81it/s]\u001b[A\n",
      "20135it [00:00, 33998.59it/s]\u001b[A\n",
      "23684it [00:00, 34483.40it/s]\u001b[A\n",
      "27133it [00:00, 34265.21it/s]\u001b[A\n",
      "30560it [00:00, 33588.73it/s]\u001b[A\n",
      "33958it [00:01, 33705.03it/s]\u001b[A\n",
      "37331it [00:01, 32178.42it/s]\u001b[A\n",
      "40730it [00:01, 32705.17it/s]\u001b[A\n",
      "44218it [00:01, 33333.81it/s]\u001b[A\n",
      "47562it [00:01, 32807.36it/s]\u001b[A\n",
      "50851it [00:01, 32525.26it/s]\u001b[A\n",
      "54110it [00:01, 32124.20it/s]\u001b[A\n",
      "57593it [00:01, 32913.86it/s]\u001b[A\n",
      "61133it [00:01, 33645.01it/s]\u001b[A\n",
      "64512it [00:01, 33686.00it/s]\u001b[A\n",
      "67988it [00:02, 34004.05it/s]\u001b[A\n",
      "71392it [00:02, 33853.35it/s]\u001b[A\n",
      "74780it [00:02, 32661.93it/s]\u001b[A\n",
      "78056it [00:02, 31486.55it/s]\u001b[A\n",
      "81375it [00:02, 31972.69it/s]\u001b[A\n",
      "84927it [00:02, 33000.31it/s]\u001b[A\n",
      "88428it [00:02, 33587.45it/s]\u001b[A\n",
      "92235it [00:02, 33175.07it/s]\u001b[A\n"
     ]
    },
    {
     "name": "stdout",
     "output_type": "stream",
     "text": [
      "Computing brute force solution for dictionary dimension 430 and target_dimension 2\n"
     ]
    },
    {
     "name": "stderr",
     "output_type": "stream",
     "text": [
      "\n",
      "0it [00:00, ?it/s]\u001b[A\n",
      "3200it [00:00, 31997.13it/s]\u001b[A\n",
      "6544it [00:00, 32844.62it/s]\u001b[A\n",
      "10076it [00:00, 33974.31it/s]\u001b[A\n",
      "13474it [00:00, 33759.42it/s]\u001b[A\n",
      "16851it [00:00, 33474.07it/s]\u001b[A\n",
      "20719it [00:00, 35226.63it/s]\u001b[A\n",
      "24244it [00:00, 34326.85it/s]\u001b[A\n",
      "27682it [00:00, 33246.52it/s]\u001b[A\n",
      "31099it [00:00, 33522.11it/s]\u001b[A\n",
      "34555it [00:01, 33832.92it/s]\u001b[A\n",
      "37944it [00:01, 33727.95it/s]\u001b[A\n",
      "41321it [00:01, 33576.49it/s]\u001b[A\n",
      "44936it [00:01, 34342.11it/s]\u001b[A\n",
      "48374it [00:01, 33798.33it/s]\u001b[A\n",
      "51758it [00:01, 32359.16it/s]\u001b[A\n",
      "55008it [00:01, 31867.58it/s]\u001b[A\n",
      "58537it [00:01, 32853.06it/s]\u001b[A\n",
      "61833it [00:01, 32666.94it/s]\u001b[A\n",
      "65107it [00:01, 32399.00it/s]\u001b[A\n",
      "68545it [00:02, 32978.27it/s]\u001b[A\n",
      "72199it [00:02, 34028.89it/s]\u001b[A\n",
      "76057it [00:02, 35376.40it/s]\u001b[A\n",
      "80007it [00:02, 36596.62it/s]\u001b[A\n",
      "83908it [00:02, 37314.93it/s]\u001b[A\n",
      "87722it [00:02, 37558.55it/s]\u001b[A\n",
      "92235it [00:02, 34469.68it/s]\u001b[A\n",
      " 81%|███████████████████████████████████████████████████████████████████████▎                | 81/100 [12:47<03:37, 11.44s/it]"
     ]
    },
    {
     "name": "stdout",
     "output_type": "stream",
     "text": [
      "stage two time 2.7960619926452637\n",
      "greedy time 0.08380913734436035\n",
      "basis pursuit time 8.734967947006226\n",
      "Brute force complexity 3 from D=2 and nbp=3\n",
      "Computing brute force solution for dictionary dimension 3 and target_dimension 2\n"
     ]
    },
    {
     "name": "stderr",
     "output_type": "stream",
     "text": [
      "\n",
      "3it [00:00, 9496.54it/s]\n"
     ]
    },
    {
     "name": "stdout",
     "output_type": "stream",
     "text": [
      "Computing brute force solution for dictionary dimension 3 and target_dimension 2\n"
     ]
    },
    {
     "name": "stderr",
     "output_type": "stream",
     "text": [
      "\n",
      "3it [00:00, 8974.97it/s]\n",
      " 82%|████████████████████████████████████████████████████████████████████████▏               | 82/100 [12:56<03:13, 10.73s/it]"
     ]
    },
    {
     "name": "stdout",
     "output_type": "stream",
     "text": [
      "stage two time 0.003306150436401367\n",
      "greedy time 0.07668876647949219\n",
      "basis pursuit time 8.998188018798828\n",
      "Brute force complexity 90951 from D=2 and nbp=427\n",
      "Computing brute force solution for dictionary dimension 427 and target_dimension 2\n"
     ]
    },
    {
     "name": "stderr",
     "output_type": "stream",
     "text": [
      "\n",
      "0it [00:00, ?it/s]\u001b[A\n",
      "3664it [00:00, 36637.50it/s]\u001b[A\n",
      "7341it [00:00, 36713.04it/s]\u001b[A\n",
      "11013it [00:00, 36418.22it/s]\u001b[A\n",
      "14656it [00:00, 36158.78it/s]\u001b[A\n",
      "18273it [00:00, 35982.69it/s]\u001b[A\n",
      "21899it [00:00, 36075.32it/s]\u001b[A\n",
      "25507it [00:00, 35985.71it/s]\u001b[A\n",
      "29197it [00:00, 36274.69it/s]\u001b[A\n",
      "32825it [00:00, 35602.06it/s]\u001b[A\n",
      "36388it [00:01, 35290.19it/s]\u001b[A\n",
      "39919it [00:01, 34162.42it/s]\u001b[A\n",
      "43496it [00:01, 34631.92it/s]\u001b[A\n",
      "47106it [00:01, 35064.94it/s]\u001b[A\n",
      "50726it [00:01, 35399.83it/s]\u001b[A\n",
      "54307it [00:01, 35521.13it/s]\u001b[A\n",
      "57863it [00:01, 35223.13it/s]\u001b[A\n",
      "61389it [00:01, 35125.15it/s]\u001b[A\n",
      "64904it [00:01, 35101.72it/s]\u001b[A\n",
      "68416it [00:01, 35101.51it/s]\u001b[A\n",
      "72003it [00:02, 35327.93it/s]\u001b[A\n",
      "75622it [00:02, 35585.02it/s]\u001b[A\n",
      "79202it [00:02, 35648.27it/s]\u001b[A\n",
      "82856it [00:02, 35914.14it/s]\u001b[A\n",
      "86448it [00:02, 35739.42it/s]\u001b[A\n",
      "90951it [00:02, 35529.14it/s]\u001b[A\n"
     ]
    },
    {
     "name": "stdout",
     "output_type": "stream",
     "text": [
      "Computing brute force solution for dictionary dimension 427 and target_dimension 2\n"
     ]
    },
    {
     "name": "stderr",
     "output_type": "stream",
     "text": [
      "\n",
      "0it [00:00, ?it/s]\u001b[A\n",
      "3992it [00:00, 39913.28it/s]\u001b[A\n",
      "7998it [00:00, 39993.66it/s]\u001b[A\n",
      "11998it [00:00, 39391.92it/s]\u001b[A\n",
      "16116it [00:00, 40090.22it/s]\u001b[A\n",
      "20186it [00:00, 40308.19it/s]\u001b[A\n",
      "24226it [00:00, 40338.32it/s]\u001b[A\n",
      "28272it [00:00, 40377.06it/s]\u001b[A\n",
      "32311it [00:00, 39542.08it/s]\u001b[A\n",
      "36397it [00:00, 39946.54it/s]\u001b[A\n",
      "40395it [00:01, 38410.40it/s]\u001b[A\n",
      "44422it [00:01, 38957.42it/s]\u001b[A\n",
      "48483it [00:01, 39447.39it/s]\u001b[A\n",
      "52530it [00:01, 39750.58it/s]\u001b[A\n",
      "56559it [00:01, 39908.83it/s]\u001b[A\n",
      "60593it [00:01, 40037.34it/s]\u001b[A\n",
      "64686it [00:01, 40304.18it/s]\u001b[A\n",
      "68811it [00:01, 40584.40it/s]\u001b[A\n",
      "72872it [00:01, 39764.58it/s]\u001b[A\n",
      "76904it [00:01, 39927.60it/s]\u001b[A\n",
      "80944it [00:02, 40066.61it/s]\u001b[A\n",
      "84954it [00:02, 39978.21it/s]\u001b[A\n",
      "90951it [00:02, 39855.22it/s]\u001b[A\n",
      " 83%|█████████████████████████████████████████████████████████████████████████               | 83/100 [13:10<03:14, 11.42s/it]"
     ]
    },
    {
     "name": "stdout",
     "output_type": "stream",
     "text": [
      "stage two time 2.572343111038208\n",
      "greedy time 0.06788396835327148\n",
      "basis pursuit time 8.100419998168945\n",
      "Brute force complexity 3 from D=2 and nbp=3\n",
      "Computing brute force solution for dictionary dimension 3 and target_dimension 2\n"
     ]
    },
    {
     "name": "stderr",
     "output_type": "stream",
     "text": [
      "\n",
      "3it [00:00, 10828.67it/s]\n"
     ]
    },
    {
     "name": "stdout",
     "output_type": "stream",
     "text": [
      "Computing brute force solution for dictionary dimension 3 and target_dimension 2\n"
     ]
    },
    {
     "name": "stderr",
     "output_type": "stream",
     "text": [
      "\n",
      "3it [00:00, 6550.19it/s]\n",
      " 84%|█████████████████████████████████████████████████████████████████████████▉              | 84/100 [13:18<02:48, 10.53s/it]"
     ]
    },
    {
     "name": "stdout",
     "output_type": "stream",
     "text": [
      "stage two time 0.003055095672607422\n",
      "greedy time 0.07577395439147949\n",
      "basis pursuit time 8.37046504020691\n",
      "Brute force complexity 3 from D=2 and nbp=3\n",
      "Computing brute force solution for dictionary dimension 3 and target_dimension 2\n"
     ]
    },
    {
     "name": "stderr",
     "output_type": "stream",
     "text": [
      "\n",
      "3it [00:00, 12932.08it/s]\n"
     ]
    },
    {
     "name": "stdout",
     "output_type": "stream",
     "text": [
      "Computing brute force solution for dictionary dimension 3 and target_dimension 2\n"
     ]
    },
    {
     "name": "stderr",
     "output_type": "stream",
     "text": [
      "\n",
      "3it [00:00, 14217.98it/s]\n",
      " 85%|██████████████████████████████████████████████████████████████████████████▊             | 85/100 [13:27<02:31, 10.10s/it]"
     ]
    },
    {
     "name": "stdout",
     "output_type": "stream",
     "text": [
      "stage two time 0.002919912338256836\n",
      "greedy time 0.06842207908630371\n",
      "basis pursuit time 9.004294872283936\n",
      "Brute force complexity 3 from D=2 and nbp=3\n",
      "Computing brute force solution for dictionary dimension 3 and target_dimension 2\n"
     ]
    },
    {
     "name": "stderr",
     "output_type": "stream",
     "text": [
      "\n",
      "3it [00:00, 10591.68it/s]\n"
     ]
    },
    {
     "name": "stdout",
     "output_type": "stream",
     "text": [
      "Computing brute force solution for dictionary dimension 3 and target_dimension 2\n"
     ]
    },
    {
     "name": "stderr",
     "output_type": "stream",
     "text": [
      "\n",
      "3it [00:00, 5035.18it/s]\n",
      " 86%|███████████████████████████████████████████████████████████████████████████▋            | 86/100 [13:36<02:16,  9.76s/it]"
     ]
    },
    {
     "name": "stdout",
     "output_type": "stream",
     "text": [
      "stage two time 0.003366231918334961\n",
      "greedy time 0.06988286972045898\n",
      "basis pursuit time 8.90691590309143\n",
      "Brute force complexity 3 from D=2 and nbp=3\n",
      "Computing brute force solution for dictionary dimension 3 and target_dimension 2\n"
     ]
    },
    {
     "name": "stderr",
     "output_type": "stream",
     "text": [
      "\n",
      "3it [00:00, 3663.15it/s]\n"
     ]
    },
    {
     "name": "stdout",
     "output_type": "stream",
     "text": [
      "Computing brute force solution for dictionary dimension 3 and target_dimension 2\n"
     ]
    },
    {
     "name": "stderr",
     "output_type": "stream",
     "text": [
      "\n",
      "3it [00:00, 8624.34it/s]\n",
      " 87%|████████████████████████████████████████████████████████████████████████████▌           | 87/100 [13:45<02:04,  9.57s/it]"
     ]
    },
    {
     "name": "stdout",
     "output_type": "stream",
     "text": [
      "stage two time 0.004851102828979492\n",
      "greedy time 0.05972886085510254\n",
      "basis pursuit time 9.039966344833374\n",
      "Brute force complexity 72771 from D=2 and nbp=382\n",
      "Computing brute force solution for dictionary dimension 382 and target_dimension 2\n"
     ]
    },
    {
     "name": "stderr",
     "output_type": "stream",
     "text": [
      "\n",
      "0it [00:00, ?it/s]\u001b[A\n",
      "3601it [00:00, 36008.92it/s]\u001b[A\n",
      "7274it [00:00, 36430.95it/s]\u001b[A\n",
      "10918it [00:00, 36018.95it/s]\u001b[A\n",
      "14601it [00:00, 36334.96it/s]\u001b[A\n",
      "18236it [00:00, 36240.71it/s]\u001b[A\n",
      "21861it [00:00, 36135.27it/s]\u001b[A\n",
      "25487it [00:00, 36174.67it/s]\u001b[A\n",
      "29117it [00:00, 36212.35it/s]\u001b[A\n",
      "32786it [00:00, 36360.96it/s]\u001b[A\n",
      "36423it [00:01, 36281.33it/s]\u001b[A\n",
      "40132it [00:01, 36526.02it/s]\u001b[A\n",
      "43785it [00:01, 35236.81it/s]\u001b[A\n",
      "47319it [00:01, 34022.10it/s]\u001b[A\n",
      "50735it [00:01, 33252.81it/s]\u001b[A\n",
      "54361it [00:01, 34116.35it/s]\u001b[A\n",
      "57988it [00:01, 34741.71it/s]\u001b[A\n",
      "61598it [00:01, 35138.48it/s]\u001b[A\n",
      "65224it [00:01, 35468.22it/s]\u001b[A\n",
      "68875it [00:01, 35775.40it/s]\u001b[A\n",
      "72771it [00:02, 35528.16it/s]\u001b[A\n"
     ]
    },
    {
     "name": "stdout",
     "output_type": "stream",
     "text": [
      "Computing brute force solution for dictionary dimension 382 and target_dimension 2\n"
     ]
    },
    {
     "name": "stderr",
     "output_type": "stream",
     "text": [
      "\n",
      "0it [00:00, ?it/s]\u001b[A\n",
      "3997it [00:00, 39964.04it/s]\u001b[A\n",
      "7994it [00:00, 38754.14it/s]\u001b[A\n",
      "11974it [00:00, 39222.79it/s]\u001b[A\n",
      "15922it [00:00, 39320.09it/s]\u001b[A\n",
      "19856it [00:00, 39305.11it/s]\u001b[A\n",
      "23839it [00:00, 39480.32it/s]\u001b[A\n",
      "27884it [00:00, 39795.51it/s]\u001b[A\n",
      "31940it [00:00, 40037.21it/s]\u001b[A\n",
      "35956it [00:00, 40074.29it/s]\u001b[A\n",
      "39964it [00:01, 39808.69it/s]\u001b[A\n",
      "43946it [00:01, 39809.72it/s]\u001b[A\n",
      "47928it [00:01, 39362.40it/s]\u001b[A\n",
      "51866it [00:01, 39298.88it/s]\u001b[A\n",
      "55797it [00:01, 38939.81it/s]\u001b[A\n",
      "59752it [00:01, 39120.38it/s]\u001b[A\n",
      "63686it [00:01, 39183.57it/s]\u001b[A\n",
      "67606it [00:01, 39106.44it/s]\u001b[A\n",
      "72771it [00:01, 39306.02it/s]\u001b[A\n",
      " 88%|█████████████████████████████████████████████████████████████████████████████▍          | 88/100 [13:59<02:09, 10.76s/it]"
     ]
    },
    {
     "name": "stdout",
     "output_type": "stream",
     "text": [
      "stage two time 2.0601611137390137\n",
      "greedy time 0.056842803955078125\n",
      "basis pursuit time 9.558568000793457\n",
      "Brute force complexity 1 from D=2 and nbp=2\n",
      "Computing brute force solution for dictionary dimension 2 and target_dimension 2\n"
     ]
    },
    {
     "name": "stderr",
     "output_type": "stream",
     "text": [
      "\n",
      "1it [00:00, 7943.76it/s]\n"
     ]
    },
    {
     "name": "stdout",
     "output_type": "stream",
     "text": [
      "Computing brute force solution for dictionary dimension 2 and target_dimension 2\n"
     ]
    },
    {
     "name": "stderr",
     "output_type": "stream",
     "text": [
      "\n",
      "1it [00:00, 4549.14it/s]\n",
      " 89%|██████████████████████████████████████████████████████████████████████████████▎         | 89/100 [14:07<01:49,  9.94s/it]"
     ]
    },
    {
     "name": "stdout",
     "output_type": "stream",
     "text": [
      "stage two time 0.003075122833251953\n",
      "greedy time 0.08502507209777832\n",
      "basis pursuit time 7.947265148162842\n",
      "Brute force complexity 103285 from D=2 and nbp=455\n",
      "Computing brute force solution for dictionary dimension 455 and target_dimension 2\n"
     ]
    },
    {
     "name": "stderr",
     "output_type": "stream",
     "text": [
      "\n",
      "0it [00:00, ?it/s]\u001b[A\n",
      "3551it [00:00, 35502.16it/s]\u001b[A\n",
      "7110it [00:00, 35549.21it/s]\u001b[A\n",
      "10726it [00:00, 35827.39it/s]\u001b[A\n",
      "14309it [00:00, 35528.59it/s]\u001b[A\n",
      "17888it [00:00, 35619.80it/s]\u001b[A\n",
      "21451it [00:00, 35573.24it/s]\u001b[A\n",
      "25009it [00:00, 33346.30it/s]\u001b[A\n",
      "28369it [00:00, 33024.51it/s]\u001b[A\n",
      "31878it [00:00, 33643.76it/s]\u001b[A\n",
      "35434it [00:01, 34217.22it/s]\u001b[A\n",
      "39064it [00:01, 34841.69it/s]\u001b[A\n",
      "42638it [00:01, 35108.47it/s]\u001b[A\n",
      "46383it [00:01, 35809.73it/s]\u001b[A\n",
      "49970it [00:01, 35717.87it/s]\u001b[A\n",
      "53546it [00:01, 34767.69it/s]\u001b[A\n",
      "57131it [00:01, 35084.38it/s]\u001b[A\n",
      "60646it [00:01, 34866.28it/s]\u001b[A\n",
      "64137it [00:01, 34488.12it/s]\u001b[A\n",
      "67590it [00:01, 33843.02it/s]\u001b[A\n",
      "71140it [00:02, 34325.60it/s]\u001b[A\n",
      "74666it [00:02, 34600.52it/s]\u001b[A\n",
      "78130it [00:02, 33228.69it/s]\u001b[A\n",
      "81466it [00:02, 32737.35it/s]\u001b[A\n",
      "84749it [00:02, 32712.51it/s]\u001b[A\n",
      "88037it [00:02, 32757.17it/s]\u001b[A\n",
      "91318it [00:02, 32343.09it/s]\u001b[A\n",
      "94751it [00:02, 32925.10it/s]\u001b[A\n",
      "98262it [00:02, 33568.90it/s]\u001b[A\n",
      "103285it [00:03, 34086.59it/s]\u001b[A\n"
     ]
    },
    {
     "name": "stdout",
     "output_type": "stream",
     "text": [
      "Computing brute force solution for dictionary dimension 455 and target_dimension 2\n"
     ]
    },
    {
     "name": "stderr",
     "output_type": "stream",
     "text": [
      "\n",
      "0it [00:00, ?it/s]\u001b[A\n",
      "3485it [00:00, 34848.54it/s]\u001b[A\n",
      "7233it [00:00, 36393.44it/s]\u001b[A\n",
      "11037it [00:00, 37143.93it/s]\u001b[A\n",
      "14752it [00:00, 36902.00it/s]\u001b[A\n",
      "18651it [00:00, 37650.25it/s]\u001b[A\n",
      "22417it [00:00, 36724.50it/s]\u001b[A\n",
      "26094it [00:00, 36105.26it/s]\u001b[A\n",
      "29973it [00:00, 36937.86it/s]\u001b[A\n",
      "33898it [00:00, 37646.87it/s]\u001b[A\n",
      "37743it [00:01, 37891.66it/s]\u001b[A\n",
      "41536it [00:01, 36695.61it/s]\u001b[A\n",
      "45216it [00:01, 36287.55it/s]\u001b[A\n",
      "48984it [00:01, 36696.39it/s]\u001b[A\n",
      "52981it [00:01, 37663.79it/s]\u001b[A\n",
      "57004it [00:01, 38425.66it/s]\u001b[A\n",
      "61016it [00:01, 38928.33it/s]\u001b[A\n",
      "65103it [00:01, 39506.18it/s]\u001b[A\n",
      "69057it [00:01, 39488.66it/s]\u001b[A\n",
      "73009it [00:01, 39334.84it/s]\u001b[A\n",
      "76945it [00:02, 37937.66it/s]\u001b[A\n",
      "80751it [00:02, 37262.26it/s]\u001b[A\n",
      "84553it [00:02, 37481.16it/s]\u001b[A\n",
      "88309it [00:02, 37214.81it/s]\u001b[A\n",
      "92036it [00:02, 36972.40it/s]\u001b[A\n",
      "95737it [00:02, 36638.52it/s]\u001b[A\n",
      "103285it [00:02, 37490.82it/s][A\n",
      " 90%|███████████████████████████████████████████████████████████████████████████████▏        | 90/100 [14:21<01:51, 11.14s/it]"
     ]
    },
    {
     "name": "stdout",
     "output_type": "stream",
     "text": [
      "stage two time 3.0466108322143555\n",
      "greedy time 0.05478787422180176\n",
      "basis pursuit time 8.052806377410889\n",
      "Brute force complexity 3 from D=2 and nbp=3\n",
      "Computing brute force solution for dictionary dimension 3 and target_dimension 2\n"
     ]
    },
    {
     "name": "stderr",
     "output_type": "stream",
     "text": [
      "\n",
      "3it [00:00, 10609.54it/s]\n"
     ]
    },
    {
     "name": "stdout",
     "output_type": "stream",
     "text": [
      "Computing brute force solution for dictionary dimension 3 and target_dimension 2\n"
     ]
    },
    {
     "name": "stderr",
     "output_type": "stream",
     "text": [
      "\n",
      "3it [00:00, 4310.69it/s]\n",
      " 91%|████████████████████████████████████████████████████████████████████████████████        | 91/100 [14:29<01:31, 10.22s/it]"
     ]
    },
    {
     "name": "stdout",
     "output_type": "stream",
     "text": [
      "stage two time 0.0031232833862304688\n",
      "greedy time 0.07779788970947266\n",
      "basis pursuit time 7.9853692054748535\n",
      "Brute force complexity 23220 from D=2 and nbp=216\n",
      "Computing brute force solution for dictionary dimension 216 and target_dimension 2\n"
     ]
    },
    {
     "name": "stderr",
     "output_type": "stream",
     "text": [
      "\n",
      "0it [00:00, ?it/s]\u001b[A\n",
      "3140it [00:00, 31392.47it/s]\u001b[A\n",
      "6463it [00:00, 32468.50it/s]\u001b[A\n",
      "9826it [00:00, 32996.98it/s]\u001b[A\n",
      "13126it [00:00, 32820.42it/s]\u001b[A\n",
      "16510it [00:00, 33184.05it/s]\u001b[A\n",
      "23220it [00:00, 33425.76it/s]\u001b[A\n"
     ]
    },
    {
     "name": "stdout",
     "output_type": "stream",
     "text": [
      "Computing brute force solution for dictionary dimension 216 and target_dimension 2\n"
     ]
    },
    {
     "name": "stderr",
     "output_type": "stream",
     "text": [
      "\n",
      "0it [00:00, ?it/s]\u001b[A\n",
      "3831it [00:00, 38301.18it/s]\u001b[A\n",
      "7662it [00:00, 37931.80it/s]\u001b[A\n",
      "11456it [00:00, 36197.71it/s]\u001b[A\n",
      "15097it [00:00, 36277.94it/s]\u001b[A\n",
      "19100it [00:00, 37602.30it/s]\u001b[A\n",
      "23220it [00:00, 36868.40it/s]\u001b[A\n",
      " 92%|████████████████████████████████████████████████████████████████████████████████▉       | 92/100 [14:39<01:21, 10.13s/it]"
     ]
    },
    {
     "name": "stdout",
     "output_type": "stream",
     "text": [
      "stage two time 0.7008657455444336\n",
      "greedy time 0.05671501159667969\n",
      "basis pursuit time 8.52295184135437\n",
      "Brute force complexity 3 from D=2 and nbp=3\n",
      "Computing brute force solution for dictionary dimension 3 and target_dimension 2\n"
     ]
    },
    {
     "name": "stderr",
     "output_type": "stream",
     "text": [
      "\n",
      "3it [00:00, 12879.13it/s]\n"
     ]
    },
    {
     "name": "stdout",
     "output_type": "stream",
     "text": [
      "Computing brute force solution for dictionary dimension 3 and target_dimension 2\n"
     ]
    },
    {
     "name": "stderr",
     "output_type": "stream",
     "text": [
      "\n",
      "3it [00:00, 8060.80it/s]\n",
      " 93%|█████████████████████████████████████████████████████████████████████████████████▊      | 93/100 [14:47<01:08,  9.74s/it]"
     ]
    },
    {
     "name": "stdout",
     "output_type": "stream",
     "text": [
      "stage two time 0.0032699108123779297\n",
      "greedy time 0.10016489028930664\n",
      "basis pursuit time 8.712541103363037\n",
      "Brute force complexity 88831 from D=2 and nbp=422\n",
      "Computing brute force solution for dictionary dimension 422 and target_dimension 2\n"
     ]
    },
    {
     "name": "stderr",
     "output_type": "stream",
     "text": [
      "\n",
      "0it [00:00, ?it/s]\u001b[A\n",
      "3306it [00:00, 33052.70it/s]\u001b[A\n",
      "6616it [00:00, 33076.78it/s]\u001b[A\n",
      "9924it [00:00, 31362.25it/s]\u001b[A\n",
      "13205it [00:00, 31914.09it/s]\u001b[A\n",
      "16456it [00:00, 32122.14it/s]\u001b[A\n",
      "19808it [00:00, 32588.85it/s]\u001b[A\n",
      "23072it [00:00, 31453.08it/s]\u001b[A\n",
      "26227it [00:00, 31228.80it/s]\u001b[A\n",
      "29357it [00:00, 31102.95it/s]\u001b[A\n",
      "32659it [00:01, 31681.04it/s]\u001b[A\n",
      "35958it [00:01, 32073.58it/s]\u001b[A\n",
      "39169it [00:01, 31814.94it/s]\u001b[A\n",
      "42356it [00:01, 31828.91it/s]\u001b[A\n",
      "45541it [00:01, 31578.14it/s]\u001b[A\n",
      "48701it [00:01, 31578.65it/s]\u001b[A\n",
      "51860it [00:01, 31337.25it/s]\u001b[A\n",
      "54995it [00:01, 30880.91it/s]\u001b[A\n",
      "58340it [00:01, 31636.46it/s]\u001b[A\n",
      "61620it [00:01, 31978.10it/s]\u001b[A\n",
      "65002it [00:02, 32525.63it/s]\u001b[A\n",
      "68357it [00:02, 32829.18it/s]\u001b[A\n",
      "71846it [00:02, 33444.33it/s]\u001b[A\n",
      "75192it [00:02, 32046.36it/s]\u001b[A\n",
      "78463it [00:02, 32237.35it/s]\u001b[A\n",
      "81697it [00:02, 32112.54it/s]\u001b[A\n",
      "84960it [00:02, 32264.43it/s]\u001b[A\n",
      "88831it [00:02, 32116.24it/s]\u001b[A\n"
     ]
    },
    {
     "name": "stdout",
     "output_type": "stream",
     "text": [
      "Computing brute force solution for dictionary dimension 422 and target_dimension 2\n"
     ]
    },
    {
     "name": "stderr",
     "output_type": "stream",
     "text": [
      "\n",
      "0it [00:00, ?it/s]\u001b[A\n",
      "3314it [00:00, 33132.37it/s]\u001b[A\n",
      "6959it [00:00, 35080.26it/s]\u001b[A\n",
      "10491it [00:00, 35186.52it/s]\u001b[A\n",
      "14213it [00:00, 35987.10it/s]\u001b[A\n",
      "17835it [00:00, 36070.44it/s]\u001b[A\n",
      "21798it [00:00, 37280.08it/s]\u001b[A\n",
      "25527it [00:00, 37153.41it/s]\u001b[A\n",
      "29243it [00:00, 34188.66it/s]\u001b[A\n",
      "33095it [00:00, 35462.71it/s]\u001b[A\n",
      "36958it [00:01, 36399.21it/s]\u001b[A\n",
      "40628it [00:01, 35495.40it/s]\u001b[A\n",
      "44202it [00:01, 35018.81it/s]\u001b[A\n",
      "47738it [00:01, 35116.09it/s]\u001b[A\n",
      "51262it [00:01, 34524.30it/s]\u001b[A\n",
      "54724it [00:01, 34501.15it/s]\u001b[A\n",
      "58466it [00:01, 35358.62it/s]\u001b[A\n",
      "62385it [00:01, 36489.30it/s]\u001b[A\n",
      "66041it [00:01, 36200.30it/s]\u001b[A\n",
      "69666it [00:01, 36000.76it/s]\u001b[A\n",
      "73345it [00:02, 36232.47it/s]\u001b[A\n",
      "77120it [00:02, 36681.32it/s]\u001b[A\n",
      "80791it [00:02, 36487.50it/s]\u001b[A\n",
      "84444it [00:02, 36499.17it/s]\u001b[A\n",
      "88831it [00:02, 35888.99it/s]\u001b[A\n",
      " 94%|██████████████████████████████████████████████████████████████████████████████████▋     | 94/100 [15:01<01:05, 10.93s/it]"
     ]
    },
    {
     "name": "stdout",
     "output_type": "stream",
     "text": [
      "stage two time 2.7801690101623535\n",
      "greedy time 0.06474590301513672\n",
      "basis pursuit time 8.370643377304077\n",
      "Brute force complexity 74691 from D=2 and nbp=387\n",
      "Computing brute force solution for dictionary dimension 387 and target_dimension 2\n"
     ]
    },
    {
     "name": "stderr",
     "output_type": "stream",
     "text": [
      "\n",
      "0it [00:00, ?it/s]\u001b[A\n",
      "3146it [00:00, 31448.71it/s]\u001b[A\n",
      "6543it [00:00, 32923.49it/s]\u001b[A\n",
      "9836it [00:00, 32211.81it/s]\u001b[A\n",
      "13059it [00:00, 31228.62it/s]\u001b[A\n",
      "16521it [00:00, 32415.29it/s]\u001b[A\n",
      "19776it [00:00, 32458.20it/s]\u001b[A\n",
      "23086it [00:00, 32663.16it/s]\u001b[A\n",
      "26356it [00:00, 31455.76it/s]\u001b[A\n",
      "29537it [00:00, 31559.92it/s]\u001b[A\n",
      "32701it [00:01, 31472.47it/s]\u001b[A\n",
      "35854it [00:01, 31147.45it/s]\u001b[A\n",
      "39036it [00:01, 31346.88it/s]\u001b[A\n",
      "42383it [00:01, 31977.96it/s]\u001b[A\n",
      "45628it [00:01, 32118.46it/s]\u001b[A\n",
      "48991it [00:01, 32570.01it/s]\u001b[A\n",
      "52496it [00:01, 33312.41it/s]\u001b[A\n",
      "55972it [00:01, 33741.55it/s]\u001b[A\n",
      "59353it [00:01, 33760.63it/s]\u001b[A\n",
      "62730it [00:01, 33183.93it/s]\u001b[A\n",
      "66052it [00:02, 32979.58it/s]\u001b[A\n",
      "69394it [00:02, 33105.94it/s]\u001b[A\n",
      "74691it [00:02, 32467.60it/s]\u001b[A\n"
     ]
    },
    {
     "name": "stdout",
     "output_type": "stream",
     "text": [
      "Computing brute force solution for dictionary dimension 387 and target_dimension 2\n"
     ]
    },
    {
     "name": "stderr",
     "output_type": "stream",
     "text": [
      "\n",
      "0it [00:00, ?it/s]\u001b[A\n",
      "3514it [00:00, 35135.09it/s]\u001b[A\n",
      "7327it [00:00, 36896.05it/s]\u001b[A\n",
      "11017it [00:00, 36089.90it/s]\u001b[A\n",
      "14629it [00:00, 34757.30it/s]\u001b[A\n",
      "18112it [00:00, 34713.03it/s]\u001b[A\n",
      "21623it [00:00, 34843.74it/s]\u001b[A\n",
      "25111it [00:00, 34555.75it/s]\u001b[A\n",
      "28769it [00:00, 35188.71it/s]\u001b[A\n",
      "32291it [00:00, 35013.68it/s]\u001b[A\n",
      "35870it [00:01, 35249.04it/s]\u001b[A\n",
      "39491it [00:01, 35538.05it/s]\u001b[A\n",
      "43047it [00:01, 34886.77it/s]\u001b[A\n",
      "46539it [00:01, 34762.38it/s]\u001b[A\n",
      "50050it [00:01, 34865.44it/s]\u001b[A\n",
      "53539it [00:01, 34300.00it/s]\u001b[A\n",
      "56972it [00:01, 34017.84it/s]\u001b[A\n",
      "60890it [00:01, 35539.14it/s]\u001b[A\n",
      "64524it [00:01, 35775.79it/s]\u001b[A\n",
      "68105it [00:01, 35780.01it/s]\u001b[A\n",
      "74691it [00:02, 35079.70it/s]\u001b[A\n",
      " 95%|███████████████████████████████████████████████████████████████████████████████████▌    | 95/100 [15:14<00:57, 11.51s/it]"
     ]
    },
    {
     "name": "stdout",
     "output_type": "stream",
     "text": [
      "stage two time 2.3139071464538574\n",
      "greedy time 0.07861185073852539\n",
      "basis pursuit time 8.315163850784302\n",
      "Brute force complexity 3 from D=2 and nbp=3\n",
      "Computing brute force solution for dictionary dimension 3 and target_dimension 2\n"
     ]
    },
    {
     "name": "stderr",
     "output_type": "stream",
     "text": [
      "\n",
      "3it [00:00, 14699.66it/s]\n"
     ]
    },
    {
     "name": "stdout",
     "output_type": "stream",
     "text": [
      "Computing brute force solution for dictionary dimension 3 and target_dimension 2\n"
     ]
    },
    {
     "name": "stderr",
     "output_type": "stream",
     "text": [
      "\n",
      "3it [00:00, 9709.04it/s]\n",
      " 96%|████████████████████████████████████████████████████████████████████████████████████▍   | 96/100 [15:23<00:42, 10.69s/it]"
     ]
    },
    {
     "name": "stdout",
     "output_type": "stream",
     "text": [
      "stage two time 0.002825021743774414\n",
      "greedy time 0.0820770263671875\n",
      "basis pursuit time 8.679086208343506\n",
      "Brute force complexity 3 from D=2 and nbp=3\n",
      "Computing brute force solution for dictionary dimension 3 and target_dimension 2\n"
     ]
    },
    {
     "name": "stderr",
     "output_type": "stream",
     "text": [
      "\n",
      "3it [00:00, 13287.13it/s]\n"
     ]
    },
    {
     "name": "stdout",
     "output_type": "stream",
     "text": [
      "Computing brute force solution for dictionary dimension 3 and target_dimension 2\n"
     ]
    },
    {
     "name": "stderr",
     "output_type": "stream",
     "text": [
      "\n",
      "3it [00:00, 10512.04it/s]\n",
      " 97%|█████████████████████████████████████████████████████████████████████████████████████▎  | 97/100 [15:31<00:30, 10.01s/it]"
     ]
    },
    {
     "name": "stdout",
     "output_type": "stream",
     "text": [
      "stage two time 0.003486156463623047\n",
      "greedy time 0.06609916687011719\n",
      "basis pursuit time 8.346508026123047\n",
      "Brute force complexity 79401 from D=2 and nbp=399\n",
      "Computing brute force solution for dictionary dimension 399 and target_dimension 2\n"
     ]
    },
    {
     "name": "stderr",
     "output_type": "stream",
     "text": [
      "\n",
      "0it [00:00, ?it/s]\u001b[A\n",
      "3149it [00:00, 31488.68it/s]\u001b[A\n",
      "6342it [00:00, 31745.49it/s]\u001b[A\n",
      "9517it [00:00, 31578.12it/s]\u001b[A\n",
      "12992it [00:00, 32821.21it/s]\u001b[A\n",
      "16357it [00:00, 33118.70it/s]\u001b[A\n",
      "19670it [00:00, 33055.44it/s]\u001b[A\n",
      "22976it [00:00, 32687.71it/s]\u001b[A\n",
      "26464it [00:00, 33378.04it/s]\u001b[A\n",
      "29804it [00:00, 33218.45it/s]\u001b[A\n",
      "33421it [00:01, 34121.12it/s]\u001b[A\n",
      "36950it [00:01, 34475.30it/s]\u001b[A\n",
      "40468it [00:01, 34687.81it/s]\u001b[A\n",
      "44050it [00:01, 35027.34it/s]\u001b[A\n",
      "47554it [00:01, 34842.70it/s]\u001b[A\n",
      "51039it [00:01, 33894.79it/s]\u001b[A\n",
      "54435it [00:01, 33330.06it/s]\u001b[A\n",
      "57867it [00:01, 33617.60it/s]\u001b[A\n",
      "61234it [00:01, 33219.07it/s]\u001b[A\n",
      "64657it [00:01, 33514.49it/s]\u001b[A\n",
      "68214it [00:02, 34119.41it/s]\u001b[A\n",
      "71724it [00:02, 34410.04it/s]\u001b[A\n",
      "75168it [00:02, 33351.84it/s]\u001b[A\n",
      "79401it [00:02, 33423.88it/s]\u001b[A\n"
     ]
    },
    {
     "name": "stdout",
     "output_type": "stream",
     "text": [
      "Computing brute force solution for dictionary dimension 399 and target_dimension 2\n"
     ]
    },
    {
     "name": "stderr",
     "output_type": "stream",
     "text": [
      "\n",
      "0it [00:00, ?it/s]\u001b[A\n",
      "3370it [00:00, 33678.67it/s]\u001b[A\n",
      "6841it [00:00, 34273.33it/s]\u001b[A\n",
      "10343it [00:00, 34611.65it/s]\u001b[A\n",
      "14268it [00:00, 36439.06it/s]\u001b[A\n",
      "18150it [00:00, 37296.90it/s]\u001b[A\n",
      "21880it [00:00, 37169.60it/s]\u001b[A\n",
      "25695it [00:00, 37487.02it/s]\u001b[A\n",
      "29444it [00:00, 36727.37it/s]\u001b[A\n",
      "33265it [00:00, 37183.34it/s]\u001b[A\n",
      "36987it [00:01, 36909.86it/s]\u001b[A\n",
      "40681it [00:01, 36510.97it/s]\u001b[A\n",
      "44478it [00:01, 36944.74it/s]\u001b[A\n",
      "48175it [00:01, 36930.40it/s]\u001b[A\n",
      "51929it [00:01, 37110.74it/s]\u001b[A\n",
      "55642it [00:01, 36804.48it/s]\u001b[A\n",
      "59403it [00:01, 37043.37it/s]\u001b[A\n",
      "63109it [00:01, 36363.39it/s]\u001b[A\n",
      "66749it [00:01, 35556.42it/s]\u001b[A\n",
      "70366it [00:01, 35732.96it/s]\u001b[A\n",
      "74113it [00:02, 36241.37it/s]\u001b[A\n",
      "79401it [00:02, 36174.58it/s]\u001b[A\n",
      " 98%|██████████████████████████████████████████████████████████████████████████████████████▏ | 98/100 [15:44<00:21, 10.95s/it]"
     ]
    },
    {
     "name": "stdout",
     "output_type": "stream",
     "text": [
      "stage two time 2.3882219791412354\n",
      "greedy time 0.05956387519836426\n",
      "basis pursuit time 8.475132942199707\n",
      "Brute force complexity 1 from D=2 and nbp=2\n",
      "Computing brute force solution for dictionary dimension 2 and target_dimension 2\n"
     ]
    },
    {
     "name": "stderr",
     "output_type": "stream",
     "text": [
      "\n",
      "1it [00:00, 2824.45it/s]\n"
     ]
    },
    {
     "name": "stdout",
     "output_type": "stream",
     "text": [
      "Computing brute force solution for dictionary dimension 2 and target_dimension 2\n"
     ]
    },
    {
     "name": "stderr",
     "output_type": "stream",
     "text": [
      "\n",
      "1it [00:00, 6657.63it/s]\n",
      " 99%|███████████████████████████████████████████████████████████████████████████████████████ | 99/100 [15:53<00:10, 10.10s/it]"
     ]
    },
    {
     "name": "stdout",
     "output_type": "stream",
     "text": [
      "stage two time 0.0033521652221679688\n",
      "greedy time 0.08296394348144531\n",
      "basis pursuit time 8.041142702102661\n",
      "Brute force complexity 3 from D=2 and nbp=3\n",
      "Computing brute force solution for dictionary dimension 3 and target_dimension 2\n"
     ]
    },
    {
     "name": "stderr",
     "output_type": "stream",
     "text": [
      "\n",
      "3it [00:00, 6061.13it/s]\n"
     ]
    },
    {
     "name": "stdout",
     "output_type": "stream",
     "text": [
      "Computing brute force solution for dictionary dimension 3 and target_dimension 2\n"
     ]
    },
    {
     "name": "stderr",
     "output_type": "stream",
     "text": [
      "\n",
      "3it [00:00, 5094.30it/s]\n",
      "100%|███████████████████████████████████████████████████████████████████████████████████████| 100/100 [16:01<00:00,  9.62s/it]"
     ]
    },
    {
     "name": "stdout",
     "output_type": "stream",
     "text": [
      "stage two time 0.004003047943115234\n",
      "greedy time 0.05353498458862305\n",
      "basis pursuit time 8.566442966461182\n"
     ]
    },
    {
     "name": "stderr",
     "output_type": "stream",
     "text": [
      "\n"
     ]
    }
   ],
   "source": [
    "D = 2\n",
    "\n",
    "losses = []\n",
    "support_cardinalities_basis_pursuit = []\n",
    "two_stage_losses = []\n",
    "random_two_stage_losses = []\n",
    "greedy_multitask_norms_two_stage = []\n",
    "brute_isometry_losses = []\n",
    "brute_losses = []\n",
    "basis_pursuit_times = []\n",
    "greedy_times = []\n",
    "stage_two_times = []\n",
    "\n",
    "for i in tqdm(range(100)):\n",
    "    (\n",
    "        loss,\n",
    "        support_cardinality_basis_pursuit,\n",
    "        two_stage_loss,\n",
    "        random_two_stage_loss,\n",
    "        greedy_multitask_norm_two_stage,\n",
    "        brute_loss,\n",
    "        brute_isometry_loss,\n",
    "        basis_pursuit_time,\n",
    "        stage_two_time,\n",
    "        greedy_time,\n",
    "    ) = analyze_data(dg_M[i], compute_brute=False, power=1.0)\n",
    "    losses.append(loss)\n",
    "    support_cardinalities_basis_pursuit.append(support_cardinality_basis_pursuit)\n",
    "    two_stage_losses.append(two_stage_loss)\n",
    "    greedy_multitask_norms_two_stage.append(greedy_multitask_norm_two_stage)\n",
    "    random_two_stage_losses.append(random_two_stage_loss)\n",
    "    brute_losses.append(brute_loss)\n",
    "    brute_isometry_losses.append(brute_isometry_loss)\n",
    "    basis_pursuit_times.append(basis_pursuit_time)\n",
    "    greedy_times.append(greedy_time)\n",
    "    stage_two_times.append(stage_two_time)\n",
    "    results_df = pd.DataFrame(\n",
    "        {\n",
    "            \"Losses\": losses,\n",
    "            \"Support Cardinalities (Basis Pursuit)\": support_cardinalities_basis_pursuit,\n",
    "            \"Two-Stage Losses\": two_stage_losses,\n",
    "            \"Random Two-Stage Losses\": random_two_stage_losses,\n",
    "            \"Greedy Multitask Norms (Two-Stage)\": greedy_multitask_norms_two_stage,\n",
    "            \"Brute Isometry Losses\": brute_isometry_losses,\n",
    "            \"Brute Losses\": brute_losses,\n",
    "            \"Basis Pursuit Times\": basis_pursuit_times,\n",
    "            \"Stage Two Times\": stage_two_times,\n",
    "            \"Greedy Times\": greedy_times,\n",
    "        }\n",
    "    )"
   ]
  },
  {
   "cell_type": "code",
   "execution_count": 27,
   "id": "79fc31f6",
   "metadata": {},
   "outputs": [],
   "source": [
    "results_df.to_csv('/Users/samsonkoelle/isometry-pursuit/experiments/ethanol_results.csv', index = None)"
   ]
  },
  {
   "cell_type": "code",
   "execution_count": null,
   "id": "9e1220b6",
   "metadata": {},
   "outputs": [],
   "source": []
  }
 ],
 "metadata": {
  "kernelspec": {
   "display_name": "isometry_pursuit",
   "language": "python",
   "name": "isometry_pursuit"
  },
  "language_info": {
   "codemirror_mode": {
    "name": "ipython",
    "version": 3
   },
   "file_extension": ".py",
   "mimetype": "text/x-python",
   "name": "python",
   "nbconvert_exporter": "python",
   "pygments_lexer": "ipython3",
   "version": "3.10.14"
  }
 },
 "nbformat": 4,
 "nbformat_minor": 5
}

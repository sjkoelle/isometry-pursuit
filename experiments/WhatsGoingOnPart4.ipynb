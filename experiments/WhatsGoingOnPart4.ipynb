{
 "cells": [
  {
   "cell_type": "markdown",
   "id": "89b73f64",
   "metadata": {},
   "source": [
    "Let's perform a full KKT calculation w.r.t. $x$ and $\\beta$.\n",
    "\n",
    "Show the KKT conditions for a basis pursuit solution to\n",
    "\\begin{align}\n",
    "\\min \\|\\beta\\|_1 \\; : \\; x \\beta = 1\n",
    "\\end{align}\n",
    "where $\\|x_{.j}|\\| \\leq 1$ are satisfied by $\\beta = [[1],[0]], x = [[1, 1/2]]$.\n",
    "\n",
    "This doesn't make sense I think because $x \\beta = 1$ is a non-convex constraint.\n",
    "In leiu of that, we can solve the similar problem\n",
    "\n",
    "\\begin{align}\n",
    "\\min_{y,\\gamma} \\|\\exp(\\gamma)\\|_1 \\; : \\; y + \\gamma = 0\n",
    "\\end{align}\n",
    "\n",
    "where  $y = \\log x, \\gamma =  \\log \\beta$ elementwise.\n",
    "\n",
    "The question is whether the constraint $x\\beta= x_1\\beta_1 + x_1\\beta_2 = 1$ is equivalent to $y + \\gamma = 0$.\n",
    "$e^{y+\\gamma} = 1 = e^{\\log x_1 + \\log \\beta_1 + \\log x_2 + \\log \\beta_2}$\n",
    "\n",
    "The key question here is whether if we solve the above problem, the initial problem is also solved."
   ]
  },
  {
   "cell_type": "markdown",
   "id": "6e0e9ea5",
   "metadata": {},
   "source": []
  },
  {
   "cell_type": "markdown",
   "id": "af6ff183",
   "metadata": {},
   "source": [
    "Okay, let's try \n",
    "\\begin{align}\n",
    "\\frac{\\partial f }{\\partial \\beta} = [1, g] \n",
    "\\end{align}\n",
    "with $g \\in [-1,1]$.\n",
    "\n",
    "$[1, g] = -[1, 1/2]^T \\Lambda$ implies $ \\Lambda = -1$ and so $g = -1/2$.\n"
   ]
  },
  {
   "cell_type": "code",
   "execution_count": null,
   "id": "07aafcee",
   "metadata": {},
   "outputs": [],
   "source": []
  }
 ],
 "metadata": {
  "kernelspec": {
   "display_name": "isometry",
   "language": "python",
   "name": "isometry"
  },
  "language_info": {
   "codemirror_mode": {
    "name": "ipython",
    "version": 3
   },
   "file_extension": ".py",
   "mimetype": "text/x-python",
   "name": "python",
   "nbconvert_exporter": "python",
   "pygments_lexer": "ipython3",
   "version": "3.10.14"
  }
 },
 "nbformat": 4,
 "nbformat_minor": 5
}

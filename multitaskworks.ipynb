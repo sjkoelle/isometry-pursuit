{
 "cells": [
  {
   "cell_type": "code",
   "execution_count": 104,
   "id": "e004e5b5",
   "metadata": {},
   "outputs": [
    {
     "name": "stdout",
     "output_type": "stream",
     "text": [
      "Number of non-zero coefficients: 2\n",
      "   Predictor  Coefficient\n",
      "0          0    -0.547627\n",
      "1          1    -0.000000\n",
      "2          2    -0.000000\n",
      "3          3    -0.799521\n",
      "4          4    -0.000000\n",
      "5          5    -0.000000\n",
      "6          6    -0.000000\n",
      "7          7    -0.000000\n",
      "8          8    -0.000000\n",
      "9          9    -0.000000\n"
     ]
    }
   ],
   "source": [
    "import numpy as np\n",
    "import pandas as pd\n",
    "from sklearn.linear_model import Lasso\n",
    "\n",
    "# Generate synthetic data for p > n situation\n",
    "np.random.seed(42)\n",
    "n, p = 3, 10  # n observations, p predictors\n",
    "\n",
    "X = np.random.randn(n, p)\n",
    "true_beta = np.zeros(p)\n",
    "true_beta[:10] = np.random.randn(10)  # Only first 10 predictors have non-zero coefficients\n",
    "y = X @ true_beta + np.random.randn(n) * 0.1  # Add a bit of noise\n",
    "\n",
    "lasso = Lasso(alpha=4e-5, tol = 1e-16, max_iter = 100000)\n",
    "\n",
    "lasso.fit(X, y)\n",
    "\n",
    "# Get the coefficients and count the number of non-zero coefficients\n",
    "lasso_coef = lasso.coef_\n",
    "non_zero_coef_count = np.sum(lasso_coef != 0)\n",
    "\n",
    "# Prepare the results\n",
    "results = pd.DataFrame({\n",
    "    'Predictor': np.arange(p),\n",
    "    'Coefficient': lasso_coef\n",
    "})\n",
    "\n",
    "print(f'Number of non-zero coefficients: {non_zero_coef_count}')\n",
    "print(results)\n"
   ]
  },
  {
   "cell_type": "code",
   "execution_count": 105,
   "id": "620250d8",
   "metadata": {},
   "outputs": [
    {
     "data": {
      "text/plain": [
       "1.347148847746439"
      ]
     },
     "execution_count": 105,
     "metadata": {},
     "output_type": "execute_result"
    }
   ],
   "source": [
    "np.abs(np.sum(lasso_coef))"
   ]
  },
  {
   "cell_type": "code",
   "execution_count": 106,
   "id": "bc3f3eb9",
   "metadata": {},
   "outputs": [
    {
     "data": {
      "text/plain": [
       "9.453301729601485e-05"
      ]
     },
     "execution_count": 106,
     "metadata": {},
     "output_type": "execute_result"
    }
   ],
   "source": [
    "np.linalg.norm(y  - lasso.predict(X))"
   ]
  },
  {
   "cell_type": "code",
   "execution_count": 108,
   "id": "a70cfeac",
   "metadata": {},
   "outputs": [
    {
     "data": {
      "text/plain": [
       "array([1.00001145, 1.00009283, 1.00007718])"
      ]
     },
     "execution_count": 108,
     "metadata": {},
     "output_type": "execute_result"
    }
   ],
   "source": [
    "y / lasso.predict(X)"
   ]
  },
  {
   "cell_type": "code",
   "execution_count": 109,
   "id": "20b29456",
   "metadata": {},
   "outputs": [
    {
     "data": {
      "text/plain": [
       "array([[ 0.49671415, -0.1382643 ,  0.64768854,  1.52302986, -0.23415337,\n",
       "        -0.23413696,  1.57921282,  0.76743473, -0.46947439,  0.54256004],\n",
       "       [-0.46341769, -0.46572975,  0.24196227, -1.91328024, -1.72491783,\n",
       "        -0.56228753, -1.01283112,  0.31424733, -0.90802408, -1.4123037 ],\n",
       "       [ 1.46564877, -0.2257763 ,  0.0675282 , -1.42474819, -0.54438272,\n",
       "         0.11092259, -1.15099358,  0.37569802, -0.60063869, -0.29169375]])"
      ]
     },
     "execution_count": 109,
     "metadata": {},
     "output_type": "execute_result"
    }
   ],
   "source": [
    "X"
   ]
  },
  {
   "cell_type": "code",
   "execution_count": 191,
   "id": "b5c082ce",
   "metadata": {},
   "outputs": [
    {
     "name": "stdout",
     "output_type": "stream",
     "text": [
      "True beta: [-0.60170661  1.85227818 -0.01349722 -1.05771093  0.82254491 -1.22084365\n",
      "  0.2088636  -1.95967012 -1.32818605  0.19686124]\n",
      "Optimized beta: [-7.72679528e-01 -5.28006418e-13 -1.24556229e-11  2.94071652e-13\n",
      " -7.59931640e-14 -3.82734109e-13 -7.89725518e-01 -1.06892844e+00\n",
      "  1.58252253e-15 -1.66774025e-12]\n"
     ]
    }
   ],
   "source": [
    "c = np.ones(2 * p)  # Objective function: minimize the sum of the z variables\n",
    "# Construct the constraint matrix for the equality y = X @ beta\n",
    "A_eq = np.hstack([X, -X])\n",
    "b_eq = y\n",
    "# Construct the constraint matrices for the inequality z >= beta and z >= -beta\n",
    "A_ineq = np.vstack([np.hstack([np.eye(p), -np.eye(p)]), np.hstack([-np.eye(p), -np.eye(p)])])\n",
    "b_ineq = np.zeros(2 * p)\n",
    "# Solve the linear programming problem\n",
    "result = linprog(c, A_ub=A_ineq, b_ub=b_ineq, A_eq=A_eq, b_eq=b_eq, method='interior-point')\n",
    "# Extract the optimized beta values\n",
    "beta_optimized = result.x[:p] - result.x[p:]\n",
    "print(\"True beta:\", true_beta)\n",
    "print(\"Optimized beta:\", beta_optimized)"
   ]
  },
  {
   "cell_type": "code",
   "execution_count": 193,
   "id": "8436aa58",
   "metadata": {},
   "outputs": [
    {
     "data": {
      "text/plain": [
       "array([8.61904990e-13, 1.31002821e-12, 6.13182824e-13, 8.12903615e-13,\n",
       "       1.47069171e-12, 1.37312080e-12, 6.06557940e-13, 1.92861604e-13,\n",
       "       1.53305084e-12, 9.03686712e-13, 7.72679528e-01, 1.83803463e-12,\n",
       "       1.30688057e-11, 5.18831963e-13, 1.54668487e-12, 1.75585491e-12,\n",
       "       7.89725518e-01, 1.06892844e+00, 1.53146832e-12, 2.57142697e-12])"
      ]
     },
     "execution_count": 193,
     "metadata": {},
     "output_type": "execute_result"
    }
   ],
   "source": [
    "result.x"
   ]
  },
  {
   "cell_type": "code",
   "execution_count": 192,
   "id": "41add610",
   "metadata": {},
   "outputs": [
    {
     "data": {
      "text/plain": [
       "array([-2.45127833,  0.82202403, -0.6251021 ])"
      ]
     },
     "execution_count": 192,
     "metadata": {},
     "output_type": "execute_result"
    }
   ],
   "source": [
    "X @ beta_optimized"
   ]
  },
  {
   "cell_type": "code",
   "execution_count": 187,
   "id": "af23d3cc",
   "metadata": {},
   "outputs": [
    {
     "data": {
      "text/plain": [
       "array([-0.77267953,  0.        ,  0.        ,  0.        ,  0.        ,\n",
       "        0.        , -0.78972552, -1.06892844,  0.        ,  0.        ])"
      ]
     },
     "execution_count": 187,
     "metadata": {},
     "output_type": "execute_result"
    }
   ],
   "source": [
    "import math\n",
    "threshold = 1e-10\n",
    "beta_optimized[np.abs(beta_optimized) < threshold] = 0\n",
    "beta_optimized"
   ]
  },
  {
   "cell_type": "code",
   "execution_count": 188,
   "id": "dadb9f88",
   "metadata": {},
   "outputs": [
    {
     "data": {
      "text/plain": [
       "<matplotlib.collections.PathCollection at 0x7fcd0d9e3b70>"
      ]
     },
     "execution_count": 188,
     "metadata": {},
     "output_type": "execute_result"
    },
    {
     "data": {
      "image/png": "[encoded data removed]",
      "text/plain": [
       "<Figure size 432x288 with 1 Axes>"
      ]
     },
     "metadata": {
      "needs_background": "light"
     },
     "output_type": "display_data"
    }
   ],
   "source": [
    "plt.scatter(lasso_coef, beta_optimized)"
   ]
  },
  {
   "cell_type": "code",
   "execution_count": 189,
   "id": "f2ead6b4",
   "metadata": {},
   "outputs": [
    {
     "data": {
      "text/plain": [
       "<matplotlib.axes._subplots.AxesSubplot at 0x7fcd0d9f70b8>"
      ]
     },
     "execution_count": 189,
     "metadata": {},
     "output_type": "execute_result"
    },
    {
     "data": {
      "image/png": "[encoded data removed]",
      "text/plain": [
       "<Figure size 432x288 with 2 Axes>"
      ]
     },
     "metadata": {
      "needs_background": "light"
     },
     "output_type": "display_data"
    }
   ],
   "source": [
    "sns.heatmap(X)"
   ]
  },
  {
   "cell_type": "code",
   "execution_count": 190,
   "id": "69035ea7",
   "metadata": {},
   "outputs": [
    {
     "data": {
      "text/plain": [
       "<matplotlib.axes._subplots.AxesSubplot at 0x7fcd0d95d358>"
      ]
     },
     "execution_count": 190,
     "metadata": {},
     "output_type": "execute_result"
    },
    {
     "data": {
      "image/png": "[encoded data removed]",
      "text/plain": [
       "<Figure size 432x288 with 2 Axes>"
      ]
     },
     "metadata": {
      "needs_background": "light"
     },
     "output_type": "display_data"
    }
   ],
   "source": [
    "sns.heatmap(A_ineq)"
   ]
  },
  {
   "cell_type": "markdown",
   "id": "abf824cc",
   "metadata": {},
   "source": [
    " \\begin{align}\n",
    " \\min_x \\ & c^T x \\\\\n",
    "        \\mbox{such that} \\ & A_{ub} x \\leq b_{ub},\\\\\n",
    "        & A_{eq} x = b_{eq},\\\\\n",
    "        & l \\leq x \\leq u ,\n",
    " \\end{align}\n",
    " \n",
    "  \\begin{align}\n",
    " \\min_x \\ & \\sum_i \\beta_i \\\\\n",
    "        \\mbox{such that} \\ & \\beta_i^+ - \\beta_i^- \\leq 0,\\\\\n",
    "        & [x,-x] \\beta = y\n",
    " \\end{align}"
   ]
  },
  {
   "cell_type": "code",
   "execution_count": 154,
   "id": "755c78ef",
   "metadata": {},
   "outputs": [],
   "source": [
    "import numpy as np\n",
    "from scipy.optimize import linprog\n",
    "\n",
    "def get_optimal_x_for_bp(A, y):\n",
    "    x_dim, y_dim = A.shape[1], y.shape[0]\n",
    "    eye = np.eye(x_dim)\n",
    "\n",
    "    obj = np.concatenate([np.zeros(x_dim), np.ones(x_dim)])\n",
    "\n",
    "    lhs_ineq = np.concatenate([np.concatenate([eye, eye], axis=1), np.concatenate([eye, -eye], axis=1)], axis=0)\n",
    "    rhs_ineq = np.zeros(2 * x_dim)\n",
    "\n",
    "    lhs_eq = np.concatenate([A, np.zeros((y_dim, x_dim))], axis=1)\n",
    "    rhs_eq = y\n",
    "\n",
    "    bnd = [*((None, None) for _ in range(x_dim)), *((0, None) for _ in range(x_dim))]\n",
    "\n",
    "    res = linprog(c=obj, A_ub=lhs_ineq, b_ub=rhs_ineq, A_eq=lhs_eq, b_eq=rhs_eq, bounds=bnd, method=\"revised simplex\",options = {'tol': 1e-16})\n",
    "    return res.x[:x_dim]"
   ]
  },
  {
   "cell_type": "code",
   "execution_count": 155,
   "id": "5a4fb692",
   "metadata": {},
   "outputs": [],
   "source": [
    "betas = get_optimal_x_for_bp(X,y)"
   ]
  },
  {
   "cell_type": "code",
   "execution_count": 156,
   "id": "b9c198fc",
   "metadata": {},
   "outputs": [
    {
     "data": {
      "text/plain": [
       "array([-0.55050732,  0.        ,  0.        , -0.57498042,  0.        ,\n",
       "        0.        ,  0.        , -1.69671916,  0.        ,  0.        ])"
      ]
     },
     "execution_count": 156,
     "metadata": {},
     "output_type": "execute_result"
    }
   ],
   "source": [
    "betas"
   ]
  },
  {
   "cell_type": "code",
   "execution_count": 148,
   "id": "b4865c2a",
   "metadata": {},
   "outputs": [
    {
     "data": {
      "text/plain": [
       "2.8222068968442464"
      ]
     },
     "execution_count": 148,
     "metadata": {},
     "output_type": "execute_result"
    }
   ],
   "source": [
    "np.abs(np.sum(betas))"
   ]
  },
  {
   "cell_type": "code",
   "execution_count": 149,
   "id": "e580ac7d",
   "metadata": {},
   "outputs": [
    {
     "data": {
      "text/plain": [
       "1.5700924586837752e-16"
      ]
     },
     "execution_count": 149,
     "metadata": {},
     "output_type": "execute_result"
    }
   ],
   "source": [
    "np.linalg.norm(y - X @ betas )"
   ]
  },
  {
   "cell_type": "code",
   "execution_count": 150,
   "id": "72561a44",
   "metadata": {},
   "outputs": [
    {
     "data": {
      "text/plain": [
       "array([-0.55050732,  0.        ,  0.        , -0.57498042,  0.        ,\n",
       "        0.        ,  0.        , -1.69671916,  0.        ,  0.        ])"
      ]
     },
     "execution_count": 150,
     "metadata": {},
     "output_type": "execute_result"
    }
   ],
   "source": [
    "betas"
   ]
  },
  {
   "cell_type": "code",
   "execution_count": 64,
   "id": "5862c4ea",
   "metadata": {},
   "outputs": [
    {
     "ename": "ModuleNotFoundError",
     "evalue": "No module named 'cvxpy'",
     "output_type": "error",
     "traceback": [
      "\u001b[0;31m-------------------------------------------------------------\u001b[0m",
      "\u001b[0;31mModuleNotFoundError\u001b[0m         Traceback (most recent call last)",
      "\u001b[0;32m<ipython-input-64-3dee1174be58>\u001b[0m in \u001b[0;36m<module>\u001b[0;34m\u001b[0m\n\u001b[0;32m----> 1\u001b[0;31m \u001b[0;32mimport\u001b[0m \u001b[0mcvxpy\u001b[0m \u001b[0;32mas\u001b[0m \u001b[0mcp\u001b[0m\u001b[0;34m\u001b[0m\u001b[0;34m\u001b[0m\u001b[0m\n\u001b[0m\u001b[1;32m      2\u001b[0m \u001b[0;31m# import numpy as np\u001b[0m\u001b[0;34m\u001b[0m\u001b[0;34m\u001b[0m\u001b[0;34m\u001b[0m\u001b[0m\n\u001b[1;32m      3\u001b[0m \u001b[0;34m\u001b[0m\u001b[0m\n\u001b[1;32m      4\u001b[0m \u001b[0;34m\u001b[0m\u001b[0m\n\u001b[1;32m      5\u001b[0m \u001b[0;31m# # Define the optimization variable\u001b[0m\u001b[0;34m\u001b[0m\u001b[0;34m\u001b[0m\u001b[0;34m\u001b[0m\u001b[0m\n",
      "\u001b[0;31mModuleNotFoundError\u001b[0m: No module named 'cvxpy'"
     ]
    }
   ],
   "source": [
    "import cvxpy as cp\n",
    "# import numpy as np\n",
    "\n",
    "\n",
    "# # Define the optimization variable\n",
    "# x = cp.Variable(X.shape[1])\n",
    "\n",
    "# # Define the objective function\n",
    "# objective = cp.Minimize(cp.norm(x, 1))\n",
    "\n",
    "# # Define the constraints\n",
    "# constraints = [X @ x == b]\n",
    "\n",
    "# # Form and solve the problem\n",
    "# problem = cp.Problem(objective, constraints)\n",
    "# result = problem.solve()\n",
    "\n",
    "# # The optimized x\n",
    "# x_optimized = x.value\n",
    "\n",
    "# print(\"Optimized x:\", x_optimized)\n"
   ]
  },
  {
   "cell_type": "code",
   "execution_count": 55,
   "id": "a0f0bd43",
   "metadata": {},
   "outputs": [
    {
     "data": {
      "text/plain": [
       "3.4155971494245918e-12"
      ]
     },
     "execution_count": 55,
     "metadata": {},
     "output_type": "execute_result"
    }
   ],
   "source": [
    "np.linalg.norm(y - X@ beta_optimized )"
   ]
  },
  {
   "cell_type": "code",
   "execution_count": 56,
   "id": "77957ef5",
   "metadata": {},
   "outputs": [
    {
     "data": {
      "text/plain": [
       "2.631333490109379"
      ]
     },
     "execution_count": 56,
     "metadata": {},
     "output_type": "execute_result"
    }
   ],
   "source": [
    "np.sum(np.abs(beta_optimized))"
   ]
  },
  {
   "cell_type": "code",
   "execution_count": 58,
   "id": "8df4f5fa",
   "metadata": {},
   "outputs": [
    {
     "data": {
      "text/plain": [
       "array([[1., 0., 0., 0., 0., 0., 0., 0., 0., 0.],\n",
       "       [0., 1., 0., 0., 0., 0., 0., 0., 0., 0.],\n",
       "       [0., 0., 1., 0., 0., 0., 0., 0., 0., 0.],\n",
       "       [0., 0., 0., 1., 0., 0., 0., 0., 0., 0.],\n",
       "       [0., 0., 0., 0., 1., 0., 0., 0., 0., 0.],\n",
       "       [0., 0., 0., 0., 0., 1., 0., 0., 0., 0.],\n",
       "       [0., 0., 0., 0., 0., 0., 1., 0., 0., 0.],\n",
       "       [0., 0., 0., 0., 0., 0., 0., 1., 0., 0.],\n",
       "       [0., 0., 0., 0., 0., 0., 0., 0., 1., 0.],\n",
       "       [0., 0., 0., 0., 0., 0., 0., 0., 0., 1.]])"
      ]
     },
     "execution_count": 58,
     "metadata": {},
     "output_type": "execute_result"
    }
   ],
   "source": [
    "np.eye(p)"
   ]
  },
  {
   "cell_type": "code",
   "execution_count": null,
   "id": "f635c242",
   "metadata": {},
   "outputs": [],
   "source": [
    "#plot penalty versus error (only shrinkage since small d)"
   ]
  },
  {
   "cell_type": "code",
   "execution_count": 4,
   "id": "b73ac293",
   "metadata": {},
   "outputs": [
    {
     "name": "stdout",
     "output_type": "stream",
     "text": [
      "Help on package montlake:\n",
      "\n",
      "NAME\n",
      "    montlake\n",
      "\n",
      "PACKAGE CONTENTS\n",
      "    None\n",
      "    _nbdev\n",
      "    atomgeom (package)\n",
      "    core\n",
      "    exec (package)\n",
      "    geometry (package)\n",
      "    gradients (package)\n",
      "    mflasso (package)\n",
      "    optimization (package)\n",
      "    plotting (package)\n",
      "    simulations (package)\n",
      "    statistics (package)\n",
      "    tslasso (package)\n",
      "    utils (package)\n",
      "    vendor (package)\n",
      "\n",
      "VERSION\n",
      "    0.0.1\n",
      "\n",
      "FILE\n",
      "    /Users/samsonkoelle/miniconda3/envs/montlake_xxx/lib/python3.6/site-packages/montlake/__init__.py\n",
      "\n",
      "\n"
     ]
    }
   ],
   "source": [
    "# show singular value error versus sparsity parametrized by lambda\n",
    "import montlake\n",
    "help(montlake)"
   ]
  },
  {
   "cell_type": "code",
   "execution_count": 6,
   "id": "e1cdc149",
   "metadata": {},
   "outputs": [],
   "source": [
    "# AUTOGENERATED! DO NOT EDIT! File to edit: nbs/optimization.gradientgrouplasso.ipynb (unless otherwise specified).\n",
    "\n",
    "__all__ = ['GradientGroupLasso', 'get_sr_lambda_parallel', 'batch_stream']\n",
    "\n",
    "# Cell\n",
    "#loosely inspired by the pyglmnet package\n",
    "from einops import rearrange\n",
    "#import autograd.numpy as np\n",
    "import numpy as np\n",
    "\n",
    "class GradientGroupLasso:\n",
    "\n",
    "    def __init__(self, dg_M, df_M, reg_l1s, reg_l2, max_iter,learning_rate, tol, beta0_npm= None):\n",
    "\n",
    "        n = dg_M.shape[0]\n",
    "        d= dg_M.shape[1]\n",
    "        m = df_M.shape[2]\n",
    "        p = dg_M.shape[2]\n",
    "        dummy_beta = np.ones((n,p,m))\n",
    "\n",
    "        self.dg_M = dg_M\n",
    "        self.df_M = df_M\n",
    "        self.reg_l1s = reg_l1s\n",
    "        self.reg_l2 = reg_l2\n",
    "        self.beta0_npm = beta0_npm\n",
    "        self.n = n\n",
    "        self.p = p\n",
    "        self.m = m\n",
    "        self.d = d\n",
    "        self.dummy_beta = dummy_beta\n",
    "        #self.group = np.asarray(group)\n",
    "        self.max_iter = max_iter\n",
    "        self.learning_rate = learning_rate\n",
    "        self.tol = tol\n",
    "        self.Tau = None\n",
    "        self.alpha = 1.\n",
    "        self.lossresults = {}\n",
    "        self.dls = {}\n",
    "        self.l2loss = {}\n",
    "        self.penalty = {}\n",
    "\n",
    "    def _prox(self,beta_npm, thresh):\n",
    "        \"\"\"Proximal operator.\"\"\"\n",
    "\n",
    "        p = self.p\n",
    "        result = np.zeros(beta_npm.shape)\n",
    "        result = np.asarray(result, dtype = float)\n",
    "        for j in range(p):\n",
    "            if np.linalg.norm(beta_npm[:,j,:]) > 0.:\n",
    "                potentialoutput = beta_npm[:,j,:] - (thresh / np.linalg.norm(beta_npm[:,j,:])) * beta_npm[:,j,:]\n",
    "                posind = np.asarray(np.where(beta_npm[:,j,:] > 0.))\n",
    "                negind = np.asarray(np.where(beta_npm[:,j,:] < 0.))\n",
    "                po = beta_npm[:,j,:].copy()\n",
    "                po[posind[0],posind[1]] = np.asarray(np.clip(potentialoutput[posind[0],posind[1]],a_min = 0., a_max = 1e15), dtype = float)\n",
    "                po[negind[0],negind[1]] = np.asarray(np.clip(potentialoutput[negind[0],negind[1]],a_min = -1e15, a_max = 0.), dtype = float)\n",
    "                result[:,j,:] = po\n",
    "        return result\n",
    "\n",
    "    def _grad_L2loss(self, beta_npm):\n",
    "\n",
    "        df_M = self.df_M\n",
    "        dg_M = self.dg_M\n",
    "        reg_l2 = self.reg_l2\n",
    "        dummy_beta = self.dummy_beta\n",
    "\n",
    "        df_M_hat = np.einsum('ndp,npm->ndm',dg_M, beta_npm)\n",
    "        error = df_M_hat - df_M\n",
    "        grad_beta = np.einsum('ndm,ndp->npm',error,dg_M) #+ reg_l2 * np.ones()\n",
    "        #if\n",
    "        return grad_beta\n",
    "\n",
    "    def _L1penalty(self, beta_npm):\n",
    "\n",
    "        p = self.p\n",
    "        m = self.m\n",
    "        n = self.n\n",
    "        beta_mn_p = rearrange(beta_npm, 'n p m -> (m n) p')#np.reshape(beta_mnp, ((m*n,p)))\n",
    "        L1penalty = np.linalg.norm(beta_mn_p, axis = 0).sum()\n",
    "\n",
    "        return L1penalty\n",
    "\n",
    "    def _loss(self,beta_npm, reg_lambda):\n",
    "        \"\"\"Define the objective function for elastic net.\"\"\"\n",
    "        L = self._logL(beta_npm)\n",
    "        P = self._L1penalty(beta_npm)\n",
    "        J = -L + reg_lambda * P\n",
    "        return J\n",
    "\n",
    "    def _logL(self,beta_npm):\n",
    "\n",
    "        df_M = self.df_M\n",
    "        dg_M = self.dg_M\n",
    "\n",
    "        df_M_hat = np.einsum('ndp,npm -> ndm',dg_M, beta_npm)\n",
    "        logL = -0.5 * np.linalg.norm((df_M - df_M_hat))**2\n",
    "        return(logL)\n",
    "\n",
    "    def _L2loss(self,beta_npm):\n",
    "        output = -self._logL(beta_npm)\n",
    "        return(output)\n",
    "\n",
    "    def fhatlambda(self,learning_rate,beta_npm_new,beta_npm_old):\n",
    "\n",
    "        #print('lr',learning_rate)\n",
    "        output = self._L2loss(beta_npm_old) + np.einsum('npm,npm', self._grad_L2loss(beta_npm_old),(beta_npm_new-beta_npm_old)) + (1/(2*learning_rate)) * np.linalg.norm(beta_npm_new-beta_npm_old)**2\n",
    "\n",
    "        return(output)\n",
    "\n",
    "    def _btalgorithm(self,beta_npm ,learning_rate,b,maxiter_bt,rl):\n",
    "\n",
    "        grad_beta = self._grad_L2loss(beta_npm = beta_npm)\n",
    "        for i in range(maxiter_bt):\n",
    "            beta_npm_postgrad = beta_npm - learning_rate * grad_beta\n",
    "            beta_npm_postgrad_postprox = self._prox(beta_npm_postgrad, learning_rate * rl)\n",
    "            fz = self._L2loss(beta_npm_postgrad_postprox)\n",
    "            #fhatz = self.fhatlambda(lam,beta_npm_postgrad_postprox, beta_npm_postgrad)\n",
    "            fhatz = self.fhatlambda(learning_rate,beta_npm_postgrad_postprox, beta_npm)\n",
    "            if fz <= fhatz:\n",
    "                #print(i)\n",
    "                break\n",
    "            learning_rate = b*learning_rate\n",
    "\n",
    "        return(beta_npm_postgrad_postprox,learning_rate)\n",
    "\n",
    "    \n",
    "    def _cdfast(self, X, y, ActiveSet, beta, rl, fit_intercept=True):\n",
    " \n",
    "        n, d, p = X.shape\n",
    "        #reg_scale = rl * (1 - self.alpha) # the fuck is this?\n",
    "#         z = _z(beta[0], beta[1:], X, fit_intercept)\n",
    "        z = np.einsum('n d p, n p m -> n d m', X, beta) # n will typically be 1 for the case I'm working on rn\n",
    "        for k in range( p):\n",
    "            for j in range(d):\n",
    "                # Only update parameters in active set\n",
    "                if ActiveSet[k,j] != 0:\n",
    "\n",
    "                    xk = X[:, :,k ] # need to update one coordinate at a time w.r.t both p and m\n",
    "\n",
    "                    # Calculate grad and hess of log likelihood term\n",
    "                    gk, hk = _gradhess_logloss_1d(xk, y[:,:,j], z, self.eta,\n",
    "                                                  self.theta, fit_intercept)\n",
    "\n",
    "                    # Add grad and hess of regularization term\n",
    "                    if self.Tau is None:\n",
    "                        gk_reg, hk_reg = beta[k], 1.0\n",
    "                    else:\n",
    "                        InvCov = np.dot(self.Tau.T, self.Tau)\n",
    "                        gk_reg = np.sum(InvCov[k, :] * beta)\n",
    "                        hk_reg = InvCov[k, k]\n",
    "                    gk += reg_scale * gk_reg\n",
    "                    hk += reg_scale * hk_reg\n",
    "\n",
    "                    # Ensure that update does not blow up if Hessian is small\n",
    "                    update = 1. / hk * gk if hk > 1. else self.learning_rate * gk\n",
    "\n",
    "                    # Update parameters, z\n",
    "                    beta[:,j,k], z = beta[:,j,k] - update, z - update * xk\n",
    "        return beta\n",
    "\n",
    "    def fit(self, beta0_npm = None):\n",
    "\n",
    "        reg_l1s = self.reg_l1s\n",
    "        n = self.n\n",
    "        m = self.m\n",
    "        p = self.p\n",
    "\n",
    "        dg_M = self.dg_M\n",
    "        df_M = self.df_M\n",
    "\n",
    "        tol = self.tol\n",
    "        np.random.RandomState(0)\n",
    "\n",
    "        if beta0_npm is None:\n",
    "            beta_npm_hat = 1 / (n*m*p) * np.random.normal(0.0, 1.0, [n, p,m])\n",
    "            #1 / (n_features) * np.random.normal(0.0, 1.0, [n_features, n_classes])\n",
    "        else:\n",
    "            beta_npm_hat = beta0_npm\n",
    "\n",
    "        fit_params = list()\n",
    "        for l, lambda_ in enumerate(reg_l1s):\n",
    "            fit_params.append({'beta': beta_npm_hat})\n",
    "            if l == 0:\n",
    "                fit_params[-1]['beta'] = beta_npm_hat\n",
    "            else:\n",
    "                fit_params[-1]['beta'] = fit_params[-2]['beta']\n",
    "\n",
    "            alpha = 1.\n",
    "            beta_npm_hat = fit_params[-1]['beta']\n",
    "            #g = np.zeros([n_features, n_classes])\n",
    "            L, DL ,L2,PEN = list(), list() , list(), list()\n",
    "            learning_rate = self.learning_rate\n",
    "            beta_npm_hat_1 = beta_npm_hat.copy()\n",
    "            beta_npm_hat_2 = beta_npm_hat.copy()\n",
    "            for t in range(0, self.max_iter):\n",
    "                #print(t,l,rl)\n",
    "                #print(t)\n",
    "                L.append(self._loss(beta_npm_hat, lambda_))\n",
    "                L2.append(self._L2loss(beta_npm_hat))\n",
    "                PEN.append(self._L1penalty(beta_npm_hat))\n",
    "                self._cdfast(X, y, ActiveSet, beta, lambda_,\n",
    "                             self.fit_intercept)\n",
    "                beta = self._prox(beta, self.learning_rate * reg_lambda)\n",
    "                ActiveSet[beta == 0] = 0\n",
    "                \n",
    "                # Convergence by relative parameter change tolerance\n",
    "                norm_update = np.linalg.norm(beta - beta_old)\n",
    "                norm_update /= np.linalg.norm(beta)\n",
    "                self._convergence.append(norm_update)\n",
    "                if t > 1 and self._convergence[-1] < tol:\n",
    "                    msg = ('\\tParameter update tolerance. ' +\n",
    "                           'Converged in {0:d} iterations'.format(t))\n",
    "                    _tqdm_log(msg)\n",
    "                    break\n",
    "\n",
    "                # Compute and save loss if callbacks are requested\n",
    "                if callable(self.callback):\n",
    "                    self.callback(beta)\n",
    "#                 w = (t / (t+ 3))\n",
    "#                 beta_npm_hat_momentumguess = beta_npm_hat + w*(beta_npm_hat_1 - beta_npm_hat_2)\n",
    "\n",
    "#                 beta_npm_hat , learning_rate = self._btalgorithm(beta_npm_hat_momentumguess,learning_rate,.5,1000, rl)\n",
    "#                 #print(beta_npm_hat_momentumguess.max(), beta_npm_hat.max(),self._L2loss(beta_npm_hat), learning_rate)\n",
    "#                 beta_npm_hat_2 = beta_npm_hat_1.copy()\n",
    "#                 beta_npm_hat_1 = beta_npm_hat.copy()\n",
    "\n",
    "#                 if t > 1:\n",
    "#                     DL.append(L[-1] - L[-2])\n",
    "#                     if np.abs(DL[-1] / L[-1]) < tol:\n",
    "#                         print('converged', rl)\n",
    "#                         msg = ('\\tConverged. Loss function:'\n",
    "#                                ' {0:.2f}').format(L[-1])\n",
    "#                         msg = ('\\tdL/L: {0:.6f}\\n'.format(DL[-1] / L[-1]))\n",
    "#                         break\n",
    "\n",
    "            fit_params[-1]['beta'] = beta_npm_hat\n",
    "            self.lossresults[lambda_] = L\n",
    "            self.l2loss[lambda_] = L2\n",
    "            self.penalty[lambda_] = PEN\n",
    "            self.dls[lambda_] = DL\n",
    "\n",
    "        self.fit_ = fit_params\n",
    "        #self.ynull_ = np.mean(y)\n",
    "\n",
    "        return self\n",
    "\n",
    "from einops import rearrange\n",
    "import numpy as np"
   ]
  },
  {
   "cell_type": "code",
   "execution_count": 8,
   "id": "8e5bcc70",
   "metadata": {},
   "outputs": [],
   "source": [
    "\n",
    "\n",
    "def _gradhess_logloss_1d(xk, y, z, eta, theta, fit_intercept=True):\n",
    "    \"\"\"\n",
    "    Compute gradient (1st derivative)\n",
    "    and Hessian (2nd derivative)\n",
    "    of log likelihood for a single coordinate.\n",
    "\n",
    "    Parameters\n",
    "    ----------\n",
    "    xk: float\n",
    "        (n_samples,)\n",
    "    y: float\n",
    "        (n_samples,)\n",
    "    z: float\n",
    "        (n_samples,)\n",
    "\n",
    "    Returns\n",
    "    -------\n",
    "    gk: gradient, float:\n",
    "        (n_features + 1,)\n",
    "    hk: float:\n",
    "        (n_features + 1,)\n",
    "    \"\"\"\n",
    "    n_samples = xk.shape[0]\n",
    "\n",
    "\n",
    "    gk = np.sum((z - y) * xk)\n",
    "    hk = np.sum(xk * xk)\n",
    "\n",
    "    return 1. / n_samples * gk, 1. / n_samples * hk\n",
    "\n"
   ]
  },
  {
   "cell_type": "code",
   "execution_count": 9,
   "id": "2ca9039f",
   "metadata": {},
   "outputs": [
    {
     "ename": "NameError",
     "evalue": "name 'self' is not defined",
     "output_type": "error",
     "traceback": [
      "\u001b[0;31m-------------------------------------------------------------\u001b[0m",
      "\u001b[0;31mNameError\u001b[0m                   Traceback (most recent call last)",
      "\u001b[0;32m<ipython-input-9-9f13687bd43c>\u001b[0m in \u001b[0;36m<module>\u001b[0;34m\u001b[0m\n\u001b[0;32m----> 1\u001b[0;31m self._cdfast(X, y, ActiveSet, beta, reg_lambda,\n\u001b[0m\u001b[1;32m      2\u001b[0m              self.fit_intercept)\n",
      "\u001b[0;31mNameError\u001b[0m: name 'self' is not defined"
     ]
    }
   ],
   "source": [
    "self._cdfast(X, y, ActiveSet, beta, reg_lambda,\n",
    "             self.fit_intercept)"
   ]
  },
  {
   "cell_type": "code",
   "execution_count": null,
   "id": "0d2013fe",
   "metadata": {},
   "outputs": [],
   "source": [
    "# what we call group lasso is in fact multitask lasso"
   ]
  },
  {
   "cell_type": "code",
   "execution_count": 10,
   "id": "f32e9e55",
   "metadata": {},
   "outputs": [],
   "source": [
    "import numpy as np\n",
    "\n",
    "rng = np.random.RandomState(42)\n",
    "\n",
    "# Generate some 2D coefficients with sine waves with random frequency and phase\n",
    "n_samples, n_features, n_tasks = 100, 30, 40\n",
    "n_relevant_features = 5\n",
    "coef = np.zeros((n_tasks, n_features))\n",
    "times = np.linspace(0, 2 * np.pi, n_tasks)\n",
    "for k in range(n_relevant_features):\n",
    "    coef[:, k] = np.sin((1.0 + rng.randn(1)) * times + 3 * rng.randn(1))\n",
    "\n",
    "X = rng.randn(n_samples, n_features)\n",
    "Y = np.dot(X, coef.T) + rng.randn(n_samples, n_tasks)"
   ]
  },
  {
   "cell_type": "code",
   "execution_count": 11,
   "id": "5e712c29",
   "metadata": {},
   "outputs": [],
   "source": [
    "from sklearn.linear_model import Lasso, MultiTaskLasso\n",
    "\n",
    "coef_lasso_ = np.array([Lasso(alpha=0.5).fit(X, y).coef_ for y in Y.T])\n",
    "coef_multi_task_lasso_ = MultiTaskLasso(alpha=1.0).fit(X, Y).coef_"
   ]
  },
  {
   "cell_type": "code",
   "execution_count": 15,
   "id": "c9dd5d88",
   "metadata": {},
   "outputs": [
    {
     "data": {
      "text/plain": [
       "<matplotlib.axes._subplots.AxesSubplot at 0x7fcd2a411a58>"
      ]
     },
     "execution_count": 15,
     "metadata": {},
     "output_type": "execute_result"
    },
    {
     "data": {
      "image/png": "[encoded data removed]",
      "text/plain": [
       "<Figure size 432x288 with 2 Axes>"
      ]
     },
     "metadata": {
      "needs_background": "light"
     },
     "output_type": "display_data"
    }
   ],
   "source": [
    "import seaborn as sns\n",
    "sns.heatmap(coef_multi_task_lasso_)"
   ]
  },
  {
   "cell_type": "code",
   "execution_count": 12,
   "id": "bd170213",
   "metadata": {},
   "outputs": [
    {
     "data": {
      "image/png": "[encoded data removed]",
      "text/plain": [
       "<Figure size 576x360 with 2 Axes>"
      ]
     },
     "metadata": {
      "needs_background": "light"
     },
     "output_type": "display_data"
    },
    {
     "data": {
      "image/png": "[encoded data removed]",
      "text/plain": [
       "<Figure size 432x288 with 1 Axes>"
      ]
     },
     "metadata": {
      "needs_background": "light"
     },
     "output_type": "display_data"
    }
   ],
   "source": [
    "import matplotlib.pyplot as plt\n",
    "\n",
    "fig = plt.figure(figsize=(8, 5))\n",
    "plt.subplot(1, 2, 1)\n",
    "plt.spy(coef_lasso_)\n",
    "plt.xlabel(\"Feature\")\n",
    "plt.ylabel(\"Time (or Task)\")\n",
    "plt.text(10, 5, \"Lasso\")\n",
    "plt.subplot(1, 2, 2)\n",
    "plt.spy(coef_multi_task_lasso_)\n",
    "plt.xlabel(\"Feature\")\n",
    "plt.ylabel(\"Time (or Task)\")\n",
    "plt.text(10, 5, \"MultiTaskLasso\")\n",
    "fig.suptitle(\"Coefficient non-zero location\")\n",
    "\n",
    "feature_to_plot = 0\n",
    "plt.figure()\n",
    "lw = 2\n",
    "plt.plot(coef[:, feature_to_plot], color=\"seagreen\", linewidth=lw, label=\"Ground truth\")\n",
    "plt.plot(\n",
    "    coef_lasso_[:, feature_to_plot], color=\"cornflowerblue\", linewidth=lw, label=\"Lasso\"\n",
    ")\n",
    "plt.plot(\n",
    "    coef_multi_task_lasso_[:, feature_to_plot],\n",
    "    color=\"gold\",\n",
    "    linewidth=lw,\n",
    "    label=\"MultiTaskLasso\",\n",
    ")\n",
    "plt.legend(loc=\"upper center\")\n",
    "plt.axis(\"tight\")\n",
    "plt.ylim([-1.1, 1.1])\n",
    "plt.show()"
   ]
  },
  {
   "cell_type": "code",
   "execution_count": 22,
   "id": "14381ada",
   "metadata": {},
   "outputs": [],
   "source": [
    "mtl =  MultiTaskLasso(alpha=1.0)\n",
    "??mtl.fit"
   ]
  },
  {
   "cell_type": "code",
   "execution_count": null,
   "id": "eaec1ea1",
   "metadata": {},
   "outputs": [],
   "source": []
  }
 ],
 "metadata": {
  "kernelspec": {
   "display_name": "Python (montlake)",
   "language": "python",
   "name": "montlake_xxx"
  },
  "language_info": {
   "codemirror_mode": {
    "name": "ipython",
    "version": 3
   },
   "file_extension": ".py",
   "mimetype": "text/x-python",
   "name": "python",
   "nbconvert_exporter": "python",
   "pygments_lexer": "ipython3",
   "version": "3.6.13"
  }
 },
 "nbformat": 4,
 "nbformat_minor": 5
}
